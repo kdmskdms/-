{
 "cells": [
  {
   "cell_type": "code",
   "execution_count": 9,
   "id": "ddec7e6b",
   "metadata": {},
   "outputs": [
    {
     "name": "stdout",
     "output_type": "stream",
     "text": [
      "['Python', 'is', 'the', 'best', 'programming', 'language']\n",
      "['Py', 'hon is ', 'he bes', ' programming language']\n",
      "['Python ', 's the best programm', 'ng language']\n"
     ]
    }
   ],
   "source": [
    "#spilt() 메소드\n",
    "str5 = \"Python is the best programming language\"\n",
    "print(str5.split(\" \"))\n",
    "print(str5.split(\"t\"))\n",
    "print(str5.split(\"i\"))"
   ]
  },
  {
   "cell_type": "code",
   "execution_count": 11,
   "id": "594debb4",
   "metadata": {},
   "outputs": [
    {
     "name": "stdout",
     "output_type": "stream",
     "text": [
      "p_y_t_h_o_n_ _p_r_o_g_r_a_m_m_i_n_g\n",
      "p00y00t00h00o00n00 00p00r00o00g00r00a00m00m00i00n00g\n"
     ]
    }
   ],
   "source": [
    "#join 메소드\n",
    "#문자열 구분\n",
    "str8 =\"python programming\"\n",
    "print(\"_\".join(str8))\n",
    "print(\"00\".join(str8))"
   ]
  },
  {
   "cell_type": "code",
   "execution_count": 13,
   "id": "dd30a00b",
   "metadata": {},
   "outputs": [
    {
     "name": "stdout",
     "output_type": "stream",
     "text": [
      "Python is the best programming language\n",
      "Python.is.the.best.programming.language\n"
     ]
    }
   ],
   "source": [
    "str9 =['Python', 'is', 'the', 'best', 'programming', 'language']\n",
    "print(\" \".join(str9))\n",
    "print(\".\".join(str9))"
   ]
  },
  {
   "cell_type": "code",
   "execution_count": 22,
   "id": "16e29ee6",
   "metadata": {},
   "outputs": [
    {
     "name": "stdout",
     "output_type": "stream",
     "text": [
      "-- replace 전 --\n",
      "str10: Python is the best programming language\n",
      "str10: Python is the best programming language\n",
      "str11 Python is one of the best programming language\n",
      "id(str10): 3094231637040\n",
      "id(str11): 3094230509776\n"
     ]
    }
   ],
   "source": [
    "#replace(old, new)\n",
    "str10 = \"Python is the best programming language\"\n",
    "print(\"-- replace 전 --\")\n",
    "print(\"str10:\",str10)\n",
    "str10.replace(\"the best\", \"one of the\")\n",
    "print(\"str10:\", str10)\n",
    "str11 = str10.replace(\"the best\", \"one of the best\")\n",
    "print(\"str11\", str11)\n",
    "print(\"id(str10):\",id(str10))\n",
    "print(\"id(str11):\",id(str11))"
   ]
  },
  {
   "cell_type": "code",
   "execution_count": null,
   "id": "9a6c5544",
   "metadata": {},
   "outputs": [],
   "source": []
  }
 ],
 "metadata": {
  "kernelspec": {
   "display_name": "Python 3 (ipykernel)",
   "language": "python",
   "name": "python3"
  },
  "language_info": {
   "codemirror_mode": {
    "name": "ipython",
    "version": 3
   },
   "file_extension": ".py",
   "mimetype": "text/x-python",
   "name": "python",
   "nbconvert_exporter": "python",
   "pygments_lexer": "ipython3",
   "version": "3.9.7"
  }
 },
 "nbformat": 4,
 "nbformat_minor": 5
}
