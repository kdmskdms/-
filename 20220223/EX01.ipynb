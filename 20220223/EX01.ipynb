{
 "cells": [
  {
   "cell_type": "markdown",
   "id": "5d01be97",
   "metadata": {},
   "source": [
    "####\n",
    "'''\n",
    "여러줄\n",
    "주석\n",
    "'''\n",
    "* b : 추가\n",
    "* a : 위로 생성\n"
   ]
  },
  {
   "cell_type": "code",
   "execution_count": 2,
   "id": "c673f011",
   "metadata": {},
   "outputs": [
    {
     "name": "stdout",
     "output_type": "stream",
     "text": [
      "version : 3.9.7 (default, Sep 16 2021, 16:59:28) [MSC v.1916 64 bit (AMD64)]\n"
     ]
    }
   ],
   "source": [
    "import sys\n",
    "print(\"version :\", sys.version)"
   ]
  },
  {
   "cell_type": "code",
   "execution_count": 4,
   "id": "34500744",
   "metadata": {},
   "outputs": [
    {
     "name": "stdout",
     "output_type": "stream",
     "text": [
      "num3 : 3\n",
      "----------------------------------------\n",
      "id(num1): 1927557769520\n",
      "id(num2): 1927557769552\n"
     ]
    }
   ],
   "source": [
    "num1 = 1\n",
    "num2 = 2\n",
    "num3 = num1 + num2\n",
    "print(\"num3 :\",num3)\n",
    "print(\"-\" * 40)\n",
    "\n",
    "print(\"id(num1):\",id(num1))\n",
    "print(\"id(num2):\",id(num2))"
   ]
  },
  {
   "cell_type": "code",
   "execution_count": 5,
   "id": "80092f38",
   "metadata": {},
   "outputs": [
    {
     "name": "stdout",
     "output_type": "stream",
     "text": [
      "number : 111\n",
      "number : 222\n",
      "number : 333\n",
      "number : 444\n",
      "number : 555\n"
     ]
    }
   ],
   "source": [
    "number = 111\n",
    "print(\"number :\",number)\n",
    "number = 222\n",
    "print(\"number :\",number)\n",
    "number = 333\n",
    "print(\"number :\",number)\n",
    "number = 444\n",
    "print(\"number :\",number)\n",
    "number = 555\n",
    "print(\"number :\",number)"
   ]
  },
  {
   "cell_type": "code",
   "execution_count": 6,
   "id": "753fd475",
   "metadata": {},
   "outputs": [
    {
     "name": "stdout",
     "output_type": "stream",
     "text": [
      "number : 111\n"
     ]
    }
   ],
   "source": [
    "number = 111\n",
    "print(\"number :\",number)"
   ]
  },
  {
   "cell_type": "code",
   "execution_count": 7,
   "id": "3d8cf7c5",
   "metadata": {},
   "outputs": [
    {
     "name": "stdout",
     "output_type": "stream",
     "text": [
      "안녕하세요 글로벌 학원입니다\n"
     ]
    }
   ],
   "source": [
    "print(\"안녕하세요 글로벌 학원입니다\")"
   ]
  },
  {
   "cell_type": "code",
   "execution_count": 8,
   "id": "8903be21",
   "metadata": {},
   "outputs": [
    {
     "name": "stdout",
     "output_type": "stream",
     "text": [
      "안녕하게요 '글로벌' 학원입니다\n"
     ]
    }
   ],
   "source": [
    "print(\"안녕하게요 '글로벌' 학원입니다\")"
   ]
  },
  {
   "cell_type": "code",
   "execution_count": 9,
   "id": "6b233671",
   "metadata": {},
   "outputs": [
    {
     "name": "stdout",
     "output_type": "stream",
     "text": [
      "안녕하세요 \"글로벌\" 학원입니다\n"
     ]
    }
   ],
   "source": [
    "print(\"안녕하세요 \\\"글로벌\\\" 학원입니다\")"
   ]
  },
  {
   "cell_type": "code",
   "execution_count": 11,
   "id": "8e231fc0",
   "metadata": {},
   "outputs": [
    {
     "name": "stdout",
     "output_type": "stream",
     "text": [
      "안녕하세요 \"글로벌\" 학원입니다\n"
     ]
    }
   ],
   "source": [
    "print('안녕하세요 \"글로벌\" 학원입니다')"
   ]
  },
  {
   "cell_type": "code",
   "execution_count": 12,
   "id": "9de5649b",
   "metadata": {},
   "outputs": [
    {
     "name": "stdout",
     "output_type": "stream",
     "text": [
      "안녕하세요 '글로벌' 학원입니다\n"
     ]
    }
   ],
   "source": [
    "print('안녕하세요 \\'글로벌\\' 학원입니다')"
   ]
  },
  {
   "cell_type": "code",
   "execution_count": 13,
   "id": "94999cbd",
   "metadata": {},
   "outputs": [
    {
     "name": "stdout",
     "output_type": "stream",
     "text": [
      "안녕하세요 \n",
      "글로벌 학원에 \n",
      "오신 것을 \n",
      "환영합니다\n"
     ]
    }
   ],
   "source": [
    "print(\"안녕하세요 \\n글로벌 학원에 \\n오신 것을 \\n환영합니다\")"
   ]
  },
  {
   "cell_type": "code",
   "execution_count": 14,
   "id": "f902cc1e",
   "metadata": {},
   "outputs": [
    {
     "name": "stdout",
     "output_type": "stream",
     "text": [
      "안녕하세요 \t글로벌 학원에 \t오신 것을 환영합니다\n"
     ]
    }
   ],
   "source": [
    "print(\"안녕하세요 \\t글로벌 학원에 \\t오신 것을 환영합니다\")"
   ]
  },
  {
   "cell_type": "code",
   "execution_count": 16,
   "id": "affddee2",
   "metadata": {},
   "outputs": [
    {
     "name": "stdout",
     "output_type": "stream",
     "text": [
      "안녕하세요\n",
      "글로벌 학원에 \n",
      "오신 것을\n",
      "환영합니다\n",
      "\n"
     ]
    }
   ],
   "source": [
    "say_hello='''안녕하세요\n",
    "글로벌 학원에 \n",
    "오신 것을\n",
    "환영합니다\n",
    "'''\n",
    "print(say_hello)"
   ]
  },
  {
   "cell_type": "code",
   "execution_count": 18,
   "id": "378a4739",
   "metadata": {},
   "outputs": [
    {
     "name": "stdout",
     "output_type": "stream",
     "text": [
      "hello python good program \n"
     ]
    }
   ],
   "source": [
    "str1 = \"hello \"\n",
    "str2 = \"python \"\n",
    "str3 = \"good \"\n",
    "str4 = \"program \"\n",
    "print(str1 + str2 + str3 +str4)"
   ]
  },
  {
   "cell_type": "code",
   "execution_count": 20,
   "id": "82f4a903",
   "metadata": {},
   "outputs": [
    {
     "name": "stdout",
     "output_type": "stream",
     "text": [
      "이름 :이순신\n",
      "이름 :이순신,나이 :46 세\n"
     ]
    }
   ],
   "source": [
    "name = \"이순신\"\n",
    "age = 46\n",
    "print(\"이름 :\" + name)\n",
    "print(\"이름 :\" + name +\",나이 :\" + str(age) + \" 세\")"
   ]
  },
  {
   "cell_type": "code",
   "execution_count": 23,
   "id": "6f66a59d",
   "metadata": {},
   "outputs": [
    {
     "name": "stdout",
     "output_type": "stream",
     "text": [
      "이름 : 이순신 ,나이 : 46세\n",
      "이름 :  이순신 , 나이: 46 세\n"
     ]
    }
   ],
   "source": [
    "print(\"이름 :\",name, \",나이 :\",str(age) + \"세\")\n",
    "print(\"이름 : \",name,\", 나이:\",age, \"세\")"
   ]
  },
  {
   "cell_type": "code",
   "execution_count": null,
   "id": "edd64762",
   "metadata": {},
   "outputs": [],
   "source": []
  }
 ],
 "metadata": {
  "kernelspec": {
   "display_name": "Python 3 (ipykernel)",
   "language": "python",
   "name": "python3"
  },
  "language_info": {
   "codemirror_mode": {
    "name": "ipython",
    "version": 3
   },
   "file_extension": ".py",
   "mimetype": "text/x-python",
   "name": "python",
   "nbconvert_exporter": "python",
   "pygments_lexer": "ipython3",
   "version": "3.9.7"
  }
 },
 "nbformat": 4,
 "nbformat_minor": 5
}
