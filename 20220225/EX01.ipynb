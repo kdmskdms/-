{
 "cells": [
  {
   "cell_type": "code",
   "execution_count": 4,
   "id": "5376ea54",
   "metadata": {},
   "outputs": [
    {
     "name": "stdout",
     "output_type": "stream",
     "text": [
      "str1:  python \n",
      "str.strip(): python\n",
      "str.rstrip():  python\n",
      "str;lstrip(): python \n"
     ]
    }
   ],
   "source": [
    "#strip()\n",
    "str1 = \" python \"\n",
    "print(\"str1:\", str1)\n",
    "print(\"str.strip():\", str1.strip())\n",
    "print(\"str.rstrip():\",str1.rstrip())\n",
    "print(\"str;lstrip():\",str1.lstrip())"
   ]
  },
  {
   "cell_type": "code",
   "execution_count": 24,
   "id": "6591a9a4",
   "metadata": {},
   "outputs": [
    {
     "name": "stdout",
     "output_type": "stream",
     "text": [
      "len(str2): 42\n",
      "str2[0] : P\n",
      "str2[41]: e\n",
      "str2[10]: m\n",
      "str2[34]: l\n",
      "str2[12:34]:  favorite programming \n",
      "Python is my favorite programming langua\n",
      "vorite programming l\n",
      "Python is my favorite programming language\n",
      "Python is my favorite programming languag\n",
      "Python is my favorite programming language\n",
      "Python is my favorite programming language\n",
      "Python is my favorite programming languag\n",
      "--------------------------------------------------\n"
     ]
    }
   ],
   "source": [
    "#indexing, index : 0부터시작\n",
    "str2 = \"Python is my favorite programming language\"\n",
    "print(\"len(str2):\",len(str2))\n",
    "print(\"str2[0] :\",str2[0])\n",
    "print(\"str2[41]:\",str2[41])\n",
    "print(\"str2[10]:\",str2[10])\n",
    "print(\"str2[34]:\",str2[34])\n",
    "print(\"str2[12:34]:\",str2[12:34])\n",
    "print(str2[0:40])\n",
    "print(str2[15:35])\n",
    "print(str2[:len(str2)])\n",
    "print(str2[0:-1])\n",
    "print(str2[0:])\n",
    "print(str2[:])\n",
    "print(str2[:41])\n",
    "print(\"-\"*50)"
   ]
  },
  {
   "cell_type": "code",
   "execution_count": 28,
   "id": "36bb6461",
   "metadata": {},
   "outputs": [
    {
     "name": "stdout",
     "output_type": "stream",
     "text": [
      "Python is my favorite programming language\n",
      "Pto sm aoiepormiglnug\n",
      "Pos oeomgng\n"
     ]
    }
   ],
   "source": [
    "#문자열[start:end:step] : start 부터 (end-1)까지 (step-1) 건너뜀\n",
    "print(str2[0:42:1])\n",
    "print(str2[0:42:2])\n",
    "print(str2[0:42:4])"
   ]
  },
  {
   "cell_type": "code",
   "execution_count": 42,
   "id": "200707de",
   "metadata": {},
   "outputs": [
    {
     "name": "stdout",
     "output_type": "stream",
     "text": [
      "123456789\n",
      "2468\n",
      "2468\n",
      "2468\n",
      "13579\n",
      "13579\n"
     ]
    }
   ],
   "source": [
    "str_numbers = \"123456789\"\n",
    "#slicing 사용 짝수만 출력\n",
    "print(str_numbers[::])\n",
    "print(str_numbers[1::2])\n",
    "print(str_numbers[1:9:2])\n",
    "print(str_numbers[1:-1:2])\n",
    "#slicing 사용 홀수만 출력\n",
    "print(str_numbers[::2])\n",
    "print(str_numbers[0::2])"
   ]
  },
  {
   "cell_type": "code",
   "execution_count": 57,
   "id": "29ae8e9d",
   "metadata": {},
   "outputs": [
    {
     "name": "stdout",
     "output_type": "stream",
     "text": [
      "20220225\n",
      "sunny\n",
      "20220225\n",
      "sunn\n",
      "연도: 2022\n",
      "월: 02\n",
      "일: 25\n"
     ]
    }
   ],
   "source": [
    "date_info = \"20220225sunny\"\n",
    "#date_info 에서 날짜, 날씨 부분만 출력하세요\n",
    "print(date_info[:8])\n",
    "print(date_info[8:])\n",
    "idx_s = date_info.index(\"s\")\n",
    "print(date_info[:idx_s])\n",
    "print(date_info[8:12])\n",
    "print(\"연도:\",date_info[:4])\n",
    "print(\"월:\",date_info[4:6])\n",
    "print(\"일:\",date_info[6:8])"
   ]
  },
  {
   "cell_type": "code",
   "execution_count": 66,
   "id": "fcae54cf",
   "metadata": {},
   "outputs": [
    {
     "name": "stdout",
     "output_type": "stream",
     "text": [
      "str3: pithon\n",
      "str3[1]: i\n",
      "python\n",
      "str3.replace(\"i\",\"y\"): python\n",
      "str3: pithon\n"
     ]
    }
   ],
   "source": [
    "str3 = \"pithon\"\n",
    "print(\"str3:\",str3)\n",
    "print(\"str3[1]:\",str3[1])\n",
    "print(str3[0]+\"y\"+str3[2:])\n",
    "print(\"str3.replace(\\\"i\\\",\\\"y\\\"):\",str3.replace(\"i\",\"y\"))\n",
    "print(\"str3:\",str3)"
   ]
  },
  {
   "cell_type": "code",
   "execution_count": 69,
   "id": "17ecd500",
   "metadata": {},
   "outputs": [
    {
     "name": "stdout",
     "output_type": "stream",
     "text": [
      "yo\n",
      "yo\n",
      "yo\n"
     ]
    }
   ],
   "source": [
    "str3 = \"python\"\n",
    "print(str3[1::3])\n",
    "print(str3[1]+ str3[4])\n",
    "print(str3[-5] + str3[-2])"
   ]
  },
  {
   "cell_type": "code",
   "execution_count": 75,
   "id": "737e4efd",
   "metadata": {},
   "outputs": [
    {
     "name": "stdout",
     "output_type": "stream",
     "text": [
      "pytthon\n",
      "pytthon\n",
      "pytthon\n",
      "str4.replace(\"t\",\"tt\"): pytthon\n"
     ]
    }
   ],
   "source": [
    "str4 = \"python\"\n",
    "print(str4[:3] + str4[2] + str4[3:])\n",
    "print(str4[:3] + \"t\" + str4[3:])\n",
    "print(str4[:3] + str4[2:])\n",
    "print(\"str4.replace(\\\"t\\\",\\\"tt\\\"):\",str4.replace(\"t\",\"tt\"))"
   ]
  },
  {
   "cell_type": "code",
   "execution_count": 80,
   "id": "640e6ba6",
   "metadata": {},
   "outputs": [
    {
     "name": "stdout",
     "output_type": "stream",
     "text": [
      "programming\n",
      "programming\n",
      "programming\n"
     ]
    }
   ],
   "source": [
    "str5 = \"proqramming\"\n",
    "print(str5[:3] + \"g\" + str5[4:])\n",
    "print(str5[:3] + str5[-1] + str5[4:])\n",
    "print(str5.replace(\"q\",\"g\"))"
   ]
  },
  {
   "cell_type": "code",
   "execution_count": 92,
   "id": "601006ed",
   "metadata": {},
   "outputs": [
    {
     "name": "stdout",
     "output_type": "stream",
     "text": [
      "짝짝짝\n",
      "홀홀홀\n",
      "nohtyp\n",
      "01065988754\n",
      "01065988754\n"
     ]
    }
   ],
   "source": [
    "# 짝짝짝 출력\n",
    "str1 = \"홀짝홀짝홀짝\"\n",
    "print(str1[1::2])\n",
    "print(str1[::2])\n",
    "#nohtyp 출력하기 - 거꾸로 출력하기\n",
    "str2 = \"python\"\n",
    "print(str2[::-1])\n",
    "#전화번호에서 \"-\" 제거하고 출력하기\n",
    "phone = \"010-6598-8754\"\n",
    "print(phone[:3] + phone[4:8] + phone[9:])\n",
    "print(phone.replace(\"-\",\"\"))"
   ]
  },
  {
   "cell_type": "code",
   "execution_count": 105,
   "id": "425f7bba",
   "metadata": {},
   "outputs": [
    {
     "name": "stdout",
     "output_type": "stream",
     "text": [
      "naver\n",
      "--------------------------------------------------\n",
      "['https://www', 'naver', 'com']\n",
      "naver\n",
      "naver\n"
     ]
    }
   ],
   "source": [
    "'''\n",
    "1)슬라이싱, 인덱스, 파인드\n",
    "2)스플릿\n",
    "'''\n",
    "url_addr = \"https://www.naver.com\"\n",
    "start = url_addr.find(\"n\")\n",
    "end = url_addr.find(\"r\")+1\n",
    "print(url_addr[start:end])\n",
    "print(\"-\"*50)\n",
    "print(url_addr.split(\".\"))\n",
    "print(url_addr.split(\".\")[1])\n",
    "print(url_addr[12:17])"
   ]
  },
  {
   "cell_type": "code",
   "execution_count": 119,
   "id": "4c682c52",
   "metadata": {},
   "outputs": [
    {
     "name": "stdout",
     "output_type": "stream",
     "text": [
      "6548325658\n",
      "result: 6548325658\n",
      "654832565811\n",
      "654832565811\n",
      "result: 6548325658\n",
      "6548325669\n"
     ]
    }
   ],
   "source": [
    "quoted_share = \"6,548,325,658\"\n",
    "print(quoted_share.replace(\",\",\"\"))\n",
    "result = quoted_share.replace(\",\",\"\")\n",
    "print(\"result:\", result)\n",
    "#<class 'str'> : str type\n",
    "print(result+\"11\")\n",
    "print(result +str(11))\n",
    "result = int(result)\n",
    "print(\"result:\", result)\n",
    "print(result+11)"
   ]
  },
  {
   "cell_type": "code",
   "execution_count": null,
   "id": "f00e26c4",
   "metadata": {},
   "outputs": [],
   "source": []
  }
 ],
 "metadata": {
  "kernelspec": {
   "display_name": "Python 3 (ipykernel)",
   "language": "python",
   "name": "python3"
  },
  "language_info": {
   "codemirror_mode": {
    "name": "ipython",
    "version": 3
   },
   "file_extension": ".py",
   "mimetype": "text/x-python",
   "name": "python",
   "nbconvert_exporter": "python",
   "pygments_lexer": "ipython3",
   "version": "3.9.7"
  }
 },
 "nbformat": 4,
 "nbformat_minor": 5
}
