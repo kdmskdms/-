{
 "cells": [
  {
   "cell_type": "code",
   "execution_count": 8,
   "id": "8ff4f0f3",
   "metadata": {},
   "outputs": [
    {
     "name": "stdout",
     "output_type": "stream",
     "text": [
      "True\n",
      "True\n",
      "1525130702256\n",
      "1525130702352\n",
      "1525130702544\n",
      "1525131296816\n",
      "--------------------------------------------------\n",
      "True\n",
      "True\n",
      "False\n"
     ]
    },
    {
     "name": "stderr",
     "output_type": "stream",
     "text": [
      "<>:2: SyntaxWarning: \"is\" with a literal. Did you mean \"==\"?\n",
      "<>:2: SyntaxWarning: \"is\" with a literal. Did you mean \"==\"?\n",
      "C:\\Users\\KIMDON~1\\AppData\\Local\\Temp/ipykernel_20140/278637413.py:2: SyntaxWarning: \"is\" with a literal. Did you mean \"==\"?\n",
      "  print(\"가방\" is \"가방\")\n"
     ]
    }
   ],
   "source": [
    "print(\"가방\" == \"가방\")\n",
    "print(\"가방\" is \"가방\")\n",
    "#주피터라 다르게 나옴\n",
    "print(id(\"가방\"))\n",
    "print(id(\"가방\"))\n",
    "print(id(\"가방\"))\n",
    "print(id(\"가방\"))\n",
    "print(\"-\" * 50)\n",
    "\n",
    "print(\"가방\" != \"하마\")\n",
    "print(\"가방\" < \"하마\")\n",
    "print(\"가방\" > \"가방\")"
   ]
  },
  {
   "cell_type": "code",
   "execution_count": 9,
   "id": "60205c1a",
   "metadata": {},
   "outputs": [
    {
     "name": "stdout",
     "output_type": "stream",
     "text": [
      "ord(\"A\") : 65\n",
      "ord(\"a\") : 97\n"
     ]
    }
   ],
   "source": [
    "'''\n",
    "ord(문자) 함수 - 해당문자의 ascii code를 알려줌\n",
    "'''\n",
    "print(\"ord(\\\"A\\\") :\", ord(\"A\"))\n",
    "print(\"ord(\\\"a\\\") :\", ord(\"a\"))\n"
   ]
  },
  {
   "cell_type": "code",
   "execution_count": 10,
   "id": "8256cde0",
   "metadata": {},
   "outputs": [
    {
     "name": "stdout",
     "output_type": "stream",
     "text": [
      "chr(65) : A\n",
      "chr(97) : a\n",
      "chr(48) : 0\n"
     ]
    }
   ],
   "source": [
    "'''\n",
    "chr(ascii code) 함수 - 해당 ascii code에 매핑된 문자를 알려줌\n",
    "'''\n",
    "print(\"chr(65) :\", chr(65))\n",
    "print(\"chr(97) :\", chr(97))\n",
    "print(\"chr(48) :\", chr(48))"
   ]
  },
  {
   "cell_type": "code",
   "execution_count": 11,
   "id": "394fda39",
   "metadata": {},
   "outputs": [
    {
     "name": "stdout",
     "output_type": "stream",
     "text": [
      "True\n",
      "False\n",
      "False\n",
      "False\n"
     ]
    }
   ],
   "source": [
    "'''\n",
    "and\n",
    "'''\n",
    "print(True and True and True and True and True and True and True)\n",
    "print(True and False and True and False and True and False)\n",
    "print(False and True and False and True and False and True)\n",
    "print(False and False and False and False and False and False)"
   ]
  },
  {
   "cell_type": "code",
   "execution_count": 12,
   "id": "6e25c8ff",
   "metadata": {},
   "outputs": [
    {
     "name": "stdout",
     "output_type": "stream",
     "text": [
      "True\n",
      "True\n",
      "True\n",
      "False\n"
     ]
    }
   ],
   "source": [
    "print(True or True or True or True or True or True or True or True or True)\n",
    "print(True or False or True or False or True or False or True or False)\n",
    "print(False or True or False or True or False or True or False or True)\n",
    "print(False or False or False or False or False or False or False or False)"
   ]
  },
  {
   "cell_type": "code",
   "execution_count": 15,
   "id": "51be8216",
   "metadata": {},
   "outputs": [
    {
     "name": "stdout",
     "output_type": "stream",
     "text": [
      "b1 : True\n",
      "b2 : False\n"
     ]
    }
   ],
   "source": [
    "b1 = 10 >= 5 or 0 or 10\n",
    "print(\"b1 :\", b1)\n",
    "b2 = 10 == 5 and 10\n",
    "print(\"b2 :\", b2)"
   ]
  },
  {
   "cell_type": "code",
   "execution_count": 18,
   "id": "057e73b8",
   "metadata": {},
   "outputs": [
    {
     "name": "stdout",
     "output_type": "stream",
     "text": [
      "b1 : True\n",
      "b2 : 10\n"
     ]
    }
   ],
   "source": [
    "b1 = 10 >= 5 or 0 or 100\n",
    "print(\"b1 :\", b1)\n",
    "b2 = 10 == 5 or 10\n",
    "print(\"b2 :\",b2)"
   ]
  },
  {
   "cell_type": "code",
   "execution_count": null,
   "id": "bee3c5bc",
   "metadata": {},
   "outputs": [],
   "source": []
  }
 ],
 "metadata": {
  "kernelspec": {
   "display_name": "Python 3 (ipykernel)",
   "language": "python",
   "name": "python3"
  },
  "language_info": {
   "codemirror_mode": {
    "name": "ipython",
    "version": 3
   },
   "file_extension": ".py",
   "mimetype": "text/x-python",
   "name": "python",
   "nbconvert_exporter": "python",
   "pygments_lexer": "ipython3",
   "version": "3.9.7"
  }
 },
 "nbformat": 4,
 "nbformat_minor": 5
}
