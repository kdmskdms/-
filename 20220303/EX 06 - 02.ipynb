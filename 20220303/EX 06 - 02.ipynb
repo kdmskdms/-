{
 "cells": [
  {
   "cell_type": "code",
   "execution_count": 2,
   "id": "bb5841e4",
   "metadata": {},
   "outputs": [
    {
     "name": "stdout",
     "output_type": "stream",
     "text": [
      "정수 입력>2\n",
      "짝수입니다\n",
      "짝수입니다\n"
     ]
    }
   ],
   "source": [
    "number = input(\"정수 입력>\")\n",
    "last_character = number[-1]\n",
    "last_number = int(last_character)\n",
    "\n",
    "if last_number == 0 or last_number == 2 or last_number == 4 or \\\n",
    "   last_number == 6 or last_number == 8:\n",
    "    print(\"짝수입니다\")\n",
    "if int(number) % 2 == 0:\n",
    "    print(\"짝수입니다\")\n",
    "    \n",
    "if int(number) % 2 == 1\n",
    "    print(\"홀수입니다\")\n",
    "if last_number == 1 or last_number == 3 or last_number == 5 or \\\n",
    "   last_number == 7 or last_number == 9:\n",
    "    print(\"홀수입니다\")"
   ]
  },
  {
   "cell_type": "code",
   "execution_count": 2,
   "id": "d3b723c5",
   "metadata": {},
   "outputs": [
    {
     "name": "stdout",
     "output_type": "stream",
     "text": [
      "정수 입력>1\n",
      "홀수입니다\n"
     ]
    }
   ],
   "source": [
    "number = input(\"정수 입력>\")\n",
    "last_character = number[-1]\n",
    "if last_character in \"02468\":\n",
    "    print(\"짝수입니다\")\n",
    "if last_character in \"13579\":\n",
    "    print(\"홀수입니다\")"
   ]
  },
  {
   "cell_type": "code",
   "execution_count": 4,
   "id": "9128b5d9",
   "metadata": {},
   "outputs": [
    {
     "name": "stdout",
     "output_type": "stream",
     "text": [
      "> 1번째 숫자 : 1\n",
      "> 2번째 숫자 : 21\n",
      "\n",
      "두 번째로 입력했던 21.0가 1.0보다 큽니다\n"
     ]
    }
   ],
   "source": [
    "a = float(input(\"> 1번째 숫자 : \"))\n",
    "b = float(input(\"> 2번째 숫자 : \"))\n",
    "print()\n",
    "if a > b:\n",
    "    print(\"처음 입력했던 {}가 {}보다 큽니다\".format(a, b))\n",
    "if b > a:\n",
    "    print(\"두 번째로 입력했던 {}가 {}보다 큽니다\".format(b, a))"
   ]
  },
  {
   "cell_type": "code",
   "execution_count": 8,
   "id": "036c6cdb",
   "metadata": {},
   "outputs": [
    {
     "name": "stdout",
     "output_type": "stream",
     "text": [
      "성적을 입력하세요 :111\n",
      "당신의 학점은 F 학점입니다\n"
     ]
    }
   ],
   "source": [
    "# 성적을 입력받아서 학점을 출력하는\n",
    "# 프로그램을 작성하세요\n",
    "score = int(input(\"성적을 입력하세요 :\"))\n",
    "grade = \"\"\n",
    "if 90 <= score <= 100:\n",
    "    grade = \"A\"\n",
    "elif 80 <= score <= 89:\n",
    "    grade = \"B\"\n",
    "elif 70 <= score <= 79:\n",
    "    grade - \"C\"\n",
    "elif 60 <= score <= 69:\n",
    "    grade = \"D\"\n",
    "else:\n",
    "    grade = \"F\"\n",
    "print(f\"당신의 학점은 {grade} 학점입니다\")"
   ]
  },
  {
   "cell_type": "code",
   "execution_count": 11,
   "id": "c4b55062",
   "metadata": {},
   "outputs": [
    {
     "name": "stdout",
     "output_type": "stream",
     "text": [
      "성적을 입력하세요 :111\n",
      "성적을 정확하게 입력해주세요\n",
      "당신의 학점은  학점입니다\n"
     ]
    }
   ],
   "source": [
    "score = int(input(\"성적을 입력하세요 :\"))\n",
    "grade = \"\"\n",
    "if 90 <= score <= 100:\n",
    "    grade = \"A\"\n",
    "elif 80 <= score <= 89:\n",
    "    grade = \"B\"\n",
    "elif 70 <= score <= 79:\n",
    "    grade - \"C\"\n",
    "elif 60 <= score <= 69:\n",
    "    grade = \"D\"\n",
    "elif 0 <= score <= 59:\n",
    "    grade = \"F\"\n",
    "else:\n",
    "    print(f\"성적을 정확하게 입력해주세요\")\n",
    "print(f\"당신의 학점은 {grade} 학점입니다\")"
   ]
  },
  {
   "cell_type": "code",
   "execution_count": 12,
   "id": "d004a100",
   "metadata": {},
   "outputs": [
    {
     "name": "stdout",
     "output_type": "stream",
     "text": [
      "성적을 입력하세요 :101\n",
      "성적을 정확하게 입력해주세요\n",
      "당신의 학점은  학점입니다\n"
     ]
    }
   ],
   "source": [
    "score = int(input(\"성적을 입력하세요 :\"))\n",
    "grade = \"\"\n",
    "if 0 <= score <= 100:\n",
    "    if 90 <= score:\n",
    "        grade = \"A\"\n",
    "    elif 80 <= score:\n",
    "        grade = \"B\"\n",
    "    elif 70 <= score:\n",
    "        grade - \"C\"\n",
    "    elif 60 <= score:\n",
    "        grade = \"D\"\n",
    "    elif 0 <= score:\n",
    "        grade = \"F\"\n",
    "else:\n",
    "    print(f\"성적을 정확하게 입력해주세요\")\n",
    "print(f\"당신의 학점은 {grade} 학점입니다\")    "
   ]
  },
  {
   "cell_type": "code",
   "execution_count": 17,
   "id": "afc13977",
   "metadata": {},
   "outputs": [
    {
     "name": "stdout",
     "output_type": "stream",
     "text": [
      "성적을 입력하세요 :111\n",
      "성적을 정확하게 입력해주세요\n"
     ]
    }
   ],
   "source": [
    "score = int(input(\"성적을 입력하세요 :\"))\n",
    "grade = \"\"\n",
    "if 0 <= score <= 100:\n",
    "    if 90 <= score:\n",
    "        grade = \"A\"\n",
    "    elif 80 <= score:\n",
    "        grade = \"B\"\n",
    "    elif 70 <= score:\n",
    "        grade - \"C\"\n",
    "    elif 60 <= score:\n",
    "        grade = \"D\"\n",
    "    else:\n",
    "        grade = \"F\"\n",
    "else:\n",
    "    grade = \"?\"\n",
    "    print(\"성적을 정확하게 입력해주세요\")\n",
    "    \n",
    "if grade != \"?\":\n",
    "    print(\"성적을 정확하게 입력해주세요\")\n",
    "    \n",
    "else:\n",
    "    pass"
   ]
  },
  {
   "cell_type": "code",
   "execution_count": null,
   "id": "94514261",
   "metadata": {},
   "outputs": [],
   "source": []
  }
 ],
 "metadata": {
  "kernelspec": {
   "display_name": "Python 3 (ipykernel)",
   "language": "python",
   "name": "python3"
  },
  "language_info": {
   "codemirror_mode": {
    "name": "ipython",
    "version": 3
   },
   "file_extension": ".py",
   "mimetype": "text/x-python",
   "name": "python",
   "nbconvert_exporter": "python",
   "pygments_lexer": "ipython3",
   "version": "3.9.7"
  }
 },
 "nbformat": 4,
 "nbformat_minor": 5
}
