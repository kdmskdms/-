{
 "cells": [
  {
   "cell_type": "code",
   "execution_count": 6,
   "id": "dced3c55",
   "metadata": {},
   "outputs": [
    {
     "name": "stdout",
     "output_type": "stream",
     "text": [
      "result : 0\n",
      "result : 15\n",
      "result : 15\n",
      "result : 5\n"
     ]
    }
   ],
   "source": [
    "#1) 비트 & 연산\n",
    "number1 = 10\n",
    "number2 = 5\n",
    "result = number1 & number2\n",
    "print(\"result :\", result)\n",
    "#2) 비트 or 연산\n",
    "result = number1 | number2\n",
    "print(\"result :\", result)\n",
    "# 3) 비트 ^ 연산 : 두 비트가 같으면 0 서로 다르면 1을 반환함\n",
    "result = number1 ^ number2\n",
    "print(\"result :\", result)\n",
    "# 4) 비트 부정연산자 : ~\n",
    "result = ~number1 & number2\n",
    "print(\"result :\", result)"
   ]
  },
  {
   "cell_type": "code",
   "execution_count": 10,
   "id": "88a654af",
   "metadata": {},
   "outputs": [
    {
     "name": "stdout",
     "output_type": "stream",
     "text": [
      "num << 1: 10\n",
      "num << 2: 20\n",
      "num << 3: 40\n",
      "num: 5\n",
      "num: 10\n",
      "num: 40\n",
      "num: 320\n"
     ]
    }
   ],
   "source": [
    "'''\n",
    "쉬프트 연산자 : shift operator\n",
    "'''\n",
    "# 1) 레프트쉬프트 연산자 : 변수 << 정수\n",
    "# 변수에 저장된 data의 비트를 지정한 정수만큼 왼쪽으로 아동시키는 연산자\n",
    "# 변수 X 2 ** (정수)만큼 커짐 **(제곱)\n",
    "num = 5\n",
    "print(\"num << 1:\", num << 1)\n",
    "print(\"num << 2:\", num << 2)\n",
    "print(\"num << 3:\", num << 3)\n",
    "print(\"num:\", num)\n",
    "num = num << 1\n",
    "print(\"num:\", num)\n",
    "num <<= 2\n",
    "print(\"num:\", num)\n",
    "num <<= 3\n",
    "print(\"num:\", num)"
   ]
  },
  {
   "cell_type": "code",
   "execution_count": 11,
   "id": "0f99a407",
   "metadata": {},
   "outputs": [
    {
     "name": "stdout",
     "output_type": "stream",
     "text": [
      "num >> 1: 2\n",
      "num >> 2: 1\n",
      "num >> 3: 0\n",
      "num: 5\n"
     ]
    }
   ],
   "source": [
    "# 2) 라이트쉬프트 연산자 : 변수 >> 정수\n",
    "# 변수에 저장된 data의 비트를 지정한 정수만큼 오른쪽으로 이동시키는 연산자\n",
    "# 변수 X 2 ** (정수)만큼 작아짐 **(제곱)\n",
    "num = 5\n",
    "print(\"num >> 1:\", num >> 1)\n",
    "print(\"num >> 2:\", num >> 2)\n",
    "print(\"num >> 3:\", num >> 3)\n",
    "print(\"num:\", num)"
   ]
  },
  {
   "cell_type": "code",
   "execution_count": null,
   "id": "ae9b1d9d",
   "metadata": {},
   "outputs": [],
   "source": []
  }
 ],
 "metadata": {
  "kernelspec": {
   "display_name": "Python 3 (ipykernel)",
   "language": "python",
   "name": "python3"
  },
  "language_info": {
   "codemirror_mode": {
    "name": "ipython",
    "version": 3
   },
   "file_extension": ".py",
   "mimetype": "text/x-python",
   "name": "python",
   "nbconvert_exporter": "python",
   "pygments_lexer": "ipython3",
   "version": "3.9.7"
  }
 },
 "nbformat": 4,
 "nbformat_minor": 5
}
