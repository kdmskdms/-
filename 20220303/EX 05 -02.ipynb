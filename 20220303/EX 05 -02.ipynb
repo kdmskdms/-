{
 "cells": [
  {
   "cell_type": "code",
   "execution_count": 6,
   "id": "aa023d93",
   "metadata": {},
   "outputs": [
    {
     "name": "stdout",
     "output_type": "stream",
     "text": [
      "number는 10입니다\n",
      "number는 20보다 작거나 같습니다\n"
     ]
    }
   ],
   "source": [
    "number = 10\n",
    "if number == 10:\n",
    "    print(\"number는 10입니다\")\n",
    "if number >= 5:\n",
    "    pass\n",
    "if number > 100:\n",
    "    print(\"number는 100보다 큽니다\")\n",
    "if number <= 20:\n",
    "    print(\"number는 20보다 작거나 같습니다\")"
   ]
  },
  {
   "cell_type": "code",
   "execution_count": 11,
   "id": "110a65f6",
   "metadata": {},
   "outputs": [
    {
     "name": "stdout",
     "output_type": "stream",
     "text": [
      "number는 10입니다\n"
     ]
    }
   ],
   "source": [
    "number = 10\n",
    "if number == 10:\n",
    "    print(\"number는 10입니다\")\n",
    "elif number >= 5:\n",
    "    print(\"number는 5보다 크거나 같습니다\")\n",
    "elif number > 100:\n",
    "    print(\"number는 100보다 큽니다\")\n",
    "elif number <= 20:\n",
    "    print(\"number 는 20보다 작거나 같습니다\")    \n",
    "else:\n",
    "    print(\"위의 조건들은 모두 거짓입니다\")"
   ]
  },
  {
   "cell_type": "code",
   "execution_count": 13,
   "id": "82f19190",
   "metadata": {},
   "outputs": [
    {
     "name": "stdout",
     "output_type": "stream",
     "text": [
      "위의 조건들은 모두 거짓입니다\n"
     ]
    }
   ],
   "source": [
    "number = 10\n",
    "if number != 10:\n",
    "    print(\"number 는 10입니다\")\n",
    "elif number < 5:\n",
    "    print(\"number 는 5보다 크거나 같습니다\")\n",
    "elif number > 100:\n",
    "    print(\"number 는 100보다 큽니다\")\n",
    "elif number > 20:\n",
    "    print(\"number 는 20보다 작거나 같습니다\")\n",
    "else:\n",
    "    print(\"위의 조건들은 모두 거짓입니다\")    "
   ]
  },
  {
   "cell_type": "code",
   "execution_count": 15,
   "id": "72ebce7e",
   "metadata": {},
   "outputs": [
    {
     "name": "stdout",
     "output_type": "stream",
     "text": [
      "2022 년\n",
      "3 월\n",
      "4 일\n",
      "0 시\n",
      "4 분\n",
      "47 초\n"
     ]
    }
   ],
   "source": [
    "import datetime\n",
    "now = datetime.datetime.now()\n",
    "print(now.year, \"년\")\n",
    "print(now.month, \"월\")\n",
    "print(now.day, \"일\")\n",
    "print(now.hour, \"시\")\n",
    "print(now.minute, \"분\")\n",
    "print(now.second, \"초\")"
   ]
  },
  {
   "cell_type": "code",
   "execution_count": 16,
   "id": "20b47f7d",
   "metadata": {},
   "outputs": [
    {
     "name": "stdout",
     "output_type": "stream",
     "text": [
      "2022 년 3 월 4 일 0 시 4 분 47 초 "
     ]
    }
   ],
   "source": [
    "print(now.year, \"년\",end = \" \")\n",
    "print(now.month, \"월\",end = \" \")\n",
    "print(now.day, \"일\",end = \" \")\n",
    "print(now.hour, \"시\",end = \" \")\n",
    "print(now.minute, \"분\",end = \" \")\n",
    "print(now.second, \"초\",end = \" \")"
   ]
  },
  {
   "cell_type": "code",
   "execution_count": 18,
   "id": "092778c4",
   "metadata": {},
   "outputs": [
    {
     "name": "stdout",
     "output_type": "stream",
     "text": [
      "현재 시각은 0시로 오전입니다\n"
     ]
    }
   ],
   "source": [
    "import datetime\n",
    "now = datetime.datetime.now()\n",
    "if now.hour < 12:\n",
    "    print(\"현재 시각은 {}시로 오전입니다\".format(now.hour))\n",
    "\n",
    "if now.hour >= 12:\n",
    "    print(f\"현재 시각은 {now.hour}로 오후입니다\")"
   ]
  },
  {
   "cell_type": "code",
   "execution_count": 19,
   "id": "d3af7f27",
   "metadata": {},
   "outputs": [
    {
     "name": "stdout",
     "output_type": "stream",
     "text": [
      "이번달은 3월이고 봄입니다\n"
     ]
    }
   ],
   "source": [
    "if 3<= now.month <= 5:\n",
    "    print(\"이번달은 {}월이고 봄입니다\".format(now.month))"
   ]
  },
  {
   "cell_type": "code",
   "execution_count": 20,
   "id": "da6d0760",
   "metadata": {},
   "outputs": [],
   "source": [
    "if 12 == now.month or 1 == now.month or 2 == now.month:\n",
    "    print(\"이번 달은 {}월이고 겨울입니다\".format(now.month))"
   ]
  },
  {
   "cell_type": "code",
   "execution_count": null,
   "id": "953df3c7",
   "metadata": {},
   "outputs": [],
   "source": []
  }
 ],
 "metadata": {
  "kernelspec": {
   "display_name": "Python 3 (ipykernel)",
   "language": "python",
   "name": "python3"
  },
  "language_info": {
   "codemirror_mode": {
    "name": "ipython",
    "version": 3
   },
   "file_extension": ".py",
   "mimetype": "text/x-python",
   "name": "python",
   "nbconvert_exporter": "python",
   "pygments_lexer": "ipython3",
   "version": "3.9.7"
  }
 },
 "nbformat": 4,
 "nbformat_minor": 5
}
