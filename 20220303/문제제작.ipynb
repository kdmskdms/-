{
 "cells": [
  {
   "cell_type": "code",
   "execution_count": 1,
   "id": "e77b41fa",
   "metadata": {},
   "outputs": [
    {
     "name": "stdout",
     "output_type": "stream",
     "text": [
      "fruit_info: {'딸기': 1100, '사과': 710, '귤': 880}\n",
      "--------------------------------------------------\n"
     ]
    }
   ],
   "source": [
    "'''\n",
    "name    price\n",
    "딸기 - 1100\n",
    "사과 - 710\n",
    "귤 - 880\n",
    "\n",
    "fruit 이름을 name으로 하고 가격을 price로 하는\n",
    "dictionary를 생성하고 출력하세요\n",
    "(dictionary 이름은 fruit_info로 하세요)\n",
    "'''\n",
    "fruit_info = {}\n",
    "fruit_info[\"딸기\"] = 1100\n",
    "fruit_info[\"사과\"] = 710\n",
    "fruit_info[\"귤\"] = 880\n",
    "print(\"fruit_info:\", fruit_info)\n",
    "print(\"-\"*50)"
   ]
  },
  {
   "cell_type": "code",
   "execution_count": 2,
   "id": "5993c015",
   "metadata": {},
   "outputs": [
    {
     "name": "stdout",
     "output_type": "stream",
     "text": [
      "fruit_info: {'딸기': 1100, '사과': 710, '귤': 880}\n"
     ]
    }
   ],
   "source": [
    "'''\n",
    "zip() 함수와 dict() 함수를 사용해서\n",
    "두개의 list로 dictionary 생성하기\n",
    "'''\n",
    "fruit_info = {}\n",
    "list_name = [\"딸기\", \"사과\", \"귤\"]\n",
    "list_price = [1100, 710, 880]\n",
    "fruit_info = dict(zip(list_name, list_price))\n",
    "print(\"fruit_info:\", fruit_info)"
   ]
  },
  {
   "cell_type": "code",
   "execution_count": 3,
   "id": "faf4906b",
   "metadata": {},
   "outputs": [
    {
     "name": "stdout",
     "output_type": "stream",
     "text": [
      "fruit: {'딸기': 1100, '사과': 710, '귤': 880, '홍시': 1222, '한라봉': 666}\n"
     ]
    }
   ],
   "source": [
    "'''\n",
    "key        value\n",
    "홍시   1222\n",
    "한라봉     666\n",
    "을 추가하세요\n",
    "'''\n",
    "fruit_info [\"홍시\"] = 1222\n",
    "fruit_info [\"한라봉\"] = 666\n",
    "print(\"fruit:\", fruit_info)"
   ]
  },
  {
   "cell_type": "code",
   "execution_count": 5,
   "id": "8f8a3da7",
   "metadata": {},
   "outputs": [
    {
     "name": "stdout",
     "output_type": "stream",
     "text": [
      "정수를 입력하세여 :11\n",
      "실수를 입력하세요:11\n",
      "int_number : 11\n",
      "float_number : 11.0\n"
     ]
    }
   ],
   "source": [
    "int_number = int(input(\"정수를 입력하세여 :\"))\n",
    "float_number = float(input(\"실수를 입력하세요:\"))\n",
    "print(\"int_number :\", int_number)\n",
    "print(\"float_number :\", float_number)"
   ]
  },
  {
   "cell_type": "code",
   "execution_count": 8,
   "id": "1da9ce23",
   "metadata": {},
   "outputs": [
    {
     "name": "stdout",
     "output_type": "stream",
     "text": [
      "numbers: ['12', '22', '32', '42', '52']\n",
      "numbers: ['10', '20', '30', '40', '50']\n",
      "numbers: ['10', '20', '30', '40', '50']\n"
     ]
    }
   ],
   "source": [
    "numbers = \"12 22 32 42 52\".split()\n",
    "print(\"numbers:\", numbers)\n",
    "numbers = \"10 20 30 40 50\".split(\" \")\n",
    "print(\"numbers:\", numbers)\n",
    "numbers = \"10-20-30-40-50\". split(\"-\")\n",
    "print(\"numbers:\", numbers)"
   ]
  },
  {
   "cell_type": "code",
   "execution_count": 9,
   "id": "fdabebd9",
   "metadata": {},
   "outputs": [
    {
     "name": "stdout",
     "output_type": "stream",
     "text": [
      "result : 15\n"
     ]
    }
   ],
   "source": [
    "number1 = 10\n",
    "number2 = 5\n",
    "# 3) 비트 ^ 연산 : 두 비트가 같으면 0 서로 다르면 1을 반환함\n",
    "result = number1 ^ number2\n",
    "print(\"result :\", result)"
   ]
  },
  {
   "cell_type": "code",
   "execution_count": 10,
   "id": "d7f9440d",
   "metadata": {},
   "outputs": [
    {
     "name": "stdout",
     "output_type": "stream",
     "text": [
      "result : 4\n"
     ]
    }
   ],
   "source": [
    "# 4) 비트 부정연산자 : ~\n",
    "number1 = 11\n",
    "number2 = 5\n",
    "result = ~number1 & number2\n",
    "print(\"result :\", result)"
   ]
  },
  {
   "cell_type": "code",
   "execution_count": 15,
   "id": "709a79ce",
   "metadata": {},
   "outputs": [
    {
     "name": "stdout",
     "output_type": "stream",
     "text": [
      "num << 1: 12\n",
      "num: 6\n",
      "num: 12\n",
      "num >> 1: 6\n",
      "num: 12\n"
     ]
    }
   ],
   "source": [
    "num = 6\n",
    "print(\"num << 1:\", num << 1 )\n",
    "print(\"num:\", num)\n",
    "num = num << 1\n",
    "print(\"num:\", num)\n",
    "print(\"num >> 1:\",num >> 1)\n",
    "print(\"num:\", num)"
   ]
  },
  {
   "cell_type": "code",
   "execution_count": 17,
   "id": "8adb02f3",
   "metadata": {},
   "outputs": [
    {
     "name": "stdout",
     "output_type": "stream",
     "text": [
      "위의 조건들은 모두 거짓입니다\n"
     ]
    }
   ],
   "source": [
    "number = 14\n",
    "if number != 14:\n",
    "    print(\"number는 14입니다\")\n",
    "elif number < 5:\n",
    "    print(\"number는 5보다 크거나 같습니다\")\n",
    "elif number > 100:\n",
    "    print(\"number 는 100보다 큽니다\")\n",
    "elif number > 20:\n",
    "    print(\"number 는 20보다 작거나 같습니다\")\n",
    "else:\n",
    "    print(\"위의 조건들은 모두 거짓입니다\")\n",
    "    "
   ]
  },
  {
   "cell_type": "code",
   "execution_count": 24,
   "id": "0b17e391",
   "metadata": {},
   "outputs": [
    {
     "name": "stdout",
     "output_type": "stream",
     "text": [
      "성적을 입력하세요:83\n",
      "성적을 정확하게 입력해주세요\n",
      "당신의 학점은 B 학점입니다\n"
     ]
    }
   ],
   "source": [
    "# A+, A, A- 성적 추가\n",
    "score = int(input(\"성적을 입력하세요:\"))\n",
    "grade = \"\"\n",
    "if 0<= score <= 100:\n",
    "    if 95<= score:\n",
    "        grade = \"A+\"\n",
    "    elif 90<= score:\n",
    "        grade = \"A\"\n",
    "    elif 85<= score:\n",
    "        grade = \"B+\"\n",
    "    elif 80<= score:\n",
    "        grade = \"B\"\n",
    "    elif 75<= score:\n",
    "        grade = \"C+\"\n",
    "    elif 70<= score:\n",
    "        grade = \"C\"\n",
    "    elif 65<= score:\n",
    "        grade = \"D+\"\n",
    "    elif 60<= score:\n",
    "        grade = \"D\"\n",
    "    else:\n",
    "        grade = \"F\"\n",
    "else:\n",
    "    grade = \"?\"\n",
    "    print(\"성적을 정확하게 입력해주세요\")\n",
    "if grade !=\"?\":\n",
    "    print(f\"성적을 정확하게 입력해주세요\")\n",
    "else:\n",
    "    print(f\"성적을 정확하게 입력해주세요\")\n",
    "print(f\"당신의 학점은 {grade} 학점입니다\")"
   ]
  },
  {
   "cell_type": "code",
   "execution_count": null,
   "id": "49c3ab1f",
   "metadata": {},
   "outputs": [],
   "source": []
  }
 ],
 "metadata": {
  "kernelspec": {
   "display_name": "Python 3 (ipykernel)",
   "language": "python",
   "name": "python3"
  },
  "language_info": {
   "codemirror_mode": {
    "name": "ipython",
    "version": 3
   },
   "file_extension": ".py",
   "mimetype": "text/x-python",
   "name": "python",
   "nbconvert_exporter": "python",
   "pygments_lexer": "ipython3",
   "version": "3.9.7"
  }
 },
 "nbformat": 4,
 "nbformat_minor": 5
}
