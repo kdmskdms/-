{
 "cells": [
  {
   "cell_type": "code",
   "execution_count": null,
   "id": "9685b1b2",
   "metadata": {},
   "outputs": [],
   "source": [
    "'''\n",
    " 이중 for 문 - nested for statement\n",
    " (중첩)\n",
    "\n",
    " 구구단 - 이중(중첩) for 문 구조\n",
    " \n",
    " 단수 X 곱하는수\n",
    "  2     (1 ~ 9)\n",
    "  3     (1 ~ 9)\n",
    "  4     (1 ~ 9)\n",
    "  5     (1 ~ 9)\n",
    "  6     (1 ~ 9)\n",
    "  7     (1 ~ 9)\n",
    "  8     (1 ~ 9)\n",
    "  9     (1 ~ 9)\n",
    "  \n",
    "  2    X    1\n",
    "  2    X    2\n",
    "  2    X    3\n",
    "  2    X    4\n",
    "  2    X    5\n",
    "  2    X    6\n",
    "  2    X    7\n",
    "  2    X    8\n",
    "  2    X    9 \n",
    "'''\n",
    "print(\"2 X 1\")\n",
    "print(\"-\" * 50)\n",
    "for number in range(1, 10):\n",
    "    print(f\"2 X {number}\")\n",
    "print(\"-\" * 50)\n"
   ]
  },
  {
   "cell_type": "code",
   "execution_count": null,
   "id": "99572780",
   "metadata": {},
   "outputs": [],
   "source": [
    "for dan in range(2, 10):\n",
    "    print(f\"-- {dan} 단 --\")\n",
    "    for number in range(1, 10):\n",
    "        print(f\"{dan} X {number} = {dan * number}\")\n",
    "    print()"
   ]
  },
  {
   "cell_type": "code",
   "execution_count": null,
   "id": "62cb9295",
   "metadata": {},
   "outputs": [],
   "source": [
    "'''\n",
    "각 단에 홀수만 곱하는 구구단을 출력하세요\n",
    "'''\n",
    "for dan in range(2, 10):\n",
    "    for number in range(1, 10):\n",
    "        if number % 2 == 1:\n",
    "            print(f\"{dan} X {number} = {dan * number}\")\n",
    "    print()"
   ]
  },
  {
   "cell_type": "code",
   "execution_count": null,
   "id": "a5c1d414",
   "metadata": {},
   "outputs": [],
   "source": [
    "'''\n",
    "각 단에 짝수만 곱하는 구구단을 출력하세요\n",
    "'''\n",
    "for dan in range(2, 10):\n",
    "    for number in range(1, 10):\n",
    "        if number % 2 == 0:\n",
    "            print(f\"{dan} X {number} = {dan * number}\")\n",
    "    print()"
   ]
  },
  {
   "cell_type": "code",
   "execution_count": null,
   "id": "9e603dce",
   "metadata": {},
   "outputs": [],
   "source": [
    "'''\n",
    "홀수 단만 출력하는 구구단을 작성하세요\n",
    "'''\n",
    "for dan in range(2,10):\n",
    "    for number in range(1, 10):\n",
    "        if dan % 2 == 1:\n",
    "            print(f\"{dan} *{number} = {dan * number}\")\n",
    "    print()"
   ]
  },
  {
   "cell_type": "code",
   "execution_count": null,
   "id": "57a0387e",
   "metadata": {},
   "outputs": [],
   "source": [
    "for dan in range(2,10):\n",
    "    if dan % 2 == 1:\n",
    "        for number in range(1, 10):\n",
    "            print(f\"{dan} * {number} = {dan * number}\")\n",
    "    print()"
   ]
  },
  {
   "cell_type": "code",
   "execution_count": null,
   "id": "0c4fd197",
   "metadata": {},
   "outputs": [],
   "source": [
    "for dan in range(2, 10):\n",
    "    for number in range(1, 10):\n",
    "        if dan % 2 == 0:\n",
    "            print(f\"{dan} * {number} = {dan * number}\")\n",
    "    print()"
   ]
  },
  {
   "cell_type": "code",
   "execution_count": 17,
   "id": "b00a3e00",
   "metadata": {},
   "outputs": [
    {
     "name": "stdout",
     "output_type": "stream",
     "text": [
      "2 X 1= 2\n",
      "2 X 2= 4\n",
      "2 X 3= 6\n",
      "2 X 4= 8\n",
      "2 X 5= 10\n",
      "2 X 6= 12\n",
      "2 X 7= 14\n",
      "2 X 8= 16\n",
      "2 X 9= 18\n",
      "\n",
      "\n",
      "4 X 1= 4\n",
      "4 X 2= 8\n",
      "4 X 3= 12\n",
      "4 X 4= 16\n",
      "4 X 5= 20\n",
      "4 X 6= 24\n",
      "4 X 7= 28\n",
      "4 X 8= 32\n",
      "4 X 9= 36\n",
      "\n",
      "\n",
      "6 X 1= 6\n",
      "6 X 2= 12\n",
      "6 X 3= 18\n",
      "6 X 4= 24\n",
      "6 X 5= 30\n",
      "6 X 6= 36\n",
      "6 X 7= 42\n",
      "6 X 8= 48\n",
      "6 X 9= 54\n",
      "\n",
      "\n",
      "8 X 1= 8\n",
      "8 X 2= 16\n",
      "8 X 3= 24\n",
      "8 X 4= 32\n",
      "8 X 5= 40\n",
      "8 X 6= 48\n",
      "8 X 7= 56\n",
      "8 X 8= 64\n",
      "8 X 9= 72\n",
      "\n",
      "\n"
     ]
    }
   ],
   "source": [
    "for dan in range(2, 10):\n",
    "    if dan % 2 == 0:\n",
    "        for number in range(1, 10):\n",
    "            print(f\"{dan} X {number}= {dan * number}\")\n",
    "    print()"
   ]
  },
  {
   "cell_type": "code",
   "execution_count": null,
   "id": "8a9e4149",
   "metadata": {},
   "outputs": [],
   "source": [
    "'''\n",
    "짝수단에는 짝수만 곱하고\n",
    "홀수단에는 홀수만 곱하는\n",
    "구구단을 작성하세요\n",
    "\n",
    "dan 과 number 에 조건을 줘야 함\n",
    "'''\n",
    "for dan in range(2, 10):\n",
    "    for number in range(1, 10):\n",
    "        if dan % 2 == 0 and number % 2 == 0:\n",
    "            print(f\"{dan} X {number} = {dan * number}\")\n",
    "        if dan % 2 == 1 and number % 2 == 1:\n",
    "            print(f\"{dan} X {number} = {dan * number}\")\n",
    "    print()"
   ]
  },
  {
   "cell_type": "code",
   "execution_count": null,
   "id": "31d1e747",
   "metadata": {},
   "outputs": [],
   "source": [
    "# [2] if 문 한 개 사용하기\n",
    "for dan in range(2, 10):\n",
    "    for number in range(1, 10):\n",
    "        if dan % 2 == 0 and number % 2 == 0 or dan % 2 == 1 and number % 2 == 1:\n",
    "            print(f\"{dan} X {number} = {dan * number}\")\n",
    "    print()"
   ]
  },
  {
   "cell_type": "code",
   "execution_count": 4,
   "id": "7dabc5d3",
   "metadata": {},
   "outputs": [
    {
     "name": "stdout",
     "output_type": "stream",
     "text": [
      "2 X 2 = 4\n",
      "2 X 4 = 8\n",
      "2 X 6 = 12\n",
      "2 X 8 = 16\n",
      "3 X 1 = 3\n",
      "3 X 3 = 9\n",
      "3 X 5 = 15\n",
      "3 X 7 = 21\n",
      "3 X 9 = 27\n",
      "4 X 2 = 8\n",
      "4 X 4 = 16\n",
      "4 X 6 = 24\n",
      "4 X 8 = 32\n",
      "5 X 1 = 5\n",
      "5 X 3 = 15\n",
      "5 X 5 = 25\n",
      "5 X 7 = 35\n",
      "5 X 9 = 45\n",
      "6 X 2 = 12\n",
      "6 X 4 = 24\n",
      "6 X 6 = 36\n",
      "6 X 8 = 48\n",
      "7 X 1 = 7\n",
      "7 X 3 = 21\n",
      "7 X 5 = 35\n",
      "7 X 7 = 49\n",
      "7 X 9 = 63\n",
      "8 X 2 = 16\n",
      "8 X 4 = 32\n",
      "8 X 6 = 48\n",
      "8 X 8 = 64\n",
      "9 X 1 = 9\n",
      "9 X 3 = 27\n",
      "9 X 5 = 45\n",
      "9 X 7 = 63\n",
      "9 X 9 = 81\n"
     ]
    }
   ],
   "source": [
    "# [3] 간단한 방법\n",
    "for dan in range(2, 10):\n",
    "    for number in range(1, 10):\n",
    "        if dan % 2 == number % 2:\n",
    "            print(f\"{dan} X {number} = {dan * number}\")"
   ]
  },
  {
   "cell_type": "code",
   "execution_count": null,
   "id": "cab3ee38",
   "metadata": {},
   "outputs": [],
   "source": []
  }
 ],
 "metadata": {
  "kernelspec": {
   "display_name": "Python 3 (ipykernel)",
   "language": "python",
   "name": "python3"
  },
  "language_info": {
   "codemirror_mode": {
    "name": "ipython",
    "version": 3
   },
   "file_extension": ".py",
   "mimetype": "text/x-python",
   "name": "python",
   "nbconvert_exporter": "python",
   "pygments_lexer": "ipython3",
   "version": "3.9.7"
  }
 },
 "nbformat": 4,
 "nbformat_minor": 5
}
