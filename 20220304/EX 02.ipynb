{
 "cells": [
  {
   "cell_type": "code",
   "execution_count": 2,
   "id": "7314993c",
   "metadata": {},
   "outputs": [
    {
     "name": "stdout",
     "output_type": "stream",
     "text": [
      "안녕하세요 - 1\n",
      "안녕하세요 - 2\n",
      "안녕하세요 - 3\n",
      "안녕하세요 - 4\n",
      "안녕하세요 - 5\n"
     ]
    }
   ],
   "source": [
    "'''\n",
    "반복문 :  for loop, while loop\n",
    "\n",
    " 1) for 문\n",
    "    형식)         ┌ str, list, tuple, set, dictionary, range()\n",
    "                  |                         ㄴ keys(), values()\n",
    "    for 변수 in (iterable type):\n",
    "        반복할 명령문.... \n",
    "        \n",
    "156 page\n",
    "'''\n",
    "list1 = [1, 2, 3, 4, 5]\n",
    "for element in list1:\n",
    "    print(\"안녕하세요 -\", element)"
   ]
  },
  {
   "cell_type": "code",
   "execution_count": 3,
   "id": "62dcfbd8",
   "metadata": {},
   "outputs": [
    {
     "name": "stdout",
     "output_type": "stream",
     "text": [
      "- 안\n",
      "- 녕\n",
      "- 하\n",
      "- 세\n",
      "- 요\n"
     ]
    }
   ],
   "source": [
    "for character in \"안녕하세요\":\n",
    "    print(\"-\", character)"
   ]
  },
  {
   "cell_type": "code",
   "execution_count": 4,
   "id": "f83f2161",
   "metadata": {},
   "outputs": [
    {
     "name": "stdout",
     "output_type": "stream",
     "text": [
      "1 2 3 4 5 6 7 8 9 10 \n"
     ]
    }
   ],
   "source": [
    "list_numbers = [1 ,2 ,3 ,4 ,5 ,6 ,7 ,8 ,9 ,10]\n",
    "for number in list_numbers:\n",
    "    print(number, end=\" \")\n",
    "print()"
   ]
  },
  {
   "cell_type": "code",
   "execution_count": 6,
   "id": "81542b37",
   "metadata": {},
   "outputs": [
    {
     "name": "stdout",
     "output_type": "stream",
     "text": [
      "1 2 3 4 5 6 7 8 9 10 11 12 13 14 15 16 17 18 19 20 21 22 23 24 25 26 27 28 29 30 \n"
     ]
    }
   ],
   "source": [
    "for number in range(1, 31):\n",
    "    print(number, end=\" \")\n",
    "print()"
   ]
  },
  {
   "cell_type": "code",
   "execution_count": 5,
   "id": "74e7c3d0",
   "metadata": {},
   "outputs": [
    {
     "name": "stdout",
     "output_type": "stream",
     "text": [
      "1 2 3 4 5 6 7 8 9 10 11 12 13 14 15 16 17 18 19 20 21 22 23 24 25 26 27 28 29 30 \n"
     ]
    }
   ],
   "source": [
    "for number in list(range(1, 31)):\n",
    "    print(number, end=\" \")\n",
    "print()"
   ]
  },
  {
   "cell_type": "code",
   "execution_count": 8,
   "id": "490dd161",
   "metadata": {},
   "outputs": [
    {
     "name": "stdout",
     "output_type": "stream",
     "text": [
      "range(1, 31)\n",
      "[1, 2, 3, 4, 5, 6, 7, 8, 9, 10, 11, 12, 13, 14, 15, 16, 17, 18, 19, 20, 21, 22, 23, 24, 25, 26, 27, 28, 29, 30]\n"
     ]
    }
   ],
   "source": [
    "print(range(1, 31))\n",
    "print(list(range(1, 31)))"
   ]
  },
  {
   "cell_type": "code",
   "execution_count": 9,
   "id": "73526395",
   "metadata": {},
   "outputs": [
    {
     "name": "stdout",
     "output_type": "stream",
     "text": [
      "1 2 3 4 5 6 7 8 9 10 \n"
     ]
    }
   ],
   "source": [
    "tuple_numbers = {1, 2, 3, 4, 5, 6, 7, 8, 9, 10}\n",
    "for number in tuple_numbers:\n",
    "    print(number, end= \" \")\n",
    "print()"
   ]
  },
  {
   "cell_type": "code",
   "execution_count": 10,
   "id": "6f57b409",
   "metadata": {},
   "outputs": [
    {
     "name": "stdout",
     "output_type": "stream",
     "text": [
      "(1, 2) (3, 4) (5, 6) \n",
      "1 2 3 4 5 6 \n",
      "1 2\n",
      "3 4\n",
      "5 6\n",
      "--------------------------------------------------\n",
      "2\n",
      "12\n",
      "30\n"
     ]
    }
   ],
   "source": [
    "list_nums = [(1, 2), (3, 4), (5, 6)]\n",
    "for number in list_nums:\n",
    "    print(number, end=\" \")\n",
    "print()\n",
    "for num1, num2 in list_nums:\n",
    "    print(num1, num2, end=\" \")\n",
    "print()\n",
    "for num1, num2, in list_nums:\n",
    "    print(num1, num2)\n",
    "print(\"-\" * 50)\n",
    "for num1, num2, in list_nums:\n",
    "    print(num1 * num2)"
   ]
  },
  {
   "cell_type": "code",
   "execution_count": 13,
   "id": "ecc8a2ef",
   "metadata": {},
   "outputs": [
    {
     "name": "stdout",
     "output_type": "stream",
     "text": [
      "1\n",
      "2\n",
      "3\n",
      "4\n",
      "5\n",
      "--------------------------------------------------\n",
      "0 - 1\n",
      "1 - 2\n",
      "2 - 3\n",
      "3 - 4\n",
      "4 - 5\n"
     ]
    }
   ],
   "source": [
    "'''\n",
    "195 page  -  enumerate() : index 번호와 요소를 같이 할당함\n",
    "'''\n",
    "list_nums = [1, 2, 3, 4, 5]\n",
    "for num in list_nums:\n",
    "    print(num)\n",
    "print(\"-\"*50)\n",
    "for idx, num in enumerate(list_nums):\n",
    "    print(idx,\"-\",num)"
   ]
  },
  {
   "cell_type": "code",
   "execution_count": 14,
   "id": "352303eb",
   "metadata": {},
   "outputs": [
    {
     "name": "stdout",
     "output_type": "stream",
     "text": [
      "1 번 이순신 학생\n",
      "2 번 강감찬 학생\n",
      "3 번 유관순 학생\n",
      "4 번 안중근 학생\n",
      "1 번 이순신 학생\n",
      "2 번 강감찬 학생\n",
      "3 번 유관순 학생\n",
      "4 번 안중근 학생\n",
      "학생은 모두 4 명입니다\n",
      "--------------------------------------------------\n"
     ]
    }
   ],
   "source": [
    "list_students = [\"이순신\",\"강감찬\",\"유관순\",\"안중근\"]\n",
    "'''\n",
    "[출력]\n",
    "1 번 이순신 학생\n",
    "2 번 강감찬 학생\n",
    "3 번 유관순 학생\n",
    "4 번 안중근 학생\n",
    "'''\n",
    "for number, name in enumerate(list_students) :\n",
    "    print(f\"{number +1} 번 {name} 학생\")\n",
    "\n",
    "number = 0\n",
    "for name in list_students:\n",
    "    print(f\"{number+1} 번 {name} 학생\")\n",
    "    number +=1\n",
    "print(f\"학생은 모두 {number} 명입니다\")\n",
    "print(\"-\" * 50)"
   ]
  },
  {
   "cell_type": "code",
   "execution_count": 15,
   "id": "4c89926a",
   "metadata": {},
   "outputs": [
    {
     "name": "stdout",
     "output_type": "stream",
     "text": [
      "1번 학생 합격입니다\n",
      "2번 학생 불합격입니다\n",
      "3번 학생 합격입니다\n",
      "4번 학생 불합격입니다\n",
      "5번 학생 합격입니다\n",
      "--------------------------------------------------\n",
      "1번 학생 합격입니다\n",
      "2번 학생 불합격입니다\n",
      "3번 학생 합격입니다\n",
      "4번 학생 불합격입니다\n",
      "5번 학생 합격입니다\n"
     ]
    }
   ],
   "source": [
    "'''\n",
    "아래(scores)와 같이 학생 5 명의 점수가 있을 때,\n",
    "80 점 이상은 합격\n",
    "80 점 미만은 불합격 이라고 출력하세요\n",
    "\n",
    "[출력 예]\n",
    "1 번 학생 합격입니다\n",
    "2 번 학생 불합격입니다\n",
    "3 번 학생 합격입니다\n",
    "4 번 학생 불합격입니다\n",
    "5 번 학생 합격입니다\n",
    "'''\n",
    "scores = [85, 76, 95, 56, 88]\n",
    "for score in scores:\n",
    "    if score >= 80:\n",
    "        print(f\"{scores. index(score) + 1}번 학생 합격입니다\")\n",
    "    elif score < 80:\n",
    "        print(f\"{scores.index(score) + 1}번 학생 불합격입니다\")\n",
    "print(\"-\" * 50)\n",
    "for idx, score in enumerate(scores):\n",
    "    if score >= 80:\n",
    "        print(f\"{idx + 1}번 학생 합격입니다\")\n",
    "    elif score < 80:\n",
    "        print(f\"{idx + 1}번 학생 불합격입니다\")\n"
   ]
  },
  {
   "cell_type": "code",
   "execution_count": 17,
   "id": "eaf3d1cb",
   "metadata": {},
   "outputs": [
    {
     "name": "stdout",
     "output_type": "stream",
     "text": [
      "1번 학생 합격입니다\n",
      "2번 학생 불합격입니다\n",
      "3번 학생 합격입니다\n",
      "4번 학생 불합격입니다\n",
      "5번 학생 합격입니다\n",
      "합격생은 3 명입니다\n",
      "불합격생은 2 명입니다\n",
      "1번 학생 불합격입니다\n",
      "2번 학생 불합격입니다\n",
      "3번 학생 불합격입니다\n",
      "4번 학생 불합격입니다\n",
      "5번 학생 불합격입니다\n",
      "합격생은   3 명입니다\n",
      "불합격생은 0 명입니다\n",
      "--------------------------------------------------\n"
     ]
    }
   ],
   "source": [
    "scores = [85, 76, 95, 56, 88]\n",
    "count1 = 0\n",
    "count2 = 0\n",
    "for score in scores:\n",
    "    if score >= 80:\n",
    "        print(f\"{scores. index(score) + 1}번 학생 합격입니다\")\n",
    "        count1 += 1\n",
    "    elif score < 80:\n",
    "        print(f\"{scores.index(score) + 1}번 학생 불합격입니다\")\n",
    "        count2 +=1\n",
    "print(f\"합격생은 {count1} 명입니다\")\n",
    "print(f\"불합격생은 {count2} 명입니다\")\n",
    "\n",
    "count1 = 0\n",
    "count2 = 0\n",
    "for idx, score in enumerate(scores):\n",
    "    if score >= 80:\n",
    "        print(f\"{idx +1}번 학생 불합격입니다\")\n",
    "        count1 +=1\n",
    "    elif score < 80:\n",
    "        print(f\"{idx +1}번 학생 불합격입니다\")\n",
    "print(f\"합격생은   {count1} 명입니다\")\n",
    "print(f\"불합격생은 {count2} 명입니다\")\n",
    "print(\"-\" * 50)          "
   ]
  },
  {
   "cell_type": "code",
   "execution_count": 18,
   "id": "67def449",
   "metadata": {},
   "outputs": [
    {
     "name": "stdout",
     "output_type": "stream",
     "text": [
      "1번 이순신학생 : 합격\n",
      "2번 안중근학생 : 합격\n",
      "3번 이재명학생 : 합격\n",
      "4번 김유신학생 : 불합격\n",
      "5번 이율곡학생 : 불합격\n",
      "--------------------------------------------------\n",
      "합격생은   3 명입니다\n",
      "불합격생은 2 명입니다\n"
     ]
    }
   ],
   "source": [
    "'''\n",
    "70 점 이상을 합격이라고 할 때\n",
    "아래와 같이 출력되도록 for문을 작성하세요\n",
    "dictionary 를 사용하세요\n",
    "\n",
    "1번 이순신 학생 : 합격\n",
    "2번 안중근 학생 : 합격\n",
    "3번 이재명 학생 : 합격\n",
    "4번 김유신 학생 : 불합격\n",
    "5번 이율곡 학생 : 불합격\n",
    "'''\n",
    "dict_scores = {\"이순신\":94, \"안중근\":76, \"이재명\":88, \"김유신\":69, \"이율곡\":52}\n",
    "result = \"\"\n",
    "count  = 0\n",
    "success = 0\n",
    "failure = 0\n",
    "for score in dict_scores.values():\n",
    "    if score >= 70:\n",
    "        result = \"합격\"\n",
    "        success += 1\n",
    "    else:\n",
    "        result = \"불합격\"\n",
    "        failure += 1\n",
    "    print(f\"{count + 1}번 {list(dict_scores.keys())[count]}학생 : {result}\")\n",
    "    count += 1\n",
    "print(\"-\" * 50)    \n",
    "print(f\"합격생은   {success} 명입니다\")\n",
    "print(f\"불합격생은 {failure} 명입니다\")"
   ]
  },
  {
   "cell_type": "code",
   "execution_count": 22,
   "id": "556daf44",
   "metadata": {},
   "outputs": [
    {
     "name": "stdout",
     "output_type": "stream",
     "text": [
      "list_numbers : [4]\n",
      "list_numbers : [4, 8]\n",
      "list_numbers : [4, 8, 9]\n",
      "list_numbers : [4, 8, 9, 5]\n",
      "list_numbers : [4, 8, 9, 5, 10]\n",
      "list_numbers : [4, 8, 9, 5, 10, 4]\n",
      "list_numbers : [4, 8, 9, 5, 10, 4, 5]\n",
      "list_numbers : [4, 8, 9, 5, 10, 4, 5, 1]\n",
      "list_numbers : [4, 8, 9, 5, 10, 4, 5, 1, 8]\n",
      "list_numbers : [4, 8, 9, 5, 10, 4, 5, 1, 8, 7]\n",
      "--------------------------------------------------\n",
      "list_numbers : [4, 8, 9, 5, 10, 4, 5, 1, 8, 7]\n"
     ]
    }
   ],
   "source": [
    "'''\n",
    "list_numbers 에 1 부터 10까지의 정수 중에서 \n",
    "임의의 수 10 개 저장하기\n",
    "'''\n",
    "import random\n",
    "list_numbers = []\n",
    "for num in range(10):\n",
    "    list_numbers.append(random.randint(1, 10))\n",
    "    print(\"list_numbers :\", list_numbers)\n",
    "print(\"-\" * 50)    \n",
    "print(\"list_numbers :\", list_numbers)"
   ]
  },
  {
   "cell_type": "code",
   "execution_count": 25,
   "id": "0a4fd39e",
   "metadata": {},
   "outputs": [
    {
     "name": "stdout",
     "output_type": "stream",
     "text": [
      "circle_area: [200.96, 3.14, 200.96, 28.26, 78.5, 153.86, 153.86, 28.26, 254.34, 113.04]\n",
      "------------------------------------------------------------------------------------------\n",
      "78.5 113.04 113.04 78.5 78.5 113.04 3.14 113.04 153.86 113.04 \n",
      "--------------------------------------------------\n"
     ]
    }
   ],
   "source": [
    "'''\n",
    "1 부터 10까지의 임의의 정수를 반지름으로 하는\n",
    "원의 넓이 10 개 출력하기\n",
    "'''\n",
    "import random\n",
    "circle_area = []\n",
    "for idx in range(10):\n",
    "    circle_area.append(random.randint(1,10) ** 2 * 3.14)\n",
    "print(\"circle_area:\", circle_area)\n",
    "print(\"-\"*90)\n",
    "\n",
    "for idx in range(10) :\n",
    "    print(random.randint(1,10) ** 2 * 3.14, end=\" \")\n",
    "print()\n",
    "print(\"-\" * 50)"
   ]
  },
  {
   "cell_type": "code",
   "execution_count": null,
   "id": "60b6afb6",
   "metadata": {},
   "outputs": [],
   "source": [
    "'''\n",
    "168 page\n",
    "'''\n",
    "dict1 = {\n",
    "         \"name\" : \"7D 건조 망고\",\n",
    "         \"type\" : \"당절임\",\n",
    "         \"ingredient\" : [\"망고\", \"설탕\", \"메타중아황산나트륨\", \"치자황색소\"],\n",
    "         \"orign\" : \"필리핀\"    \n",
    "         }\n",
    "key = input(\">접근하고자 하는 키 : \")\n",
    "\n",
    "if key in dict1:\n",
    "    print(dict1[key])\n",
    "else:\n",
    "    print(\"존재하지 않는 key에 접근하고 있습니다\")"
   ]
  },
  {
   "cell_type": "code",
   "execution_count": 4,
   "id": "46affd91",
   "metadata": {},
   "outputs": [
    {
     "name": "stdout",
     "output_type": "stream",
     "text": [
      "name\n",
      "type\n",
      "ingredient\n",
      "origin\n",
      "--------------------------------------------------\n",
      "name\n",
      "type\n",
      "ingredient\n",
      "origin\n",
      "--------------------------------------------------\n",
      "7D 건조 망고\n",
      "당절임\n",
      "['망고', '설탕', '메타중아황산나트륨', '치자황색소']\n",
      "필리핀\n",
      "--------------------------------------------------\n",
      "name\n",
      "type\n",
      "ingredient\n",
      "origin\n"
     ]
    }
   ],
   "source": [
    "'''\n",
    "169 page\n",
    "'''\n",
    "dict1 ={\n",
    "        \"name\" : \"7D 건조 망고\",\n",
    "         \"type\" : \"당절임\",\n",
    "         \"ingredient\" : [\"망고\",\"설탕\",\"메타중아황산나트륨\",\"치자황색소\"],\n",
    "         \"origin\" : \"필리핀\"\n",
    "         }\n",
    "for key in dict1:\n",
    "    print(key)\n",
    "print(\"-\" * 50)    \n",
    "\n",
    "for key in dict1.keys():\n",
    "    print(key)\n",
    "print(\"-\" * 50)\n",
    "\n",
    "for value in dict1.values():\n",
    "    print(value)\n",
    "print(\"-\" * 50)\n",
    "\n",
    "for key in dict1.keys():\n",
    "    print(key)"
   ]
  },
  {
   "cell_type": "code",
   "execution_count": null,
   "id": "ae7cec6a",
   "metadata": {},
   "outputs": [],
   "source": []
  },
  {
   "cell_type": "code",
   "execution_count": null,
   "id": "1c167a5c",
   "metadata": {},
   "outputs": [],
   "source": []
  }
 ],
 "metadata": {
  "kernelspec": {
   "display_name": "Python 3 (ipykernel)",
   "language": "python",
   "name": "python3"
  },
  "language_info": {
   "codemirror_mode": {
    "name": "ipython",
    "version": 3
   },
   "file_extension": ".py",
   "mimetype": "text/x-python",
   "name": "python",
   "nbconvert_exporter": "python",
   "pygments_lexer": "ipython3",
   "version": "3.9.7"
  }
 },
 "nbformat": 4,
 "nbformat_minor": 5
}
