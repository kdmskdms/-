{
 "cells": [
  {
   "cell_type": "code",
   "execution_count": 3,
   "id": "2965a35e",
   "metadata": {},
   "outputs": [
    {
     "name": "stdout",
     "output_type": "stream",
     "text": [
      "성적을 입력하세요 :88\n",
      "당신의 학점은 B- 학점입니다\n"
     ]
    }
   ],
   "source": [
    "score = int(input(\"성적을 입력하세요 :\"))\n",
    "grade = \"\"\n",
    "if 0 <= score <= 100:\n",
    "    if 90 <= score:\n",
    "        grade - \"A\"\n",
    "        if score <= 93:\n",
    "            grade = \"A-\"\n",
    "        elif 97 <= score:\n",
    "            grade = \"A+\"\n",
    "    elif 80 <= score:\n",
    "        grade = \"B\"\n",
    "        if score <= 83:\n",
    "            grade = \"B-\"\n",
    "        elif 87 <= score:\n",
    "            grade = \"B-\"\n",
    "    elif 70 <= score:\n",
    "        grade = \"C\"\n",
    "        if score <= 73:\n",
    "            grade - \"C+\"\n",
    "    elif 60 <= score:\n",
    "        grade = \"D\"\n",
    "        if score <= 63:\n",
    "            grade = \"D-\"\n",
    "        elif 67 <= score:\n",
    "            grade = \"D+\"\n",
    "    else:\n",
    "        grade = \"F\"\n",
    "else:\n",
    "    grade = \"?\"\n",
    "    print(\"성적을 정확하게 입력해주세요\")\n",
    "    \n",
    "if grade !=\"?\":\n",
    "    print(f\"당신의 학점은 {grade} 학점입니다\")\n",
    "    \n",
    "else:\n",
    "    pass"
   ]
  },
  {
   "cell_type": "code",
   "execution_count": 7,
   "id": "d10cb8cd",
   "metadata": {},
   "outputs": [
    {
     "name": "stdout",
     "output_type": "stream",
     "text": [
      "가위 바위 보 중에서 하나를 입력하세요 :바위\n",
      "서로 비겼습니다\n",
      "사람 : 바위\n",
      "컴퓨터 : 바위\n"
     ]
    }
   ],
   "source": [
    "'''\n",
    "random() randint() < -- random 모듈에 있음\n",
    "                        random 모듈을 import 해서 사용함\n",
    "                        \n",
    "random() : 0 부터 1 미만까지의 실수 중\n",
    "           임의의 숫자를 발생시킴\n",
    "\n",
    "randint(start, end) : start 부터 end 까지의 정수 중에서\n",
    "                      임의의 숫자를 발생시킴\n",
    "'''\n",
    "import random\n",
    "com = random.randint(1,3)\n",
    "com_output = \"\"\n",
    "if com == 1:\n",
    "    com_output = \"가위\"\n",
    "elif com == 2:\n",
    "    com_output = \"바위\"\n",
    "elif com == 3:\n",
    "    com_output = \"보\"\n",
    "    \n",
    "user_input = input(\"가위 바위 보 중에서 하나를 입력하세요 :\")\n",
    "user = 0\n",
    "\n",
    "if user_input == \"가위\":\n",
    "    user = 1\n",
    "elif user_input == \"바위\":\n",
    "    user = 2\n",
    "elif user_input == \"보\":\n",
    "    user = 3\n",
    "    \n",
    "else:\n",
    "    comoutput = \"?\"\n",
    "    user = 10\n",
    "\n",
    "if com-user == -1 or com-user == 2:\n",
    "    print(\"사람이 이겼습니다\")\n",
    "elif com-user == 1 or com-user == -2:\n",
    "    print(\"컴퓨터가 이겼습니다\")\n",
    "elif com-user in [-7, -8, -9]:\n",
    "    print(\"가위 바위 보 중에서 하나를 입력하세요\")\n",
    "else:\n",
    "    print(\"서로 비겼습니다\")\n",
    "\n",
    "if com_output !=\"?\":\n",
    "    print(\"사람 :\",user_input)\n",
    "    print(\"컴퓨터 :\", com_output)\n",
    "    \n",
    "else:\n",
    "    pass"
   ]
  },
  {
   "cell_type": "code",
   "execution_count": 14,
   "id": "da179512",
   "metadata": {},
   "outputs": [
    {
     "name": "stdout",
     "output_type": "stream",
     "text": [
      "연도와 달 수를 입력하세요 (공백 한칸으로 구분해서 입력):2020 02\n",
      "2 달은 29일 까지 있습니다\n"
     ]
    }
   ],
   "source": [
    "'''\n",
    "달 수를 입력하면 그 달의 마지막 날짜 출력하기\n",
    "1 3 5 7 8 10 12 : 31일\n",
    "4 6 9 11 : 30일\n",
    "2 : 28(29)일\n",
    "윤년(year)\n",
    "4로 나누어 떨어지고 100으로 나누어 떨어지지 않거나 400으로 나누어 떨어지는 년도\n",
    "if year % 4 == 0  and   year % 100 !=0  or  year % 4 == 0    \n",
    "'''\n",
    "#year = int(input(\"연도를 입력하세여 : \"))\n",
    "#month = int(input(\"달 수를 입력하세요: \"))\n",
    "# unpacking\n",
    "year, month = input(\"연도와 달 수를 입력하세요 (공백 한칸으로 구분해서 입력):\").split()\n",
    "year = int(year)\n",
    "month = int(month)\n",
    "date = 0\n",
    "                    \n",
    "if month == 1 or month == 3 or month == 5 or month == 7\\\n",
    " or month == 8 or month == 10 or month == 12:\n",
    "    date = 31\n",
    "elif month == 4 or month == 6 or month == 9 or month == 11:\n",
    "    date = 30\n",
    "elif month == 2:\n",
    "    if year % 4 == 0 and year % 100 !=0 or year % 4 == 0:\n",
    "        date = 29\n",
    "    else:\n",
    "        date = 28\n",
    "if date != -1:\n",
    "    print(f\"{month} 달은 {date}일 까지 있습니다\")\n",
    "else:\n",
    "    print(\"1 ~ 12월 중에서만 입력하세요\")"
   ]
  },
  {
   "cell_type": "code",
   "execution_count": null,
   "id": "b28063f2",
   "metadata": {},
   "outputs": [],
   "source": [
    "ear, month = input(\"연도와 달 수를 입력하세요 (공백 한칸으로 구분해서 입력) : \").split()\n",
    "year = int(year)\n",
    "month = int(month)\n",
    "date = 0\n",
    "\n",
    "if month in [1, 3, 5, 7, 8, 10, 12]:\n",
    "    date = 31\n",
    "elif month in [4, 6, 9, 11]:\n",
    "    date = 30\n",
    "elif month == 2:\n",
    "    if year % 4 == 0 and year % 100 !=0  or year % 4 == 0:\n",
    "        date = 29\n",
    "    else:\n",
    "        date = 28\n",
    "    \n",
    "\n",
    "if date != -1:\n",
    "    print(f\"{month} 달은 {date}일 까지 있습니다\")\n",
    "else:\n",
    "    print(\"1 ~ 12월 중에서만 입력하세요\")"
   ]
  },
  {
   "cell_type": "code",
   "execution_count": null,
   "id": "2df8b18a",
   "metadata": {},
   "outputs": [],
   "source": [
    "ear, month = input(\"연도와 달 수를 입력하세요 (공백 한칸으로 구분해서 입력) : \").split()\n",
    "year = int(year)\n",
    "month = int(month)\n",
    "date = 0\n",
    "if month == 1 or 3 <= month <=7: \n",
    "    if month % 2 == 1:\n",
    "        date = 31\n",
    "    else:\n",
    "        date = 30\n",
    "elif 8 <= month <=12:\n",
    "    if month % 2 == 0:\n",
    "        date = 31\n",
    "    else:\n",
    "        date = 30\n",
    "elif month == 2:\n",
    "    if year % 4 == 0 and year % 100 !=0  or year % 4 == 0:\n",
    "        date = 29\n",
    "    else:\n",
    "        date = 28\n",
    "else: \n",
    "    date = -1\n",
    "    \n",
    "if date != -1:\n",
    "    print(f\"{month} 달은 {date}일 까지 있습니다\")\n",
    "else:\n",
    "    print(\"1 ~ 12월 중에서만 입력하세요\")"
   ]
  },
  {
   "cell_type": "code",
   "execution_count": 16,
   "id": "0bd42d22",
   "metadata": {},
   "outputs": [
    {
     "name": "stdout",
     "output_type": "stream",
     "text": [
      "주민등록번호를 입력하세요(- 포함하지 않음):1234561234567\n",
      " 당신은 남자입니다\n",
      " 당신은 남자입니다\n",
      " 당신은 남자입니다\n"
     ]
    }
   ],
   "source": [
    "'''\n",
    "주민등록번호를 입력해서\n",
    "남자인지 여자인지 출력\n",
    "예 950123 - 1625987\n",
    "\n",
    "7번째 자리수\n",
    "1, 3 : 남자\n",
    "2, 4 : 여자\n",
    "5, 8 : 외국인 남자\n",
    "6, 8 : 외국인 여자\n",
    "9 : 1800년대 - 남자\n",
    "0 : 1800년대 - 여자\n",
    "1) slicing <-- \"-\" 포함해도 되고 안해도 됨\n",
    "2) split <-- \"-\" 포함해서 입력\n",
    "'''\n",
    "pn = input(\"주민등록번호를 입력하세요(- 포함하지 않음):\")\n",
    "number7th = int(pn[6])\n",
    "number7th = int(pn[6:7])\n",
    "gender = \"\"\n",
    "\n",
    "if number7th in [1, 3]:\n",
    "    gender = \"남자\"\n",
    "elif number7th in [2, 4]:\n",
    "    gender = \"여자\"\n",
    "else:\n",
    "    gender = \"?\"\n",
    "if gender != \"?\":\n",
    "    print(f\" 당신은 {gender}입니다\")\n",
    "\n",
    "else:\n",
    "    gender = \"?\"\n",
    "if gender != \"?\":\n",
    "    print(f\" 당신은 {gender}입니다\")\n",
    "\n",
    "else:\n",
    "    gender = \"?\"\n",
    "if gender != \"?\":\n",
    "    print(f\" 당신은 {gender}입니다\")\n",
    "else:\n",
    "    print(\"주민등록번호를 정확히 입력하세요\")\n",
    "    "
   ]
  },
  {
   "cell_type": "code",
   "execution_count": 21,
   "id": "96029975",
   "metadata": {},
   "outputs": [
    {
     "name": "stdout",
     "output_type": "stream",
     "text": [
      "주민등록번호를 입력하세요( - 포함):123456-1234567\n",
      "pn = pn.split(\"-\") ['123456', '1234567']\n",
      " 당신은 남자입니다\n",
      " 당신은 남자입니다\n"
     ]
    }
   ],
   "source": [
    "pn = input(\"주민등록번호를 입력하세요( - 포함):\")\n",
    "print(\"pn = pn.split(\\\"-\\\")\", pn.split(\"-\"))\n",
    "pn = pn.split(\"-\")[1]\n",
    "number7th = int(pn[0])\n",
    "gender = \"\"\n",
    "\n",
    "if number7th in [1, 3]:\n",
    "    gender = \"남자\"\n",
    "elif number7th in [2, 4]:\n",
    "    gender = \"여자\"\n",
    "else:\n",
    "    gender =\"?\"\n",
    "    \n",
    "if gender != \"?\":\n",
    "    print(f\" 당신은 {gender}입니다\")\n",
    "    \n",
    "else:\n",
    "    gender = \"?\"\n",
    "if gender != \"?\":\n",
    "    print(f\" 당신은 {gender}입니다\")\n",
    "else:\n",
    "    print(\"주민등록번호를 정확히 입력하세요\")"
   ]
  },
  {
   "cell_type": "code",
   "execution_count": 24,
   "id": "523fa59c",
   "metadata": {},
   "outputs": [
    {
     "name": "stdout",
     "output_type": "stream",
     "text": [
      "주민등록번호를 입력하세요 (- 포함하지 않음) :123456134567\n",
      "당신은 남자 입니다\n"
     ]
    }
   ],
   "source": [
    "pn = input(\"주민등록번호를 입력하세요 (- 포함하지 않음) :\")\n",
    "number7th = int(pn[6])\n",
    "number7th = int(pn[6:7])\n",
    "gender = \"\"\n",
    "\n",
    "if number7th in [1,3] :\n",
    "    gender = \"남자\"\n",
    "elif number7th in[2, 4]:\n",
    "    gender = \"여자\"\n",
    "elif number7th in [5 ,7]:\n",
    "    gender = \"외국인 남자\"\n",
    "elif number7th in [6, 8]:\n",
    "    gender = \"외국인 여자\"\n",
    "elif number7th == 9:\n",
    "    gender = \"1800년대 남자\"\n",
    "elif number7th == 0:\n",
    "    gender = \"1800년대 여자\"\n",
    "else:\n",
    "    gender = \"?\"\n",
    "if gender != \"?\":\n",
    "    print(f\"당신은 {gender} 입니다\")\n",
    "else:\n",
    "    print(\"주민등록번호를 정확하게 입력해주세요\")"
   ]
  },
  {
   "cell_type": "code",
   "execution_count": 26,
   "id": "3077365d",
   "metadata": {},
   "outputs": [
    {
     "name": "stdout",
     "output_type": "stream",
     "text": [
      "전화번호를 입력하세요 ( - 포함):011-1234-5678\n",
      "당신은 SKT 사용자입니다\n"
     ]
    }
   ],
   "source": [
    "'''\n",
    "      통신사\n",
    "011    SKT\n",
    "016    KTF\n",
    "019    LGU+\n",
    "\n",
    "휴대전화번호를 입력받아서\n",
    "어느 통신사인지 출력하세요\n",
    "\n",
    "[입력예] 011-6539-9865\n",
    "[출력예] SKT 사용자입니다\n",
    "[힌트]   split() 사용\n",
    "'''\n",
    "phone = input(\"전화번호를 입력하세요 ( - 포함):\")\n",
    "number = phone.split(\"-\")[0]\n",
    "company = \"\"\n",
    "\n",
    "if number == \"011\":\n",
    "    company = \"SKT\"\n",
    "elif number == \"016\":\n",
    "    company = \"KTF\"\n",
    "elif number == \"019\":\n",
    "    company =\"LGU+\"\n",
    "else:\n",
    "    company = \"?\"\n",
    "\n",
    "if company !=\"?\":\n",
    "    print(f\"당신은 {company} 사용자입니다\")\n",
    "else:\n",
    "    print(\"전화번호를 바르게 입력해주세요\")"
   ]
  },
  {
   "cell_type": "code",
   "execution_count": 29,
   "id": "6cf98e05",
   "metadata": {},
   "outputs": [
    {
     "name": "stdout",
     "output_type": "stream",
     "text": [
      "전화번호를 입력하세요 (- 포함하지 않음 ):011-1234-5678\n",
      "당신은 SKT 사용자입니다\n"
     ]
    }
   ],
   "source": [
    "phone = input(\"전화번호를 입력하세요 (- 포함하지 않음 ):\")\n",
    "number = phone[:3]\n",
    "company = \"\"\n",
    "if number == \"011\":\n",
    "    company = \"SKT\"\n",
    "elif number == \"016\":\n",
    "    company = \"KTF\"\n",
    "elif number == \"019\":\n",
    "    company = \"LGU+\"\n",
    "else:\n",
    "    company = \"?\"\n",
    "    \n",
    "if company !=\"?\":\n",
    "    print(f\"당신은 {company} 사용자입니다\")\n",
    "else:\n",
    "    print(\"전화번호를 바르게 입력해 주세요\")"
   ]
  },
  {
   "cell_type": "code",
   "execution_count": 33,
   "id": "50e89d2e",
   "metadata": {},
   "outputs": [
    {
     "name": "stdout",
     "output_type": "stream",
     "text": [
      "위의 우편번호 중 하나를 입력하세요 : 0101\n",
      "당신은 마포구에 거주하십니다\n"
     ]
    }
   ],
   "source": [
    "'''\n",
    "마포구 = [010,011,012]\n",
    "용산구 = [013,014,015]\n",
    "송파구 = [016,017,018]\n",
    "\n",
    "01000, 01100, 01200, 01300, 01400,\n",
    "01500, 01600, 01700, 01800\n",
    "\n",
    "위의 우편번호 중에서 하나를 입력하여\n",
    "어느 구에 거주하는지 출력하세요\n",
    "'''\n",
    "mapo = [\"010\", \"012\", \"013\"]\n",
    "yongsan = [\"014\", \"015\", \"016\"]\n",
    "songpa = [\"017\", \"018\", \"019\"]\n",
    "\n",
    "post_number = input(\"위의 우편번호 중 하나를 입력하세요 : \")\n",
    "post = post_number [:3]\n",
    "goo = \"\"\n",
    "if post in mapo:\n",
    "    goo = \"마포구\"\n",
    "elif post in youngsan:\n",
    "    goo = \"용산구\"\n",
    "else:\n",
    "    goo =\"?\"\n",
    "\n",
    "if goo !=\"?\":\n",
    "    print(f\"당신은 {goo}에 거주하십니다\")\n",
    "else:\n",
    "    print(\"우편번호를 바르게 입력해주세요\")"
   ]
  },
  {
   "cell_type": "code",
   "execution_count": 41,
   "id": "6a132d5d",
   "metadata": {},
   "outputs": [
    {
     "name": "stdout",
     "output_type": "stream",
     "text": [
      "위의 우편번호 중 하나를 입력하세요 : 01234\n",
      "당신은 마포구에 거주하십니다\n"
     ]
    }
   ],
   "source": [
    "post_number = input(\"위의 우편번호 중 하나를 입력하세요 : \")\n",
    "post = post_number[:3]\n",
    "goo = \"\"\n",
    "\n",
    "if len(post_number) == 5:\n",
    "    if post in mapo:\n",
    "        goo = \"마포구\"\n",
    "    elif post in youngsan:\n",
    "        goo = \"용산구\"\n",
    "    elif post in songpa:\n",
    "        goo = \"송파구\"\n",
    "    else:\n",
    "        goo = \"?\"\n",
    "    \n",
    "else:\n",
    "    goo = \"?\"\n",
    "if goo != \"?\":\n",
    "    print(f\"당신은 {goo}에 거주하십니다\")\n",
    "else:\n",
    "    print(\"우편번호를 바르게 입력해 주세요\")"
   ]
  },
  {
   "cell_type": "code",
   "execution_count": 48,
   "id": "b3ad278a",
   "metadata": {},
   "outputs": [
    {
     "name": "stdout",
     "output_type": "stream",
     "text": [
      " 아이디를 입력하세여 : global\n",
      "비밀번호를 입력하세요 : 5555\n",
      "로그인 성공!!\n",
      "로그인 성공 !!\n",
      "로그인 성공 !!\n",
      "로그인 성공 !!\n"
     ]
    }
   ],
   "source": [
    "'''\n",
    "아이디와 비밀번호를 입력받아서  <-- input() 함수 사용\n",
    "아이디가 \"global\"이고 비밀번호가 5555이면\n",
    "\"로그인 성공 !!\"을, \n",
    "아니면 \"로그인 실패\"를 출력하는\n",
    "프로그램을 작성하세요\n",
    "'''\n",
    "ID = input(\" 아이디를 입력하세여 : \")\n",
    "pw = int(input(\"비밀번호를 입력하세요 : \"))\n",
    "\n",
    "#1\n",
    "if ID == \"global\" and pw == 5555:\n",
    "    print(\"로그인 성공!!\")\n",
    "else:\n",
    "    print(\"로그인 실패\")\n",
    "\n",
    "#2\n",
    "if ID == \"global\":\n",
    "    if pw == 5555:\n",
    "        print(\"로그인 성공 !!\")\n",
    "    else:\n",
    "        print(\"비밀번호를 다시 입력해 주세요\")\n",
    "else:\n",
    "    print(\"아이디를 다시 입력해주세요\")\n",
    "#3   \n",
    "flag = ID == \"global\"\n",
    "flag = flag and pw == 5555\n",
    "if flag:\n",
    "    print(\"로그인 성공 !!\")\n",
    "else:\n",
    "    print(\"로그인 실패\")\n",
    "#4\n",
    "flag1 = ID == \"global\"\n",
    "flag2 = pw == 5555\n",
    "if flag1 and flag2:\n",
    "    print(\"로그인 성공 !!\")\n",
    "else:\n",
    "    print(\"로그인 실패\")"
   ]
  },
  {
   "cell_type": "code",
   "execution_count": 54,
   "id": "de21cd3f",
   "metadata": {},
   "outputs": [
    {
     "name": "stdout",
     "output_type": "stream",
     "text": [
      "주민등록번호를 입력하세요 (- 포함): 123456-1234567\n",
      "주민등록 번호를 다시 입력해주세요\n"
     ]
    }
   ],
   "source": [
    "'''\n",
    "주민등록번호를 입력받아서\n",
    "어느 지역 출신인지 출력하세요\n",
    "\n",
    "주민등록번호 8~9 번째 자리수\n",
    "\n",
    "서울특별시 : 00~08\n",
    "부산광역시 : 09~12\n",
    "광주광역시 : (구)55, 56 (신)65, 66\n",
    "'''\n",
    "pn = input(\"주민등록번호를 입력하세요 (- 포함): \")\n",
    "pn = pn.split(\"-\")[1]\n",
    "loc_number = int(pn[1:3])\n",
    "location = \"\"\n",
    "\n",
    "seoul = list(range(9))\n",
    "busan = list(range(9,13))\n",
    "kwangju = [55, 56, 65, 66]\n",
    "loc = [\"서울\", \"부산\", \"광주\"]\n",
    "\n",
    "if loc_number in seoul:\n",
    "    location = loc[0]\n",
    "elif loc_number in busan:\n",
    "    location = loc[1]\n",
    "elif loc_number in kwangju:\n",
    "    location = loc[2]\n",
    "else:\n",
    "    location = \"?\"\n",
    "    \n",
    "if location != \"?\":\n",
    "    print(f\" 당신은 {location} 출신입니다\")\n",
    "else:\n",
    "    print(\"주민등록 번호를 다시 입력해주세요\")"
   ]
  },
  {
   "cell_type": "code",
   "execution_count": null,
   "id": "a092c3f0",
   "metadata": {},
   "outputs": [],
   "source": [
    "'''\n",
    "주민등록번호 유효성 검사\n",
    "\n",
    "  9 5 0 2 1 6 - 2 0 9 6 5 3 5\n",
    "X 2 3 4 5 6 7   8 9 2 3 4 5\n",
    "\n",
    "total % 11 : 11로 나눈 나머지\n",
    "\n",
    "11 - 11로 나눈 나머지  <-- 마지막 번호\n",
    "\n",
    "'''\n",
    "pn = input(\"주민등록번호를 입력하세요 (- 포함): \")\n",
    "total = int(pn[0]) * 2 + int(pn[1]) * 3 + int(pn[2]) * 4 + int(pn[3]) * 5\\\n",
    "      + int(pn[4]) * 6 + int(pn[5]) * 7 + int(pn[7]) * 8 + int(pn[8]) * 9\\\n",
    "      + int(pn[9]) * 2 + int(pn[10]) * 3 + int(pn[11]) * 4 + int(pn[12]) * 5\n",
    "\n",
    "result = 11 - total % 11\n",
    "\n",
    "result = result % 10\n",
    "\n",
    "if result == int(pn[-1]):\n",
    "    print(\"유효한 주민등록번호입니다\")\n",
    "else:\n",
    "    print(\"유효하지 않은 주민등록번호입니다\")"
   ]
  },
  {
   "cell_type": "code",
   "execution_count": null,
   "id": "476e5d05",
   "metadata": {},
   "outputs": [],
   "source": []
  },
  {
   "cell_type": "code",
   "execution_count": null,
   "id": "d6ec490c",
   "metadata": {},
   "outputs": [],
   "source": []
  }
 ],
 "metadata": {
  "kernelspec": {
   "display_name": "Python 3 (ipykernel)",
   "language": "python",
   "name": "python3"
  },
  "language_info": {
   "codemirror_mode": {
    "name": "ipython",
    "version": 3
   },
   "file_extension": ".py",
   "mimetype": "text/x-python",
   "name": "python",
   "nbconvert_exporter": "python",
   "pygments_lexer": "ipython3",
   "version": "3.9.7"
  }
 },
 "nbformat": 4,
 "nbformat_minor": 5
}
