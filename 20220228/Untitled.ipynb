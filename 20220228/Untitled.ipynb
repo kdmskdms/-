{
 "cells": [
  {
   "cell_type": "code",
   "execution_count": 2,
   "id": "b7cd8aeb",
   "metadata": {},
   "outputs": [
    {
     "name": "stdout",
     "output_type": "stream",
     "text": [
      "n1: 10\n",
      "n2: 10\n",
      "n3: 10\n"
     ]
    }
   ],
   "source": [
    "n1 = n2 = n3 = 10\n",
    "print(\"n1:\",n1)\n",
    "print(\"n2:\",n2)\n",
    "print(\"n3:\",n3)"
   ]
  },
  {
   "cell_type": "code",
   "execution_count": 8,
   "id": "e977342a",
   "metadata": {},
   "outputs": [
    {
     "name": "stdout",
     "output_type": "stream",
     "text": [
      "number: 11\n",
      "number: 12\n",
      "number: 13\n",
      "number: 12\n",
      "number: 13\n"
     ]
    }
   ],
   "source": [
    "number = 11\n",
    "print(\"number:\",number)\n",
    "number = number + 1\n",
    "print(\"number:\",number)\n",
    "number += 1\n",
    "print(\"number:\",number)\n",
    "number= number-1\n",
    "print(\"number:\",number)\n",
    "number-=-1\n",
    "print(\"number:\",number)"
   ]
  },
  {
   "cell_type": "code",
   "execution_count": 24,
   "id": "383c3c47",
   "metadata": {},
   "outputs": [
    {
     "name": "stdout",
     "output_type": "stream",
     "text": [
      "list1: []\n",
      "list2: []\n",
      "list3: [1, 2, 3, 4, 5]\n",
      "list4: ['a', 'b', 'c', 'd', 'e']\n",
      "list6: [1, 2, 3, 'python', ['programming', 'best']]\n",
      "list6의 크기: 5\n",
      "list6[len(list6)-1]: ['programming', 'best']\n",
      "list6[-1]: ['programming', 'best']\n"
     ]
    }
   ],
   "source": [
    "list1 = []\n",
    "print(\"list1:\",list1)\n",
    "list2 = list()\n",
    "print(\"list2:\", list2)\n",
    "list3 = [1, 2, 3, 4, 5]\n",
    "print(\"list3:\", list3)\n",
    "list4 =[\"a\", \"b\", \"c\", \"d\", \"e\"]\n",
    "print(\"list4:\", list4)\n",
    "list6 = [1, 2, 3, \"python\", [\"programming\", \"best\"]]\n",
    "print(\"list6:\", list6)\n",
    "print(\"list6의 크기:\",len(list6))\n",
    "print(\"list6[len(list6)-1]:\",list6[len(list6)-1])\n",
    "print(\"list6[-1]:\",list6[-1])"
   ]
  },
  {
   "cell_type": "code",
   "execution_count": 32,
   "id": "f47c6c22",
   "metadata": {},
   "outputs": [
    {
     "name": "stdout",
     "output_type": "stream",
     "text": [
      "list7[4][1]: best\n",
      "list7[-1][-1]: best\n",
      "list7[-1][1]: best\n",
      "list8[2][1]: programming\n",
      "list8[-1][-1][-1]: language\n",
      "list8[2][2][1]: language\n"
     ]
    }
   ],
   "source": [
    "list7 = [1, 2, 3,\"python\", [\"programming\", \"best\"]]\n",
    "print(\"list7[4][1]:\", list7[4][1])\n",
    "print(\"list7[-1][-1]:\", list7[-1][-1])\n",
    "print(\"list7[-1][1]:\", list7[-1][1])\n",
    "list8 = [55, 77, [\"python\", \"programming\", [\"best\",\"language\"]]]\n",
    "print(\"list8[2][1]:\",list8[2][1])\n",
    "print(\"list8[-1][-1][-1]:\",list8[-1][-1][-1])\n",
    "print(\"list8[2][2][1]:\",list8[2][2][1])"
   ]
  },
  {
   "cell_type": "code",
   "execution_count": 40,
   "id": "532f0e0c",
   "metadata": {},
   "outputs": [
    {
     "name": "stdout",
     "output_type": "stream",
     "text": [
      "list1: [1, 2, 3, 4, 5]\n",
      "list2: [6, 7, 8, 9, 10]\n",
      "list_numbers: [1, 2, 3, 4, 5, 6, 7, 8]\n",
      "list_numbers[4]: 5\n",
      "list_numbers[4]: 5555\n",
      "list_numbers: [1, 2, 3, 4, 5555, 6, 7, 8]\n"
     ]
    }
   ],
   "source": [
    "list1 = [1, 2, 3, 4, 5]\n",
    "list2 = [6, 7, 8, 9, 10]\n",
    "print(\"list1:\",list1)\n",
    "print(\"list2:\",list2)\n",
    "list_numbers = [1, 2, 3, 4, 5, 6, 7, 8]\n",
    "print(\"list_numbers:\",list_numbers)\n",
    "print(\"list_numbers[4]:\",list_numbers[4])\n",
    "list_numbers[4] = 5555\n",
    "print(\"list_numbers[4]:\",list_numbers[4])\n",
    "print(\"list_numbers:\",list_numbers)"
   ]
  },
  {
   "cell_type": "code",
   "execution_count": 43,
   "id": "8db41b48",
   "metadata": {},
   "outputs": [
    {
     "name": "stdout",
     "output_type": "stream",
     "text": [
      "greeting: hello\n",
      "helloPython\n"
     ]
    }
   ],
   "source": [
    "#str- 안바뀜\n",
    "greeting = \"hello\"\n",
    "print(\"greeting:\", greeting)\n",
    "print(greeting + \"Python\")"
   ]
  },
  {
   "cell_type": "code",
   "execution_count": 48,
   "id": "9c1c63d6",
   "metadata": {},
   "outputs": [
    {
     "name": "stdout",
     "output_type": "stream",
     "text": [
      "list3: [1, 2, 3, 4, 5, 6, 7, 8, 9, 10]\n",
      "list1: [1, 2, 3, 4, 5]\n",
      "list2: [6, 7, 8, 9, 10]\n",
      "list3 *3: [1, 2, 3, 4, 5, 6, 7, 8, 9, 10, 1, 2, 3, 4, 5, 6, 7, 8, 9, 10, 1, 2, 3, 4, 5, 6, 7, 8, 9, 10]\n",
      "list의 크기 : 5\n"
     ]
    }
   ],
   "source": [
    "list1 = [1, 2, 3, 4, 5]\n",
    "list2 = [6, 7, 8, 9, 10]\n",
    "list3 = list1 + list2\n",
    "print(\"list3:\", list3)\n",
    "print(\"list1:\", list1)\n",
    "print(\"list2:\", list2)\n",
    "print(\"list3 *3:\",list3 *3)\n",
    "print(\"list의 크기 :\", len(list1))"
   ]
  },
  {
   "cell_type": "code",
   "execution_count": 58,
   "id": "77bd0f39",
   "metadata": {},
   "outputs": [
    {
     "name": "stdout",
     "output_type": "stream",
     "text": [
      "hello python\n",
      "list5: [1, 2, 3, 4, 5, 6]\n",
      "list5: [1, 2, 3, 4, 5, 6, [7, 8]]\n",
      "list5: [1, 2, 3, 4, 5, 6, [7, 8], 9, 10]\n"
     ]
    }
   ],
   "source": [
    "str1 = \"hello\"\n",
    "list4 = [\"java\", \"c++\", \"python\", \"spring\"]\n",
    "print(str1 + \" \" + list4[2])\n",
    "list5 = [1, 2, 3, 4, 5]\n",
    "list5.append(6)\n",
    "print(\"list5:\",list5)\n",
    "list5.append([7,8])\n",
    "print(\"list5:\",list5)\n",
    "list5.extend([9,10])\n",
    "print(\"list5:\",list5)"
   ]
  },
  {
   "cell_type": "code",
   "execution_count": 62,
   "id": "bf6311fc",
   "metadata": {},
   "outputs": [
    {
     "name": "stdout",
     "output_type": "stream",
     "text": [
      "[1, 3, 5, 7, 9]\n",
      "[2, 4, 6, 8, 10]\n"
     ]
    }
   ],
   "source": [
    "list_numbers = [1, 2, 3, 4, 5, 6, 7, 8, 9, 10]\n",
    "#홀수만 출력하기\n",
    "print(list_numbers[::2])\n",
    "#짝수만 출력하기\n",
    "print(list_numbers[1::2])"
   ]
  },
  {
   "cell_type": "code",
   "execution_count": 71,
   "id": "fe602b0d",
   "metadata": {},
   "outputs": [
    {
     "name": "stdout",
     "output_type": "stream",
     "text": [
      "list6: [6, 3, 8, 1, 0]\n",
      "sorted_list: [0, 1, 3, 6, 8]\n",
      "list6(원본): [6, 3, 8, 1, 0]\n",
      "sort_list: None\n",
      "list6(원본): [0, 1, 3, 6, 8]\n",
      "reverse_list: None\n",
      "list7: [8, 4, 9, 1, 5, 2, 7]\n"
     ]
    }
   ],
   "source": [
    "list6 = [6, 3, 8, 1,0]\n",
    "print(\"list6:\",list6)\n",
    "sorted_list = sorted(list6)\n",
    "print(\"sorted_list:\",sorted_list)\n",
    "print(\"list6(원본):\",list6)\n",
    "# sort 메소드\n",
    "sort_list = list6.sort()\n",
    "print(\"sort_list:\", sort_list)\n",
    "print(\"list6(원본):\", list6)\n",
    "list7 = [7, 2, 5, 1, 9, 4, 8]\n",
    "reverse_list = list7.reverse()\n",
    "print(\"reverse_list:\",reverse_list)\n",
    "print(\"list7:\", list7)"
   ]
  },
  {
   "cell_type": "code",
   "execution_count": 78,
   "id": "f03e5cba",
   "metadata": {},
   "outputs": [
    {
     "name": "stdout",
     "output_type": "stream",
     "text": [
      "list8: [88, 52, 91, 32, 10]\n",
      "sorted_list : [10, 32, 52, 88, 91]\n",
      "sorted_list : [10, 32, 52, 88, 91]\n"
     ]
    }
   ],
   "source": [
    "list8 = [88, 52, 91, 32, 10]\n",
    "print(\"list8:\",list8)\n",
    "sorted_list = sorted(list8)\n",
    "print(\"sorted_list :\", sorted_list)\n",
    "reverse_list = list8.reverse()\n",
    "print(\"sorted_list :\", sorted_list)"
   ]
  },
  {
   "cell_type": "code",
   "execution_count": 80,
   "id": "2e24ae0d",
   "metadata": {},
   "outputs": [
    {
     "name": "stdout",
     "output_type": "stream",
     "text": [
      "list8: [88, 52, 91, 32, 10]\n",
      "list8: [91, 88, 52, 32, 10]\n"
     ]
    }
   ],
   "source": [
    "#sort\n",
    "list8 = [88, 52, 91, 32, 10]\n",
    "print(\"list8:\",list8)\n",
    "list8.sort()\n",
    "list8.reverse()\n",
    "print(\"list8:\",list8)"
   ]
  },
  {
   "cell_type": "code",
   "execution_count": 83,
   "id": "1ab85b26",
   "metadata": {},
   "outputs": [
    {
     "name": "stdout",
     "output_type": "stream",
     "text": [
      "list9: [9, 5, 3, 6, 8, 0, 2]\n",
      "sorted_list: [0, 2, 3, 5, 6, 8, 9]\n",
      "sorted_reverse_list: [9, 8, 6, 5, 3, 2, 0]\n"
     ]
    }
   ],
   "source": [
    "list9 = [9, 5, 3, 6, 8, 0, 2]\n",
    "print(\"list9:\", list9)\n",
    "sorted_list = sorted(list9)\n",
    "print(\"sorted_list:\", sorted_list)\n",
    "sorted_reverse_list = sorted(list9, reverse = True) \n",
    "print(\"sorted_reverse_list:\", sorted_reverse_list)"
   ]
  },
  {
   "cell_type": "code",
   "execution_count": 85,
   "id": "29a20cc3",
   "metadata": {},
   "outputs": [
    {
     "name": "stdout",
     "output_type": "stream",
     "text": [
      "list9: [0, 2, 3, 5, 6, 8, 9]\n",
      "list9: [0, 2, 3, 5, 6, 8, 9]\n",
      "list9: [9, 8, 6, 5, 3, 2, 0]\n"
     ]
    }
   ],
   "source": [
    "#sort\n",
    "print(\"list9:\", list9)\n",
    "list9.sort(reverse=False)\n",
    "print(\"list9:\", list9)\n",
    "list9.sort(reverse=True)\n",
    "print(\"list9:\", list9)"
   ]
  },
  {
   "cell_type": "code",
   "execution_count": 86,
   "id": "cd82648b",
   "metadata": {},
   "outputs": [
    {
     "name": "stdout",
     "output_type": "stream",
     "text": [
      "alphabet_list: ['d', 'e', 'a', 'b', 'c']\n",
      "alphabet_list.index('b'): 3\n"
     ]
    }
   ],
   "source": [
    "alphabet_list = [\"d\", \"e\", \"a\", \"b\", \"c\"]\n",
    "print(\"alphabet_list:\", alphabet_list)\n",
    "print(\"alphabet_list.index('b'):\", alphabet_list.index('b'))"
   ]
  },
  {
   "cell_type": "code",
   "execution_count": 89,
   "id": "c45697f3",
   "metadata": {},
   "outputs": [
    {
     "name": "stdout",
     "output_type": "stream",
     "text": [
      "letters : ['a', 'b', 'c', 'd', 'e', 'f']\n",
      "letters.pop() : f\n",
      "letters : ['a', 'b', 'c', 'd', 'e']\n"
     ]
    }
   ],
   "source": [
    "letters = [\"a\", \"b\", \"c\", \"d\", \"e\", \"f\"]\n",
    "print(\"letters :\", letters)\n",
    "print(\"letters.pop() :\",letters.pop())\n",
    "print(\"letters :\", letters)"
   ]
  },
  {
   "cell_type": "code",
   "execution_count": 91,
   "id": "fa24bbd5",
   "metadata": {},
   "outputs": [
    {
     "name": "stdout",
     "output_type": "stream",
     "text": [
      "letters : ['a', 'b', 'c', 'd', 'e', 'f']\n",
      "letters.pop(2): c\n",
      "letters: ['a', 'b', 'd', 'e', 'f']\n"
     ]
    }
   ],
   "source": [
    "letters = [\"a\", \"b\", \"c\", \"d\", \"e\", \"f\"]\n",
    "print(\"letters :\", letters)\n",
    "print(\"letters.pop(2):\", letters.pop(2))\n",
    "print(\"letters:\", letters)"
   ]
  },
  {
   "cell_type": "code",
   "execution_count": 98,
   "id": "0e55789e",
   "metadata": {},
   "outputs": [
    {
     "name": "stdout",
     "output_type": "stream",
     "text": [
      "letters : ['a', 'b', 'c', 'd', 'e']\n",
      "letters.remove(\"b\"): None\n",
      "letters: ['a', 'c', 'd', 'e']\n",
      "letters: ['a', 'c', 'd', 'e']\n",
      "letters: []\n"
     ]
    }
   ],
   "source": [
    "#remove\n",
    "letters = [\"a\", \"b\", \"c\", \"d\", \"e\"]\n",
    "print(\"letters :\", letters)\n",
    "print(\"letters.remove(\\\"b\\\"):\",letters.remove(\"b\"))\n",
    "print(\"letters:\",letters)\n",
    "print(\"letters:\",letters)\n",
    "#clear\n",
    "letters.clear()\n",
    "print(\"letters:\",letters)"
   ]
  },
  {
   "cell_type": "code",
   "execution_count": 102,
   "id": "72ee6592",
   "metadata": {},
   "outputs": [
    {
     "name": "stdout",
     "output_type": "stream",
     "text": [
      "number : 10\n"
     ]
    }
   ],
   "source": [
    "number = 10\n",
    "print(\"number :\", number)\n",
    "del number\n",
    "#NameError: name 'number' is not defined"
   ]
  },
  {
   "cell_type": "code",
   "execution_count": 106,
   "id": "8ceab7f1",
   "metadata": {},
   "outputs": [
    {
     "name": "stdout",
     "output_type": "stream",
     "text": [
      "letters: ['a', 'b', 'd', 'e', 'f']\n",
      "letters: ['a', 'b', 'e', 'f']\n"
     ]
    }
   ],
   "source": [
    "#del\n",
    "letters = ['a', 'b', 'd', 'e', 'f']\n",
    "print(\"letters:\",letters)\n",
    "del letters[2]\n",
    "print(\"letters:\",letters)"
   ]
  },
  {
   "cell_type": "code",
   "execution_count": 109,
   "id": "1e43f56d",
   "metadata": {},
   "outputs": [
    {
     "name": "stdout",
     "output_type": "stream",
     "text": [
      "list_numbers.count(1): 1\n",
      "list_numbers.count(2): 2\n",
      "list_numbers.count(6): 1\n"
     ]
    }
   ],
   "source": [
    "#count\n",
    "list_numbers = [1, 2, 2, 3, 3, 3, 4, 4, 4, 4, 5, 5, 5, 5, 5, 6, 7]\n",
    "print(\"list_numbers.count(1):\", list_numbers.count(1))\n",
    "print(\"list_numbers.count(2):\", list_numbers.count(2))\n",
    "print(\"list_numbers.count(6):\", list_numbers.count(6))"
   ]
  },
  {
   "cell_type": "code",
   "execution_count": 116,
   "id": "43a82009",
   "metadata": {},
   "outputs": [
    {
     "name": "stdout",
     "output_type": "stream",
     "text": [
      "list_movies : ['동물사전', '닥터두리틀', '초콜릿공장', '마이펫', '마틸다']\n",
      "list_movies : ['동물사전', '닥터두리틀', '초콜릿공장', '마이펫', '마틸다', '지구의 밤']\n",
      "list_movies : ['동물사전', '닥터두리틀', '초콜릿공장', '마이펫', '마틸다', '지구의 밤', '지', '구', '의', '밤']\n",
      "list_movies : ['동물사전', '닥터두리틀', '패딩턴', '초콜릿공장', '마이펫', '마틸다', '지구의 밤', '지', '구', '의', '밤']\n"
     ]
    }
   ],
   "source": [
    "list_movies = [\"동물사전\", \"닥터두리틀\", \"초콜릿공장\", \"마이펫\", \"마틸다\"]\n",
    "print(\"list_movies :\", list_movies)\n",
    "list_movies.append(\"지구의 밤\")\n",
    "print(\"list_movies :\", list_movies)\n",
    "list_movies.extend(\"지구의밤\")\n",
    "print(\"list_movies :\", list_movies)\n",
    "list_movies.insert(list_movies.index(\"초콜릿공장\"),\"패딩턴\")\n",
    "print(\"list_movies :\", list_movies)"
   ]
  },
  {
   "cell_type": "code",
   "execution_count": 119,
   "id": "0b742e0c",
   "metadata": {},
   "outputs": [
    {
     "name": "stdout",
     "output_type": "stream",
     "text": [
      "list_movies: ['동물사전', '닥터두리틀', '패딩턴', '초콜릿공장', '마이펫', '마틸다', '지구의밤']\n",
      "list_movies: ['동물사전', '닥터두리틀', '패딩턴', '초콜릿공장', '마틸다', '지구의밤']\n"
     ]
    }
   ],
   "source": [
    "'''\n",
    "마이펫을 삭제하시오 - remove() /pop() / del\n",
    "'''\n",
    "list_movies = ['동물사전', '닥터두리틀', '패딩턴', '초콜릿공장', '마이펫', '마틸다', '지구의밤']\n",
    "print(\"list_movies:\",list_movies)\n",
    "list_movies.remove(\"마이펫\")\n",
    "print(\"list_movies:\",list_movies)"
   ]
  },
  {
   "cell_type": "code",
   "execution_count": 127,
   "id": "1294fe8d",
   "metadata": {},
   "outputs": [
    {
     "name": "stdout",
     "output_type": "stream",
     "text": [
      "list_movies: ['동물사전', '닥터두리틀', '패딩턴', '초콜릿공장', '마이펫', '마틸다', '지구의밤']\n",
      "list_movies: ['동물사전', '닥터두리틀', '패딩턴', '초콜릿공장', '마틸다', '지구의밤']\n",
      "list_movies: ['동물사전', '닥터두리틀', '패딩턴', '초콜릿공장', '마틸다', '지구의밤']\n"
     ]
    }
   ],
   "source": [
    "list_movies = ['동물사전', '닥터두리틀', '패딩턴', '초콜릿공장', '마이펫', '마틸다', '지구의밤']\n",
    "print(\"list_movies:\",list_movies)\n",
    "list_movies.pop(list_movies.index(\"마이펫\"))\n",
    "print(\"list_movies:\", list_movies)\n",
    "list_movies = ['동물사전', '닥터두리틀', '패딩턴', '초콜릿공장', '마이펫', '마틸다', '지구의밤']\n",
    "del list_movies[list_movies.index(\"마이펫\")]\n",
    "print(\"list_movies:\", list_movies)"
   ]
  },
  {
   "cell_type": "code",
   "execution_count": 135,
   "id": "ee2ced5d",
   "metadata": {},
   "outputs": [
    {
     "name": "stdout",
     "output_type": "stream",
     "text": [
      "list_movies: ['동물사전', '닥터두리틀', '패딩턴', '초콜릿공장', '마이펫', '지구의밤']\n",
      "list_movies: ['동물사전', '닥터두리틀', '패딩턴', '초콜릿공장', '마이펫']\n",
      "list_movies: ['동물사전', '닥터두리틀', '패딩턴', '초콜릿공장', '마이펫', '마틸다', '지구의밤']\n",
      "list_movies: ['동물사전', '닥터두리틀', '패딩턴', '초콜릿공장', '마이펫']\n",
      "list_movies: ['동물사전', '닥터두리틀', '패딩턴', '초콜릿공장', '마이펫', '마틸다']\n",
      "list_movies: ['동물사전', '닥터두리틀', '패딩턴', '초콜릿공장', '마이펫']\n"
     ]
    }
   ],
   "source": [
    "'''\n",
    "마틸다\"와 \"지구의 밤\" 을 삭제하세요 - remove() /pop() / del\n",
    "'''\n",
    "list_movies = ['동물사전', '닥터두리틀', '패딩턴', '초콜릿공장', '마이펫', '마틸다', '지구의밤']\n",
    "list_movies.pop(5)\n",
    "print(\"list_movies:\", list_movies)\n",
    "list_movies.pop(5)\n",
    "print(\"list_movies:\", list_movies)\n",
    "list_movies = ['동물사전', '닥터두리틀', '패딩턴', '초콜릿공장', '마이펫', '마틸다', '지구의밤']\n",
    "print(\"list_movies:\", list_movies)\n",
    "del list_movies[5:7]\n",
    "print(\"list_movies:\", list_movies)\n",
    "list_movies = ['동물사전', '닥터두리틀', '패딩턴', '초콜릿공장', '마이펫', '마틸다', '지구의밤']\n",
    "list_movies.pop(6)\n",
    "print(\"list_movies:\", list_movies)\n",
    "list_movies.pop(5)\n",
    "print(\"list_movies:\", list_movies)"
   ]
  },
  {
   "cell_type": "code",
   "execution_count": null,
   "id": "6e922d45",
   "metadata": {},
   "outputs": [],
   "source": []
  }
 ],
 "metadata": {
  "kernelspec": {
   "display_name": "Python 3 (ipykernel)",
   "language": "python",
   "name": "python3"
  },
  "language_info": {
   "codemirror_mode": {
    "name": "ipython",
    "version": 3
   },
   "file_extension": ".py",
   "mimetype": "text/x-python",
   "name": "python",
   "nbconvert_exporter": "python",
   "pygments_lexer": "ipython3",
   "version": "3.9.7"
  }
 },
 "nbformat": 4,
 "nbformat_minor": 5
}
