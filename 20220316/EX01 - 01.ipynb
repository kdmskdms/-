{
 "cells": [
  {
   "cell_type": "code",
   "execution_count": 3,
   "id": "bfcc7e11",
   "metadata": {},
   "outputs": [
    {
     "name": "stdout",
     "output_type": "stream",
     "text": [
      "--------- 학생 목록 ---------\n",
      "번호\t이름\t총점\t평균\n",
      "------------------------------\n",
      "(인스턴스변수)1[(클래스변수5)]\t윤인성\t368\t92.0\n",
      "(인스턴스변수)2[(클래스변수5)]\t연하진\t384\t96.0\n",
      "(인스턴스변수)3[(클래스변수5)]\t구지연\t356\t89.0\n",
      "(인스턴스변수)4[(클래스변수5)]\t나선주\t378\t94.5\n",
      "(인스턴스변수)5[(클래스변수5)]\t윤아린\t389\t97.25\n",
      "------------------------------\n"
     ]
    }
   ],
   "source": [
    "class Student:\n",
    "    count = 0\n",
    "    students = []\n",
    "\n",
    "    @classmethod\n",
    "    def print_score(cls):\n",
    "        print(\"--------- 학생 목록 ---------\")\n",
    "        print(\"번호\\t이름\\t총점\\t평균\")\n",
    "        print(\"-\" * 30)\n",
    "        for student in cls.students:\n",
    "            print(student)\n",
    "        print(\"-\" * 30)    \n",
    "    \n",
    "    def __init__(self, name, korean, math, english, science):\n",
    "        self.name = name\n",
    "        self.korean = korean\n",
    "        self.math = math\n",
    "        self.english = english\n",
    "        self.science = science\n",
    "        \n",
    "        Student.count += 1    \n",
    "        self.number = Student.count\n",
    "        Student.students.append(self)\n",
    "    def get_sum(self):\n",
    "        return self.korean + self.math + self.english + self.science\n",
    "    \n",
    "    def get_average(self):\n",
    "        return self.get_sum() / 4    \n",
    "    def __str__(self):\n",
    "        return f\"(인스턴스변수){self.number}[(클래스변수{Student .count})]\\t{self.name}\\t{self.get_sum()}\\t{self.get_average()}\"\n",
    "    \n",
    "s1 = Student(\"윤인성\",87,98,88,95)\n",
    "s2 = Student(\"연하진\",92,98,96,98)\n",
    "s3 = Student(\"구지연\",76,96,94,90)\n",
    "s4 = Student(\"나선주\",98,92,96,92)\n",
    "s5 = Student(\"윤아린\",95,98,98,98)\n",
    "\n",
    "Student.print_score()"
   ]
  },
  {
   "cell_type": "code",
   "execution_count": 4,
   "id": "7ca69515",
   "metadata": {},
   "outputs": [
    {
     "name": "stdout",
     "output_type": "stream",
     "text": [
      "[객체가 생성되기 전에 클래스 변수의 값을 확인함] Test.age : 20\n",
      "-- Test클래스의 객체를 생성한 이후 인스턴스 메소드를 호출함 --\n",
      "이름 : 글로벌, 나이 : 20 살\n"
     ]
    }
   ],
   "source": [
    "class Test:\n",
    "    age = 20\n",
    "    def __init__(self):\n",
    "        self.name = \"글로벌\"\n",
    "    @classmethod\n",
    "    def display_info(cls):\n",
    "        print(f\"이름 : {self.name}, 나이 : {cls.age} 살\") \n",
    "\n",
    "    def display_Test(self):\n",
    "        print(f\"이름 : {self.name}, 나이 : {Test.age} 살\") \n",
    "\n",
    "print(\"[객체가 생성되기 전에 클래스 변수의 값을 확인함] Test.age :\",Test.age)\n",
    "t1 = Test()\n",
    "print(\"-- Test클래스의 객체를 생성한 이후 인스턴스 메소드를 호출함 --\")\n",
    "t1.display_Test()"
   ]
  },
  {
   "cell_type": "code",
   "execution_count": 5,
   "id": "f37bc3e9",
   "metadata": {},
   "outputs": [
    {
     "name": "stdout",
     "output_type": "stream",
     "text": [
      "c4_1.add()      : 18\n",
      "c4_1.subtract() : 2\n",
      "c4_1.multiply() : 80\n",
      "c4_1.divide()   : 1.25\n"
     ]
    }
   ],
   "source": [
    "class Calc4:\n",
    "    def __init__(self, num1, num2):\n",
    "        self.num1 = num1\n",
    "        self.num2 = num2\n",
    "        self.result = 0\n",
    "    def add(self):\n",
    "        self.result = self.num1 + self.num2\n",
    "        return self.result\n",
    "    def subtract(self):\n",
    "        self.result = self.num1 - self.num2\n",
    "        return self.result\n",
    "    def multiply(self):\n",
    "        self.result = self.num1 * self.num2\n",
    "        return self.result\n",
    "    def divide(self):\n",
    "        self.result = self.num1 / self.num2\n",
    "        return self.result\n",
    "        \n",
    "c4_1 = Calc4(10, 8)        \n",
    "print(\"c4_1.add()      :\",c4_1.add())\n",
    "print(\"c4_1.subtract() :\",c4_1.subtract())\n",
    "print(\"c4_1.multiply() :\",c4_1.multiply())\n",
    "print(\"c4_1.divide()   :\",c4_1.divide())"
   ]
  },
  {
   "cell_type": "code",
   "execution_count": 6,
   "id": "e0694df7",
   "metadata": {},
   "outputs": [
    {
     "name": "stdout",
     "output_type": "stream",
     "text": [
      "c4_p.add()      : 18\n",
      "c4_p.subtract() : 2\n",
      "c4_p.multiply() : 80\n",
      "c4_p.divide()   : 1.25\n",
      "c4_p.power()    : 100000000\n"
     ]
    }
   ],
   "source": [
    "class Calc4Power(Calc4):  \n",
    "    def power(self):\n",
    "        self.result = self.num1 ** self.num2\n",
    "        return self.result     \n",
    "    \n",
    "c4_p = Calc4Power(10, 8)   \n",
    "print(\"c4_p.add()      :\",c4_p.add())\n",
    "print(\"c4_p.subtract() :\",c4_p.subtract())\n",
    "print(\"c4_p.multiply() :\",c4_p.multiply())\n",
    "print(\"c4_p.divide()   :\",c4_p.divide())\n",
    "print(\"c4_p.power()    :\",c4_p.power())"
   ]
  },
  {
   "cell_type": "code",
   "execution_count": 7,
   "id": "a53069b4",
   "metadata": {},
   "outputs": [
    {
     "name": "stdout",
     "output_type": "stream",
     "text": [
      "c4_m.add()        : 18\n",
      "c4_m.subtract()   : 2\n",
      "c4_m.multiply()   : 80\n",
      "c4_m.divide()     : 1.25\n",
      "c4_m.modulos()    : 2\n"
     ]
    }
   ],
   "source": [
    "class Calc4Modulos(Calc4):\n",
    "    def modulos(self):\n",
    "        self.result = self.num1 % self.num2\n",
    "        return self.result     \n",
    "    \n",
    "c4_m = Calc4Modulos(10, 8)   \n",
    "print(\"c4_m.add()        :\",c4_m.add())\n",
    "print(\"c4_m.subtract()   :\",c4_m.subtract())\n",
    "print(\"c4_m.multiply()   :\",c4_m.multiply())\n",
    "print(\"c4_m.divide()     :\",c4_m.divide())\n",
    "print(\"c4_m.modulos()    :\",c4_m.modulos())"
   ]
  },
  {
   "cell_type": "code",
   "execution_count": 11,
   "id": "d54d7781",
   "metadata": {},
   "outputs": [
    {
     "name": "stdout",
     "output_type": "stream",
     "text": [
      "Parent 클래스의 __init__() [생성자] 가 호출되었습니다\n",
      "Child 클래스의 __init__() [생성자] 가 호출되었습니다\n",
      "Parent 클래스의 test() 메소드입니다\n",
      "child.value : 테스트\n"
     ]
    }
   ],
   "source": [
    "\n",
    "class Parent:\n",
    "    def __init__(self):\n",
    "        self.value = \"테스트\"\n",
    "        print(\"Parent 클래스의 __init__() [생성자] 가 호출되었습니다\")\n",
    "    def test(self):\n",
    "        print(\"Parent 클래스의 test() 메소드입니다\")\n",
    "class Child(Parent):\n",
    "    def __init__(self):\n",
    "        # Parent.__init__(self)\n",
    "        super().__init__()\n",
    "        print(\"Child 클래스의 __init__() [생성자] 가 호출되었습니다\")\n",
    "        \n",
    "child = Child()\n",
    "\n",
    "child.test()\n",
    "print(\"child.value :\",child.value)"
   ]
  },
  {
   "cell_type": "code",
   "execution_count": 9,
   "id": "9245a87b",
   "metadata": {},
   "outputs": [
    {
     "name": "stdout",
     "output_type": "stream",
     "text": [
      "Parent 클래스의 __init__() [생성자] 가 호출되었습니다\n",
      "Parent 클래스의 test() 메소드입니다\n",
      "child.value : 테스트\n"
     ]
    }
   ],
   "source": [
    "class Parent:\n",
    "    def __init__(self):\n",
    "        self.value = \"테스트\"\n",
    "        print(\"Parent 클래스의 __init__() [생성자] 가 호출되었습니다\")\n",
    "    def test(self):\n",
    "        print(\"Parent 클래스의 test() 메소드입니다\")\n",
    "              \n",
    "class Child(Parent):\n",
    "    pass\n",
    "\n",
    "child = Child()\n",
    "child.test()\n",
    "print(\"child.value :\",child.value)"
   ]
  },
  {
   "cell_type": "code",
   "execution_count": 10,
   "id": "d097a1dd",
   "metadata": {},
   "outputs": [
    {
     "name": "stdout",
     "output_type": "stream",
     "text": [
      "Parent 클래스의 __init__() [생성자] 가 호출되었습니다\n",
      "parent.value : 테스트\n",
      "Parent 클래스의 test() 메소드입니다\n",
      "------------------------------------------------------------\n",
      "Child 클래스의 __init__() [생성자] 가 호출되었습니다\n",
      "Child 클래스의 test() 메소드입니다\n"
     ]
    }
   ],
   "source": [
    "class Parent:\n",
    "    def __init__(self):\n",
    "        self.value = \"테스트\"\n",
    "        print(\"Parent 클래스의 __init__() [생성자] 가 호출되었습니다\")\n",
    "    def test(self):\n",
    "        print(\"Parent 클래스의 test() 메소드입니다\")\n",
    "              \n",
    "class Child(Parent):\n",
    "    def __init__(self):        \n",
    "        print(\"Child 클래스의 __init__() [생성자] 가 호출되었습니다\")\n",
    "    def test(self):\n",
    "        print(\"Child 클래스의 test() 메소드입니다\")\n",
    "        \n",
    "parent = Parent()        \n",
    "print(\"parent.value :\",parent.value)\n",
    "parent.test() \n",
    "print(\"-\" * 60)\n",
    "child = Child()\n",
    "child.test()"
   ]
  },
  {
   "cell_type": "code",
   "execution_count": null,
   "id": "af0a828d",
   "metadata": {},
   "outputs": [],
   "source": [
    "class Animal:\n",
    "    def sound(self):\n",
    "        print(\"소리를 냅니다\")        \n",
    "class Dog(Animal):\n",
    "    pass\n",
    "class Cat(Animal):\n",
    "    pass    \n",
    "animal = Animal()\n",
    "animal.sound()\n",
    "dog = Dog()\n",
    "dog.sound()\n",
    "cat = Cat()\n",
    "cat.sound()"
   ]
  },
  {
   "cell_type": "code",
   "execution_count": null,
   "id": "f2ad8f9e",
   "metadata": {},
   "outputs": [],
   "source": [
    "class Animal:\n",
    "    def sound(self):\n",
    "        print(\"소리를 냅니다\")        \n",
    "class Dog(Animal):\n",
    "    def sound(self):\n",
    "        print(\"소리를 냅니다\") \n",
    "class Cat(Animal):\n",
    "    def sound(self):\n",
    "        print(\"소리를 냅니다\")\n",
    "animal2 = Animal()\n",
    "animal2.sound()\n",
    "dog2 = Dog()\n",
    "dog2.sound()\n",
    "cat2 = Cat()\n",
    "cat2.sound()        "
   ]
  },
  {
   "cell_type": "code",
   "execution_count": null,
   "id": "dd3af2a8",
   "metadata": {},
   "outputs": [],
   "source": [
    "class Animal:\n",
    "    def sound(self):\n",
    "        print(\"소리를 냅니다\")        \n",
    "class Dog(Animal):\n",
    "    \n",
    "    def sound(self, str1):\n",
    "        print(str1,\"소리를 냅니다 - 멍멍\")        \n",
    "class Cat(Animal):\n",
    "    def sound(self):\n",
    "        print(\"소리를 냅니다 - 야옹\")        \n",
    "animal3 = Animal()\n",
    "animal3.sound()\n",
    "dog3 = Dog()\n",
    "dog3.sound(\"안녕하세요\")\n",
    "cat3 = Cat()\n",
    "cat3.sound()"
   ]
  },
  {
   "cell_type": "code",
   "execution_count": null,
   "id": "cc5f7c4e",
   "metadata": {},
   "outputs": [],
   "source": [
    "class Animal:\n",
    "    def sound(self):\n",
    "        print(\"소리를 냅니다\")        \n",
    "class Dog(Animal):\n",
    "   \n",
    "    def sound(self):\n",
    "        print(\"소리를 냅니다-멍멍\")     \n",
    "    def sound(self, str1):\n",
    "        print(str1,\"소리를 냅니다 - 멍멍\")        \n",
    "class Cat(Animal):\n",
    "    def sound(self):\n",
    "        print(\"소리를 냅니다 - 야옹\")        \n",
    "animal4 = Animal()\n",
    "animal4.sound()\n",
    "dog4 = Dog()\n",
    "# dog4.sound()\n",
    "dog4.sound(\"안녕하세요\")\n",
    "cat4 = Cat()\n",
    "cat4.sound()"
   ]
  },
  {
   "cell_type": "code",
   "execution_count": null,
   "id": "1a5f03b6",
   "metadata": {},
   "outputs": [],
   "source": [
    "class Animal:\n",
    "    def sound(self):\n",
    "        print(\"소리를 냅니다\")        \n",
    "class Dog(Animal):\n",
    "   \n",
    "    def sound(self, str1):\n",
    "        print(str1,\"소리를 냅니다 - 멍멍\")  \n",
    "    def sound(self):\n",
    "        print(\"소리를 냅니다-멍멍\")               \n",
    "class Cat(Animal):\n",
    "    def sound(self):\n",
    "        print(\"소리를 냅니다 - 야옹\")        \n",
    "animal5 = Animal()\n",
    "animal5.sound()\n",
    "dog5= Dog()\n",
    "dog5.sound()\n",
    "# dog5.sound(\"안녕하세요\")\n",
    "cat5 = Cat()\n",
    "cat5.sound()"
   ]
  }
 ],
 "metadata": {
  "kernelspec": {
   "display_name": "Python 3 (ipykernel)",
   "language": "python",
   "name": "python3"
  },
  "language_info": {
   "codemirror_mode": {
    "name": "ipython",
    "version": 3
   },
   "file_extension": ".py",
   "mimetype": "text/x-python",
   "name": "python",
   "nbconvert_exporter": "python",
   "pygments_lexer": "ipython3",
   "version": "3.9.7"
  }
 },
 "nbformat": 4,
 "nbformat_minor": 5
}
