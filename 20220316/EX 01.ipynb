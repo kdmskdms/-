{
 "cells": [
  {
   "cell_type": "code",
   "execution_count": null,
   "id": "b5a17abc",
   "metadata": {},
   "outputs": [],
   "source": [
    "class Parent:\n",
    "    def __init__(self):\n",
    "        self.value = \"테스트\"\n",
    "        print(\"Parent 클래스의 __init__() [생성자]가 호출되었습니다\")\n",
    "    def test(self):\n",
    "\n",
    "class Child(Parent):\n",
    "    def __init__(self):\n",
    "        print(\"Child 클래스의 __init__()[생성자]가 호출되었습니다\")"
   ]
  },
  {
   "cell_type": "code",
   "execution_count": 1,
   "id": "2ce01598",
   "metadata": {},
   "outputs": [
    {
     "ename": "AttributeError",
     "evalue": "'Parent' object has no attribute 'value'",
     "output_type": "error",
     "traceback": [
      "\u001b[1;31m---------------------------------------------------------------------------\u001b[0m",
      "\u001b[1;31mAttributeError\u001b[0m                            Traceback (most recent call last)",
      "\u001b[1;32mC:\\Users\\KIMDON~1\\AppData\\Local\\Temp/ipykernel_23840/714083236.py\u001b[0m in \u001b[0;36m<module>\u001b[1;34m\u001b[0m\n\u001b[0;32m     14\u001b[0m \u001b[1;33m\u001b[0m\u001b[0m\n\u001b[0;32m     15\u001b[0m \u001b[0mparent\u001b[0m \u001b[1;33m=\u001b[0m \u001b[0mParent\u001b[0m\u001b[1;33m(\u001b[0m\u001b[1;33m)\u001b[0m\u001b[1;33m\u001b[0m\u001b[1;33m\u001b[0m\u001b[0m\n\u001b[1;32m---> 16\u001b[1;33m \u001b[0mprint\u001b[0m\u001b[1;33m(\u001b[0m\u001b[1;34m\"parent.value:\"\u001b[0m\u001b[1;33m,\u001b[0m \u001b[0mparent\u001b[0m\u001b[1;33m.\u001b[0m\u001b[0mvalue\u001b[0m\u001b[1;33m)\u001b[0m\u001b[1;33m\u001b[0m\u001b[1;33m\u001b[0m\u001b[0m\n\u001b[0m\u001b[0;32m     17\u001b[0m \u001b[1;33m\u001b[0m\u001b[0m\n\u001b[0;32m     18\u001b[0m \u001b[0mchild\u001b[0m \u001b[1;33m=\u001b[0m \u001b[0mChild\u001b[0m\u001b[1;33m(\u001b[0m\u001b[1;33m)\u001b[0m\u001b[1;33m\u001b[0m\u001b[1;33m\u001b[0m\u001b[0m\n",
      "\u001b[1;31mAttributeError\u001b[0m: 'Parent' object has no attribute 'value'"
     ]
    }
   ],
   "source": [
    "'''\n",
    "407 page\n",
    "오버라이딩\n",
    "\n",
    "자식클래스에서,\n",
    "부모클래스에 있는 메소드(생성자)를 상속받아서\n",
    "그 내용을 변경하면 변경된 내용이 실행됨\n",
    "ㄴ 부모클래스에 있는 메소드(생성자)를 상속받아서\n",
    "   자식클래스에 맞게 내용을 변경하면\n",
    "   변경된 내용이 실행됨\n",
    "    ㄴ 부모에 정의된 메소드의 선언부와\n",
    "       자식에서 상속한 메소드의 선언부가 일치하고\n",
    "       구현부(body-몸통)의 내용을 변경하는 것\n",
    "'''\n",
    "class Parent:\n",
    "    def __init(self):\n",
    "        print(\"Child 클래스의 __init__()[생성자]가 호출되었습니다\")\n",
    "        \n",
    "parent = Parent()\n",
    "print(\"parent.value:\", parent.value)\n",
    "\n",
    "child = Child()\n",
    "child.test()\n"
   ]
  },
  {
   "cell_type": "code",
   "execution_count": 7,
   "id": "cf5ff0af",
   "metadata": {},
   "outputs": [
    {
     "name": "stdout",
     "output_type": "stream",
     "text": [
      "소리를 냅니다\n",
      "소리를 냅니다\n",
      "소리를 냅니다\n"
     ]
    }
   ],
   "source": [
    "class Animal:\n",
    "    def sound(self):\n",
    "        print(\"소리를 냅니다\")\n",
    "class Dog(Animal):\n",
    "    #부모 클래스에 있는 메소드와 선언부가 일치해야\n",
    "    #메소드 overiding 이라고 함\n",
    "    #아래의 sound() 메소드는 부모에 있는 메소드와\n",
    "    #선언부가 다름\n",
    "    pass\n",
    "class Cat(Animal):\n",
    "    pass\n",
    "\n",
    "animal = Animal()\n",
    "animal.sound()\n",
    "\n",
    "dog = Dog()\n",
    "dog.sound()\n",
    "cat = Cat()\n",
    "cat.sound()"
   ]
  },
  {
   "cell_type": "code",
   "execution_count": 14,
   "id": "2812b69a",
   "metadata": {},
   "outputs": [
    {
     "name": "stdout",
     "output_type": "stream",
     "text": [
      "소리를 냅니다\n",
      "소리를 냅니다\n",
      "소리를 냅니다\n"
     ]
    }
   ],
   "source": [
    "class Animal:\n",
    "    def sound(self):\n",
    "        print(\"소리를 냅니다\")\n",
    "class Dog(Animal):\n",
    "    def sound(self):\n",
    "        print(\"소리를 냅니다\")\n",
    "class Cat(Animal):\n",
    "    def sound(self):\n",
    "        print(\"소리를 냅니다\")\n",
    "animal2 = Animal()\n",
    "animal2.sound()\n",
    "dog2 = Dog()\n",
    "dog2.sound()\n",
    "cat2 = Cat()\n",
    "cat2.sound()"
   ]
  },
  {
   "cell_type": "code",
   "execution_count": 16,
   "id": "21539a7c",
   "metadata": {},
   "outputs": [
    {
     "name": "stdout",
     "output_type": "stream",
     "text": [
      "소리를 냅니다\n",
      "안녕하세요 소리를 냅니다 - 멍멍\n",
      "소리를 냅니다 - 야옹\n"
     ]
    }
   ],
   "source": [
    "class Animal:\n",
    "    def sound(self):\n",
    "        print(\"소리를 냅니다\")\n",
    "class Dog(Animal):\n",
    "    def sound(self,str1):\n",
    "        print(str1,\"소리를 냅니다 - 멍멍\")\n",
    "class Cat(Animal):\n",
    "    def sound(self):\n",
    "        print(\"소리를 냅니다 - 야옹\")\n",
    "animal3 = Animal()\n",
    "animal3.sound()\n",
    "dog3 = Dog()\n",
    "dog3.sound(\"안녕하세요\")\n",
    "cat3 = Cat()\n",
    "cat3.sound()"
   ]
  },
  {
   "cell_type": "code",
   "execution_count": 21,
   "id": "a8b11b60",
   "metadata": {},
   "outputs": [
    {
     "name": "stdout",
     "output_type": "stream",
     "text": [
      "소리를 냅니다\n",
      "안녕하세요 소리를 냅니다 - 멍멍\n",
      "소리를 냅니다 - 야옹\n"
     ]
    }
   ],
   "source": [
    "class Animal:\n",
    "    def sound(self):\n",
    "        print(\"소리를 냅니다\")\n",
    "class Dog(Animal):\n",
    "    def sound(self,str1):\n",
    "        print(str1,\"소리를 냅니다 - 멍멍\")\n",
    "class Cat(Animal):\n",
    "    # 파이썬에서는 메소드 overloading을 지원하지 않으므로\n",
    "    # 같은 이름의 메소드를 두번 정의하면 나중에 정의한 내용만\n",
    "    # 메모리에 올라감\n",
    "    def sound(self):\n",
    "        print(\"소리를 냅니다 - 야옹\")\n",
    "animal4 = Animal()\n",
    "animal4.sound()\n",
    "dog4 = Dog()\n",
    "#dog4.sound()\n",
    "dog4.sound(\"안녕하세요\")\n",
    "cat4 = Cat()\n",
    "cat4.sound()"
   ]
  },
  {
   "cell_type": "code",
   "execution_count": 24,
   "id": "4de4bbcc",
   "metadata": {
    "scrolled": true
   },
   "outputs": [
    {
     "name": "stdout",
     "output_type": "stream",
     "text": [
      "소리를 냅니다\n",
      "소리를 냅니다 - 멍멍\n",
      "소리를 냅니다 - 야옹\n"
     ]
    }
   ],
   "source": [
    "class Animal:\n",
    "    def sound(self):\n",
    "        print(\"소리를 냅니다\")\n",
    "class Dog(Animal):\n",
    "    def sound(self,str1):\n",
    "        print(str1,\"소리를 냅니다 - 멍멍\")\n",
    "    def sound(self):\n",
    "        print(\"소리를 냅니다 - 멍멍\")\n",
    "class Cat(Animal):\n",
    "    def sound(self):\n",
    "        print(\"소리를 냅니다 - 야옹\")\n",
    "animal5 = Animal()\n",
    "animal5.sound()\n",
    "dog5 = Dog()\n",
    "dog5.sound()\n",
    "#dog5.sound(\"안녕하세요\")\n",
    "cat5 = Cat()\n",
    "cat5.sound()"
   ]
  },
  {
   "cell_type": "code",
   "execution_count": null,
   "id": "fd2ff262",
   "metadata": {},
   "outputs": [],
   "source": []
  },
  {
   "cell_type": "code",
   "execution_count": null,
   "id": "52427f08",
   "metadata": {},
   "outputs": [],
   "source": []
  },
  {
   "cell_type": "code",
   "execution_count": null,
   "id": "2a5db5d9",
   "metadata": {},
   "outputs": [],
   "source": []
  }
 ],
 "metadata": {
  "kernelspec": {
   "display_name": "Python 3 (ipykernel)",
   "language": "python",
   "name": "python3"
  },
  "language_info": {
   "codemirror_mode": {
    "name": "ipython",
    "version": 3
   },
   "file_extension": ".py",
   "mimetype": "text/x-python",
   "name": "python",
   "nbconvert_exporter": "python",
   "pygments_lexer": "ipython3",
   "version": "3.9.7"
  }
 },
 "nbformat": 4,
 "nbformat_minor": 5
}
