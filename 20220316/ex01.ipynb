{
 "cells": [
  {
   "cell_type": "code",
   "execution_count": 13,
   "id": "cc56394e",
   "metadata": {
    "ExecuteTime": {
     "end_time": "2022-03-16T01:40:04.985197Z",
     "start_time": "2022-03-16T01:40:04.964210Z"
    }
   },
   "outputs": [
    {
     "name": "stdout",
     "output_type": "stream",
     "text": [
      "--------- 학생 목록 ---------\n",
      "번호\t이름\t총점\t평균\n",
      "------------------------------\n",
      "(인스턴스변수)1[(클래스변수5)]\t윤인성\t368\t92.0\n",
      "(인스턴스변수)2[(클래스변수5)]\t연하진\t384\t96.0\n",
      "(인스턴스변수)3[(클래스변수5)]\t구지연\t356\t89.0\n",
      "(인스턴스변수)4[(클래스변수5)]\t나선주\t378\t94.5\n",
      "(인스턴스변수)5[(클래스변수5)]\t윤아린\t389\t97.25\n",
      "------------------------------\n"
     ]
    }
   ],
   "source": [
    "'''\n",
    "396 page\n",
    "'''\n",
    "class Student:\n",
    "    \n",
    "    count = 0\n",
    "    students = []\n",
    "    \n",
    "    # 클래스 메소드\n",
    "    @classmethod\n",
    "    def print_score(cls):\n",
    "        print(\"--------- 학생 목록 ---------\")\n",
    "        print(\"번호\\t이름\\t총점\\t평균\")\n",
    "        print(\"-\" * 30)\n",
    "        for student in cls.students:\n",
    "            print(student)\n",
    "        print(\"-\" * 30)    \n",
    "    \n",
    "    def __init__(self, name, korean, math, english, science):        \n",
    "        self.name = name\n",
    "        self.korean = korean\n",
    "        self.math = math\n",
    "        self.english = english\n",
    "        self.science = science\n",
    "        \n",
    "        # 클래스 변수 설정\n",
    "        Student.count += 1    \n",
    "        # 학생 번호 저장하기\n",
    "        self.number = Student.count\n",
    "        Student.students.append(self)\n",
    "        \n",
    "    def get_sum(self):\n",
    "        return self.korean + self.math + self.english + self.science\n",
    "    \n",
    "    def get_average(self):\n",
    "        return self.get_sum() / 4\n",
    "    \n",
    "    # self.number 를 Student.count 로 하면 안 되는 이유\n",
    "    # 객체를 생성할 때마다 Student.count 가 1 씩 증가되어서\n",
    "    # Student.print_score() 를 호출하는 시점에서는 \n",
    "    # Student.count 가 이미 5로 증가되어 있음\n",
    "    # self.number 으로 하면, 객체 마다 값이 다르므로\n",
    "    # 학생 번호가 정확하게 출력됨\n",
    "    def __str__(self):\n",
    "        return f\"(인스턴스변수){self.number}[(클래스변수{Student .count})]\\t{self.name}\\t{self.get_sum()}\\t{self.get_average()}\"\n",
    "    \n",
    "s1 = Student(\"윤인성\",87,98,88,95)\n",
    "s2 = Student(\"연하진\",92,98,96,98)\n",
    "s3 = Student(\"구지연\",76,96,94,90)\n",
    "s4 = Student(\"나선주\",98,92,96,92)\n",
    "s5 = Student(\"윤아린\",95,98,98,98)\n",
    "\n",
    "Student.print_score()"
   ]
  },
  {
   "cell_type": "code",
   "execution_count": 12,
   "id": "26b904b6",
   "metadata": {
    "ExecuteTime": {
     "end_time": "2022-03-16T01:20:41.876572Z",
     "start_time": "2022-03-16T01:20:41.868577Z"
    }
   },
   "outputs": [
    {
     "name": "stdout",
     "output_type": "stream",
     "text": [
      "[객체가 생성되기 전에 클래스 변수의 값을 확인함] Test.age : 20\n",
      "-- Test클래스의 객체를 생성한 이후 인스턴스 메소드를 호출함 --\n",
      "이름 : 글로벌, 나이 : 20 살\n"
     ]
    }
   ],
   "source": [
    "class Test:\n",
    "    # 클래스 멤버변수\n",
    "    age = 20\n",
    "    def __init__(self):\n",
    "        self.name = \"글로벌\"\n",
    "    # 클래스 메소드\n",
    "    # self(인스턴스변수를 의미)가 있는 멤버변수\n",
    "    #  ㄴ 인스턴스 멤버변수  :  클래스 메소드에서는 인스턴스 멤버변수를 사용할 수 없음\n",
    "    #                           클래스 메소드에서는 인스턴스 메소드를 호출할 수 없음        \n",
    "    # print(f\"이름 : {self.name}, 나이 : {cls.age} 살\") \n",
    "    @classmethod\n",
    "    def display_info(cls):\n",
    "        print(f\"이름 : {self.name}, 나이 : {cls.age} 살\") \n",
    "\n",
    "    # 인스턴스 메소드\n",
    "    # 인스턴스 메소드 안에서는 인스턴스 멤버변수, 클래스 멤버변수 모두 사용할 수 있고\n",
    "    #                          인스턴스메소드, 클래스메소드 모두 호출할 수 있음\n",
    "    def display_Test(self):\n",
    "        print(f\"이름 : {self.name}, 나이 : {Test.age} 살\") \n",
    "\n",
    "print(\"[객체가 생성되기 전에 클래스 변수의 값을 확인함] Test.age :\",Test.age)\n",
    "# Test.display_info()\n",
    "t1 = Test()\n",
    "print(\"-- Test클래스의 객체를 생성한 이후 인스턴스 메소드를 호출함 --\")\n",
    "t1.display_Test()"
   ]
  },
  {
   "cell_type": "code",
   "execution_count": 27,
   "id": "f0f750bc",
   "metadata": {
    "ExecuteTime": {
     "end_time": "2022-03-16T02:12:48.188584Z",
     "start_time": "2022-03-16T02:12:48.177590Z"
    }
   },
   "outputs": [
    {
     "data": {
      "text/plain": [
       "'\\n클래스 상속(inheritance)  -  code 의 재사용\\n         ㄴ extension (확장)\\n              ㄴ 기본값(default) + 내용추가 \\n                                                      ┌ 부모클래스가 여러 개 있는 것\\n                                     ┌ 파이썬에서는 다중상속을 지원함\\n   형식)             ┌ 기본클래스 : 부모클래스(Parent, Super)\\n   class 클래스이름(클래스이름):\\n           ㄴ 확장클래스 : 자식클래스(Child, Sub)     \\n           \\n   자식클래스에서 부모클래스의 멤버변수, 멤버메소드(생성자포함)를\\n   그대로 사용할 수 있음\\n   \\n'"
      ]
     },
     "execution_count": 27,
     "metadata": {},
     "output_type": "execute_result"
    }
   ],
   "source": [
    "'''\n",
    "클래스 상속(inheritance)  -  code 의 재사용\n",
    "         ㄴ extension (확장)\n",
    "              ㄴ 기본값(default) + 내용추가 \n",
    "                                                      ┌ 부모클래스가 여러 개 있는 것\n",
    "                                     ┌ 파이썬에서는 다중상속을 지원함\n",
    "   형식)             ┌ 기본클래스 : 부모클래스(Parent, Super)\n",
    "   class 클래스이름(클래스이름):\n",
    "           ㄴ 확장클래스 : 자식클래스(Child, Sub)     \n",
    "           \n",
    "   자식클래스에서 부모클래스의 멤버변수, 멤버메소드(생성자포함)를\n",
    "   그대로 사용할 수 있음\n",
    "   \n",
    "'''"
   ]
  },
  {
   "cell_type": "code",
   "execution_count": 14,
   "id": "9c5f9206",
   "metadata": {
    "ExecuteTime": {
     "end_time": "2022-03-16T01:54:27.295342Z",
     "start_time": "2022-03-16T01:54:27.276352Z"
    }
   },
   "outputs": [
    {
     "name": "stdout",
     "output_type": "stream",
     "text": [
      "c4_1.add()      : 18\n",
      "c4_1.subtract() : 2\n",
      "c4_1.multiply() : 80\n",
      "c4_1.divide()   : 1.25\n"
     ]
    }
   ],
   "source": [
    "class Calc4:\n",
    "    def __init__(self, num1, num2):\n",
    "        self.num1 = num1\n",
    "        self.num2 = num2\n",
    "        self.result = 0\n",
    "    def add(self):\n",
    "        self.result = self.num1 + self.num2\n",
    "        return self.result\n",
    "    def subtract(self):\n",
    "        self.result = self.num1 - self.num2\n",
    "        return self.result\n",
    "    def multiply(self):\n",
    "        self.result = self.num1 * self.num2\n",
    "        return self.result\n",
    "    def divide(self):\n",
    "        self.result = self.num1 / self.num2\n",
    "        return self.result\n",
    "        \n",
    "c4_1 = Calc4(10, 8)        \n",
    "print(\"c4_1.add()      :\",c4_1.add())\n",
    "print(\"c4_1.subtract() :\",c4_1.subtract())\n",
    "print(\"c4_1.multiply() :\",c4_1.multiply())\n",
    "print(\"c4_1.divide()   :\",c4_1.divide())"
   ]
  },
  {
   "cell_type": "code",
   "execution_count": 25,
   "id": "dcb7a9ae",
   "metadata": {
    "ExecuteTime": {
     "end_time": "2022-03-16T02:12:22.018106Z",
     "start_time": "2022-03-16T02:12:22.009112Z"
    }
   },
   "outputs": [
    {
     "name": "stdout",
     "output_type": "stream",
     "text": [
      "c4_p.add()      : 18\n",
      "c4_p.subtract() : 2\n",
      "c4_p.multiply() : 80\n",
      "c4_p.divide()   : 1.25\n",
      "c4_p.power()    : 100000000\n"
     ]
    }
   ],
   "source": [
    "'''\n",
    "자식클래스에서 부모클래스의 멤버변수, 멤버메소드(생성자포함)를\n",
    "   그대로 사용할 수 있음\n",
    "# Calc4 는 +, -, *, / 연산만 할 수 있음   \n",
    "# +, -, *, / 연산도 하고 제곱연산도 할 수 있는\n",
    "# 클래스를 작성하는 경우\n",
    "# add(), subtract(), multiply(), divide() 를 다 작성하고\n",
    "# power()도 작성해야 하는데\n",
    "# add(), subtract(), multiply(), divide() 들은\n",
    "# Calc4  클래스에 이미 작성되어 있음\n",
    "# power() 메소드만 포함(작성)한 클래스를 작성한 후\n",
    "# Calc4 클래스를 상속하면\n",
    "# 5 가지 연산을 할 수 있음   \n",
    "'''\n",
    "class Calc4Power(Calc4):  \n",
    "    def power(self):\n",
    "        self.result = self.num1 ** self.num2\n",
    "        return self.result     \n",
    "    \n",
    "c4_p = Calc4Power(10, 8)   \n",
    "print(\"c4_p.add()      :\",c4_p.add())\n",
    "print(\"c4_p.subtract() :\",c4_p.subtract())\n",
    "print(\"c4_p.multiply() :\",c4_p.multiply())\n",
    "print(\"c4_p.divide()   :\",c4_p.divide())\n",
    "print(\"c4_p.power()    :\",c4_p.power())"
   ]
  },
  {
   "cell_type": "code",
   "execution_count": 18,
   "id": "ef9b8b5b",
   "metadata": {
    "ExecuteTime": {
     "end_time": "2022-03-16T02:01:12.176788Z",
     "start_time": "2022-03-16T02:01:12.170791Z"
    }
   },
   "outputs": [
    {
     "name": "stdout",
     "output_type": "stream",
     "text": [
      "c4_m.add()        : 18\n",
      "c4_m.subtract()   : 2\n",
      "c4_m.multiply()   : 80\n",
      "c4_m.divide()     : 1.25\n",
      "c4_m.modulos()    : 2\n"
     ]
    }
   ],
   "source": [
    "class Calc4Modulos(Calc4):\n",
    "    def modulos(self):\n",
    "        self.result = self.num1 % self.num2\n",
    "        return self.result     \n",
    "    \n",
    "c4_m = Calc4Modulos(10, 8)   \n",
    "print(\"c4_m.add()        :\",c4_m.add())\n",
    "print(\"c4_m.subtract()   :\",c4_m.subtract())\n",
    "print(\"c4_m.multiply()   :\",c4_m.multiply())\n",
    "print(\"c4_m.divide()     :\",c4_m.divide())\n",
    "print(\"c4_m.modulos()    :\",c4_m.modulos())"
   ]
  },
  {
   "cell_type": "code",
   "execution_count": null,
   "id": "ecea4e2d",
   "metadata": {},
   "outputs": [],
   "source": [
    "'''\n",
    "  상속 :  default    :  부모클래스 (Parent, Super)\n",
    "          추상적        기반클래스 (base class)\n",
    "         extension   :  자식클래스  (Child, Sub)\n",
    "          구체적        파생클래스 (derived class)\n",
    "\n",
    "                             생물\n",
    "\n",
    "                    동물             식물\n",
    "\n",
    "            척추동물  무척추동물                꽃식물  민꽃식물\n",
    "\n",
    "  포유류/조류/파충류  절지동물 연체동물         속씨식물\n",
    "   /양서류/어류                           쌍떡잎식물  외떡잎식물\n",
    "\n",
    "'''"
   ]
  },
  {
   "cell_type": "code",
   "execution_count": 34,
   "id": "1bc76cb9",
   "metadata": {
    "ExecuteTime": {
     "end_time": "2022-03-16T02:47:43.765913Z",
     "start_time": "2022-03-16T02:47:43.751923Z"
    }
   },
   "outputs": [
    {
     "name": "stdout",
     "output_type": "stream",
     "text": [
      "Parent 클래스의 __init__() [생성자] 가 호출되었습니다\n",
      "Child 클래스의 __init__() [생성자] 가 호출되었습니다\n",
      "Parent 클래스의 test() 메소드입니다\n",
      "child.value : 테스트\n"
     ]
    }
   ],
   "source": [
    "'''\n",
    "407 page\n",
    "'''\n",
    "class Parent:\n",
    "    def __init__(self):\n",
    "        self.value = \"테스트\"\n",
    "        print(\"Parent 클래스의 __init__() [생성자] 가 호출되었습니다\")\n",
    "    def test(self):\n",
    "        print(\"Parent 클래스의 test() 메소드입니다\")\n",
    "'''\n",
    "super()  <-- 자식클래스에서 사용하는 키워드\n",
    "             부모클래스를 의미함\n",
    "1)          \n",
    "부모클래스의 이름을 사용해서\n",
    "부모클래스에 있는 메소드를 호출할 때에는\n",
    "argument 로 self 를 넣어주어야 함\n",
    "   ㄴ Parent.__init__(self)\n",
    "2)   \n",
    "super() 를 사용해서   \n",
    "부모클래스에 있는 메소드를 호출할 때에는\n",
    "argument 로 self 를 넣어주지 않음\n",
    "'''                \n",
    "class Child(Parent):\n",
    "    def __init__(self):\n",
    "        # Parent.__init__(self)\n",
    "        super().__init__()\n",
    "        print(\"Child 클래스의 __init__() [생성자] 가 호출되었습니다\")\n",
    "        \n",
    "        \n",
    "# 자식클래스의 객체를 생성함 \n",
    "#    <-- 자식클래스의 생성자를 호출함\n",
    "child = Child()\n",
    "\n",
    "# 자식클래스에서, 부모클래스로부터 \n",
    "# 상속받은 test() 메소드를 호출함\n",
    "child.test()\n",
    "\n",
    "# 자식클래스에서, 부모클래스로부터 \n",
    "# 상속받은 멤버변수 value 가 \n",
    "# 저장하고 있는 값을 출력함\n",
    "print(\"child.value :\",child.value)"
   ]
  },
  {
   "cell_type": "code",
   "execution_count": 38,
   "id": "bf714f0f",
   "metadata": {
    "ExecuteTime": {
     "end_time": "2022-03-16T02:51:51.596202Z",
     "start_time": "2022-03-16T02:51:51.582209Z"
    }
   },
   "outputs": [
    {
     "name": "stdout",
     "output_type": "stream",
     "text": [
      "Parent 클래스의 __init__() [생성자] 가 호출되었습니다\n",
      "Parent 클래스의 test() 메소드입니다\n",
      "child.value : 테스트\n"
     ]
    }
   ],
   "source": [
    "'''\n",
    "407 page\n",
    "'''\n",
    "class Parent:\n",
    "    def __init__(self):\n",
    "        self.value = \"테스트\"\n",
    "        print(\"Parent 클래스의 __init__() [생성자] 가 호출되었습니다\")\n",
    "    def test(self):\n",
    "        print(\"Parent 클래스의 test() 메소드입니다\")\n",
    "              \n",
    "class Child(Parent):\n",
    "    pass\n",
    "\n",
    "child = Child()\n",
    "child.test()\n",
    "print(\"child.value :\",child.value)"
   ]
  },
  {
   "cell_type": "code",
   "execution_count": 51,
   "id": "680c8c2d",
   "metadata": {
    "ExecuteTime": {
     "end_time": "2022-03-16T03:03:40.042508Z",
     "start_time": "2022-03-16T03:03:40.022510Z"
    }
   },
   "outputs": [
    {
     "name": "stdout",
     "output_type": "stream",
     "text": [
      "Parent 클래스의 __init__() [생성자] 가 호출되었습니다\n",
      "parent.value : 테스트\n",
      "Parent 클래스의 test() 메소드입니다\n",
      "------------------------------------------------------------\n",
      "Child 클래스의 __init__() [생성자] 가 호출되었습니다\n",
      "Child 클래스의 test() 메소드입니다\n"
     ]
    }
   ],
   "source": [
    "'''\n",
    "407 page\n",
    "\n",
    "< Overriding(오버라이딩) >\n",
    "\n",
    "자식클래스에서,\n",
    "부모클래스에 있는 메소드(생성자)를 상속받아서\n",
    "그 내용을 변경하면 변경된 내용이 실행됨\n",
    "   ㄴ 부모클래스에 있는 메소드(생성자)를 상속받아서\n",
    "      자식클래스에 맞게 내용을 변경하면  <-- Overriding(오버라이딩)\n",
    "      변경된 내용이 실행됨\n",
    "        ㄴ 부모에 정의된 메소드의 선언부와 \n",
    "           자식에서 상속한 메소드의 선언부가 일치하고\n",
    "           구현부(body-몸통)의 내용을 변경하는 것\n",
    "'''\n",
    "class Parent:\n",
    "    def __init__(self):\n",
    "        self.value = \"테스트\"\n",
    "        print(\"Parent 클래스의 __init__() [생성자] 가 호출되었습니다\")\n",
    "    def test(self):\n",
    "        print(\"Parent 클래스의 test() 메소드입니다\")\n",
    "              \n",
    "class Child(Parent):\n",
    "    def __init__(self):        \n",
    "        print(\"Child 클래스의 __init__() [생성자] 가 호출되었습니다\")\n",
    "    def test(self):\n",
    "        print(\"Child 클래스의 test() 메소드입니다\")\n",
    "        \n",
    "parent = Parent()        \n",
    "print(\"parent.value :\",parent.value)\n",
    "parent.test() \n",
    "print(\"-\" * 60)\n",
    "child = Child()\n",
    "child.test()\n",
    "# AttributeError: 'Child' object has no attribute 'value'\n",
    "# print(\"child.value :\",child.value)"
   ]
  },
  {
   "cell_type": "code",
   "execution_count": 54,
   "id": "8bc4fe07",
   "metadata": {
    "ExecuteTime": {
     "end_time": "2022-03-16T03:06:46.513432Z",
     "start_time": "2022-03-16T03:06:46.494435Z"
    }
   },
   "outputs": [
    {
     "name": "stdout",
     "output_type": "stream",
     "text": [
      "소리를 냅니다\n",
      "소리를 냅니다\n",
      "소리를 냅니다\n"
     ]
    }
   ],
   "source": [
    "class Animal:\n",
    "    def sound(self):\n",
    "        print(\"소리를 냅니다\")        \n",
    "class Dog(Animal):\n",
    "    pass\n",
    "class Cat(Animal):\n",
    "    pass    \n",
    "animal = Animal()\n",
    "animal.sound()\n",
    "dog = Dog()\n",
    "dog.sound()\n",
    "cat = Cat()\n",
    "cat.sound()"
   ]
  },
  {
   "cell_type": "code",
   "execution_count": 56,
   "id": "24667f82",
   "metadata": {
    "ExecuteTime": {
     "end_time": "2022-03-16T03:07:26.295511Z",
     "start_time": "2022-03-16T03:07:26.277531Z"
    }
   },
   "outputs": [
    {
     "name": "stdout",
     "output_type": "stream",
     "text": [
      "소리를 냅니다\n",
      "소리를 냅니다\n",
      "소리를 냅니다\n"
     ]
    }
   ],
   "source": [
    "class Animal:\n",
    "    def sound(self):\n",
    "        print(\"소리를 냅니다\")        \n",
    "class Dog(Animal):\n",
    "    def sound(self):\n",
    "        print(\"소리를 냅니다\") \n",
    "class Cat(Animal):\n",
    "    def sound(self):\n",
    "        print(\"소리를 냅니다\")\n",
    "animal2 = Animal()\n",
    "animal2.sound()\n",
    "dog2 = Dog()\n",
    "dog2.sound()\n",
    "cat2 = Cat()\n",
    "cat2.sound()        "
   ]
  },
  {
   "cell_type": "code",
   "execution_count": 59,
   "id": "437835c9",
   "metadata": {
    "ExecuteTime": {
     "end_time": "2022-03-16T03:11:47.997132Z",
     "start_time": "2022-03-16T03:11:47.989147Z"
    }
   },
   "outputs": [
    {
     "name": "stdout",
     "output_type": "stream",
     "text": [
      "소리를 냅니다\n",
      "안녕하세요 소리를 냅니다 - 멍멍\n",
      "소리를 냅니다 - 야옹\n"
     ]
    }
   ],
   "source": [
    "class Animal:\n",
    "    def sound(self):\n",
    "        print(\"소리를 냅니다\")        \n",
    "class Dog(Animal):\n",
    "    # 부모클래스에 있는 메소드와 선언부가 일치해야\n",
    "    # 메소드 overriding 이라고 함\n",
    "    # 아래의 sound() 메소드는 부모에 있는 메소드와\n",
    "    # 선언부가 다름\n",
    "    def sound(self, str1):\n",
    "        print(str1,\"소리를 냅니다 - 멍멍\")        \n",
    "class Cat(Animal):\n",
    "    def sound(self):\n",
    "        print(\"소리를 냅니다 - 야옹\")        \n",
    "animal3 = Animal()\n",
    "animal3.sound()\n",
    "dog3 = Dog()\n",
    "dog3.sound(\"안녕하세요\")\n",
    "cat3 = Cat()\n",
    "cat3.sound()"
   ]
  },
  {
   "cell_type": "code",
   "execution_count": 63,
   "id": "b573c23a",
   "metadata": {
    "ExecuteTime": {
     "end_time": "2022-03-16T03:24:03.493001Z",
     "start_time": "2022-03-16T03:24:03.478008Z"
    }
   },
   "outputs": [
    {
     "name": "stdout",
     "output_type": "stream",
     "text": [
      "소리를 냅니다\n",
      "안녕하세요 소리를 냅니다 - 멍멍\n",
      "소리를 냅니다 - 야옹\n"
     ]
    }
   ],
   "source": [
    "class Animal:\n",
    "    def sound(self):\n",
    "        print(\"소리를 냅니다\")        \n",
    "class Dog(Animal):\n",
    "    # 파이썬에서는 메소드 overloading 을 지원하지 않으므로\n",
    "    # 같은 이름의 메소드를 두 번 정의하면 나중에 정의한 내용만\n",
    "    # 메모리에 올라감\n",
    "    def sound(self):\n",
    "        print(\"소리를 냅니다-멍멍\")     \n",
    "    def sound(self, str1):\n",
    "        print(str1,\"소리를 냅니다 - 멍멍\")        \n",
    "class Cat(Animal):\n",
    "    def sound(self):\n",
    "        print(\"소리를 냅니다 - 야옹\")        \n",
    "animal4 = Animal()\n",
    "animal4.sound()\n",
    "dog4 = Dog()\n",
    "# dog4.sound()\n",
    "dog4.sound(\"안녕하세요\")\n",
    "cat4 = Cat()\n",
    "cat4.sound()"
   ]
  },
  {
   "cell_type": "code",
   "execution_count": 64,
   "id": "6eda04ae",
   "metadata": {
    "ExecuteTime": {
     "end_time": "2022-03-16T03:25:35.869315Z",
     "start_time": "2022-03-16T03:25:35.852325Z"
    }
   },
   "outputs": [
    {
     "name": "stdout",
     "output_type": "stream",
     "text": [
      "소리를 냅니다\n",
      "소리를 냅니다-멍멍\n",
      "소리를 냅니다 - 야옹\n"
     ]
    }
   ],
   "source": [
    "class Animal:\n",
    "    def sound(self):\n",
    "        print(\"소리를 냅니다\")        \n",
    "class Dog(Animal):\n",
    "    # 파이썬에서는 메소드 overloading 을 지원하지 않으므로\n",
    "    # 같은 이름의 메소드를 두 번 정의하면 나중에 정의한 내용만\n",
    "    # 메모리에 올라감\n",
    "    def sound(self, str1):\n",
    "        print(str1,\"소리를 냅니다 - 멍멍\")  \n",
    "    def sound(self):\n",
    "        print(\"소리를 냅니다-멍멍\")               \n",
    "class Cat(Animal):\n",
    "    def sound(self):\n",
    "        print(\"소리를 냅니다 - 야옹\")        \n",
    "animal5 = Animal()\n",
    "animal5.sound()\n",
    "dog5= Dog()\n",
    "dog5.sound()\n",
    "# dog5.sound(\"안녕하세요\")\n",
    "cat5 = Cat()\n",
    "cat5.sound()"
   ]
  },
  {
   "cell_type": "code",
   "execution_count": null,
   "id": "6fa9d605",
   "metadata": {},
   "outputs": [],
   "source": []
  },
  {
   "cell_type": "code",
   "execution_count": null,
   "id": "e3208243",
   "metadata": {},
   "outputs": [],
   "source": []
  },
  {
   "cell_type": "code",
   "execution_count": null,
   "id": "94628eb4",
   "metadata": {},
   "outputs": [],
   "source": []
  }
 ],
 "metadata": {
  "hide_input": false,
  "kernelspec": {
   "display_name": "Python 3 (ipykernel)",
   "language": "python",
   "name": "python3"
  },
  "language_info": {
   "codemirror_mode": {
    "name": "ipython",
    "version": 3
   },
   "file_extension": ".py",
   "mimetype": "text/x-python",
   "name": "python",
   "nbconvert_exporter": "python",
   "pygments_lexer": "ipython3",
   "version": "3.9.7"
  },
  "toc": {
   "base_numbering": 1,
   "nav_menu": {},
   "number_sections": true,
   "sideBar": true,
   "skip_h1_title": false,
   "title_cell": "Table of Contents",
   "title_sidebar": "Contents",
   "toc_cell": false,
   "toc_position": {},
   "toc_section_display": true,
   "toc_window_display": false
  },
  "varInspector": {
   "cols": {
    "lenName": 16,
    "lenType": 16,
    "lenVar": 40
   },
   "kernels_config": {
    "python": {
     "delete_cmd_postfix": "",
     "delete_cmd_prefix": "del ",
     "library": "var_list.py",
     "varRefreshCmd": "print(var_dic_list())"
    },
    "r": {
     "delete_cmd_postfix": ") ",
     "delete_cmd_prefix": "rm(",
     "library": "var_list.r",
     "varRefreshCmd": "cat(var_dic_list()) "
    }
   },
   "types_to_exclude": [
    "module",
    "function",
    "builtin_function_or_method",
    "instance",
    "_Feature"
   ],
   "window_display": false
  }
 },
 "nbformat": 4,
 "nbformat_minor": 5
}
