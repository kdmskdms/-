{
 "cells": [
  {
   "cell_type": "code",
   "execution_count": 5,
   "id": "de69a815",
   "metadata": {},
   "outputs": [
    {
     "name": "stdout",
     "output_type": "stream",
     "text": [
      "총수령금액[정규직] : 4,300,000 원\n",
      "총수령금액[임시직] : 3,200,000 원\n"
     ]
    }
   ],
   "source": [
    "class Employee:    \n",
    "    def __init__(self, name):\n",
    "        self.name = name    \n",
    "        self.salary = 0        \n",
    "    def salary_calculate(self, base, bonus):\n",
    "        pass\n",
    "        \n",
    "class Permanent(Employee):    \n",
    "    def __init__(self, name):\n",
    "        Employee.__init__(self, name)    \n",
    "    def salary_calculate(self, base, bonus):\n",
    "        self.salary = base + bonus\n",
    "        print(\"총수령금액[정규직] :\",format(self.salary, \",\"),\"원\")\n",
    "\n",
    "class Temporary(Employee):\n",
    "    def __init__(self, name):\n",
    "        Employee.__init__(self, name)\n",
    "        \n",
    "    def salary_calculate(self, time_pay, time):\n",
    "        self.salary = time_pay * time\n",
    "        print(\"총수령금액[임시직] :\",format(self.salary, \",\"),\"원\")\n",
    "    \n",
    "p1 = Permanent(\"글로벌\")\n",
    "p1.salary_calculate(4000000, 300000)\n",
    "\n",
    "t1 = Temporary(\"아이티\")\n",
    "t1.salary_calculate(20000, 160)    "
   ]
  },
  {
   "cell_type": "code",
   "execution_count": 6,
   "id": "b1ed395c",
   "metadata": {},
   "outputs": [
    {
     "name": "stdout",
     "output_type": "stream",
     "text": [
      "날것이 날아갑니다\n",
      "비행기가 날아갑니다\n",
      "새가 날아갑니다\n",
      "종이비행기가 날아갑니다\n"
     ]
    }
   ],
   "source": [
    "class Flight:\n",
    "    def fly(self):\n",
    "        print(\"날것이 날아갑니다\")\n",
    "class Airplane(Flight):\n",
    "    # overriding\n",
    "    def fly(self):\n",
    "        print(\"비행기가 날아갑니다\")\n",
    "class Bird(Flight):\n",
    "    # overriding\n",
    "    def fly(self):\n",
    "        print(\"새가 날아갑니다\")\n",
    "class PaperAirplane(Flight):\n",
    "    # overriding\n",
    "    def fly(self):\n",
    "        print(\"종이비행기가 날아갑니다\")\n",
    "    \n",
    "flight = Flight()\n",
    "airplane = Airplane()\n",
    "bird = Bird()\n",
    "paperAirplane = PaperAirplane()\n",
    "\n",
    "list_flights = [flight, airplane, bird, paperAirplane]\n",
    "\n",
    "for f in list_flights:\n",
    "    f.fly() "
   ]
  },
  {
   "cell_type": "code",
   "execution_count": 7,
   "id": "17292bad",
   "metadata": {},
   "outputs": [
    {
     "name": "stdout",
     "output_type": "stream",
     "text": [
      "Child 클래스입니다\n",
      "Parent1 클래스입니다\n",
      "Parent2 클래스입니다\n",
      "----------------------------------------\n",
      "Parent2 클래스입니다\n"
     ]
    }
   ],
   "source": [
    "class Parent1:\n",
    "    def display_parent(self):\n",
    "        print(\"Parent1 클래스입니다\")\n",
    "class Parent2:\n",
    "    def display_parent(self):\n",
    "        print(\"Parent2 클래스입니다\")\n",
    "        \n",
    "# 다중상속\n",
    "class Child(Parent2, Parent1):   \n",
    "    def display_child(self):\n",
    "        print(\"Child 클래스입니다\")\n",
    "        Parent1.display_parent(self)\n",
    "        Parent2.display_parent(self)\n",
    "\n",
    "ch1 = Child()\n",
    "ch1.display_child()\n",
    "print(\"-\" * 40)\n",
    "\n",
    "ch1.display_parent()"
   ]
  },
  {
   "cell_type": "code",
   "execution_count": 8,
   "id": "7fc0a38b",
   "metadata": {},
   "outputs": [
    {
     "name": "stdout",
     "output_type": "stream",
     "text": [
      "q1 : 아이티-blue-3-4-12\n",
      "아이티\n",
      "blue\n",
      "qc1 : 개발원-green-5-7-35-12\n"
     ]
    }
   ],
   "source": [
    "class Shape:\n",
    "    def __init__(self, name, color):\n",
    "        self.name = name\n",
    "        self.color = color\n",
    "    \n",
    "class Quardangle(Shape):  \n",
    "    def set_area(self, width, height):        \n",
    "        self.width = width\n",
    "        self.height = height\n",
    "        self.area = width * height\n",
    "    def __str__(self):\n",
    "        return f\"{self.name}-{self.color}-{self.width}-{self.height}-{self.area}\"\n",
    "    \n",
    "class QuardangleChild(Quardangle):    \n",
    "    def set_diagonal(self, diagonal):\n",
    "        self.diagonal = diagonal\n",
    "    def __str__(self):\n",
    "        return Quardangle.__str__(self) + f\"-{self.diagonal}\"        \n",
    "        \n",
    "s1 = Shape(\"글로벌\", \"red\")\n",
    "q1 = Quardangle(\"아이티\", \"blue\")\n",
    "q1.set_area(3, 4)\n",
    "print(\"q1 :\",q1)\n",
    "print(q1.name)\n",
    "print(q1.color)\n",
    "qc1 = QuardangleChild(\"개발원\", \"green\")\n",
    "qc1.set_area(5, 7)\n",
    "qc1.set_diagonal(12)\n",
    "print(\"qc1 :\",qc1)"
   ]
  },
  {
   "cell_type": "code",
   "execution_count": 9,
   "id": "13b081a2",
   "metadata": {},
   "outputs": [
    {
     "name": "stdout",
     "output_type": "stream",
     "text": [
      "issubclass(QuardangleChild, Shape) : True\n",
      "issubclass(QuardangleChild, Quardangle) : True\n",
      "issubclass(Quardangle, Shape) : True\n",
      "issubclass(Quardangle, QuardangleChild) : False\n"
     ]
    }
   ],
   "source": [
    "print(\"issubclass(QuardangleChild, Shape) :\",issubclass(QuardangleChild, Shape))\n",
    "print(\"issubclass(QuardangleChild, Quardangle) :\",issubclass(QuardangleChild, Quardangle))\n",
    "print(\"issubclass(Quardangle, Shape) :\",issubclass(Quardangle, Shape))\n",
    "print(\"issubclass(Quardangle, QuardangleChild) :\",issubclass(Quardangle, QuardangleChild))"
   ]
  },
  {
   "cell_type": "code",
   "execution_count": null,
   "id": "fd46e8dc",
   "metadata": {},
   "outputs": [],
   "source": []
  }
 ],
 "metadata": {
  "kernelspec": {
   "display_name": "Python 3 (ipykernel)",
   "language": "python",
   "name": "python3"
  },
  "language_info": {
   "codemirror_mode": {
    "name": "ipython",
    "version": 3
   },
   "file_extension": ".py",
   "mimetype": "text/x-python",
   "name": "python",
   "nbconvert_exporter": "python",
   "pygments_lexer": "ipython3",
   "version": "3.9.7"
  }
 },
 "nbformat": 4,
 "nbformat_minor": 5
}
