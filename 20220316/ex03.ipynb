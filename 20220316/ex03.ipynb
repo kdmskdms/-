{
 "cells": [
  {
   "cell_type": "code",
   "execution_count": 4,
   "id": "e0e75a58",
   "metadata": {
    "ExecuteTime": {
     "end_time": "2022-03-16T07:06:03.478787Z",
     "start_time": "2022-03-16T07:06:03.461806Z"
    }
   },
   "outputs": [
    {
     "name": "stdout",
     "output_type": "stream",
     "text": [
      "총수령금액[정규직] : 4,300,000 원\n",
      "총수령금액[임시직] : 3,200,000 원\n"
     ]
    }
   ],
   "source": [
    "class Employee:    \n",
    "    def __init__(self, name):\n",
    "        self.name = name    \n",
    "        self.salary = 0        \n",
    "    def salary_calculate(self, base, bonus):\n",
    "        pass\n",
    "        \n",
    "# 정규직 사원 클래스\n",
    "class Permanent(Employee):    \n",
    "    def __init__(self, name):\n",
    "        Employee.__init__(self, name)    \n",
    "    # salary_calculate() overriding\n",
    "    def salary_calculate(self, base, bonus):\n",
    "        # 급여 = 기본급 + 상여금\n",
    "        self.salary = base + bonus\n",
    "        print(\"총수령금액[정규직] :\",format(self.salary, \",\"),\"원\")\n",
    "\n",
    "# 임시직 사원 클래스\n",
    "class Temporary(Employee):\n",
    "    def __init__(self, name):\n",
    "        Employee.__init__(self, name)\n",
    "        \n",
    "    # salary_calculate() overriding\n",
    "    def salary_calculate(self, time_pay, time):\n",
    "        # 급여 = 시간당급여 * 시간\n",
    "        self.salary = time_pay * time\n",
    "        print(\"총수령금액[임시직] :\",format(self.salary, \",\"),\"원\")\n",
    "    \n",
    "p1 = Permanent(\"글로벌\")\n",
    "p1.salary_calculate(4000000, 300000)\n",
    "\n",
    "t1 = Temporary(\"아이티\")\n",
    "t1.salary_calculate(20000, 160)    "
   ]
  },
  {
   "cell_type": "code",
   "execution_count": 6,
   "id": "28fe02fc",
   "metadata": {
    "ExecuteTime": {
     "end_time": "2022-03-16T07:13:39.418088Z",
     "start_time": "2022-03-16T07:13:39.397112Z"
    }
   },
   "outputs": [
    {
     "name": "stdout",
     "output_type": "stream",
     "text": [
      "날것이 날아갑니다\n",
      "비행기가 날아갑니다\n",
      "새가 날아갑니다\n",
      "종이비행기가 날아갑니다\n"
     ]
    }
   ],
   "source": [
    "'''\n",
    "다형성 : ploymorphism  <-- overriding 을 구현해야 함\n",
    " ㄴ 같은 형태의 code 를 실행하는데,\n",
    "    이 code 를 실행하는 객체가 바뀌면 \n",
    "    실행 결과가 달라지는 문법\n",
    "'''\n",
    "class Flight:\n",
    "    def fly(self):\n",
    "        print(\"날것이 날아갑니다\")\n",
    "class Airplane(Flight):\n",
    "    # overriding\n",
    "    def fly(self):\n",
    "        print(\"비행기가 날아갑니다\")\n",
    "class Bird(Flight):\n",
    "    # overriding\n",
    "    def fly(self):\n",
    "        print(\"새가 날아갑니다\")\n",
    "class PaperAirplane(Flight):\n",
    "    # overriding\n",
    "    def fly(self):\n",
    "        print(\"종이비행기가 날아갑니다\")\n",
    "    \n",
    "flight = Flight()\n",
    "airplane = Airplane()\n",
    "bird = Bird()\n",
    "paperAirplane = PaperAirplane()\n",
    "\n",
    "list_flights = [flight, airplane, bird, paperAirplane]\n",
    "\n",
    "for f in list_flights:\n",
    "    f.fly() "
   ]
  },
  {
   "cell_type": "code",
   "execution_count": 10,
   "id": "259992dc",
   "metadata": {
    "ExecuteTime": {
     "end_time": "2022-03-16T07:23:18.298282Z",
     "start_time": "2022-03-16T07:23:18.292280Z"
    }
   },
   "outputs": [
    {
     "name": "stdout",
     "output_type": "stream",
     "text": [
      "Child 클래스입니다\n",
      "Parent1 클래스입니다\n",
      "Parent2 클래스입니다\n",
      "----------------------------------------\n",
      "Parent2 클래스입니다\n"
     ]
    }
   ],
   "source": [
    "'''\n",
    "다중상속 : 하나의 자식클래스가 여러 부모클래스를 상속하는 것\n",
    "           같은 이름의 메소드가 여러 부모클래스에 있는 경우,\n",
    "           자식클래스에서, 상속받은 메소드(같은 이름의 메소드)를 호출하면\n",
    "           상속할 때, 먼저 지정한 부모클래스에 있는 메소드가 실행됨\n",
    "'''\n",
    "class Parent1:\n",
    "    def display_parent(self):\n",
    "        print(\"Parent1 클래스입니다\")\n",
    "class Parent2:\n",
    "    def display_parent(self):\n",
    "        print(\"Parent2 클래스입니다\")\n",
    "        \n",
    "# 다중상속\n",
    "class Child(Parent2, Parent1):   \n",
    "    def display_child(self):\n",
    "        print(\"Child 클래스입니다\")\n",
    "        Parent1.display_parent(self)\n",
    "        Parent2.display_parent(self)\n",
    "\n",
    "ch1 = Child()\n",
    "ch1.display_child()\n",
    "print(\"-\" * 40)\n",
    "\n",
    "ch1.display_parent()"
   ]
  },
  {
   "cell_type": "code",
   "execution_count": 15,
   "id": "4df5ffc2",
   "metadata": {
    "ExecuteTime": {
     "end_time": "2022-03-16T07:59:28.099119Z",
     "start_time": "2022-03-16T07:59:28.080115Z"
    }
   },
   "outputs": [
    {
     "name": "stdout",
     "output_type": "stream",
     "text": [
      "q1 : 아이티-blue-3-4-12\n",
      "아이티\n",
      "blue\n",
      "qc1 : 개발원-green-5-7-35-12\n"
     ]
    }
   ],
   "source": [
    "class Shape:\n",
    "    def __init__(self, name, color):\n",
    "        self.name = name\n",
    "        self.color = color\n",
    "    \n",
    "class Quardangle(Shape):  \n",
    "    def set_area(self, width, height):        \n",
    "        self.width = width\n",
    "        self.height = height\n",
    "        self.area = width * height\n",
    "    def __str__(self):\n",
    "        return f\"{self.name}-{self.color}-{self.width}-{self.height}-{self.area}\"\n",
    "    \n",
    "class QuardangleChild(Quardangle):    \n",
    "    def set_diagonal(self, diagonal):\n",
    "        self.diagonal = diagonal\n",
    "    def __str__(self):\n",
    "        return Quardangle.__str__(self) + f\"-{self.diagonal}\"        \n",
    "        \n",
    "s1 = Shape(\"글로벌\", \"red\")\n",
    "q1 = Quardangle(\"아이티\", \"blue\")\n",
    "q1.set_area(3, 4)\n",
    "print(\"q1 :\",q1)\n",
    "print(q1.name)\n",
    "print(q1.color)\n",
    "qc1 = QuardangleChild(\"개발원\", \"green\")\n",
    "qc1.set_area(5, 7)\n",
    "qc1.set_diagonal(12)\n",
    "print(\"qc1 :\",qc1)"
   ]
  },
  {
   "cell_type": "code",
   "execution_count": 17,
   "id": "5bc6e889",
   "metadata": {
    "ExecuteTime": {
     "end_time": "2022-03-16T08:04:14.155854Z",
     "start_time": "2022-03-16T08:04:14.137848Z"
    }
   },
   "outputs": [
    {
     "name": "stdout",
     "output_type": "stream",
     "text": [
      "issubclass(QuardangleChild, Shape) : True\n",
      "issubclass(QuardangleChild, Quardangle) : True\n",
      "issubclass(Quardangle, Shape) : True\n",
      "issubclass(Quardangle, QuardangleChild) : False\n"
     ]
    }
   ],
   "source": [
    "'''\n",
    "\n",
    "자식객체가 생성될 때 메모리에서 일어나는 일\n",
    "1) 부모객체가 먼저 생성되어서 메모리에 올라감\n",
    "2) 자식클래스에 설명되어진 내용이 실행 가능한 상태로 \n",
    "   부모클래스가 생성된 주소지에 합쳐짐\n",
    "3) 이렇게 합쳐진 객체를 자식객체라고 함\n",
    "\n",
    "\n",
    "issubclass(자식클래스이름, 부모클래스이름)\n",
    "           앞에 있는 클래스가 뒤에 있는 클래스의 자식클래스인지 물어보는 메소드\n",
    "             ㄴ 앞에 있는 클래스의 객체 속에 뒤에 있는 클래스의 객체가 들어있는지 물어보는 메소드\n",
    "Shape\n",
    "Quardangle()\n",
    "QuardangleChild\n",
    "'''\n",
    "\n",
    "print(\"issubclass(QuardangleChild, Shape) :\",issubclass(QuardangleChild, Shape))\n",
    "print(\"issubclass(QuardangleChild, Quardangle) :\",issubclass(QuardangleChild, Quardangle))\n",
    "print(\"issubclass(Quardangle, Shape) :\",issubclass(Quardangle, Shape))\n",
    "print(\"issubclass(Quardangle, QuardangleChild) :\",issubclass(Quardangle, QuardangleChild))"
   ]
  },
  {
   "cell_type": "code",
   "execution_count": 20,
   "id": "fb475122",
   "metadata": {
    "ExecuteTime": {
     "end_time": "2022-03-16T08:30:12.721132Z",
     "start_time": "2022-03-16T08:30:12.713136Z"
    }
   },
   "outputs": [
    {
     "name": "stdout",
     "output_type": "stream",
     "text": [
      "isinstance(s1, Shape) : True\n",
      "isinstance(q1, Quardangle) : True\n",
      "isinstance(qc1, QuardangleChild) : True\n",
      "isinstance(q1, Shape) : True\n",
      "isinstance(qc1, Quardangle) : True\n",
      "isinstance(qc1, QuardangleChild) : True\n",
      "isinstance(s1, Shape) : True\n",
      "isinstance(s1, Quardangle) : False\n",
      "isinstance(q1, QuardangleChild) : False\n"
     ]
    }
   ],
   "source": [
    "'''\n",
    "isinstance(참조변수, 클래스이름)\n",
    "           참조변수가 저장하고 주소지에 갔을 때\n",
    "           클래스이름의 클래스의 객체가 있는지 물어보는 메소드\n",
    "\n",
    "s1  = Shape()\n",
    "q1  = Quardangle()\n",
    "qc1 = QuardangleChild()\n",
    "'''\n",
    "print(\"isinstance(s1, Shape) :\",isinstance(s1, Shape))\n",
    "print(\"isinstance(q1, Quardangle) :\",isinstance(q1, Quardangle))\n",
    "print(\"isinstance(qc1, QuardangleChild) :\",isinstance(qc1, QuardangleChild))\n",
    "\n",
    "print(\"isinstance(q1, Shape) :\",isinstance(q1, Shape))\n",
    "print(\"isinstance(qc1, Quardangle) :\",isinstance(qc1, Quardangle))\n",
    "print(\"isinstance(qc1, QuardangleChild) :\",isinstance(qc1, QuardangleChild))\n",
    "\n",
    "print(\"isinstance(s1, Shape) :\",isinstance(s1, Shape))\n",
    "print(\"isinstance(s1, Quardangle) :\",isinstance(s1, Quardangle))\n",
    "print(\"isinstance(q1, QuardangleChild) :\",isinstance(q1, QuardangleChild))"
   ]
  },
  {
   "cell_type": "code",
   "execution_count": null,
   "id": "f60cdf02",
   "metadata": {},
   "outputs": [],
   "source": []
  },
  {
   "cell_type": "code",
   "execution_count": null,
   "id": "35e086cb",
   "metadata": {},
   "outputs": [],
   "source": []
  },
  {
   "cell_type": "code",
   "execution_count": null,
   "id": "e13cf993",
   "metadata": {},
   "outputs": [],
   "source": []
  },
  {
   "cell_type": "code",
   "execution_count": null,
   "id": "9f809663",
   "metadata": {},
   "outputs": [],
   "source": []
  }
 ],
 "metadata": {
  "hide_input": false,
  "kernelspec": {
   "display_name": "Python 3 (ipykernel)",
   "language": "python",
   "name": "python3"
  },
  "language_info": {
   "codemirror_mode": {
    "name": "ipython",
    "version": 3
   },
   "file_extension": ".py",
   "mimetype": "text/x-python",
   "name": "python",
   "nbconvert_exporter": "python",
   "pygments_lexer": "ipython3",
   "version": "3.9.7"
  },
  "toc": {
   "base_numbering": 1,
   "nav_menu": {},
   "number_sections": true,
   "sideBar": true,
   "skip_h1_title": false,
   "title_cell": "Table of Contents",
   "title_sidebar": "Contents",
   "toc_cell": false,
   "toc_position": {},
   "toc_section_display": true,
   "toc_window_display": false
  },
  "varInspector": {
   "cols": {
    "lenName": 16,
    "lenType": 16,
    "lenVar": 40
   },
   "kernels_config": {
    "python": {
     "delete_cmd_postfix": "",
     "delete_cmd_prefix": "del ",
     "library": "var_list.py",
     "varRefreshCmd": "print(var_dic_list())"
    },
    "r": {
     "delete_cmd_postfix": ") ",
     "delete_cmd_prefix": "rm(",
     "library": "var_list.r",
     "varRefreshCmd": "cat(var_dic_list()) "
    }
   },
   "types_to_exclude": [
    "module",
    "function",
    "builtin_function_or_method",
    "instance",
    "_Feature"
   ],
   "window_display": false
  }
 },
 "nbformat": 4,
 "nbformat_minor": 5
}
