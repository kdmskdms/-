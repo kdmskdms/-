{
 "cells": [
  {
   "cell_type": "code",
   "execution_count": 22,
   "id": "fd3b70ee",
   "metadata": {},
   "outputs": [
    {
     "name": "stdout",
     "output_type": "stream",
     "text": [
      "country :\n",
      "Country 클래스입니다\n",
      "--------------------------------------------------\n",
      "korea : 이름 : 대한민국\n",
      "인구 : 5000만\n",
      " 수도 : 서울\n"
     ]
    }
   ],
   "source": [
    "class Country:\n",
    "    def __init__(self):\n",
    "        self.name = \"나라이름\"\n",
    "        self.population = \"인구수\"\n",
    "        self.capital = \"수도\"\n",
    "    def __str__(self):\n",
    "        return \"Country 클래스입니다\"\n",
    "\n",
    "class Korea(Country):\n",
    "    def __init__(self, name, population, capital):\n",
    "        self.name = name\n",
    "        self.population = population\n",
    "        self.capital = capital\n",
    "    \n",
    "    def __str__(self):\n",
    "        return f\"이름 : {self.name}\\n인구 : {self.population}\\n 수도 : {self.capital}\"\n",
    "    \n",
    "    \n",
    "country = Country()\n",
    "print(\"country :\\n\", country, sep=\"\")\n",
    "print(\"-\"*50)\n",
    "\n",
    "korea = Korea(\"대한민국\",\"5000만\", \"서울\")\n",
    "print(\"korea :\", korea)"
   ]
  },
  {
   "cell_type": "code",
   "execution_count": 16,
   "id": "3826e887",
   "metadata": {},
   "outputs": [
    {
     "name": "stdout",
     "output_type": "stream",
     "text": [
      "korea :\n",
      "이름 : 대한민국\n",
      "인구 : 5000만\n",
      " 수도 : 서울\n",
      "--------------------------------------------------\n"
     ]
    }
   ],
   "source": [
    "class Country:\n",
    "    def __init__(self):\n",
    "        self.name = \"대한민국\"\n",
    "        self.population = \"5000만\"\n",
    "        self.capital = \"서울\"\n",
    "\n",
    "class Korea(Country):\n",
    "     def __str__(self):\n",
    "        return f\"이름 : {self.name}\\n인구 : {self.population}\\n 수도 : {self.capital}\"\n",
    "    \n",
    "korea = Korea()\n",
    "print(\"korea :\\n\", korea, sep=\"\")\n",
    "print(\"-\"*50)\n",
    "\n"
   ]
  },
  {
   "cell_type": "code",
   "execution_count": 44,
   "id": "9b97af7e",
   "metadata": {},
   "outputs": [],
   "source": [
    "class Person:\n",
    "    def __init__(self, name, age, gender):\n",
    "        self.name = name\n",
    "        self.age = age\n",
    "        self.gender = gender\n",
    "    def __str__(self):\n",
    "        return f\"이름 : {self.name}\\n나이 : {self.age}\\n성별 : {self.gender}\"\n",
    "    def eat_meal(self):\n",
    "        print(\"식사를 합니다\")\n",
    "        \n",
    "    \n",
    "class Worker(Person):\n",
    "    #생성자 overiding\n",
    "    def __init__(self, name, age, gender, salary, hiredate):\n",
    "        # 자식클래스에서 부모클래스의 생성자 호출하기\n",
    "        Person.__init__(self, name, age, gender)\n",
    "        # name, age, gender는\n",
    "        #부모 클래스의 생성자를 호출해서 초기화하고\n",
    "        #자식클래스에서 추가한 salary, hiredate는\n",
    "        #자식클래스에서 초기화함\n",
    "        self.salary = salary\n",
    "        self.hiredate = hiredate\n",
    "    # __str__() 메소드 overriding    \n",
    "    def __str__(self) :\n",
    "        return Person.__str__(self) + f\"\\n급여 : {self.salary}\\n입사일: {self.hiredate}\"\n",
    "    \n",
    "    # work_hard() 메소드 추가하기\n",
    "    def work_hard(self):\n",
    "        print(f\"{self.name} 씨는 열심히 일합니다\")\n",
    "    def eat_meal(self):\n",
    "        print(f\"{self.name}은 식사를 합니다 - Worker에서 overriding 한 내용\")\n",
    "        \n",
    "            \n",
    "class Student(Person):\n",
    "    # 생성자 overriding\n",
    "    def __init__(self, name, age, gender, stdno, grade):\n",
    "        #자식 클래스에서 부모클래스의 생성자 호출하기\n",
    "        Person.__init__(self, name, age, gender)\n",
    "        \n",
    "        self.stdno = stdno\n",
    "        self.grade = grade\n",
    "        \n",
    "    def __str__(self):\n",
    "        return Person.__str__(self) + f\"\\n학번: {self.stdno}\\n학년 : {self.grade}\"\n",
    "    \n",
    "    # study_hard() 메소드 추가하기\n",
    "    def study_hard(self):\n",
    "        print(f\"{self.name} 씨는 열심히 공부합니다\")\n",
    "    #overriding\n",
    "    def eat_meal(self):\n",
    "        print(f\"{self.name}은 식사를 합니다 - Student에서 overridng 한 내용\")\n",
    "        "
   ]
  },
  {
   "cell_type": "code",
   "execution_count": 45,
   "id": "e8a277ac",
   "metadata": {
    "scrolled": true
   },
   "outputs": [
    {
     "name": "stdout",
     "output_type": "stream",
     "text": [
      "p1:\n",
      "이름 : 이순신\n",
      "나이 : 48\n",
      "성별 : 남자\n",
      "w1:\n",
      "이름 : 이성계\n",
      "나이 : 52\n",
      "성별 : 남자\n",
      "급여 : 7000000\n",
      "입사일: 20100102\n",
      "s1:\n",
      "이름 : 유관순\n",
      "나이 : 19\n",
      "성별 : 여자\n",
      "학번: 20200103\n",
      "학년 : 2\n",
      "이성계은 식사를 합니다 - Worker\n",
      "유관순은 식사를 합니다 - Student\n"
     ]
    }
   ],
   "source": [
    "p1 = Person(\"이순신\", 48, \"남자\")\n",
    "print(\"p1:\\n\", p1, sep=\"\")\n",
    "\n",
    "w1 = Worker(\"이성계\", 52, \"남자\", 7000000, 20100102)\n",
    "print(\"w1:\\n\", w1, sep=\"\")\n",
    "\n",
    "s1 = Student(\"유관순\", 19, \"여자\", 20200103, 2)\n",
    "print(\"s1:\\n\", s1, sep=\"\")\n",
    "\n",
    "w1.eat_meal()\n",
    "s1.eat_meal()"
   ]
  },
  {
   "cell_type": "code",
   "execution_count": 55,
   "id": "da2ed064",
   "metadata": {},
   "outputs": [
    {
     "name": "stdout",
     "output_type": "stream",
     "text": [
      "p1: 연필\n",
      "e1: 지우개가격 : 500 원\n",
      "연필 패키지 가격 : 15000 원\n",
      "지우개 패키지 가격 : 10000 원\n",
      "--------------------------------------------------\n",
      "Pencil 클래스의 package_price() 메소드의 정보가 메모리에 올라간 곳의 주소 :\n",
      " 15000 원\n",
      "Eraser 클래스의 package_price() 메소드의 정보가 메모리에 올라간 곳의 주소 :\n",
      " 10000 원\n"
     ]
    }
   ],
   "source": [
    "class Product:\n",
    "    def __init__(self, name):\n",
    "        self.name = name\n",
    "        self.price = 100\n",
    "    # 이름(문자열)만 리턴함\n",
    "    def __str__(self):\n",
    "        return self.name\n",
    "    def package_price(self):\n",
    "        return self.price * 10\n",
    "\n",
    "class Pencil(Product):\n",
    "    # 생성자 overriding\n",
    "    def __init__(self, name):\n",
    "    # 자식클래스에서 부모클래스의 생성자를 호출함\n",
    "        Product.__init__(self, name)\n",
    "        self.price = 1000\n",
    "    \n",
    "    #package_price overridng 하기\n",
    "    def package_price(self):\n",
    "        return self.price * 15\n",
    "\n",
    "class Eraser(Product):\n",
    "    # 생성자 overriding\n",
    "    def __init__(self, name):\n",
    "        Product.__init__(self, name)\n",
    "        self.price = 500\n",
    "        \n",
    "    #  package_price overriding\n",
    "    def package_price(self):\n",
    "        return self.price * 20\n",
    "    \n",
    "     # __str__() overridng\n",
    "    # 이름하고 가격을 문자열로 리턴함\n",
    "    def __str__ (self):\n",
    "        return Product.__str__(self) + f\"가격 : {self.price} 원\"\n",
    "\n",
    "p1 = Pencil(\"연필\")\n",
    "e1 = Eraser(\"지우개\")    \n",
    "\n",
    "print(\"p1:\", p1)\n",
    "print(\"e1:\", e1)\n",
    "\n",
    "print(\"연필 패키지 가격 :\", p1.package_price(),\"원\")\n",
    "print(\"지우개 패키지 가격 :\", e1.package_price(),\"원\")\n",
    "print(\"-\" * 50)\n",
    "print(\"Pencil 클래스의 package_price() 메소드의 정보가 메모리에 올라간 곳의 주소 :\\n\", p1.package_price(),\"원\")\n",
    "print(\"Eraser 클래스의 package_price() 메소드의 정보가 메모리에 올라간 곳의 주소 :\\n\", e1.package_price(),\"원\")"
   ]
  },
  {
   "cell_type": "code",
   "execution_count": 58,
   "id": "b739d5b6",
   "metadata": {},
   "outputs": [
    {
     "name": "stdout",
     "output_type": "stream",
     "text": [
      "ch1: "
     ]
    },
    {
     "ename": "TypeError",
     "evalue": "__init__() missing 2 required positional arguments: 'name' and 'job'",
     "output_type": "error",
     "traceback": [
      "\u001b[1;31m---------------------------------------------------------------------------\u001b[0m",
      "\u001b[1;31mTypeError\u001b[0m                                 Traceback (most recent call last)",
      "\u001b[1;32mC:\\Users\\KIMDON~1\\AppData\\Local\\Temp/ipykernel_28200/4025406728.py\u001b[0m in \u001b[0;36m<module>\u001b[1;34m\u001b[0m\n\u001b[0;32m     25\u001b[0m \u001b[1;31m#자식클래스 객체 생성하기\u001b[0m\u001b[1;33m\u001b[0m\u001b[1;33m\u001b[0m\u001b[0m\n\u001b[0;32m     26\u001b[0m \u001b[0mch1\u001b[0m \u001b[1;33m=\u001b[0m \u001b[0mChild\u001b[0m\u001b[1;33m(\u001b[0m\u001b[1;34m\"강감찬\"\u001b[0m\u001b[1;33m,\u001b[0m \u001b[1;34m\"장군\"\u001b[0m\u001b[1;33m,\u001b[0m \u001b[1;34m\"남자\"\u001b[0m\u001b[1;33m)\u001b[0m\u001b[1;33m\u001b[0m\u001b[1;33m\u001b[0m\u001b[0m\n\u001b[1;32m---> 27\u001b[1;33m \u001b[0mprint\u001b[0m\u001b[1;33m(\u001b[0m\u001b[1;34m\"ch1:\"\u001b[0m\u001b[1;33m,\u001b[0m \u001b[0mch1\u001b[0m\u001b[1;33m)\u001b[0m\u001b[1;33m\u001b[0m\u001b[1;33m\u001b[0m\u001b[0m\n\u001b[0m\u001b[0;32m     28\u001b[0m \u001b[1;33m\u001b[0m\u001b[0m\n\u001b[0;32m     29\u001b[0m \u001b[0mch2\u001b[0m \u001b[1;33m=\u001b[0m \u001b[0mChild\u001b[0m\u001b[1;33m(\u001b[0m\u001b[1;34m\"유관순\"\u001b[0m\u001b[1;33m,\u001b[0m \u001b[1;34m\"독립운동가\"\u001b[0m\u001b[1;33m,\u001b[0m \u001b[1;34m\"여자\"\u001b[0m\u001b[1;33m)\u001b[0m\u001b[1;33m\u001b[0m\u001b[1;33m\u001b[0m\u001b[0m\n",
      "\u001b[1;32mC:\\Users\\KIMDON~1\\AppData\\Local\\Temp/ipykernel_28200/4025406728.py\u001b[0m in \u001b[0;36m__str__\u001b[1;34m(self)\u001b[0m\n\u001b[0;32m     21\u001b[0m     \u001b[1;31m# __str() 메소드 overridng\u001b[0m\u001b[1;33m\u001b[0m\u001b[1;33m\u001b[0m\u001b[0m\n\u001b[0;32m     22\u001b[0m     \u001b[1;32mdef\u001b[0m \u001b[0m__str__\u001b[0m\u001b[1;33m(\u001b[0m\u001b[0mself\u001b[0m\u001b[1;33m)\u001b[0m\u001b[1;33m:\u001b[0m\u001b[1;33m\u001b[0m\u001b[1;33m\u001b[0m\u001b[0m\n\u001b[1;32m---> 23\u001b[1;33m         \u001b[1;32mreturn\u001b[0m \u001b[0mParent\u001b[0m\u001b[1;33m.\u001b[0m\u001b[0m__init__\u001b[0m\u001b[1;33m(\u001b[0m\u001b[0mself\u001b[0m\u001b[1;33m)\u001b[0m \u001b[1;33m+\u001b[0m \u001b[1;34mf\"직업 : {self.job}, 성별 : {self.gender}\"\u001b[0m\u001b[1;33m\u001b[0m\u001b[1;33m\u001b[0m\u001b[0m\n\u001b[0m\u001b[0;32m     24\u001b[0m \u001b[1;33m\u001b[0m\u001b[0m\n\u001b[0;32m     25\u001b[0m \u001b[1;31m#자식클래스 객체 생성하기\u001b[0m\u001b[1;33m\u001b[0m\u001b[1;33m\u001b[0m\u001b[0m\n",
      "\u001b[1;31mTypeError\u001b[0m: __init__() missing 2 required positional arguments: 'name' and 'job'"
     ]
    }
   ],
   "source": [
    "class Parent:\n",
    "    def __init__(self, name, job):\n",
    "        self.name = name\n",
    "        self.job = job\n",
    "    def __str__(self):\n",
    "        return f\"이름: {self.name}, 직업 : {self.job}\"\n",
    "\n",
    "class Child:\n",
    "    # 자식클래스에서 클래스 변수 추가하기\n",
    "    gender = None\n",
    "    \n",
    "    # 생성자 overriding\n",
    "    def __init__(self, name, job, gender):\n",
    "        # 부모클래스의 생성자 호출하기\n",
    "        Parent.__init__(self, name, job)\n",
    "        # parameter gender 를 클래스멤버변수에 할당하기\n",
    "        # parameter gender 는 객체를 생성할 때 넣어준 값\n",
    "        Child.gender = gender\n",
    "        \n",
    "        \n",
    "    # __str() 메소드 overridng\n",
    "    def __str__(self):\n",
    "        return Parent.__init__(self) + f\"직업 : {self.job}, 성별 : {self.gender}\"\n",
    "    \n",
    "#자식클래스 객체 생성하기\n",
    "ch1 = Child(\"강감찬\", \"장군\", \"남자\")\n",
    "print(\"ch1:\", ch1)\n",
    "'''\n",
    "객체를 생성할 때 argument로 넣어준 값으로\n",
    "클래스변수를 초기화 할 수 있으나\n",
    "의미상 적절한지 생각해 보고 사용해야함\n",
    "'''\n",
    "ch2 = Child(\"유관순\", \"독립운동가\", \"여자\")\n",
    "print(\"ch2:\", ch2)\n",
    "\n",
    "print(\"Child.gender :\", Child.gender)\n",
    "print(\"ch1.gender :\", ch1.gender)\n",
    "print(\"ch2.gender :\", ch2.gender)\n",
    "\n",
    "print(\"ch1:\",ch1)\n",
    "print(\"ch2:\",ch2)"
   ]
  },
  {
   "cell_type": "code",
   "execution_count": null,
   "id": "77b4d7b9",
   "metadata": {},
   "outputs": [],
   "source": []
  },
  {
   "cell_type": "code",
   "execution_count": null,
   "id": "df5c2295",
   "metadata": {},
   "outputs": [],
   "source": []
  }
 ],
 "metadata": {
  "kernelspec": {
   "display_name": "Python 3 (ipykernel)",
   "language": "python",
   "name": "python3"
  },
  "language_info": {
   "codemirror_mode": {
    "name": "ipython",
    "version": 3
   },
   "file_extension": ".py",
   "mimetype": "text/x-python",
   "name": "python",
   "nbconvert_exporter": "python",
   "pygments_lexer": "ipython3",
   "version": "3.9.7"
  }
 },
 "nbformat": 4,
 "nbformat_minor": 5
}
