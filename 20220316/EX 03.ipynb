{
 "cells": [
  {
   "cell_type": "code",
   "execution_count": 3,
   "id": "bac9134d",
   "metadata": {},
   "outputs": [
    {
     "ename": "AttributeError",
     "evalue": "'Permanent' object has no attribute 'pay'",
     "output_type": "error",
     "traceback": [
      "\u001b[1;31m---------------------------------------------------------------------------\u001b[0m",
      "\u001b[1;31mAttributeError\u001b[0m                            Traceback (most recent call last)",
      "\u001b[1;32mC:\\Users\\KIMDON~1\\AppData\\Local\\Temp/ipykernel_12996/304241474.py\u001b[0m in \u001b[0;36m<module>\u001b[1;34m\u001b[0m\n\u001b[0;32m     27\u001b[0m \u001b[1;33m\u001b[0m\u001b[0m\n\u001b[0;32m     28\u001b[0m \u001b[0mp1\u001b[0m \u001b[1;33m=\u001b[0m \u001b[0mPermanent\u001b[0m\u001b[1;33m(\u001b[0m\u001b[1;34m\"글로벌\"\u001b[0m\u001b[1;33m)\u001b[0m\u001b[1;33m\u001b[0m\u001b[1;33m\u001b[0m\u001b[0m\n\u001b[1;32m---> 29\u001b[1;33m \u001b[0mp1\u001b[0m\u001b[1;33m.\u001b[0m\u001b[0msalary_calculate\u001b[0m\u001b[1;33m(\u001b[0m\u001b[1;36m4000000\u001b[0m\u001b[1;33m,\u001b[0m \u001b[1;36m300000\u001b[0m\u001b[1;33m)\u001b[0m\u001b[1;33m\u001b[0m\u001b[1;33m\u001b[0m\u001b[0m\n\u001b[0m\u001b[0;32m     30\u001b[0m \u001b[1;33m\u001b[0m\u001b[0m\n\u001b[0;32m     31\u001b[0m \u001b[0mt1\u001b[0m \u001b[1;33m=\u001b[0m \u001b[0mTemporary\u001b[0m\u001b[1;33m(\u001b[0m\u001b[1;34m\"아이티\"\u001b[0m\u001b[1;33m)\u001b[0m\u001b[1;33m\u001b[0m\u001b[1;33m\u001b[0m\u001b[0m\n",
      "\u001b[1;32mC:\\Users\\KIMDON~1\\AppData\\Local\\Temp/ipykernel_12996/304241474.py\u001b[0m in \u001b[0;36msalary_calculate\u001b[1;34m(self, base, bonus)\u001b[0m\n\u001b[0;32m     13\u001b[0m     \u001b[1;32mdef\u001b[0m \u001b[0msalary_calculate\u001b[0m\u001b[1;33m(\u001b[0m\u001b[0mself\u001b[0m\u001b[1;33m,\u001b[0m \u001b[0mbase\u001b[0m\u001b[1;33m,\u001b[0m \u001b[0mbonus\u001b[0m\u001b[1;33m)\u001b[0m\u001b[1;33m:\u001b[0m\u001b[1;33m\u001b[0m\u001b[1;33m\u001b[0m\u001b[0m\n\u001b[0;32m     14\u001b[0m         \u001b[0mself\u001b[0m\u001b[1;33m.\u001b[0m\u001b[0msalary\u001b[0m \u001b[1;33m=\u001b[0m \u001b[0mbase\u001b[0m \u001b[1;33m+\u001b[0m \u001b[0mbonus\u001b[0m\u001b[1;33m\u001b[0m\u001b[1;33m\u001b[0m\u001b[0m\n\u001b[1;32m---> 15\u001b[1;33m         \u001b[0mprint\u001b[0m\u001b[1;33m(\u001b[0m\u001b[1;34mf\"총수령금액[정규직]:\"\u001b[0m\u001b[1;33m,\u001b[0m\u001b[0mformat\u001b[0m\u001b[1;33m(\u001b[0m\u001b[0mself\u001b[0m\u001b[1;33m.\u001b[0m\u001b[0mpay\u001b[0m\u001b[1;33m,\u001b[0m\u001b[1;34m\",\"\u001b[0m\u001b[1;33m)\u001b[0m\u001b[1;33m,\u001b[0m\u001b[1;34m\"원\"\u001b[0m\u001b[1;33m)\u001b[0m\u001b[1;33m\u001b[0m\u001b[1;33m\u001b[0m\u001b[0m\n\u001b[0m\u001b[0;32m     16\u001b[0m \u001b[1;33m\u001b[0m\u001b[0m\n\u001b[0;32m     17\u001b[0m \u001b[1;31m# 임시직 사원 클래스\u001b[0m\u001b[1;33m\u001b[0m\u001b[1;33m\u001b[0m\u001b[0m\n",
      "\u001b[1;31mAttributeError\u001b[0m: 'Permanent' object has no attribute 'pay'"
     ]
    }
   ],
   "source": [
    "class Employee:\n",
    "    def __init__(self, name):\n",
    "        self.name = name\n",
    "    def salary_calculate(self, base, bonus):\n",
    "        pass\n",
    "    \n",
    "# 정규직 사원 클래스\n",
    "class Permanent(Employee):\n",
    "    def __init__(self, name):\n",
    "        Employee.__init__(self, name)\n",
    "        \n",
    "    #salary_calculate() overriding\n",
    "    def salary_calculate(self, base, bonus):\n",
    "        self.salary = base + bonus\n",
    "        print(f\"총수령금액[정규직]:\",format(self.pay,\",\"),\"원\")\n",
    "        \n",
    "# 임시직 사원 클래스\n",
    "class Temporary(Employee):\n",
    "    def __init__(self,name):\n",
    "        Employee.__init__(self, name)\n",
    "     \n",
    "    # salary_calculate() overriding\n",
    "    def salary_calculate(self, time_pay, time):\n",
    "        # 급여 = 시간당급여 * 시간\n",
    "        self.salary = time_pay * time\n",
    "        print(f\"총수령금액[임시직]:\",format(self.salary, \",\"),\"원\")\n",
    "        \n",
    "p1 = Permanent(\"글로벌\")\n",
    "p1.salary_calculate(4000000, 300000)\n",
    "\n",
    "t1 = Temporary(\"아이티\")\n",
    "t1.salary_calculate(20000, 160)\n"
   ]
  },
  {
   "cell_type": "code",
   "execution_count": 8,
   "id": "2761eeeb",
   "metadata": {},
   "outputs": [
    {
     "name": "stdout",
     "output_type": "stream",
     "text": [
      "날것이 날아갑니다\n",
      "비행기가 날아갑니다\n",
      "새가 날아갑니다\n",
      "종이비행기가 날아갑니다\n"
     ]
    }
   ],
   "source": [
    "'''\n",
    "다형성 : ploymorphism < -- overriding을 구현해야 함\n",
    "ㄴ 같은 형태의 code를 실행하는데,\n",
    "   이 code를 실행하는 객체가 바뀌면 \n",
    "   실행 결과가 달라지는 문법   \n",
    "'''\n",
    "\n",
    "class Flight:\n",
    "    def fly(self):\n",
    "        print(\"날것이 날아갑니다\")\n",
    "class Airplane(Flight):\n",
    "    def fly(self):\n",
    "        print(\"비행기가 날아갑니다\")\n",
    "class Bird(Flight):\n",
    "    def fly(self):\n",
    "        print(\"새가 날아갑니다\")\n",
    "class PaperAirplane(Flight):\n",
    "    def fly(self):\n",
    "        print(\"종이비행기가 날아갑니다\")\n",
    "        \n",
    "flight = Flight()\n",
    "airplane = Airplane()\n",
    "bird = Bird()\n",
    "paperAirplane = PaperAirplane()\n",
    "\n",
    "list_flights = [flight, airplane, bird, paperAirplane]\n",
    "\n",
    "for f in list_flights:\n",
    "    f.fly()"
   ]
  },
  {
   "cell_type": "code",
   "execution_count": 12,
   "id": "c5203681",
   "metadata": {},
   "outputs": [
    {
     "name": "stdout",
     "output_type": "stream",
     "text": [
      "Child 클래스입니다\n",
      "Parent1 클래스입니다\n",
      "Parent2 클래스입니다\n",
      "Parent2 클래스입니다\n"
     ]
    }
   ],
   "source": [
    "'''\n",
    "다중상속 : 하나의 자식클래스가 여러 부모클래스를 상속하는 것\n",
    "            같은 이름의 메소드가 여러 부모클래스에 있는 경우,\n",
    "            자식클래스에서 상속받은 메소드(같은 이름 메소드)를 호출하면\n",
    "            상속할 때, 먼저 지정한 부모클래스에 있는 메소드가 실행됨\n",
    "'''\n",
    "class Parent1:\n",
    "    def display_parent(self):\n",
    "        print(\"Parent1 클래스입니다\")\n",
    "        \n",
    "class Parent2:\n",
    "    def display_parent(self):\n",
    "        print(\"Parent2 클래스입니다\")\n",
    "        \n",
    "# 다중상속\n",
    "class Child(Parent2, Parent1):\n",
    "    def display_child(self):\n",
    "        print(\"Child 클래스입니다\")\n",
    "        Parent1.display_parent(self)\n",
    "        Parent2.display_parent(self)\n",
    "\n",
    "ch1 = Child()\n",
    "ch1.display_child()\n",
    "\n",
    "ch1.display_parent()"
   ]
  },
  {
   "cell_type": "code",
   "execution_count": 19,
   "id": "8d963457",
   "metadata": {},
   "outputs": [
    {
     "name": "stdout",
     "output_type": "stream",
     "text": [
      "q1: 아이티-blue-3-4 - 12\n",
      "아이티\n",
      "blue\n",
      "qc1: 개발원-green-5-7 - 35-12\n"
     ]
    }
   ],
   "source": [
    "class Shape:\n",
    "    def __init__(self, name, color):\n",
    "        self.name = name\n",
    "        self.color = color\n",
    "class Quardangle(Shape):\n",
    "    def set_area(self, width, height):\n",
    "        self.width = width\n",
    "        self.length = 1000\n",
    "        self.height = height\n",
    "        self.area = width * height\n",
    "    def __str__(self):\n",
    "        return f\"{self.name}-{self.color}-{self.width}-{self.height} - {self.area}\"\n",
    "    \n",
    "class QuardangleChild(Quardangle):\n",
    "    def set_diagonal(self, diagonal):\n",
    "        self.diagonal = diagonal\n",
    "    def __str__(self):\n",
    "        return Quardangle.__str__(self) + f\"-{self.diagonal}\"\n",
    "    \n",
    "s1 = Shape(\"글로벌\", \"red\")\n",
    "q1 = Quardangle(\"아이티\", \"blue\")\n",
    "q1.set_area(3,4)\n",
    "print(\"q1:\", q1)\n",
    "print(q1.name)\n",
    "print(q1.color)\n",
    "qc1 = QuardangleChild(\"개발원\", \"green\")\n",
    "qc1.set_area(5, 7)\n",
    "qc1.set_diagonal(12)\n",
    "print(\"qc1:\", qc1)"
   ]
  },
  {
   "cell_type": "code",
   "execution_count": 22,
   "id": "973378e4",
   "metadata": {},
   "outputs": [
    {
     "data": {
      "text/plain": [
       "False"
      ]
     },
     "execution_count": 22,
     "metadata": {},
     "output_type": "execute_result"
    }
   ],
   "source": [
    "'''\n",
    "자식객체가 생성 될 때 메모리에서 일어나는 일\n",
    "1)부모객체가 먼저 생성되어서 메모리에 올라감\n",
    "2)자식클래스에 설명되어진 내용이 실행 상태로\n",
    "  부모클래스가 생성된 주소지에 합쳐짐\n",
    "3) 이렇게 합쳐진 객체를 자식객체라고 함\n",
    "\n",
    "issubclass(자식클래스 이름, 부모클래스 이름)\n",
    "            앞에 있는 클래스가 뒤에 있는 클래스의 자식클래스인지 물어보는 메소드\n",
    "            ㄴ 앞에 있는 클래스의 객체 속에 뒤에 있는 클래스의 객체가 들어있는지 물어보는 메소드\n",
    "\n",
    "isinstance(참조변수, 클래스이름\n",
    "           참조변수가 저장하고 주소지에 갔을 때\n",
    "            클래스 이름의 클래스의 객체가 있는지 물어보는 메소드)\n",
    "\n",
    "s1 = Shape()\n",
    "q1 = Quardangle()\n",
    "qc1 = QuardangleChild()\n",
    "'''\n",
    "\n",
    "isinstance(s1, Shape)\n",
    "isinstance(q1, Quardangle)\n",
    "isinstance(qc1, QuardangleChild)\n",
    "\n",
    "\n",
    "isinstance(q1, Shape)\n",
    "isinstance(qc1, Quardangle)\n",
    "isinstance(qc1, QuardangleChild)\n",
    "\n",
    "isinstance(s1, Shape)\n",
    "isinstance(s1, Quardangle)\n",
    "isinstance(q1, QuardangleChild)"
   ]
  },
  {
   "cell_type": "code",
   "execution_count": null,
   "id": "87624576",
   "metadata": {},
   "outputs": [],
   "source": []
  }
 ],
 "metadata": {
  "kernelspec": {
   "display_name": "Python 3 (ipykernel)",
   "language": "python",
   "name": "python3"
  },
  "language_info": {
   "codemirror_mode": {
    "name": "ipython",
    "version": 3
   },
   "file_extension": ".py",
   "mimetype": "text/x-python",
   "name": "python",
   "nbconvert_exporter": "python",
   "pygments_lexer": "ipython3",
   "version": "3.9.7"
  }
 },
 "nbformat": 4,
 "nbformat_minor": 5
}
