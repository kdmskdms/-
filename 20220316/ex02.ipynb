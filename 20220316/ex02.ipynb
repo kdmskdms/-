{
 "cells": [
  {
   "cell_type": "code",
   "execution_count": 11,
   "id": "85cff028",
   "metadata": {
    "ExecuteTime": {
     "end_time": "2022-03-16T04:52:23.591709Z",
     "start_time": "2022-03-16T04:52:23.576697Z"
    }
   },
   "outputs": [
    {
     "name": "stdout",
     "output_type": "stream",
     "text": [
      "country :\n",
      "Country 클래스입니다\n",
      "--------------------------------------------------\n",
      "korea :\n",
      "이름 : 대한민국\n",
      "인구 : 5000만\n",
      "수도 : 서울\n",
      "--------------------------------------------------\n"
     ]
    }
   ],
   "source": [
    "class Country:\n",
    "    def __init__(self):\n",
    "        self.name = \"나라이름\"\n",
    "        self.population = \"인구수\"\n",
    "        self.capital = \"수도\"\n",
    "    def __str__(self):\n",
    "        return \"Country 클래스입니다\"\n",
    "    \n",
    "class Korea(Country): \n",
    "    def __init__(self):\n",
    "        self.name = \"대한민국\"\n",
    "        self.population = \"5000만\"\n",
    "        self.capital = \"서울\"\n",
    "    \n",
    "    def __str__(self):\n",
    "        return f\"이름 : {self.name}\\n인구 : {self.population}\\n수도 : {self.capital}\"\n",
    "    \n",
    "country = Country()    \n",
    "print(\"country :\\n\",country,sep=\"\")\n",
    "print(\"-\" * 50)\n",
    "\n",
    "korea = Korea()\n",
    "print(\"korea :\\n\",korea,sep=\"\")\n",
    "print(\"-\" * 50)"
   ]
  },
  {
   "cell_type": "code",
   "execution_count": null,
   "id": "0df78208",
   "metadata": {},
   "outputs": [],
   "source": [
    "'''\n",
    "Korea 클래스의 생성자를\n",
    "작정해서 아래와 같이\n",
    "출력되도록 해 보세요\n",
    "\n",
    "[출력]\n",
    "korea :\n",
    "이름 : 대한민국\n",
    "인구 : 5000만\n",
    "수도 : 서울\n",
    "\n",
    "[Korea 클래스의 생성자를 작성하기 전]\n",
    "korea :\n",
    "이름 : 나라이름\n",
    "인구 : 인구수\n",
    "수도 : 수도\n",
    "'''\n",
    "\n",
    "class Country:\n",
    "    def __init__(self):\n",
    "        self.name = \"나라이름\"\n",
    "        self.population = \"인구수\"\n",
    "        self.capital = \"수도\"\n",
    "    def __str__(self):\n",
    "        return \"Country 클래스입니다\"\n",
    "    \n",
    "class Korea(Country): \n",
    "    def __init__(self):\n",
    "        self.name = \"대한민국\"\n",
    "        self.population = \"5000만\"\n",
    "        self.capital = \"서울\"\n",
    "    \n",
    "    def __str__(self):\n",
    "        return f\"이름 : {self.name}\\n인구 : {self.population}\\n수도 : {self.capital}\"\n",
    "    \n",
    "country = Country()    \n",
    "print(\"country :\\n\",country,sep=\"\")\n",
    "print(\"-\" * 50)\n",
    "\n",
    "korea = Korea()\n",
    "print(\"korea :\\n\",korea,sep=\"\")\n",
    "print(\"-\" * 50)"
   ]
  },
  {
   "cell_type": "code",
   "execution_count": 19,
   "id": "5d466fd1",
   "metadata": {
    "ExecuteTime": {
     "end_time": "2022-03-16T04:56:38.553059Z",
     "start_time": "2022-03-16T04:56:38.544064Z"
    }
   },
   "outputs": [
    {
     "name": "stdout",
     "output_type": "stream",
     "text": [
      "country :\n",
      "Country 클래스입니다\n",
      "--------------------------------------------------\n",
      "korea :\n",
      "이름 : 대한민국\n",
      "인구 : 5000만\n",
      "수도 : 서울\n"
     ]
    }
   ],
   "source": [
    "'''\n",
    "아래와 같이 code 를 작성할 때\n",
    "\n",
    "korea = Korea(\"대한민국\",\"5000만\",\"서울)\n",
    "print(\"korea :',korea)\n",
    "\n",
    "아래와 같이 출력되도록\n",
    "Korea 클래스의 생성자를 수정하세요\n",
    "\n",
    "[출력]\n",
    "korea :\n",
    "이름 : 대한민국\n",
    "인구 : 5000만\n",
    "수도 : 서울\n",
    "'''\n",
    "class Country:\n",
    "    def __init__(self):\n",
    "        self.name = \"나라이름\"\n",
    "        self.population = \"인구수\"\n",
    "        self.capital = \"수도\"\n",
    "    def __str__(self):\n",
    "        return \"Country 클래스입니다\"\n",
    "    \n",
    "class Korea(Country): \n",
    "    def __init__(self, name, population, capital):\n",
    "        self.name = name\n",
    "        self.population = population\n",
    "        self.capital = capital\n",
    "    \n",
    "    def __str__(self):\n",
    "        return f\"이름 : {self.name}\\n인구 : {self.population}\\n수도 : {self.capital}\"\n",
    "    \n",
    "country = Country()    \n",
    "print(\"country :\\n\",country,sep=\"\")\n",
    "print(\"-\" * 50)\n",
    "\n",
    "korea = Korea(\"대한민국\",\"5000만\",\"서울\")\n",
    "print(\"korea :\\n\",korea,sep=\"\")"
   ]
  },
  {
   "cell_type": "code",
   "execution_count": 31,
   "id": "8eaa9293",
   "metadata": {
    "ExecuteTime": {
     "end_time": "2022-03-16T05:48:09.698860Z",
     "start_time": "2022-03-16T05:48:09.682868Z"
    }
   },
   "outputs": [
    {
     "name": "stdout",
     "output_type": "stream",
     "text": [
      "p1 :\n",
      "이름 : 이순신\n",
      "나이 : 48\n",
      "성별 : 남자\n",
      "--------------------------------------------------\n",
      "w1 :\n",
      "이름 : 이성계\n",
      "나이 : 52\n",
      "성별 : 남자\n",
      "급여 : 7000000\n",
      "입사일 : 20100102\n",
      "--------------------------------------------------\n",
      "s1 :\n",
      "이름 : 유관순\n",
      "나이 : 19\n",
      "성별 : 여자\n",
      "학번 : 20200103\n",
      "학년 : 2\n",
      "--------------------------------------------------\n",
      "이성계 식사를 합니다 - Worker에서 overriding 한 내용\n",
      "유관순 식사를 합니다 - Student에서 overriding 한 내용\n"
     ]
    }
   ],
   "source": [
    "class Person:\n",
    "    def __init__(self, name, age, gender):\n",
    "        self.name = name\n",
    "        self.age  = age\n",
    "        self.gender = gender\n",
    "    def __str__(self):\n",
    "        return f\"이름 : {self.name}\\n나이 : {self.age}\\n성별 : {self.gender}\"    \n",
    "    def eat_meal(self):\n",
    "        print(\"식사를 합니다\")\n",
    "\n",
    "class Worker(Person):\n",
    "    # 생성자 overriding\n",
    "    def __init__(self, name, age, gender, salary, hiredate):\n",
    "        # 자식클래스에서 부모클래스의 생성자 호출하기\n",
    "        Person.__init__(self, name, age, gender)\n",
    "        # 부모클래스로부터 상속받은 name, age, gender 는 \n",
    "        # 부모클래스의 생성자를 호출해서 초기화하고\n",
    "        # 자식클래스에서 추가한 salary, hiredate 는 \n",
    "        # 자식클래스에서 초기화함\n",
    "        self.salary = salary\n",
    "        self.hiredate = hiredate\n",
    "        \n",
    "    # __str__() 메소드 overriding    \n",
    "    def __str__(self):\n",
    "        return Person.__str__(self) + f\"\\n급여 : {self.salary}\\n입사일 : {self.hiredate}\"\n",
    "        \n",
    "    # work_hard() 메소드 추가하기\n",
    "    def work_hard(self):\n",
    "        print(f\"{self.name} 씨는 열심히 일합니다\")\n",
    "    \n",
    "    # overriding\n",
    "    def eat_meal(self):\n",
    "        print(f\"{self.name} 식사를 합니다 - Worker에서 overriding 한 내용\")\n",
    "        \n",
    "        \n",
    "class Student(Person):\n",
    "    # 생성자 overriding\n",
    "    def __init__(self, name, age, gender, stdno, grade):\n",
    "        # 자식클래스에서 부모클래스의 생성자 호출하기\n",
    "        Person.__init__(self, name, age, gender)\n",
    "        # 부모클래스로부터 상속받은 name, age, gender 는 \n",
    "        # 부모클래스의 생성자를 호출해서 초기화하고\n",
    "        # 자식클래스에서 추가한 stdno, grade 는 \n",
    "        # 자식클래스에서 초기화함\n",
    "        self.stdno = stdno\n",
    "        self.grade = grade\n",
    "        \n",
    "    # __str__() 메소드 overriding\n",
    "    def __str__(self):\n",
    "        return Person.__str__(self) + f\"\\n학번 : {self.stdno}\\n학년 : {self.grade}\"\n",
    "    \n",
    "    # study_hard() 메소드 추가하기\n",
    "    def study_hard(self):\n",
    "        print(f\"{self.name} 씨는 열심히 공부합니다\")\n",
    "        \n",
    "    # overriding\n",
    "    def eat_meal(self):\n",
    "        print(f\"{self.name} 식사를 합니다 - Student에서 overriding 한 내용\")        \n",
    "    \n",
    "p1 = Person(\"이순신\",48,\"남자\")\n",
    "print(\"p1 :\\n\",p1,sep=\"\")    \n",
    "print(\"-\" * 50)\n",
    "\n",
    "w1 = Worker(\"이성계\", 52, \"남자\", 7000000, 20100102)\n",
    "print(\"w1 :\\n\",w1,sep=\"\")\n",
    "print(\"-\" * 50)\n",
    "\n",
    "s1 = Student(\"유관순\", 19, \"여자\", 20200103, 2)\n",
    "print(\"s1 :\\n\",s1,sep=\"\")\n",
    "print(\"-\" * 50)\n",
    "\n",
    "w1.eat_meal()\n",
    "s1.eat_meal()\n"
   ]
  },
  {
   "cell_type": "code",
   "execution_count": 37,
   "id": "1c1a2726",
   "metadata": {
    "ExecuteTime": {
     "end_time": "2022-03-16T06:08:57.744985Z",
     "start_time": "2022-03-16T06:08:57.729004Z"
    }
   },
   "outputs": [
    {
     "name": "stdout",
     "output_type": "stream",
     "text": [
      "p1 : 연필\n",
      "e1 : 지우개 가격 : 500 원\n",
      "연필 패키지 가격   : 15000 원\n",
      "지우개 패키지 가격 : 10000 원\n",
      "--------------------------------------------------\n",
      "Pencil 클래스의 package_price() 메소드의 정보가 메모리에 올라간 곳의 주소 :\n",
      " <bound method Pencil.package_price of <__main__.Pencil object at 0x0617B598>>\n",
      "Eraser 클래스의 package_price() 메소드의 정보가 메모리에 올라간 곳의 주소 :\n",
      " <bound method Eraser.package_price of <__main__.Eraser object at 0x00BDF928>>\n"
     ]
    }
   ],
   "source": [
    "class Product:\n",
    "    def __init__(self, name):\n",
    "        self.name  = name\n",
    "        self.price = 100\n",
    "    # 이름(문자열) 만 리턴함\n",
    "    def __str__(self):\n",
    "        return self.name\n",
    "    def package_price(self):\n",
    "        return self.price * 10\n",
    "    \n",
    "class Pencil(Product):\n",
    "    # 생성자 overriding\n",
    "    def __init__(self, name):\n",
    "        # 자식클래스에서 부모클래스의 생성자를 호출함\n",
    "        Product.__init__(self, name)\n",
    "        self.price = 1000\n",
    "    # package_price overriding 하기\n",
    "    def package_price(self):\n",
    "        return self.price * 15\n",
    "    \n",
    "class Eraser(Product):\n",
    "    # 생성자 overriding\n",
    "    def __init__(self, name):\n",
    "        Product.__init__(self, name)\n",
    "        self.price = 500\n",
    "    # package_price overriding\n",
    "    def package_price(self):\n",
    "        return self.price * 20\n",
    "    # __str__() overriding\n",
    "    # 이름하고 가격을 문자열로 리턴함\n",
    "    def __str__(self):\n",
    "        return Product.__str__(self) + f\" 가격 : {self.price} 원\"\n",
    "    \n",
    "p1 = Pencil(\"연필\")    \n",
    "e1 = Eraser(\"지우개\")\n",
    "\n",
    "print(\"p1 :\",p1)\n",
    "print(\"e1 :\",e1)    \n",
    "\n",
    "print(\"연필 패키지 가격   :\",p1.package_price(),\"원\")\n",
    "print(\"지우개 패키지 가격 :\",e1.package_price(),\"원\")\n",
    "print(\"-\" * 50)\n",
    "print(\"Pencil 클래스의 package_price() 메소드의 정보가 메모리에 올라간 곳의 주소 :\\n\",p1.package_price)\n",
    "print(\"Eraser 클래스의 package_price() 메소드의 정보가 메모리에 올라간 곳의 주소 :\\n\",e1.package_price)"
   ]
  },
  {
   "cell_type": "code",
   "execution_count": 42,
   "id": "8dc75e67",
   "metadata": {
    "ExecuteTime": {
     "end_time": "2022-03-16T06:38:13.554555Z",
     "start_time": "2022-03-16T06:38:13.543562Z"
    }
   },
   "outputs": [
    {
     "name": "stdout",
     "output_type": "stream",
     "text": [
      "ch1 : 이름 : 강감찬, 직업 : 장군, 성별 : 남자\n",
      "ch2 : 이름 : 유관순, 직업 : 독립운동가, 성별 : 여자\n",
      "Child.gender : 여자\n",
      "ch1.gender   : 여자\n",
      "ch2.gender   : 여자\n",
      "ch1 : 이름 : 강감찬, 직업 : 장군, 성별 : 여자\n",
      "ch2 : 이름 : 유관순, 직업 : 독립운동가, 성별 : 여자\n"
     ]
    }
   ],
   "source": [
    "class Parent:\n",
    "    def __init__(self, name, job):\n",
    "        self.name = name\n",
    "        self.job  = job\n",
    "    def __str__(self):\n",
    "        return f\"이름 : {self.name}, 직업 : {self.job}\"\n",
    "    \n",
    "class Child:\n",
    "    #  자식클래스에서 클래스 변수 추가하기\n",
    "    gender = None\n",
    "    \n",
    "    # 생성자 overriding\n",
    "    def __init__(self, name, job, gender):\n",
    "        # 부모클래스의 생성자 호출하기\n",
    "        Parent.__init__(self, name, job)\n",
    "        # parameter gender 를 클래스멤버변수에 할당하기\n",
    "        # parameter gender 는 객체를 생성할 때 넣어준 값\n",
    "        Child.gender = gender\n",
    "    \n",
    "    # __str__() 메소드 overriding\n",
    "    def __str__(self):\n",
    "        return Parent.__str__(self) + f\", 성별 : {Child.gender}\"\n",
    "    \n",
    "# 자식클래스 객체 생성하기\n",
    "ch1 = Child(\"강감찬\", \"장군\", \"남자\")\n",
    "print(\"ch1 :\",ch1)    \n",
    "\n",
    "'''\n",
    "객체를 생성할 때 argument로 넣어준 값으로\n",
    "클래스변수를 초기화할 수는 있으나\n",
    "의미상 적절한지 생각해 보고 사용해야 함\n",
    "'''\n",
    "# 자식클래스 객체 생성하기\n",
    "ch2 = Child(\"유관순\", \"독립운동가\", \"여자\")\n",
    "print(\"ch2 :\",ch2)    \n",
    "\n",
    "print(\"Child.gender :\",Child.gender)\n",
    "print(\"ch1.gender   :\",ch1.gender)\n",
    "print(\"ch2.gender   :\",ch2.gender)\n",
    "print(\"ch1 :\",ch1)  \n",
    "print(\"ch2 :\",ch2)"
   ]
  },
  {
   "cell_type": "code",
   "execution_count": null,
   "id": "7af81f19",
   "metadata": {},
   "outputs": [],
   "source": []
  },
  {
   "cell_type": "code",
   "execution_count": null,
   "id": "a1706ab6",
   "metadata": {},
   "outputs": [],
   "source": []
  },
  {
   "cell_type": "code",
   "execution_count": null,
   "id": "144a2f08",
   "metadata": {},
   "outputs": [],
   "source": []
  },
  {
   "cell_type": "code",
   "execution_count": null,
   "id": "8d97ced5",
   "metadata": {},
   "outputs": [],
   "source": []
  }
 ],
 "metadata": {
  "hide_input": false,
  "kernelspec": {
   "display_name": "Python 3 (ipykernel)",
   "language": "python",
   "name": "python3"
  },
  "language_info": {
   "codemirror_mode": {
    "name": "ipython",
    "version": 3
   },
   "file_extension": ".py",
   "mimetype": "text/x-python",
   "name": "python",
   "nbconvert_exporter": "python",
   "pygments_lexer": "ipython3",
   "version": "3.9.7"
  },
  "toc": {
   "base_numbering": 1,
   "nav_menu": {},
   "number_sections": true,
   "sideBar": true,
   "skip_h1_title": false,
   "title_cell": "Table of Contents",
   "title_sidebar": "Contents",
   "toc_cell": false,
   "toc_position": {},
   "toc_section_display": true,
   "toc_window_display": false
  },
  "varInspector": {
   "cols": {
    "lenName": 16,
    "lenType": 16,
    "lenVar": 40
   },
   "kernels_config": {
    "python": {
     "delete_cmd_postfix": "",
     "delete_cmd_prefix": "del ",
     "library": "var_list.py",
     "varRefreshCmd": "print(var_dic_list())"
    },
    "r": {
     "delete_cmd_postfix": ") ",
     "delete_cmd_prefix": "rm(",
     "library": "var_list.r",
     "varRefreshCmd": "cat(var_dic_list()) "
    }
   },
   "types_to_exclude": [
    "module",
    "function",
    "builtin_function_or_method",
    "instance",
    "_Feature"
   ],
   "window_display": false
  }
 },
 "nbformat": 4,
 "nbformat_minor": 5
}
