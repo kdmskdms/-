{
 "cells": [
  {
   "cell_type": "code",
   "execution_count": 2,
   "id": "f64bf1ae",
   "metadata": {},
   "outputs": [
    {
     "name": "stdout",
     "output_type": "stream",
     "text": [
      "1050\n"
     ]
    }
   ],
   "source": [
    "def test1(num1, num2):\n",
    "    return(num1 + 10) * (num2 + 5)\n",
    "result1 = test1(20, 30)\n",
    "print(result1)"
   ]
  },
  {
   "cell_type": "code",
   "execution_count": 5,
   "id": "b916c6ba",
   "metadata": {},
   "outputs": [
    {
     "name": "stdout",
     "output_type": "stream",
     "text": [
      "안녕하세요\n",
      "이번달은\n",
      "3월입니다\n",
      "\n",
      "안녕하세요\n",
      "이번달은\n",
      "3월입니다\n",
      "\n",
      "안녕하세요\n",
      "이번달은\n",
      "3월입니다\n",
      "\n",
      "안녕하세요\n",
      "이번달은\n",
      "3월입니다\n",
      "\n",
      "안녕하세요\n",
      "이번달은\n",
      "3월입니다\n",
      "5\n",
      "\n",
      "안녕하세요\n",
      "이번달은\n",
      "3월입니다\n",
      "5\n",
      "\n"
     ]
    }
   ],
   "source": [
    "def print_n_times(*values, n=2):\n",
    "    for i in range(n):\n",
    "        for value in values:\n",
    "            print(value)\n",
    "        print()\n",
    "print_n_times(\"안녕하세요\", \"이번달은\", \"3월입니다\", n=4)\n",
    "print_n_times(\"안녕하세요\", \"이번달은\", \"3월입니다\", 5)"
   ]
  },
  {
   "cell_type": "code",
   "execution_count": 6,
   "id": "f9b5c66f",
   "metadata": {},
   "outputs": [
    {
     "name": "stdout",
     "output_type": "stream",
     "text": [
      "당신의 이름은 글로벌 입니다\n",
      "모두, 안녕하세요\n",
      "당신의 이름은 개발원 입니다\n"
     ]
    }
   ],
   "source": [
    "def greeting(**say_hello):\n",
    "    for key, value, in say_hello.items():\n",
    "        if \"mamma\" in say_hello.keys():\n",
    "            print(\"모두, 안녕하세요\")\n",
    "        else:\n",
    "            print(f\"당신의 이름은 {value} 입니다\")\n",
    "            \n",
    "greeting(papa=\"글로벌\")            \n",
    "greeting(mamma=\"아이티\")\n",
    "greeting(sister=\"개발원\")"
   ]
  },
  {
   "cell_type": "code",
   "execution_count": 7,
   "id": "7e0ed6fc",
   "metadata": {},
   "outputs": [
    {
     "name": "stdout",
     "output_type": "stream",
     "text": [
      "LG\n",
      "LG생건\n",
      "LG전자\n",
      "LG화학\n",
      "company1_profit 영업이익 : 1000 원\n",
      "company2_profit 영업이익 : 2000 원\n",
      "company3_profit 영업이익 : 3000 원\n"
     ]
    }
   ],
   "source": [
    "def company_info(name, *companies, **profits):\n",
    "    print(name)\n",
    "    for company in companies:\n",
    "        print(company)\n",
    "    for company, profit in profits.items():\n",
    "        print(company,\"영업이익 :\",profit,\"원\")\n",
    "        \n",
    "name = \"LG\"        \n",
    "company1 = \"LG생건\"\n",
    "company2 = \"LG전자\"\n",
    "company3 = \"LG화학\"\n",
    "\n",
    "company_info(name, company1, company2, company3,\n",
    "             company1_profit=1000, company2_profit=2000, company3_profit=3000)"
   ]
  },
  {
   "cell_type": "code",
   "execution_count": 8,
   "id": "632de834",
   "metadata": {},
   "outputs": [
    {
     "name": "stdout",
     "output_type": "stream",
     "text": [
      "람다결과 : 11\n",
      "람다결과 : 24\n",
      "람다결과 : 123456\n",
      "람다결과 : HELLO PYTHON\n"
     ]
    }
   ],
   "source": [
    "print(\"람다결과 :\",(lambda n1, n2 : n1 + n2)(1, 10))\n",
    "print(\"람다결과 :\",(lambda n1, n2 : n1 * n2)(2, 12))\n",
    "print(\"람다결과 :\",(lambda n1, n2 : 123456)(1, 2))\n",
    "print(\"람다결과 :\",(lambda n1, n2 : \"HELLO PYTHON\")(3, 7))"
   ]
  },
  {
   "cell_type": "code",
   "execution_count": 9,
   "id": "aff3816a",
   "metadata": {},
   "outputs": [
    {
     "name": "stdout",
     "output_type": "stream",
     "text": [
      "result : [2, 12, 30, 56, 90]\n"
     ]
    }
   ],
   "source": [
    "'''\n",
    "list 두 개 사용해서 map() 호출하기\n",
    "\n",
    "아래의 두 list 의 요소를 같은 index 의 요소끼리\n",
    "차례로 곱한 값을 요소로 하는 list를 생성하고 출력하세요\n",
    "'''\n",
    "list1 = [1, 3, 5, 7, 9]\n",
    "list2 = [2, 4, 6, 8, 10]\n",
    "\n",
    "result = list(map(lambda i, j : i * j, list1, list2))\n",
    "print(\"result :\",result)"
   ]
  },
  {
   "cell_type": "code",
   "execution_count": 11,
   "id": "c26bf22c",
   "metadata": {},
   "outputs": [
    {
     "name": "stdout",
     "output_type": "stream",
     "text": [
      "[2, 4, 6, 8, 10, 12]\n",
      "[2, 4, 6, 8, 10, 12]\n",
      "[None, 2, None, 4, None, 6, None, 8, None, 10, None, 12]\n"
     ]
    }
   ],
   "source": [
    "list_nums = [1, 2, 3, 4, 5, 6, 7, 8, 9, 10, 11, 12]\n",
    "'''\n",
    "list_nums 의 요소중 짝수만 추출해서\n",
    "list로 생성하세요\n",
    "filter() 함수 사용\n",
    "1) 일반함수\n",
    "2) lambda 식\n",
    "'''\n",
    "def even_number(number):\n",
    "    return number % 2 == 0\n",
    "result = list(filter(even_number, list_nums))\n",
    "print(result)\n",
    "\n",
    "result = list(filter(lambda number : number % 2 == 0, list_nums))\n",
    "print(result)\n",
    "\n",
    "def even_map(number):\n",
    "    if number % 2 ==0:\n",
    "        return number\n",
    "result = list(map(even_map, list_nums))\n",
    "print(result)"
   ]
  },
  {
   "cell_type": "code",
   "execution_count": 13,
   "id": "71f0b944",
   "metadata": {},
   "outputs": [
    {
     "name": "stdout",
     "output_type": "stream",
     "text": [
      "20\n"
     ]
    }
   ],
   "source": [
    "from functools import reduce\n",
    "\n",
    "def max_number(num1, num2):\n",
    "    if num1 > num2:\n",
    "        return num1\n",
    "    else:\n",
    "        return num2\n",
    "list_nums = [8, 3, 2, 11, 17, 19, 20, 13]\n",
    "result = reduce(max_number, list_nums)\n",
    "print(result)"
   ]
  },
  {
   "cell_type": "code",
   "execution_count": 14,
   "id": "f0ab9466",
   "metadata": {},
   "outputs": [
    {
     "name": "stdout",
     "output_type": "stream",
     "text": [
      "336\n"
     ]
    }
   ],
   "source": [
    "def outer():    \n",
    "    number = 333\n",
    "    def inner():        \n",
    "        result = number + 3\n",
    "        return result\n",
    "    return inner\n",
    "return_funct = outer()\n",
    "return_value = return_funct()\n",
    "print(return_value)"
   ]
  },
  {
   "cell_type": "code",
   "execution_count": 15,
   "id": "5d65ea1e",
   "metadata": {},
   "outputs": [
    {
     "name": "stdout",
     "output_type": "stream",
     "text": [
      "calc2()(10) : 70\n"
     ]
    }
   ],
   "source": [
    "def calc2():\n",
    "    n1 = 6\n",
    "    n2 = 8\n",
    "    return lambda n3 : n1 * n3 + 10\n",
    "\n",
    "print(\"calc2()(10) :\",calc2()(10))"
   ]
  },
  {
   "cell_type": "code",
   "execution_count": null,
   "id": "bcdc9cfc",
   "metadata": {},
   "outputs": [],
   "source": []
  }
 ],
 "metadata": {
  "kernelspec": {
   "display_name": "Python 3 (ipykernel)",
   "language": "python",
   "name": "python3"
  },
  "language_info": {
   "codemirror_mode": {
    "name": "ipython",
    "version": 3
   },
   "file_extension": ".py",
   "mimetype": "text/x-python",
   "name": "python",
   "nbconvert_exporter": "python",
   "pygments_lexer": "ipython3",
   "version": "3.9.7"
  }
 },
 "nbformat": 4,
 "nbformat_minor": 5
}
