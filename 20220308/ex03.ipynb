{
 "cells": [
  {
   "cell_type": "code",
   "execution_count": 4,
   "id": "b269ae06",
   "metadata": {
    "ExecuteTime": {
     "end_time": "2022-03-08T06:18:56.462109Z",
     "start_time": "2022-03-08T06:18:56.440135Z"
    }
   },
   "outputs": [
    {
     "name": "stdout",
     "output_type": "stream",
     "text": [
      "[8, 6, 9]\n",
      "9\n",
      "test4(7)  : True\n",
      "test4(12) : False\n",
      "[8, 6, 9]\n"
     ]
    }
   ],
   "source": [
    "'''\n",
    "filter() 함수 : iterable type 에서 \n",
    "                조건에 맞는 요소만 가져옴\n",
    "                 ㄴ 함수로 작성함\n",
    "                 \n",
    " 형식)\n",
    "   filter(함수, iterable type)\n",
    "'''\n",
    "list_nums = [8, 3, 2, 10, 15, 6, 1, 9, 0, 13]\n",
    "\n",
    "# list_nums 의 요소에 있는 값 중에서\n",
    "# 5 보다 크고 10 보다 작은 수만 추출해서\n",
    "# 리스트로 생성하세요\n",
    "\n",
    "# 1) 일반 함수\n",
    "def test2(list_nums):\n",
    "    list_result = []\n",
    "    for num in list_nums:\n",
    "        if 5 < num < 10:\n",
    "            list_result.append(num)\n",
    "    return list_result\n",
    "\n",
    "print(test2(list_nums))\n",
    "\n",
    "# 5 보다 크고 10 보다 작은 수만 return 하는 함수\n",
    "def test3(number):\n",
    "    if 5 < number < 10:\n",
    "        return number    \n",
    "print(test3(9))\n",
    "\n",
    "# 정수를 받아서 5 보다 크고 10 보다 작은 수인 \n",
    "# 경우에는 True 를 return하는 함수\n",
    "def test4(number):\n",
    "    return 5 < number < 10\n",
    "\n",
    "print(\"test4(7)  :\",test4(7))\n",
    "print(\"test4(12) :\",test4(12))\n",
    "\n",
    "'''\n",
    "filter() 함수 : iterable type 에서 \n",
    "                조건에 맞는 요소만 가져옴\n",
    "                 ㄴ 함수로 작성함\n",
    " 형식)\n",
    "   filter(함수-bool type 값을 return하는 함수, iterable type)\n",
    "'''\n",
    "list_nums = [8, 3, 2, 10, 15, 6, 1, 9, 0, 13]\n",
    "print(list(filter(test4, list_nums)))\n",
    "# ㄴ [8, 6, 9]"
   ]
  },
  {
   "cell_type": "code",
   "execution_count": 5,
   "id": "a70add70",
   "metadata": {
    "ExecuteTime": {
     "end_time": "2022-03-08T06:32:13.948206Z",
     "start_time": "2022-03-08T06:32:13.938212Z"
    }
   },
   "outputs": [
    {
     "name": "stdout",
     "output_type": "stream",
     "text": [
      "[8, 6, 9]\n"
     ]
    }
   ],
   "source": [
    "# 2) lambda 식\n",
    "\n",
    "def test4(number):\n",
    "    return 5 < number < 10\n",
    "\n",
    "print(list(filter(lambda number : 5 < number < 10, list_nums)))"
   ]
  },
  {
   "cell_type": "code",
   "execution_count": 9,
   "id": "43467df4",
   "metadata": {
    "ExecuteTime": {
     "end_time": "2022-03-08T06:39:45.705156Z",
     "start_time": "2022-03-08T06:39:45.690163Z"
    }
   },
   "outputs": [
    {
     "name": "stdout",
     "output_type": "stream",
     "text": [
      "result : [False, True, False, False, True, True, False, True, True, False]\n",
      "result : [3, 15, 6, 9, 0]\n",
      "result : [3, 15, 6, 9, 0]\n"
     ]
    }
   ],
   "source": [
    "'''\n",
    "list_nums = [8, 3, 2, 10, 15, 6, 1, 9, 0, 13]\n",
    "list_nums 중에서 3의 배수만 추출해서\n",
    "list로 생성하세요\n",
    "filter() 함수 사용하기\n",
    "1) 일반함수 사용  \n",
    "    : parameter 로 전달되어 온 값이 3의 배수일 때만 True 를 return 하는 함수\n",
    "2) lambda 식 사용\n",
    "'''\n",
    "def multiple3(number):\n",
    "    return number % 3 == 0\n",
    "result = list(map(multiple3, list_nums))\n",
    "print(\"result :\",result)\n",
    "result = list(filter(multiple3, list_nums))\n",
    "print(\"result :\",result)\n",
    "\n",
    "result = list(filter(lambda number : number % 3 == 0, list_nums))\n",
    "print(\"result :\",result)\n",
    "\n"
   ]
  },
  {
   "cell_type": "code",
   "execution_count": 12,
   "id": "84d4ac9f",
   "metadata": {
    "ExecuteTime": {
     "end_time": "2022-03-08T06:51:26.606695Z",
     "start_time": "2022-03-08T06:51:26.593712Z"
    }
   },
   "outputs": [
    {
     "name": "stdout",
     "output_type": "stream",
     "text": [
      "[2, 4, 6, 8, 10]\n",
      "[2, 4, 6, 8, 10]\n",
      "[None, 2, None, 4, None, 6, None, 8, None, 10]\n"
     ]
    }
   ],
   "source": [
    "list_nums = [1, 2, 3, 4, 5, 6, 7, 8, 9, 10]\n",
    "'''\n",
    "list_nums 의 요소중 짝수만 추출해서\n",
    "list로 생성하세요\n",
    "filter() 함수 사용\n",
    "1) 일반함수\n",
    "2) lambda 식\n",
    "'''\n",
    "def even_number(number):\n",
    "    return number % 2 == 0\n",
    "result = list(filter(even_number, list_nums))\n",
    "print(result)\n",
    "\n",
    "result = list(filter(lambda number : number % 2 == 0, list_nums))\n",
    "print(result)\n",
    "\n",
    "# map 으로 하는 경우\n",
    "# return 값 자체를 반환하므로\n",
    "# [None, 2, None, 4, None, 6, None, 8, None, 10]\n",
    "#  ㄴ 이런 결과가 됨\n",
    "def even_map(number):\n",
    "    if number % 2 == 0:\n",
    "        return number\n",
    "result = list(map(even_map, list_nums))    \n",
    "print(result)\n",
    "    "
   ]
  },
  {
   "cell_type": "code",
   "execution_count": 18,
   "id": "e81f0e03",
   "metadata": {
    "ExecuteTime": {
     "end_time": "2022-03-08T07:03:32.271831Z",
     "start_time": "2022-03-08T07:03:32.255839Z"
    }
   },
   "outputs": [
    {
     "name": "stdout",
     "output_type": "stream",
     "text": [
      "total : 15\n",
      "total : 115\n",
      "15\n",
      "115\n"
     ]
    }
   ],
   "source": [
    "'''\n",
    "reduce() 함수 - functools 모듈에 정의되어 있는 함수\n",
    "                import functools 로 임포트해서 사용함\n",
    "                \n",
    "  형식)\n",
    "  reduce(함수, iterable type, start)\n",
    "                ㄴ 요소들을 누적 연산을 하는 함수\n",
    "                ㄴ start 를 지정하지 않으면 척 번째 요소부터 연산함\n",
    "'''\n",
    "# import functools\n",
    "from functools import reduce\n",
    "\n",
    "# 1 부터 5 까지의 합을 return하는 reduce() 함수 작성하기\n",
    "list_nums = [1, 2, 3, 4, 5]\n",
    "\n",
    "# 1) 일반 함수\n",
    "def add_2numbers(num1, num2):\n",
    "    return num1 + num2\n",
    "\n",
    "total = reduce(add_2numbers, list_nums)\n",
    "print(\"total :\",total)\n",
    "\n",
    "total = reduce(add_2numbers, list_nums, 100)\n",
    "print(\"total :\",total)\n",
    "\n",
    "# 2) lambda 식 사용\n",
    "print(reduce(lambda num1, num2 : num1 + num2, list_nums))\n",
    "print(reduce(lambda num1, num2 : num1 + num2, list_nums, 100))"
   ]
  },
  {
   "cell_type": "code",
   "execution_count": 20,
   "id": "3fea0bad",
   "metadata": {
    "ExecuteTime": {
     "end_time": "2022-03-08T07:08:29.301348Z",
     "start_time": "2022-03-08T07:08:29.296353Z"
    }
   },
   "outputs": [
    {
     "name": "stdout",
     "output_type": "stream",
     "text": [
      "15\n"
     ]
    }
   ],
   "source": [
    "'''\n",
    "reduce() 함수를 사용해서 최댓값 구하기\n",
    "'''\n",
    "from functools import reduce\n",
    "\n",
    "# 두 수 중 최댓값 구하는 함수\n",
    "def max_number(num1, num2):\n",
    "    if num1 > num2:\n",
    "        return num1\n",
    "    else:\n",
    "        return num2\n",
    "\n",
    "list_nums = [8, 3, 2, 10, 15, 6, 1, 9, 0, 13]\n",
    "result = reduce(max_number, list_nums)\n",
    "print(result)\n"
   ]
  },
  {
   "cell_type": "code",
   "execution_count": null,
   "id": "8287ad07",
   "metadata": {},
   "outputs": [],
   "source": []
  },
  {
   "cell_type": "code",
   "execution_count": null,
   "id": "111c7c14",
   "metadata": {},
   "outputs": [],
   "source": []
  }
 ],
 "metadata": {
  "hide_input": false,
  "kernelspec": {
   "display_name": "Python 3 (ipykernel)",
   "language": "python",
   "name": "python3"
  },
  "language_info": {
   "codemirror_mode": {
    "name": "ipython",
    "version": 3
   },
   "file_extension": ".py",
   "mimetype": "text/x-python",
   "name": "python",
   "nbconvert_exporter": "python",
   "pygments_lexer": "ipython3",
   "version": "3.9.12"
  },
  "toc": {
   "base_numbering": 1,
   "nav_menu": {},
   "number_sections": true,
   "sideBar": true,
   "skip_h1_title": false,
   "title_cell": "Table of Contents",
   "title_sidebar": "Contents",
   "toc_cell": false,
   "toc_position": {},
   "toc_section_display": true,
   "toc_window_display": false
  },
  "varInspector": {
   "cols": {
    "lenName": 16,
    "lenType": 16,
    "lenVar": 40
   },
   "kernels_config": {
    "python": {
     "delete_cmd_postfix": "",
     "delete_cmd_prefix": "del ",
     "library": "var_list.py",
     "varRefreshCmd": "print(var_dic_list())"
    },
    "r": {
     "delete_cmd_postfix": ") ",
     "delete_cmd_prefix": "rm(",
     "library": "var_list.r",
     "varRefreshCmd": "cat(var_dic_list()) "
    }
   },
   "types_to_exclude": [
    "module",
    "function",
    "builtin_function_or_method",
    "instance",
    "_Feature"
   ],
   "window_display": false
  }
 },
 "nbformat": 4,
 "nbformat_minor": 5
}
