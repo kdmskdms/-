{
 "cells": [
  {
   "cell_type": "code",
   "execution_count": null,
   "id": "4a38a3af",
   "metadata": {
    "ExecuteTime": {
     "end_time": "2022-03-08T00:43:42.973974Z",
     "start_time": "2022-03-08T00:43:42.960992Z"
    }
   },
   "outputs": [],
   "source": [
    "def test1(num1, num2):\n",
    "    return (num1 + 10) * (num2 + 5)\n",
    "\n",
    "result1 = test1(10, 20)\n",
    "print(result1)\n",
    "\n",
    "result2 = test1(20, 10)\n",
    "print(result2, end=\"\")\n",
    "\n",
    "result3 = test1(num2=10, num1=20)\n",
    "print(result3)"
   ]
  },
  {
   "cell_type": "code",
   "execution_count": null,
   "id": "6c2ddac0",
   "metadata": {
    "ExecuteTime": {
     "end_time": "2022-03-08T00:48:02.285618Z",
     "start_time": "2022-03-08T00:48:02.280621Z"
    }
   },
   "outputs": [],
   "source": [
    "'''\n",
    "219 page\n",
    "'''\n",
    "def print_n_times(*values, n=2):\n",
    "    for i in range(n):\n",
    "        for value in values:\n",
    "            print(value)\n",
    "        print()\n",
    "        \n",
    "print_n_times(\"안녕하세요\",\"즐거운\",\"파이썬 프로그래밍\",n=3)   \n",
    "\n",
    "print_n_times(\"안녕하세요\",\"즐거운\",\"파이썬 프로그래밍\",3)           "
   ]
  },
  {
   "cell_type": "code",
   "execution_count": null,
   "id": "28c1a274",
   "metadata": {
    "ExecuteTime": {
     "end_time": "2022-03-08T00:52:58.642752Z",
     "start_time": "2022-03-08T00:52:58.633757Z"
    }
   },
   "outputs": [],
   "source": [
    "# 가변 매개변수는 맨 마지막에만 지정할 수 있음\n",
    "def print_n_times(*values, n):\n",
    "    for i in range(n):\n",
    "        for value in values:\n",
    "            print(value)\n",
    "        print()\n",
    "        \n",
    "# keyword argument (n=3) 를 사용하면\n",
    "# 어떤 parameter 에 값이 전달될지를 설정하기 때문에\n",
    "# 가변 매개변수가 앞에 위치해도 괜찮음\n",
    "print_n_times(\"안녕하세요\",\"즐거운\",\"파이썬 프로그래밍\",n=3)  \n",
    "\n",
    "# TypeError: print_n_times() missing 1 required keyword-only argument: 'n'\n",
    "# print_n_times(\"안녕하세요\",\"즐거운\",\"파이썬 프로그래밍\",3)  "
   ]
  },
  {
   "cell_type": "code",
   "execution_count": null,
   "id": "8ea30fb5",
   "metadata": {
    "ExecuteTime": {
     "end_time": "2022-03-08T00:57:31.455105Z",
     "start_time": "2022-03-08T00:57:31.432107Z"
    },
    "scrolled": true
   },
   "outputs": [],
   "source": [
    "'''\n",
    "upacking\n",
    "'''\n",
    "tp1 = 1, 2, 3, 4, 5, 6, 7, 8, 9, 10\n",
    "print(\"tp1 :\",tp1)\n",
    "\n",
    "n1, n2, n3, n4, n5, n6, n7, n8, n9, n10 = 1, 2, 3, 4, 5, 6, 7, 8, 9, 10\n",
    "print(\"n1 :\",n1)\n",
    "print(\"n2 :\",n2)\n",
    "print(\"n3 :\",n3)\n",
    "print(\"n4 :\",n4)\n",
    "print(\"n5 :\",n5)\n",
    "print(\"n6 :\",n6)\n",
    "print(\"n7 :\",n7)\n",
    "print(\"n8 :\",n8)\n",
    "print(\"n9 :\",n9)\n",
    "print(\"n10 :\",n10)\n",
    "print(\"-\" * 50)\n",
    "\n",
    "n1, n2, n3, *n4 = 1, 2, 3, 4, 5, 6, 7, 8, 9, 10\n",
    "print(n1, n2, n3, n4)\n",
    "print(\"-\" * 50)\n",
    "\n",
    "n1, n2, *n3, n4 = 1, 2, 3, 4, 5, 6, 7, 8, 9, 10\n",
    "print(n1, n2, n3, n4)\n",
    "print(\"-\" * 50)\n",
    "\n",
    "n1, *n2, n3, n4 = 1, 2, 3, 4, 5, 6, 7, 8, 9, 10\n",
    "print(n1, n2, n3, n4)\n",
    "print(\"-\" * 50)\n",
    "\n",
    "*n1, n2, n3, n4 = 1, 2, 3, 4, 5, 6, 7, 8, 9, 10\n",
    "print(n1, n2, n3, n4)\n",
    "print(\"-\" * 50)\n",
    "\n",
    "# SyntaxError: multiple starred expressions in assignment\n",
    "# 여러 개의 변수에 unpacking 하는 경우에는 변수 하나에만 * 를 사용할 수 있음\n",
    "# *n1, n2, n3, *n4 = 1, 2, 3, 4, 5, 6, 7, 8, 9, 10\n"
   ]
  },
  {
   "cell_type": "code",
   "execution_count": null,
   "id": "7b1a4285",
   "metadata": {
    "ExecuteTime": {
     "end_time": "2022-03-08T01:08:39.078133Z",
     "start_time": "2022-03-08T01:08:39.057145Z"
    }
   },
   "outputs": [],
   "source": [
    "'''\n",
    "keyword parameter\n",
    "  ㄴ 키워드 매개변수  : **kwargs (cf. *param)\n",
    "       ㄴ 매개변수가 dictionary 를 전달 받는 것\n",
    "'''\n",
    "def test2(**kwargs):\n",
    "    for key in kwargs:\n",
    "        print(key, end=\" \")\n",
    "    print()    \n",
    "    print(\"-\" * 30)\n",
    "    for key in kwargs.keys():\n",
    "        print(key, end=\" \")\n",
    "    print()    \n",
    "    print(\"-\" * 30)\n",
    "    for value in kwargs.values():\n",
    "        print(value, end=\" \")\n",
    "    print()    \n",
    "    print(\"-\" * 30)\n",
    "    for item in kwargs.items():\n",
    "        print(item, end=\" \")\n",
    "    print()    \n",
    "    print(\"-\" * 30)\n",
    "    for k, v in kwargs.items():\n",
    "        print(k, v, end=\" \")\n",
    "    print()    \n",
    "    print(\"-\" * 30)\n",
    "        \n",
    "test2(이름=\"글로벌\",나이=24,주소=\"관악\")\n",
    "        \n",
    "person_info = {\"이름\":\"글로벌\",\"나이\":24,\"주소\":\"관악\"} \n",
    "# TypeError: test2() takes 0 positional arguments but 1 was given\n",
    "# test2(person_info)"
   ]
  },
  {
   "cell_type": "code",
   "execution_count": null,
   "id": "f7f855ac",
   "metadata": {
    "ExecuteTime": {
     "end_time": "2022-03-08T01:11:27.887096Z",
     "start_time": "2022-03-08T01:11:27.879100Z"
    }
   },
   "outputs": [],
   "source": [
    "def greeting(**say_hello):\n",
    "    for key, value, in say_hello.items():\n",
    "        if \"mamma\" in say_hello.keys():\n",
    "            print(\"엄마, 안녕하세요\")\n",
    "        else:\n",
    "            print(f\"당신의 이름은 {value} 입니다\")\n",
    "            \n",
    "greeting(papa=\"글로벌\")            \n",
    "greeting(mamma=\"아이티\")\n",
    "greeting(sister=\"개발원\")"
   ]
  },
  {
   "cell_type": "code",
   "execution_count": 33,
   "id": "b978c1f1",
   "metadata": {
    "ExecuteTime": {
     "end_time": "2022-03-08T01:46:41.013790Z",
     "start_time": "2022-03-08T01:46:41.006794Z"
    }
   },
   "outputs": [
    {
     "name": "stdout",
     "output_type": "stream",
     "text": [
      "삼성\n",
      "삼성증권\n",
      "삼성전자\n",
      "삼성물산\n",
      "company1_profit 영업이익 : 1000 원\n",
      "company2_profit 영업이익 : 2000 원\n",
      "company3_profit 영업이익 : 3000 원\n"
     ]
    }
   ],
   "source": [
    "def company_info(name, *companies, **profits):\n",
    "    print(name)\n",
    "    for company in companies:\n",
    "        print(company)\n",
    "    for company, profit in profits.items():\n",
    "        print(company,\"영업이익 :\",profit,\"원\")\n",
    "        \n",
    "name = \"삼성\"        \n",
    "company1 = \"삼성증권\"\n",
    "company2 = \"삼성전자\"\n",
    "company3 = \"삼성물산\"\n",
    "\n",
    "company_info(name, company1, company2, company3,\n",
    "             company1_profit=1000, company2_profit=2000, company3_profit=3000)\n",
    "        "
   ]
  },
  {
   "cell_type": "code",
   "execution_count": null,
   "id": "89a4daeb",
   "metadata": {
    "ExecuteTime": {
     "end_time": "2022-03-08T01:20:50.288059Z",
     "start_time": "2022-03-08T01:20:50.271078Z"
    }
   },
   "outputs": [],
   "source": [
    "# 함수의 return 값은 항상 하나임\n",
    "def multi_calc(n1, n2):\n",
    "    return n1+n2, n1-n2, n1*n2, n1/n2\n",
    "\n",
    "result = multi_calc(10, 8)\n",
    "print(\"result :\",result)\n",
    "\n",
    "# unpacking\n",
    "add, subtract, multi, dvision = multi_calc(10, 8)\n",
    "print(add)\n",
    "print(subtract)\n",
    "print(multi)\n",
    "print(dvision)"
   ]
  },
  {
   "cell_type": "code",
   "execution_count": null,
   "id": "94ae3910",
   "metadata": {
    "ExecuteTime": {
     "end_time": "2022-03-08T01:41:10.319261Z",
     "start_time": "2022-03-08T01:41:10.302255Z"
    }
   },
   "outputs": [],
   "source": [
    "'''\n",
    "return\n",
    "   1) 함수를 종료함\n",
    "   2) 프로그램의 흐름을 함수를 호출한 곳으로 되돌림\n",
    "        ㄴ return 값이 있는 경우에는 호출한 곳으로 \n",
    "           return 값을 되돌려줌\n",
    "'''\n",
    "def add(n1, n2):\n",
    "    print(\"덧셈\")\n",
    "    return n1 + n2\n",
    "\n",
    "result = add(10, 20)\n",
    "print(\"result :\",result)\n",
    "print(\"-\" * 50)\n",
    "\n",
    "def say_hello(name):\n",
    "    if name == \"글로벌\":\n",
    "        return\n",
    "    print(f\"{name} 님, 안녕하세요\")\n",
    "\n",
    "'''\n",
    "name 에 전달된 이름이 글로벌인 경우에는\n",
    "if 문이 True 가 되어서 return 이 동작해서 함수가 종료함\n",
    "  ㄴ 안녕하세요가 출력되지 않음\n",
    "'''    \n",
    "say_hello(\"이순신\")    \n",
    "say_hello(\"글로벌\")    \n",
    "say_hello(\"아이티\")    \n",
    "say_hello(\"아카데미\")       "
   ]
  },
  {
   "cell_type": "code",
   "execution_count": null,
   "id": "706468d9",
   "metadata": {},
   "outputs": [],
   "source": [
    "'''\n",
    "전역변수 : global variable\n",
    "           함수 바깥 영역에서 선언된 변수\n",
    "           함수 내부에서는 원칙적으로 전역변수를 사용할 수 없음\n",
    "                                       ㄴ 전역변수에 접근할 수 없음\n",
    "           \n",
    "지역변수 : local variable\n",
    "           함수 내부에서 선언된 변수\n",
    "           함수가 실행될 때, 함수의 실행을 위해서\n",
    "           메모리 공간이 할당되는데, 지역변수는 이곳에서 생성됨\n",
    "            ㄴ 전역변수가 생성되는 영역하고 다름\n",
    "           매개변수도 함수 내부에서 선언되는 변수이름로 지역변수임 \n",
    "           함수 바깥쪽에서는 지역변수에 바로 접근할 수 없음\n",
    "           함수의 지역변수의 값을 함수 외부에서 사용하려면\n",
    "           함수에서 이 값을 return해 주어야 함\n",
    "           \n",
    "            \n",
    "전역변수와 지역변수의 이름이 같은 경우에도 \n",
    "서로 선언된 영역이 다르므로 이름 중복 에러가 발생하지 않음\n",
    "이 두 변수는 이름만 같고 다른 변수임\n",
    "'''"
   ]
  },
  {
   "cell_type": "code",
   "execution_count": 38,
   "id": "8a2c9115",
   "metadata": {
    "ExecuteTime": {
     "end_time": "2022-03-08T01:57:06.524210Z",
     "start_time": "2022-03-08T01:57:06.516205Z"
    }
   },
   "outputs": [
    {
     "name": "stdout",
     "output_type": "stream",
     "text": [
      "30\n",
      "parameter 로 전달된 값을 함수 내부에서 계산함 (return한 것은 아님) : 30\n",
      "함수를 호출하면서 값을 전달해 주고 함수 내부에서 그 값들로 계산한 결과를 return 함 : 200\n"
     ]
    }
   ],
   "source": [
    "num1 = 10\n",
    "num2 = 20\n",
    "print(num1 + num2)\n",
    "\n",
    "def add(num1, num2):\n",
    "    print(\"parameter 로 전달된 값을 함수 내부에서 계산함 (return한 것은 아님) :\",num1 + num2)\n",
    "add(10, 20)    \n",
    "\n",
    "def multi(num1, num2):\n",
    "    return num1 * num2\n",
    "result = multi(10, 20)\n",
    "print(\"함수를 호출하면서 값을 전달해 주고 함수 내부에서 그 값들로 계산한 결과를 return 함 :\", result)\n"
   ]
  },
  {
   "cell_type": "code",
   "execution_count": 41,
   "id": "fb1443b1",
   "metadata": {
    "ExecuteTime": {
     "end_time": "2022-03-08T02:07:21.629400Z",
     "start_time": "2022-03-08T02:07:21.612409Z"
    }
   },
   "outputs": [
    {
     "name": "stdout",
     "output_type": "stream",
     "text": [
      "number (지역변수) : 2\n",
      "number (전역변수) : 1\n"
     ]
    }
   ],
   "source": [
    "# 전역변수\n",
    "number = 1\n",
    "\n",
    "def test1(number):\n",
    "    # 지역변수\n",
    "    number = number + 1\n",
    "    print(\"number (지역변수) :\",number)   \n",
    "    \n",
    "test1(number)    \n",
    "print(\"number (전역변수) :\",number)    "
   ]
  },
  {
   "cell_type": "code",
   "execution_count": 43,
   "id": "b808ed29",
   "metadata": {
    "ExecuteTime": {
     "end_time": "2022-03-08T02:11:44.115156Z",
     "start_time": "2022-03-08T02:11:44.108149Z"
    }
   },
   "outputs": [
    {
     "name": "stdout",
     "output_type": "stream",
     "text": [
      "-- 함수 외부 (전역) --\n",
      "number (전역변수) : 1\n",
      "-- 함수 내부 (지역) --\n",
      "number (지역변수) : 1\n",
      "-- 함수 내부 (지역) --\n",
      "number (지역변수) : 2\n",
      "return 값 : 2\n",
      "-- 함수 외부 (전역) --\n",
      "number (전역변수) : 1\n"
     ]
    }
   ],
   "source": [
    "# 전역변수\n",
    "number = 1\n",
    "print(\"-- 함수 외부 (전역) --\")\n",
    "print(\"number (전역변수) :\",number) \n",
    "\n",
    "def test1(number):\n",
    "    print(\"-- 함수 내부 (지역) --\")\n",
    "    print(\"number (지역변수) :\",number)   \n",
    "    # 지역변수\n",
    "    number = number + 1\n",
    "    print(\"-- 함수 내부 (지역) --\")\n",
    "    print(\"number (지역변수) :\",number)   \n",
    "    return number\n",
    "    \n",
    "result = test1(number)    \n",
    "print(\"return 값 :\",result)\n",
    "print(\"-- 함수 외부 (전역) --\")\n",
    "print(\"number (전역변수) :\",number) "
   ]
  },
  {
   "cell_type": "code",
   "execution_count": 44,
   "id": "dc277662",
   "metadata": {
    "ExecuteTime": {
     "end_time": "2022-03-08T02:21:53.563980Z",
     "start_time": "2022-03-08T02:21:53.558993Z"
    }
   },
   "outputs": [
    {
     "name": "stdout",
     "output_type": "stream",
     "text": [
      "test2() 호출됨\n",
      "함수 내부에서 전역변수를 사용하고자 global 키워드로 선언함\n",
      "number2 (함수 내부에서 전역변수를 사용함) : 1\n",
      "number2 (함수 내부에서 전역변수를 사용함) : 2\n",
      "number2 (함수 내부에서 전역변수의 값을 증가시켰으므로 그 결과가 반영됨) : 2\n"
     ]
    }
   ],
   "source": [
    "'''\n",
    "global 키워드를 사용해서\n",
    "함수 내부에서 전역변수를 사용할 수 있음\n",
    "'''\n",
    "number2 = 1\n",
    "\n",
    "def test2():\n",
    "    print(\"test2() 호출됨\")\n",
    "    print(\"함수 내부에서 전역변수를 사용하고자 global 키워드로 선언함\")\n",
    "    global number2    \n",
    "    print(\"number2 (함수 내부에서 전역변수를 사용함) :\",number2)\n",
    "    number2 = number2 + 1\n",
    "    print(\"number2 (함수 내부에서 전역변수를 사용함) :\",number2)\n",
    "\n",
    "test2()    \n",
    "print(\"number2 (함수 내부에서 전역변수의 값을 증가시켰으므로 그 결과가 반영됨) :\",number2)\n",
    "    \n",
    "    "
   ]
  },
  {
   "cell_type": "code",
   "execution_count": 45,
   "id": "18899bbc",
   "metadata": {
    "ExecuteTime": {
     "end_time": "2022-03-08T02:45:25.378247Z",
     "start_time": "2022-03-08T02:45:25.371242Z"
    }
   },
   "outputs": [
    {
     "name": "stdout",
     "output_type": "stream",
     "text": [
      "number in inner() : 333\n",
      "number in outer() : 222\n",
      "number (global) : 111\n"
     ]
    }
   ],
   "source": [
    "\n",
    "'''\n",
    "함수 내부에서 함수를 작성(정의)할 수 있음\n",
    "'''\n",
    "# 전역변수\n",
    "number = 111\n",
    "def outer():\n",
    "    # outer 함수의 지역변수\n",
    "    number = 222\n",
    "    def inner():\n",
    "        # inner 함수의 지역변수\n",
    "        number = 333\n",
    "        print(\"number in inner() :\",number)\n",
    "    # outer() 함수 내부에서 inner() 를 호출함\n",
    "    inner()\n",
    "    print(\"number in outer() :\",number)\n",
    "\n",
    "'''\n",
    "inner() 함수는 outer() 함수 내부에서 작성(정의)되었고\n",
    "               outer() 함수 내부에서 호출됨\n",
    "  ㄴ inner() 함수를 실행시킬려면 outer() 함수를 호출해야 함               \n",
    "''' \n",
    "# outer() 함수 외부에서 inner() 함수를 직접 호출할 수 없음\n",
    "# inner()\n",
    "# outer() 함수를 호출함\n",
    "outer()\n",
    "print(\"number (global) :\",number)"
   ]
  },
  {
   "cell_type": "code",
   "execution_count": 47,
   "id": "fc37163d",
   "metadata": {
    "ExecuteTime": {
     "end_time": "2022-03-08T02:50:37.316250Z",
     "start_time": "2022-03-08T02:50:37.297664Z"
    }
   },
   "outputs": [
    {
     "name": "stdout",
     "output_type": "stream",
     "text": [
      "number in inner() : 333\n",
      "number (global) : 111\n",
      "number (global) : 111\n"
     ]
    }
   ],
   "source": [
    "\n",
    "'''\n",
    "함수 내부에서 함수를 작성(정의)할 수 있음\n",
    "'''\n",
    "# 전역변수\n",
    "number = 111\n",
    "def outer():\n",
    "    # outer 함수에서 전역변수 사용하기\n",
    "    global number    \n",
    "    def inner():\n",
    "        # inner 함수의 지역변수\n",
    "        number = 333\n",
    "        print(\"number in inner() :\",number)\n",
    "    # outer() 함수 내부에서 inner() 를 호출함\n",
    "    inner()\n",
    "    print(\"number (global) :\",number)\n",
    "\n",
    "'''\n",
    "inner() 함수는 outer() 함수 내부에서 작성(정의)되었고\n",
    "               outer() 함수 내부에서 호출됨\n",
    "  ㄴ inner() 함수를 실행시킬려면 outer() 함수를 호출해야 함               \n",
    "''' \n",
    "# outer() 함수 외부에서 inner() 함수를 직접 호출할 수 없음\n",
    "# inner()\n",
    "# outer() 함수를 호출함\n",
    "outer()\n",
    "print(\"number (global) :\",number)"
   ]
  },
  {
   "cell_type": "code",
   "execution_count": 49,
   "id": "0b1a2b36",
   "metadata": {
    "ExecuteTime": {
     "end_time": "2022-03-08T02:55:43.789324Z",
     "start_time": "2022-03-08T02:55:43.781318Z"
    }
   },
   "outputs": [
    {
     "name": "stdout",
     "output_type": "stream",
     "text": [
      "number in outer() - inner() 함수에서 nonlocal 지정하기 전 : 222\n",
      "number in outer() - nonlocal 로 지정함 : 333\n",
      "number in outer() - inner() 함수에서 nonlocal 지정한 후 : 333\n",
      "number (global) : 111\n"
     ]
    }
   ],
   "source": [
    "\n",
    "'''\n",
    "함수 내부에서 함수를 작성(정의)할 수 있음\n",
    "'''\n",
    "# 전역변수\n",
    "number = 111\n",
    "def outer():\n",
    "    # outer 함수의 지역변수\n",
    "    number = 222  \n",
    "    print(\"number in outer() - inner() 함수에서 nonlocal 지정하기 전 :\",number)\n",
    "    def inner():\n",
    "        # inner 함수의 지역변수로서의 number를 사용하는 것이 아니고\n",
    "        # inner 함수의 바로 위 외부함수의 지역변수를 사용한다는 의미\n",
    "        nonlocal number\n",
    "        number = 333\n",
    "        print(\"number in outer() - nonlocal 로 지정함 :\",number)\n",
    "    # outer() 함수 내부에서 inner() 를 호출함\n",
    "    inner()\n",
    "    print(\"number in outer() - inner() 함수에서 nonlocal 지정한 후 :\",number)\n",
    "\n",
    "'''\n",
    "inner() 함수는 outer() 함수 내부에서 작성(정의)되었고\n",
    "               outer() 함수 내부에서 호출됨\n",
    "  ㄴ inner() 함수를 실행시킬려면 outer() 함수를 호출해야 함               \n",
    "''' \n",
    "# outer() 함수 외부에서 inner() 함수를 직접 호출할 수 없음\n",
    "# inner()\n",
    "# outer() 함수를 호출함\n",
    "outer()\n",
    "print(\"number (global) :\",number)"
   ]
  },
  {
   "cell_type": "code",
   "execution_count": 52,
   "id": "b2bb6119",
   "metadata": {
    "ExecuteTime": {
     "end_time": "2022-03-08T03:03:33.638774Z",
     "start_time": "2022-03-08T03:03:33.624782Z"
    }
   },
   "outputs": [
    {
     "name": "stdout",
     "output_type": "stream",
     "text": [
      "number (local) - inner() 함수에서 global로 지정하기 전 : 111\n",
      "number in inner() - global 로 지정함 : 333\n",
      "number in outer() : 222\n",
      "number (global) - inner() 함수에서 global로 지정한 후 : 333\n"
     ]
    }
   ],
   "source": [
    "\n",
    "'''\n",
    "함수 내부에서 함수를 작성(정의)할 수 있음\n",
    "'''\n",
    "# 전역변수\n",
    "number = 111\n",
    "print(\"number (local) - inner() 함수에서 global로 지정하기 전 :\",number)    \n",
    "    \n",
    "def outer():\n",
    "    # outer 함수의 지역변수\n",
    "    number = 222      \n",
    "    def inner():\n",
    "        # inner 함수의 지역변수로서의 number를 사용하는 것이 아니고\n",
    "        # global scope (전역) 에 있는 number 를 의미함\n",
    "        global number\n",
    "        number = 333\n",
    "        print(\"number in inner() - global 로 지정함 :\",number)\n",
    "    # outer() 함수 내부에서 inner() 를 호출함\n",
    "    inner()\n",
    "    print(\"number in outer() :\",number)\n",
    "\n",
    "'''\n",
    "inner() 함수는 outer() 함수 내부에서 작성(정의)되었고\n",
    "               outer() 함수 내부에서 호출됨\n",
    "  ㄴ inner() 함수를 실행시킬려면 outer() 함수를 호출해야 함               \n",
    "''' \n",
    "# outer() 함수 외부에서 inner() 함수를 직접 호출할 수 없음\n",
    "# inner()\n",
    "# outer() 함수를 호출함\n",
    "outer()\n",
    "print(\"number (global) - inner() 함수에서 global로 지정한 후 :\",number)    "
   ]
  },
  {
   "cell_type": "code",
   "execution_count": null,
   "id": "35f0cb4c",
   "metadata": {},
   "outputs": [],
   "source": []
  },
  {
   "cell_type": "code",
   "execution_count": null,
   "id": "31000a4b",
   "metadata": {},
   "outputs": [],
   "source": []
  },
  {
   "cell_type": "code",
   "execution_count": null,
   "id": "15811bc0",
   "metadata": {},
   "outputs": [],
   "source": []
  }
 ],
 "metadata": {
  "hide_input": false,
  "kernelspec": {
   "display_name": "Python 3 (ipykernel)",
   "language": "python",
   "name": "python3"
  },
  "language_info": {
   "codemirror_mode": {
    "name": "ipython",
    "version": 3
   },
   "file_extension": ".py",
   "mimetype": "text/x-python",
   "name": "python",
   "nbconvert_exporter": "python",
   "pygments_lexer": "ipython3",
   "version": "3.9.7"
  },
  "toc": {
   "base_numbering": 1,
   "nav_menu": {},
   "number_sections": true,
   "sideBar": true,
   "skip_h1_title": false,
   "title_cell": "Table of Contents",
   "title_sidebar": "Contents",
   "toc_cell": false,
   "toc_position": {},
   "toc_section_display": true,
   "toc_window_display": false
  },
  "varInspector": {
   "cols": {
    "lenName": 16,
    "lenType": 16,
    "lenVar": 40
   },
   "kernels_config": {
    "python": {
     "delete_cmd_postfix": "",
     "delete_cmd_prefix": "del ",
     "library": "var_list.py",
     "varRefreshCmd": "print(var_dic_list())"
    },
    "r": {
     "delete_cmd_postfix": ") ",
     "delete_cmd_prefix": "rm(",
     "library": "var_list.r",
     "varRefreshCmd": "cat(var_dic_list()) "
    }
   },
   "types_to_exclude": [
    "module",
    "function",
    "builtin_function_or_method",
    "instance",
    "_Feature"
   ],
   "window_display": false
  }
 },
 "nbformat": 4,
 "nbformat_minor": 5
}
