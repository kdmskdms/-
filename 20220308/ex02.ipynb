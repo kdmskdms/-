{
 "cells": [
  {
   "cell_type": "code",
   "execution_count": null,
   "id": "54ac00ad",
   "metadata": {
    "ExecuteTime": {
     "end_time": "2022-03-08T03:14:01.968312Z",
     "start_time": "2022-03-08T03:14:01.952330Z"
    }
   },
   "outputs": [],
   "source": [
    "'''\n",
    "lambda 함수 (lambda 식) : 함수를 매개변수와 return값으로 간략하게 표현한 것\n",
    "  ㄴ 함수를 변수에 할당할 수도 있고\n",
    "  ㄴ 함수를 argument 나 return 값으로 사용할 수도 있음\n",
    "\n",
    "  형식]\n",
    "  \n",
    "   lambda [parameter] : return 값\n",
    "'''\n",
    "def add(num1, num2):\n",
    "    return num1 + num2\n",
    "\n",
    "# lambda 함수를 변수에 할당하기\n",
    "add_func = lambda num1, num2 : num1 + num2\n",
    "\n",
    "# 일반 함수 호출하기\n",
    "print(add(1, 2))\n",
    "\n",
    "# lambda 함수를 변수에 할당한 후\n",
    "# 변수로 호출하기\n",
    "print(add_func(3, 4))\n",
    "\n",
    "# lambda 함수 직접 호출하기\n",
    "print((lambda num1, num2 : num1 + num2)(5, 6))"
   ]
  },
  {
   "cell_type": "code",
   "execution_count": null,
   "id": "68a5b3bc",
   "metadata": {
    "ExecuteTime": {
     "end_time": "2022-03-08T03:22:51.004590Z",
     "start_time": "2022-03-08T03:22:50.991587Z"
    }
   },
   "outputs": [],
   "source": [
    "# 항상 RETURN 값이 출력됨\n",
    "print(\"람다함수 호출결과 :\",(lambda n1, n2 : n1 + n2)(5, 7))\n",
    "print(\"람다함수 호출결과 :\",(lambda n1, n2 : n1 * n2)(5, 7))\n",
    "print(\"람다함수 호출결과 :\",(lambda n1, n2 : 123456)(5, 7))\n",
    "print(\"람다함수 호출결과 :\",(lambda n1, n2 : \"HELLO PYTHON\")(5, 7))"
   ]
  },
  {
   "cell_type": "code",
   "execution_count": null,
   "id": "07029551",
   "metadata": {
    "ExecuteTime": {
     "end_time": "2022-03-08T03:22:53.053344Z",
     "start_time": "2022-03-08T03:22:53.039341Z"
    }
   },
   "outputs": [],
   "source": [
    "# lambda 함수에서 default value parameter 사용하기\n",
    "print(\"람다함수 호출결과 :\",(lambda n1, n2=11: n1 + n2)(33))\n",
    "print(\"람다함수 호출결과 :\",(lambda n1, n2=11: n1 + n2)(33, 55))"
   ]
  },
  {
   "cell_type": "code",
   "execution_count": null,
   "id": "fb60dee1",
   "metadata": {
    "ExecuteTime": {
     "end_time": "2022-03-08T04:32:45.463695Z",
     "start_time": "2022-03-08T04:32:45.449703Z"
    }
   },
   "outputs": [],
   "source": [
    "# lambda 식에서 전역변수 사용하기\n",
    "# \n",
    "number = 22\n",
    "print(\"람다함수 호출결과 :\",(lambda n1 : n1 + number)(33))\n",
    "print(\"number :\",number)\n"
   ]
  },
  {
   "cell_type": "code",
   "execution_count": null,
   "id": "070d9435",
   "metadata": {
    "ExecuteTime": {
     "end_time": "2022-03-08T04:38:59.878376Z",
     "start_time": "2022-03-08T04:38:59.866382Z"
    }
   },
   "outputs": [],
   "source": [
    "'''\n",
    "add_10 함수를 lambda 식으로 변형해서 호출해 보세요\n",
    "'''\n",
    "def add_10(number):\n",
    "    return number + 10\n",
    "print(add_10(10))\n",
    "print((lambda number : number + 10)(10))\n",
    "\n",
    "# parameter 위치에서 연산식을 사용할 수 없음\n",
    "# print((lambda number + 1 : number + 10)(10))\n",
    "print((lambda number : (number * 2) + 10)(10))\n",
    "\n",
    "# : 다음에는 return 값만 작성할 수 있고, 할당식을 사용할 수 없음\n",
    "# print((lambda number : number = 22, (number * 2) + 10)(10))"
   ]
  },
  {
   "cell_type": "code",
   "execution_count": null,
   "id": "a054a6ba",
   "metadata": {
    "ExecuteTime": {
     "end_time": "2022-03-08T04:50:09.072867Z",
     "start_time": "2022-03-08T04:50:09.064872Z"
    }
   },
   "outputs": [],
   "source": [
    "'''\n",
    "lambda 식을 함수의 argument로 사용하기\n",
    "\n",
    "  -  map() 함수의 argument 로 lambda 식을 넣을 수 있음\n",
    "      ㄴ map(함수이름, iterable type)\n",
    "              ㄴ iterable type 의 요소를 차례대로 꺼내서\n",
    "                 함수의 parameter 에 할당해서 그 결과(return 값)들을 \n",
    "                 요소로 하는 map 객체를 생성함\n",
    "                   ㄴ list() 를 사용해서 list 객체로 변환함\n",
    "'''\n",
    "# 1) 일반함수를 map() 함수의 argument 로 사용하기\n",
    "def square_number(number):\n",
    "    return number ** 2\n",
    "list_numbers = [1, 2, 3, 4, 5]\n",
    "print(\"list_numbers   :\",list_numbers)\n",
    "print(\"map()함수 사용 :\",list(map(square_number, list_numbers)))\n",
    "print(\"map()함수 사용 :\",map(square_number, list_numbers))\n",
    "\n",
    "lambda number : number ** 2\n",
    "print(\"map()함수 사용 - lambda :\",list(map(lambda number : number ** 2, list_numbers)))\n",
    "\n",
    "square_nums = lambda number : number ** 2\n",
    "print(list(map(square_nums, list_numbers)))\n"
   ]
  },
  {
   "cell_type": "code",
   "execution_count": null,
   "id": "5cc7a824",
   "metadata": {
    "ExecuteTime": {
     "end_time": "2022-03-08T04:58:31.345115Z",
     "start_time": "2022-03-08T04:58:31.336111Z"
    }
   },
   "outputs": [],
   "source": [
    "'''\n",
    "for문을 사용해서 float_numbers 에 저장된 요소들을\n",
    "정수로 변환해서 list에 저장해서 이 list 를 출력하세요\n",
    "'''\n",
    "float_numbers = [1.2, 2.4, 3.6, 4.5, 5.1]\n",
    "print(\"float_numbers :\",float_numbers)\n",
    "for idx in range(len(float_numbers)):\n",
    "    float_numbers[idx] = int(float_numbers[idx])\n",
    "print(\"float_numbers :\",float_numbers)\n",
    "print(\"-\" * 50)\n",
    "\n",
    "float_numbers = [1.2, 2.4, 3.6, 4.5, 5.1]\n",
    "print(\"float_numbers :\",float_numbers)\n",
    "int_numbers = []\n",
    "for real_num in float_numbers:\n",
    "    int_numbers.append(int(real_num))\n",
    "print(\"int_numbers   :\",int_numbers)\n",
    "print(\"-\" * 50)"
   ]
  },
  {
   "cell_type": "code",
   "execution_count": null,
   "id": "b5c3cab8",
   "metadata": {
    "ExecuteTime": {
     "end_time": "2022-03-08T05:05:58.415587Z",
     "start_time": "2022-03-08T05:05:58.407602Z"
    }
   },
   "outputs": [],
   "source": [
    "'''\n",
    "  실수로 구성된 리스트를 정수로 구성된 리스트로\n",
    "  변환하는 함수 를 작성하세요\n",
    "  \n",
    "  1) 일반 함수로 작성하기  \n",
    "  \n",
    "'''\n",
    "float_numbers = [1.2, 2.4, 3.6, 4.5, 5.1]\n",
    "print(\"float_numbers :\",float_numbers)\n",
    "\n",
    "def float_list2int_list(real_list):\n",
    "    int_numbers = []\n",
    "    for real_num in float_numbers:\n",
    "        int_numbers.append(int(real_num))\n",
    "    return int_numbers\n",
    "\n",
    "result = float_list2int_list(float_numbers)\n",
    "print(\"result        :\",result)\n",
    "\n",
    "'''\n",
    "실수를 정수로 변환하는 함수를 작성하세요\n",
    "1) 일반함수\n",
    "2) lambda 식\n",
    "'''\n",
    "\n"
   ]
  },
  {
   "cell_type": "code",
   "execution_count": 42,
   "id": "24215f7a",
   "metadata": {
    "ExecuteTime": {
     "end_time": "2022-03-08T05:16:06.215474Z",
     "start_time": "2022-03-08T05:16:06.199493Z"
    }
   },
   "outputs": [
    {
     "name": "stdout",
     "output_type": "stream",
     "text": [
      "12\n",
      "934\n",
      "float_numbers : [1.2, 2.4, 3.6, 4.5, 5.1]\n",
      "[1, 2, 3, 4, 5]\n",
      "[1, 2, 3, 4, 5]\n",
      "[1, 2, 3, 4, 5]\n",
      "['1.2', '2.4', '3.6', '4.5', '5.1']\n"
     ]
    }
   ],
   "source": [
    "'''\n",
    "  map() 함수를 활용해 보세요\n",
    "  1) 일반 함수\n",
    "  2) lambda 식\n",
    "'''\n",
    "def float2int(real_number):\n",
    "    return int(real_number)\n",
    "result = float2int(12.34)\n",
    "print(result)\n",
    "\n",
    "print((lambda real_number : int(real_number))(934.56))\n",
    "\n",
    "float_numbers = [1.2, 2.4, 3.6, 4.5, 5.1]\n",
    "print(\"float_numbers :\",float_numbers)\n",
    "\n",
    "# 1) 일반 함수\n",
    "print(list(map(float2int, float_numbers)))\n",
    "\n",
    "# 2) 람다 함수\n",
    "print(list(map(lambda real_number : int(real_number), float_numbers)))\n",
    "\n",
    "# 3) 내장 함수 (int()) 사용하기\n",
    "print(list(map(int, float_numbers)))\n",
    "\n",
    "# 4) 내장 함수 (str()) 사용해서 문자열로 바꾸기\n",
    "print(list(map(str, float_numbers)))\n"
   ]
  },
  {
   "cell_type": "code",
   "execution_count": 43,
   "id": "ee725282",
   "metadata": {
    "ExecuteTime": {
     "end_time": "2022-03-08T05:18:49.454575Z",
     "start_time": "2022-03-08T05:18:45.153559Z"
    }
   },
   "outputs": [
    {
     "name": "stdout",
     "output_type": "stream",
     "text": [
      "첫 번째 정수를 입력하세요 : 11\n",
      "두 번째 정수를 입력하세요 : 22\n",
      "total : 33\n"
     ]
    }
   ],
   "source": [
    "'''\n",
    "두 개의 정수를 입력 받아서 합계 출력하기\n",
    "'''\n",
    "num1 = int(input(\"첫 번째 정수를 입력하세요 : \"))\n",
    "num2 = int(input(\"두 번째 정수를 입력하세요 : \"))\n",
    "total = num1 + num2\n",
    "print(\"total :\",total)"
   ]
  },
  {
   "cell_type": "code",
   "execution_count": 46,
   "id": "90bf03db",
   "metadata": {
    "ExecuteTime": {
     "end_time": "2022-03-08T05:36:53.277648Z",
     "start_time": "2022-03-08T05:36:50.957825Z"
    }
   },
   "outputs": [
    {
     "name": "stdout",
     "output_type": "stream",
     "text": [
      "정수 두 개를 입력하세요 (공백으로 구분) : 11 22\n",
      "total : 33\n"
     ]
    }
   ],
   "source": [
    "'''\n",
    "두 개의 정수를 한꺼번에 입력 받기\n",
    "\"11 22\".split()  <-- [\"11\", \"22\"]\n",
    "'''\n",
    "# unpacking\n",
    "result = input(\"정수 두 개를 입력하세요 (공백으로 구분) : \").split()\n",
    "#  문자열로 이루어진 리스트를 정수로 이루어진 리스트로 변화해서 : map() 사용\n",
    "#  unpaking 하기\n",
    "n1, n2 = map(int, result)\n",
    "total = n1 + n2\n",
    "print(\"total :\",total)"
   ]
  },
  {
   "cell_type": "code",
   "execution_count": 48,
   "id": "7c028c9e",
   "metadata": {
    "ExecuteTime": {
     "end_time": "2022-03-08T05:45:57.020905Z",
     "start_time": "2022-03-08T05:45:57.013909Z"
    }
   },
   "outputs": [
    {
     "name": "stdout",
     "output_type": "stream",
     "text": [
      "result : [1, 2, '3', 4, 5, '6', 7, 8, '9', 10, 11, '12', 13, 14, '15', 16, 17, '18', 19, 20]\n",
      "result : [1, 2, '3', 4, 5, '6', 7, 8, '9', 10, 11, '12', 13, 14, '15', 16, 17, '18', 19, 20]\n"
     ]
    }
   ],
   "source": [
    "'''\n",
    "아래의 list_nums 의 요소 중 3의 배수만 \n",
    "문자열로 변환하세요.\n",
    "map() 함수 활용하기\n",
    "1) 일반함수\n",
    "2) lambda 함수 - lambda 식\n",
    "[힌트]\n",
    "if 조건문 사용 : number % 3 == 0\n",
    "'''\n",
    "list_nums = list(range(1, 21))\n",
    "\n",
    "# 1) 일반 함수\n",
    "def int2str(number):\n",
    "    if number % 3 == 0:\n",
    "        return str(number)\n",
    "    else:\n",
    "        return number    \n",
    "result = list(map(int2str, list_nums))    \n",
    "print(\"result :\",result)\n",
    "\n",
    "# 2) lambda 식에서 조건문 사용하기\n",
    "result = list(map(lambda num : str(num) if num % 3 == 0 else num, list_nums))\n",
    "print(\"result :\",result)"
   ]
  },
  {
   "cell_type": "code",
   "execution_count": 53,
   "id": "dfecab11",
   "metadata": {
    "ExecuteTime": {
     "end_time": "2022-03-08T05:58:10.799432Z",
     "start_time": "2022-03-08T05:58:10.780453Z"
    }
   },
   "outputs": [
    {
     "name": "stdout",
     "output_type": "stream",
     "text": [
      "result : ['1', 2.0, 13, 14, 15, 16, 17, 18, 19, 20, 21, 22, 23, 24, 25, 26, 27, 28, 29, 30]\n",
      "result : ['1', 2.0, 13, 14, 15, 16, 17, 18, 19, 20, 21, 22, 23, 24, 25, 26, 27, 28, 29, 30]\n"
     ]
    }
   ],
   "source": [
    "'''\n",
    "아래의 list_nums 에서\n",
    "1은 문자열로 변환하고 2는 실수로 변환하고 \n",
    "나머지는 모두 10을 더해서 출력하세요\n",
    "(map()함수 사용 lambda 식을 사용하세요)\n",
    "'''\n",
    "list_nums = list(range(1, 21))\n",
    "\n",
    "def str_float_plus10(number):\n",
    "    if number == 1:\n",
    "        return str(number)\n",
    "    elif number == 2:\n",
    "        return float(number)\n",
    "    else:\n",
    "        return number + 10\n",
    "\n",
    "result = list(map(str_float_plus10, list_nums))\n",
    "print(\"result :\",result)\n",
    "\n",
    "test1 = lambda number : str(number) if number == 1 else float(number) if number == 2 else number + 10\n",
    "result = list(map(test1, list_nums))\n",
    "print(\"result :\",result)"
   ]
  },
  {
   "cell_type": "code",
   "execution_count": 55,
   "id": "7302e290",
   "metadata": {
    "ExecuteTime": {
     "end_time": "2022-03-08T06:02:26.133687Z",
     "start_time": "2022-03-08T06:02:26.115697Z"
    }
   },
   "outputs": [
    {
     "name": "stdout",
     "output_type": "stream",
     "text": [
      "result : [2, 8, 18, 32, 50]\n"
     ]
    }
   ],
   "source": [
    "'''\n",
    "list 두 개 사용해서 map() 호출하기\n",
    "\n",
    "아래의 두 list 의 요소를 같은 index 의 요소끼리\n",
    "차례로 곱한 값을 요소로 하는 list를 생성하고 출력하세요\n",
    "'''\n",
    "list1 = [1, 2, 3, 4, 5]\n",
    "list2 = [2, 4, 6, 8, 10]\n",
    "\n",
    "result = list(map(lambda i, j : i * j, list1, list2))\n",
    "print(\"result :\",result)"
   ]
  },
  {
   "cell_type": "code",
   "execution_count": null,
   "id": "dbba2cf9",
   "metadata": {},
   "outputs": [],
   "source": []
  },
  {
   "cell_type": "code",
   "execution_count": null,
   "id": "c933e8cd",
   "metadata": {},
   "outputs": [],
   "source": []
  },
  {
   "cell_type": "code",
   "execution_count": null,
   "id": "5cfd245a",
   "metadata": {},
   "outputs": [],
   "source": []
  }
 ],
 "metadata": {
  "hide_input": false,
  "kernelspec": {
   "display_name": "Python 3 (ipykernel)",
   "language": "python",
   "name": "python3"
  },
  "language_info": {
   "codemirror_mode": {
    "name": "ipython",
    "version": 3
   },
   "file_extension": ".py",
   "mimetype": "text/x-python",
   "name": "python",
   "nbconvert_exporter": "python",
   "pygments_lexer": "ipython3",
   "version": "3.9.7"
  },
  "toc": {
   "base_numbering": 1,
   "nav_menu": {},
   "number_sections": true,
   "sideBar": true,
   "skip_h1_title": false,
   "title_cell": "Table of Contents",
   "title_sidebar": "Contents",
   "toc_cell": false,
   "toc_position": {},
   "toc_section_display": true,
   "toc_window_display": false
  },
  "varInspector": {
   "cols": {
    "lenName": 16,
    "lenType": 16,
    "lenVar": 40
   },
   "kernels_config": {
    "python": {
     "delete_cmd_postfix": "",
     "delete_cmd_prefix": "del ",
     "library": "var_list.py",
     "varRefreshCmd": "print(var_dic_list())"
    },
    "r": {
     "delete_cmd_postfix": ") ",
     "delete_cmd_prefix": "rm(",
     "library": "var_list.r",
     "varRefreshCmd": "cat(var_dic_list()) "
    }
   },
   "types_to_exclude": [
    "module",
    "function",
    "builtin_function_or_method",
    "instance",
    "_Feature"
   ],
   "window_display": false
  }
 },
 "nbformat": 4,
 "nbformat_minor": 5
}
