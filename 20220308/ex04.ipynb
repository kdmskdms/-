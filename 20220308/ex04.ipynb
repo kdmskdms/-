{
 "cells": [
  {
   "cell_type": "code",
   "execution_count": null,
   "id": "f8c11f28",
   "metadata": {},
   "outputs": [],
   "source": [
    "'''\n",
    "  클로저 (Closure) \n",
    "   ㄴ 함수가 호출되면 해당 함수가 실행되기 위한\n",
    "      메모리 공간이 확보됨. 이곳에 지역변수들이 생성됨\n",
    "      이 함수가 그 실행을 모두 완료하고 return 하면 \n",
    "      이 함수는 종료가 되고 이 함수의 실행을 위해서\n",
    "      확보했던 메모리 공간도 없어짐. 이 순간 이 함수의\n",
    "      지역변수들도 자동으로 메모리에서 삭제됨.\n",
    "      그런데, 이 함수(outer()) 의 지역변수를\n",
    "      내부함수(inner()) 에서 사용하고 있는 경우에는\n",
    "      내부함수(inner()) 의 실행을 위해서 내부함수가\n",
    "      사용하고 있는 외부함수의 지역변수들은 \n",
    "      메모리에서 삭제하지 않고 남겨둠\n",
    "        ㄴ 이렇게 남아있는 메모리부분을 클로저라고 함\n",
    "                    ㄴ 함수를 둘러싼 환경(지역 변수, 코드 등)\n",
    "      이 때의 내부함수를 클로저함수라고 함  \n",
    "'''"
   ]
  },
  {
   "cell_type": "code",
   "execution_count": 2,
   "id": "acd9f813",
   "metadata": {
    "ExecuteTime": {
     "end_time": "2022-03-08T07:46:31.128928Z",
     "start_time": "2022-03-08T07:46:31.109932Z"
    }
   },
   "outputs": [
    {
     "name": "stdout",
     "output_type": "stream",
     "text": [
      "225\n"
     ]
    }
   ],
   "source": [
    "def outer():    \n",
    "    number = 222\n",
    "    def inner():        \n",
    "        result = number + 3\n",
    "        return result\n",
    "    return inner\n",
    "\n",
    "# print(outer()())    \n",
    "return_funct = outer()\n",
    "return_value = return_funct()\n",
    "print(return_value)"
   ]
  },
  {
   "cell_type": "code",
   "execution_count": 4,
   "id": "a64760fa",
   "metadata": {
    "ExecuteTime": {
     "end_time": "2022-03-08T08:01:57.898218Z",
     "start_time": "2022-03-08T08:01:57.893221Z"
    }
   },
   "outputs": [
    {
     "name": "stdout",
     "output_type": "stream",
     "text": [
      "return_value : 133\n"
     ]
    }
   ],
   "source": [
    "def outer2():\n",
    "    num1 = 11\n",
    "    num2 = 22\n",
    "    num3 = 33\n",
    "    def inner2(number):\n",
    "        total = num1 + num2 + number\n",
    "        return total\n",
    "    return inner2\n",
    "\n",
    "# print(outer2()(100))\n",
    "return_funct = outer2()\n",
    "return_value = return_funct(100)\n",
    "print(\"return_value :\",return_value)"
   ]
  },
  {
   "cell_type": "code",
   "execution_count": 5,
   "id": "fa3ebcbf",
   "metadata": {
    "ExecuteTime": {
     "end_time": "2022-03-08T08:06:00.232656Z",
     "start_time": "2022-03-08T08:06:00.220662Z"
    }
   },
   "outputs": [
    {
     "name": "stdout",
     "output_type": "stream",
     "text": [
      "35\n"
     ]
    }
   ],
   "source": [
    "def calc():\n",
    "    n1 = 3\n",
    "    n2 = 5\n",
    "    def multi_add(n3):\n",
    "        return n1 * n3 + n2\n",
    "    return multi_add\n",
    "\n",
    "# 내부 함수를 호출해서 35를 출력하세요\n",
    "# 외부함수를 호출하는 code 가 \n",
    "# 내부함수의 이름을 얻어오는 code\n",
    "#  ㄴ 외부함수가 내부함수의 이름을 return하므로\n",
    "print(calc()(10))"
   ]
  },
  {
   "cell_type": "code",
   "execution_count": 7,
   "id": "a27a6a54",
   "metadata": {
    "ExecuteTime": {
     "end_time": "2022-03-08T08:08:30.098449Z",
     "start_time": "2022-03-08T08:08:30.084456Z"
    }
   },
   "outputs": [
    {
     "name": "stdout",
     "output_type": "stream",
     "text": [
      "calc2()(10) : 35\n"
     ]
    }
   ],
   "source": [
    "'''\n",
    " 함수를 return 하는 함수\n",
    "   ㄴ return 값으로 함수를 지정할 수 있음\n",
    "                     ㄴ lambda 식\n",
    "'''\n",
    "def calc2():\n",
    "    n1 = 3\n",
    "    n2 = 5\n",
    "    return lambda n3 : n1 * n3 + 5\n",
    "\n",
    "print(\"calc2()(10) :\",calc2()(10))"
   ]
  },
  {
   "cell_type": "code",
   "execution_count": null,
   "id": "63ed0d2d",
   "metadata": {},
   "outputs": [],
   "source": []
  },
  {
   "cell_type": "code",
   "execution_count": null,
   "id": "f4588443",
   "metadata": {},
   "outputs": [],
   "source": []
  },
  {
   "cell_type": "code",
   "execution_count": null,
   "id": "63e40430",
   "metadata": {},
   "outputs": [],
   "source": []
  }
 ],
 "metadata": {
  "hide_input": false,
  "kernelspec": {
   "display_name": "Python 3 (ipykernel)",
   "language": "python",
   "name": "python3"
  },
  "language_info": {
   "codemirror_mode": {
    "name": "ipython",
    "version": 3
   },
   "file_extension": ".py",
   "mimetype": "text/x-python",
   "name": "python",
   "nbconvert_exporter": "python",
   "pygments_lexer": "ipython3",
   "version": "3.9.7"
  },
  "toc": {
   "base_numbering": 1,
   "nav_menu": {},
   "number_sections": true,
   "sideBar": true,
   "skip_h1_title": false,
   "title_cell": "Table of Contents",
   "title_sidebar": "Contents",
   "toc_cell": false,
   "toc_position": {},
   "toc_section_display": true,
   "toc_window_display": false
  },
  "varInspector": {
   "cols": {
    "lenName": 16,
    "lenType": 16,
    "lenVar": 40
   },
   "kernels_config": {
    "python": {
     "delete_cmd_postfix": "",
     "delete_cmd_prefix": "del ",
     "library": "var_list.py",
     "varRefreshCmd": "print(var_dic_list())"
    },
    "r": {
     "delete_cmd_postfix": ") ",
     "delete_cmd_prefix": "rm(",
     "library": "var_list.r",
     "varRefreshCmd": "cat(var_dic_list()) "
    }
   },
   "types_to_exclude": [
    "module",
    "function",
    "builtin_function_or_method",
    "instance",
    "_Feature"
   ],
   "window_display": false
  }
 },
 "nbformat": 4,
 "nbformat_minor": 5
}
