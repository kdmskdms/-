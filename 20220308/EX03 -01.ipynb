{
 "cells": [
  {
   "cell_type": "code",
   "execution_count": 1,
   "id": "ea426175",
   "metadata": {},
   "outputs": [
    {
     "name": "stdout",
     "output_type": "stream",
     "text": [
      "[8, 6, 9]\n",
      "9\n",
      "test4(7)  : True\n",
      "test4(12) : False\n",
      "[8, 6, 9]\n"
     ]
    }
   ],
   "source": [
    "list_nums = [8, 3, 2, 10, 15, 6, 1, 9, 0, 13]\n",
    "# 1) 일반 함수\n",
    "def test2(list_nums):\n",
    "    list_result = []\n",
    "    for num in list_nums:\n",
    "        if 5 < num < 10:\n",
    "            list_result.append(num)\n",
    "    return list_result\n",
    "\n",
    "print(test2(list_nums))\n",
    "\n",
    "# 5 보다 크고 10 보다 작은 수만 return 하는 함수\n",
    "def test3(number):\n",
    "    if 5 < number < 10:\n",
    "        return number    \n",
    "print(test3(9))\n",
    "\n",
    "def test4(number):\n",
    "    return 5 < number < 10\n",
    "\n",
    "print(\"test4(7)  :\",test4(7))\n",
    "print(\"test4(12) :\",test4(12))\n",
    "\n",
    "list_nums = [8, 3, 2, 10, 15, 6, 1, 9, 0, 13]\n",
    "print(list(filter(test4, list_nums)))"
   ]
  },
  {
   "cell_type": "code",
   "execution_count": 2,
   "id": "5dcb7d09",
   "metadata": {},
   "outputs": [
    {
     "name": "stdout",
     "output_type": "stream",
     "text": [
      "[8, 6, 9]\n"
     ]
    }
   ],
   "source": [
    "def test4(number):\n",
    "    return 5 < number < 10\n",
    "\n",
    "print(list(filter(lambda number : 5 < number < 10, list_nums)))"
   ]
  },
  {
   "cell_type": "code",
   "execution_count": 3,
   "id": "4a05a67b",
   "metadata": {},
   "outputs": [
    {
     "name": "stdout",
     "output_type": "stream",
     "text": [
      "result : [False, True, False, False, True, True, False, True, True, False]\n",
      "result : [3, 15, 6, 9, 0]\n",
      "result : [3, 15, 6, 9, 0]\n"
     ]
    }
   ],
   "source": [
    "def multiple3(number):\n",
    "    return number % 3 == 0\n",
    "result = list(map(multiple3, list_nums))\n",
    "print(\"result :\",result)\n",
    "result = list(filter(multiple3, list_nums))\n",
    "print(\"result :\",result)\n",
    "\n",
    "result = list(filter(lambda number : number % 3 == 0, list_nums))\n",
    "print(\"result :\",result)"
   ]
  },
  {
   "cell_type": "code",
   "execution_count": 4,
   "id": "851befde",
   "metadata": {},
   "outputs": [
    {
     "name": "stdout",
     "output_type": "stream",
     "text": [
      "[2, 4, 6, 8, 10]\n",
      "[2, 4, 6, 8, 10]\n",
      "[None, 2, None, 4, None, 6, None, 8, None, 10]\n"
     ]
    }
   ],
   "source": [
    "list_nums = [1, 2, 3, 4, 5, 6, 7, 8, 9, 10]\n",
    "def even_number(number):\n",
    "    return number % 2 == 0\n",
    "result = list(filter(even_number, list_nums))\n",
    "print(result)\n",
    "\n",
    "result = list(filter(lambda number : number % 2 == 0, list_nums))\n",
    "print(result)\n",
    "\n",
    "def even_map(number):\n",
    "    if number % 2 == 0:\n",
    "        return number\n",
    "result = list(map(even_map, list_nums))    \n",
    "print(result)"
   ]
  },
  {
   "cell_type": "code",
   "execution_count": 5,
   "id": "2cf96d63",
   "metadata": {},
   "outputs": [
    {
     "name": "stdout",
     "output_type": "stream",
     "text": [
      "total : 15\n",
      "total : 115\n",
      "15\n",
      "115\n"
     ]
    }
   ],
   "source": [
    "from functools import reduce\n",
    "\n",
    "list_nums = [1, 2, 3, 4, 5]\n",
    "\n",
    "# 1) 일반 함수\n",
    "def add_2numbers(num1, num2):\n",
    "    return num1 + num2\n",
    "\n",
    "total = reduce(add_2numbers, list_nums)\n",
    "print(\"total :\",total)\n",
    "\n",
    "total = reduce(add_2numbers, list_nums, 100)\n",
    "print(\"total :\",total)\n",
    "\n",
    "# 2) lambda 식 사용\n",
    "print(reduce(lambda num1, num2 : num1 + num2, list_nums))\n",
    "print(reduce(lambda num1, num2 : num1 + num2, list_nums, 100))"
   ]
  },
  {
   "cell_type": "code",
   "execution_count": 6,
   "id": "bf2b0b09",
   "metadata": {},
   "outputs": [
    {
     "name": "stdout",
     "output_type": "stream",
     "text": [
      "15\n"
     ]
    }
   ],
   "source": [
    "from functools import reduce\n",
    "def max_number(num1, num2):\n",
    "    if num1 > num2:\n",
    "        return num1\n",
    "    else:\n",
    "        return num2\n",
    "\n",
    "list_nums = [8, 3, 2, 10, 15, 6, 1, 9, 0, 13]\n",
    "result = reduce(max_number, list_nums)\n",
    "print(result)"
   ]
  },
  {
   "cell_type": "code",
   "execution_count": null,
   "id": "041b27de",
   "metadata": {},
   "outputs": [],
   "source": []
  }
 ],
 "metadata": {
  "kernelspec": {
   "display_name": "Python 3 (ipykernel)",
   "language": "python",
   "name": "python3"
  },
  "language_info": {
   "codemirror_mode": {
    "name": "ipython",
    "version": 3
   },
   "file_extension": ".py",
   "mimetype": "text/x-python",
   "name": "python",
   "nbconvert_exporter": "python",
   "pygments_lexer": "ipython3",
   "version": "3.9.7"
  }
 },
 "nbformat": 4,
 "nbformat_minor": 5
}
