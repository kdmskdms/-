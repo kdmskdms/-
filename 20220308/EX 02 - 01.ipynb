{
 "cells": [
  {
   "cell_type": "code",
   "execution_count": 1,
   "id": "7a28d3e3",
   "metadata": {},
   "outputs": [
    {
     "name": "stdout",
     "output_type": "stream",
     "text": [
      "3\n",
      "7\n",
      "11\n"
     ]
    }
   ],
   "source": [
    "def add(num1, num2):\n",
    "    return num1 + num2\n",
    "\n",
    "# lambda 함수를 변수에 할당하기\n",
    "add_func = lambda num1, num2 : num1 + num2\n",
    "\n",
    "# 일반 함수 호출하기\n",
    "print(add(1, 2))\n",
    "\n",
    "# lambda 함수를 변수에 할당한 후\n",
    "# 변수로 호출하기\n",
    "print(add_func(3, 4))\n",
    "\n",
    "# lambda 함수 직접 호출하기\n",
    "print((lambda num1, num2 : num1 + num2)(5, 6))"
   ]
  },
  {
   "cell_type": "code",
   "execution_count": 2,
   "id": "21d83768",
   "metadata": {},
   "outputs": [
    {
     "name": "stdout",
     "output_type": "stream",
     "text": [
      "람다함수 호출결과 : 12\n",
      "람다함수 호출결과 : 35\n",
      "람다함수 호출결과 : 123456\n",
      "람다함수 호출결과 : HELLO PYTHON\n"
     ]
    }
   ],
   "source": [
    "print(\"람다함수 호출결과 :\",(lambda n1, n2 : n1 + n2)(5, 7))\n",
    "print(\"람다함수 호출결과 :\",(lambda n1, n2 : n1 * n2)(5, 7))\n",
    "print(\"람다함수 호출결과 :\",(lambda n1, n2 : 123456)(5, 7))\n",
    "print(\"람다함수 호출결과 :\",(lambda n1, n2 : \"HELLO PYTHON\")(5, 7))"
   ]
  },
  {
   "cell_type": "code",
   "execution_count": 3,
   "id": "e784416f",
   "metadata": {},
   "outputs": [
    {
     "name": "stdout",
     "output_type": "stream",
     "text": [
      "람다함수 호출결과 : 44\n",
      "람다함수 호출결과 : 88\n"
     ]
    }
   ],
   "source": [
    "print(\"람다함수 호출결과 :\",(lambda n1, n2=11: n1 + n2)(33))\n",
    "print(\"람다함수 호출결과 :\",(lambda n1, n2=11: n1 + n2)(33, 55))"
   ]
  },
  {
   "cell_type": "code",
   "execution_count": 4,
   "id": "f720745a",
   "metadata": {},
   "outputs": [
    {
     "name": "stdout",
     "output_type": "stream",
     "text": [
      "람다함수 호출결과 : 55\n",
      "number : 22\n"
     ]
    }
   ],
   "source": [
    "number = 22\n",
    "print(\"람다함수 호출결과 :\",(lambda n1 : n1 + number)(33))\n",
    "print(\"number :\",number)"
   ]
  },
  {
   "cell_type": "code",
   "execution_count": 5,
   "id": "93491424",
   "metadata": {},
   "outputs": [
    {
     "name": "stdout",
     "output_type": "stream",
     "text": [
      "20\n",
      "20\n",
      "30\n"
     ]
    }
   ],
   "source": [
    "def add_10(number):\n",
    "    return number + 10\n",
    "print(add_10(10))\n",
    "print((lambda number : number + 10)(10))\n",
    "\n",
    "# parameter 위치에서 연산식을 사용할 수 없음\n",
    "# print((lambda number + 1 : number + 10)(10))\n",
    "print((lambda number : (number * 2) + 10)(10))"
   ]
  },
  {
   "cell_type": "code",
   "execution_count": 6,
   "id": "cda5264b",
   "metadata": {},
   "outputs": [
    {
     "name": "stdout",
     "output_type": "stream",
     "text": [
      "list_numbers   : [1, 2, 3, 4, 5]\n",
      "map()함수 사용 : [1, 4, 9, 16, 25]\n",
      "map()함수 사용 : <map object at 0x0000028FFC61B670>\n",
      "map()함수 사용 - lambda : [1, 4, 9, 16, 25]\n",
      "[1, 4, 9, 16, 25]\n"
     ]
    }
   ],
   "source": [
    "# 1) 일반함수를 map() 함수의 argument 로 사용하기\n",
    "def square_number(number):\n",
    "    return number ** 2\n",
    "list_numbers = [1, 2, 3, 4, 5]\n",
    "print(\"list_numbers   :\",list_numbers)\n",
    "print(\"map()함수 사용 :\",list(map(square_number, list_numbers)))\n",
    "print(\"map()함수 사용 :\",map(square_number, list_numbers))\n",
    "\n",
    "lambda number : number ** 2\n",
    "print(\"map()함수 사용 - lambda :\",list(map(lambda number : number ** 2, list_numbers)))\n",
    "\n",
    "square_nums = lambda number : number ** 2\n",
    "print(list(map(square_nums, list_numbers)))\n"
   ]
  },
  {
   "cell_type": "code",
   "execution_count": 7,
   "id": "fbf23023",
   "metadata": {},
   "outputs": [
    {
     "name": "stdout",
     "output_type": "stream",
     "text": [
      "float_numbers : [1.2, 2.4, 3.6, 4.5, 5.1]\n",
      "float_numbers : [1, 2, 3, 4, 5]\n",
      "--------------------------------------------------\n",
      "float_numbers : [1.2, 2.4, 3.6, 4.5, 5.1]\n",
      "int_numbers   : [1, 2, 3, 4, 5]\n",
      "--------------------------------------------------\n"
     ]
    }
   ],
   "source": [
    "float_numbers = [1.2, 2.4, 3.6, 4.5, 5.1]\n",
    "print(\"float_numbers :\",float_numbers)\n",
    "for idx in range(len(float_numbers)):\n",
    "    float_numbers[idx] = int(float_numbers[idx])\n",
    "print(\"float_numbers :\",float_numbers)\n",
    "print(\"-\" * 50)\n",
    "\n",
    "float_numbers = [1.2, 2.4, 3.6, 4.5, 5.1]\n",
    "print(\"float_numbers :\",float_numbers)\n",
    "int_numbers = []\n",
    "for real_num in float_numbers:\n",
    "    int_numbers.append(int(real_num))\n",
    "print(\"int_numbers   :\",int_numbers)\n",
    "print(\"-\" * 50)"
   ]
  },
  {
   "cell_type": "code",
   "execution_count": 8,
   "id": "58d07190",
   "metadata": {},
   "outputs": [
    {
     "name": "stdout",
     "output_type": "stream",
     "text": [
      "float_numbers : [1.2, 2.4, 3.6, 4.5, 5.1]\n",
      "result        : [1, 2, 3, 4, 5]\n"
     ]
    }
   ],
   "source": [
    "float_numbers = [1.2, 2.4, 3.6, 4.5, 5.1]\n",
    "print(\"float_numbers :\",float_numbers)\n",
    "\n",
    "def float_list2int_list(real_list):\n",
    "    int_numbers = []\n",
    "    for real_num in float_numbers:\n",
    "        int_numbers.append(int(real_num))\n",
    "    return int_numbers\n",
    "\n",
    "result = float_list2int_list(float_numbers)\n",
    "print(\"result        :\",result)"
   ]
  },
  {
   "cell_type": "code",
   "execution_count": 9,
   "id": "5b1b173c",
   "metadata": {},
   "outputs": [
    {
     "name": "stdout",
     "output_type": "stream",
     "text": [
      "12\n",
      "934\n",
      "float_numbers : [1.2, 2.4, 3.6, 4.5, 5.1]\n",
      "[1, 2, 3, 4, 5]\n",
      "[1, 2, 3, 4, 5]\n",
      "[1, 2, 3, 4, 5]\n",
      "['1.2', '2.4', '3.6', '4.5', '5.1']\n"
     ]
    }
   ],
   "source": [
    "def float2int(real_number):\n",
    "    return int(real_number)\n",
    "result = float2int(12.34)\n",
    "print(result)\n",
    "\n",
    "print((lambda real_number : int(real_number))(934.56))\n",
    "\n",
    "float_numbers = [1.2, 2.4, 3.6, 4.5, 5.1]\n",
    "print(\"float_numbers :\",float_numbers)\n",
    "\n",
    "# 1) 일반 함수\n",
    "print(list(map(float2int, float_numbers)))\n",
    "\n",
    "# 2) 람다 함수\n",
    "print(list(map(lambda real_number : int(real_number), float_numbers)))\n",
    "\n",
    "# 3) 내장 함수 (int()) 사용하기\n",
    "print(list(map(int, float_numbers)))\n",
    "\n",
    "# 4) 내장 함수 (str()) 사용해서 문자열로 바꾸기\n",
    "print(list(map(str, float_numbers)))"
   ]
  },
  {
   "cell_type": "code",
   "execution_count": 10,
   "id": "e50e509d",
   "metadata": {},
   "outputs": [
    {
     "name": "stdout",
     "output_type": "stream",
     "text": [
      "첫 번째 정수를 입력하세요 : 11\n",
      "두 번째 정수를 입력하세요 : 22\n",
      "total : 33\n"
     ]
    }
   ],
   "source": [
    "num1 = int(input(\"첫 번째 정수를 입력하세요 : \"))\n",
    "num2 = int(input(\"두 번째 정수를 입력하세요 : \"))\n",
    "total = num1 + num2\n",
    "print(\"total :\",total)"
   ]
  },
  {
   "cell_type": "code",
   "execution_count": 11,
   "id": "8c9299fb",
   "metadata": {},
   "outputs": [
    {
     "name": "stdout",
     "output_type": "stream",
     "text": [
      "정수 두 개를 입력하세요 (공백으로 구분) : 11 33\n",
      "total : 44\n"
     ]
    }
   ],
   "source": [
    "result = input(\"정수 두 개를 입력하세요 (공백으로 구분) : \").split()\n",
    "n1, n2 = map(int, result)\n",
    "total = n1 + n2\n",
    "print(\"total :\",total)"
   ]
  },
  {
   "cell_type": "code",
   "execution_count": 12,
   "id": "b3f59335",
   "metadata": {},
   "outputs": [
    {
     "name": "stdout",
     "output_type": "stream",
     "text": [
      "result : [1, 2, '3', 4, 5, '6', 7, 8, '9', 10, 11, '12', 13, 14, '15', 16, 17, '18', 19, 20]\n",
      "result : [1, 2, '3', 4, 5, '6', 7, 8, '9', 10, 11, '12', 13, 14, '15', 16, 17, '18', 19, 20]\n"
     ]
    }
   ],
   "source": [
    "list_nums = list(range(1, 21))\n",
    "\n",
    "# 1) 일반 함수\n",
    "def int2str(number):\n",
    "    if number % 3 == 0:\n",
    "        return str(number)\n",
    "    else:\n",
    "        return number    \n",
    "result = list(map(int2str, list_nums))    \n",
    "print(\"result :\",result)\n",
    "\n",
    "# 2) lambda 식에서 조건문 사용하기\n",
    "result = list(map(lambda num : str(num) if num % 3 == 0 else num, list_nums))\n",
    "print(\"result :\",result)"
   ]
  },
  {
   "cell_type": "code",
   "execution_count": 13,
   "id": "882b9769",
   "metadata": {},
   "outputs": [
    {
     "name": "stdout",
     "output_type": "stream",
     "text": [
      "result : ['1', 2.0, 13, 14, 15, 16, 17, 18, 19, 20, 21, 22, 23, 24, 25, 26, 27, 28, 29, 30]\n",
      "result : ['1', 2.0, 13, 14, 15, 16, 17, 18, 19, 20, 21, 22, 23, 24, 25, 26, 27, 28, 29, 30]\n"
     ]
    }
   ],
   "source": [
    "list_nums = list(range(1, 21))\n",
    "\n",
    "def str_float_plus10(number):\n",
    "    if number == 1:\n",
    "        return str(number)\n",
    "    elif number == 2:\n",
    "        return float(number)\n",
    "    else:\n",
    "        return number + 10\n",
    "\n",
    "result = list(map(str_float_plus10, list_nums))\n",
    "print(\"result :\",result)\n",
    "\n",
    "test1 = lambda number : str(number) if number == 1 else float(number) if number == 2 else number + 10\n",
    "result = list(map(test1, list_nums))\n",
    "print(\"result :\",result)"
   ]
  },
  {
   "cell_type": "code",
   "execution_count": 14,
   "id": "649661d5",
   "metadata": {},
   "outputs": [
    {
     "name": "stdout",
     "output_type": "stream",
     "text": [
      "result : [2, 8, 18, 32, 50]\n"
     ]
    }
   ],
   "source": [
    "list1 = [1, 2, 3, 4, 5]\n",
    "list2 = [2, 4, 6, 8, 10]\n",
    "\n",
    "result = list(map(lambda i, j : i * j, list1, list2))\n",
    "print(\"result :\",result)"
   ]
  },
  {
   "cell_type": "code",
   "execution_count": null,
   "id": "cc28d9f6",
   "metadata": {},
   "outputs": [],
   "source": []
  }
 ],
 "metadata": {
  "kernelspec": {
   "display_name": "Python 3 (ipykernel)",
   "language": "python",
   "name": "python3"
  },
  "language_info": {
   "codemirror_mode": {
    "name": "ipython",
    "version": 3
   },
   "file_extension": ".py",
   "mimetype": "text/x-python",
   "name": "python",
   "nbconvert_exporter": "python",
   "pygments_lexer": "ipython3",
   "version": "3.9.7"
  }
 },
 "nbformat": 4,
 "nbformat_minor": 5
}
