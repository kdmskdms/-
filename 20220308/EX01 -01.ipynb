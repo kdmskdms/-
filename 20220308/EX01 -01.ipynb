{
 "cells": [
  {
   "cell_type": "code",
   "execution_count": 2,
   "id": "c2dffec9",
   "metadata": {},
   "outputs": [
    {
     "name": "stdout",
     "output_type": "stream",
     "text": [
      "500\n",
      "450 450\n"
     ]
    }
   ],
   "source": [
    "'''\n",
    "키워드 매개변수가 아니다\n",
    "'''\n",
    "def test1(num1, num2):\n",
    "    return (num1 + 10) * (num2 +5)\n",
    "result1 = test1(10,20)\n",
    "print(result)\n",
    "result2 = test1(20, 10)\n",
    "print(result2, end= \" \")\n",
    "\n",
    "result3 = test1(num2 = 10, num1 = 20)\n",
    "print(result3)"
   ]
  },
  {
   "cell_type": "code",
   "execution_count": 3,
   "id": "d134b04e",
   "metadata": {},
   "outputs": [
    {
     "name": "stdout",
     "output_type": "stream",
     "text": [
      "안녕하세요\n",
      "즐거운\n",
      "파이썬 프로그래밍\n",
      "\n",
      "안녕하세요\n",
      "즐거운\n",
      "파이썬 프로그래밍\n",
      "\n",
      "안녕하세요\n",
      "즐거운\n",
      "파이썬 프로그래밍\n",
      "\n",
      "안녕하세요\n",
      "즐거운\n",
      "파이썬 프로그래밍\n",
      "3\n",
      "\n",
      "안녕하세요\n",
      "즐거운\n",
      "파이썬 프로그래밍\n",
      "3\n",
      "\n"
     ]
    }
   ],
   "source": [
    "'''\n",
    "219 page\n",
    "'''\n",
    "def print_n_times(*values, n = 2):\n",
    "    for i in range(n):\n",
    "        for value in values:\n",
    "            print(value)\n",
    "        print()\n",
    "print_n_times(\"안녕하세요\", \"즐거운\", \"파이썬 프로그래밍\", n=3)\n",
    "\n",
    "print_n_times(\"안녕하세요\", \"즐거운\", \"파이썬 프로그래밍\", 3)"
   ]
  },
  {
   "cell_type": "code",
   "execution_count": 6,
   "id": "3d7afcf9",
   "metadata": {},
   "outputs": [
    {
     "name": "stdout",
     "output_type": "stream",
     "text": [
      "안녕하세요\n",
      "즐거운\n",
      "파이썬 프로그래밍\n",
      "\n",
      "안녕하세요\n",
      "즐거운\n",
      "파이썬 프로그래밍\n",
      "\n",
      "안녕하세요\n",
      "즐거운\n",
      "파이썬 프로그래밍\n",
      "\n"
     ]
    }
   ],
   "source": [
    "# 가변 매개변수는 맨 마지막에만 지정할 수 있음\n",
    "def print_n_times(*values, n):\n",
    "    for i in range(n):\n",
    "        for value in values:\n",
    "            print(value)\n",
    "        print()\n",
    "print_n_times(\"안녕하세요\", \"즐거운\", \"파이썬 프로그래밍\", n=3)\n"
   ]
  },
  {
   "cell_type": "code",
   "execution_count": 7,
   "id": "90521a5e",
   "metadata": {},
   "outputs": [
    {
     "name": "stdout",
     "output_type": "stream",
     "text": [
      "안녕하세요\n",
      "즐거운\n",
      "파이썬 프로그래밍\n",
      "\n",
      "안녕하세요\n",
      "즐거운\n",
      "파이썬 프로그래밍\n",
      "\n",
      "안녕하세요\n",
      "즐거운\n",
      "파이썬 프로그래밍\n",
      "\n"
     ]
    }
   ],
   "source": [
    "# 가변 매개변수는 맨 마지막에만 지정할 수 있음\n",
    "def print_n_times(*values, n):\n",
    "    for i in range(n):\n",
    "        for value in values:\n",
    "            print(value)\n",
    "        print()\n",
    "\n",
    "# keyword argument (n=3)를 사용하면\n",
    "# 어떤 parameter에 값이 전달될지를 설정하기때문에\n",
    "# 가변 매개변수가 앞에 위치해도 괜찮음\n",
    "print_n_times(\"안녕하세요\", \"즐거운\", \"파이썬 프로그래밍\", n=3)\n",
    "#TypeError: print_n_times() missing 1 required keyword-only argument: 'n'\n",
    "#print_n_times(\"안녕하세요\", \"즐거운\", \"파이썬 프로그래밍\", 3)"
   ]
  },
  {
   "cell_type": "code",
   "execution_count": 9,
   "id": "cfb8660c",
   "metadata": {},
   "outputs": [
    {
     "name": "stdout",
     "output_type": "stream",
     "text": [
      "tp1 :  (1, 2, 3, 4, 5, 6, 7, 8, 9, 10)\n",
      "n1: 1\n",
      "n2: 2\n",
      "n3: 3\n",
      "n4: 4\n",
      "n5: 5\n",
      "n6: 6\n",
      "n7: 7\n",
      "n8: 8\n",
      "n9: 9\n",
      "n10: 10\n",
      "1 2 3 [4, 5, 6, 7, 8, 9, 10]\n",
      "----------------------------------------\n",
      "1 2 [3, 4, 5, 6, 7, 8, 9] 10\n",
      "----------------------------------------\n",
      "1 [2, 3, 4, 5, 6, 7, 8] 9 10\n",
      "----------------------------------------\n",
      "[1, 2, 3, 4, 5, 6, 7] 8 9 10\n",
      "----------------------------------------\n"
     ]
    }
   ],
   "source": [
    "'''\n",
    "unpacking\n",
    "'''\n",
    "tp1 = 1, 2, 3, 4, 5, 6, 7, 8, 9, 10\n",
    "print(\"tp1 : \", tp1)\n",
    "n1, n2, n3, n4, n5, n6, n7, n8, n9, n10 = 1, 2, 3, 4, 5, 6, 7, 8, 9, 10\n",
    "print(\"n1:\", n1)\n",
    "print(\"n2:\", n2)\n",
    "print(\"n3:\", n3)\n",
    "print(\"n4:\", n4)\n",
    "print(\"n5:\", n5)\n",
    "print(\"n6:\", n6)\n",
    "print(\"n7:\", n7)\n",
    "print(\"n8:\", n8)\n",
    "print(\"n9:\", n9)\n",
    "print(\"n10:\", n10)\n",
    "\n",
    "n1, n2, n3, * n4 = 1,2,3,4,5,6,7,8,9,10\n",
    "print(n1, n2, n3, n4)\n",
    "print(\"-\"*40)\n",
    "\n",
    "n1, n2, *n3, n4 = 1,2,3,4,5,6,7,8,9,10\n",
    "print(n1, n2, n3, n4)\n",
    "print(\"-\"*40)\n",
    "n1, * n2, n3, n4 = 1,2,3,4,5,6,7,8,9,10\n",
    "print(n1, n2, n3, n4)\n",
    "print(\"-\"*40)\n",
    "*n1, n2, n3, n4 = 1,2,3,4,5,6,7,8,9,10\n",
    "print(n1, n2, n3, n4)\n",
    "print(\"-\"*40)"
   ]
  },
  {
   "cell_type": "code",
   "execution_count": 14,
   "id": "abcd86fa",
   "metadata": {},
   "outputs": [
    {
     "name": "stdout",
     "output_type": "stream",
     "text": [
      "이름 나이 주소 \n",
      "이름 나이 주소 글로벌 23 관악 \n",
      "('이름', '글로벌') ('나이', 23) ('주소', '관악') \n",
      "이름 글로벌 나이 23 주소 관악 \n"
     ]
    }
   ],
   "source": [
    "'''\n",
    "keyword parameter\n",
    " ㄴ 키워드 매개변수 : **kwargs(cf. *param)\n",
    "     ㄴ 매개변수가 dictionary를 전달 받는 것\n",
    "'''\n",
    "def test2(**kwargs):\n",
    "    for key in kwargs:\n",
    "        print(key, end = \" \")\n",
    "    print()\n",
    "    for key in kwargs.keys():\n",
    "        print(key, end =\" \")\n",
    "    for value in kwargs.values():\n",
    "        print(value, end = \" \")\n",
    "    print()\n",
    "    for item in kwargs.items():\n",
    "        print(item, end = \" \")\n",
    "    print()\n",
    "    for k, v in kwargs.items():\n",
    "        print(k, v, end = \" \")\n",
    "    print()\n",
    "    \n",
    "test2(이름=\"글로벌\", 나이 = 23, 주소 =\"관악\")\n",
    "person_info = {\"이름\":\"글로벌\",\"나이\": 24, \"주소\":\"관악\"}"
   ]
  },
  {
   "cell_type": "code",
   "execution_count": 15,
   "id": "14732bfb",
   "metadata": {},
   "outputs": [
    {
     "name": "stdout",
     "output_type": "stream",
     "text": [
      "당신의 이름은 글로벌입니다\n",
      "당신의 이름은 아이티입니다\n",
      "당신의 이름은 개발원입니다\n"
     ]
    }
   ],
   "source": [
    "def greeting(**say_hello):\n",
    "    for key, value, in say_hello.items():\n",
    "        if \"mama\" in say_hello.items():\n",
    "            print(\"엄마\", \"안녕하세요\")\n",
    "        else:\n",
    "            print(f\"당신의 이름은 {value}입니다\")\n",
    "greeting(papa = \"글로벌\")\n",
    "greeting(mama = \"아이티\")\n",
    "greeting(sister = \"개발원\")"
   ]
  },
  {
   "cell_type": "code",
   "execution_count": 17,
   "id": "2f1cd559",
   "metadata": {},
   "outputs": [
    {
     "name": "stdout",
     "output_type": "stream",
     "text": [
      "삼성\n",
      "삼성증권\n",
      "삼성전자\n",
      "삼성물산\n",
      "company1_profit 영업이익: 1000 원\n",
      "company2_profit 영업이익: 2000 원\n",
      "company3_profit 영업이익: 3000 원\n"
     ]
    }
   ],
   "source": [
    "def company_info(name, *companies, **profits):\n",
    "    print(name)\n",
    "    for company in companies:\n",
    "        print(company)\n",
    "    for company, profit in profits.items():\n",
    "        print(company, \"영업이익:\", profit, \"원\")\n",
    "\n",
    "name = \"삼성\"\n",
    "company1 = \"삼성증권\"\n",
    "company2 = \"삼성전자\"\n",
    "company3 = \"삼성물산\"\n",
    "\n",
    "company_info(name, company1, company2, company3,\n",
    "            company1_profit=1000, company2_profit=2000, company3_profit =3000)"
   ]
  },
  {
   "cell_type": "code",
   "execution_count": 18,
   "id": "7d2cfeae",
   "metadata": {},
   "outputs": [
    {
     "name": "stdout",
     "output_type": "stream",
     "text": [
      "result: (18, 2, 80, 1.25)\n",
      "18\n",
      "2\n",
      "80\n",
      "1.25\n"
     ]
    }
   ],
   "source": [
    "# 함수의 return 값은 항상 하나임\n",
    "def multi_calc(n1, n2):\n",
    "    return n1+n2, n1-n2, n1*n2, n1/n2\n",
    "\n",
    "result = multi_calc(10,8)\n",
    "print(\"result:\", result)\n",
    "\n",
    "add, subtract, multi, dvision = multi_calc(10,8)\n",
    "print(add)\n",
    "print(subtract)\n",
    "print(multi)\n",
    "print(dvision)"
   ]
  },
  {
   "cell_type": "code",
   "execution_count": 21,
   "id": "fccaa48f",
   "metadata": {},
   "outputs": [
    {
     "name": "stdout",
     "output_type": "stream",
     "text": [
      "덧셈\n",
      "result : 30\n",
      "------------------------------\n"
     ]
    }
   ],
   "source": [
    "'''\n",
    "return\n",
    "1)함수를 종료함\n",
    "2) 프로그램의 흐름을 함수로 호출한곳으로 되돌림\n",
    "     ㄴ return 값이 있는 경우에는 호출한 곳으로\n",
    "        return 값을 되돌려줌\n",
    "'''\n",
    "def add(n1, n2):\n",
    "    print(\"덧셈\")\n",
    "    return n1 + n2\n",
    "result = add(10, 20)\n",
    "print(\"result :\", result)\n",
    "print(\"-\" * 30)\n",
    "\n",
    "def say_hello(name):\n",
    "    if name == \"글로벌\":\n",
    "        return\n",
    "    print(f\"{name} 님, 안녕하세요\")\n",
    "    \n",
    "'''\n",
    "name 에 전달된 이름이 글로벌인 경우에는\n",
    "if 문이 True가 되어서 return이 동작해서 함수가 종료됨\n",
    "ㄴ 안녕하세요가 출력되지 않음\n",
    "'''\n",
    "say_hello(\"이순신\")\n",
    "say_hello(\"글로벌\")\n",
    "say_hello(\"아이티\")\n",
    "say_hello(\"아카데미\")"
   ]
  },
  {
   "cell_type": "code",
   "execution_count": null,
   "id": "02643cc2",
   "metadata": {},
   "outputs": [],
   "source": [
    "'''\n",
    "전역변수 : global variable\n",
    "           함수 바깥 영역에서 선언된 변수\n",
    "           함수 내부에서는 윈칙적으로 전역변수를 사용할 수 없음\n",
    "                                      ㄴ 전역변수에 접근할 수 없음\n",
    "           \n",
    "지역변수 : local variable\n",
    "           함수 내부에서 선언된 변수\n",
    "           함수가 실행될 때, 함수의 실행을 위해서\n",
    "           메모리 공간이 할당되는데, 지역변수는 이곳에서 생성됨\n",
    "           ㄴ 전역변수가 생성되는 영역하고 다름\n",
    "           매개변수도 함수 내부에서 선언되는 변수이름으로 지역변수임\n",
    "           함수 바깥쪽에서 지역변수에 바로 접근할 수 없음\n",
    "           함수의 지역변수의 값을 함수 외부에서 사용하려면\n",
    "           함수에서 이 값을 return해 주어야함\n",
    "\n",
    "전역변수와 지역변수의 이름이 같은 경우에도\n",
    "서로 선언된 영역이 다르므로 이를 중복 에러가 발생하지 않음\n",
    "이 두 변수는 이름만 같고 다른 변수임\n",
    "'''"
   ]
  },
  {
   "cell_type": "code",
   "execution_count": 23,
   "id": "f2eb4c62",
   "metadata": {},
   "outputs": [
    {
     "name": "stdout",
     "output_type": "stream",
     "text": [
      "30\n",
      "parameter로 전달된 값을 함수 내부에서 계산함(return한 것은 아님): 10 20\n",
      "함수를 호출하면서 값을 전달해 주고 함수 내부에서 그 값들로 계산한 결과를 return 함 : 200\n"
     ]
    }
   ],
   "source": [
    "num1 = 10\n",
    "num2 = 20\n",
    "print(num1 + num2)\n",
    "def add(num1, num2):\n",
    "    print(\"parameter로 전달된 값을 함수 내부에서 계산함(return한 것은 아님):\",num1, num2)\n",
    "add(10,20)\n",
    "\n",
    "def multi(num1, num2):\n",
    "    return num1 * num2\n",
    "result = multi(10, 20)\n",
    "print(\"함수를 호출하면서 값을 전달해 주고 함수 내부에서 그 값들로 계산한 결과를 return 함 :\", result)\n"
   ]
  },
  {
   "cell_type": "code",
   "execution_count": 24,
   "id": "177ba988",
   "metadata": {},
   "outputs": [
    {
     "name": "stdout",
     "output_type": "stream",
     "text": [
      "number (지역변수): 2\n",
      "number (전역변수) : 1\n"
     ]
    }
   ],
   "source": [
    "# 전역변수\n",
    "number = 1\n",
    "def test1(number):\n",
    "    # 지역변수\n",
    "    number = number +1\n",
    "    print(\"number (지역변수):\", number)\n",
    "    \n",
    "test1(number)\n",
    "print(\"number (전역변수) :\", number)"
   ]
  },
  {
   "cell_type": "code",
   "execution_count": 25,
   "id": "ebc97cc0",
   "metadata": {},
   "outputs": [
    {
     "name": "stdout",
     "output_type": "stream",
     "text": [
      "-- 함수 외부 (전역) --\n",
      "number (전역변수) : 1\n",
      "-- 함수 내부 (지역) --\n",
      "number (지역변수) : 1\n",
      "number (지역변수) : 2\n",
      "return 값: 2\n",
      "-- 함수 외부 (전역) --\n",
      "number (전역변수) : 1\n"
     ]
    }
   ],
   "source": [
    "# 전역변수\n",
    "number = 1\n",
    "print(\"-- 함수 외부 (전역) --\")\n",
    "print(\"number (전역변수) :\",number) \n",
    "\n",
    "def test1(number):\n",
    "    print(\"-- 함수 내부 (지역) --\")\n",
    "    print(\"number (지역변수) :\", number)\n",
    "# 지역변수\n",
    "    number = number +1\n",
    "    print(\"number (지역변수) :\",number)\n",
    "    return number\n",
    "\n",
    "result = test1(number)  \n",
    "print(\"return 값:\", result)\n",
    "print(\"-- 함수 외부 (전역) --\")\n",
    "print(\"number (전역변수) :\",number) "
   ]
  },
  {
   "cell_type": "code",
   "execution_count": 26,
   "id": "b03af0e1",
   "metadata": {},
   "outputs": [
    {
     "name": "stdout",
     "output_type": "stream",
     "text": [
      "test2() 호출됨\n",
      "함수 내부에서 전역변수를 사용하고자 global 키워드로 선언함\n",
      "number2 (함수 내부에서 전역변수를 사용함) : 1\n",
      "number2 (함수 내부에서 전역변수를 사용함) : 2\n",
      "number2 (함수 내부에서 전역변수의 값을 증가시켰으므로 그 결과가 반영됨) : 2\n"
     ]
    }
   ],
   "source": [
    "'''\n",
    "global 키워드를 사용해서\n",
    "함수 내부에서 전역변수를 사용할 수 있음\n",
    "'''\n",
    "number2 = 1\n",
    "def test2():\n",
    "    print(\"test2() 호출됨\")\n",
    "    print(\"함수 내부에서 전역변수를 사용하고자 global 키워드로 선언함\")\n",
    "    global number2\n",
    "    print(\"number2 (함수 내부에서 전역변수를 사용함) :\", number2)\n",
    "    number2 = number2 +1\n",
    "    print(\"number2 (함수 내부에서 전역변수를 사용함) :\", number2)\n",
    "\n",
    "test2()\n",
    "print(\"number2 (함수 내부에서 전역변수의 값을 증가시켰으므로 그 결과가 반영됨) :\", number2)"
   ]
  },
  {
   "cell_type": "code",
   "execution_count": 27,
   "id": "9f5f6a54",
   "metadata": {},
   "outputs": [
    {
     "name": "stdout",
     "output_type": "stream",
     "text": [
      "number in inner() : 333\n",
      "number in outer() : 222\n",
      "number (global) : 111\n"
     ]
    }
   ],
   "source": [
    "'''\n",
    "함수 내부에서 함수를 작성(정의)할 수 있음\n",
    "'''\n",
    "# 전역변수\n",
    "number = 111\n",
    "def outer():\n",
    "    # outer 함수의 지역변수\n",
    "    number = 222\n",
    "    def inner():\n",
    "    # inner 함수의 지역변수\n",
    "        number = 333\n",
    "        print(\"number in inner() :\",number)\n",
    "    # outer() 함수 내부에서 inner() 를 호출함\n",
    "    inner()\n",
    "    print(\"number in outer() :\",number)\n",
    "\n",
    "'''\n",
    "inner() 함수는 outer() 함수 내부에서 작성(정의)되었고\n",
    "               outer() 함수 내부에서 호출됨\n",
    "  ㄴ inner() 함수를 실행시킬려면 outer() 함수를 호출해야 함               \n",
    "''' \n",
    "# outer() 함수 외부에서 inner() 함수를 직접 호출할 수 없음\n",
    "# inner()\n",
    "# outer() 함수를 호출함\n",
    "outer()\n",
    "print(\"number (global) :\",number)"
   ]
  },
  {
   "cell_type": "code",
   "execution_count": null,
   "id": "b960fc8c",
   "metadata": {},
   "outputs": [],
   "source": []
  },
  {
   "cell_type": "code",
   "execution_count": null,
   "id": "3478b5c4",
   "metadata": {},
   "outputs": [],
   "source": []
  },
  {
   "cell_type": "code",
   "execution_count": null,
   "id": "19e30e24",
   "metadata": {},
   "outputs": [],
   "source": []
  },
  {
   "cell_type": "code",
   "execution_count": null,
   "id": "12e45de1",
   "metadata": {},
   "outputs": [],
   "source": []
  }
 ],
 "metadata": {
  "kernelspec": {
   "display_name": "Python 3 (ipykernel)",
   "language": "python",
   "name": "python3"
  },
  "language_info": {
   "codemirror_mode": {
    "name": "ipython",
    "version": 3
   },
   "file_extension": ".py",
   "mimetype": "text/x-python",
   "name": "python",
   "nbconvert_exporter": "python",
   "pygments_lexer": "ipython3",
   "version": "3.9.7"
  }
 },
 "nbformat": 4,
 "nbformat_minor": 5
}
