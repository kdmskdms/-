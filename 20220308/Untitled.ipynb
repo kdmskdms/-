{
 "cells": [
  {
   "cell_type": "code",
   "execution_count": 3,
   "id": "e1971cb7",
   "metadata": {},
   "outputs": [
    {
     "name": "stdout",
     "output_type": "stream",
     "text": [
      "다음 함수의 결과 값을 예측하시오\n",
      "None\n"
     ]
    }
   ],
   "source": [
    "import numpy as np\n",
    "print(\"다음 함수의 결과 값을 예측하시오\")\n",
    "\n",
    "def ex1():\n",
    "    num1 = 2\n",
    "    num2 = 4\n",
    "    total = num1 * num2 + num1 - num2\n",
    "    return\n",
    "print(ex1())"
   ]
  },
  {
   "cell_type": "code",
   "execution_count": 4,
   "id": "f6a02f25",
   "metadata": {},
   "outputs": [
    {
     "name": "stdout",
     "output_type": "stream",
     "text": [
      "def 함수를 이용하여 입력값이 홀수인지 짝수인지 판별하는 함수를 작성하시오.\n",
      "숫자를 입력하세여.11\n",
      "홀수입니다\n"
     ]
    }
   ],
   "source": [
    "print(\"def 함수를 이용하여 입력값이 홀수인지 짝수인지 판별하는 함수를 작성하시오.\")\n",
    "number = int(input(\"숫자를 입력하세여.\"))\n",
    "def is_odd_or_even(number):\n",
    "    if number % 2 == 1:\n",
    "        print(\"홀수입니다\")\n",
    "    elif number % 2 == 0:\n",
    "        print(\"짝수입니다\")\n",
    "is_odd_or_even(number)"
   ]
  },
  {
   "cell_type": "code",
   "execution_count": 7,
   "id": "3e4d4ab7",
   "metadata": {},
   "outputs": [
    {
     "name": "stdout",
     "output_type": "stream",
     "text": [
      "3.for 문을 사용해서 리스트에 저장된 값을 다음과 같이 출력하시오.\n",
      "\n",
      "오늘의 메뉴 : 김밥\n",
      "오늘의 메뉴 : 라면\n",
      "오늘의 메뉴 : 튀김\n",
      "\n",
      "오늘의 메뉴 : 김밥\n",
      "오늘의 메뉴 : 라면\n",
      "오늘의 메뉴 : 튀김\n",
      "==================================================\n"
     ]
    }
   ],
   "source": [
    "print(\"3.for 문을 사용해서 리스트에 저장된 값을 다음과 같이 출력하시오.\")\n",
    "print('''\n",
    "오늘의 메뉴 : 김밥\n",
    "오늘의 메뉴 : 라면\n",
    "오늘의 메뉴 : 튀김\n",
    "''')\n",
    "List1 = [\"김밥\", \"라면\", \"튀김\"]\n",
    "for food in List1:\n",
    "    print(\"오늘의 메뉴 :\", food)\n",
    "print(\"=\"*50)\n"
   ]
  },
  {
   "cell_type": "code",
   "execution_count": 8,
   "id": "153b3d9c",
   "metadata": {},
   "outputs": [
    {
     "name": "stdout",
     "output_type": "stream",
     "text": [
      "4.list에 있는 동물이름과 글자수를 출력하시오.\n",
      "\n",
      "List:\n",
      "dog \n",
      "cat \n",
      "parrot\n",
      "      \n",
      "dog 3\n",
      "cat 3\n",
      "parrot 6\n"
     ]
    }
   ],
   "source": [
    "print(\"4.list에 있는 동물이름과 글자수를 출력하시오.\")\n",
    "print('''\n",
    "List:\n",
    "dog \n",
    "cat \n",
    "parrot\n",
    "      ''')\n",
    "list_animal = [\"dog\", \"cat\", \"parrot\"]\n",
    "\n",
    "for name in list_animal:\n",
    "    print(name, len(list(name)))"
   ]
  },
  {
   "cell_type": "code",
   "execution_count": null,
   "id": "7af28cc0",
   "metadata": {},
   "outputs": [],
   "source": []
  }
 ],
 "metadata": {
  "kernelspec": {
   "display_name": "Python 3 (ipykernel)",
   "language": "python",
   "name": "python3"
  },
  "language_info": {
   "codemirror_mode": {
    "name": "ipython",
    "version": 3
   },
   "file_extension": ".py",
   "mimetype": "text/x-python",
   "name": "python",
   "nbconvert_exporter": "python",
   "pygments_lexer": "ipython3",
   "version": "3.9.7"
  }
 },
 "nbformat": 4,
 "nbformat_minor": 5
}
