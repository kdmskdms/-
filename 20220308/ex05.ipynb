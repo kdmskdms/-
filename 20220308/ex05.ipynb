{
 "cells": [
  {
   "cell_type": "code",
   "execution_count": null,
   "id": "4b68ff8d",
   "metadata": {},
   "outputs": [],
   "source": [
    "'''\n",
    " 파일 생성하기\n",
    " \n",
    " 형식)\n",
    " 파일이름 : 파일이름 앞에 경로 포함\n",
    " 변수 = open(\"파일이름.확장자\",\"파일열기모드\",encoding=\"인코딩형식\") \n",
    "   <-- 이렇게 하면 파일 객체가 생성되고 변수를 사용해서 control 함  \n",
    "   \n",
    " 파일열기모드 :\n",
    " \n",
    "   r   읽기모드(read) - 파일을 읽는 경우 : 파일이 없으면 error 발생함\n",
    "   r+  읽기쓰기모드   - 파일이 없으면 error 발생하고\n",
    "                        쓰기의 경우, 기존의 data를 완전히 삭제하고 새로 씀\n",
    "                        global <-- ggg  :  ggg\n",
    "   w   쓰기모드(write)- 파일에 내용을 쓰는 경우 : 파일이 없으면 새로 생성함\n",
    "   w+  읽기쓰기모드   - 파일이 없으면 새로 생성함\n",
    "                        쓰기의 경우, 기존의 data를 덮어씀\n",
    "                        global <-- ggg  :  gggbal\n",
    "   a   추가모드(append)-파일에 기존의 내용이 있으면 그 이후에 추가함\n",
    "                        파일이 없으면 새로 생성함\n",
    "   a+  읽기추가(쓰기) - 파일이 없으면 새로 생성함\n",
    "   \n",
    "   rt (r+t) : t (text mode)\n",
    "   rb (r+b) : b (binary mode)\n",
    "'''"
   ]
  },
  {
   "cell_type": "code",
   "execution_count": null,
   "id": "883e742a",
   "metadata": {},
   "outputs": [],
   "source": []
  },
  {
   "cell_type": "code",
   "execution_count": null,
   "id": "b86aae37",
   "metadata": {},
   "outputs": [],
   "source": []
  },
  {
   "cell_type": "code",
   "execution_count": null,
   "id": "c993d955",
   "metadata": {},
   "outputs": [],
   "source": []
  },
  {
   "cell_type": "code",
   "execution_count": null,
   "id": "43476673",
   "metadata": {},
   "outputs": [],
   "source": []
  }
 ],
 "metadata": {
  "hide_input": false,
  "kernelspec": {
   "display_name": "Python 3 (ipykernel)",
   "language": "python",
   "name": "python3"
  },
  "language_info": {
   "codemirror_mode": {
    "name": "ipython",
    "version": 3
   },
   "file_extension": ".py",
   "mimetype": "text/x-python",
   "name": "python",
   "nbconvert_exporter": "python",
   "pygments_lexer": "ipython3",
   "version": "3.9.7"
  },
  "toc": {
   "base_numbering": 1,
   "nav_menu": {},
   "number_sections": true,
   "sideBar": true,
   "skip_h1_title": false,
   "title_cell": "Table of Contents",
   "title_sidebar": "Contents",
   "toc_cell": false,
   "toc_position": {},
   "toc_section_display": true,
   "toc_window_display": false
  },
  "varInspector": {
   "cols": {
    "lenName": 16,
    "lenType": 16,
    "lenVar": 40
   },
   "kernels_config": {
    "python": {
     "delete_cmd_postfix": "",
     "delete_cmd_prefix": "del ",
     "library": "var_list.py",
     "varRefreshCmd": "print(var_dic_list())"
    },
    "r": {
     "delete_cmd_postfix": ") ",
     "delete_cmd_prefix": "rm(",
     "library": "var_list.r",
     "varRefreshCmd": "cat(var_dic_list()) "
    }
   },
   "types_to_exclude": [
    "module",
    "function",
    "builtin_function_or_method",
    "instance",
    "_Feature"
   ],
   "window_display": false
  }
 },
 "nbformat": 4,
 "nbformat_minor": 5
}
