{
 "cells": [
  {
   "cell_type": "code",
   "execution_count": 1,
   "id": "1f255f3a",
   "metadata": {},
   "outputs": [
    {
     "name": "stdout",
     "output_type": "stream",
     "text": [
      "225\n"
     ]
    }
   ],
   "source": [
    "def outer():    \n",
    "    number = 222\n",
    "    def inner():        \n",
    "        result = number + 3\n",
    "        return result\n",
    "    return inner\n",
    "return_funct = outer()\n",
    "return_value = return_funct()\n",
    "print(return_value)"
   ]
  },
  {
   "cell_type": "code",
   "execution_count": 2,
   "id": "79c92767",
   "metadata": {},
   "outputs": [
    {
     "name": "stdout",
     "output_type": "stream",
     "text": [
      "return_value : 133\n"
     ]
    }
   ],
   "source": [
    "def outer2():\n",
    "    num1 = 11\n",
    "    num2 = 22\n",
    "    num3 = 33\n",
    "    def inner2(number):\n",
    "        total = num1 + num2 + number\n",
    "        return total\n",
    "    return inner2\n",
    "return_funct = outer2()\n",
    "return_value = return_funct(100)\n",
    "print(\"return_value :\",return_value)"
   ]
  },
  {
   "cell_type": "code",
   "execution_count": 4,
   "id": "6c8f1dc5",
   "metadata": {},
   "outputs": [
    {
     "name": "stdout",
     "output_type": "stream",
     "text": [
      "35\n"
     ]
    }
   ],
   "source": [
    "def calc():\n",
    "    n1 = 3\n",
    "    n2 = 5\n",
    "    def multi_add(n3):\n",
    "        return n1 * n3 + n2\n",
    "    return multi_add\n",
    "print(calc()(10))"
   ]
  },
  {
   "cell_type": "code",
   "execution_count": 5,
   "id": "b0fd1580",
   "metadata": {},
   "outputs": [
    {
     "name": "stdout",
     "output_type": "stream",
     "text": [
      "calc2()(10) : 35\n"
     ]
    }
   ],
   "source": [
    "def calc2():\n",
    "    n1 = 3\n",
    "    n2 = 5\n",
    "    return lambda n3 : n1 * n3 + 5\n",
    "\n",
    "print(\"calc2()(10) :\",calc2()(10))"
   ]
  },
  {
   "cell_type": "code",
   "execution_count": null,
   "id": "6abad4e0",
   "metadata": {},
   "outputs": [],
   "source": []
  },
  {
   "cell_type": "code",
   "execution_count": null,
   "id": "6ba0e641",
   "metadata": {},
   "outputs": [],
   "source": []
  }
 ],
 "metadata": {
  "kernelspec": {
   "display_name": "Python 3 (ipykernel)",
   "language": "python",
   "name": "python3"
  },
  "language_info": {
   "codemirror_mode": {
    "name": "ipython",
    "version": 3
   },
   "file_extension": ".py",
   "mimetype": "text/x-python",
   "name": "python",
   "nbconvert_exporter": "python",
   "pygments_lexer": "ipython3",
   "version": "3.9.7"
  }
 },
 "nbformat": 4,
 "nbformat_minor": 5
}
