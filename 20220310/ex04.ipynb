{
 "cells": [
  {
   "cell_type": "code",
   "execution_count": null,
   "id": "265e82d3",
   "metadata": {},
   "outputs": [],
   "source": [
    "'''\n",
    " 클래스 : data 를 메모리에 loading 시킬 때\n",
    "          어떤 구성(모양)으로 loading 할지를\n",
    "          설명해 놓은 code - 설계도 / 설명서\n",
    "          \n",
    "                   클래스라는 설명서 안에 작성하는 내용\n",
    "          클래스 = 멤버변수 + 멤버메소드\n",
    "                    ㄴ 값       ㄴ 특정 타입에 속한 함수(동작을 일으킴)\n",
    "                      (상태 - status)     ㄴ 클래스, 객체\n",
    "                                   특정 클래스 안에 작성(정의)된 함수      \n",
    "                    property(속성) + method(기능(동작))    \n",
    "          \n",
    "          클래스에 설명한 내용대로 메모리에 data 를 올리라고 하는 명령어 형식\n",
    "            ㄴ 클래스이름()\n",
    "\n",
    "    (객체)Object = 속성        +   기능\n",
    "                   property        method\n",
    "                   status(상태)\n",
    "\n",
    " 객체(Object, instance)\n",
    "        : 클래스에 설명해 놓은대로\n",
    "          메모리에 loading 되어서\n",
    "          활성화된 상태의 data - 실체\n",
    "           ㄴ 실제로 사용 가능한 상태\n",
    " 형식)\n",
    " \n",
    " class 클래스이름:\n",
    "      멤버변수\n",
    "      생성자\n",
    "      (멤버)메소드\n",
    "      \n",
    " 클래스의 내용이 작성되어있는 부분을\n",
    " python interprepter 가 읽었다고 해서 <- 기억용으로 메모리에 올림\n",
    " 바로 그 내용이 실행되는 것이 아님        (정보만 메모리에 올림)\n",
    "   ㄴ 클래스에 설명되어있는대로 data 를 메모리에 올려야  <-- 클래스이름()\n",
    "      해당 클래스에 작성되어진대로 내용들이 메모리에서\n",
    "      실제로 사용 가능한 상태로 올라감\n",
    "      \n",
    "'''"
   ]
  },
  {
   "cell_type": "code",
   "execution_count": null,
   "id": "851971f7",
   "metadata": {},
   "outputs": [],
   "source": [
    "name=\"글로벌\"\n",
    "number = 10\n",
    "\n"
   ]
  },
  {
   "cell_type": "code",
   "execution_count": null,
   "id": "6e1c67b7",
   "metadata": {},
   "outputs": [],
   "source": []
  },
  {
   "cell_type": "code",
   "execution_count": null,
   "id": "c58395cd",
   "metadata": {},
   "outputs": [],
   "source": []
  }
 ],
 "metadata": {
  "hide_input": false,
  "kernelspec": {
   "display_name": "Python 3 (ipykernel)",
   "language": "python",
   "name": "python3"
  },
  "language_info": {
   "codemirror_mode": {
    "name": "ipython",
    "version": 3
   },
   "file_extension": ".py",
   "mimetype": "text/x-python",
   "name": "python",
   "nbconvert_exporter": "python",
   "pygments_lexer": "ipython3",
   "version": "3.9.7"
  },
  "toc": {
   "base_numbering": 1,
   "nav_menu": {},
   "number_sections": true,
   "sideBar": true,
   "skip_h1_title": false,
   "title_cell": "Table of Contents",
   "title_sidebar": "Contents",
   "toc_cell": false,
   "toc_position": {},
   "toc_section_display": true,
   "toc_window_display": false
  },
  "varInspector": {
   "cols": {
    "lenName": 16,
    "lenType": 16,
    "lenVar": 40
   },
   "kernels_config": {
    "python": {
     "delete_cmd_postfix": "",
     "delete_cmd_prefix": "del ",
     "library": "var_list.py",
     "varRefreshCmd": "print(var_dic_list())"
    },
    "r": {
     "delete_cmd_postfix": ") ",
     "delete_cmd_prefix": "rm(",
     "library": "var_list.r",
     "varRefreshCmd": "cat(var_dic_list()) "
    }
   },
   "types_to_exclude": [
    "module",
    "function",
    "builtin_function_or_method",
    "instance",
    "_Feature"
   ],
   "window_display": false
  }
 },
 "nbformat": 4,
 "nbformat_minor": 5
}
