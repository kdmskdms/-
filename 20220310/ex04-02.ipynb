{
 "cells": [
  {
   "cell_type": "code",
   "execution_count": 1,
   "id": "25aefb27",
   "metadata": {},
   "outputs": [
    {
     "name": "stdout",
     "output_type": "stream",
     "text": [
      "tp1 : ()\n",
      "tp2 : ()\n",
      "tp1 : <class 'tuple'>\n",
      "tp2 : <class 'tuple'>\n"
     ]
    }
   ],
   "source": [
    "tp1 = ()\n",
    "tp2 = tuple()\n",
    "print(\"tp1 :\", tp1)\n",
    "print(\"tp2 :\", tp2)\n",
    "print(\"tp1 :\", type(tp1))\n",
    "print(\"tp2 :\", type(tp2))"
   ]
  },
  {
   "cell_type": "code",
   "execution_count": 2,
   "id": "394b3f91",
   "metadata": {},
   "outputs": [
    {
     "name": "stdout",
     "output_type": "stream",
     "text": [
      "tp3: (3,)\n",
      "tp3_1: 3\n",
      "tp3: <class 'tuple'>\n",
      "tp3_1: <class 'int'>\n"
     ]
    }
   ],
   "source": [
    "tp3 = (3,)\n",
    "tp3_1 = (3)\n",
    "print(\"tp3:\", tp3)\n",
    "print(\"tp3_1:\", tp3_1)\n",
    "print(\"tp3:\", type(tp3))\n",
    "print(\"tp3_1:\", type(tp3_1))"
   ]
  },
  {
   "cell_type": "code",
   "execution_count": 4,
   "id": "fcfe33b2",
   "metadata": {},
   "outputs": [
    {
     "name": "stdout",
     "output_type": "stream",
     "text": [
      "result : (1, 2, 3, 4, 5, 'python', 'class', 'variable')\n",
      "(1, 2, 3, 4, 5, 1, 2, 3, 4, 5)\n"
     ]
    }
   ],
   "source": [
    "tp4 = (1, 2, 3, 4, 5)\n",
    "tp5 = 1, 2, 3, 4, 5\n",
    "tp6 = (\"python\", \"class\", \"variable\")\n",
    "tp7 = (1, 2, 3, \"python\", (\"best\", \"program\"))\n",
    "result = tp4 + tp6\n",
    "print(\"result :\", result)\n",
    "print(tp5 * 2)"
   ]
  },
  {
   "cell_type": "code",
   "execution_count": 7,
   "id": "3c9cd5a3",
   "metadata": {},
   "outputs": [
    {
     "name": "stdout",
     "output_type": "stream",
     "text": [
      "tuple_movies: ('라바', '문어선생님', '지구의밤')\n",
      "tuple_movies: <class 'tuple'>\n",
      "m1 : 라바\n",
      "m2 : 문어선생님\n",
      "m3 : 지구의밤\n",
      "tuple_movies : 3\n"
     ]
    }
   ],
   "source": [
    "tuple_movies = (\"라바\", \"문어선생님\", \"지구의밤\")\n",
    "print(\"tuple_movies:\", tuple_movies)\n",
    "print(\"tuple_movies:\", type(tuple_movies))\n",
    "#unpack\n",
    "m1, m2, m3 = tuple_movies\n",
    "print(\"m1 :\", m1)\n",
    "print(\"m2 :\", m2)\n",
    "print(\"m3 :\", m3)\n",
    "print(\"tuple_movies :\", len(tuple_movies))"
   ]
  },
  {
   "cell_type": "code",
   "execution_count": 12,
   "id": "f71371ea",
   "metadata": {},
   "outputs": [
    {
     "name": "stdout",
     "output_type": "stream",
     "text": [
      "range(1, 11)\n",
      "[1, 2, 3, 4, 5, 6, 7, 8, 9, 10]\n",
      "(1, 2, 3, 4, 5, 6, 7, 8, 9, 10)\n",
      "[1, 3, 5, 7, 9]\n",
      "[2, 4, 6, 8, 10]\n"
     ]
    }
   ],
   "source": [
    "print(range(1,11))\n",
    "print(list(range(1,11)))\n",
    "print(tuple(range(1,11)))\n",
    "# 1부터 10까지 홀수만 출력하기\n",
    "print(list(range(1,11,2)))\n",
    "\n",
    "# 1부터 10까지 짝수만 출력하기\n",
    "print(list(range(2,11,2)))"
   ]
  },
  {
   "cell_type": "code",
   "execution_count": 9,
   "id": "a4146381",
   "metadata": {},
   "outputs": [
    {
     "name": "stdout",
     "output_type": "stream",
     "text": [
      "list_nums : [1, 2, 3, 4, 5, 6, 7, 8, 9, 10]\n",
      "tuple_nums: <class 'tuple'>\n",
      "numbers : [1, 2, 2, 3, 3, 3, 4, 4, 4, 4, 4, 5, 5, 5, 5, 5]\n",
      "numbers : <class 'list'>\n",
      "numbers : [1, 2, 2, 3, 3, 3, 4, 4, 4, 4, 4, 5, 5, 5, 5, 5]\n",
      "numbers : <class 'list'>\n",
      "set_numbers : {1, 2, 3, 4, 5}\n",
      "set_numbers : <class 'set'>\n"
     ]
    }
   ],
   "source": [
    "list_nums = (list(range(1,11)))\n",
    "print(\"list_nums :\",list_nums)\n",
    "tuple_nums = tuple(list_nums)\n",
    "print(\"tuple_nums:\", type(tuple_nums))\n",
    "numbers = [1, 2, 2, 3, 3, 3, 4, 4, 4, 4, 4, 5, 5, 5 , 5, 5]\n",
    "print(\"numbers :\", numbers)\n",
    "print(\"numbers :\", type(numbers))\n",
    "numbers = list(numbers)\n",
    "print(\"numbers :\", numbers)\n",
    "print(\"numbers :\", type(numbers))\n",
    "set_numbers = set(numbers)\n",
    "print(\"set_numbers :\", set_numbers)\n",
    "print(\"set_numbers :\", type(set_numbers))"
   ]
  },
  {
   "cell_type": "code",
   "execution_count": null,
   "id": "af441d6c",
   "metadata": {},
   "outputs": [],
   "source": []
  },
  {
   "cell_type": "code",
   "execution_count": null,
   "id": "d8045f91",
   "metadata": {},
   "outputs": [],
   "source": []
  }
 ],
 "metadata": {
  "kernelspec": {
   "display_name": "Python 3 (ipykernel)",
   "language": "python",
   "name": "python3"
  },
  "language_info": {
   "codemirror_mode": {
    "name": "ipython",
    "version": 3
   },
   "file_extension": ".py",
   "mimetype": "text/x-python",
   "name": "python",
   "nbconvert_exporter": "python",
   "pygments_lexer": "ipython3",
   "version": "3.9.7"
  }
 },
 "nbformat": 4,
 "nbformat_minor": 5
}
