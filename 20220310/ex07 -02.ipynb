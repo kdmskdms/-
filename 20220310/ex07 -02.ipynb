{
 "cells": [
  {
   "cell_type": "code",
   "execution_count": 1,
   "id": "def24a0c",
   "metadata": {},
   "outputs": [
    {
     "name": "stdout",
     "output_type": "stream",
     "text": [
      "dict1 : {}\n",
      "dict2 : {}\n",
      "dict2: {'name': '이순신'}\n",
      "dict2: {'name': '이순신', 'age': 48}\n"
     ]
    }
   ],
   "source": [
    "dict1 = {}\n",
    "dict2 = dict()\n",
    "print(\"dict1 :\", dict1)\n",
    "print(\"dict2 :\", dict2)\n",
    "\n",
    "dict2[\"name\"] = \"이순신\"\n",
    "print(\"dict2:\", dict2)\n",
    "dict2[\"age\"] = 48\n",
    "print(\"dict2:\", dict2)"
   ]
  },
  {
   "cell_type": "code",
   "execution_count": 2,
   "id": "df321713",
   "metadata": {},
   "outputs": [
    {
     "name": "stdout",
     "output_type": "stream",
     "text": [
      "dict_info: {'name': '이순신', 'age': 48, 'weight': 48, 'addr': '서울'}\n",
      "dict_info: {'name': '이순신', 'age': 48, 'weight': 82, 'addr': '서울'}\n",
      "dict_info: {'name': '이순신', 'age': 48, 'weight': 82, 'addr': '서울', 'birth': '0428'}\n"
     ]
    }
   ],
   "source": [
    "dict_info = {\"name\" : \"이순신\", \"age\": 48, \"weight\" : 48, \"addr\" : \"서울\"}\n",
    "print(\"dict_info:\", dict_info)\n",
    "dict_info[\"weight\"] = 82\n",
    "print(\"dict_info:\", dict_info)\n",
    "\n",
    "dict_info[\"birth\"] = \"0428\"\n",
    "print(\"dict_info:\", dict_info)"
   ]
  },
  {
   "cell_type": "code",
   "execution_count": 3,
   "id": "43f66f7b",
   "metadata": {},
   "outputs": [
    {
     "name": "stdout",
     "output_type": "stream",
     "text": [
      "3월 2일 : [10100, 10000, 10500, 10200]\n",
      "dict_market : {'0301': [10500, 10100, 10800, 10600], '0302': [10100, 10000, 10500, 10200], '0303': [10300, 10100, 10900, 10300], '0304': [10200, 10000, 10500, 10600]}\n"
     ]
    }
   ],
   "source": [
    "dict_market = {\n",
    "               \"0301\" : [10500, 10100, 10800, 10600],\n",
    "               \"0302\" : [10100, 10000, 10500, 10200],\n",
    "               \"0303\" : [10300, 10100, 10900, 10300]\n",
    "               }\n",
    "print(\"3월 2일 :\", dict_market[\"0302\"])\n",
    "dict_market[\"0304\"] = [10200, 10000, 10500, 10600]\n",
    "print(\"dict_market :\", dict_market)"
   ]
  },
  {
   "cell_type": "code",
   "execution_count": 4,
   "id": "7fd129d6",
   "metadata": {},
   "outputs": [
    {
     "name": "stdout",
     "output_type": "stream",
     "text": [
      "dict_fruit : {11: 'apple', 22: 'strawberry', 33: 'banana', 44: 'mango', 55: ['watermelon']}\n"
     ]
    }
   ],
   "source": [
    "dict_fruit = {11:\"apple\", 22:\"strawberry\", 33:\"banana\", 44:\"mango\"}\n",
    "dict_fruit[55] = [\"watermelon\"]\n",
    "print(\"dict_fruit :\", dict_fruit)"
   ]
  },
  {
   "cell_type": "code",
   "execution_count": 5,
   "id": "605989e1",
   "metadata": {},
   "outputs": [
    {
     "name": "stdout",
     "output_type": "stream",
     "text": [
      "dict_fruit {11: 'apple', 22: ['orange'], 33: 'banana', 44: 'mango', 55: ['watermelon']}\n"
     ]
    }
   ],
   "source": [
    "dict_fruit[22] = [\"orange\"]\n",
    "print(\"dict_fruit\", dict_fruit)"
   ]
  },
  {
   "cell_type": "code",
   "execution_count": 6,
   "id": "38240b0a",
   "metadata": {},
   "outputs": [
    {
     "name": "stdout",
     "output_type": "stream",
     "text": [
      "dict_student: {'name': ['이순신', '안중근', '유관순'], 'addr': ['동작구', '마포구', '강남구'], 'age': [48, 30, 19]}\n"
     ]
    }
   ],
   "source": [
    "dict_student = {\n",
    "                 \"name\" : [\"이순신\", \"안중근\", \"유관순\"],   \n",
    "                 \"addr\" : [\"동작구\", \"마포구\", \"강남구\"],\n",
    "                 \"age\"  : [48, 30, 19]                \n",
    "                 }\n",
    "print(\"dict_student:\", dict_student)"
   ]
  },
  {
   "cell_type": "code",
   "execution_count": 8,
   "id": "681e172b",
   "metadata": {},
   "outputs": [
    {
     "name": "stdout",
     "output_type": "stream",
     "text": [
      "dict_student : {'name': ['이순신', '안중근', '유관순'], 'addr': ['동작구', '마포구', '강남구'], 'age': [48, 30, 19]}\n",
      "dict_student: {'name': ['이순신', '안중근', '유관순'], 'addr': ['동작구', '마포구', '강남구'], 'age': [48, 30, 19], 'grade': [4, 3, 2]}\n"
     ]
    }
   ],
   "source": [
    "dict_student = {\n",
    "                 \"name\" : [\"이순신\", \"안중근\", \"유관순\"],    \n",
    "                 \"addr\" : [\"동작구\", \"마포구\", \"강남구\"],\n",
    "                 \"age\"  : [48, 30, 19]                \n",
    "                 }\n",
    "print(\"dict_student :\", dict_student)\n",
    "dict_student[\"grade\"] = [4, 3, 2]\n",
    "print(\"dict_student:\", dict_student)"
   ]
  },
  {
   "cell_type": "code",
   "execution_count": 10,
   "id": "862cdc03",
   "metadata": {},
   "outputs": [
    {
     "name": "stdout",
     "output_type": "stream",
     "text": [
      "dict_student.keys() : dict_keys(['name', 'addr', 'age', 'grade'])\n",
      "dict_student.keys() : ['name', 'addr', 'age', 'grade']\n",
      "dict_student.keys() : ('name', 'addr', 'age', 'grade')\n",
      "dict_student.values() : dict_values([['이순신', '안중근', '유관순'], ['동작구', '마포구', '강남구'], [48, 30, 19], [4, 3, 2]])\n",
      "dict_student.values() : [['이순신', '안중근', '유관순'], ['동작구', '마포구', '강남구'], [48, 30, 19], [4, 3, 2]]\n"
     ]
    }
   ],
   "source": [
    "print(\"dict_student.keys() :\", dict_student.keys())\n",
    "print(\"dict_student.keys() :\", list(dict_student.keys()))\n",
    "print(\"dict_student.keys() :\", tuple(dict_student.keys()))\n",
    "\n",
    "print(\"dict_student.values() :\", dict_student.values())\n",
    "print(\"dict_student.values() :\", list(dict_student.values()))"
   ]
  },
  {
   "cell_type": "code",
   "execution_count": 11,
   "id": "8f3ce107",
   "metadata": {},
   "outputs": [
    {
     "name": "stdout",
     "output_type": "stream",
     "text": [
      "dict_student.values() - name : ['이순신', '안중근', '유관순']\n",
      "dict_student.values() - name : ['이순신', '안중근', '유관순']\n",
      "dict_student.values() - name : ['이순신', '안중근', '유관순']\n",
      "dict_student.values() - addr : ['동작구', '마포구', '강남구']\n",
      "dict_student.values() - addr : ['동작구', '마포구', '강남구']\n",
      "dict_student.values() - addr : ['동작구', '마포구', '강남구']\n",
      "dict_student.values() - age : [48, 30, 19]\n",
      "dict_student.values() - age : [48, 30, 19]\n",
      "dict_student.values() - age : [48, 30, 19]\n",
      "dict_student.values() - grade : [4, 3, 2]\n",
      "dict_student.values() - grade : [4, 3, 2]\n",
      "dict_student.values() - grade : [4, 3, 2]\n"
     ]
    }
   ],
   "source": [
    "print(\"dict_student.values() - name :\", list(dict_student.values())[0])\n",
    "print(\"dict_student.values() - name :\", dict_student[\"name\"])\n",
    "print(\"dict_student.values() - name :\", dict_student.get(\"name\"))\n",
    "\n",
    "print(\"dict_student.values() - addr :\", list(dict_student.values())[1])\n",
    "print(\"dict_student.values() - addr :\", dict_student[\"addr\"])\n",
    "print(\"dict_student.values() - addr :\", dict_student.get(\"addr\"))\n",
    "\n",
    "print(\"dict_student.values() - age :\", list(dict_student.values())[2])\n",
    "print(\"dict_student.values() - age :\", dict_student[\"age\"])\n",
    "print(\"dict_student.values() - age :\", dict_student.get(\"age\"))\n",
    "\n",
    "print(\"dict_student.values() - grade :\", list(dict_student.values())[3])\n",
    "print(\"dict_student.values() - grade :\", dict_student[\"grade\"])\n",
    "print(\"dict_student.values() - grade :\", dict_student.get(\"grade\"))"
   ]
  },
  {
   "cell_type": "code",
   "execution_count": 12,
   "id": "06af918d",
   "metadata": {},
   "outputs": [
    {
     "name": "stdout",
     "output_type": "stream",
     "text": [
      "True\n",
      "False\n",
      "True\n"
     ]
    }
   ],
   "source": [
    "print(\"name\" in dict_student)\n",
    "print(\"weight\" in dict_student)\n",
    "print([\"이순신\", \"안중근\", \"유관순\"] in dict_student.values())"
   ]
  },
  {
   "cell_type": "code",
   "execution_count": 13,
   "id": "77d7974e",
   "metadata": {},
   "outputs": [
    {
     "name": "stdout",
     "output_type": "stream",
     "text": [
      "dict_student : {'name': ['이순신', '안중근', '유관순'], 'addr': ['동작구', '마포구', '강남구'], 'age': [48, 30, 19], 'grade': [4, 3, 2]}\n",
      "dict_student : dict_items([('name', ['이순신', '안중근', '유관순']), ('addr', ['동작구', '마포구', '강남구']), ('age', [48, 30, 19]), ('grade', [4, 3, 2])])\n",
      "dict_student : [('name', ['이순신', '안중근', '유관순']), ('addr', ['동작구', '마포구', '강남구']), ('age', [48, 30, 19]), ('grade', [4, 3, 2])]\n",
      "dict_student : (('name', ['이순신', '안중근', '유관순']), ('addr', ['동작구', '마포구', '강남구']), ('age', [48, 30, 19]), ('grade', [4, 3, 2]))\n"
     ]
    }
   ],
   "source": [
    "print(\"dict_student :\", dict_student)\n",
    "print(\"dict_student :\", dict_student.items())\n",
    "print(\"dict_student :\", list(dict_student.items()))\n",
    "print(\"dict_student :\", tuple(dict_student.items()))"
   ]
  },
  {
   "cell_type": "code",
   "execution_count": 15,
   "id": "5ec08e53",
   "metadata": {},
   "outputs": [],
   "source": [
    "dict_student = {\n",
    "              'name': ['이순신', '안중근', '유관순'], \n",
    "              'addr': ['동작구', '마포구', '강남구'], \n",
    "              'age': [48, 30, 19], \n",
    "              'grade': [4, 3, 2]\n",
    "}"
   ]
  },
  {
   "cell_type": "code",
   "execution_count": 16,
   "id": "6e2a9297",
   "metadata": {},
   "outputs": [
    {
     "name": "stdout",
     "output_type": "stream",
     "text": [
      "{'name': ['이순신', '안중근', '유관순'], 'addr': ['동작구', '마포구', '강남구'], 'grade': [4, 3, 2]}\n"
     ]
    }
   ],
   "source": [
    "dict_student.pop(\"age\")\n",
    "print(dict_student)"
   ]
  },
  {
   "cell_type": "code",
   "execution_count": 17,
   "id": "62d658ca",
   "metadata": {},
   "outputs": [
    {
     "name": "stdout",
     "output_type": "stream",
     "text": [
      "{'name': ['이순신', '안중근', '유관순'], 'addr': ['동작구', '마포구', '강남구']}\n"
     ]
    }
   ],
   "source": [
    "dict_student.popitem()\n",
    "print(dict_student)"
   ]
  },
  {
   "cell_type": "code",
   "execution_count": 18,
   "id": "5ec2b9d3",
   "metadata": {},
   "outputs": [
    {
     "name": "stdout",
     "output_type": "stream",
     "text": [
      "{'addr': ['동작구', '마포구', '강남구']}\n"
     ]
    }
   ],
   "source": [
    "del dict_student[\"name\"]\n",
    "print(dict_student)"
   ]
  },
  {
   "cell_type": "code",
   "execution_count": 19,
   "id": "1010a103",
   "metadata": {},
   "outputs": [
    {
     "name": "stdout",
     "output_type": "stream",
     "text": [
      "{'name': ['이순신', '안중근', '유관순'], 'addr': ['동작구', '마포구', '강남구'], 'age': [48, 30, 19], 'grade': [4, 3, 2]}\n"
     ]
    }
   ],
   "source": [
    "dict_student = {\n",
    "              'name': ['이순신', '안중근', '유관순'], \n",
    "              'addr': ['동작구', '마포구', '강남구'], \n",
    "              'age': [48, 30, 19], \n",
    "              'grade': [4, 3, 2]\n",
    "}\n",
    "print(dict_student)"
   ]
  },
  {
   "cell_type": "code",
   "execution_count": 20,
   "id": "588bbe1b",
   "metadata": {},
   "outputs": [
    {
     "name": "stdout",
     "output_type": "stream",
     "text": [
      "{}\n"
     ]
    }
   ],
   "source": [
    "dict_student.clear()\n",
    "print(dict_student)"
   ]
  },
  {
   "cell_type": "code",
   "execution_count": 21,
   "id": "de8c27ac",
   "metadata": {},
   "outputs": [
    {
     "name": "stdout",
     "output_type": "stream",
     "text": [
      "student1 : {'name': ['이순신', '장보고', '유관순'], 'age': [48, 30, 19]}\n",
      "student2 : {'height': [197, 184, 170], 'weight': [92, 81, 56]}\n"
     ]
    }
   ],
   "source": [
    "student1 = {\n",
    "            \"name\": [\"이순신\", \"장보고\", \"유관순\"], \n",
    "            \"age\": [48, 30, 19]\n",
    "            }\n",
    "student2 = {\n",
    "            \"height\": [197, 184, 170], \n",
    "            \"weight\": [92, 81, 56]\n",
    "            }\n",
    "\n",
    "print(\"student1 :\", student1)\n",
    "print(\"student2 :\", student2)"
   ]
  },
  {
   "cell_type": "code",
   "execution_count": 22,
   "id": "bf5af824",
   "metadata": {},
   "outputs": [
    {
     "name": "stdout",
     "output_type": "stream",
     "text": [
      "student1 : {'name': ['이순신', '장보고', '유관순'], 'age': [48, 30, 19], 'height': [197, 184, 170], 'weight': [92, 81, 56]}\n",
      "student2 : {'height': [197, 184, 170], 'weight': [92, 81, 56]}\n"
     ]
    }
   ],
   "source": [
    "student1.update(student2)\n",
    "print(\"student1 :\", student1)\n",
    "print(\"student2 :\", student2)"
   ]
  },
  {
   "cell_type": "code",
   "execution_count": 23,
   "id": "36d193d3",
   "metadata": {},
   "outputs": [
    {
     "name": "stdout",
     "output_type": "stream",
     "text": [
      "student1 : {'name': ['이순신', '장보고', '유관순'], 'age': [48, 30, 19], 'height': [197, 184, 170], 'weight': [92, 81, 56]}\n",
      "student2 : {'height': [197, 184, 170], 'weight': [92, 81, 56], 'name': ['이순신', '장보고', '유관순'], 'age': [48, 30, 19]}\n"
     ]
    }
   ],
   "source": [
    "student2.update(student1)\n",
    "print(\"student1 :\", student1)\n",
    "print(\"student2 :\", student2)"
   ]
  },
  {
   "cell_type": "code",
   "execution_count": 24,
   "id": "a81f30aa",
   "metadata": {},
   "outputs": [
    {
     "name": "stdout",
     "output_type": "stream",
     "text": [
      "student2 : {'height': [197, 184, 170], 'weight': [92, 81, 56], 'name': ['이순신', '장보고', '유관순'], 'age': [48, 30, 19]}\n",
      "student2 : {'height': [197, 184, 172], 'weight': [92, 88, 65], 'name': ['이순신', '장보고', '유관순'], 'age': [58, 40, 29]}\n",
      "student2 : {'height': [197, 177, 172], 'weight': [90, 88, 65], 'name': ['이순신', '장보고', '유관순'], 'age': [58, 40, 29]}\n",
      "student2 : {'height': [197, 177, 172], 'weight': [90, 88, 65], 'name': ['이순신', '장보고', '유관순'], 'age': [63, 45, 34]}\n",
      "student2 : {'height': [197, 177, 172], 'weight': [90, 88, 65], 'name': ['이순신', '장보고', '유관순'], 'age': [63, 45, 34], 'std_no': [1, 2, 3]}\n",
      "student2 : {'height': [197, 177, 172], 'weight': [90, 88, 65], 'name': ['이순신', '장보고', '유관순'], 'age': [63, 45, 34], 'std_no': [1, 2, 3], 'addr': ['서울', '부산', '천안']}\n",
      "student2 : {'height': [197, 177, 172], 'weight': [90, 88, 65], 'name': ['이순신', '장보고', '유관순'], 'age': [68, 50, 39], 'std_no': [1, 2, 3], 'addr': ['서울', '부산', '천안']}\n",
      "student2 : {'height': [197, 177, 172], 'weight': [90, 88, 65], 'name': ['이순신', '장보고', '유관순'], 'age': [68, 50, 39], 'std_no': [1, 2, 3], 'addr': ['서울', '부산', '천안'], 'phone': None}\n",
      "student2 : {'height': [197, 177, 172], 'weight': [90, 88, 65], 'name': ['이순신', '장보고', '유관순'], 'age': [68, 50, 39], 'std_no': [1, 2, 3], 'addr': ['서울', '부산', '천안'], 'phone': None, 'score': [98, 92, 86]}\n",
      "student2 : {'height': [197, 177, 172], 'weight': [90, 88, 65], 'name': ['이순신', '장보고', '유관순'], 'age': [68, 50, 39], 'std_no': [1, 2, 3], 'addr': ['서울', '부산', '천안'], 'phone': None, 'score': [98, 92, 86]}\n",
      "student2 : {'height': [197, 177, 172], 'weight': [90, 88, 65], 'name': ['이순신', '장보고', '유관순'], 'age': [68, 50, 39], 'std_no': [1, 2, 3], 'addr': ['서울', '부산', '천안'], 'phone': None, 'score': [90, 92, 89]}\n"
     ]
    }
   ],
   "source": [
    "print(\"student2 :\", student2)\n",
    "student2.update({'height': [197, 184, 172], 'weight': [92, 88, 65], 'name': ['이순신', '장보고', '유관순'], 'age': [58, 40, 29]})\n",
    "print(\"student2 :\", student2)\n",
    "\n",
    "student2[\"height\"][1] = 177\n",
    "student2[\"weight\"][0]= 90\n",
    "print(\"student2 :\", student2)\n",
    "\n",
    "student2[\"age\"] = [63, 45, 34]\n",
    "print(\"student2 :\", student2)\n",
    "\n",
    "student2[\"std_no\"] = [1, 2, 3]\n",
    "print(\"student2 :\", student2)\n",
    "\n",
    "student2.update(addr = [\"서울\", \"부산\", \"천안\"])\n",
    "print(\"student2 :\", student2)\n",
    "\n",
    "student2.update(age = [68, 50, 39])\n",
    "print(\"student2 :\", student2)\n",
    "\n",
    "\n",
    "student2.setdefault(\"phone\")\n",
    "print(\"student2 :\", student2)\n",
    "\n",
    "student2.setdefault(\"score\",[98, 92, 86])\n",
    "print(\"student2 :\", student2)\n",
    "\n",
    "student2.setdefault(\"score\",[90, 92, 89])\n",
    "print(\"student2 :\", student2)\n",
    "\n",
    "student2.update(score = [90, 92, 89])\n",
    "print(\"student2 :\", student2)"
   ]
  },
  {
   "cell_type": "code",
   "execution_count": null,
   "id": "0a89e80c",
   "metadata": {},
   "outputs": [],
   "source": []
  }
 ],
 "metadata": {
  "kernelspec": {
   "display_name": "Python 3 (ipykernel)",
   "language": "python",
   "name": "python3"
  },
  "language_info": {
   "codemirror_mode": {
    "name": "ipython",
    "version": 3
   },
   "file_extension": ".py",
   "mimetype": "text/x-python",
   "name": "python",
   "nbconvert_exporter": "python",
   "pygments_lexer": "ipython3",
   "version": "3.9.7"
  }
 },
 "nbformat": 4,
 "nbformat_minor": 5
}
