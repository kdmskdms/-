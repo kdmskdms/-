{
 "cells": [
  {
   "cell_type": "code",
   "execution_count": 9,
   "id": "bd5ddfb8",
   "metadata": {},
   "outputs": [
    {
     "name": "stdout",
     "output_type": "stream",
     "text": [
      "list1: <class 'list'>\n",
      "list2: [1, 2, 3, 4, 5]\n",
      "list1 : 1948338820864\n",
      "list2: 1948338820864\n",
      "list1 : [1, 2, 3, 4, 5]\n",
      "list1[:] : [1, 2, 3, 4, 5]\n",
      "list1 : 1948338820864\n",
      "list1[:] : 1948339028032\n",
      "list1 : [1, 2, 333, 4, 5]\n",
      "list3 : [1, 2, 3, 4, 5]\n"
     ]
    }
   ],
   "source": [
    "list1 = [1,2,3,4,5]\n",
    "print(\"list1:\", list)\n",
    "list2 = list1\n",
    "print(\"list2:\", list2)\n",
    "print(\"list1 :\",id(list2))\n",
    "print(\"list2:\", id(list2))\n",
    "print(\"list1 :\", list1)\n",
    "print(\"list1[:] :\", list1[:])\n",
    "print(\"list1 :\", id(list1))\n",
    "print(\"list1[:] :\", id(list1[:]))\n",
    "list3 = [1, 2, 3, 4, 5]\n",
    "list1[2] = 333\n",
    "print(\"list1 :\", list1)\n",
    "print(\"list3 :\", list3)"
   ]
  },
  {
   "cell_type": "code",
   "execution_count": 17,
   "id": "11b1443b",
   "metadata": {},
   "outputs": [
    {
     "name": "stdout",
     "output_type": "stream",
     "text": [
      "list1 : [1, 2, 3, 4, 5]\n",
      "list4 : [1, 2, 3, 4, 5]\n",
      "list1 : 1948339088448\n",
      "list4 : 1948339088896\n",
      "----------------------------------------\n",
      "list1 == list4: True\n",
      "list1 == list4: True\n",
      "list1 == list2 : True\n",
      "list is list2 : True\n",
      "1 == 1.0 : True\n",
      "1 is 1.0 : False\n",
      "1 == 1 : True\n",
      "1 is 1 : True\n",
      "숫자를 비교할 때는 is를 권장하지 않는다\n"
     ]
    },
    {
     "name": "stderr",
     "output_type": "stream",
     "text": [
      "<>:15: SyntaxWarning: \"is\" with a literal. Did you mean \"==\"?\n",
      "<>:17: SyntaxWarning: \"is\" with a literal. Did you mean \"==\"?\n",
      "<>:15: SyntaxWarning: \"is\" with a literal. Did you mean \"==\"?\n",
      "<>:17: SyntaxWarning: \"is\" with a literal. Did you mean \"==\"?\n",
      "C:\\Users\\KIMDON~1\\AppData\\Local\\Temp/ipykernel_20668/638589826.py:15: SyntaxWarning: \"is\" with a literal. Did you mean \"==\"?\n",
      "  print(\"1 is 1.0 :\", 1 is 1.0)\n",
      "C:\\Users\\KIMDON~1\\AppData\\Local\\Temp/ipykernel_20668/638589826.py:17: SyntaxWarning: \"is\" with a literal. Did you mean \"==\"?\n",
      "  print(\"1 is 1 :\", 1 is 1)\n"
     ]
    }
   ],
   "source": [
    "list1 = [1, 2, 3, 4, 5]\n",
    "list4 = list1.copy()\n",
    "print(\"list1 :\", list1)\n",
    "print(\"list4 :\", list4)\n",
    "print(\"list1 :\", id(list1))\n",
    "print(\"list4 :\", id(list4))\n",
    "print(\"-\"*40)\n",
    "\n",
    "print(\"list1 == list4:\", list1 == list4)\n",
    "print(\"list1 == list4:\", list1 == list4)\n",
    "list2= list1\n",
    "print(\"list1 == list2 :\", list1 == list2)\n",
    "print(\"list is list2 :\", list1 is list2)\n",
    "print(\"1 == 1.0 :\", 1 == 1.0)\n",
    "print(\"1 is 1.0 :\", 1 is 1.0)\n",
    "print(\"1 == 1 :\", 1 == 1)\n",
    "print(\"1 is 1 :\", 1 is 1)\n",
    "print(\"숫자를 비교할 때는 is를 권장하지 않는다\")"
   ]
  },
  {
   "cell_type": "code",
   "execution_count": 23,
   "id": "bd40319a",
   "metadata": {},
   "outputs": [
    {
     "name": "stdout",
     "output_type": "stream",
     "text": [
      "list5: [[1, 2, 3], [4, 5, 6]]\n",
      "list6: [[1, 2, 3], [4, 5, 6]]\n",
      "list5 : 1948339077760\n",
      "list6 : 1948339077312\n",
      "list5[0]: 1948339080192\n",
      "list6[0]: 1948339080192\n",
      "list5[1]: 1948339080640\n",
      "list6[1]: 1948339080640\n",
      "list5[0][1] =  2\n",
      "list5 : [[1, 2222, 3], [4, 5, 6]]\n",
      "list6 : [[1, 2222, 3], [4, 5, 6]]\n"
     ]
    }
   ],
   "source": [
    "list5 =[[1, 2, 3], [4, 5, 6]]\n",
    "list6 = list5.copy()\n",
    "print(\"list5:\", list5)\n",
    "print(\"list6:\", list6)\n",
    "print(\"list5 :\", id(list5))\n",
    "print(\"list6 :\", id(list6))\n",
    "\n",
    "print(\"list5[0]:\", id(list5[0]))\n",
    "print(\"list6[0]:\", id(list6[0]))\n",
    "print(\"list5[1]:\", id(list5[1]))\n",
    "print(\"list6[1]:\", id(list6[1]))\n",
    "\n",
    "print(\"list5[0][1] = \", list5[0][1])\n",
    "list5[0][1] = 2222\n",
    "print(\"list5 :\", list5)\n",
    "print(\"list6 :\", list6)"
   ]
  },
  {
   "cell_type": "code",
   "execution_count": 26,
   "id": "bb1b1102",
   "metadata": {},
   "outputs": [
    {
     "name": "stdout",
     "output_type": "stream",
     "text": [
      "list7 : [[1, 2, 3], [4, 5, 6]]\n",
      "list8 : [[1, 2, 3], [4, 5, 6]]\n",
      "list7[0] : 1948339071744\n",
      "list8[0] : 1948339080384\n",
      "list7[1] : 1948339088704\n",
      "list8[1] : 1948338343232\n",
      "list7 : [[1, 2, 3], [4, 555, 6]]\n",
      "list8 : [[1, 2, 3], [4, 5, 6]]\n",
      "list7 : [[1, 2, 3], [4, 555, 6]]\n",
      "list8 : [[1, 2, 3], [4, 5, 6], [7, 8, 9]]\n"
     ]
    }
   ],
   "source": [
    "import copy\n",
    "list7 =[[1, 2, 3], [4, 5, 6]]\n",
    "list8 = copy.deepcopy(list7)\n",
    "\n",
    "print(\"list7 :\", list7)\n",
    "print(\"list8 :\", list8)\n",
    "\n",
    "print(\"list7[0] :\", id(list7[0]))\n",
    "print(\"list8[0] :\", id(list8[0]))\n",
    "print(\"list7[1] :\", id(list7[1]))\n",
    "print(\"list8[1] :\", id(list8[1]))\n",
    "\n",
    "list7[1][1] = 555\n",
    "print(\"list7 :\", list7)\n",
    "print(\"list8 :\", list8)\n",
    "\n",
    "list8.append([7, 8, 9])\n",
    "print(\"list7 :\", list7)\n",
    "print(\"list8 :\", list8)"
   ]
  },
  {
   "cell_type": "code",
   "execution_count": null,
   "id": "67d77737",
   "metadata": {},
   "outputs": [],
   "source": []
  }
 ],
 "metadata": {
  "kernelspec": {
   "display_name": "Python 3 (ipykernel)",
   "language": "python",
   "name": "python3"
  },
  "language_info": {
   "codemirror_mode": {
    "name": "ipython",
    "version": 3
   },
   "file_extension": ".py",
   "mimetype": "text/x-python",
   "name": "python",
   "nbconvert_exporter": "python",
   "pygments_lexer": "ipython3",
   "version": "3.9.7"
  }
 },
 "nbformat": 4,
 "nbformat_minor": 5
}
