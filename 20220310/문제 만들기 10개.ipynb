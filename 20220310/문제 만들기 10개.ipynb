{
 "cells": [
  {
   "cell_type": "code",
   "execution_count": 1,
   "id": "99bc3e1a",
   "metadata": {},
   "outputs": [
    {
     "name": "stdout",
     "output_type": "stream",
     "text": [
      "날짜: 20220303\n",
      "날짜: 20220303\n",
      "날짜: ['20220303']\n",
      "숫자: [99, 101, 111, 123, 133]\n"
     ]
    }
   ],
   "source": [
    "#아래의 list에 날짜 정보와 숫지 정보가 저장되어있습니다\n",
    "#이 중에서 날짜 정보만 출력하세요\n",
    "price = [\"20220303\", 99, 101, 111, 123, 133]\n",
    "print(\"날짜:\", price[0])\n",
    "print(\"날짜:\", price[-6])\n",
    "print(\"날짜:\", price[:1])\n",
    "#이 중에서 숫자 정보만 출력하세요\n",
    "print(\"숫자:\", price[1:])"
   ]
  },
  {
   "cell_type": "code",
   "execution_count": 2,
   "id": "71ee161d",
   "metadata": {},
   "outputs": [
    {
     "name": "stdout",
     "output_type": "stream",
     "text": [
      "numbers: [7, 5, 3, 8, 2, 9]\n",
      "sorted_numbers: [2, 3, 5, 7, 8, 9]\n",
      "numbers: [7, 5, 3, 8, 2, 9]\n",
      "reversed_numbers: [9, 2, 8, 3, 5, 7]\n",
      "numbers: [7, 5, 3, 8, 2, 9]\n"
     ]
    }
   ],
   "source": [
    "numbers = [7, 5, 3, 8, 2, 9]\n",
    "# sorted() + reversed() 를 사용해서 numbers를 내림차순으로 정렬하세요\n",
    "print(\"numbers:\", numbers)\n",
    "sorted_numbers = sorted(numbers)\n",
    "print(\"sorted_numbers:\", sorted_numbers)\n",
    "print(\"numbers:\", numbers)\n",
    "reversed_numbers = reversed(numbers)\n",
    "print(\"reversed_numbers:\",  list(reversed_numbers))\n",
    "print(\"numbers:\",numbers)"
   ]
  },
  {
   "cell_type": "code",
   "execution_count": 3,
   "id": "44ff5e60",
   "metadata": {},
   "outputs": [
    {
     "name": "stdout",
     "output_type": "stream",
     "text": [
      "nums: [9, 5, 3, 8, 2, 1]\n",
      "nums_list: [1, 2, 3, 5, 8, 9]\n",
      "nums: [1, 2, 3, 5, 8, 9]\n",
      "nums: [9, 8, 5, 3, 2, 1]\n"
     ]
    }
   ],
   "source": [
    "#sort() + reverse() 를 사용해서 nums를 내림차순으로 정렬하세요\n",
    "nums = [9, 5, 3, 8, 2, 1]\n",
    "print(\"nums:\", nums)\n",
    "nums.sort()\n",
    "print(\"nums_list:\", nums)\n",
    "print(\"nums:\", nums)\n",
    "nums.reverse()\n",
    "print(\"nums:\", nums)"
   ]
  },
  {
   "cell_type": "code",
   "execution_count": 8,
   "id": "231b6f46",
   "metadata": {},
   "outputs": [
    {
     "name": "stdout",
     "output_type": "stream",
     "text": [
      "tuple_movies: ('콘스탄틴', '머니볼', '카우보이비밥')\n",
      "tuple_movies: <class 'tuple'>\n",
      "m1 : 콘스탄틴\n",
      "m2 : 머니볼\n",
      "m3 : 카우보이비밥\n",
      "tuple_movies : 3\n"
     ]
    }
   ],
   "source": [
    "# tuple을 사용해서 순서대로 영화를 나열하시오\n",
    "tuple_movies = (\"콘스탄틴\", \"머니볼\", \"카우보이비밥\")\n",
    "print(\"tuple_movies:\", tuple_movies)\n",
    "print(\"tuple_movies:\", type(tuple_movies))\n",
    "m1, m2, m3 = tuple_movies\n",
    "print(\"m1 :\", m1)\n",
    "print(\"m2 :\", m2)\n",
    "print(\"m3 :\", m3)\n",
    "print(\"tuple_movies :\", len(tuple_movies))"
   ]
  },
  {
   "cell_type": "code",
   "execution_count": 4,
   "id": "daa2b61f",
   "metadata": {},
   "outputs": [
    {
     "name": "stdout",
     "output_type": "stream",
     "text": [
      "False\n",
      "False\n"
     ]
    }
   ],
   "source": [
    "# 32부터 54까지 정수 중에서 30이 있는지 알아보자\n",
    "print(30 in range(32,54))\n",
    "print(30 in list(range(32,54)))"
   ]
  },
  {
   "cell_type": "code",
   "execution_count": 11,
   "id": "087d418b",
   "metadata": {},
   "outputs": [
    {
     "name": "stdout",
     "output_type": "stream",
     "text": [
      "result: {8, 9, 10, 7}\n",
      "result: {8, 9, 10, 7}\n",
      "result: {1, 2, 3, 4}\n",
      "result: {1, 2, 3, 4, 7, 8, 9, 10}\n",
      "result: {1, 2, 3, 4, 7, 8, 9, 10}\n"
     ]
    }
   ],
   "source": [
    "# 차집합과 대칭치집합을 구하시오\n",
    "say1 = {1, 2, 3, 4, 5, 6}\n",
    "say2 = {5, 6, 7, 8, 9, 10}\n",
    "result = say2 - say1\n",
    "print(\"result:\", result)\n",
    "result = say1.difference(say2)\n",
    "result = say2 - say1\n",
    "print(\"result:\", result)\n",
    "result = say1.difference(say2)\n",
    "print(\"result:\", result)\n",
    "#대칭차집합\n",
    "result = say1 ^ say2\n",
    "print(\"result:\", result)\n",
    "result = say1.symmetric_difference(say2)\n",
    "print(\"result:\", result)"
   ]
  },
  {
   "cell_type": "code",
   "execution_count": 5,
   "id": "4ccb7cff",
   "metadata": {},
   "outputs": [
    {
     "name": "stdout",
     "output_type": "stream",
     "text": [
      "3월 4일:  [10101, 12222, 15557, 13200]\n",
      "dict_market: {'0303': [10100, 12345, 15555, 16666], '0304': [10101, 12222, 15557, 13200], '0305': [13333, 1000, 1111, 1030]}\n"
     ]
    }
   ],
   "source": [
    "dict_market = {\n",
    "               \"0303\" : [11111, 11115, 11118, 12000],\n",
    "               \"0304\" : [10101, 12222, 15557, 13200],\n",
    "               \"0305\" : [13333, 1000, 1111, 1030]\n",
    "               }\n",
    "# 3월 4일의 시가, 저가, 고가, 종가를 출력하세요\n",
    "print(\"3월 4일: \", dict_market[\"0304\"])\n",
    "# 3월 3일의 시가, 저가, 고가, 종가를 출력하세요\n",
    "dict_market[\"0303\"] = [10100, 12345, 15555, 16666]\n",
    "print(\"dict_market:\", dict_market)"
   ]
  },
  {
   "cell_type": "code",
   "execution_count": 6,
   "id": "da458e3f",
   "metadata": {},
   "outputs": [
    {
     "name": "stdout",
     "output_type": "stream",
     "text": [
      "dict_fruit {10: 'apple', 22: 'pear', 30: 'mango', 40: 'grapes', 20: ['melon']}\n"
     ]
    }
   ],
   "source": [
    "dict_fruit = {10:\"apple\", 22:\"pear\", 30:\"mango\", 40:\"grapes\"}\n",
    "'''\n",
    "dict_fruit에 상품가 code는 20이고, 과일 이름은 \n",
    "\"melon\" 으로 변경하세요\n",
    "'''\n",
    "dict_fruit[20] = [\"melon\"]\n",
    "print(\"dict_fruit\", dict_fruit)"
   ]
  },
  {
   "cell_type": "code",
   "execution_count": 16,
   "id": "500d57e3",
   "metadata": {},
   "outputs": [
    {
     "name": "stdout",
     "output_type": "stream",
     "text": [
      "dict_time.keys() : dict_keys(['계절', '날씨', '월', '년도'])\n",
      "dict_time.keys() : ['계절', '날씨', '월', '년도']\n",
      "dict_time.keys() : ('계절', '날씨', '월', '년도')\n",
      "dict_time.values() : dict_values([['봄', '여름', '가을'], ['흐림', '맑음', '눈'], [1, 6, 12], [2021, 2022, 2024]])\n",
      "dict_time.values() : [['봄', '여름', '가을'], ['흐림', '맑음', '눈'], [1, 6, 12], [2021, 2022, 2024]]\n"
     ]
    }
   ],
   "source": [
    "dict_time = {\n",
    "              '계절': ['봄', '여름', '가을'], \n",
    "              '날씨': ['흐림', '맑음', '눈'], \n",
    "              '월': [1, 6, 12], \n",
    "              '년도': [2021, 2022, 2024]\n",
    "              }\n",
    "\n",
    "#dictionary 에서 key 만 출력하기 - keys() 메소드 사용\n",
    "print(\"dict_time.keys() :\", dict_time.keys())\n",
    "print(\"dict_time.keys() :\", list(dict_time.keys()))\n",
    "print(\"dict_time.keys() :\", tuple(dict_time.keys()))\n",
    "\n",
    "#dictionary 에서 values 만 출력하기 - values() 메소드 사용\n",
    "print(\"dict_time.values() :\", dict_time.values())\n",
    "print(\"dict_time.values() :\", list(dict_time.values()))"
   ]
  },
  {
   "cell_type": "code",
   "execution_count": 17,
   "id": "92dcef18",
   "metadata": {},
   "outputs": [
    {
     "name": "stdout",
     "output_type": "stream",
     "text": [
      "icecream_info : {'메로나': 1000, '붕어싸만코': 1500, '빵빠레': 1800}\n",
      "icecream_info : {'메로나': 1000, '붕어싸만코': 1500, '빵빠레': 1800, '바밤바': 1200, '구구콘': 1500}\n",
      "icecream_info : {'메로나': 1000, '붕어싸만코': 1500, '빵빠레': 1800, '바밤바': 1200, '구구콘': 1500}\n",
      "icecream_info : {'메로나': 1000, '붕어싸만코': 1500, '빵빠레': 1800, '바밤바': 1200, '구구콘': 1500}\n"
     ]
    }
   ],
   "source": [
    "'''\n",
    "key     value\n",
    "메로나 - 1000\n",
    "붕어싸만코 - 1500\n",
    "빵빠레 - 1800\n",
    "\n",
    "icecream 이름을 key로 하고 가격을 value로 하는\n",
    "dictionary를 생성하고 출력하세요\n",
    "(dictionary 이름은 icecream_info로 하세요)\n",
    "'''\n",
    "\n",
    "icecream_info = {\"메로나\":1000, \"붕어싸만코\": 1500,\"빵빠레\": 1800}\n",
    "print(\"icecream_info :\",icecream_info)\n",
    "'''\n",
    "바밤바 - 1000\n",
    "구구콘 - 1500\n",
    "이정보를 dictionary에 추가하세요\n",
    "'''\n",
    "icecream_info.setdefault(\"바밤바\", 1200)\n",
    "icecream_info.setdefault(\"구구콘\", 1500)\n",
    "print(\"icecream_info :\",icecream_info)\n",
    "\n",
    "icecream_info.update(바밤바 = 1200)\n",
    "icecream_info.update(구구콘 = 1500)\n",
    "print(\"icecream_info :\",icecream_info)\n",
    "\n",
    "icecream_info[\"바밤바\"] = 1200\n",
    "icecream_info[\"구구콘\"] = 1500\n",
    "print(\"icecream_info :\",icecream_info)"
   ]
  },
  {
   "cell_type": "code",
   "execution_count": null,
   "id": "05230d94",
   "metadata": {},
   "outputs": [],
   "source": []
  }
 ],
 "metadata": {
  "kernelspec": {
   "display_name": "Python 3 (ipykernel)",
   "language": "python",
   "name": "python3"
  },
  "language_info": {
   "codemirror_mode": {
    "name": "ipython",
    "version": 3
   },
   "file_extension": ".py",
   "mimetype": "text/x-python",
   "name": "python",
   "nbconvert_exporter": "python",
   "pygments_lexer": "ipython3",
   "version": "3.9.7"
  }
 },
 "nbformat": 4,
 "nbformat_minor": 5
}
