{
 "cells": [
  {
   "cell_type": "code",
   "execution_count": 1,
   "id": "48c9f88b",
   "metadata": {},
   "outputs": [
    {
     "name": "stdout",
     "output_type": "stream",
     "text": [
      "set1: set()\n",
      "set1: <class 'set'>\n",
      "set1_1: {}\n",
      "set1_1: <class 'dict'>\n",
      "set2: {1, 2, 3, 4, 5}\n",
      "set2: <class 'set'>\n"
     ]
    }
   ],
   "source": [
    "set1 = set()\n",
    "print(\"set1:\", set1)\n",
    "print(\"set1:\", type(set1))\n",
    "set1_1 = {}\n",
    "print(\"set1_1:\", set1_1)\n",
    "print(\"set1_1:\", type(set1_1))\n",
    "\n",
    "set2 = {1, 2, 3, 4, 5}\n",
    "print(\"set2:\", set2)\n",
    "print(\"set2:\", type(set2))"
   ]
  },
  {
   "cell_type": "code",
   "execution_count": 2,
   "id": "d721d046",
   "metadata": {},
   "outputs": [
    {
     "name": "stdout",
     "output_type": "stream",
     "text": [
      "set3: {1, 2, 3}\n",
      "set3: <class 'set'>\n",
      "set4: {4, 5, 6}\n",
      "set4: <class 'set'>\n",
      "set5 : {'p', 'y', 'o', 'h', 't', 'n'}\n",
      "set5: <class 'set'>\n",
      "set6 : {'o', 'e', 'h', 'l'}\n",
      "set6 : <class 'set'>\n"
     ]
    }
   ],
   "source": [
    "set3 = set([1, 2, 3])\n",
    "print(\"set3:\", set3)\n",
    "print(\"set3:\", type(set3))\n",
    "\n",
    "set4 = set((4, 5, 6))\n",
    "print(\"set4:\", set4)\n",
    "print(\"set4:\", type(set4))\n",
    "\n",
    "set5 = set(\"python\")\n",
    "print(\"set5 :\", set5)\n",
    "#set5 : {'p', 'h', 'o', 'n', 'y', 't'}\n",
    "print(\"set5:\", type(set5))\n",
    "\n",
    "set6 = set(\"hello\")\n",
    "print(\"set6 :\", set6)\n",
    "print(\"set6 :\", type(set6))"
   ]
  },
  {
   "cell_type": "code",
   "execution_count": 3,
   "id": "72096e29",
   "metadata": {},
   "outputs": [
    {
     "name": "stdout",
     "output_type": "stream",
     "text": [
      "list_nums : <class 'list'>\n",
      "tuple_nums: <class 'tuple'>\n",
      "numbers : [1, 2, 2, 3, 3, 3, 4, 4, 4, 4, 4, 5, 5, 5, 5, 5]\n",
      "numbers : <class 'list'>\n",
      "numbers : [1, 2, 2, 3, 3, 3, 4, 4, 4, 4, 4, 5, 5, 5, 5, 5]\n",
      "numbers : <class 'list'>\n",
      "set_numbers : {1, 2, 3, 4, 5}\n",
      "set_numbers : <class 'set'>\n"
     ]
    }
   ],
   "source": [
    "list_nums = [1, 2, 3, 4, 5]\n",
    "print(\"list_nums :\", type(list_nums))\n",
    "\n",
    "tuple_nums = tuple(list_nums)\n",
    "print(\"tuple_nums:\", type(tuple_nums))\n",
    "\n",
    "numbers = [1, 2, 2, 3, 3, 3, 4, 4, 4, 4, 4, 5, 5, 5 , 5, 5]\n",
    "print(\"numbers :\", numbers)\n",
    "print(\"numbers :\", type(numbers))\n",
    "\n",
    "numbers = list(numbers)\n",
    "print(\"numbers :\", numbers)\n",
    "print(\"numbers :\", type(numbers))\n",
    "\n",
    "set_numbers = set(numbers)\n",
    "print(\"set_numbers :\", set_numbers)\n",
    "print(\"set_numbers :\", type(set_numbers))"
   ]
  },
  {
   "cell_type": "code",
   "execution_count": 4,
   "id": "dee1931c",
   "metadata": {},
   "outputs": [
    {
     "name": "stdout",
     "output_type": "stream",
     "text": [
      "result: {5, 6}\n",
      "result: {5, 6}\n",
      "result: {1, 2, 3, 4, 5, 6, 7, 8, 9, 10}\n",
      "result: {1, 2, 3, 4, 5, 6, 7, 8, 9, 10}\n",
      "result: {1, 2, 3, 4}\n",
      "result: {1, 2, 3, 4}\n",
      "result: {8, 9, 10, 7}\n",
      "result: {1, 2, 3, 4}\n",
      "result: {1, 2, 3, 4, 7, 8, 9, 10}\n",
      "result: {1, 2, 3, 4, 7, 8, 9, 10}\n"
     ]
    }
   ],
   "source": [
    "#교집합, 합집합, 차집합, 대칭차집합\n",
    "set1 = {1, 2, 3, 4, 5, 6}\n",
    "set2 = {5, 6, 7, 8, 9, 10}\n",
    "result = set1 & set2\n",
    "print(\"result:\", result)\n",
    "result = set1.intersection(set2)\n",
    "print(\"result:\", result)\n",
    "\n",
    "result = set1 | set2\n",
    "print(\"result:\", result)\n",
    "result = set1.union(set2)\n",
    "print(\"result:\", result)\n",
    "\n",
    "result = set1 - set2\n",
    "print(\"result:\", result)\n",
    "result = set1.difference(set2)\n",
    "print(\"result:\", result)\n",
    "\n",
    "result = set2 - set1\n",
    "print(\"result:\", result)\n",
    "result = set1.difference(set2)\n",
    "print(\"result:\", result)\n",
    "\n",
    "result = set1 ^ set2\n",
    "print(\"result:\", result)\n",
    "result = set1.symmetric_difference(set2)\n",
    "print(\"result:\", result)"
   ]
  },
  {
   "cell_type": "code",
   "execution_count": null,
   "id": "71e131d8",
   "metadata": {},
   "outputs": [],
   "source": []
  }
 ],
 "metadata": {
  "kernelspec": {
   "display_name": "Python 3 (ipykernel)",
   "language": "python",
   "name": "python3"
  },
  "language_info": {
   "codemirror_mode": {
    "name": "ipython",
    "version": 3
   },
   "file_extension": ".py",
   "mimetype": "text/x-python",
   "name": "python",
   "nbconvert_exporter": "python",
   "pygments_lexer": "ipython3",
   "version": "3.9.7"
  }
 },
 "nbformat": 4,
 "nbformat_minor": 5
}
