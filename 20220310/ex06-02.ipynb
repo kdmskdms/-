{
 "cells": [
  {
   "cell_type": "code",
   "execution_count": 2,
   "id": "f9473496",
   "metadata": {},
   "outputs": [
    {
     "name": "stdout",
     "output_type": "stream",
     "text": [
      "set1 : {1, 2, 3}\n",
      "set1 : {1, 2, 3, 4}\n",
      "set1 : {1, 2, 3, 4, 5, 6}\n",
      "set1 : {1, 2, 3, 4, 5, 6, 7, 8, 9}\n",
      "set1 : {1, 2, 3, 4, 5, 6, 7, 8, 9, 10, 11, 12}\n",
      "set1 : {1, 2, 3, 4, 5, 6, 7, 8, 9, 10, 11, 12, 13, 14, 15}\n",
      "set1 : {1, 2, 3, 4, 5, 6, 7, 8, 9, 10, 11, 12, 13, 14, 15, '1', '7', ',', ' ', '8', '6'}\n"
     ]
    }
   ],
   "source": [
    "set1 = {1, 2, 3}\n",
    "print(\"set1 :\", set1)\n",
    "set1.add(4)\n",
    "print(\"set1 :\", set1)\n",
    "set1.update({4, 5, 6})\n",
    "print(\"set1 :\", set1)\n",
    "set1.update({7, 8, 9})\n",
    "print(\"set1 :\", set1)\n",
    "set1.update((10, 11, 12))\n",
    "print(\"set1 :\", set1)\n",
    "set1.update(range(13,16))\n",
    "print(\"set1 :\", set1)\n",
    "set1.update(\"16, 17, 18\")\n",
    "print(\"set1 :\", set1)"
   ]
  },
  {
   "cell_type": "code",
   "execution_count": 3,
   "id": "5ea8fb94",
   "metadata": {},
   "outputs": [
    {
     "name": "stdout",
     "output_type": "stream",
     "text": [
      "set1: {1, 2, 3, 4, 5, 6, 7, 8, 9, 10, 11, 12, 13, 14, 15, '1', '7', ',', ' ', '8', '6'}\n",
      "set1: {1, 2, 3, 4, 5, 6, 7, 8, 9, 10, 11, 12, 13, 15, '1', '7', ',', ' ', '8', '6'}\n"
     ]
    }
   ],
   "source": [
    "print(\"set1:\", set1)\n",
    "set1.discard(14)\n",
    "print(\"set1:\", set1)"
   ]
  },
  {
   "cell_type": "code",
   "execution_count": 5,
   "id": "edab412a",
   "metadata": {},
   "outputs": [
    {
     "name": "stdout",
     "output_type": "stream",
     "text": [
      "list_nums: [1, 2, 3, [4, 5], [6, 7], (8, 9)]\n"
     ]
    }
   ],
   "source": [
    "list_nums = [1, 2, 3, [4, 5], [6, 7], (8, 9)]\n",
    "print(\"list_nums:\", list_nums)"
   ]
  },
  {
   "cell_type": "code",
   "execution_count": 4,
   "id": "be1cd487",
   "metadata": {},
   "outputs": [
    {
     "name": "stdout",
     "output_type": "stream",
     "text": [
      "tuple_nums: (1, 2, 3, (4, 5), (6, 7), [8, 9])\n"
     ]
    }
   ],
   "source": [
    "tuple_nums = (1, 2, 3, (4, 5),(6, 7), [8, 9])\n",
    "print(\"tuple_nums:\", tuple_nums)"
   ]
  },
  {
   "cell_type": "code",
   "execution_count": 6,
   "id": "8c29f45e",
   "metadata": {},
   "outputs": [
    {
     "name": "stdout",
     "output_type": "stream",
     "text": [
      "list_nums: [1, 2, 3, {4, 5}]\n"
     ]
    }
   ],
   "source": [
    "list_nums = [1, 2, 3, {4, 5}]\n",
    "print(\"list_nums:\", list_nums) "
   ]
  },
  {
   "cell_type": "code",
   "execution_count": 7,
   "id": "b9cbd744",
   "metadata": {},
   "outputs": [
    {
     "name": "stdout",
     "output_type": "stream",
     "text": [
      "tuple_nums: [1, 2, 3, {4, 5}]\n"
     ]
    }
   ],
   "source": [
    "tuple_nums = [1, 2, 3, {4, 5}]\n",
    "print(\"tuple_nums:\", tuple_nums) "
   ]
  },
  {
   "cell_type": "code",
   "execution_count": 8,
   "id": "f65943d2",
   "metadata": {},
   "outputs": [
    {
     "name": "stdout",
     "output_type": "stream",
     "text": [
      "set_nums: {3, 1, (4, 5), 2}\n"
     ]
    }
   ],
   "source": [
    "set_nums = {1, 2, 3, (4, 5)}\n",
    "print(\"set_nums:\", set_nums) "
   ]
  },
  {
   "cell_type": "code",
   "execution_count": 10,
   "id": "03aa62f5",
   "metadata": {},
   "outputs": [
    {
     "name": "stdout",
     "output_type": "stream",
     "text": [
      "list_numbers: [1, 2, 3, 2, 3, 5, 1, 1]\n",
      "set_numbers: {1, 2, 3, 5}\n"
     ]
    }
   ],
   "source": [
    "list_numbers = [1, 2, 3, 2, 3, 5, 1, 1]\n",
    "set_numbers = set(list_numbers)\n",
    "print(\"list_numbers:\", list_numbers) \n",
    "print(\"set_numbers:\", set_numbers) "
   ]
  },
  {
   "cell_type": "code",
   "execution_count": 11,
   "id": "45dc8821",
   "metadata": {},
   "outputs": [
    {
     "name": "stdout",
     "output_type": "stream",
     "text": [
      "tuple_nums : (3, 4, 5, 2, 3, 7, 4, 5)\n",
      "set_nums : {2, 3, 4, 5, 7}\n"
     ]
    }
   ],
   "source": [
    "tuple_nums = (3, 4, 5, 2, 3, 7, 4, 5)\n",
    "set_nums = set(tuple_nums)\n",
    "print(\"tuple_nums :\", tuple_nums) \n",
    "print(\"set_nums :\", set_nums) "
   ]
  },
  {
   "cell_type": "code",
   "execution_count": 12,
   "id": "14d02bb9",
   "metadata": {},
   "outputs": [
    {
     "name": "stdout",
     "output_type": "stream",
     "text": [
      "fs1: frozenset()\n",
      "fs2: frozenset({1, 2, 3, 4, 5, 6})\n",
      "fs3: frozenset({1, 2, 3, 4, 5, 6})\n",
      "fs4: frozenset({1, 2, 3, 4, 5, 6})\n",
      "fs4: <class 'frozenset'>\n"
     ]
    }
   ],
   "source": [
    "fs1 = frozenset()\n",
    "print(\"fs1:\", fs1)\n",
    "fs2 = frozenset((1, 2, 3, 4, 5, 6))\n",
    "print(\"fs2:\", fs2)\n",
    "fs3 = frozenset([1, 2, 3, 4, 5, 6])\n",
    "print(\"fs3:\", fs3)\n",
    "fs4 = frozenset({1, 2, 3, 4, 5, 6})\n",
    "print(\"fs4:\", fs4)\n",
    "print(\"fs4:\",type(fs4))"
   ]
  },
  {
   "cell_type": "code",
   "execution_count": null,
   "id": "2228341b",
   "metadata": {},
   "outputs": [],
   "source": []
  }
 ],
 "metadata": {
  "kernelspec": {
   "display_name": "Python 3 (ipykernel)",
   "language": "python",
   "name": "python3"
  },
  "language_info": {
   "codemirror_mode": {
    "name": "ipython",
    "version": 3
   },
   "file_extension": ".py",
   "mimetype": "text/x-python",
   "name": "python",
   "nbconvert_exporter": "python",
   "pygments_lexer": "ipython3",
   "version": "3.9.7"
  }
 },
 "nbformat": 4,
 "nbformat_minor": 5
}
