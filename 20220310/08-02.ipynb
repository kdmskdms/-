{
 "cells": [
  {
   "cell_type": "code",
   "execution_count": 2,
   "id": "d5f40cf8",
   "metadata": {},
   "outputs": [
    {
     "name": "stdout",
     "output_type": "stream",
     "text": [
      "icecream_info : {'메로나': 1000, '폴라포': 1200, '빵빠레': 1800}\n",
      "icecream_info : {'메로나': 1000, '폴라포': 1200, '빵빠레': 1800, '죠스바': 1200, '월드콘': 1500}\n",
      "icecream_info : {'메로나': 1000, '폴라포': 1200, '빵빠레': 1800, '죠스바': 1200, '월드콘': 1500}\n",
      "icecream_info : {'메로나': 1000, '폴라포': 1200, '빵빠레': 1800, '죠스바': 1200, '월드콘': 1500}\n"
     ]
    }
   ],
   "source": [
    "icecream_info = {\"메로나\":1000, \"폴라포\": 1200,\"빵빠레\": 1800}\n",
    "print(\"icecream_info :\",icecream_info)\n",
    "icecream_info.setdefault(\"죠스바\", 1200)\n",
    "icecream_info.setdefault(\"월드콘\", 1500)\n",
    "print(\"icecream_info :\",icecream_info)\n",
    "\n",
    "icecream_info.update(죠스바 = 1200)\n",
    "icecream_info.update(월드콘 = 1500)\n",
    "print(\"icecream_info :\",icecream_info)\n",
    "\n",
    "icecream_info[\"죠스바\"] = 1200\n",
    "icecream_info[\"월드콘\"] = 1500\n",
    "print(\"icecream_info :\",icecream_info)"
   ]
  },
  {
   "cell_type": "code",
   "execution_count": null,
   "id": "90c50299",
   "metadata": {},
   "outputs": [],
   "source": []
  }
 ],
 "metadata": {
  "kernelspec": {
   "display_name": "Python 3 (ipykernel)",
   "language": "python",
   "name": "python3"
  },
  "language_info": {
   "codemirror_mode": {
    "name": "ipython",
    "version": 3
   },
   "file_extension": ".py",
   "mimetype": "text/x-python",
   "name": "python",
   "nbconvert_exporter": "python",
   "pygments_lexer": "ipython3",
   "version": "3.9.7"
  }
 },
 "nbformat": 4,
 "nbformat_minor": 5
}
