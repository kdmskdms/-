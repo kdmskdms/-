{
 "cells": [
  {
   "cell_type": "code",
   "execution_count": null,
   "id": "a124a9c3",
   "metadata": {
    "ExecuteTime": {
     "end_time": "2022-03-10T06:31:37.841460Z",
     "start_time": "2022-03-10T06:31:37.834463Z"
    }
   },
   "outputs": [],
   "source": [
    "'''\n",
    "내장 함수 : built-in function\n",
    "'''\n",
    "\n",
    "'''\n",
    "abs() - 절댓값을 반환하는 함수\n",
    "'''\n",
    "print(abs(123))\n",
    "print(abs(-123))\n",
    "print(abs(0))"
   ]
  },
  {
   "cell_type": "code",
   "execution_count": null,
   "id": "5d12c6b6",
   "metadata": {
    "ExecuteTime": {
     "end_time": "2022-03-10T06:34:59.049906Z",
     "start_time": "2022-03-10T06:34:59.033906Z"
    }
   },
   "outputs": [],
   "source": [
    "'''\n",
    "all(iterable type)\n",
    "  ㄴ 모든 요소가 0 이 아닌 경우    : True 를 반환함\n",
    "     0 이 하나라도 있는 경우       : False 를 반환함\n",
    "'''\n",
    "list_num1 = [1, 2, 3, 4, 5]\n",
    "list_num2 = [1, 2, 3, 0, 5]\n",
    "list_num3 = [0, 2, 4, 0, 5]\n",
    "\n",
    "print(all(list_num1))\n",
    "print(all(list_num2))\n",
    "print(all(list_num3))\n",
    "\n",
    "# True : 0 이 아니라서 True 가 됨\n",
    "print(all([]))\n",
    "\n",
    "# False : 비어있는 list 를 bool type 으로 형병환하면 False 가 되므로\n",
    "print(bool([]))\n"
   ]
  },
  {
   "cell_type": "code",
   "execution_count": null,
   "id": "aab56e13",
   "metadata": {
    "ExecuteTime": {
     "end_time": "2022-03-10T06:38:59.612570Z",
     "start_time": "2022-03-10T06:38:59.598577Z"
    }
   },
   "outputs": [],
   "source": [
    "'''\n",
    " any(iterable type)\n",
    "   ㄴ 모든 요소가 0 인 경우  :  False 반환\n",
    "      하나라도 0 이 아니면   :  True 반환\n",
    "'''\n",
    "list1 = [1, 3, 5, 0, 7]\n",
    "list2 = [0, 0, \"\", 0]\n",
    "list3 = []\n",
    "\n",
    "# True : 0 이 하나 있어서 True\n",
    "print(any(list1))\n",
    "\n",
    "# False : 빈문자열도 0 과 같이 인식함\n",
    "print(any(list2))\n",
    "\n",
    "# False : 비어있는 list 도 False 를 반환함\n",
    "print(any(list3))"
   ]
  },
  {
   "cell_type": "code",
   "execution_count": null,
   "id": "294ffdec",
   "metadata": {
    "ExecuteTime": {
     "end_time": "2022-03-10T06:48:52.569487Z",
     "start_time": "2022-03-10T06:48:52.557494Z"
    }
   },
   "outputs": [],
   "source": [
    "'''\n",
    "ord()  :  문자열을 입력하면 ASCII CODE 를 반환함\n",
    "chr()  :  ASCII CODE 를 입력하면 문자열을 반환함 \n",
    "'''\n",
    "print(ord(\"A\"))\n",
    "print(ord(\"a\"))\n",
    "print(ord(\"0\"))\n",
    "\n",
    "print(chr(65))\n",
    "print(chr(97))\n",
    "print(chr(48))\n"
   ]
  },
  {
   "cell_type": "code",
   "execution_count": null,
   "id": "f88baf7d",
   "metadata": {
    "ExecuteTime": {
     "end_time": "2022-03-10T06:50:28.939937Z",
     "start_time": "2022-03-10T06:50:28.923935Z"
    }
   },
   "outputs": [],
   "source": [
    "'''\n",
    "divmod(분자, 분모) - 몫과 나머지를 tuple 로 반환함\n",
    "'''\n",
    "print(divmod(10, 8))"
   ]
  },
  {
   "cell_type": "code",
   "execution_count": null,
   "id": "d28f796e",
   "metadata": {
    "ExecuteTime": {
     "end_time": "2022-03-10T06:52:15.663090Z",
     "start_time": "2022-03-10T06:52:15.655095Z"
    }
   },
   "outputs": [],
   "source": [
    "'''\n",
    "enumerate(iterable type)\n",
    "  ㄴ 인덱스와 값을 tuple로 반환함\n",
    "'''\n",
    "for idx, num in enumerate(range(1, 11)):\n",
    "    print(idx, num)"
   ]
  },
  {
   "cell_type": "code",
   "execution_count": 11,
   "id": "a8bef468",
   "metadata": {
    "ExecuteTime": {
     "end_time": "2022-03-10T06:53:24.889114Z",
     "start_time": "2022-03-10T06:53:24.877120Z"
    }
   },
   "outputs": [
    {
     "name": "stdout",
     "output_type": "stream",
     "text": [
      "1 + 2\n",
      "3\n",
      "(1, 2)\n"
     ]
    }
   ],
   "source": [
    "'''\n",
    "eval(\"표현식\") - \"\" 표 안에 작성된 수식의 결괏값을 반환함\n",
    "'''\n",
    "print(\"1 + 2\")\n",
    "print(eval(\"1 + 2\"))\n",
    "print(eval(\"divmod(10, 8)\"))"
   ]
  },
  {
   "cell_type": "code",
   "execution_count": 12,
   "id": "62916158",
   "metadata": {
    "ExecuteTime": {
     "end_time": "2022-03-10T06:54:54.758010Z",
     "start_time": "2022-03-10T06:54:54.740019Z"
    }
   },
   "outputs": [
    {
     "name": "stdout",
     "output_type": "stream",
     "text": [
      "number : 111\n",
      "number : 8615776\n"
     ]
    }
   ],
   "source": [
    "'''\n",
    "id(변수) - 변수 안에 저장된 주솟값을 반환함\n",
    "'''\n",
    "number = 111\n",
    "print(\"number :\",number)\n",
    "print(\"number :\",id(number))"
   ]
  },
  {
   "cell_type": "code",
   "execution_count": 14,
   "id": "33093559",
   "metadata": {
    "ExecuteTime": {
     "end_time": "2022-03-10T06:56:25.710920Z",
     "start_time": "2022-03-10T06:56:25.692919Z"
    }
   },
   "outputs": [
    {
     "name": "stdout",
     "output_type": "stream",
     "text": [
      "0b10\n",
      "0b100\n",
      "0b1000\n",
      "0b10000\n"
     ]
    }
   ],
   "source": [
    "'''\n",
    "bin(십진수정수) - 이진수값을 반환함\n",
    "'''\n",
    "print(bin(2))\n",
    "print(bin(4))\n",
    "print(bin(8))\n",
    "print(bin(16))\n",
    "                  "
   ]
  },
  {
   "cell_type": "code",
   "execution_count": 15,
   "id": "2280392f",
   "metadata": {
    "ExecuteTime": {
     "end_time": "2022-03-10T06:57:41.104647Z",
     "start_time": "2022-03-10T06:57:41.100648Z"
    }
   },
   "outputs": [
    {
     "name": "stdout",
     "output_type": "stream",
     "text": [
      "0o4\n",
      "0o10\n",
      "0o20\n",
      "0o30\n",
      "0o40\n",
      "0o50\n"
     ]
    }
   ],
   "source": [
    "'''\n",
    "oct(십진수정수) - 8 진수를 반환함\n",
    "'''\n",
    "print(oct(4))\n",
    "print(oct(8))\n",
    "print(oct(16))\n",
    "print(oct(24))\n",
    "print(oct(32))\n",
    "print(oct(40))\n"
   ]
  },
  {
   "cell_type": "code",
   "execution_count": 16,
   "id": "786fb527",
   "metadata": {
    "ExecuteTime": {
     "end_time": "2022-03-10T06:59:11.658734Z",
     "start_time": "2022-03-10T06:59:11.651737Z"
    }
   },
   "outputs": [
    {
     "name": "stdout",
     "output_type": "stream",
     "text": [
      "0xf\n",
      "0x23\n",
      "0x20\n",
      "0x10\n"
     ]
    }
   ],
   "source": [
    "'''\n",
    "hex(십진수정수) - 16진수를 반환함\n",
    "'''\n",
    "print(hex(15))\n",
    "print(hex(35))\n",
    "print(hex(32))\n",
    "print(hex(16))"
   ]
  },
  {
   "cell_type": "code",
   "execution_count": 17,
   "id": "b7006a4d",
   "metadata": {
    "ExecuteTime": {
     "end_time": "2022-03-10T07:00:08.000279Z",
     "start_time": "2022-03-10T07:00:07.988285Z"
    }
   },
   "outputs": [
    {
     "name": "stdout",
     "output_type": "stream",
     "text": [
      "32\n"
     ]
    }
   ],
   "source": [
    "'''\n",
    "pow(밑, 지수) 함수 : power\n",
    "'''\n",
    "print(pow(2, 5))"
   ]
  },
  {
   "cell_type": "code",
   "execution_count": 19,
   "id": "fde19c1e",
   "metadata": {
    "ExecuteTime": {
     "end_time": "2022-03-10T07:03:14.001959Z",
     "start_time": "2022-03-10T07:03:13.987967Z"
    }
   },
   "outputs": [
    {
     "name": "stdout",
     "output_type": "stream",
     "text": [
      "123\n",
      "124\n",
      "123.9\n",
      "123.87\n",
      "1234.44\n"
     ]
    }
   ],
   "source": [
    "'''\n",
    "round(함수) - 반올림 함수\n",
    "\n",
    "  반올림하여 정수부분만 리턴함\n",
    "'''\n",
    "print(round(123.456))\n",
    "print(round(123.756))\n",
    "\n",
    "# 소수점 둘 째자리가만 출력하기\n",
    "print(round(123.8956, 2))\n",
    "print(round(123.8656, 2))\n",
    "print(round(1234.444, 2))"
   ]
  },
  {
   "cell_type": "code",
   "execution_count": null,
   "id": "a895215a",
   "metadata": {},
   "outputs": [],
   "source": [
    "print(round(1.5))\n",
    "print(round(2.5))\n",
    "print(round(3.5))\n",
    "print(round(4.5))\n",
    "print(round(5.5))\n",
    "print(round(6.5))\n",
    "print(\"-\" * 30)\n",
    "\n",
    "print(round(1.4))\n",
    "print(round(2.4))\n",
    "print(round(3.4))\n",
    "print(round(4.4))\n",
    "print(round(5.4))\n",
    "print(round(6.4))\n",
    "print(\"-\" * 30)\n",
    "\n",
    "print(round(1.6))\n",
    "print(round(2.6))\n",
    "print(round(3.6))\n",
    "print(round(4.6))\n",
    "print(round(5.6))\n",
    "print(round(6.6))\n",
    "print(\"-\" * 30)"
   ]
  },
  {
   "cell_type": "code",
   "execution_count": 23,
   "id": "d2970917",
   "metadata": {
    "ExecuteTime": {
     "end_time": "2022-03-10T07:09:50.254017Z",
     "start_time": "2022-03-10T07:09:50.244012Z"
    }
   },
   "outputs": [
    {
     "name": "stdout",
     "output_type": "stream",
     "text": [
      "3\n",
      "3\n",
      "2\n",
      "2\n",
      "23\n",
      "2\n",
      "0\n",
      "1\n",
      "2\n"
     ]
    }
   ],
   "source": [
    "'''\n",
    "ceil()  -  올림\n",
    "floor() -  내림\n",
    "trunc() -  버림 : truncate - 소숫점 이하 부분을 무조건 자름\n",
    "math 모듈을 import 해서 사용함\n",
    "'''\n",
    "from math import ceil, floor, trunc\n",
    "\n",
    "print(ceil(2.3))\n",
    "print(ceil(2.6))\n",
    "\n",
    "print(floor(2.3))\n",
    "print(floor(2.3))\n",
    "\n",
    "print(trunc(23.45))\n",
    "print(trunc(2.7))\n",
    "print(trunc(0.5))\n",
    "print(trunc(1.5))\n",
    "print(trunc(2.8))"
   ]
  },
  {
   "cell_type": "code",
   "execution_count": 31,
   "id": "92ea3e90",
   "metadata": {
    "ExecuteTime": {
     "end_time": "2022-03-10T07:22:43.082917Z",
     "start_time": "2022-03-10T07:22:43.074921Z"
    }
   },
   "outputs": [
    {
     "name": "stdout",
     "output_type": "stream",
     "text": [
      "[(1, 5), (2, 6), (3, 7), (4, 8)]\n",
      "[(1, 5, 9), (2, 6, 10), (3, 7, 11), (4, 8, 12)]\n",
      "[('p', 'p'), ('y', 'y'), ('t', 't'), ('h', 'h'), ('o', 'o'), ('n', 'n')]\n",
      "{1: 5, 2: 6, 3: 7, 4: 8}\n"
     ]
    }
   ],
   "source": [
    "'''\n",
    "zip(*iterable) : 같은 개수로 이루어진 iterable type \n",
    "                 의 data들을 묶어줌\n",
    "'''\n",
    "list1 = [1, 2, 3, 4]\n",
    "list2 = [5, 6, 7, 8]\n",
    "list3 = [9, 10, 11, 12]\n",
    "print(list(zip(list1, list2)))\n",
    "print(list(zip(list1, list2, list3)))\n",
    "print(list(zip(\"python\", \"python\")))\n",
    "print(dict(zip(list1, list2)))\n",
    "# ValueError: dictionary update sequence element #0 has length 3; 2 is required\n",
    "# print(dict(zip(list1, list2, list3)))"
   ]
  },
  {
   "cell_type": "code",
   "execution_count": 28,
   "id": "4c03d2d7",
   "metadata": {
    "ExecuteTime": {
     "end_time": "2022-03-10T07:18:00.553410Z",
     "start_time": "2022-03-10T07:18:00.539418Z"
    }
   },
   "outputs": [
    {
     "name": "stdout",
     "output_type": "stream",
     "text": [
      "True\n"
     ]
    }
   ],
   "source": [
    "'''\n",
    "isinstace((참조)변수,클래스이름)\n",
    "   ㄴ 참조변수에 해당 클래스의 객체의 주소가 저장되어있는지 \n",
    "      반환해 줌\n",
    "'''\n",
    "class Car:\n",
    "    pass\n",
    "c = Car()\n",
    "print(isinstance(c, Car))"
   ]
  },
  {
   "cell_type": "code",
   "execution_count": 29,
   "id": "5770ec37",
   "metadata": {
    "ExecuteTime": {
     "end_time": "2022-03-10T07:19:49.770068Z",
     "start_time": "2022-03-10T07:19:49.755086Z"
    }
   },
   "outputs": [
    {
     "name": "stdout",
     "output_type": "stream",
     "text": [
      "True\n"
     ]
    }
   ],
   "source": [
    "'''\n",
    "issubclass(자식클래스이름,부모클래스이름)\n",
    "  ㄴ 자식클래스가 부모클래스의 자식클래스인지 알려줌\n",
    "'''\n",
    "class Parent:\n",
    "    pass\n",
    "class Child(Parent):\n",
    "    pass\n",
    "print(issubclass(Child, Parent))"
   ]
  },
  {
   "cell_type": "code",
   "execution_count": null,
   "id": "8b009082",
   "metadata": {},
   "outputs": [],
   "source": []
  },
  {
   "cell_type": "code",
   "execution_count": null,
   "id": "c85e68db",
   "metadata": {},
   "outputs": [],
   "source": []
  }
 ],
 "metadata": {
  "hide_input": false,
  "kernelspec": {
   "display_name": "Python 3 (ipykernel)",
   "language": "python",
   "name": "python3"
  },
  "language_info": {
   "codemirror_mode": {
    "name": "ipython",
    "version": 3
   },
   "file_extension": ".py",
   "mimetype": "text/x-python",
   "name": "python",
   "nbconvert_exporter": "python",
   "pygments_lexer": "ipython3",
   "version": "3.9.7"
  },
  "toc": {
   "base_numbering": 1,
   "nav_menu": {},
   "number_sections": true,
   "sideBar": true,
   "skip_h1_title": false,
   "title_cell": "Table of Contents",
   "title_sidebar": "Contents",
   "toc_cell": false,
   "toc_position": {},
   "toc_section_display": true,
   "toc_window_display": false
  },
  "varInspector": {
   "cols": {
    "lenName": 16,
    "lenType": 16,
    "lenVar": 40
   },
   "kernels_config": {
    "python": {
     "delete_cmd_postfix": "",
     "delete_cmd_prefix": "del ",
     "library": "var_list.py",
     "varRefreshCmd": "print(var_dic_list())"
    },
    "r": {
     "delete_cmd_postfix": ") ",
     "delete_cmd_prefix": "rm(",
     "library": "var_list.r",
     "varRefreshCmd": "cat(var_dic_list()) "
    }
   },
   "types_to_exclude": [
    "module",
    "function",
    "builtin_function_or_method",
    "instance",
    "_Feature"
   ],
   "window_display": false
  }
 },
 "nbformat": 4,
 "nbformat_minor": 5
}
