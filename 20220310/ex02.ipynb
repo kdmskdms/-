{
 "cells": [
  {
   "cell_type": "code",
   "execution_count": null,
   "id": "feabb040",
   "metadata": {
    "ExecuteTime": {
     "end_time": "2022-03-10T02:21:26.499262Z",
     "start_time": "2022-03-10T02:21:20.976153Z"
    },
    "scrolled": true
   },
   "outputs": [],
   "source": [
    "'''\n",
    "현재 가격을 입력받아서 (매개변수)\n",
    "30% 인상된 가격을 출력하는\n",
    "함수를 정의하고 호출하세요\n",
    "\n",
    "함수이름 : print_30\n",
    "'''\n",
    "def print_30(price):\n",
    "    print(price * 1.3,\"원\")\n",
    "price = int(input(\"현재 가격을 입력하세요 : \"))    \n",
    "print_30(price)\n",
    "\n",
    "# return 값이 있는 함수 형태\n",
    "def print_30high(price):\n",
    "    return price * 1.3\n",
    "price = int(input(\"현재 가격을 입력하세요 : \"))\n",
    "result = print_30high(price)\n",
    "print(\"30% 인상된 가격 :\",result,\"원\")"
   ]
  },
  {
   "cell_type": "code",
   "execution_count": null,
   "id": "f3858c85",
   "metadata": {
    "ExecuteTime": {
     "end_time": "2022-03-10T02:41:56.525752Z",
     "start_time": "2022-03-10T02:41:52.713789Z"
    }
   },
   "outputs": [],
   "source": [
    "'''\n",
    "두 개의 정수를 입력 받아서\n",
    "덧셈, 뺄셈, 곱셈, 나눗셈 의 \n",
    "1) 결과를 출력하는 함수를 작성하세요\n",
    "  ㄴ return 값이 없는 함수\n",
    "\n",
    "2) 결과를 반환하는 함수를 작성하세요\n",
    "    ㄴ 반환된 값을 출력하세요\n",
    "         ㄴ return 값이 있는 함수\n",
    "\n",
    "1)과 2) 두 가지 모두 해 보세요\n",
    "\n",
    "함수 이름 : print_multi \n",
    "'''\n",
    "def print_multi(num1, num2):\n",
    "    print(\"덧셈   :\",num1 + num2)\n",
    "    print(\"뺄셈   :\",num1 - num2)\n",
    "    print(\"곱셈   :\",num1 * num2)\n",
    "    print(\"나눗셈 :\",num1 / num2)\n",
    "    \n",
    "num1, num2 = input(\"정수 두 개를 입력하세요 (공백으로 구분) :\").split()    \n",
    "num1 = int(num1)\n",
    "num2 = int(num2)\n",
    "\n",
    "print_multi(num1, num2)"
   ]
  },
  {
   "cell_type": "code",
   "execution_count": null,
   "id": "f316e486",
   "metadata": {
    "ExecuteTime": {
     "end_time": "2022-03-10T02:46:16.803501Z",
     "start_time": "2022-03-10T02:46:15.333292Z"
    }
   },
   "outputs": [],
   "source": [
    "# return 값이 있는 형태\n",
    "def print_multi2(num1, num2):\n",
    "    return num1 + num2, num1 - num2, num1 * num2, num1 / num2\n",
    "\n",
    "num1, num2 = input(\"정수 두 개를 입력하세요 (공백으로 구분) : \").split()\n",
    "\n",
    "num1 = int(num1)\n",
    "num2 = int(num2)\n",
    "\n",
    "add, subtract, multiplication, division = print_multi2(num1, num2)\n",
    "\n",
    "print(f\"덧셈 : {add}\\n\"\n",
    "      f\"뺄셈 : {subtract}\\n\"\n",
    "      f\"곱셈 : {multiplication}\\n\"\n",
    "      f\"나눗셈 : {division}\")"
   ]
  },
  {
   "cell_type": "code",
   "execution_count": null,
   "id": "4074f0ee",
   "metadata": {
    "ExecuteTime": {
     "end_time": "2022-03-10T02:55:58.225458Z",
     "start_time": "2022-03-10T02:55:54.676341Z"
    }
   },
   "outputs": [],
   "source": [
    "'''\n",
    "입력된 문자열을 거꾸로 출력하는\n",
    "함수를 작성하고 호출하세요\n",
    "(결과를 출력하세요)\n",
    "[힌트] 슬라이싱 [::-1]\n",
    "함수이름 : reverse_str\n",
    "'''\n",
    "def reverse_str(str1):\n",
    "    print(str1[::-1])\n",
    "str1 = input(\"문자열을 입력하세요 : \")    \n",
    "reverse_str(str1)\n",
    "\n",
    "def reverse_str2(str1):\n",
    "    return str1[::-1]\n",
    "str1 = input(\"문자열을 입력하세요 :\")\n",
    "print(reverse_str2(str1))"
   ]
  },
  {
   "cell_type": "code",
   "execution_count": null,
   "id": "5f48b7cf",
   "metadata": {
    "ExecuteTime": {
     "end_time": "2022-03-10T03:04:00.529224Z",
     "start_time": "2022-03-10T03:04:00.524226Z"
    }
   },
   "outputs": [],
   "source": [
    "'''\n",
    "3 명의 학생 성적이 저장된 \n",
    "성적 리스트가 있습니다.\n",
    "학생들의 성적을 입력받아서\n",
    "평균을 반환하는 함수를 작성하고 호출하세요\n",
    "(소숫점 2 째 자리까지 )\n",
    " \n",
    "함수이름 : calc_score\n",
    "매개변수에 성적 리스트를 전달해서 \n",
    "호출해 주세요\n",
    "'''\n",
    "list_scores = [89, 76, 96]\n",
    "def calc_score(list_scores):\n",
    "    total = 0\n",
    "    for score in list_scores:\n",
    "        total += score\n",
    "    average = total / len(list_scores)\n",
    "    return average\n",
    "print(f\"평균 : {calc_score(list_scores):.2f} 점\")"
   ]
  },
  {
   "cell_type": "code",
   "execution_count": null,
   "id": "0cb069b8",
   "metadata": {
    "ExecuteTime": {
     "end_time": "2022-03-10T03:15:48.863916Z",
     "start_time": "2022-03-10T03:15:48.842644Z"
    }
   },
   "outputs": [],
   "source": [
    "'''\n",
    "숫자들이 저장된 리스트를 입력받아서\n",
    "짝수만 들어있는 리스트를\n",
    "반환하는 함수를 작성하고 호출하세요(출력)\n",
    "1) for 문 사용\n",
    "2) 리스트컴프리헨션 사용\n",
    "'''\n",
    "# 1) for 문 사용\n",
    "list_numbers = list(range(1, 21))\n",
    "list_evens = []\n",
    "def even_numbers(list_numbers):    \n",
    "    for number in list_numbers:\n",
    "        if number % 2 == 0:\n",
    "            list_evens.append(number)\n",
    "    return list_evens\n",
    "result = even_numbers(list_numbers)\n",
    "print(\"result :\",result)\n",
    "print(\"list_evens :\",list_evens)\n",
    "print(\"-\" * 40)\n",
    "\n",
    "list_numbers = list(range(1, 21))\n",
    "list_evens = []\n",
    "def even_numbers(list_numbers):     \n",
    "    for number in list_numbers:\n",
    "        if number % 2 == 0:\n",
    "            list_evens.append(number)\n",
    "    return list_evens\n",
    "result = even_numbers(list_numbers)\n",
    "print(\"result :\",result)\n",
    "print(\"list_evens :\",list_evens)\n",
    "\n",
    "\n",
    "# 2) 리스트컴프리헨션 사용\n",
    "def even_numbers2(list_numbers):\n",
    "    return [number for number in list_numbers if number % 2 == 0]\n",
    "\n",
    "def even_numbers3(list_numbers):\n",
    "    return [number for number in list_numbers if not number % 2]\n",
    "\n",
    "print(\"result :\",even_numbers2(list_numbers))\n",
    "print(\"result :\",even_numbers3(list_numbers))\n"
   ]
  },
  {
   "cell_type": "code",
   "execution_count": null,
   "id": "e4e6155b",
   "metadata": {
    "ExecuteTime": {
     "end_time": "2022-03-10T04:38:40.024484Z",
     "start_time": "2022-03-10T04:38:40.005494Z"
    }
   },
   "outputs": [],
   "source": [
    "number = 2\n",
    "def test1():       \n",
    "    print(\"전역변수 값을 사용해서 연산도 하고 할당까지 하는 경우\")\n",
    "    # global number 라고 선언해 주어야 함  선언해 주지 않으면 오류가 발생함\n",
    "    # UnboundLocalError: local variable 'number' referenced before assignment    \n",
    "    global number\n",
    "    # 전역변수를 사용한다고 선언하든지\n",
    "    # 지역변수로 선언하든지 둘 중 하나를 먼저 해 주어야 함\n",
    "    # number = 10\n",
    "    number = number + 1\n",
    "    return number\n",
    "print(\"test1() :\",test1())\n",
    "print(\"number :\",number) \n",
    "print(\"-\" * 60)\n",
    "\n",
    "number = 2\n",
    "def test1():   \n",
    "    print(\"전역변수 값을 사용해서 연산만 하고 할당은 안 하는 경우 - 1\")    \n",
    "    # 이 경우에는 함수 내부에서의 연산결과를 전역변수에 할당하는 것이 아님\n",
    "    # number 라는 변수가 메모리에 있는지 없는지 함수 내부에서 먼저 찾아보고\n",
    "    # 함수 내부에 없으면 전역 스코프에서 찾아봄\n",
    "    return number + 1\n",
    "print(\"test1() :\",test1())\n",
    "print(\"number :\",number) \n",
    "print(\"-\" * 60)\n",
    "\n",
    "number2 = 2\n",
    "def test2(): \n",
    "    global number2   \n",
    "    print(\"전역변수 값을 사용해서 연산만 하고 할당은 안 하는 경우 - 2\")  \n",
    "    # 이 경우에는 함수 내부에서의 연산결과를 전역변수에 할당하는 것이 아님\n",
    "    return number2 + 1\n",
    "print(\"test2() :\",test2())\n",
    "print(\"number2 :\",number2)\n",
    "print(\"-\" * 60)\n",
    "\n",
    "number3 = 2\n",
    "def test3(number3):\n",
    "    print(\"매개변수로 들어온 값으로 연산하고 지역변수에 할당하는 경우\")\n",
    "    #   ㄴ 전역변수에는 값이 할당되지 않음\n",
    "    number3 = number3 + 1\n",
    "    return number3\n",
    "    \n",
    "print(\"test3(number3) :\",test3(number3))\n",
    "print(\"number3 :\",number3)\n",
    "print(\"-\" * 60)\n",
    "\n",
    "# 전역변수 이름과 매개변수(parameter) 의 이름이 중복되면 error 발생함\n",
    "# SyntaxError: name 'number4' is parameter and global\n",
    "number4 = 2\n",
    "def test4(number4):\n",
    "    print(\"전역변수 이름과 매개변수(parameter) 의 이름은 다르게 해야 구분이 됨\")    \n",
    "    # global number4\n",
    "    print(\"매개변수로 들어온 값으로 연산하고 지역변수에 할당하는 경우\")\n",
    "    #   ㄴ 전역변수에는 값이 할당되지 않음\n",
    "    number4 = number4 + 1\n",
    "    return number4\n",
    "    \n",
    "print(\"test4(number4) :\",test4(number4))\n",
    "print(\"number4 :\",number4)\n",
    "print(\"-\" * 60)\n",
    "\n",
    "number4 = 2\n",
    "def test4(number4):\n",
    "    print(\"전역변수 이름과 매개변수(parameter) 의 이름은 다르게 해야 구분이 됨\")    \n",
    "    # global number4\n",
    "    print(\"매개변수로 들어온 값으로 연산하고 지역변수에 할당하는 경우\")\n",
    "    #   ㄴ 전역변수에는 값이 할당되지 않음\n",
    "    return number4 + 1\n",
    "    \n",
    "print(\"test4(number4) :\",test4(number4))\n",
    "print(\"number4 :\",number4)\n",
    "print(\"-\" * 60)"
   ]
  },
  {
   "cell_type": "code",
   "execution_count": null,
   "id": "77aa6348",
   "metadata": {
    "ExecuteTime": {
     "end_time": "2022-03-10T04:53:39.035977Z",
     "start_time": "2022-03-10T04:53:39.020985Z"
    }
   },
   "outputs": [],
   "source": [
    "'''\n",
    "학생 한 사람의 정보(이름, 나이, 성별)가 저장된\n",
    "dictionary 를 입력받아서\n",
    "dictionary 의 key 값만 반환하는 함수를 작성하고\n",
    "호출하세요\n",
    "'''\n",
    "dict_info = {\"이름\":\"글로벌\",\"나이\":23,\"성별\":\"남자\"}\n",
    "def return_keys(dictionary):\n",
    "    list_keys = []\n",
    "    for key in dictionary:\n",
    "        list_keys.append(key)\n",
    "    return list_keys\n",
    "result = return_keys(dict_info)\n",
    "print(\"result :\",result)"
   ]
  },
  {
   "cell_type": "code",
   "execution_count": null,
   "id": "85f6ac2b",
   "metadata": {
    "ExecuteTime": {
     "end_time": "2022-03-10T04:57:23.350799Z",
     "start_time": "2022-03-10T04:57:23.331821Z"
    }
   },
   "outputs": [],
   "source": [
    "'''\n",
    "dictionary 의 value 값만 반환하는 함수를 작성하고\n",
    "호출하세요\n",
    "'''\n",
    "def return_values(dictionary):\n",
    "    list_values = []\n",
    "    for value in dictionary.values():\n",
    "        list_values.append(value)\n",
    "    return list_values\n",
    "result = return_values(dict_info)\n",
    "print(\"result :\",result)\n",
    "\n",
    "def return_items(dictionary):\n",
    "    list_items = []\n",
    "    for item in dictionary.items():\n",
    "        list_items.append(item)\n",
    "    return list_items\n",
    "\n",
    "result = return_items(dict_info)\n",
    "print(\"result :\",result)"
   ]
  },
  {
   "cell_type": "code",
   "execution_count": null,
   "id": "b9f5080a",
   "metadata": {
    "ExecuteTime": {
     "end_time": "2022-03-10T05:14:46.942302Z",
     "start_time": "2022-03-10T05:14:46.932296Z"
    }
   },
   "outputs": [],
   "source": [
    "'''\n",
    "문자열 받아서 한 줄에 6 글자씩 출력하는\n",
    "함수를 작성하고 호출하세요\n",
    "\n",
    "str1 = \"abcdefghijklmnopqrstuvwxyz1234567890~!@#$%^&*()_+|\"\n",
    "\n",
    "1) for 문 + count 변수\n",
    "\n",
    "2) for 문 + slicing\n",
    "'''\n",
    "def print_6str(input_str):\n",
    "    count = 0\n",
    "    for str1 in input_str:\n",
    "        print(str1, end=\"\")\n",
    "        count += 1\n",
    "        if count == 6:\n",
    "            print()\n",
    "            count = 0\n",
    "\n",
    "str1 = \"abcdefghijklmnopqrstuvwxyz1234567890~!@#$%^&*()_+|\"\n",
    "print_6str(str1)\n",
    "print()\n",
    "print(\"-\" * 50)\n"
   ]
  },
  {
   "cell_type": "code",
   "execution_count": null,
   "id": "68e19f09",
   "metadata": {
    "ExecuteTime": {
     "end_time": "2022-03-10T05:14:51.234631Z",
     "start_time": "2022-03-10T05:14:49.219027Z"
    }
   },
   "outputs": [],
   "source": [
    "def print_n_str(input_str, n):\n",
    "    count = 0\n",
    "    for str1 in input_str:\n",
    "        print(str1, end=\"\")\n",
    "        count += 1\n",
    "        if count == n:\n",
    "            print()\n",
    "            count = 0\n",
    "\n",
    "n = int(input(\"한 줄에 출력할 문자의 개수를 입력하세요 : \"))            \n",
    "print_n_str(str1, n)  \n",
    "print()\n",
    "print(\"-\" * 50)"
   ]
  },
  {
   "cell_type": "code",
   "execution_count": null,
   "id": "981649c4",
   "metadata": {
    "ExecuteTime": {
     "end_time": "2022-03-10T05:32:41.499451Z",
     "start_time": "2022-03-10T05:32:41.482467Z"
    }
   },
   "outputs": [],
   "source": [
    "'''\n",
    "str1 = \"abcdefghijklmnopqrstuvwxyz1234567890~!@#$%^&*()_+|\"\n",
    "\n",
    "반복할행의개수 = 문자열의길이 // 한줄에출력하는문자의개수 + 1 \n",
    "line_number        len(str1)          6                   + 1 \n",
    "\n",
    "for 인덱스 in range(반복할행의개수):\n",
    "     print(str1[시작:끝])\n",
    "     \n",
    "for one_line in range(line_number):\n",
    "     print(str1[one_line*6:one_line*6 + 6])     \n",
    "\n",
    "0     [0:6]          [one_line*6:one_line*6 + 6]\n",
    "1     [6:12]         [one_line*6:one_line*6 + 6]\n",
    "2     [12:18]        [one_line*6:one_line*6 + 6]\n",
    "3     [18:24]\n",
    "4     [24:30]\n",
    "5     [30:36]\n",
    "6     [36:42]                                                        \n",
    "7     [42:48]\n",
    "8     [48:54]\n",
    "9     [54:끝까지]\n",
    "'''\n",
    "def print_6_str(str1):\n",
    "    remainder = len(str1) // 6\n",
    "    if remainder == 0:\n",
    "        line_number = len(str1) // 6\n",
    "    else:\n",
    "        line_number = len(str1) // 6 + 1         \n",
    "    for one_line in range(line_number):\n",
    "         print(str1[one_line*6:one_line*6 + 6])    \n",
    "print_6_str(str1)   \n",
    "print(\"-\" * 50)\n"
   ]
  },
  {
   "cell_type": "code",
   "execution_count": null,
   "id": "d0de6959",
   "metadata": {
    "ExecuteTime": {
     "end_time": "2022-03-10T05:32:55.190301Z",
     "start_time": "2022-03-10T05:32:52.972457Z"
    }
   },
   "outputs": [],
   "source": [
    "def print_6_str2(str1, num):\n",
    "    remainder = len(str1) // 6\n",
    "    if remainder == 0:\n",
    "        line_number = len(str1) // 6\n",
    "    else:\n",
    "        line_number = len(str1) // 6 + 1  \n",
    "    for one_line in range(line_number):\n",
    "        print(str1[one_line*num:one_line*num + num])    \n",
    "            \n",
    "num = int(input(\"한 줄에 출력한 문자의 개수를 입력하세요 : \"))            \n",
    "print_6_str2(str1, num) "
   ]
  },
  {
   "cell_type": "code",
   "execution_count": null,
   "id": "bb89a73d",
   "metadata": {
    "ExecuteTime": {
     "end_time": "2022-03-10T05:43:15.467766Z",
     "start_time": "2022-03-10T05:43:13.464825Z"
    }
   },
   "outputs": [],
   "source": [
    "def print_6_str3(str1, num):\n",
    "    for one_line in range(len(str1)):\n",
    "        if one_line % num == 0:\n",
    "            print(str1[one_line:one_line + num])\n",
    "\n",
    "num = int(input(\"한 줄에 출력한 문자의 개수를 입력하세요 : \"))\n",
    "print_6_str3(str1, num)"
   ]
  },
  {
   "cell_type": "code",
   "execution_count": null,
   "id": "2219cae8",
   "metadata": {
    "ExecuteTime": {
     "end_time": "2022-03-10T05:56:05.224528Z",
     "start_time": "2022-03-10T05:56:02.135902Z"
    }
   },
   "outputs": [],
   "source": [
    "'''\n",
    "연봉을 입력받아서 <-- parameter\n",
    "월급을 반환하는 함수를 작성하고\n",
    "호출하여 결과를 확인하세요\n",
    "(함수이름 : return_salary)\n",
    "'''\n",
    "def return_salary(annual_income):\n",
    "    salary = annual_income / 12\n",
    "    return salary\n",
    "\n",
    "annual_income = int(input(\"연봉을 입력하세요 : \"))\n",
    "monthly_income = return_salary(annual_income)\n",
    "print(f\"월급 : {monthly_income:.2f} 원\")"
   ]
  },
  {
   "cell_type": "code",
   "execution_count": null,
   "id": "97ba3c55",
   "metadata": {
    "ExecuteTime": {
     "end_time": "2022-03-10T06:08:05.236083Z",
     "start_time": "2022-03-10T06:08:05.215108Z"
    }
   },
   "outputs": [],
   "source": [
    "'''\n",
    "dict_market 에 날짜를 키값으로 하는 OHLC 가 저장된 경우\n",
    "dict_market 과 날짜(키값)를 입력받아서\n",
    "OLHC 리스트를 반환하는 함수를 작성하세요\n",
    "O : OPEN  PRICE 시가\n",
    "L : LOW   PRICE 저가\n",
    "H : HIGH  PRICE 고가\n",
    "C : CLOSE PRICE 종가\n",
    "\n",
    "'''\n",
    "dict_market = {\"04/01\" : [10300, 10100, 10500, 10200],\n",
    "               \"04/02\" : [10100, 10000, 10500, 10300],\n",
    "               \"04/03\" : [10100, 10000, 10700, 10500]}\n",
    "\n",
    "def print_stock_info(market_info, date):\n",
    "    return market_info[date]\n",
    "\n",
    "olhc = print_stock_info(dict_market, \"04/02\")\n",
    "print(\"olhc :\",olhc)\n",
    "\n",
    "# 4월3일의 고가를 출력하세요\n",
    "lohc = print_stock_info(dict_market, \"04/03\")\n",
    "print(\"4월 3일 고가 :\",lohc[2],\"원\")\n",
    "print(\"4월 3일 고가 :\",format(lohc[2], \",\"),\"원\")\n",
    "print(\"4월 3일 고가 :\",format(max(lohc), \",\"),\"원\")\n",
    "print(\"4월 3일 저가 :\",format(min(lohc), \",\"),\"원\")\n",
    "print(\"4월 3일 합계 :\",format(sum(lohc), \",\"),\"원\")"
   ]
  },
  {
   "cell_type": "code",
   "execution_count": 84,
   "id": "99a135af",
   "metadata": {
    "ExecuteTime": {
     "end_time": "2022-03-10T06:19:02.772391Z",
     "start_time": "2022-03-10T06:19:02.759397Z"
    }
   },
   "outputs": [
    {
     "name": "stdout",
     "output_type": "stream",
     "text": [
      "result : ['p', 'y', 't', 'h', 'o', 'n']\n",
      "--------------------------------------------------\n",
      "result : ['p, y, t, h, o, n']\n",
      "--------------------------------------------------\n",
      "result : ['p', 'y', 't', 'h', 'o', 'n']\n"
     ]
    }
   ],
   "source": [
    "'''\n",
    "문자열을 입력받아서\n",
    "해당 문자열을 구성하는 각각의 문자들을\n",
    "요소로 하는 리스트를 반환하는 함수를 작성하세요\n",
    "\n",
    " 'python' --> ['p','y','t','h','o','n']\n",
    " \n",
    "  join()\n",
    " 'python' --> ['p, y, t, h, o, n'] \n",
    "'''\n",
    "def return_str_list(str1):\n",
    "    str_list = []\n",
    "    for character in str1:\n",
    "        str_list.append(character)\n",
    "    return str_list\n",
    "\n",
    "result = return_str_list(\"python\")\n",
    "print(\"result :\",result)\n",
    "print(\"-\" * 50)\n",
    "\n",
    "def set_str(input_str):\n",
    "    return [\", \".join(input_str)]\n",
    "result = set_str(\"python\")\n",
    "print(\"result :\",result)\n",
    "print(\"-\" * 50)\n",
    "\n",
    "def set_str2(input_str):\n",
    "    return list(input_str)\n",
    "result = set_str2(\"python\")\n",
    "print(\"result :\",result)"
   ]
  },
  {
   "cell_type": "code",
   "execution_count": null,
   "id": "17d78537",
   "metadata": {},
   "outputs": [],
   "source": []
  },
  {
   "cell_type": "code",
   "execution_count": null,
   "id": "915d02fc",
   "metadata": {},
   "outputs": [],
   "source": []
  },
  {
   "cell_type": "code",
   "execution_count": null,
   "id": "e9261da6",
   "metadata": {},
   "outputs": [],
   "source": []
  },
  {
   "cell_type": "code",
   "execution_count": null,
   "id": "fdaae0dd",
   "metadata": {},
   "outputs": [],
   "source": []
  }
 ],
 "metadata": {
  "hide_input": false,
  "kernelspec": {
   "display_name": "Python 3 (ipykernel)",
   "language": "python",
   "name": "python3"
  },
  "language_info": {
   "codemirror_mode": {
    "name": "ipython",
    "version": 3
   },
   "file_extension": ".py",
   "mimetype": "text/x-python",
   "name": "python",
   "nbconvert_exporter": "python",
   "pygments_lexer": "ipython3",
   "version": "3.9.7"
  },
  "toc": {
   "base_numbering": 1,
   "nav_menu": {},
   "number_sections": true,
   "sideBar": true,
   "skip_h1_title": false,
   "title_cell": "Table of Contents",
   "title_sidebar": "Contents",
   "toc_cell": false,
   "toc_position": {},
   "toc_section_display": true,
   "toc_window_display": false
  },
  "varInspector": {
   "cols": {
    "lenName": 16,
    "lenType": 16,
    "lenVar": 40
   },
   "kernels_config": {
    "python": {
     "delete_cmd_postfix": "",
     "delete_cmd_prefix": "del ",
     "library": "var_list.py",
     "varRefreshCmd": "print(var_dic_list())"
    },
    "r": {
     "delete_cmd_postfix": ") ",
     "delete_cmd_prefix": "rm(",
     "library": "var_list.r",
     "varRefreshCmd": "cat(var_dic_list()) "
    }
   },
   "types_to_exclude": [
    "module",
    "function",
    "builtin_function_or_method",
    "instance",
    "_Feature"
   ],
   "window_display": false
  }
 },
 "nbformat": 4,
 "nbformat_minor": 5
}
