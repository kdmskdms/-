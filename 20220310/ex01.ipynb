{
 "cells": [
  {
   "cell_type": "code",
   "execution_count": null,
   "id": "887f2603",
   "metadata": {},
   "outputs": [],
   "source": [
    "'''\n",
    " 파일 생성하기\n",
    " \n",
    " 형식)\n",
    " 파일이름 : 파일이름 앞에 경로 포함\n",
    " 변수 = open(\"파일이름.확장자\",\"파일열기모드\",encoding=\"인코딩형식\") \n",
    "   <-- 이렇게 하면 파일 객체가 생성되고 변수를 사용해서 control 함  \n",
    "   \n",
    " 파일열기모드 :\n",
    " \n",
    "   r   읽기모드(read) - 파일을 읽는 경우 : 파일이 없으면 error 발생함\n",
    "   r+  읽기쓰기모드   - 파일이 없으면 error 발생하고\n",
    "                        쓰기의 경우, 기존의 data를 완전히 삭제하고 새로 씀\n",
    "                        global <-- ggg  :  ggg\n",
    "   w   쓰기모드(write)- 파일에 내용을 쓰는 경우 : 파일이 없으면 새로 생성함\n",
    "   w+  읽기쓰기모드   - 파일이 없으면 새로 생성함\n",
    "                        쓰기의 경우, 기존의 data를 덮어씀\n",
    "                        global <-- ggg  :  gggbal\n",
    "   a   추가모드(append)-파일에 기존의 내용이 있으면 그 이후에 추가함\n",
    "                        파일이 없으면 새로 생성함\n",
    "   a+  읽기추가(쓰기) - 파일이 없으면 새로 생성함\n",
    "   \n",
    "   rt (r+t) : t (text mode)\n",
    "   rb (r+b) : b (binary mode)\n",
    "'''"
   ]
  },
  {
   "cell_type": "code",
   "execution_count": null,
   "id": "fc096218",
   "metadata": {
    "ExecuteTime": {
     "end_time": "2022-03-10T00:39:54.862859Z",
     "start_time": "2022-03-10T00:39:54.849866Z"
    }
   },
   "outputs": [],
   "source": [
    "file1 = open(\"newfile.txt\",\"w\",encoding=\"utf-8\") \n",
    "\n",
    "for idx in range(1, 11):\n",
    "    str1 = f\"{idx} 번째 줄입니다\\n\"\n",
    "    file1.write(str1)\n",
    "    \n",
    "# close() 메소드 - IO 작업 후 메모리에 생성된 파일객체를 삭제함    \n",
    "file1.close()    "
   ]
  },
  {
   "cell_type": "code",
   "execution_count": null,
   "id": "9af4187d",
   "metadata": {
    "ExecuteTime": {
     "end_time": "2022-03-10T00:44:11.492478Z",
     "start_time": "2022-03-10T00:44:11.473479Z"
    }
   },
   "outputs": [],
   "source": [
    "file2 = open(\"newfile.txt\", \"r\", encoding=\"utf-8\")\n",
    "\n",
    "while True:\n",
    "    text_line = file2.readline()\n",
    "    \n",
    "    # 더 이상 읽을 data가 없으면 break\n",
    "    if not text_line:\n",
    "        break\n",
    "    for str1 in text_line:\n",
    "        print(str1, end=\"\")\n",
    "        \n",
    "file2.close()        "
   ]
  },
  {
   "cell_type": "code",
   "execution_count": null,
   "id": "45db765d",
   "metadata": {
    "ExecuteTime": {
     "end_time": "2022-03-10T00:50:58.551911Z",
     "start_time": "2022-03-10T00:50:58.532906Z"
    }
   },
   "outputs": [],
   "source": [
    "file3 = open(\"D:/test_io/newfile.txt\", \"w\", encoding=\"utf-8\")\n",
    "\n",
    "for idx in range(1, 11):\n",
    "    str1 = f\"{idx} 번째 줄입니다\\n\"\n",
    "    file3.write(str1)\n",
    "    \n",
    "file3.close()    \n"
   ]
  },
  {
   "cell_type": "code",
   "execution_count": null,
   "id": "d05106f1",
   "metadata": {
    "ExecuteTime": {
     "end_time": "2022-03-10T00:56:14.212709Z",
     "start_time": "2022-03-10T00:56:14.205722Z"
    }
   },
   "outputs": [],
   "source": [
    "file4 = open(\"D:/test_io/newfile.txt\", \"r\", encoding=\"utf-8\")\n",
    "\n",
    "while True:\n",
    "    text_line = file4.readline()\n",
    "    if not text_line:\n",
    "        break\n",
    "    for str1 in text_line:\n",
    "        print(str1, end=\"\")\n",
    "\n",
    "file4.close()\n",
    "        "
   ]
  },
  {
   "cell_type": "code",
   "execution_count": null,
   "id": "6602e9a2",
   "metadata": {
    "ExecuteTime": {
     "end_time": "2022-03-10T00:58:26.231558Z",
     "start_time": "2022-03-10T00:58:26.227571Z"
    }
   },
   "outputs": [],
   "source": [
    "file5 = open(\"basic_test.txt\", \"w\", encoding=\"utf-8\")\n",
    "file5.write(\"hello python !!!\")\n",
    "file5.close()"
   ]
  },
  {
   "cell_type": "code",
   "execution_count": null,
   "id": "d84359a5",
   "metadata": {
    "ExecuteTime": {
     "end_time": "2022-03-10T00:59:30.827829Z",
     "start_time": "2022-03-10T00:59:30.813847Z"
    }
   },
   "outputs": [],
   "source": [
    "file6 = open(\"basic_test.txt\", \"r\", encoding=\"utf-8\")\n",
    "read_text = file6.read()\n",
    "print(read_text)\n",
    "file6.close()"
   ]
  },
  {
   "cell_type": "code",
   "execution_count": null,
   "id": "a7f74977",
   "metadata": {
    "ExecuteTime": {
     "end_time": "2022-03-10T01:07:21.312938Z",
     "start_time": "2022-03-10T01:07:21.308940Z"
    }
   },
   "outputs": [],
   "source": [
    "# import random\n",
    "from random import *\n",
    "\n",
    "letters = list(\"가나다라마바사아자차카타파하\")\n",
    "file7 = open(\"health_info.txt\", \"w\", encoding=\"utf-8\")\n",
    "\n",
    "for i in range(30):\n",
    "    name   = choice(letters) + choice(letters)\n",
    "    weight = randrange(40, 100)\n",
    "    height = randrange(140, 200)\n",
    "    file7.write(\"{}, {}, {}\\n\".format(name, weight, height))\n",
    "    \n",
    "file7.close()    "
   ]
  },
  {
   "cell_type": "code",
   "execution_count": null,
   "id": "49b87274",
   "metadata": {
    "ExecuteTime": {
     "end_time": "2022-03-10T01:41:56.893531Z",
     "start_time": "2022-03-10T01:41:56.882528Z"
    }
   },
   "outputs": [],
   "source": [
    "file8 = open(\"health_info.txt\", \"r\", encoding=\"utf-8\")\n",
    "\n",
    "for line in file8:\n",
    "    \"카가, 58, 159\"\n",
    "    name, weight, height = line.strip().split(\", \")\n",
    "    \n",
    "    # name, weight, height 중 하나라도 없으면\n",
    "    # 체질량수를 구할 수 없으므로 그 줄은 skip함\n",
    "    if (not name) or (not weight) or (not height):\n",
    "        continue\n",
    "        \n",
    "    '''\n",
    "    체질량수 = 체중 / (키/100)의 제곱\n",
    "    body mass index (bmi)    \n",
    "    정상 체중 : 18.5 <= bmi <= 24\n",
    "    '''    \n",
    "    bmi = int(weight) / (int(height) / 100) ** 2\n",
    "    result = \"\"\n",
    "    \n",
    "    if 25 <= bmi:\n",
    "        result = \"과체중\"\n",
    "    elif 18.8 <= bmi:\n",
    "        result = \"정상체중\"\n",
    "    else:\n",
    "        result = \"저체중\"\n",
    "        \n",
    "    print(f\"이름   : {name}\\n\"\n",
    "          f\"몸무게 : {weight}\\n\"\n",
    "          f\"키     : {height}\\n\"\n",
    "          f\"BMI    : {bmi:.2f}\\n\"\n",
    "          f\"결과   : {result}\")    \n",
    "    print(\"-\" * 40)"
   ]
  },
  {
   "cell_type": "code",
   "execution_count": null,
   "id": "06e0384c",
   "metadata": {
    "ExecuteTime": {
     "end_time": "2022-03-10T01:45:34.403511Z",
     "start_time": "2022-03-10T01:45:34.387522Z"
    }
   },
   "outputs": [],
   "source": [
    "'''\n",
    "  with 구문 : close() 를 호출하지 않아도 자동으로 호출됨\n",
    "    ㄴ 형식)\n",
    "       with open(\"파일이름.확장자\",\"파일읽기모드\",encoding=\"\") as 변수:\n",
    "           code....\n",
    "       ㄴ with block 을 벗어나면 자동으로 close() 됨        \n",
    "'''\n",
    "with open(\"with_test.txt\", \"w\", encoding=\"utf-8\") as file9:\n",
    "    file9.write(\"python program is the best programming language\")"
   ]
  },
  {
   "cell_type": "code",
   "execution_count": null,
   "id": "65488456",
   "metadata": {
    "ExecuteTime": {
     "end_time": "2022-03-10T01:46:28.344463Z",
     "start_time": "2022-03-10T01:46:28.336471Z"
    }
   },
   "outputs": [],
   "source": [
    "with open(\"with_test.txt\", \"r\", encoding=\"utf-8\") as file10:\n",
    "    str1 = file10.read()\n",
    "    print(str1)"
   ]
  },
  {
   "cell_type": "code",
   "execution_count": null,
   "id": "34a0b22d",
   "metadata": {
    "ExecuteTime": {
     "end_time": "2022-03-10T02:03:12.688121Z",
     "start_time": "2022-03-10T02:03:12.680127Z"
    }
   },
   "outputs": [],
   "source": [
    "'''\n",
    "리스트에 저장된 문자열을 쓰고 읽기 : lines() 메소드 사용\n",
    "                                     쓸   때 : write(), writelines()\n",
    "                                     읽을 때 : read(), readline(), readlines(), \n",
    "                                     \n",
    "1) read() - 파일 내용 전체를 가져와 문자열로 반환합니다.\n",
    "            readlines()와 마찬가지로 파일 내용 전체를 읽고, \n",
    "            파일 내용 전체를 하나의 문자열로 반환합니다.\n",
    "\n",
    "2) readline() - 파일의 한 줄을 가져와 문자열로 반환합니다\n",
    "\n",
    "3) readlines() - 파일 내용 전체를 가져와 리스트로 반환합니다. \n",
    "                 각 줄은 문자열 형태로 리스트의 요소로 저장됩니다.\n",
    "                 3줄짜리 파일을 readlines() 로 읽게 되면 \n",
    "                 문자열 3개를 요소로 갖는 리스트가 반환됩니다.  \n",
    "                 \n",
    "4) write() - 파일에 문자열을 씀\n",
    "5) writelines() - 리스트에 들어있는 문자열을 파일에 씀\n",
    "\n",
    "   writeline() 메소드는 없음\n",
    "   \n",
    "'''\n",
    "\n",
    "list_strs = [\"안녕하세요\\n\", \"글로벌\\n\", \"아이티\\n\", \"인재개발원입니다\"]\n",
    "\n",
    "with open(\"say_hello.txt\", \"w\", encoding=\"utf-8\") as file11:\n",
    "    file11.writelines(list_strs)"
   ]
  },
  {
   "cell_type": "code",
   "execution_count": null,
   "id": "8579c61a",
   "metadata": {
    "ExecuteTime": {
     "end_time": "2022-03-10T02:03:14.186948Z",
     "start_time": "2022-03-10T02:03:14.166962Z"
    }
   },
   "outputs": [],
   "source": [
    "with open(\"say_hello.txt\", \"r\", encoding=\"utf-8\") as file12:\n",
    "    line_result = None\n",
    "    while line_result != \"\":\n",
    "        line_result = file12.readline()\n",
    "        print(line_result.strip(\"\\n\"))        "
   ]
  },
  {
   "cell_type": "code",
   "execution_count": null,
   "id": "7ee1289d",
   "metadata": {
    "ExecuteTime": {
     "end_time": "2022-03-10T02:11:37.711617Z",
     "start_time": "2022-03-10T02:11:37.696637Z"
    }
   },
   "outputs": [],
   "source": [
    "with open(\"say_hello.txt\", \"r\", encoding=\"utf-8\") as file13:\n",
    "    line_list = file13.readlines()\n",
    "    for line in line_list:\n",
    "        print(line.strip(\"\\n\"))    "
   ]
  },
  {
   "cell_type": "code",
   "execution_count": null,
   "id": "7dbe6c95",
   "metadata": {
    "ExecuteTime": {
     "end_time": "2022-03-10T02:13:42.984612Z",
     "start_time": "2022-03-10T02:13:42.966572Z"
    }
   },
   "outputs": [],
   "source": [
    "with open(\"say_hello.txt\", \"r\", encoding=\"utf-8\") as file14:\n",
    "    line_result = file14.read()\n",
    "    for line in line_result:\n",
    "        print(line, end=\"\")   "
   ]
  },
  {
   "cell_type": "code",
   "execution_count": null,
   "id": "c17bc162",
   "metadata": {},
   "outputs": [],
   "source": []
  },
  {
   "cell_type": "code",
   "execution_count": null,
   "id": "9c60890d",
   "metadata": {},
   "outputs": [],
   "source": []
  },
  {
   "cell_type": "code",
   "execution_count": null,
   "id": "9f1246d3",
   "metadata": {},
   "outputs": [],
   "source": []
  }
 ],
 "metadata": {
  "hide_input": false,
  "kernelspec": {
   "display_name": "Python 3 (ipykernel)",
   "language": "python",
   "name": "python3"
  },
  "language_info": {
   "codemirror_mode": {
    "name": "ipython",
    "version": 3
   },
   "file_extension": ".py",
   "mimetype": "text/x-python",
   "name": "python",
   "nbconvert_exporter": "python",
   "pygments_lexer": "ipython3",
   "version": "3.9.7"
  },
  "toc": {
   "base_numbering": 1,
   "nav_menu": {},
   "number_sections": true,
   "sideBar": true,
   "skip_h1_title": false,
   "title_cell": "Table of Contents",
   "title_sidebar": "Contents",
   "toc_cell": false,
   "toc_position": {},
   "toc_section_display": true,
   "toc_window_display": false
  },
  "varInspector": {
   "cols": {
    "lenName": 16,
    "lenType": 16,
    "lenVar": 40
   },
   "kernels_config": {
    "python": {
     "delete_cmd_postfix": "",
     "delete_cmd_prefix": "del ",
     "library": "var_list.py",
     "varRefreshCmd": "print(var_dic_list())"
    },
    "r": {
     "delete_cmd_postfix": ") ",
     "delete_cmd_prefix": "rm(",
     "library": "var_list.r",
     "varRefreshCmd": "cat(var_dic_list()) "
    }
   },
   "types_to_exclude": [
    "module",
    "function",
    "builtin_function_or_method",
    "instance",
    "_Feature"
   ],
   "window_display": false
  }
 },
 "nbformat": 4,
 "nbformat_minor": 5
}
