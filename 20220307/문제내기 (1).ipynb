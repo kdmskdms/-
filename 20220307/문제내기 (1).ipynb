{
 "cells": [
  {
   "cell_type": "code",
   "execution_count": 2,
   "id": "0b3791d6",
   "metadata": {},
   "outputs": [
    {
     "name": "stdout",
     "output_type": "stream",
     "text": [
      "3 X 1 = 3\n",
      "3 X 2 = 6\n",
      "3 X 3 = 9\n",
      "3 X 4 = 12\n",
      "3 X 5 = 15\n",
      "3 X 6 = 18\n",
      "3 X 7 = 21\n",
      "3 X 8 = 24\n",
      "3 X 9 = 27\n",
      "--------------------------------------------------\n",
      "3 X 1 = 3\n",
      "3 X 2 = 6\n",
      "3 X 3 = 9\n",
      "3 X 4 = 12\n",
      "3 X 5 = 15\n",
      "3 X 6 = 18\n",
      "3 X 7 = 21\n",
      "3 X 8 = 24\n",
      "3 X 9 = 27\n"
     ]
    }
   ],
   "source": [
    "'''\n",
    "for 문을 사용해서 구구단 3단만 출력하세여\n",
    "'''\n",
    "for number in range(1,10):\n",
    "    print(f\"3 X {number} = {3 * number}\")\n",
    "print(\"-\" * 50)\n",
    "number = 0\n",
    "while number < 9 :\n",
    "    number += 1\n",
    "    print(f\"3 X {number} = {3 * number}\")"
   ]
  },
  {
   "cell_type": "code",
   "execution_count": null,
   "id": "4266d8f3",
   "metadata": {},
   "outputs": [],
   "source": [
    "'''\n",
    "숫자 게임\n",
    "1부터 101까지 숫자 중에서 임의의 정수를\n",
    "컴퓨터가 발생시키면 숫자를 맞히는 게임\n",
    "사람이 입력한 숫자가 컴퓨터가 발생한 숫자보다 크면\n",
    "더 작은 수를 입력하세요를 출력하고\n",
    "사람이 입력한 숫자가 컴퓨터가 발생한 숫자보다 작으면면\n",
    "더 큰 수를 입력하세요를 출력하고\n",
    "숫자를 맞히면 축하합니다를 출력하면서 게임을 종료함\n",
    "'''\n",
    "import random\n",
    "number = random.randint(1, 101)\n",
    "answer = int(input(\"1부터 101까지 정수 중에서 하나를 입력하세요 :\"))\n",
    "count = 0\n",
    "while number !=answer:\n",
    "    count += 1\n",
    "    if numer > answer:\n",
    "        answer = int(input(\"더 큰 수를 입력하세요\"))\n",
    "    elif number < answer:\n",
    "        answer = int(input(\"더 작은 수를 입력하세요 :\"))\n",
    "print(\"축하합니다. 정답입니다!\")\n",
    "print(f\"{count+1}번 시도했습니다\")\n",
    "print(\"프로그램 종료\")"
   ]
  },
  {
   "cell_type": "code",
   "execution_count": 2,
   "id": "8198e7e8",
   "metadata": {},
   "outputs": [
    {
     "name": "stdout",
     "output_type": "stream",
     "text": [
      "2 X 1 = 2\n",
      "2 X 2 = 4\n",
      "2 X 3 = 6\n",
      "2 X 4 = 8\n",
      "2 X 5 = 10\n",
      "2 X 6 = 12\n",
      "2 X 7 = 14\n",
      "2 X 8 = 16\n",
      "2 X 9 = 18\n",
      "\n",
      "3 X 1 = 3\n",
      "3 X 2 = 6\n",
      "3 X 3 = 9\n",
      "3 X 4 = 12\n",
      "3 X 5 = 15\n",
      "3 X 6 = 18\n",
      "3 X 7 = 21\n",
      "3 X 8 = 24\n",
      "3 X 9 = 27\n",
      "\n",
      "4 X 1 = 4\n",
      "4 X 2 = 8\n",
      "4 X 3 = 12\n",
      "4 X 4 = 16\n",
      "4 X 5 = 20\n",
      "4 X 6 = 24\n",
      "4 X 7 = 28\n",
      "4 X 8 = 32\n",
      "4 X 9 = 36\n",
      "\n",
      "6 X 1 = 6\n",
      "6 X 2 = 12\n",
      "6 X 3 = 18\n",
      "6 X 4 = 24\n",
      "6 X 5 = 30\n",
      "6 X 6 = 36\n",
      "6 X 7 = 42\n",
      "6 X 8 = 48\n",
      "6 X 9 = 54\n",
      "\n",
      "7 X 1 = 7\n",
      "7 X 2 = 14\n",
      "7 X 3 = 21\n",
      "7 X 4 = 28\n",
      "7 X 5 = 35\n",
      "7 X 6 = 42\n",
      "7 X 7 = 49\n",
      "7 X 8 = 56\n",
      "7 X 9 = 63\n",
      "\n",
      "8 X 1 = 8\n",
      "8 X 2 = 16\n",
      "8 X 3 = 24\n",
      "8 X 4 = 32\n",
      "8 X 5 = 40\n",
      "8 X 6 = 48\n",
      "8 X 7 = 56\n",
      "8 X 8 = 64\n",
      "8 X 9 = 72\n",
      "\n",
      "9 X 1 = 9\n",
      "9 X 2 = 18\n",
      "9 X 3 = 27\n",
      "9 X 4 = 36\n",
      "9 X 5 = 45\n",
      "9 X 6 = 54\n",
      "9 X 7 = 63\n",
      "9 X 8 = 72\n",
      "9 X 9 = 81\n",
      "\n"
     ]
    }
   ],
   "source": [
    "'''\n",
    "5단만 출력하지않는 구구단을 작성하세요\n",
    "'''\n",
    "for i in range(2, 10):\n",
    "    if i == 5:\n",
    "        continue\n",
    "    for j in range(1, 10):\n",
    "        print(f\"{i} X {j} = {i * j}\")\n",
    "    print()"
   ]
  },
  {
   "cell_type": "code",
   "execution_count": 3,
   "id": "6b3aa8a7",
   "metadata": {},
   "outputs": [
    {
     "name": "stdout",
     "output_type": "stream",
     "text": [
      "9 X 1 = 9\n",
      "9 X 2 = 18\n",
      "9 X 3 = 27\n",
      "9 X 4 = 36\n",
      "9 X 6 = 54\n",
      "9 X 7 = 63\n",
      "9 X 8 = 72\n",
      "9 X 9 = 81\n",
      "\n",
      "9 X 1 = 9\n",
      "9 X 2 = 18\n",
      "9 X 3 = 27\n",
      "9 X 4 = 36\n",
      "9 X 6 = 54\n",
      "9 X 7 = 63\n",
      "9 X 8 = 72\n",
      "9 X 9 = 81\n",
      "\n",
      "9 X 1 = 9\n",
      "9 X 2 = 18\n",
      "9 X 3 = 27\n",
      "9 X 4 = 36\n",
      "9 X 6 = 54\n",
      "9 X 7 = 63\n",
      "9 X 8 = 72\n",
      "9 X 9 = 81\n",
      "\n",
      "9 X 1 = 9\n",
      "9 X 2 = 18\n",
      "9 X 3 = 27\n",
      "9 X 4 = 36\n",
      "9 X 6 = 54\n",
      "9 X 7 = 63\n",
      "9 X 8 = 72\n",
      "9 X 9 = 81\n",
      "\n",
      "9 X 1 = 9\n",
      "9 X 2 = 18\n",
      "9 X 3 = 27\n",
      "9 X 4 = 36\n",
      "9 X 6 = 54\n",
      "9 X 7 = 63\n",
      "9 X 8 = 72\n",
      "9 X 9 = 81\n",
      "\n",
      "9 X 1 = 9\n",
      "9 X 2 = 18\n",
      "9 X 3 = 27\n",
      "9 X 4 = 36\n",
      "9 X 6 = 54\n",
      "9 X 7 = 63\n",
      "9 X 8 = 72\n",
      "9 X 9 = 81\n",
      "\n",
      "9 X 1 = 9\n",
      "9 X 2 = 18\n",
      "9 X 3 = 27\n",
      "9 X 4 = 36\n",
      "9 X 6 = 54\n",
      "9 X 7 = 63\n",
      "9 X 8 = 72\n",
      "9 X 9 = 81\n",
      "\n",
      "9 X 1 = 9\n",
      "9 X 2 = 18\n",
      "9 X 3 = 27\n",
      "9 X 4 = 36\n",
      "9 X 6 = 54\n",
      "9 X 7 = 63\n",
      "9 X 8 = 72\n",
      "9 X 9 = 81\n",
      "\n"
     ]
    }
   ],
   "source": [
    "'''\n",
    "5만 곱하지 않는 구구단\n",
    "'''\n",
    "for number in range(2,10):\n",
    "    for j in range(1, 10):\n",
    "        if j == 5:\n",
    "            continue\n",
    "        print(f\"{i} X {j} = {i * j}\")\n",
    "    print()"
   ]
  },
  {
   "cell_type": "code",
   "execution_count": 5,
   "id": "b98c6628",
   "metadata": {},
   "outputs": [
    {
     "name": "stdout",
     "output_type": "stream",
     "text": [
      "list_output : ['사과', '자두', '바나나', '수박']\n",
      "list_result : ['사과', '자두', '바나나', '수박']\n"
     ]
    }
   ],
   "source": [
    "list_fruits = [\"사과\", \"자두\", \"떡갈비\", \"바나나\", \"수박\"]\n",
    "list_output = []\n",
    "for fruit in list_fruits:\n",
    "    if fruit != \"떡갈비\":\n",
    "        list_output.append(fruit)\n",
    "print(\"list_output :\", list_output)\n",
    "list_result = [fruit for fruit in list_fruits if fruit != \"떡갈비\"]\n",
    "print(\"list_result :\", list_result)"
   ]
  },
  {
   "cell_type": "code",
   "execution_count": 6,
   "id": "c6cf1345",
   "metadata": {},
   "outputs": [
    {
     "name": "stdout",
     "output_type": "stream",
     "text": [
      "list_odds : [4, 8]\n"
     ]
    }
   ],
   "source": [
    "'''\n",
    "다음 리스트 중에서 짝수에만 2를 곱하여 저장하세요\n",
    "'''\n",
    "numbers = [1 ,2 ,3 ,4 ,5]\n",
    "list_odds =[num * 2 for num in numbers if num % 2 == 0]\n",
    "print(\"list_odds :\", list_odds)"
   ]
  },
  {
   "cell_type": "code",
   "execution_count": 7,
   "id": "6c007f90",
   "metadata": {},
   "outputs": [
    {
     "name": "stdout",
     "output_type": "stream",
     "text": [
      "[1, 2, 3, 5, 6, 7, 9, 10, 11, 13, 14, 15, 17, 18, 19]\n"
     ]
    }
   ],
   "source": [
    "'''\n",
    "리스트 내포를 사용해서\n",
    "1 부터 20까지의 숫자 중에서 4의 배수를 제외해서 출력하세요\n",
    "range(1, 21)\n",
    "for 문  -->  리스트 내포\n",
    "\n",
    "조건을 포함하는 리스트 내포\n",
    " if\n",
    "[for 문 조건문]\n",
    " if else\n",
    "[조건문 for 문] \n",
    "'''\n",
    "list_result = []\n",
    "for num in range(1, 21):\n",
    "    if num % 4 !=0:\n",
    "        list_result.append(num)\n",
    "print(list_result)\n",
    "\n",
    "list_result = [num for num in range(1, 21) if num % 4 !=0]"
   ]
  },
  {
   "cell_type": "code",
   "execution_count": 8,
   "id": "899bec95",
   "metadata": {},
   "outputs": [
    {
     "name": "stdout",
     "output_type": "stream",
     "text": [
      "성적을 입력하세요: 75\n",
      "result : 합격\n",
      "result : 합격\n"
     ]
    }
   ],
   "source": [
    "'''\n",
    "성적을 입력 받아서 75 점 이상이면 합격, \n",
    "75 점 미만이면 불합격을 출력하세요.\n",
    "\n",
    "if 를 사용하는 삼항연산자\n",
    "\n",
    "result = 조건이참일때값 if 조건 else 조건이 거짓일때 값\n",
    "\n",
    "'''\n",
    "score = int(input(\"성적을 입력하세요: \"))\n",
    "result = \"\"\n",
    "if score >= 75:\n",
    "    result = \"합격\"\n",
    "else:\n",
    "    result = \"불합격\"\n",
    "print(\"result :\", result)\n",
    "result = \"합격\" if score >= 75 else \"불합격\"\n",
    "print(\"result :\", result)"
   ]
  },
  {
   "cell_type": "code",
   "execution_count": 1,
   "id": "9fe723e6",
   "metadata": {},
   "outputs": [
    {
     "name": "stdout",
     "output_type": "stream",
     "text": [
      "add_mulitply()함수 호출됨\n",
      "result : 90\n",
      "리턴값 <function add_multiply at 0x000001E5B625E040>\n",
      "add_multiply() 함수 리턴됨\n",
      "add_mulitply()함수 호출됨\n",
      "result : 90\n",
      "리턴값 : <function add_multiply at 0x000001E5B625E040>\n",
      "add_multiply() 함수 리턴됨\n"
     ]
    }
   ],
   "source": [
    "#3. parameter 는 없고 return 값은 있는 함수\n",
    "def add_multiply():\n",
    "    print(\"add_mulitply()함수 호출됨\")\n",
    "    number1 = 10\n",
    "    number2 = 20\n",
    "    result = (number1 + number2) * 3\n",
    "    print(\"result :\", result)\n",
    "    return result\n",
    "figure = add_multiply()\n",
    "print(\"리턴값\", add_multiply)\n",
    "print(\"add_multiply() 함수 리턴됨\")\n",
    "#4. parameter 도 있고 return 값도 있는 함수\n",
    "def calc(num1, num2, num3, num4):\n",
    "    print(\"calc(num1, num2, num3, num4)함수호출\")\n",
    "    result = num1 + num2 + num3 + num4\n",
    "    return result\n",
    "figure = add_multiply()\n",
    "print(\"리턴값 :\", add_multiply)\n",
    "print(\"add_multiply() 함수 리턴됨\")"
   ]
  },
  {
   "cell_type": "code",
   "execution_count": 6,
   "id": "5e28f40e",
   "metadata": {},
   "outputs": [
    {
     "name": "stdout",
     "output_type": "stream",
     "text": [
      "우리집 아이들은 ('글로벌', '아아티', '인재', '개발원')입니다\n"
     ]
    }
   ],
   "source": [
    "def children(*kids):\n",
    "    print(f\"우리집 아이들은 {kids}입니다\")\n",
    "    \n",
    "children(\"글로벌\", \"아아티\", \"인재\", \"개발원\")"
   ]
  },
  {
   "cell_type": "code",
   "execution_count": null,
   "id": "e1d8878a",
   "metadata": {},
   "outputs": [],
   "source": []
  }
 ],
 "metadata": {
  "kernelspec": {
   "display_name": "Python 3 (ipykernel)",
   "language": "python",
   "name": "python3"
  },
  "language_info": {
   "codemirror_mode": {
    "name": "ipython",
    "version": 3
   },
   "file_extension": ".py",
   "mimetype": "text/x-python",
   "name": "python",
   "nbconvert_exporter": "python",
   "pygments_lexer": "ipython3",
   "version": "3.9.7"
  }
 },
 "nbformat": 4,
 "nbformat_minor": 5
}
