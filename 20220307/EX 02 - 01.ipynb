{
 "cells": [
  {
   "cell_type": "code",
   "execution_count": null,
   "id": "a766ada0",
   "metadata": {},
   "outputs": [],
   "source": [
    "'''\n",
    "함수 : function\n",
    "일련의 code 들을 하나로 묶어서 code block(콜론(:) + 들여쓰기)\n",
    "아름을 붙여서 호출해서 사용하는 것 <-- \"code의 재사용\"\n",
    "              ㄴ 이림을 부름(call, invocation)\n",
    "\n",
    "형식\n",
    "함수 정의부(함수 전체)\n",
    "              함수가 실행될 때 필요한 값을 달라는 부분 : 개수를 지정\n",
    "def 함수이름(매개 변수 : parameter) : 함수 선언부        () 0개 이상\n",
    "ㄴ definition\n",
    "명령문\n",
    "명령문  code block : 함수 body (몸통)\n",
    "명령문\n",
    "....\n",
    "return (return 값)\n",
    "|       ㄴ 돌려주는 값 : 어디로? <- 함수를 호출한 곳으로 돌려줌\n",
    "           return 값이 없는 경우 생략 가능\n",
    "           return 값이 있으면, 생략할 수 없음\n",
    "함수를 작성했다고 해서바로 실행되는 것이 아니고\n",
    "함수 속에 작성한 내용을 실행하기 위해서는\n",
    "함수에 호출해야함\n",
    "\n",
    "함수 호출방법\n",
    "             함수가 실행될 때 필요한 값을 달라는 부분\n",
    "함수이름(parameter 에서 요구하는 개수만큼 실제값(변수)을 넣어줌)\n",
    "                   argument(인자, 인잣값, 인수)\n",
    "'''"
   ]
  },
  {
   "cell_type": "code",
   "execution_count": 1,
   "id": "19d6e5d1",
   "metadata": {},
   "outputs": [
    {
     "name": "stdout",
     "output_type": "stream",
     "text": [
      "안녕하세요\n",
      "안녕하세요\n",
      "안녕하세요\n"
     ]
    }
   ],
   "source": [
    "def print_3_times():\n",
    "    print(\"안녕하세요\")\n",
    "    print(\"안녕하세요\")\n",
    "    print(\"안녕하세요\")\n",
    "    \n",
    "print_3_times()"
   ]
  },
  {
   "cell_type": "code",
   "execution_count": 2,
   "id": "1d3b7022",
   "metadata": {},
   "outputs": [
    {
     "name": "stdout",
     "output_type": "stream",
     "text": [
      "33\n"
     ]
    }
   ],
   "source": [
    "def add_2_nums(number1, number2):\n",
    "    number3 = number1 + number2\n",
    "    print(number3)\n",
    "\n",
    "add_2_nums(11, 22)"
   ]
  },
  {
   "cell_type": "code",
   "execution_count": 4,
   "id": "21820600",
   "metadata": {},
   "outputs": [
    {
     "name": "stdout",
     "output_type": "stream",
     "text": [
      "say_hello() 함수 호출됨\n",
      "안녕하세요, 글로벌입니다 ~~\n",
      "say_hello() 함수 리턴됨\n"
     ]
    }
   ],
   "source": [
    "'''\n",
    "함수 종류 4가지\n",
    "1. parameter 도 없고 return 값도 없는 함수\n",
    "2. parameter 는 있고 return 값은 없는 함수\n",
    "3. parameter 는 없고 return 값은 있는 함수\n",
    "4. parameter 도 있고 return 값도 있는 함수\n",
    "'''\n",
    "#1. parameter 도 없고 return 값도 없는 함수\n",
    "def say_hello():\n",
    "    print(\"say_hello() 함수 호출됨\")\n",
    "    print(\"안녕하세요, 글로벌입니다 ~~\")\n",
    "    return\n",
    "say_hello()\n",
    "print(\"say_hello() 함수 리턴됨\")"
   ]
  },
  {
   "cell_type": "code",
   "execution_count": 7,
   "id": "e19e8fd3",
   "metadata": {},
   "outputs": [
    {
     "name": "stdout",
     "output_type": "stream",
     "text": [
      "mutiply(num1, num2) 호출됨\n",
      "multiply(num1, num2)리턴됨\n"
     ]
    }
   ],
   "source": [
    "#2. parameter 는 있고 return 값은 없는 함수\n",
    "def multiply(num1, num2):\n",
    "    print(\"mutiply(num1, num2) 호출됨\")\n",
    "    result = num1 * num2\n",
    "#함수 호출하기\n",
    "multiply(2, 3)\n",
    "print(\"multiply(num1, num2)리턴됨\")"
   ]
  },
  {
   "cell_type": "code",
   "execution_count": 8,
   "id": "2f6f39a2",
   "metadata": {},
   "outputs": [
    {
     "name": "stdout",
     "output_type": "stream",
     "text": [
      "add_multiply() 함수 호출됨\n",
      "result : 90\n",
      "리턴값 : <function add_multiply at 0x000001CCB6E7C670>\n",
      "add_multiply() 함수 리턴됨\n"
     ]
    }
   ],
   "source": [
    "#3. parameter 는 없고 return 값은 있는 함수\n",
    "def add_multiply():\n",
    "    print(\"add_multiply() 함수 호출됨\")\n",
    "    number1 = 10\n",
    "    number2 = 20\n",
    "    result = (number1 + number2) * 3\n",
    "    print(\"result :\", result)\n",
    "    return result\n",
    "figure = add_multiply()\n",
    "print(\"리턴값 :\", add_multiply)\n",
    "print(\"add_multiply() 함수 리턴됨\")"
   ]
  },
  {
   "cell_type": "code",
   "execution_count": 9,
   "id": "4119819b",
   "metadata": {},
   "outputs": [
    {
     "name": "stdout",
     "output_type": "stream",
     "text": [
      "calc(num1, num2 ,num3, num4)함수 호출\n",
      "return_value : 110\n",
      "calc(num1, num2, num3, num4) 함수 리턴됨\n"
     ]
    }
   ],
   "source": [
    "#4. parameter 도 있고 return 값도 있는 함수\n",
    "def calc(num1, num2, num3, num4):\n",
    "    print(\"calc(num1, num2 ,num3, num4)함수 호출\")\n",
    "    result = num1+ num2 + num3 + num4\n",
    "    return result\n",
    "\n",
    "return_value = calc(11, 22, 33, 44)\n",
    "print(\"return_value :\", return_value)\n",
    "print(\"calc(num1, num2, num3, num4) 함수 리턴됨\")"
   ]
  },
  {
   "cell_type": "code",
   "execution_count": 11,
   "id": "410e8b24",
   "metadata": {},
   "outputs": [
    {
     "name": "stdout",
     "output_type": "stream",
     "text": [
      "result : 460\n",
      "--------------------------------------------------\n",
      "result2 : 390\n",
      "result3 : 72\n"
     ]
    }
   ],
   "source": [
    "'''\n",
    "argument를 parameter 에 전달할 때\n",
    "전달 순서를 바꾸고 싶은 경우\n",
    " argument 부분에서 parameter에\n",
    " 직접 값을 할당해 주는 code를 작성함\n",
    "'''\n",
    "def multi(n1, n2):\n",
    "    result =(n1 + 10) * (n2 +3)\n",
    "    return result\n",
    "\n",
    "result = multi(10,20)\n",
    "print(\"result :\", result)\n",
    "print(\"-\" * 50)\n",
    "\n",
    "result2 = multi(n2 = 10, n1 = 20)\n",
    "print(\"result2 :\", result2)\n",
    "\n",
    "number1 = 2\n",
    "number2 = 3\n",
    "result3 = multi(number1, number2)\n",
    "print(\"result3 :\", result3)"
   ]
  },
  {
   "cell_type": "code",
   "execution_count": 17,
   "id": "9ed51eaa",
   "metadata": {},
   "outputs": [
    {
     "name": "stdout",
     "output_type": "stream",
     "text": [
      "100\n",
      "100\n",
      "100\n",
      "안녕하세요\n",
      "안녕하세요\n",
      "안녕하세요\n",
      "안녕하세요\n",
      "안녕하세요\n"
     ]
    }
   ],
   "source": [
    "'''\n",
    "212 page\n",
    "'''\n",
    "def print_n_times(value, n):\n",
    "    for i in range(n):\n",
    "        print(value)\n",
    "        \n",
    "print_n_times(100, 3)\n",
    "print_n_times(\"안녕하세요\", 5)"
   ]
  },
  {
   "cell_type": "code",
   "execution_count": 19,
   "id": "2edb9af4",
   "metadata": {},
   "outputs": [
    {
     "name": "stdout",
     "output_type": "stream",
     "text": [
      "numbers : (10, 9, 8, 7, 6)\n",
      "numbers : <class 'tuple'>\n",
      "numbers : (1,)\n",
      "numbers: <class 'tuple'>\n",
      "result : 1\n",
      "numbers : (1, 2, 3, 4, 5, 6, 7, 8, 9, 10)\n",
      "numbers: <class 'tuple'>\n",
      "result : 55\n",
      "--------------------------------------------------\n"
     ]
    }
   ],
   "source": [
    "'''\n",
    "가변 매개 변수\n",
    "     하나의 parameter에 여려 개의 값을 전달하는 경우\n",
    "     하나의 parameter에는 하나의 값을 전달함\n",
    "    <-- parameter 앞에 *표를 붙임\n",
    "    가변 매개변수에 값을 여러 개 전달하는 경우,\n",
    "    이 값들은 함수 내부에서 tuple로 변환됨\n",
    "'''\n",
    "#numbers = (10, 9, 8, 7, 6)\n",
    "numbers = 10, 9, 8, 7, 6\n",
    "print(\"numbers :\", numbers)\n",
    "print(\"numbers :\", type(numbers))\n",
    "\n",
    "def add_numbers(*numbers) :\n",
    "    print(\"numbers :\", numbers)\n",
    "    print(\"numbers:\", type(numbers))\n",
    "    total = 0\n",
    "    for number in numbers:\n",
    "        total += number\n",
    "    return total\n",
    "result = add_numbers(1)\n",
    "print(\"result :\", result)\n",
    "\n",
    "result = add_numbers(1, 2, 3, 4, 5, 6, 7, 8, 9, 10)\n",
    "print(\"result :\", result)\n",
    "print(\"-\" * 50)\n",
    "'''\n",
    "# 가변 매게변수에는 tuple을 전달 할 수 없음\n",
    "result = add_numbers( (1 ,2 ,3 ,4 ,5))\n",
    "print(\"result :\", result)\n",
    "print(\"-\" * 50)\n",
    "'''"
   ]
  },
  {
   "cell_type": "code",
   "execution_count": 20,
   "id": "e2d418fe",
   "metadata": {},
   "outputs": [
    {
     "name": "stdout",
     "output_type": "stream",
     "text": [
      "total : 1\n"
     ]
    }
   ],
   "source": [
    "total = 0\n",
    "for number in (1,) :\n",
    "        total += number\n",
    "print(\"total :\", total)"
   ]
  },
  {
   "cell_type": "code",
   "execution_count": 29,
   "id": "5fbcb5e5",
   "metadata": {},
   "outputs": [
    {
     "name": "stdout",
     "output_type": "stream",
     "text": [
      "result1 : 16\n",
      "result2 : -14\n",
      "result3 : 120\n",
      "result4 :  0.01\n"
     ]
    }
   ],
   "source": [
    "def multi_operation(operator, *numbers):\n",
    "    result = 1\n",
    "    if operator == \"add\":\n",
    "        for num in numbers:\n",
    "            result += num\n",
    "    if operator == \"subtract\":\n",
    "        for num in numbers:\n",
    "            result -= num\n",
    "    if operator == \"multiply\":\n",
    "        for num in numbers:\n",
    "            result *= num\n",
    "    if operator == \"divide\":\n",
    "        for num in numbers:\n",
    "            result /= num\n",
    "    \n",
    "    return result\n",
    "result1 = multi_operation(\"add\", 1, 2, 3 , 4, 5)\n",
    "result2 = multi_operation(\"subtract\", 1, 2, 3 , 4, 5)\n",
    "result3 = multi_operation(\"multiply\", 1, 2, 3 , 4, 5)\n",
    "result4 = multi_operation(\"divide\", 1, 2, 3 ,4 ,5)\n",
    "\n",
    "print(\"result1 :\", result1)\n",
    "print(\"result2 :\", result2)\n",
    "print(\"result3 :\", result3)\n",
    "print(f\"result4 : {result4: .2f}\")\n",
    "      \n"
   ]
  },
  {
   "cell_type": "code",
   "execution_count": 30,
   "id": "520420f4",
   "metadata": {},
   "outputs": [
    {
     "name": "stdout",
     "output_type": "stream",
     "text": [
      "우리집 아이들은 ('글로벌', '아아티', '인재', '개발원')입니다\n"
     ]
    }
   ],
   "source": [
    "def children(*kids):\n",
    "    print(f\"우리집 아이들은 {kids}입니다\")\n",
    "    \n",
    "children(\"글로벌\", \"아아티\", \"인재\", \"개발원\")"
   ]
  },
  {
   "cell_type": "code",
   "execution_count": null,
   "id": "fc7c0374",
   "metadata": {},
   "outputs": [],
   "source": [
    "'''\n",
    "우리집 아이들은 글로벌, 아이티, 인재, 개발원입니다\n",
    "'''\n",
    "def children2(*kids)\n",
    "    children = \"\"\n",
    "    for child in kids:\n",
    "        if child == kids[len(kids)-1]:\n",
    "            children += child\n",
    "        else:\n",
    "            children += child + \",\"\n",
    "    print(f\"우리집 아이들은 {children} 입니다\")\n",
    "chlidren2(\"글로벌\", \"아이티\", \"인재\", \"개발원\")"
   ]
  },
  {
   "cell_type": "code",
   "execution_count": null,
   "id": "0c4a9a67",
   "metadata": {},
   "outputs": [],
   "source": [
    "'''\n",
    "214 pages\n",
    "'''\n",
    "def print_n_times(n, *values):\n",
    "    for i in range(n):\n",
    "        for value in values :\n",
    "            print(value)\n",
    "        print()\n",
    "print_n_times(3, \"안녕하세요\", \"즐거운\", \"파이썬 프로그래밍\")"
   ]
  },
  {
   "cell_type": "code",
   "execution_count": 32,
   "id": "f96058a8",
   "metadata": {},
   "outputs": [
    {
     "name": "stdout",
     "output_type": "stream",
     "text": [
      "fruits: (['바나나', '딸기', '수박', '망고'],)\n",
      "fruits: <class 'tuple'>\n",
      "['바나나', '딸기', '수박', '망고']\n",
      "fruits: (('바나나', '딸기', '수박', '망고'),)\n",
      "fruits: <class 'tuple'>\n",
      "('바나나', '딸기', '수박', '망고')\n"
     ]
    }
   ],
   "source": [
    "def print_fruits(*fruits):\n",
    "    print(\"fruits:\", fruits)\n",
    "    print(\"fruits:\", type(fruits))\n",
    "    \n",
    "    for fruit in fruits:\n",
    "        print(fruit, end = \"\")\n",
    "    print()\n",
    "\n",
    "list_fruits = [\"바나나\", \"딸기\", \"수박\", \"망고\"]\n",
    "tuple_fruits = (\"바나나\", \"딸기\", \"수박\", \"망고\")\n",
    "\n",
    "print_fruits(list_fruits)\n",
    "print_fruits(tuple_fruits)"
   ]
  },
  {
   "cell_type": "code",
   "execution_count": 35,
   "id": "8b443675",
   "metadata": {},
   "outputs": [
    {
     "name": "stdout",
     "output_type": "stream",
     "text": [
      "fruits: ['바나나', '딸기', '수박', '망고']\n",
      "fruits: <class 'list'>\n",
      "바나나 딸기 수박 망고 \n",
      "fruits: ('바나나', '딸기', '수박', '망고')\n",
      "fruits: <class 'tuple'>\n",
      "바나나 딸기 수박 망고 \n"
     ]
    }
   ],
   "source": [
    "def print_fruits(fruits):\n",
    "    print(\"fruits:\", fruits)\n",
    "    print(\"fruits:\", type(fruits))\n",
    "    \n",
    "    for fruit in fruits:\n",
    "        print(fruit, end = \" \")\n",
    "    print()\n",
    "\n",
    "list_fruits = [\"바나나\", \"딸기\", \"수박\", \"망고\"]\n",
    "tuple_fruits = (\"바나나\", \"딸기\", \"수박\", \"망고\")\n",
    "\n",
    "print_fruits(list_fruits)\n",
    "print_fruits(tuple_fruits)"
   ]
  },
  {
   "cell_type": "code",
   "execution_count": 37,
   "id": "1216d296",
   "metadata": {},
   "outputs": [
    {
     "name": "stdout",
     "output_type": "stream",
     "text": [
      "이름 : 글로벌 \n",
      "나이 : 21\n",
      "성별 : 남자\n",
      "이름 : 아이티 \n",
      "나이 : 25\n",
      "성별 : 남자\n",
      "이름 : 개발원 \n",
      "나이 : 23\n",
      "성별 : 여자\n"
     ]
    }
   ],
   "source": [
    "'''\n",
    "함수 기본값 매개변수\n",
    "     default value parameter\n",
    "     ㄴ parameter 로 들어오는 argument를 미리 정함\n",
    "     ㄴ parameter 중에서 맨 마지막에 위치해야 함\n",
    "'''\n",
    "def person_info(name, age, man = True):\n",
    "    print(f\"이름 : {name} \\n\"\n",
    "          f\"나이 : {age}\")\n",
    "    if man:\n",
    "        print(\"성별 : 남자\")\n",
    "    else:\n",
    "        print(\"성별 : 여자\")\n",
    "person_info(\"글로벌\", 21)\n",
    "person_info(\"아이티\", 25)\n",
    "person_info(\"개발원\", 23, False)\n",
    "          "
   ]
  },
  {
   "cell_type": "code",
   "execution_count": null,
   "id": "9ea6c22f",
   "metadata": {},
   "outputs": [],
   "source": []
  }
 ],
 "metadata": {
  "kernelspec": {
   "display_name": "Python 3 (ipykernel)",
   "language": "python",
   "name": "python3"
  },
  "language_info": {
   "codemirror_mode": {
    "name": "ipython",
    "version": 3
   },
   "file_extension": ".py",
   "mimetype": "text/x-python",
   "name": "python",
   "nbconvert_exporter": "python",
   "pygments_lexer": "ipython3",
   "version": "3.9.7"
  }
 },
 "nbformat": 4,
 "nbformat_minor": 5
}
