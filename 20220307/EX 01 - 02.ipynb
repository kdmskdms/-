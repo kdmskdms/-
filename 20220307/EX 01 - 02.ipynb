{
 "cells": [
  {
   "cell_type": "code",
   "execution_count": null,
   "id": "89ed7644",
   "metadata": {},
   "outputs": [],
   "source": [
    "for i in range(1, 4):\n",
    "    for j in range(1, 4):\n",
    "        for k in range(1, 4):\n",
    "            for l in range(1, 4):\n",
    "                print(f\"{i} - {j} - {k} - {l}\")\n",
    "            print(\"-\"  * 45)\n",
    "        print(\"-\" * 45)\n",
    "    print(\"*\" * 30)    "
   ]
  },
  {
   "cell_type": "code",
   "execution_count": null,
   "id": "da96669f",
   "metadata": {},
   "outputs": [],
   "source": [
    "'''\n",
    "while 반복문 (while loop)\n",
    " ㄴ while 문의 종료 시점 : 조건이 False 가 될 때\n",
    " \n",
    "형식)\n",
    "    while 조건(True, False, 변수, 조건식(비교식)):\n",
    "      반복할 명령문...\n",
    "      반복할 명령문...\n",
    "      반복할 명령문...\n",
    "      .....\n",
    "      \n",
    "    for 변수(index 변수) in (iterable type):\n",
    "     반복할 명령문...\n",
    "     반복할 명령문...\n",
    "     반복할 명령문...\n",
    "     .....\n",
    "     \n",
    "'''\n",
    "for number in [1, 2, 3, 4, 5]:\n",
    "    print(number)\n",
    "print(\"-\" * 30)\n",
    "\n",
    "number = 0\n",
    "while number < 5:\n",
    "    number += 1\n",
    "print(\"-\" * 30)"
   ]
  },
  {
   "cell_type": "code",
   "execution_count": null,
   "id": "7d587dce",
   "metadata": {},
   "outputs": [],
   "source": [
    "'''\n",
    "for 문을 사용해서 구구단 2단만 출력하세여\n",
    "'''\n",
    "for number in range(1, 10):\n",
    "    print(f\"2X {number} = {2 * number}\")\n",
    "print(\"-\" * 30)\n",
    "number = 0\n",
    "while number < 9:\n",
    "    number += 1\n",
    "    print(f\"2 X {number} = {2 * number}\")"
   ]
  },
  {
   "cell_type": "code",
   "execution_count": null,
   "id": "2d24db7b",
   "metadata": {},
   "outputs": [],
   "source": [
    "for i in range(2, 10):\n",
    "    for j in range(1, 10):\n",
    "        print(f\"{i} X {j} = {i * j}\")\n",
    "    print()\n",
    "print(\"-\" * 30)\n",
    "while i < 9:\n",
    "    i += 1\n",
    "    j = 0\n",
    "    while j < 9:\n",
    "        j += 1\n",
    "        print(f\"{i} X {j} = {i * j}\")\n",
    "    print()"
   ]
  },
  {
   "cell_type": "code",
   "execution_count": 1,
   "id": "ec1105c1",
   "metadata": {},
   "outputs": [
    {
     "name": "stdout",
     "output_type": "stream",
     "text": [
      "1부터 100까지 정수 중에서 하나를 입력하세요 :55\n",
      "더 작은 수를 입력하세요 :55\n",
      "더 작은 수를 입력하세요 :56\n",
      "더 작은 수를 입력하세요 :65\n",
      "더 작은 수를 입력하세요 :45\n",
      "더 작은 수를 입력하세요 :33\n",
      "더 작은 수를 입력하세요 :22\n",
      "더 큰 수를 입력하세여 :11\n",
      "더 큰 수를 입력하세여 :17\n",
      "더 큰 수를 입력하세여 :19\n",
      "더 큰 수를 입력하세여 :20\n",
      "더 큰 수를 입력하세여 :21\n",
      "더 큰 수를 입력하세여 :22\n",
      "더 큰 수를 입력하세여 :26\n",
      "더 큰 수를 입력하세여 :28\n",
      "더 큰 수를 입력하세여 :33\n",
      "더 작은 수를 입력하세요 :34\n",
      "더 작은 수를 입력하세요 :\n"
     ]
    },
    {
     "ename": "ValueError",
     "evalue": "invalid literal for int() with base 10: ''",
     "output_type": "error",
     "traceback": [
      "\u001b[1;31m---------------------------------------------------------------------------\u001b[0m",
      "\u001b[1;31mValueError\u001b[0m                                Traceback (most recent call last)",
      "\u001b[1;32mC:\\Users\\KIMDON~1\\AppData\\Local\\Temp/ipykernel_2184/3702902136.py\u001b[0m in \u001b[0;36m<module>\u001b[1;34m\u001b[0m\n\u001b[0;32m      9\u001b[0m         \u001b[0manswer\u001b[0m \u001b[1;33m=\u001b[0m \u001b[0mint\u001b[0m\u001b[1;33m(\u001b[0m\u001b[0minput\u001b[0m\u001b[1;33m(\u001b[0m\u001b[1;34m\"더 큰 수를 입력하세여 :\"\u001b[0m\u001b[1;33m)\u001b[0m\u001b[1;33m)\u001b[0m\u001b[1;33m\u001b[0m\u001b[1;33m\u001b[0m\u001b[0m\n\u001b[0;32m     10\u001b[0m     \u001b[1;32melif\u001b[0m \u001b[0mnumber\u001b[0m \u001b[1;33m<\u001b[0m \u001b[0manswer\u001b[0m\u001b[1;33m:\u001b[0m\u001b[1;33m\u001b[0m\u001b[1;33m\u001b[0m\u001b[0m\n\u001b[1;32m---> 11\u001b[1;33m         \u001b[0manswer\u001b[0m \u001b[1;33m=\u001b[0m \u001b[0mint\u001b[0m\u001b[1;33m(\u001b[0m\u001b[0minput\u001b[0m\u001b[1;33m(\u001b[0m\u001b[1;34m\"더 작은 수를 입력하세요 :\"\u001b[0m\u001b[1;33m)\u001b[0m\u001b[1;33m)\u001b[0m\u001b[1;33m\u001b[0m\u001b[1;33m\u001b[0m\u001b[0m\n\u001b[0m\u001b[0;32m     12\u001b[0m \u001b[0mprint\u001b[0m\u001b[1;33m(\u001b[0m\u001b[1;34m\"축하합니다. 정답입니다!!\"\u001b[0m\u001b[1;33m)\u001b[0m\u001b[1;33m\u001b[0m\u001b[1;33m\u001b[0m\u001b[0m\n\u001b[0;32m     13\u001b[0m \u001b[0mprint\u001b[0m\u001b[1;33m(\u001b[0m\u001b[1;34mf\"{count+1}번 시도했습니다\"\u001b[0m\u001b[1;33m)\u001b[0m\u001b[1;33m\u001b[0m\u001b[1;33m\u001b[0m\u001b[0m\n",
      "\u001b[1;31mValueError\u001b[0m: invalid literal for int() with base 10: ''"
     ]
    }
   ],
   "source": [
    "import random\n",
    "number = random.randint(1, 100)\n",
    "answer = int(input(\"1부터 100까지 정수 중에서 하나를 입력하세요 :\"))\n",
    "count = 0\n",
    "\n",
    "while number != answer:\n",
    "    count += 1\n",
    "    if number > answer:\n",
    "        answer = int(input(\"더 큰 수를 입력하세여 :\"))\n",
    "    elif number < answer:\n",
    "        answer = int(input(\"더 작은 수를 입력하세요 :\"))\n",
    "print(\"축하합니다. 정답입니다!!\")\n",
    "print(f\"{count+1}번 시도했습니다\")\n",
    "print(\"프로그램 종료\")"
   ]
  },
  {
   "cell_type": "code",
   "execution_count": 3,
   "id": "dcba2871",
   "metadata": {},
   "outputs": [
    {
     "name": "stdout",
     "output_type": "stream",
     "text": [
      "list_test : [1, 1]\n",
      "------------------------------\n",
      "list_test : [2, 2]\n",
      "------------------------------\n",
      "list_test : [1, 2, 1, 2]\n",
      "list_test : [2, 1, 2]\n",
      "list_test : [2, 2]\n",
      "------------------------------\n"
     ]
    }
   ],
   "source": [
    "list_test = [1, 2, 1, 2]\n",
    "value = 2\n",
    "while value in list_test:\n",
    "    list_test.remove(value)\n",
    "print(\"list_test :\", list_test)\n",
    "print(\"-\" * 30)\n",
    "\n",
    "list_test = [1, 2, 1, 2]\n",
    "value = 2\n",
    "\n",
    "for value in list_test:\n",
    "    list_test.remove(value)\n",
    "\n",
    "print(\"list_test :\", list_test)\n",
    "print(\"-\" * 30)\n",
    "\n",
    "list_test = [1 ,2 ,1 ,2]\n",
    "value = 2\n",
    "\n",
    "for value in list_test:\n",
    "    print(\"list_test :\", list_test)\n",
    "    list_test.remove(value)\n",
    "    \n",
    "print(\"list_test :\", list_test)\n",
    "print(\"-\" * 30)    "
   ]
  },
  {
   "cell_type": "code",
   "execution_count": null,
   "id": "ff5a848f",
   "metadata": {},
   "outputs": [],
   "source": [
    "import time\n",
    "number = 0\n",
    "target_tick = time.time() + 5\n",
    "while time.time() < target_tick:\n",
    "    number +=1\n",
    "print(\"5초 동안 {}번 반복했습니다\".format(number))\n",
    "print(\"-\" * 50)\n",
    "\n",
    "number = 0\n",
    "target_tick = time.time() +1\n",
    "while time.time() < target_tick:\n",
    "    number += 1\n",
    "print(\"1초 동안 {}번 반복했습니다\".format(number))"
   ]
  },
  {
   "cell_type": "code",
   "execution_count": null,
   "id": "cb6bc9c3",
   "metadata": {},
   "outputs": [],
   "source": [
    "i = 0\n",
    "while True:\n",
    "    print(\"{}번째 반복문입니다\".format(i))\n",
    "    i = i+1\n",
    "    input_text = input(\"> 종료하시겠습니까? (y/n):\")\n",
    "    if input_text in [\"y\", \"Y\"]:\n",
    "        print(\"반복을 종료합니다\")\n",
    "        break\n",
    "print(\"프로그램 종료\")"
   ]
  },
  {
   "cell_type": "code",
   "execution_count": null,
   "id": "b9113fd5",
   "metadata": {},
   "outputs": [],
   "source": [
    "for number in [1, 2, 3, 4, 5, 6, 7, 8, 9, 10]:\n",
    "    print(number)\n",
    "    if number == 5:\n",
    "        break\n",
    "\n",
    "for number in [1, 2, 3, 4, 5, 6, 7, 8, 9, 10]:\n",
    "    if number == 5:\n",
    "        break\n",
    "    print(number)\n",
    "\n",
    "for number in [1, 2, 3, 4, 5, 6, 7, 8, 9, 10]:\n",
    "    if number == 5:\n",
    "        continue\n",
    "    print(number)\n",
    "\n",
    "for number in [1, 2, 3, 4, 5, 6, 7, 8, 9, 10]:\n",
    "    print(number)\n",
    "    if number == 5:\n",
    "        continue"
   ]
  },
  {
   "cell_type": "code",
   "execution_count": null,
   "id": "5fbc8818",
   "metadata": {},
   "outputs": [],
   "source": []
  },
  {
   "cell_type": "code",
   "execution_count": null,
   "id": "546f31e5",
   "metadata": {},
   "outputs": [],
   "source": []
  },
  {
   "cell_type": "code",
   "execution_count": null,
   "id": "92598574",
   "metadata": {},
   "outputs": [],
   "source": []
  }
 ],
 "metadata": {
  "kernelspec": {
   "display_name": "Python 3 (ipykernel)",
   "language": "python",
   "name": "python3"
  },
  "language_info": {
   "codemirror_mode": {
    "name": "ipython",
    "version": 3
   },
   "file_extension": ".py",
   "mimetype": "text/x-python",
   "name": "python",
   "nbconvert_exporter": "python",
   "pygments_lexer": "ipython3",
   "version": "3.9.7"
  }
 },
 "nbformat": 4,
 "nbformat_minor": 5
}
