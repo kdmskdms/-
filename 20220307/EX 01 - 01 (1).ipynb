{
 "cells": [
  {
   "cell_type": "code",
   "execution_count": 45,
   "id": "f513d911",
   "metadata": {},
   "outputs": [
    {
     "name": "stdout",
     "output_type": "stream",
     "text": [
      "1 - 1 - 1 - 1\n",
      "1 - 1 - 1 - 2\n",
      "1 - 1 - 1 - 3\n",
      "------------------------------\n",
      "1 - 1 - 2 - 1\n",
      "1 - 1 - 2 - 2\n",
      "1 - 1 - 2 - 3\n",
      "------------------------------\n",
      "1 - 1 - 3 - 1\n",
      "1 - 1 - 3 - 2\n",
      "1 - 1 - 3 - 3\n",
      "------------------------------\n",
      "------------------------------\n",
      "1 - 2 - 1 - 1\n",
      "1 - 2 - 1 - 2\n",
      "1 - 2 - 1 - 3\n",
      "------------------------------\n",
      "1 - 2 - 2 - 1\n",
      "1 - 2 - 2 - 2\n",
      "1 - 2 - 2 - 3\n",
      "------------------------------\n",
      "1 - 2 - 3 - 1\n",
      "1 - 2 - 3 - 2\n",
      "1 - 2 - 3 - 3\n",
      "------------------------------\n",
      "------------------------------\n",
      "1 - 3 - 1 - 1\n",
      "1 - 3 - 1 - 2\n",
      "1 - 3 - 1 - 3\n",
      "------------------------------\n",
      "1 - 3 - 2 - 1\n",
      "1 - 3 - 2 - 2\n",
      "1 - 3 - 2 - 3\n",
      "------------------------------\n",
      "1 - 3 - 3 - 1\n",
      "1 - 3 - 3 - 2\n",
      "1 - 3 - 3 - 3\n",
      "------------------------------\n",
      "------------------------------\n",
      "******************************\n",
      "2 - 1 - 1 - 1\n",
      "2 - 1 - 1 - 2\n",
      "2 - 1 - 1 - 3\n",
      "------------------------------\n",
      "2 - 1 - 2 - 1\n",
      "2 - 1 - 2 - 2\n",
      "2 - 1 - 2 - 3\n",
      "------------------------------\n",
      "2 - 1 - 3 - 1\n",
      "2 - 1 - 3 - 2\n",
      "2 - 1 - 3 - 3\n",
      "------------------------------\n",
      "------------------------------\n",
      "2 - 2 - 1 - 1\n",
      "2 - 2 - 1 - 2\n",
      "2 - 2 - 1 - 3\n",
      "------------------------------\n",
      "2 - 2 - 2 - 1\n",
      "2 - 2 - 2 - 2\n",
      "2 - 2 - 2 - 3\n",
      "------------------------------\n",
      "2 - 2 - 3 - 1\n",
      "2 - 2 - 3 - 2\n",
      "2 - 2 - 3 - 3\n",
      "------------------------------\n",
      "------------------------------\n",
      "2 - 3 - 1 - 1\n",
      "2 - 3 - 1 - 2\n",
      "2 - 3 - 1 - 3\n",
      "------------------------------\n",
      "2 - 3 - 2 - 1\n",
      "2 - 3 - 2 - 2\n",
      "2 - 3 - 2 - 3\n",
      "------------------------------\n",
      "2 - 3 - 3 - 1\n",
      "2 - 3 - 3 - 2\n",
      "2 - 3 - 3 - 3\n",
      "------------------------------\n",
      "------------------------------\n",
      "******************************\n",
      "3 - 1 - 1 - 1\n",
      "3 - 1 - 1 - 2\n",
      "3 - 1 - 1 - 3\n",
      "------------------------------\n",
      "3 - 1 - 2 - 1\n",
      "3 - 1 - 2 - 2\n",
      "3 - 1 - 2 - 3\n",
      "------------------------------\n",
      "3 - 1 - 3 - 1\n",
      "3 - 1 - 3 - 2\n",
      "3 - 1 - 3 - 3\n",
      "------------------------------\n",
      "------------------------------\n",
      "3 - 2 - 1 - 1\n",
      "3 - 2 - 1 - 2\n",
      "3 - 2 - 1 - 3\n",
      "------------------------------\n",
      "3 - 2 - 2 - 1\n",
      "3 - 2 - 2 - 2\n",
      "3 - 2 - 2 - 3\n",
      "------------------------------\n",
      "3 - 2 - 3 - 1\n",
      "3 - 2 - 3 - 2\n",
      "3 - 2 - 3 - 3\n",
      "------------------------------\n",
      "------------------------------\n",
      "3 - 3 - 1 - 1\n",
      "3 - 3 - 1 - 2\n",
      "3 - 3 - 1 - 3\n",
      "------------------------------\n",
      "3 - 3 - 2 - 1\n",
      "3 - 3 - 2 - 2\n",
      "3 - 3 - 2 - 3\n",
      "------------------------------\n",
      "3 - 3 - 3 - 1\n",
      "3 - 3 - 3 - 2\n",
      "3 - 3 - 3 - 3\n",
      "------------------------------\n",
      "------------------------------\n",
      "******************************\n"
     ]
    }
   ],
   "source": [
    "for i in range(1, 4):\n",
    "    for j in range(1, 4):\n",
    "        for k in range(1,4):\n",
    "            for l in range(1,4):\n",
    "                print(f\"{i} - {j} - {k} - {l}\")\n",
    "            print(\"-\" * 30)\n",
    "        print(\"-\" *30)\n",
    "    print(\"*\" * 30)"
   ]
  },
  {
   "cell_type": "code",
   "execution_count": null,
   "id": "9d293c10",
   "metadata": {},
   "outputs": [],
   "source": [
    "'''\n",
    "while 반복문 (while loop)\n",
    " ㄴ while 문의 종료 시점 : 조건이 False 가 될 때\n",
    " \n",
    "형식)\n",
    "    while 조건(True, False, 변수, 조건식(비교식)):\n",
    "      반복할 명령문...\n",
    "      반복할 명령문...\n",
    "      반복할 명령문...\n",
    "      .....\n",
    "      \n",
    "    for 변수(index 변수) in (iterable type):\n",
    "     반복할 명령문...\n",
    "     반복할 명령문...\n",
    "     반복할 명령문...\n",
    "     .....\n",
    "     \n",
    "'''\n",
    "for number in [1, 2, 3, 4, 5]:\n",
    "    print(number)\n",
    "print(\"-\" * 30)\n",
    "\n",
    "number = 0\n",
    "while number < 5:\n",
    "    number += 1\n",
    "    print(number)\n",
    "print(\"-\" * 30)\n",
    "\n",
    "number = 1\n",
    "while number < 5:\n",
    "    number += 1\n",
    "print(\"-\" * 30)"
   ]
  },
  {
   "cell_type": "code",
   "execution_count": null,
   "id": "58d60768",
   "metadata": {},
   "outputs": [],
   "source": [
    "'''\n",
    "for 문을 사용해서 구구단 2단만 출력하세여\n",
    "'''\n",
    "for number in range(1, 10):\n",
    "    print(f\"2X {number} = {2 * number}\")\n",
    "print(\"-\"* 30)\n",
    "number = 0\n",
    "while number < 9:\n",
    "    number += 1\n",
    "    print(f\"2 X {number} = {2 * number}\")"
   ]
  },
  {
   "cell_type": "code",
   "execution_count": null,
   "id": "c27b95aa",
   "metadata": {},
   "outputs": [],
   "source": [
    "for i in range(2, 10):\n",
    "    for j in range(1, 10):\n",
    "        print(f\"{i} X {j} = {i * j}\")\n",
    "    print()\n",
    "print(\"-\"*30)\n",
    "\n",
    "i = 1\n",
    "while i < 9:\n",
    "    i += 1\n",
    "    j = 0\n",
    "    while j < 9:\n",
    "        j += 1\n",
    "        print(f\"{i} X {j} = {i * j}\")\n",
    "    print()"
   ]
  },
  {
   "cell_type": "code",
   "execution_count": null,
   "id": "f56a5cee",
   "metadata": {},
   "outputs": [],
   "source": [
    "'''\n",
    "숫자 맞히기 게임\n",
    "1부터 100까지 숫자 중에서 임의의 정수를\n",
    "컴퓨터가 발생시키면 이숫자를 맞히는 게임\n",
    "사람이 입력한 숫자가 컴퓨터가 발생한 숫자보다 크면\n",
    "더 작은 수를 입력하세요를 출력하고\n",
    "사람이 입력한 숫자가 컴퓨터가 발생한 숫자보다 작으면면\n",
    "더 큰 수를 입력하세요를 출력하고\n",
    "숫자를 맞히면 축하합니다를 출력하면서 게임을 종료함\n",
    "'''\n",
    "import random\n",
    "number = random.randint(1, 100)\n",
    "answer = int(input(\"1부터 100까지 정수 중에서 하나를 입력하세요 : \"))\n",
    "count = 0\n",
    "\n",
    "while number != answer:\n",
    "    count += 1\n",
    "    if number > answer:\n",
    "        answer = int(input(\"더 큰 수를 입력하세요 :\"))\n",
    "    elif number < answer:\n",
    "        answer = int(input(\"더 작은 수를 입력하세요 :\"))\n",
    "print(\"축하합니다. 정답입니다!!\")\n",
    "print(f\"{count+1}번 시도했습니다\")\n",
    "print(\"프로그램 종료\")"
   ]
  },
  {
   "cell_type": "code",
   "execution_count": null,
   "id": "a8fff84a",
   "metadata": {},
   "outputs": [],
   "source": [
    "'''\n",
    "183 page\n",
    "'''\n",
    "list_test = [1, 2, 1, 2]\n",
    "value = 2\n",
    "while value in list_test:\n",
    "    list_test.remove(value)\n",
    "\n",
    "print(\"list_test :\", list_test)\n",
    "print(\"-\" * 30)\n",
    "\n",
    "list_test = [1, 2, 1, 2]\n",
    "value = 2\n",
    "\n",
    "for value in list_test:\n",
    "    list_test.remove(value)\n",
    "\n",
    "print(\"list_test:\", list_test)\n",
    "print(\"-\" * 30)\n",
    "\n",
    "list_test = [1, 2, 1, 2]\n",
    "value = 2\n",
    "\n",
    "for value in list_test:\n",
    "    print(\"list_test :\", list_test)\n",
    "    list_test.remove(value)\n",
    "    \n",
    "print(\"-\" * 30)\n",
    "print(\"list_test :\", list_test)"
   ]
  },
  {
   "cell_type": "code",
   "execution_count": null,
   "id": "d3b7c2a4",
   "metadata": {},
   "outputs": [],
   "source": [
    "'''\n",
    "184 page\n",
    "'''\n",
    "import time\n",
    "number = 0\n",
    "target_tick = time.time() + 5\n",
    "while time.time() < target_tick:\n",
    "    number +=1\n",
    "print(\"5초 동안 {}번 반복했습니다\".format(number))\n",
    "print(\"=\"*50)\n",
    "\n",
    "number = 0\n",
    "target_tick = time.time() +1\n",
    "while time.time() < target_tick:\n",
    "    number +=1\n",
    "print(\"1초동안 {}번 반복했습니다\".format(number))"
   ]
  },
  {
   "cell_type": "code",
   "execution_count": null,
   "id": "10d0486a",
   "metadata": {},
   "outputs": [],
   "source": [
    "'''\n",
    "185 page\n",
    "break : 반복문 안에서 break 키워드 아래쪽에 있는\n",
    "        code는 모두 실행을 안함\n",
    "        반복을 종료함:\n",
    "        자신이 속해있는 code block을 빠져나감\n",
    "        ㄴ if 문의 code block 제외\n",
    "continue : 반복문 안에서 continue 키워드 아래쪽에 있는\n",
    "           code는 모두 실행을 안 함\n",
    "           해당 조건에서만 건너뛰고 반복을 계속함\n",
    "'''\n",
    "i = 0\n",
    "while True:\n",
    "    print(\"{}번째 반복문입니다\".format(i))\n",
    "    i = i+1\n",
    "    input_text = input(\"> 종료하시겠습니까? (y/n):\")\n",
    "    if input_text in [\"y\", \"Y\"]:\n",
    "        print(\"반복을 종료합니다\")\n",
    "        break\n",
    "print(\"프로그램 종료\")"
   ]
  },
  {
   "cell_type": "code",
   "execution_count": null,
   "id": "c8a92c55",
   "metadata": {},
   "outputs": [],
   "source": [
    "for number in [1, 2, 3, 4, 5, 6, 7, 8, 9, 10]:\n",
    "    print(number)\n",
    "    if number == 5:\n",
    "        break\n",
    "\n",
    "for number in [1, 2, 3, 4, 5, 6, 7, 8, 9, 10]:\n",
    "    if number == 5:\n",
    "        break\n",
    "    print(number)\n",
    "\n",
    "for number in [1, 2, 3, 4, 5, 6, 7, 8, 9, 10]:\n",
    "    if number == 5:\n",
    "        continue\n",
    "    print(number)\n",
    "\n",
    "for number in [1, 2, 3, 4, 5, 6, 7, 8, 9, 10]:\n",
    "    print(number)\n",
    "    if number == 5:\n",
    "        continue"
   ]
  },
  {
   "cell_type": "code",
   "execution_count": null,
   "id": "c67e683f",
   "metadata": {},
   "outputs": [],
   "source": [
    "'''\n",
    "186 page\n",
    "'''\n",
    "numbers = [5, 15, 6, 20, 7, 25]\n",
    "for number in numbers:\n",
    "    if number < 10:\n",
    "        continue\n",
    "    print(number)"
   ]
  },
  {
   "cell_type": "code",
   "execution_count": null,
   "id": "14b8dc1f",
   "metadata": {},
   "outputs": [],
   "source": [
    "'''\n",
    "4단까지만 출력하는 구구단을 작성하세요\n",
    "(break 키워드 사용)\n",
    "'''\n",
    "for i in range(2, 10):\n",
    "    if i == 5:\n",
    "        break\n",
    "    for j in range(1, 10):\n",
    "        print(f\"{i} x {j} = {i * j}\")\n",
    "print()"
   ]
  },
  {
   "cell_type": "code",
   "execution_count": 46,
   "id": "404707e3",
   "metadata": {},
   "outputs": [
    {
     "name": "stdout",
     "output_type": "stream",
     "text": [
      "2 X 1 = 2\n",
      "2 X 2 = 4\n",
      "2 X 3 = 6\n",
      "2 X 4 = 8\n",
      "2 X 5 = 10\n",
      "2 X 6 = 12\n",
      "2 X 7 = 14\n",
      "2 X 8 = 16\n",
      "2 X 9 = 18\n",
      "\n",
      "3 X 1 = 3\n",
      "3 X 2 = 6\n",
      "3 X 3 = 9\n",
      "3 X 4 = 12\n",
      "3 X 5 = 15\n",
      "3 X 6 = 18\n",
      "3 X 7 = 21\n",
      "3 X 8 = 24\n",
      "3 X 9 = 27\n",
      "\n",
      "4 X 1 = 4\n",
      "4 X 2 = 8\n",
      "4 X 3 = 12\n",
      "4 X 4 = 16\n",
      "4 X 5 = 20\n",
      "4 X 6 = 24\n",
      "4 X 7 = 28\n",
      "4 X 8 = 32\n",
      "4 X 9 = 36\n",
      "\n",
      "5 X 1 = 5\n",
      "5 X 2 = 10\n",
      "5 X 3 = 15\n",
      "5 X 4 = 20\n",
      "5 X 5 = 25\n",
      "5 X 6 = 30\n",
      "5 X 7 = 35\n",
      "5 X 8 = 40\n",
      "5 X 9 = 45\n",
      "\n",
      "7 X 1 = 7\n",
      "7 X 2 = 14\n",
      "7 X 3 = 21\n",
      "7 X 4 = 28\n",
      "7 X 5 = 35\n",
      "7 X 6 = 42\n",
      "7 X 7 = 49\n",
      "7 X 8 = 56\n",
      "7 X 9 = 63\n",
      "\n",
      "8 X 1 = 8\n",
      "8 X 2 = 16\n",
      "8 X 3 = 24\n",
      "8 X 4 = 32\n",
      "8 X 5 = 40\n",
      "8 X 6 = 48\n",
      "8 X 7 = 56\n",
      "8 X 8 = 64\n",
      "8 X 9 = 72\n",
      "\n",
      "9 X 1 = 9\n",
      "9 X 2 = 18\n",
      "9 X 3 = 27\n",
      "9 X 4 = 36\n",
      "9 X 5 = 45\n",
      "9 X 6 = 54\n",
      "9 X 7 = 63\n",
      "9 X 8 = 72\n",
      "9 X 9 = 81\n",
      "\n"
     ]
    }
   ],
   "source": [
    "'''\n",
    "6단만 출력하지않는 구구단을 작성하세요\n",
    "(break 키워드 사용)\n",
    "'''\n",
    "for i in range(2, 10):\n",
    "    if i == 6:\n",
    "        continue\n",
    "    for j in range(1, 10):\n",
    "        print(f\"{i} X {j} = {i * j}\")\n",
    "    print()"
   ]
  },
  {
   "cell_type": "code",
   "execution_count": null,
   "id": "5bf93a4d",
   "metadata": {},
   "outputs": [],
   "source": [
    "'''\n",
    "7까지만 곱하는 구구단을 작성하세요\n",
    "(break 키워드 사용)\n",
    "'''\n",
    "for i in range(2, 10):\n",
    "    for j in range(1, 10):\n",
    "        if j == 8:\n",
    "            break\n",
    "        print(f\"{i} X {j} = {i * j}\")\n",
    "    print()"
   ]
  },
  {
   "cell_type": "code",
   "execution_count": null,
   "id": "294ccbf8",
   "metadata": {},
   "outputs": [],
   "source": [
    "'''\n",
    "각 단에서 4 만 곱하지 않는 구구단을 작성하세요\n",
    "'''\n",
    "for i in range(2, 10):\n",
    "    for j in range(1, 10):\n",
    "        if j == 4:\n",
    "            continue\n",
    "        print(f\"{i} X {j} = {i * j}\")\n",
    "    print()"
   ]
  },
  {
   "cell_type": "code",
   "execution_count": 23,
   "id": "4e13625c",
   "metadata": {},
   "outputs": [
    {
     "name": "stdout",
     "output_type": "stream",
     "text": [
      "items() : dict_items([('키A', '값A'), ('키B', '키B'), ('키C', '키C')])\n",
      "dictionary[키A] = 값A\n",
      "dictionary[키B] = 키B\n",
      "dictionary[키C] = 키C\n"
     ]
    }
   ],
   "source": [
    "'''\n",
    "197 page\n",
    "'''\n",
    "example_dictionary = {\"키A\":\"값A\",\"키B\":\"키B\",\"키C\":\"키C\"}\n",
    "print(\"items() :\", example_dictionary.items())\n",
    "\n",
    "for key, element in example_dictionary.items():\n",
    "    print(\"dictionary[{}] = {}\".format(key, element))"
   ]
  },
  {
   "cell_type": "code",
   "execution_count": 24,
   "id": "89943562",
   "metadata": {},
   "outputs": [
    {
     "name": "stdout",
     "output_type": "stream",
     "text": [
      "list_numbers : [0, 4, 16, 36, 64, 100, 144, 196, 256, 324]\n",
      "------------------------------------------------------------\n",
      "list_nums : [0, 4, 16, 36, 64, 100, 144, 196, 256, 324]\n"
     ]
    }
   ],
   "source": [
    "'''\n",
    "198 page\n",
    "'''\n",
    "list_numbers = []\n",
    "for i in range(0, 20, 2):\n",
    "    list_numbers.append(i * i)\n",
    "\n",
    "print(\"list_numbers :\", list_numbers)\n",
    "print(\"-\" * 60)\n",
    "list_nums = [i * i for i in range(0, 20, 2)]\n",
    "print(\"list_nums :\", list_nums)"
   ]
  },
  {
   "cell_type": "code",
   "execution_count": 25,
   "id": "ec8d23e0",
   "metadata": {},
   "outputs": [
    {
     "name": "stdout",
     "output_type": "stream",
     "text": [
      "list_output : ['사과', '자두', '바나나', '체리']\n",
      "--------------------------------------------------\n",
      "list_result : ['사과', '자두', '바나나', '체리']\n"
     ]
    }
   ],
   "source": [
    "list_fruits = [\"사과\", \"자두\", \"초콜릿\", \"바나나\", \"체리\"]\n",
    "list_output = []\n",
    "for fruit in list_fruits:\n",
    "    if fruit != \"초콜릿\":\n",
    "        list_output.append(fruit)\n",
    "print(\"list_output :\", list_output)\n",
    "print(\"-\"*50)\n",
    "\n",
    "list_result = [fruit for fruit in list_fruits if fruit !=\"초콜릿\"]\n",
    "print(\"list_result :\", list_result)"
   ]
  },
  {
   "cell_type": "code",
   "execution_count": 28,
   "id": "deaa15f5",
   "metadata": {},
   "outputs": [
    {
     "name": "stdout",
     "output_type": "stream",
     "text": [
      "list_odds : [2, 6, 10]\n"
     ]
    }
   ],
   "source": [
    "'''\n",
    "다음 리스트 중에서 홀수에만 2를 곱하여 저장하세요    \n",
    "'''\n",
    "numbers = [1, 2, 3, 4, 5]\n",
    "list_odds = [num * 2 for num in numbers if num % 2 == 1]\n",
    "print(\"list_odds :\", list_odds)"
   ]
  },
  {
   "cell_type": "code",
   "execution_count": 29,
   "id": "a8433b5a",
   "metadata": {},
   "outputs": [
    {
     "name": "stdout",
     "output_type": "stream",
     "text": [
      "[2, 4, 6, 8, 10, 12, 14, 16, 18, 3, 6, 9, 12, 15, 18, 21, 24, 27, 4, 8, 12, 16, 20, 24, 28, 32, 36, 5, 10, 15, 20, 25, 30, 35, 40, 45, 6, 12, 18, 24, 30, 36, 42, 48, 54, 7, 14, 21, 28, 35, 42, 49, 56, 63, 8, 16, 24, 32, 40, 48, 56, 64, 72, 9, 18, 27, 36, 45, 54, 63, 72, 81]\n"
     ]
    }
   ],
   "source": [
    "'''\n",
    "구구단을 리스트 내포로 출력하기\n",
    "'''\n",
    "'''\n",
    "for i in range(2, 10):\n",
    "    for j in range(1, 10):\n",
    "        print(i*j)\n",
    "'''\n",
    "list_gugu = [i * j for i in range(2, 10) for j in range(1, 10)]\n",
    "print(list_gugu)"
   ]
  },
  {
   "cell_type": "code",
   "execution_count": 30,
   "id": "c85f6d59",
   "metadata": {},
   "outputs": [
    {
     "name": "stdout",
     "output_type": "stream",
     "text": [
      "[2, 4, 6, 8, 10, 12, 14, 16, 18, 4, 8, 12, 16, 20, 24, 28, 32, 36, 6, 12, 18, 24, 30, 36, 42, 48, 54, 8, 16, 24, 32, 40, 48, 56, 64, 72]\n"
     ]
    }
   ],
   "source": [
    "'''\n",
    "짝수단만 출력하기\n",
    "\n",
    "for i in range(2, 10):\n",
    "    if i % 2 == 0:\n",
    "        for j in range(1, 10):\n",
    "            print(i * j)\n",
    "'''          \n",
    "list_evens = [ i * j for i in range(2,10) if i % 2 == 0 for j in range(1, 10)]\n",
    "print(list_evens)"
   ]
  },
  {
   "cell_type": "code",
   "execution_count": 31,
   "id": "a0513451",
   "metadata": {},
   "outputs": [
    {
     "name": "stdout",
     "output_type": "stream",
     "text": [
      "[1, 2, 4, 5, 7, 8, 10, 11, 13, 14, 16, 17, 19, 20]\n",
      "---------------------------------------------\n",
      "[1, 2, 4, 5, 7, 8, 10, 11, 13, 14, 16, 17, 19, 20]\n"
     ]
    }
   ],
   "source": [
    "'''\n",
    "리스트 내포를 사용해서\n",
    "1 부터 20까지의 숫자 중에서 3의 배수를 제외해서 출력하세요\n",
    "range(1, 21)\n",
    "for 문  -->  리스트 내포\n",
    "\n",
    "조건을 포함하는 리스트 내포\n",
    " if\n",
    "[for 문 조건문]\n",
    " if else\n",
    "[조건문 for 문] \n",
    "'''\n",
    "list_result = []\n",
    "for num in range(1, 21):\n",
    "    if num % 3 !=0:\n",
    "        list_result.append(num)\n",
    "print(list_result)\n",
    "print(\"-\"*45)\n",
    "\n",
    "list_result = [num for num in range(1, 21) if num % 3 !=0]\n",
    "print(list_result)"
   ]
  },
  {
   "cell_type": "code",
   "execution_count": null,
   "id": "1422a131",
   "metadata": {},
   "outputs": [],
   "source": [
    "'''\n",
    "1부터 20까지의 정수 중에서\n",
    "3의 배수를 제외하고 \n",
    "2의 배수는 음수로 만들어서 출력하세요\n",
    "\n",
    "(3의 배수를 제외하고 \n",
    " 1부터 20까지의 정수 중에서\n",
    " 2의 배수는 음수로 만들어서 출력하세요)\n",
    "'''\n",
    "list_result = []\n",
    "for num in range(1, 21) :\n",
    "    if num % 3 !=0:\n",
    "        if num % 2 == 0:\n",
    "            list_result.append(-num)\n",
    "        else:\n",
    "            list_result.append(num)\n",
    "print(\"list_result :\", list_result)"
   ]
  },
  {
   "cell_type": "code",
   "execution_count": 35,
   "id": "916ebc5f",
   "metadata": {},
   "outputs": [
    {
     "name": "stdout",
     "output_type": "stream",
     "text": [
      "list_result : [1, -2, -4, 5, 7, -8, -10, 11, 13, -14, -16, 17, 19, -20]\n"
     ]
    }
   ],
   "source": [
    "'''\n",
    "1부터 20까지의 정수 중에서\n",
    "3의 배수를 제외하고 \n",
    "2의 배수는 음수로 만들어서 출력하세요\n",
    "\n",
    "(3의 배수를 제외하고 \n",
    " 1부터 20까지의 정수 중에서\n",
    " 2의 배수는 음수로 만들어서 출력하세요)\n",
    "'''\n",
    "list_result = [-num if num % 2 == 0 else num for num in range(1, 21) if num % 3 !=0]\n",
    "print(\"list_result :\", list_result)"
   ]
  },
  {
   "cell_type": "code",
   "execution_count": 34,
   "id": "440515f0",
   "metadata": {},
   "outputs": [
    {
     "name": "stdout",
     "output_type": "stream",
     "text": [
      "성적을 입력하세요 : 75\n",
      "result : 합격\n",
      "--------------------------------------------------\n",
      "result : 합격\n"
     ]
    }
   ],
   "source": [
    "'''\n",
    "성적을 입력 받아서 70 점 이상이면 합격, \n",
    "70 점 미만이면 불합격을 출력하세요.\n",
    "\n",
    "if 를 사용하는 삼항연산자\n",
    "\n",
    "result = 조건이참일때값 if 조건 else 조건이 거짓일때 값\n",
    "\n",
    "'''\n",
    "score = int(input(\"성적을 입력하세요 : \"))\n",
    "result = \"\"\n",
    "if score >= 70:\n",
    "    result = \"합격\"\n",
    "else:\n",
    "    result = \"불합격\"\n",
    "print(\"result :\", result)\n",
    "print(\"-\" * 50)\n",
    "result = \"합격\" if score >= 70 else  \"불합격\"\n",
    "print(\"result :\", result)"
   ]
  },
  {
   "cell_type": "code",
   "execution_count": 36,
   "id": "3b244d18",
   "metadata": {},
   "outputs": [
    {
     "name": "stdout",
     "output_type": "stream",
     "text": [
      "list_result: [1, -2, -4, 5, 7, -8, -10, 11, 13, -14, -16, 17, 19, -20]\n"
     ]
    }
   ],
   "source": [
    "'''\n",
    "    if num % 3 != 0:  같은 의미  if num % 3:\n",
    "       결과 : 1, 2               결과 : 1, 2\n",
    "  \n",
    "\n",
    "    if num % 2 == 0:  같은 의미  if not num % 2:\n",
    "'''\n",
    "list_result = []\n",
    "for num in range(1,21):\n",
    "    if num % 3:\n",
    "        if not num % 2:\n",
    "            list_result.append(-num)\n",
    "        else:\n",
    "            list_result.append(num)\n",
    "print(\"list_result:\", list_result)"
   ]
  },
  {
   "cell_type": "code",
   "execution_count": 37,
   "id": "61442e17",
   "metadata": {},
   "outputs": [
    {
     "name": "stdout",
     "output_type": "stream",
     "text": [
      "list_result: [1, -2, -4, 5, 7, -8, -10, 11, 13, -14, -16, 17, 19, -20]\n"
     ]
    }
   ],
   "source": [
    "list_result = []\n",
    "for num in range(1, 21):\n",
    "    if num % 3:\n",
    "        if num % 2:\n",
    "            list_result.append(num)\n",
    "        else:\n",
    "            list_result.append(-num)\n",
    "print(\"list_result:\", list_result)"
   ]
  },
  {
   "cell_type": "code",
   "execution_count": 38,
   "id": "f593de39",
   "metadata": {},
   "outputs": [
    {
     "name": "stdout",
     "output_type": "stream",
     "text": [
      "list_result : [1, -2, -4, 5, 7, -8, -10, 11, 13, -14, -16, 17, 19, -20]\n"
     ]
    }
   ],
   "source": [
    "'''\n",
    "    if num % 3 != 0:  같은 의미  if num % 3:\n",
    "       결과 : 1, 2               결과 : 1, 2\n",
    "  \n",
    "\n",
    "    if num % 2 == 0:  같은 의미  if not num % 2:\n",
    "'''\n",
    "list_result = [num if num % 2 else -num for num in range(1, 21) if num % 3]\n",
    "print(\"list_result :\", list_result)"
   ]
  },
  {
   "cell_type": "code",
   "execution_count": 40,
   "id": "4b5ecddf",
   "metadata": {},
   "outputs": [
    {
     "name": "stdout",
     "output_type": "stream",
     "text": [
      "list_result : ['L', 'f', ' ', 's', ' ', 't', ' ', 's', 'h', 'r', 't', ',', ' ', 'y', ' ', 'n', 'd', ' ', 'p', 'y', 't', 'h', 'n']\n",
      "Lf s t shrt, y nd pythn\n",
      "list_result : ['L', 'f', ' ', 's', ' ', 't', ' ', 's', 'h', 'r', 't', ',', ' ', 'y', ' ', 'n', 'd', ' ', 'p', 'y', 't', 'h', 'n']\n",
      "Lf s t shrt, y nd pythn\n"
     ]
    }
   ],
   "source": [
    "'''\n",
    "  리스트 내포를 이용하여 str1에서 모음('aeiou')을 제거하시오.\n",
    "'''\n",
    "str1 = \"Life is too short, you need python\"\n",
    "list_result = []\n",
    "vowels = \"aeiou\"\n",
    "for character in str1:\n",
    "    if character not in vowels:\n",
    "        list_result.append(character)\n",
    "print(\"list_result :\",list_result)   \n",
    "print(\"\".join(list_result))\n",
    "list_result = [character for character in str1 if character not in vowels]\n",
    "print(\"list_result :\",list_result)\n",
    "print(\"\".join(list_result))"
   ]
  },
  {
   "cell_type": "code",
   "execution_count": 42,
   "id": "e994de2d",
   "metadata": {},
   "outputs": [
    {
     "name": "stdout",
     "output_type": "stream",
     "text": [
      "p y t h o n \n"
     ]
    }
   ],
   "source": [
    "for string in \"python\":\n",
    "    print(string, end = \" \")\n",
    "print()"
   ]
  },
  {
   "cell_type": "code",
   "execution_count": 44,
   "id": "6dda209a",
   "metadata": {},
   "outputs": [
    {
     "name": "stdout",
     "output_type": "stream",
     "text": [
      "reversed_numbers : <list_reverseiterator object at 0x00000213DD932340>\n",
      "6\n",
      "5\n",
      "4\n",
      "3\n",
      "2\n",
      "1\n"
     ]
    }
   ],
   "source": [
    "'''\n",
    "205 page\n",
    "'''\n",
    "numbers = [1, 2, 3, 4, 5, 6]\n",
    "r_num = reversed(numbers)\n",
    "\n",
    "print(\"reversed_numbers :\", r_num)\n",
    "print(next(r_num))\n",
    "print(next(r_num))\n",
    "print(next(r_num))\n",
    "print(next(r_num))\n",
    "print(next(r_num))\n",
    "print(next(r_num))"
   ]
  },
  {
   "cell_type": "code",
   "execution_count": null,
   "id": "53f7e02a",
   "metadata": {},
   "outputs": [],
   "source": []
  }
 ],
 "metadata": {
  "kernelspec": {
   "display_name": "Python 3 (ipykernel)",
   "language": "python",
   "name": "python3"
  },
  "language_info": {
   "codemirror_mode": {
    "name": "ipython",
    "version": 3
   },
   "file_extension": ".py",
   "mimetype": "text/x-python",
   "name": "python",
   "nbconvert_exporter": "python",
   "pygments_lexer": "ipython3",
   "version": "3.9.7"
  }
 },
 "nbformat": 4,
 "nbformat_minor": 5
}
