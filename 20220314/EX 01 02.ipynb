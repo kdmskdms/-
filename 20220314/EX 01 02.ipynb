{
 "cells": [
  {
   "cell_type": "code",
   "execution_count": 2,
   "id": "6e0953c5",
   "metadata": {},
   "outputs": [
    {
     "name": "stdout",
     "output_type": "stream",
     "text": [
      "--------------------------------------------------\n",
      "이름 : 더조은\n",
      "나이 : 23\n"
     ]
    }
   ],
   "source": [
    "class Student:\n",
    "    def set_info(self, name, age):\n",
    "        self.name = name\n",
    "        self.age = age\n",
    "    def display_info(self)    :\n",
    "        print(f\"이름 : {self.name}\\n\"\n",
    "              f\"나이 : {self.age}\")\n",
    "\n",
    "std1 = Student()  \n",
    "print(\"-\" * 50)\n",
    "std1.set_info(\"더조은\" , 23)\n",
    "std1.display_info()      "
   ]
  },
  {
   "cell_type": "code",
   "execution_count": 3,
   "id": "fc2bb206",
   "metadata": {},
   "outputs": [],
   "source": [
    "class Account:\n",
    "    def __init__(self):\n",
    "        self.balance = 0\n",
    "    def open_account(self, money):\n",
    "        self.balance = money\n",
    "        print(\"계좌 개설을 축하합니다\")\n",
    "        self.display_account()\n",
    "        print(\"-\" * 40)\n",
    "    def display_account(self):\n",
    "        print(f\"현재 잔액은 {self.balance} 원입니다\")\n",
    "    def deposit(self, money):\n",
    "        if money > 0:\n",
    "            self.balance += money\n",
    "            print(f\"{money} 원을 입금하셨습니다\")\n",
    "        else:\n",
    "            print(\"정확한 금액을 입금해 주세요\")\n",
    "        self.display_account()\n",
    "        print(\"-\" * 40)\n",
    "\n",
    "    def withdraw(self, money):\n",
    "        if money <= self.balance:\n",
    "            self.balance -= money\n",
    "            print(f\"{money} 원을 출금하셨습니다\")\n",
    "        else:\n",
    "            print(\"잔액이 부족합니다\")\n",
    "        self.display_account()            \n",
    "        print(\"-\" * 40)"
   ]
  },
  {
   "cell_type": "code",
   "execution_count": 4,
   "id": "4709414d",
   "metadata": {},
   "outputs": [
    {
     "name": "stdout",
     "output_type": "stream",
     "text": [
      "계좌 개설을 축하합니다\n",
      "현재 잔액은 10000 원입니다\n",
      "----------------------------------------\n",
      "30000 원을 입금하셨습니다\n",
      "현재 잔액은 40000 원입니다\n",
      "----------------------------------------\n",
      "50000 원을 입금하셨습니다\n",
      "현재 잔액은 90000 원입니다\n",
      "----------------------------------------\n",
      "20000 원을 출금하셨습니다\n",
      "현재 잔액은 70000 원입니다\n",
      "----------------------------------------\n",
      "40000 원을 출금하셨습니다\n",
      "현재 잔액은 30000 원입니다\n",
      "----------------------------------------\n",
      "잔액이 부족합니다\n",
      "현재 잔액은 30000 원입니다\n",
      "----------------------------------------\n",
      "정확한 금액을 입금해 주세요\n",
      "현재 잔액은 30000 원입니다\n",
      "----------------------------------------\n",
      "10000 원을 입금하셨습니다\n",
      "현재 잔액은 100010000 원입니다\n",
      "----------------------------------------\n"
     ]
    }
   ],
   "source": [
    "acc1 = Account()\n",
    "acc1.open_account(10000)\n",
    "\n",
    "acc1.deposit(30000)\n",
    "acc1.deposit(50000)\n",
    "\n",
    "acc1.withdraw(20000)\n",
    "acc1.withdraw(40000)\n",
    "acc1.withdraw(50000)\n",
    "\n",
    "acc1.deposit(-60000)\n",
    "\n",
    "# 멤버변수 balace 에 직접 잔액을 변경함\n",
    "acc1.balance = 100000000\n",
    "acc1.deposit(10000)"
   ]
  },
  {
   "cell_type": "code",
   "execution_count": 6,
   "id": "8c560004",
   "metadata": {},
   "outputs": [],
   "source": [
    "class Account2:\n",
    "    def __init__(self):\n",
    "        self._balance = 0\n",
    "    def open_account(self, money):\n",
    "        self.__balance = money\n",
    "        print(\"계좌 개설을 축하합니다\")\n",
    "        self.display_account()\n",
    "        print(\"-\" * 40)\n",
    "\n",
    "    def withdraw(self, money):\n",
    "        if money <= self._balance:\n",
    "            self._balance -= money\n",
    "            print(f\"{money}원을 출금하셨습니다\")\n",
    "        else:\n",
    "            print(\"잔액이 부족합니다\")\n",
    "        self.display_account()            \n",
    "        print(\"-\" * 40)    "
   ]
  },
  {
   "cell_type": "code",
   "execution_count": 7,
   "id": "ad9b0a74",
   "metadata": {},
   "outputs": [
    {
     "name": "stdout",
     "output_type": "stream",
     "text": [
      "계좌 개설을 축하합니다\n",
      "현재 잔액은 10000 원입니다\n",
      "----------------------------------------\n",
      "30000 원을 입금하셨습니다\n",
      "현재 잔액은 40000 원입니다\n",
      "----------------------------------------\n",
      "50000 원을 입금하셨습니다\n",
      "현재 잔액은 90000 원입니다\n",
      "----------------------------------------\n",
      "20000 원을 출금하셨습니다\n",
      "현재 잔액은 70000 원입니다\n",
      "----------------------------------------\n",
      "40000 원을 출금하셨습니다\n",
      "현재 잔액은 30000 원입니다\n",
      "----------------------------------------\n",
      "잔액이 부족합니다\n",
      "현재 잔액은 30000 원입니다\n",
      "----------------------------------------\n",
      "정확한 금액을 입금해 주세요\n",
      "현재 잔액은 30000 원입니다\n",
      "----------------------------------------\n",
      "10000 원을 입금하셨습니다\n",
      "현재 잔액은 100010000 원입니다\n",
      "----------------------------------------\n"
     ]
    }
   ],
   "source": [
    "acc1 = Account()\n",
    "acc1.open_account(10000)\n",
    "\n",
    "acc1.deposit(30000)\n",
    "acc1.deposit(50000)\n",
    "\n",
    "acc1.withdraw(20000)\n",
    "acc1.withdraw(40000)\n",
    "acc1.withdraw(50000)\n",
    "\n",
    "acc1.deposit(-60000)\n",
    "\n",
    "acc1.balance = 100000000\n",
    "acc1.deposit(10000)"
   ]
  },
  {
   "cell_type": "code",
   "execution_count": 9,
   "id": "6f3c2481",
   "metadata": {},
   "outputs": [],
   "source": [
    "class Account2:\n",
    "    def __init__(self):\n",
    "        self.__balance = 0\n",
    "    def open_account(self, money):\n",
    "        self.__balance = money\n",
    "        print(\"계좌 개설을 축하합니다\")\n",
    "        self.display_account()\n",
    "        print(\"-\" * 40)\n",
    "    def display_account(self):\n",
    "        print(f\"현재 잔액은 {self.__balance} 원입니다\")\n",
    "    def deposit(self, money):\n",
    "        if money > 0:\n",
    "            self.__balance += money\n",
    "            print(f\"{money} 원을 입금하셨습니다\")\n",
    "        else:\n",
    "            print(\"정확한 금액을 입금해 주세요\")\n",
    "        self.display_account()\n",
    "        print(\"-\" * 40)\n",
    "    def withdarw(self, money):\n",
    "        if money <= self.__balance: \n",
    "            self.__balance -= money\n",
    "            print(f\"{money} 원을 출금하셨습니다\")\n",
    "        else:\n",
    "            print(\"잔액이 부족합니다\")\n",
    "        self.display_account()            \n",
    "        print(\"-\" * 40)"
   ]
  },
  {
   "cell_type": "code",
   "execution_count": 10,
   "id": "37d9725e",
   "metadata": {},
   "outputs": [
    {
     "name": "stdout",
     "output_type": "stream",
     "text": [
      "계좌 개설을 축하합니다\n",
      "현재 잔액은 10000 원입니다\n",
      "----------------------------------------\n",
      "30000 원을 입금하셨습니다\n",
      "현재 잔액은 40000 원입니다\n",
      "----------------------------------------\n",
      "50000 원을 입금하셨습니다\n",
      "현재 잔액은 90000 원입니다\n",
      "----------------------------------------\n"
     ]
    },
    {
     "ename": "AttributeError",
     "evalue": "'Account2' object has no attribute 'withdraw'",
     "output_type": "error",
     "traceback": [
      "\u001b[1;31m---------------------------------------------------------------------------\u001b[0m",
      "\u001b[1;31mAttributeError\u001b[0m                            Traceback (most recent call last)",
      "\u001b[1;32mC:\\Users\\KIMDON~1\\AppData\\Local\\Temp/ipykernel_15604/3345913927.py\u001b[0m in \u001b[0;36m<module>\u001b[1;34m\u001b[0m\n\u001b[0;32m      5\u001b[0m \u001b[0macc1\u001b[0m\u001b[1;33m.\u001b[0m\u001b[0mdeposit\u001b[0m\u001b[1;33m(\u001b[0m\u001b[1;36m50000\u001b[0m\u001b[1;33m)\u001b[0m\u001b[1;33m\u001b[0m\u001b[1;33m\u001b[0m\u001b[0m\n\u001b[0;32m      6\u001b[0m \u001b[1;33m\u001b[0m\u001b[0m\n\u001b[1;32m----> 7\u001b[1;33m \u001b[0macc1\u001b[0m\u001b[1;33m.\u001b[0m\u001b[0mwithdraw\u001b[0m\u001b[1;33m(\u001b[0m\u001b[1;36m20000\u001b[0m\u001b[1;33m)\u001b[0m\u001b[1;33m\u001b[0m\u001b[1;33m\u001b[0m\u001b[0m\n\u001b[0m\u001b[0;32m      8\u001b[0m \u001b[0macc1\u001b[0m\u001b[1;33m.\u001b[0m\u001b[0mwithdraw\u001b[0m\u001b[1;33m(\u001b[0m\u001b[1;36m40000\u001b[0m\u001b[1;33m)\u001b[0m\u001b[1;33m\u001b[0m\u001b[1;33m\u001b[0m\u001b[0m\n\u001b[0;32m      9\u001b[0m \u001b[0macc1\u001b[0m\u001b[1;33m.\u001b[0m\u001b[0mwithdraw\u001b[0m\u001b[1;33m(\u001b[0m\u001b[1;36m50000\u001b[0m\u001b[1;33m)\u001b[0m\u001b[1;33m\u001b[0m\u001b[1;33m\u001b[0m\u001b[0m\n",
      "\u001b[1;31mAttributeError\u001b[0m: 'Account2' object has no attribute 'withdraw'"
     ]
    }
   ],
   "source": [
    "acc1 = Account2()\n",
    "acc1.open_account(10000)\n",
    "\n",
    "acc1.deposit(30000)\n",
    "acc1.deposit(50000)\n",
    "\n",
    "acc1.withdraw(20000)\n",
    "acc1.withdraw(40000)\n",
    "acc1.withdraw(50000)\n",
    "\n",
    "acc1.deposit(-60000)\n",
    "acc1.balance = 100000000\n",
    "acc1.deposit(10000)\n"
   ]
  },
  {
   "cell_type": "code",
   "execution_count": 12,
   "id": "960211a3",
   "metadata": {},
   "outputs": [
    {
     "name": "stdout",
     "output_type": "stream",
     "text": [
      "계좌정보 : (10000, '이순신', '123-45678-45-2')\n",
      "----------------------------------------\n",
      "잔액 : 10000 원\n",
      "이름 : 이순신\n",
      "계좌번호 : 123-45678-45-2\n",
      "----------------------------------------\n",
      "계좌정보 : (40000, '이순신', '123-45678-45-2')\n",
      "계좌정보 : (20000, '이순신', '123-45678-45-2')\n",
      "잔액이 부족합니다\n",
      "계좌정보 : (20000, '이순신', '123-45678-45-2')\n",
      "입금액을 확인해 주세요\n"
     ]
    }
   ],
   "source": [
    "class Account3:\n",
    "    def __init__(self, balance, name, no):\n",
    "            self.__balance = balance\n",
    "            self.__name    = name\n",
    "            self.__no      = no\n",
    "    def deposit(self, money):\n",
    "        if money < 0:\n",
    "            print(\"입금액을 확인해 주세요\")\n",
    "            return\n",
    "        self.__balance += money\n",
    "    def withdraw(self, money):\n",
    "        if money > self.__balance:\n",
    "            print(\"잔액이 부족합니다\")\n",
    "            return \n",
    "        self.__balance -= money\n",
    "    def get_account(self):\n",
    "        return self.__balance, self.__name, self.__no\n",
    "acc3 = Account3(10000, \"이순신\", \"123-45678-45-2\")\n",
    "\n",
    "print(f\"계좌정보 : {acc3.get_account()}\")\n",
    "print(\"-\" * 40)\n",
    "\n",
    "balance, name, no = acc3.get_account()\n",
    "print(f\"잔액 : {balance} 원\\n\"\n",
    "      f\"이름 : {name}\\n\"\n",
    "      f\"계좌번호 : {no}\")        \n",
    "print(\"-\" * 40)\n",
    "acc3.deposit(30000)\n",
    "print(f\"계좌정보 : {acc3.get_account()}\")\n",
    "acc_info = acc3.get_account()\n",
    "\n",
    "acc3.withdraw(20000)\n",
    "print(f\"계좌정보 : {acc3.get_account()}\")\n",
    "\n",
    "acc3.withdraw(30000)\n",
    "print(f\"계좌정보 : {acc3.get_account()}\")\n",
    "acc3.deposit(-10000)"
   ]
  },
  {
   "cell_type": "code",
   "execution_count": 13,
   "id": "f96fa1c5",
   "metadata": {},
   "outputs": [],
   "source": [
    "class Person:\n",
    "    def __init(self):\n",
    "        self.__name = \"\"\n",
    "        self.__age  = 0\n",
    "    \n",
    "    def get_name(self):\n",
    "        return self.__name\n",
    "    def get_age(self):\n",
    "        return self.__age\n",
    "    \n",
    "    def set_name(self, name):\n",
    "        self.__name = name\n",
    "    def set_age(self, age):\n",
    "        self.__age = age"
   ]
  },
  {
   "cell_type": "code",
   "execution_count": 14,
   "id": "cb7d72bf",
   "metadata": {},
   "outputs": [
    {
     "name": "stdout",
     "output_type": "stream",
     "text": [
      "이름 : 글로벌\n",
      "나이 : 23\n",
      "--------------------------------------------------\n",
      "이름 : 글로벌\n",
      "나이 : 23\n",
      "--------------------------------------------------\n"
     ]
    }
   ],
   "source": [
    "p1 = Person()\n",
    "\n",
    "p1.set_name(\"글로벌\")\n",
    "p1.set_age(23)\n",
    "\n",
    "print(f\"이름 : {p1.get_name()}\\n\"\n",
    "      f\"나이 : {p1.get_age()}\")\n",
    "print(\"-\" * 50)\n",
    "\n",
    "name = p1.get_name()\n",
    "age = p1.get_age()\n",
    "print(f\"이름 : {name}\\n\"\n",
    "      f\"나이 : {age}\")\n",
    "print(\"-\" * 50)"
   ]
  },
  {
   "cell_type": "code",
   "execution_count": null,
   "id": "52e6f550",
   "metadata": {},
   "outputs": [],
   "source": [
    "class Member:\n",
    "    def __init__(self):\n",
    "        self.__name =\"\"\n",
    "        self.__age = 0\n",
    "    \n",
    "    @property\n",
    "    def name(self):\n",
    "        return self.__name\n",
    "    @property\n",
    "    def age(self):\n",
    "        if self.__age <= 12:\n",
    "            return \"가입 안됨\"\n",
    "        else:\n",
    "            return self.__age\n",
    "    \n",
    "    @name.setter\n",
    "    def name(self, name):\n",
    "        self.__name = name\n",
    "    \n",
    "    @age.setter\n",
    "    def age(self,age):\n",
    "        if age <= 12:\n",
    "            print(\"13세 이상만 가입할 수 있습니다\")\n",
    "        else:\n",
    "            self.__age = age"
   ]
  },
  {
   "cell_type": "code",
   "execution_count": null,
   "id": "2236b3bb",
   "metadata": {},
   "outputs": [],
   "source": [
    "m1 = Member()\n",
    "m1.name = \"글로벌\"\n",
    "m1.age  = 23\n",
    "print(f\"이름 : {m1.name}, 나이 : {m1.age}\")\n",
    "print(\"-\" * 40)"
   ]
  },
  {
   "cell_type": "code",
   "execution_count": null,
   "id": "d06ef16e",
   "metadata": {},
   "outputs": [],
   "source": [
    "m2 = Member()\n",
    "m2.name = \"아이티\"\n",
    "m2.age  = 10\n",
    "print(f\"이름 : {m2.name}, 나이 : {m2.age}\")\n",
    "print(\"-\" * 40)"
   ]
  },
  {
   "cell_type": "code",
   "execution_count": null,
   "id": "7f057f1f",
   "metadata": {},
   "outputs": [],
   "source": [
    "import math\n",
    "class Circle:\n",
    "    def __init__(self, radius):\n",
    "        self.__radius = radius\n",
    "        \n",
    "    @property\n",
    "    def radius(self):\n",
    "        return self.__radius\n",
    "    \n",
    "    @radius.setter\n",
    "    def radius(self, radius):\n",
    "        if radius <= 0:\n",
    "            print(\"반지름은 양수를 입력하세요\")\n",
    "        self.__radius = radius    \n",
    "    \n",
    "    def get_circumference(self):\n",
    "        return 2 * math.pi * self.__radius\n",
    "    def get_are(self):\n",
    "        return self.__radius ** 2 * math.pi"
   ]
  },
  {
   "cell_type": "code",
   "execution_count": null,
   "id": "51667021",
   "metadata": {},
   "outputs": [],
   "source": [
    "circle = Circle(10)\n",
    "print(\"원의 반지름 :\",circle.radius) \n",
    "\n",
    "circle.radius = 2\n",
    "print(\"변경된 원의 반지름 :\",circle.radius) \n",
    "print()\n",
    "\n",
    "circle.radius = -10"
   ]
  },
  {
   "cell_type": "code",
   "execution_count": 15,
   "id": "64e402fa",
   "metadata": {},
   "outputs": [
    {
     "name": "stdout",
     "output_type": "stream",
     "text": [
      "책 이름이 \"파이썬 기본서\" 인 Book 객체가 생성됨\n"
     ]
    }
   ],
   "source": [
    "class Book:\n",
    "    def __init__(self, book_name):\n",
    "        self.name = book_name\n",
    "        print(f\"책 이름이 \\\"{self.name}\\\" 인 Book 객체가 생성됨\")\n",
    "        \n",
    "book1 = Book(\"파이썬 기본서\")        "
   ]
  },
  {
   "cell_type": "code",
   "execution_count": 16,
   "id": "58f4015c",
   "metadata": {},
   "outputs": [
    {
     "name": "stdout",
     "output_type": "stream",
     "text": [
      "이름은 이순신 이고, 나이는 48 살입니다\n"
     ]
    }
   ],
   "source": [
    "class Student:\n",
    "    def __init__(self, name, age):\n",
    "        self.name = name\n",
    "        self.age  = age\n",
    "    def introduce_myself(self):\n",
    "        print(f\"이름은 {self.name} 이고, 나이는 {self.age} 살입니다\")\n",
    "        \n",
    "std1 = Student(\"이순신\", 48)        \n",
    "std1.introduce_myself() "
   ]
  },
  {
   "cell_type": "code",
   "execution_count": 17,
   "id": "f009cc03",
   "metadata": {},
   "outputs": [
    {
     "name": "stdout",
     "output_type": "stream",
     "text": [
      "emp1 : 이름 : 글로벌, 담당업무 : 부장\n",
      "----------------------------------------\n",
      "이름 : 글로벌\n",
      "담당업무 : 부장\n",
      "----------------------------------------\n",
      "이름 : 아이티\n",
      "담당업무 : 기획자\n",
      "----------------------------------------\n",
      "('아이티', '기획자')\n",
      "----------------------------------------\n",
      "아카데미\n",
      "개발자\n"
     ]
    }
   ],
   "source": [
    "class Employee:\n",
    "    def __init__(self, name, job):\n",
    "        self.name = name\n",
    "        self.job  = job\n",
    "        \n",
    "    def set_name(self, name):\n",
    "        self.name = name\n",
    "    def set_job(self, job):\n",
    "        self.job = job\n",
    "        \n",
    "    def set_info(self, name, job):\n",
    "        self.name = name\n",
    "        self.job = job\n",
    "        \n",
    "    def get_name(self):\n",
    "        return self.name\n",
    "    def get_job(self):\n",
    "        return self.job\n",
    "    \n",
    "    def get_info(self):\n",
    "        return self.name, self.job\n",
    "    \n",
    "    def __str__(self):    \n",
    "        return f\"이름 : {self.name}, 담당업무 : {self.job}\"\n",
    "    \n",
    "    \n",
    "    def display_info(self):\n",
    "        print(f\"이름 : {self.name}\\n담당업무 : {self.job}\")\n",
    "        \n",
    "emp1 = Employee(\"글로벌\", \"부장\")\n",
    "print(\"emp1 :\",emp1)\n",
    "print(\"-\" * 40)\n",
    "emp1.display_info()\n",
    "print(\"-\" * 40)\n",
    "emp1.set_info(\"아이티\", \"기획자\")\n",
    "emp1.display_info()\n",
    "print(\"-\" * 40)\n",
    "print(emp1.get_info())\n",
    "print(\"-\" * 40)\n",
    "emp1.set_name(\"아카데미\")\n",
    "emp1.set_job(\"개발자\")\n",
    "print(emp1.get_name())\n",
    "print(emp1.get_job())        "
   ]
  },
  {
   "cell_type": "code",
   "execution_count": 18,
   "id": "e39c4af1",
   "metadata": {},
   "outputs": [
    {
     "name": "stdout",
     "output_type": "stream",
     "text": [
      "이름 : 글로벌, 나이 : 25, 키 : 187, 몸무게 : 70\n",
      "이름 : 글로벌, 나이 : 25, 키 : 187, 몸무게 : 70\n"
     ]
    }
   ],
   "source": [
    "class Person:\n",
    "    def __init__(self):\n",
    "        self.__name = \"\"\n",
    "        self.__age  = 0\n",
    "        self.__height = 0\n",
    "        self.__weight = 0\n",
    "    @property\n",
    "    def name(self):\n",
    "        return self.__name\n",
    "    @property\n",
    "    def age(self):\n",
    "        return self.__age\n",
    "    @property\n",
    "    def height(self):\n",
    "        return self.__height\n",
    "    @property\n",
    "    def weight(self):\n",
    "        return self.__weight\n",
    "    @name.setter\n",
    "    def name(self, name):\n",
    "        self.__name = name\n",
    "    @age.setter\n",
    "    def age(self, age):\n",
    "        self.__age = age\n",
    "    @height.setter\n",
    "    def height(self, height):\n",
    "        self.__height = height\n",
    "    @weight.setter\n",
    "    def weight(self, weight):\n",
    "        self.__weight = weight\n",
    "     \n",
    "    def __str__(self):\n",
    "        return f\"이름 : {p1.__name}, 나이 : {p1.__age}, 키 : {p1.__height}, 몸무게 : {p1.__weight}\"\n",
    "    \n",
    "p1 = Person()\n",
    "p1.name = \"글로벌\"\n",
    "p1.age  = 25\n",
    "p1.height = 187\n",
    "p1.weight = 70\n",
    "\n",
    "print(p1)\n",
    "print(f\"이름 : {p1.name}, 나이 : {p1.age}, 키 : {p1.height}, 몸무게 : {p1.weight}\")"
   ]
  },
  {
   "cell_type": "code",
   "execution_count": null,
   "id": "c13e8e49",
   "metadata": {},
   "outputs": [],
   "source": []
  }
 ],
 "metadata": {
  "kernelspec": {
   "display_name": "Python 3 (ipykernel)",
   "language": "python",
   "name": "python3"
  },
  "language_info": {
   "codemirror_mode": {
    "name": "ipython",
    "version": 3
   },
   "file_extension": ".py",
   "mimetype": "text/x-python",
   "name": "python",
   "nbconvert_exporter": "python",
   "pygments_lexer": "ipython3",
   "version": "3.9.7"
  }
 },
 "nbformat": 4,
 "nbformat_minor": 5
}
