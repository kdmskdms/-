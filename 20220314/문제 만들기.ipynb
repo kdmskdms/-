{
 "cells": [
  {
   "cell_type": "code",
   "execution_count": 1,
   "id": "8317b25e",
   "metadata": {},
   "outputs": [
    {
     "name": "stdout",
     "output_type": "stream",
     "text": [
      "--------------------------------------------------\n",
      "이름 : 글로벌\n",
      "나이 : 25\n"
     ]
    }
   ],
   "source": [
    "class Student: \n",
    "    def set_info(self, name, age):\n",
    "        self.name = name\n",
    "        self.age  = age\n",
    "    def display_info(self)    :\n",
    "        print(f\"이름 : {self.name}\\n\"\n",
    "              f\"나이 : {self.age}\")\n",
    "        \n",
    "std1 = Student()  \n",
    "print(\"-\" * 50)\n",
    "std1.set_info(\"글로벌\" , 25)\n",
    "std1.display_info()"
   ]
  },
  {
   "cell_type": "code",
   "execution_count": 23,
   "id": "27c62edc",
   "metadata": {},
   "outputs": [],
   "source": [
    "class Account:\n",
    "    def __init__(self):\n",
    "        # 잔액\n",
    "        self.balance = 0\n",
    "        \n",
    "    def open_account(self, money):\n",
    "        self.balance = money\n",
    "        print(\"계좌 개설을 축하합니다\")\n",
    "        self.display_account()\n",
    "        print(\"-\" * 40)\n",
    "        \n",
    "    def display_account(self):\n",
    "        print(f\"현재 잔액은 {self.balance} 원입니다\")        \n",
    "        \n",
    "    def deposit(self, money):\n",
    "        if money > 0:\n",
    "            self.balance += money\n",
    "            print(f\"{money} 원을 입금하셨습니다\")\n",
    "        else:\n",
    "            print(\"정확한 금액을 입금해 주세요\")\n",
    "        self.display_account()\n",
    "        print(\"-\" * 40)\n",
    "        \n",
    "    def withdraw(self, money):\n",
    "        if money <= self.balance:\n",
    "            self.balance -= money\n",
    "            print(f\"{money} 원을 출금하셨습니다\")\n",
    "        else:\n",
    "            print(\"잔액이 부족합니다\")\n",
    "        self.display_account()            \n",
    "        print(\"-\" * 40)"
   ]
  },
  {
   "cell_type": "code",
   "execution_count": 24,
   "id": "099b86a7",
   "metadata": {},
   "outputs": [
    {
     "name": "stdout",
     "output_type": "stream",
     "text": [
      "계좌 개설을 축하합니다\n",
      "현재 잔액은 10000 원입니다\n",
      "----------------------------------------\n",
      "30000 원을 입금하셨습니다\n",
      "현재 잔액은 40000 원입니다\n",
      "----------------------------------------\n",
      "50000 원을 입금하셨습니다\n",
      "현재 잔액은 90000 원입니다\n",
      "----------------------------------------\n",
      "20000 원을 출금하셨습니다\n",
      "현재 잔액은 70000 원입니다\n",
      "----------------------------------------\n",
      "40000 원을 출금하셨습니다\n",
      "현재 잔액은 30000 원입니다\n",
      "----------------------------------------\n",
      "잔액이 부족합니다\n",
      "현재 잔액은 30000 원입니다\n",
      "----------------------------------------\n",
      "정확한 금액을 입금해 주세요\n",
      "현재 잔액은 30000 원입니다\n",
      "----------------------------------------\n",
      "10000 원을 입금하셨습니다\n",
      "현재 잔액은 100010000 원입니다\n",
      "----------------------------------------\n"
     ]
    }
   ],
   "source": [
    "acc1 = Account()\n",
    "acc1.open_account(10000)\n",
    "\n",
    "acc1.deposit(30000)\n",
    "acc1.deposit(50000)\n",
    "\n",
    "acc1.withdraw(20000)\n",
    "acc1.withdraw(40000)\n",
    "acc1.withdraw(50000)\n",
    "\n",
    "acc1.deposit(-60000)\n",
    "\n",
    "acc1.balance = 100000000\n",
    "acc1.deposit(10000)"
   ]
  },
  {
   "cell_type": "code",
   "execution_count": 28,
   "id": "7bc124b5",
   "metadata": {},
   "outputs": [
    {
     "ename": "NameError",
     "evalue": "name 'p1' is not defined",
     "output_type": "error",
     "traceback": [
      "\u001b[1;31m---------------------------------------------------------------------------\u001b[0m",
      "\u001b[1;31mNameError\u001b[0m                                 Traceback (most recent call last)",
      "\u001b[1;32mC:\\Users\\KIMDON~1\\AppData\\Local\\Temp/ipykernel_2032/156383128.py\u001b[0m in \u001b[0;36m<module>\u001b[1;34m\u001b[0m\n\u001b[0;32m      7\u001b[0m '''\n\u001b[0;32m      8\u001b[0m \u001b[1;33m\u001b[0m\u001b[0m\n\u001b[1;32m----> 9\u001b[1;33m \u001b[0mp1\u001b[0m\u001b[1;33m.\u001b[0m\u001b[0mset_name\u001b[0m\u001b[1;33m(\u001b[0m\u001b[1;34m\"관악구\"\u001b[0m\u001b[1;33m)\u001b[0m\u001b[1;33m\u001b[0m\u001b[1;33m\u001b[0m\u001b[0m\n\u001b[0m\u001b[0;32m     10\u001b[0m \u001b[0mp1\u001b[0m\u001b[1;33m.\u001b[0m\u001b[0mset_age\u001b[0m\u001b[1;33m(\u001b[0m\u001b[1;36m30\u001b[0m\u001b[1;33m)\u001b[0m\u001b[1;33m\u001b[0m\u001b[1;33m\u001b[0m\u001b[0m\n\u001b[0;32m     11\u001b[0m \u001b[1;33m\u001b[0m\u001b[0m\n",
      "\u001b[1;31mNameError\u001b[0m: name 'p1' is not defined"
     ]
    }
   ],
   "source": [
    "'''\n",
    "Person 클래스의 객체를\n",
    "생성하고\n",
    "이름은 \"관악구\",\n",
    "나이는 30세로 설정하고\n",
    "출력하세요\n",
    "'''\n",
    "p1 = Person()\n",
    "\n",
    "p1.set_name(\"관악구\")\n",
    "p1.set_age(30)\n",
    "\n",
    "print(f\"이름 : {p1.get_name()}\\n\"\n",
    "      f\"나이 : {p1.get_age()}\")\n",
    "\n",
    "print(\"-\" * 50)\n",
    "\n",
    "name = p1.get_name()\n",
    "age  = p1.get_age()\n",
    "\n",
    "print(f\"이름 : {name}\\n\"\n",
    "      f\"나이 : {age}\")\n",
    "print(\"-\" * 50)"
   ]
  },
  {
   "cell_type": "code",
   "execution_count": 32,
   "id": "0a2bbacb",
   "metadata": {},
   "outputs": [],
   "source": [
    "class Member:\n",
    "    def __init__(self):\n",
    "        self.__name = \"\"\n",
    "        self.__age  = 0\n",
    "        \n",
    "    @property\n",
    "    def name(self):        \n",
    "        return self.__name\n",
    "    \n",
    "    @property\n",
    "    def age(self):\n",
    "        # 15 세 이상인 회원만 나이를 조회할 수 있음\n",
    "        if self.__age <= 14:\n",
    "            return \"가입 안 됨\"\n",
    "        else:\n",
    "            return self.__age\n",
    "        \n",
    "    @name.setter\n",
    "    def name(self, name):\n",
    "        self.__name = name\n",
    "        \n",
    "    @age.setter\n",
    "    def age(self, age):\n",
    "        if age <= 14:\n",
    "            print(\"15 세 이상만 가입할 수 있습니다\")\n",
    "        else:\n",
    "            self.__age = age"
   ]
  },
  {
   "cell_type": "code",
   "execution_count": 33,
   "id": "6f28cc13",
   "metadata": {},
   "outputs": [
    {
     "name": "stdout",
     "output_type": "stream",
     "text": [
      "이름 : 글로벌, 나이 : 23\n",
      "----------------------------------------\n"
     ]
    }
   ],
   "source": [
    "m1 = Member()\n",
    "m1.name = \"글로벌\"\n",
    "m1.age  = 23\n",
    "print(f\"이름 : {m1.name}, 나이 : {m1.age}\")\n",
    "print(\"-\" * 40)"
   ]
  },
  {
   "cell_type": "code",
   "execution_count": 34,
   "id": "f441a78b",
   "metadata": {},
   "outputs": [
    {
     "name": "stdout",
     "output_type": "stream",
     "text": [
      "15 세 이상만 가입할 수 있습니다\n",
      "이름 : 아이티, 나이 : 가입 안 됨\n",
      "----------------------------------------\n"
     ]
    }
   ],
   "source": [
    "m2 = Member()\n",
    "m2.name = \"아이티\"\n",
    "m2.age  = 14\n",
    "print(f\"이름 : {m2.name}, 나이 : {m2.age}\")\n",
    "print(\"-\" * 40)"
   ]
  },
  {
   "cell_type": "code",
   "execution_count": 35,
   "id": "44ed7c50",
   "metadata": {},
   "outputs": [
    {
     "name": "stdout",
     "output_type": "stream",
     "text": [
      "이름은 김동민 이고, 나이는 28 살입니다\n"
     ]
    }
   ],
   "source": [
    "class Student:\n",
    "    def __init__(self, name, age):\n",
    "        self.name = name\n",
    "        self.age  = age\n",
    "    def introduce_myself(self):\n",
    "        print(f\"이름은 {self.name} 이고, 나이는 {self.age} 살입니다\")\n",
    "        \n",
    "std1 = Student(\"김동민\", 28)        \n",
    "std1.introduce_myself()"
   ]
  },
  {
   "cell_type": "code",
   "execution_count": 36,
   "id": "97564d69",
   "metadata": {},
   "outputs": [
    {
     "name": "stdout",
     "output_type": "stream",
     "text": [
      "책 이름이 \"혼자 공부하는 파이썬\" 인 Book 객체가 생성됨\n"
     ]
    }
   ],
   "source": [
    "class Book:\n",
    "    def __init__(self, book_name):\n",
    "        self.name = book_name\n",
    "        print(f\"책 이름이 \\\"{self.name}\\\" 인 Book 객체가 생성됨\")\n",
    "        \n",
    "book1 = Book(\"혼자 공부하는 파이썬\")        "
   ]
  },
  {
   "cell_type": "code",
   "execution_count": null,
   "id": "168b47d7",
   "metadata": {},
   "outputs": [],
   "source": []
  },
  {
   "cell_type": "code",
   "execution_count": null,
   "id": "ebf0b50b",
   "metadata": {},
   "outputs": [],
   "source": []
  }
 ],
 "metadata": {
  "kernelspec": {
   "display_name": "Python 3 (ipykernel)",
   "language": "python",
   "name": "python3"
  },
  "language_info": {
   "codemirror_mode": {
    "name": "ipython",
    "version": 3
   },
   "file_extension": ".py",
   "mimetype": "text/x-python",
   "name": "python",
   "nbconvert_exporter": "python",
   "pygments_lexer": "ipython3",
   "version": "3.9.7"
  }
 },
 "nbformat": 4,
 "nbformat_minor": 5
}
