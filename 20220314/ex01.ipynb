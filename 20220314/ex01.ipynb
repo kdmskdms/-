{
 "cells": [
  {
   "cell_type": "code",
   "execution_count": 1,
   "id": "02acd702",
   "metadata": {
    "ExecuteTime": {
     "end_time": "2022-03-14T04:43:09.295980Z",
     "start_time": "2022-03-14T04:43:09.277990Z"
    }
   },
   "outputs": [
    {
     "name": "stdout",
     "output_type": "stream",
     "text": [
      "--------------------------------------------------\n",
      "이름 : 더조은\n",
      "나이 : 23\n"
     ]
    }
   ],
   "source": [
    "'''\n",
    "기본생성자(매개변수가 없는 생성자)는 \n",
    "작성하지 않으면 자동으로 만들어짐\n",
    "'''\n",
    "class Student: \n",
    "    '''\n",
    "    def __init__(self):\n",
    "        pass    \n",
    "    '''    \n",
    "    def set_info(self, name, age):\n",
    "        self.name = name\n",
    "        self.age  = age\n",
    "    def display_info(self)    :\n",
    "        print(f\"이름 : {self.name}\\n\"\n",
    "              f\"나이 : {self.age}\")\n",
    "\n",
    "'''\n",
    "객체를 생성하는 code = 생성자를 호출하는 code\n",
    "객체를 생성할 때 자동으로 호출되는 생성자를\n",
    "작성하지 않았지만, Student 클래스의 객체를 생성하고\n",
    "set_info(), display_info() 메소드들을 호출할 수 있음\n",
    "  ㄴ 객체를 생성할 때 자동으로 호출되는 생성자가 호출되었다는 것\n",
    "  ㄴ 기본 생성자를 작성하지 않았으나 자동으로 만들어짐\n",
    "'''        \n",
    "std1 = Student()  \n",
    "# AttributeError: 'Student' object has no attribute 'name'\n",
    "# AttributeError: 'Student' object has no attribute 'age'\n",
    "# std1.display_info()\n",
    "print(\"-\" * 50)\n",
    "std1.set_info(\"더조은\" , 23)\n",
    "std1.display_info()"
   ]
  },
  {
   "cell_type": "code",
   "execution_count": 2,
   "id": "01003fbe",
   "metadata": {
    "ExecuteTime": {
     "end_time": "2022-03-14T05:45:46.982948Z",
     "start_time": "2022-03-14T05:45:46.970955Z"
    }
   },
   "outputs": [],
   "source": [
    "class Account:\n",
    "    def __init__(self):\n",
    "        # 잔액\n",
    "        self.balance = 0\n",
    "        \n",
    "    # 계좌 개설하는 메소드    \n",
    "    def open_account(self, money):\n",
    "        self.balance = money\n",
    "        print(\"계좌 개설을 축하합니다\")\n",
    "        self.display_account()\n",
    "        print(\"-\" * 40)\n",
    "        \n",
    "    # 현재 잔액 출력하기    \n",
    "    def display_account(self):\n",
    "        print(f\"현재 잔액은 {self.balance} 원입니다\")        \n",
    "        \n",
    "    # 입금하기\n",
    "    def deposit(self, money):\n",
    "        if money > 0:\n",
    "            self.balance += money\n",
    "            print(f\"{money} 원을 입금하셨습니다\")\n",
    "        else:\n",
    "            print(\"정확한 금액을 입금해 주세요\")\n",
    "        self.display_account()\n",
    "        print(\"-\" * 40)\n",
    "        \n",
    "    # 출금하기\n",
    "    def withdraw(self, money):\n",
    "        if money <= self.balance:\n",
    "            self.balance -= money\n",
    "            print(f\"{money} 원을 출금하셨습니다\")\n",
    "        else:\n",
    "            print(\"잔액이 부족합니다\")\n",
    "        self.display_account()            \n",
    "        print(\"-\" * 40)"
   ]
  },
  {
   "cell_type": "code",
   "execution_count": null,
   "id": "b5093b27",
   "metadata": {
    "ExecuteTime": {
     "end_time": "2022-03-14T05:45:48.660947Z",
     "start_time": "2022-03-14T05:45:48.649963Z"
    }
   },
   "outputs": [],
   "source": [
    "acc1 = Account()\n",
    "acc1.open_account(10000)\n",
    "\n",
    "acc1.deposit(30000)\n",
    "acc1.deposit(50000)\n",
    "\n",
    "acc1.withdraw(20000)\n",
    "acc1.withdraw(40000)\n",
    "acc1.withdraw(50000)\n",
    "\n",
    "acc1.deposit(-60000)\n",
    "\n",
    "# 멤버변수 balace 에 직접 잔액을 변경함\n",
    "acc1.balance = 100000000\n",
    "acc1.deposit(10000)"
   ]
  },
  {
   "cell_type": "code",
   "execution_count": null,
   "id": "5a470e7e",
   "metadata": {
    "ExecuteTime": {
     "end_time": "2022-03-14T05:12:02.558202Z",
     "start_time": "2022-03-14T05:12:02.548198Z"
    }
   },
   "outputs": [],
   "source": [
    "'''\n",
    "멤버변수 앞에 '__'를 붙이면 private member variable 이 됨\n",
    "멤버변수가 private 이 되면 클래스 외부에서는 직접적으로 접근하지 못함\n",
    "클래스 내부에서만 접근해서 사용할 수 있음\n",
    "    ㄴ 같은 클래스에 있는 멤버메소드에서만 사용(접근)할 수 있음\n",
    "멤버변수의 은닉화    \n",
    "'''\n",
    "class Account2:\n",
    "    def __init__(self):\n",
    "        # 잔액\n",
    "        self.__balance = 0\n",
    "        \n",
    "    # 계좌 개설하는 메소드    \n",
    "    def open_account(self, money):\n",
    "        self.__balance = money\n",
    "        print(\"계좌 개설을 축하합니다\")\n",
    "        self.display_account()\n",
    "        print(\"-\" * 40)\n",
    "        \n",
    "    # 현재 잔액 출력하기    \n",
    "    def display_account(self):\n",
    "        print(f\"현재 잔액은 {self.__balance} 원입니다\")        \n",
    "        \n",
    "    # 입금하기\n",
    "    def deposit(self, money):\n",
    "        if money > 0:\n",
    "            self.__balance += money\n",
    "            print(f\"{money} 원을 입금하셨습니다\")\n",
    "        else:\n",
    "            print(\"정확한 금액을 입금해 주세요\")\n",
    "        self.display_account()\n",
    "        print(\"-\" * 40)\n",
    "        \n",
    "    # 출금하기\n",
    "    def withdraw(self, money):\n",
    "        if money <= self.__balance: \n",
    "            self.__balance -= money\n",
    "            print(f\"{money} 원을 출금하셨습니다\")\n",
    "        else:\n",
    "            print(\"잔액이 부족합니다\")\n",
    "        self.display_account()            \n",
    "        print(\"-\" * 40)"
   ]
  },
  {
   "cell_type": "code",
   "execution_count": null,
   "id": "0a402718",
   "metadata": {
    "ExecuteTime": {
     "end_time": "2022-03-14T05:23:25.174087Z",
     "start_time": "2022-03-14T05:23:25.156096Z"
    }
   },
   "outputs": [],
   "source": [
    "acc1 = Account2()\n",
    "acc1.open_account(10000)\n",
    "\n",
    "acc1.deposit(30000)\n",
    "acc1.deposit(50000)\n",
    "\n",
    "acc1.withdraw(20000)\n",
    "acc1.withdraw(40000)\n",
    "acc1.withdraw(50000)\n",
    "\n",
    "acc1.deposit(-60000)\n",
    "\n",
    "# 멤버변수 balace 에 직접 잔액을 변경함\n",
    "# Account2 객체를 생성한 이후에 balance 멤버변수를 추가함\n",
    "acc1.balance = 100000000\n",
    "acc1.deposit(10000)\n",
    "\n",
    "print(\"acc1.balance :\",acc1.balance)\n",
    "# acc1 주소지에는 balance 멤버변수가 있음\n",
    "\n",
    "acc1.__balance = 100000000\n",
    "# 100000000\n",
    "print(\"acc1.__balance :\",acc1.__balance)\n",
    "# 40000\n",
    "acc1.display_account()\n",
    "\n",
    "print(\"-\" * 50)\n",
    "acc2 = Account2()\n",
    "# AttributeError: 'Account2' object has no attribute 'balance'\n",
    "# acc2 주소지에는 balance 멤버변수가 없음\n",
    "# print(\"acc2.balance :\",acc2.balance)\n",
    "\n",
    "# AttributeError: 'Account2' object has no attribute '__balance'\n",
    "# Account2 클래스 외부에서는 Account2 클래스의 \n",
    "# private 멤버변수 __balance 에 접근할 수 없어서 값을 인식하지 못함\n",
    "# print(\"acc2.__balance :\",acc2.__balance)\n",
    "acc2.display_account()\n",
    "# 현재 잔액은 0 원입니다\n"
   ]
  },
  {
   "cell_type": "code",
   "execution_count": null,
   "id": "faace23b",
   "metadata": {
    "ExecuteTime": {
     "end_time": "2022-03-14T06:09:47.607401Z",
     "start_time": "2022-03-14T06:09:47.584381Z"
    }
   },
   "outputs": [],
   "source": [
    "class Account3:\n",
    "    def __init__(self, balance, name, no):\n",
    "        self.__balance = balance\n",
    "        self.__name    = name\n",
    "        self.__no      = no\n",
    "     \n",
    "    # 입금하는 메소드\n",
    "    def deposit(self, money):\n",
    "        if money < 0:\n",
    "            print(\"입금액을 확인해 주세요\")\n",
    "            return\n",
    "        self.__balance += money\n",
    "        \n",
    "    # 출금하는 메소드\n",
    "    def withdraw(self, money):\n",
    "        if money > self.__balance:\n",
    "            print(\"잔액이 부족합니다\")\n",
    "            return \n",
    "        self.__balance -= money\n",
    "        \n",
    "    # 계좌 정보를 반환하는 메소드\n",
    "    # 멤버변수들의 값을 반환함\n",
    "    def get_account(self):\n",
    "        return self.__balance, self.__name, self.__no\n",
    "     \n",
    "# Account3 객체 생성하기\n",
    "acc3 = Account3(10000, \"이순신\", \"123-45678-45-2\")\n",
    "\n",
    "# acc3 계좌의 정보 출력하기\n",
    "print(f\"계좌정보 : {acc3.get_account()}\")\n",
    "print(\"-\" * 40)\n",
    "\n",
    "balance, name, no = acc3.get_account()\n",
    "print(f\"잔액 : {balance} 원\\n\"\n",
    "      f\"이름 : {name}\\n\"\n",
    "      f\"계좌번호 : {no}\")        \n",
    "print(\"-\" * 40)\n",
    "\n",
    "# AttributeError: 'Account3' object has no attribute 'balance'\n",
    "'''\n",
    "print(f\"잔액 : {acc3.balance} 원\\n\"\n",
    "      f\"이름 : {acc3.name}\\n\"\n",
    "      f\"계좌번호 : {acc3.no}\")  \n",
    "'''      \n",
    "# 입금하기\n",
    "acc3.deposit(30000)\n",
    "print(f\"계좌정보 : {acc3.get_account()}\")\n",
    "acc_info = acc3.get_account()\n",
    "# print(f\"계좌정보 : {acc_info }\")\n",
    "\n",
    "# 출금하기\n",
    "acc3.withdraw(20000)\n",
    "print(f\"계좌정보 : {acc3.get_account()}\")\n",
    "\n",
    "# 출금하기\n",
    "acc3.withdraw(30000)\n",
    "print(f\"계좌정보 : {acc3.get_account()}\")\n",
    "\n",
    "# minus 금액 입급하기\n",
    "acc3.deposit(-10000)"
   ]
  },
  {
   "cell_type": "code",
   "execution_count": 54,
   "id": "26cc550b",
   "metadata": {
    "ExecuteTime": {
     "end_time": "2022-03-14T06:28:32.005125Z",
     "start_time": "2022-03-14T06:28:31.999138Z"
    }
   },
   "outputs": [],
   "source": [
    "'''\n",
    "private 멤버변수는 클래스 외부에서 접근할 수 없으므로\n",
    "그 값을 변경하거나 출력할려면 같은 클래스 안에 작성된\n",
    "메소드에서만 접근이 가능함\n",
    "이때, 멤버변수에 값을 할당하는 역할을 하는 메소드를 setter 라고 하고\n",
    "      멤버변수에 저장된 값을 return하는 메소드를 getter 라고 함\n",
    "'''\n",
    "class Person:\n",
    "    def __init(self):\n",
    "        self.__name = \"\"\n",
    "        self.__age  = 0\n",
    "        \n",
    "    # getter : 해당 클래스의 멤버변수의 값을 알려주는(반환하는) 메소드\n",
    "    #          getter 메소드의 이름은 임의로 지어도 되지만\n",
    "    #          일반적으로 get 이라는 단어와 해당 변수 이름의 조합으로 만듬\n",
    "    def get_name(self):\n",
    "        return self.__name\n",
    "    def get_age(self):\n",
    "        return self.__age\n",
    "\n",
    "    # setter : 해당 클래스의 멤버변수에 값을 할당하는 메소드\n",
    "    #          setter 메소드의 이름은 임의로 지어도 되지만\n",
    "    #          일반적으로 set 이라는 단어와 해당 변수 이름의 조합으로 만듬\n",
    "    def set_name(self, name):\n",
    "        self.__name = name\n",
    "    def set_age(self, age):\n",
    "        self.__age = age"
   ]
  },
  {
   "cell_type": "code",
   "execution_count": 3,
   "id": "051663d8",
   "metadata": {
    "ExecuteTime": {
     "end_time": "2022-03-14T06:30:33.484992Z",
     "start_time": "2022-03-14T06:30:33.478995Z"
    }
   },
   "outputs": [
    {
     "ename": "NameError",
     "evalue": "name 'Person' is not defined",
     "output_type": "error",
     "traceback": [
      "\u001b[1;31m---------------------------------------------------------------------------\u001b[0m",
      "\u001b[1;31mNameError\u001b[0m                                 Traceback (most recent call last)",
      "\u001b[1;32mC:\\Users\\KIMDON~1\\AppData\\Local\\Temp/ipykernel_13736/3269948055.py\u001b[0m in \u001b[0;36m<module>\u001b[1;34m\u001b[0m\n\u001b[0;32m      6\u001b[0m \u001b[0m출력하세요\u001b[0m\u001b[1;33m\u001b[0m\u001b[1;33m\u001b[0m\u001b[0m\n\u001b[0;32m      7\u001b[0m '''\n\u001b[1;32m----> 8\u001b[1;33m \u001b[0mp1\u001b[0m \u001b[1;33m=\u001b[0m \u001b[0mPerson\u001b[0m\u001b[1;33m(\u001b[0m\u001b[1;33m)\u001b[0m\u001b[1;33m\u001b[0m\u001b[1;33m\u001b[0m\u001b[0m\n\u001b[0m\u001b[0;32m      9\u001b[0m '''\n\u001b[0;32m     10\u001b[0m \u001b[0mprivate\u001b[0m \u001b[0m멤버변수에는\u001b[0m \u001b[0m직접\u001b[0m \u001b[0m접근할\u001b[0m \u001b[0m수\u001b[0m \u001b[0m없음\u001b[0m\u001b[1;33m\u001b[0m\u001b[1;33m\u001b[0m\u001b[0m\n",
      "\u001b[1;31mNameError\u001b[0m: name 'Person' is not defined"
     ]
    }
   ],
   "source": [
    "'''\n",
    "Person 클래스의 객체를\n",
    "생성하고\n",
    "이름은 \"글로벌\",\n",
    "나이는 23세로 설정하고\n",
    "출력하세요\n",
    "'''\n",
    "p1 = Person()\n",
    "'''\n",
    "private 멤버변수에는 직접 접근할 수 없음\n",
    "p1.__name = \"글로벌\"\n",
    "p2.__age  = 23\n",
    "'''\n",
    "p1.set_name(\"글로벌\")\n",
    "p1.set_age(23)\n",
    "\n",
    "print(f\"이름 : {p1.get_name()}\\n\"\n",
    "      f\"나이 : {p1.get_age()}\")\n",
    "print(\"-\" * 50)\n",
    "\n",
    "name = p1.get_name()\n",
    "age  = p1.get_age()\n",
    "\n",
    "print(f\"이름 : {name}\\n\"\n",
    "      f\"나이 : {age}\")\n",
    "print(\"-\" * 50)"
   ]
  },
  {
   "cell_type": "code",
   "execution_count": 58,
   "id": "46bf1473",
   "metadata": {
    "ExecuteTime": {
     "end_time": "2022-03-14T06:56:11.474288Z",
     "start_time": "2022-03-14T06:56:11.454299Z"
    }
   },
   "outputs": [],
   "source": [
    "'''\n",
    "데코레이터를 사용해서 getter 와 setter 만들기\n",
    "  ㄴ 멤버변수의 이름과 똑같은 이름의 메소드를 작성할 수 있음\n",
    "  \n",
    "  getter : 메소드 위에 @property 데코레이터를 붙여줌\n",
    "  setter : 메소드 위에 @멤버변수이름.setter 라고 데코레이터를 붙여줌\n",
    "'''\n",
    "class Member:\n",
    "    def __init__(self):\n",
    "        self.__name = \"\"\n",
    "        self.__age  = 0\n",
    "        \n",
    "    # getter\n",
    "    @property\n",
    "    def name(self):        \n",
    "        return self.__name\n",
    "    \n",
    "    @property\n",
    "    def age(self):\n",
    "        # 13 세 이상인 회원만 나이를 조회할 수 있음\n",
    "        if self.__age <= 12:\n",
    "            return \"가입 안 됨\"\n",
    "        else:\n",
    "            return self.__age\n",
    "        \n",
    "    # setter  \n",
    "    @name.setter\n",
    "    def name(self, name):\n",
    "        self.__name = name\n",
    "        \n",
    "    @age.setter\n",
    "    def age(self, age):\n",
    "        if age <= 12:\n",
    "            print(\"13 세 이상만 가입할 수 있습니다\")\n",
    "        else:\n",
    "            self.__age = age"
   ]
  },
  {
   "cell_type": "code",
   "execution_count": 60,
   "id": "6e93c35f",
   "metadata": {
    "ExecuteTime": {
     "end_time": "2022-03-14T06:57:02.682234Z",
     "start_time": "2022-03-14T06:57:02.669251Z"
    }
   },
   "outputs": [
    {
     "name": "stdout",
     "output_type": "stream",
     "text": [
      "이름 : 글로벌, 나이 : 23\n",
      "----------------------------------------\n"
     ]
    }
   ],
   "source": [
    "m1 = Member()\n",
    "m1.name = \"글로벌\"\n",
    "m1.age  = 23\n",
    "print(f\"이름 : {m1.name}, 나이 : {m1.age}\")\n",
    "print(\"-\" * 40)"
   ]
  },
  {
   "cell_type": "code",
   "execution_count": 61,
   "id": "2b780577",
   "metadata": {
    "ExecuteTime": {
     "end_time": "2022-03-14T07:00:14.775026Z",
     "start_time": "2022-03-14T07:00:14.757025Z"
    }
   },
   "outputs": [
    {
     "name": "stdout",
     "output_type": "stream",
     "text": [
      "13 세 이상만 가입할 수 있습니다\n",
      "이름 : 아이티, 나이 : 가입 안 됨\n",
      "----------------------------------------\n"
     ]
    }
   ],
   "source": [
    "m2 = Member()\n",
    "m2.name = \"아이티\"\n",
    "m2.age  = 10\n",
    "print(f\"이름 : {m2.name}, 나이 : {m2.age}\")\n",
    "print(\"-\" * 40)"
   ]
  },
  {
   "cell_type": "code",
   "execution_count": 68,
   "id": "13573f48",
   "metadata": {
    "ExecuteTime": {
     "end_time": "2022-03-14T07:16:56.900926Z",
     "start_time": "2022-03-14T07:16:56.891932Z"
    }
   },
   "outputs": [],
   "source": [
    "'''\n",
    "404 page\n",
    "'''\n",
    "import math\n",
    "class Circle:\n",
    "    def __init__(self, radius):\n",
    "        self.__radius = radius\n",
    "        \n",
    "    @property\n",
    "    def radius(self):\n",
    "        return self.__radius\n",
    "    \n",
    "    @radius.setter\n",
    "    def radius(self, radius):\n",
    "        if radius <= 0:\n",
    "            print(\"반지름은 양수를 입력하세요\")\n",
    "        self.__radius = radius    \n",
    "    \n",
    "    def get_circumference(self):\n",
    "        return 2 * math.pi * self.__radius\n",
    "    def get_are(self):\n",
    "        return self.__radius ** 2 * math.pi"
   ]
  },
  {
   "cell_type": "code",
   "execution_count": 69,
   "id": "cf3f9b68",
   "metadata": {
    "ExecuteTime": {
     "end_time": "2022-03-14T07:16:59.142904Z",
     "start_time": "2022-03-14T07:16:59.124916Z"
    }
   },
   "outputs": [
    {
     "name": "stdout",
     "output_type": "stream",
     "text": [
      "원의 반지름 : 10\n",
      "변경된 원의 반지름 : 2\n",
      "\n",
      "반지름은 양수를 입력하세요\n"
     ]
    }
   ],
   "source": [
    "circle = Circle(10)\n",
    "print(\"원의 반지름 :\",circle.radius) \n",
    "\n",
    "circle.radius = 2\n",
    "print(\"변경된 원의 반지름 :\",circle.radius) \n",
    "print()\n",
    "\n",
    "circle.radius = -10"
   ]
  },
  {
   "cell_type": "code",
   "execution_count": 70,
   "id": "772b3bbd",
   "metadata": {
    "ExecuteTime": {
     "end_time": "2022-03-14T07:37:38.517548Z",
     "start_time": "2022-03-14T07:37:38.498558Z"
    }
   },
   "outputs": [
    {
     "name": "stdout",
     "output_type": "stream",
     "text": [
      "책 이름이 \"파이썬 기본서\" 인 Book 객체가 생성됨\n"
     ]
    }
   ],
   "source": [
    "'''\n",
    "  생성자 :  메소드의 일종\n",
    "            클래스를 생성할 때\n",
    "            멤버변수를 초기화함\n",
    "\n",
    " class 클래스이름:\n",
    "   def __init__(self):\n",
    "     statement....\n",
    "     statement....\n",
    "\n",
    " 생성자의 매개변수 : 필요한 만큼 지정할 수 있음\n",
    " 객체를 생성할 때, 클래스이름 뒤의 소괄호 안에 있는\n",
    " 생성자의 매개변수의 개수에 맞도록\n",
    " argument 를 넣어 주어야 함\n",
    " 클래스이름()  <-- 해당 클래스의 생성자를 호출하는  code\n",
    "               <-- 객체를 생성하는 code\n",
    "'''\n",
    "class Book:\n",
    "    def __init__(self, book_name):\n",
    "        self.name = book_name\n",
    "        print(f\"책 이름이 \\\"{self.name}\\\" 인 Book 객체가 생성됨\")\n",
    "        \n",
    "book1 = Book(\"파이썬 기본서\")        "
   ]
  },
  {
   "cell_type": "code",
   "execution_count": 71,
   "id": "385b40fa",
   "metadata": {
    "ExecuteTime": {
     "end_time": "2022-03-14T07:42:01.133309Z",
     "start_time": "2022-03-14T07:42:01.114269Z"
    }
   },
   "outputs": [
    {
     "name": "stdout",
     "output_type": "stream",
     "text": [
      "이름은 이순신 이고, 나이는 48 살입니다\n"
     ]
    }
   ],
   "source": [
    "class Student:\n",
    "    def __init__(self, name, age):\n",
    "        self.name = name\n",
    "        self.age  = age\n",
    "    def introduce_myself(self):\n",
    "        print(f\"이름은 {self.name} 이고, 나이는 {self.age} 살입니다\")\n",
    "        \n",
    "std1 = Student(\"이순신\", 48)        \n",
    "std1.introduce_myself()"
   ]
  },
  {
   "cell_type": "code",
   "execution_count": 84,
   "id": "d1cade27",
   "metadata": {
    "ExecuteTime": {
     "end_time": "2022-03-14T08:05:13.221714Z",
     "start_time": "2022-03-14T08:05:13.208721Z"
    }
   },
   "outputs": [
    {
     "name": "stdout",
     "output_type": "stream",
     "text": [
      "emp1 : 이름 : 글로벌, 담당업무 : 부장\n",
      "----------------------------------------\n",
      "이름 : 글로벌\n",
      "담당업무 : 부장\n",
      "----------------------------------------\n",
      "이름 : 아이티\n",
      "담당업무 : 기획자\n",
      "----------------------------------------\n",
      "('아이티', '기획자')\n",
      "----------------------------------------\n",
      "아카데미\n",
      "개발자\n"
     ]
    }
   ],
   "source": [
    "class Employee:\n",
    "    def __init__(self, name, job):\n",
    "        self.name = name\n",
    "        self.job  = job\n",
    "        \n",
    "    def set_name(self, name):\n",
    "        self.name = name\n",
    "    def set_job(self, job):\n",
    "        self.job = job\n",
    "        \n",
    "    def set_info(self, name, job):\n",
    "        self.name = name\n",
    "        self.job = job\n",
    "        \n",
    "    def get_name(self):\n",
    "        return self.name\n",
    "    def get_job(self):\n",
    "        return self.job\n",
    "    \n",
    "    def get_info(self):\n",
    "        return self.name, self.job\n",
    "        # return f\"{self.name} -- {self.job}\"\n",
    "    \n",
    "    \n",
    "    def __str__(self):    \n",
    "        return f\"이름 : {self.name}, 담당업무 : {self.job}\"\n",
    "    \n",
    "    \n",
    "    def display_info(self):\n",
    "        print(f\"이름 : {self.name}\\n담당업무 : {self.job}\")\n",
    "        \n",
    "'''\n",
    "__str__ 메소드 : 참조변수를 출력하면 자동으로 __str__ 메소드가 호출됨\n",
    "                 기본적으로 클래스이름과 객체의 주소를 문자열로 반환함\n",
    "                 __str__ 메소드의 내용(return 값 - 문자열임)을\n",
    "                 변경해서 멤버변수의 값을 문자열로 반환하게 해서\n",
    "                 참조변수를 출력했을 때 멤버변수들의 값을 확인하는데 \n",
    "                 주로 사용됨\n",
    "'''        \n",
    "\n",
    "emp1 = Employee(\"글로벌\", \"부장\")\n",
    "print(\"emp1 :\",emp1)\n",
    "print(\"-\" * 40)\n",
    "emp1.display_info()\n",
    "print(\"-\" * 40)\n",
    "emp1.set_info(\"아이티\", \"기획자\")\n",
    "emp1.display_info()\n",
    "print(\"-\" * 40)\n",
    "print(emp1.get_info())\n",
    "print(\"-\" * 40)\n",
    "emp1.set_name(\"아카데미\")\n",
    "emp1.set_job(\"개발자\")\n",
    "print(emp1.get_name())\n",
    "print(emp1.get_job())"
   ]
  },
  {
   "cell_type": "code",
   "execution_count": null,
   "id": "a1a231e9",
   "metadata": {
    "ExecuteTime": {
     "end_time": "2022-03-14T08:01:07.324988Z",
     "start_time": "2022-03-14T08:01:07.320990Z"
    }
   },
   "outputs": [],
   "source": [
    "'''\n",
    "Person 클래스 작성하기\n",
    "멤버변수 (모두 private 으로 함)\n",
    "  ㄴ name, age, height, weight\n",
    "getter / setter 는 데코레이터를 사용함\n",
    "위와 같은 내용으로 Person 클래스를 작성하고\n",
    "Person 객체를 생성해서\n",
    "name, age, height, weight 를 출력하세요\n",
    "(단, 생성자의 매개변수는 지정하지 않음)\n",
    "\n",
    "생성자\n",
    "def __init__(self):\n",
    "    self.__name = \"\"\n",
    "    self.__age  = 0\n",
    "    self.__height = 0\n",
    "    self.__weight = 0\n",
    "'''\n"
   ]
  },
  {
   "cell_type": "code",
   "execution_count": 86,
   "id": "21352467",
   "metadata": {
    "ExecuteTime": {
     "end_time": "2022-03-14T08:23:20.298992Z",
     "start_time": "2022-03-14T08:23:20.288988Z"
    }
   },
   "outputs": [
    {
     "name": "stdout",
     "output_type": "stream",
     "text": [
      "이름 : 글로벌, 나이 : 25, 키 : 187, 몸무게 : 70\n",
      "이름 : 글로벌, 나이 : 25, 키 : 187, 몸무게 : 70\n"
     ]
    }
   ],
   "source": [
    "class Person:\n",
    "    def __init__(self):\n",
    "        self.__name = \"\"\n",
    "        self.__age  = 0\n",
    "        self.__height = 0\n",
    "        self.__weight = 0\n",
    "        \n",
    "    # getter : @property\n",
    "    @property\n",
    "    def name(self):\n",
    "        return self.__name\n",
    "    @property\n",
    "    def age(self):\n",
    "        return self.__age\n",
    "    @property\n",
    "    def height(self):\n",
    "        return self.__height\n",
    "    @property\n",
    "    def weight(self):\n",
    "        return self.__weight\n",
    "    \n",
    "    # setter : @맴버변수이름.setter\n",
    "    @name.setter\n",
    "    def name(self, name):\n",
    "        self.__name = name\n",
    "    @age.setter\n",
    "    def age(self, age):\n",
    "        self.__age = age\n",
    "    @height.setter\n",
    "    def height(self, height):\n",
    "        self.__height = height\n",
    "    @weight.setter\n",
    "    def weight(self, weight):\n",
    "        self.__weight = weight\n",
    "    \n",
    "    def __str__(self):\n",
    "        return f\"이름 : {p1.__name}, 나이 : {p1.__age}, 키 : {p1.__height}, 몸무게 : {p1.__weight}\"\n",
    "    \n",
    "p1 = Person()\n",
    "p1.name = \"글로벌\"\n",
    "p1.age  = 25\n",
    "p1.height = 187\n",
    "p1.weight = 70\n",
    "\n",
    "print(p1)\n",
    "print(f\"이름 : {p1.name}, 나이 : {p1.age}, 키 : {p1.height}, 몸무게 : {p1.weight}\")"
   ]
  },
  {
   "cell_type": "code",
   "execution_count": null,
   "id": "8146b365",
   "metadata": {},
   "outputs": [],
   "source": []
  },
  {
   "cell_type": "code",
   "execution_count": null,
   "id": "050b7fa2",
   "metadata": {},
   "outputs": [],
   "source": []
  },
  {
   "cell_type": "code",
   "execution_count": null,
   "id": "620902b6",
   "metadata": {},
   "outputs": [],
   "source": []
  },
  {
   "cell_type": "code",
   "execution_count": null,
   "id": "b81ba5f6",
   "metadata": {},
   "outputs": [],
   "source": []
  }
 ],
 "metadata": {
  "hide_input": false,
  "kernelspec": {
   "display_name": "Python 3 (ipykernel)",
   "language": "python",
   "name": "python3"
  },
  "language_info": {
   "codemirror_mode": {
    "name": "ipython",
    "version": 3
   },
   "file_extension": ".py",
   "mimetype": "text/x-python",
   "name": "python",
   "nbconvert_exporter": "python",
   "pygments_lexer": "ipython3",
   "version": "3.9.12"
  },
  "toc": {
   "base_numbering": 1,
   "nav_menu": {},
   "number_sections": true,
   "sideBar": true,
   "skip_h1_title": false,
   "title_cell": "Table of Contents",
   "title_sidebar": "Contents",
   "toc_cell": false,
   "toc_position": {},
   "toc_section_display": true,
   "toc_window_display": false
  },
  "varInspector": {
   "cols": {
    "lenName": 16,
    "lenType": 16,
    "lenVar": 40
   },
   "kernels_config": {
    "python": {
     "delete_cmd_postfix": "",
     "delete_cmd_prefix": "del ",
     "library": "var_list.py",
     "varRefreshCmd": "print(var_dic_list())"
    },
    "r": {
     "delete_cmd_postfix": ") ",
     "delete_cmd_prefix": "rm(",
     "library": "var_list.r",
     "varRefreshCmd": "cat(var_dic_list()) "
    }
   },
   "types_to_exclude": [
    "module",
    "function",
    "builtin_function_or_method",
    "instance",
    "_Feature"
   ],
   "window_display": false
  }
 },
 "nbformat": 4,
 "nbformat_minor": 5
}
