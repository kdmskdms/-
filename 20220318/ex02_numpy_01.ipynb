{
 "cells": [
  {
   "cell_type": "markdown",
   "id": "00621b17",
   "metadata": {},
   "source": [
    "### Numpy ndarray\n",
    "* ndarray 생성하기 - np.array()"
   ]
  },
  {
   "cell_type": "code",
   "execution_count": null,
   "id": "7fc1084d",
   "metadata": {
    "ExecuteTime": {
     "end_time": "2022-03-18T01:37:48.716261Z",
     "start_time": "2022-03-18T01:37:48.712273Z"
    }
   },
   "outputs": [],
   "source": [
    "import numpy as np"
   ]
  },
  {
   "cell_type": "code",
   "execution_count": null,
   "id": "4bf78755",
   "metadata": {
    "ExecuteTime": {
     "end_time": "2022-03-18T01:39:58.777101Z",
     "start_time": "2022-03-18T01:39:58.764117Z"
    }
   },
   "outputs": [],
   "source": [
    "list1 = [1, 2, 3]\n",
    "print(\"list1 :\",list1)\n",
    "print(\"list1 :\",type(list1))\n",
    "\n",
    "array1 = np.array(list1)\n",
    "print(\"array1 :\",array1)\n",
    "print(\"array1 :\",type(array1))"
   ]
  },
  {
   "cell_type": "markdown",
   "id": "47a343ed",
   "metadata": {},
   "source": [
    "* ndarray의 shape(형태-배열의 구조) / 차원(일차원, 이차원, 삼차원, .....)"
   ]
  },
  {
   "cell_type": "code",
   "execution_count": null,
   "id": "e30e12ce",
   "metadata": {
    "ExecuteTime": {
     "end_time": "2022-03-18T01:43:34.071058Z",
     "start_time": "2022-03-18T01:43:34.052053Z"
    }
   },
   "outputs": [],
   "source": [
    "# 일차원 배열\n",
    "\n",
    "array1 = np.array([1, 2, 3, 4, 5])\n",
    "print(\"array1       :\",array1)\n",
    "print(\"array1 타입  :\",type(array1))\n",
    "print(\"array1 shape :\",array1.shape)"
   ]
  },
  {
   "cell_type": "code",
   "execution_count": null,
   "id": "04a534ee",
   "metadata": {
    "ExecuteTime": {
     "end_time": "2022-03-18T01:46:15.668766Z",
     "start_time": "2022-03-18T01:46:15.650761Z"
    }
   },
   "outputs": [],
   "source": [
    "# 이차원 배열\n",
    "array2 = np.array([\n",
    "                   [1, 2, 3],\n",
    "                   [4, 5, 6]\n",
    "                 ])\n",
    "print(\"array2       :\\n\",array2)\n",
    "print(\"array2 타입  :\",type(array2))\n",
    "print(\"array2 shape :\",array2.shape)"
   ]
  },
  {
   "cell_type": "code",
   "execution_count": null,
   "id": "a68e7e8f",
   "metadata": {
    "ExecuteTime": {
     "end_time": "2022-03-18T01:50:22.029215Z",
     "start_time": "2022-03-18T01:50:22.015222Z"
    }
   },
   "outputs": [],
   "source": [
    "# 이차원 배열\n",
    "\n",
    "array3 = np.array([[1, 2, 3, 4, 5]])\n",
    "print(\"array3       :\",array3)\n",
    "print(\"array3 타입  :\",type(array3))\n",
    "print(\"array3 shape :\",array3.shape)"
   ]
  },
  {
   "cell_type": "code",
   "execution_count": null,
   "id": "6538737c",
   "metadata": {
    "ExecuteTime": {
     "end_time": "2022-03-18T01:52:07.726593Z",
     "start_time": "2022-03-18T01:52:07.715589Z"
    }
   },
   "outputs": [],
   "source": [
    "print(f\"array1 : {array1.ndim} 차원\\narray2 : {array2.ndim} 차원\\narray3 : {array3.ndim} 차원\")"
   ]
  },
  {
   "cell_type": "markdown",
   "id": "dc678c38",
   "metadata": {},
   "source": [
    "* ndarray 속에 들어있는 값의 data type - ndrray.dtype"
   ]
  },
  {
   "cell_type": "code",
   "execution_count": null,
   "id": "46e15ce6",
   "metadata": {
    "ExecuteTime": {
     "end_time": "2022-03-18T01:54:59.379185Z",
     "start_time": "2022-03-18T01:54:59.367201Z"
    }
   },
   "outputs": [],
   "source": [
    "list1 = [1, 2, 3, 4, 5]\n",
    "print(\"list1 :\",list1)\n",
    "print(\"list1 :\",type(list1))\n",
    "\n",
    "array1 = np.array(list1)\n",
    "print(\"array1 :\",array1)\n",
    "print(\"array1 :\",type(array1))\n",
    "print(\"array1 속에 들어있는 값의 data type :\",array1.dtype)"
   ]
  },
  {
   "cell_type": "markdown",
   "id": "5f19bf7f",
   "metadata": {},
   "source": [
    "* ndarray 속에 들어있는 값의 타입 변환하기 - astype() 메소드 사용"
   ]
  },
  {
   "cell_type": "code",
   "execution_count": null,
   "id": "0771eefb",
   "metadata": {
    "ExecuteTime": {
     "end_time": "2022-03-18T01:58:49.723971Z",
     "start_time": "2022-03-18T01:58:49.714986Z"
    }
   },
   "outputs": [],
   "source": [
    "array_int   = np.array([1, 2, 3, 4, 5])\n",
    "array_float = array_int.astype(\"float64\")\n",
    "\n",
    "print(\"array_int         :\",array_int)\n",
    "print(\"array_int d타입   :\",array_int.dtype)\n",
    "print(\"array_float       :\",array_float)\n",
    "print(\"array_float d타입 :\",array_float.dtype)"
   ]
  },
  {
   "cell_type": "code",
   "execution_count": null,
   "id": "0f19678a",
   "metadata": {
    "ExecuteTime": {
     "end_time": "2022-03-18T02:00:14.903020Z",
     "start_time": "2022-03-18T02:00:14.899031Z"
    }
   },
   "outputs": [],
   "source": [
    "# array_float = array_int.astype(\"float64\")\n",
    "array_int2 = array_float.astype(\"int32\")\n",
    "\n",
    "print(\"array_int2        :\",array_int2)\n",
    "print(\"array_int2 d타입  :\",array_int2.dtype)"
   ]
  },
  {
   "cell_type": "code",
   "execution_count": null,
   "id": "ecfea0f2",
   "metadata": {
    "ExecuteTime": {
     "end_time": "2022-03-18T02:02:11.959082Z",
     "start_time": "2022-03-18T02:02:11.946089Z"
    }
   },
   "outputs": [],
   "source": [
    "array_float2 = np.array([1.2, 2.3, 3.4, 4.5])\n",
    "print(\"array_float2       :\",array_float2)\n",
    "print(\"array_float2 d타입 :\",array_float2.dtype)\n",
    "\n",
    "array_int3 = array_float2.astype(\"int32\")\n",
    "print(\"array_int3         :\",array_int3)\n",
    "print(\"array_int3 d타입   :\",array_int3.dtype)"
   ]
  },
  {
   "cell_type": "markdown",
   "id": "040ce0ed",
   "metadata": {},
   "source": [
    "### 이차원 배열의 요소들을 axis 를 지정해서 연산하기\n",
    "* axis=0 : 행이 축이 됨\n",
    "* axis=1 : 열이 축이 됨"
   ]
  },
  {
   "cell_type": "code",
   "execution_count": null,
   "id": "a946db15",
   "metadata": {
    "ExecuteTime": {
     "end_time": "2022-03-18T02:05:07.824737Z",
     "start_time": "2022-03-18T02:05:07.817741Z"
    }
   },
   "outputs": [],
   "source": [
    "array2 = np.array([\n",
    "                   [1, 2, 3, 4, 5],\n",
    "                   [6, 7, 8, 9, 10]\n",
    "                  ])\n",
    "print(\"array2.sum()       :\",array2.sum())\n",
    "print(\"array2.sum(axis=0) :\",array2.sum(axis=0))\n",
    "print(\"array2.sum(axis=1) :\",array2.sum(axis=1))"
   ]
  },
  {
   "cell_type": "markdown",
   "id": "e45bfab7",
   "metadata": {},
   "source": [
    "### ndarray 생성하는 여러가지 방법들\n",
    "* np.arange() \n",
    "* np.zeros()\n",
    "* np.pones()"
   ]
  },
  {
   "cell_type": "code",
   "execution_count": null,
   "id": "525b0e6c",
   "metadata": {
    "ExecuteTime": {
     "end_time": "2022-03-18T02:10:34.183628Z",
     "start_time": "2022-03-18T02:10:34.169636Z"
    }
   },
   "outputs": [],
   "source": [
    "# arange()\n",
    "\n",
    "range_array = np.arange(10)\n",
    "print(\"range_array       :\",range_array)\n",
    "print(\"range_array shape :\",range_array.shape)\n",
    "print(\"range_array dtype :\",range_array.dtype)"
   ]
  },
  {
   "cell_type": "code",
   "execution_count": null,
   "id": "1d0a1d74",
   "metadata": {
    "ExecuteTime": {
     "end_time": "2022-03-18T02:13:17.845170Z",
     "start_time": "2022-03-18T02:13:17.835175Z"
    }
   },
   "outputs": [],
   "source": [
    "# zeros()\n",
    "\n",
    "zero_array = np.zeros((3, 3), dtype=\"int32\")\n",
    "print(\"zero_array       :\\n\",zero_array)\n",
    "print(\"zero_array shape :\",zero_array.shape)\n",
    "print(\"zero_array dtype :\",zero_array.dtype)"
   ]
  },
  {
   "cell_type": "code",
   "execution_count": null,
   "id": "78548757",
   "metadata": {
    "ExecuteTime": {
     "end_time": "2022-03-18T02:15:10.151798Z",
     "start_time": "2022-03-18T02:15:10.138805Z"
    }
   },
   "outputs": [],
   "source": [
    "zero_array = np.zeros((3, 3))\n",
    "print(\"zero_array       :\\n\",zero_array)\n",
    "print(\"zero_array shape :\",zero_array.shape)\n",
    "print(\"zero_array dtype :\",zero_array.dtype)"
   ]
  },
  {
   "cell_type": "code",
   "execution_count": null,
   "id": "bb3b0ab4",
   "metadata": {
    "ExecuteTime": {
     "end_time": "2022-03-18T02:14:24.336715Z",
     "start_time": "2022-03-18T02:14:24.321724Z"
    }
   },
   "outputs": [],
   "source": [
    "# ones()\n",
    "\n",
    "ones_array = np.ones((3, 6))\n",
    "print(\"ones_array       :\\n\",ones_array)\n",
    "print(\"ones_array shape :\",ones_array.shape)\n",
    "print(\"ones_array dtype :\",ones_array.dtype)"
   ]
  },
  {
   "cell_type": "code",
   "execution_count": null,
   "id": "7b3fa327",
   "metadata": {
    "ExecuteTime": {
     "end_time": "2022-03-18T02:14:43.135918Z",
     "start_time": "2022-03-18T02:14:43.129921Z"
    }
   },
   "outputs": [],
   "source": [
    "ones_array = np.ones((3, 6), dtype=\"int32\")\n",
    "print(\"ones_array       :\\n\",ones_array)\n",
    "print(\"ones_array shape :\",ones_array.shape)\n",
    "print(\"ones_array dtype :\",ones_array.dtype)"
   ]
  },
  {
   "cell_type": "markdown",
   "id": "bef2952b",
   "metadata": {
    "ExecuteTime": {
     "end_time": "2022-03-18T02:16:05.564235Z",
     "start_time": "2022-03-18T02:16:05.556230Z"
    }
   },
   "source": [
    "* ndarray.reshape() 메소드 - shape 를 재설정함"
   ]
  },
  {
   "cell_type": "code",
   "execution_count": null,
   "id": "61a1cc40",
   "metadata": {
    "ExecuteTime": {
     "end_time": "2022-03-18T02:19:50.311721Z",
     "start_time": "2022-03-18T02:19:50.297729Z"
    }
   },
   "outputs": [],
   "source": [
    "array1 = np.arange(10)\n",
    "print(\"array1 :\\n\",array1)\n",
    "\n",
    "array2 = array1.reshape(2, 5)\n",
    "print(\"array2 :\\n\",array2)\n",
    "\n",
    "array3 = array1.reshape(5, 2)\n",
    "print(\"array3 :\\n\",array3)\n",
    "\n",
    "#  데이터 개수에 맞는 행과 열을 지정해 주어야만 함\n",
    "# ValueError: cannot reshape array of size 10 into shape (3,3)\n",
    "# array4 = array1.reshape(3, 3)\n",
    "# print(\"array4 :\\n\",array4)"
   ]
  },
  {
   "cell_type": "markdown",
   "id": "a289b12f",
   "metadata": {},
   "source": [
    "### reshape() 의 argument 로 -1 설정하기\n",
    "* argument 둘 다 -1 로 지정할 수는 없음"
   ]
  },
  {
   "cell_type": "code",
   "execution_count": null,
   "id": "a45788c7",
   "metadata": {
    "ExecuteTime": {
     "end_time": "2022-03-18T02:36:50.847432Z",
     "start_time": "2022-03-18T02:36:50.840435Z"
    }
   },
   "outputs": [],
   "source": [
    "array1 = np.arange(10)\n",
    "print(\"array1 의 shape :\\n\",array1.shape)\n",
    "print(\"array1 :\\n\",array1)\n",
    "\n",
    "# reshape(-1, 5) :  2 X 5 \n",
    "# 열을 5로 지정하고 행은 이에 맞추어서 자동으로 지정됨\n",
    "array2 = array1.reshape(-1, 5)\n",
    "print(\"array2 의 shape :\\n\",array2.shape)\n",
    "print(\"array2 :\\n\",array2)\n",
    "\n",
    "# reshape(5, -1) : 5 X 2\n",
    "# 행을 5로 지정하고 열은 이에 맞추어서 자동으로 지정됨\n",
    "array3 = array1.reshape(5, -1)\n",
    "print(\"array3 의 shape :\\n\",array3.shape)\n",
    "print(\"array3 :\\n\",array3)"
   ]
  },
  {
   "cell_type": "code",
   "execution_count": null,
   "id": "7c332792",
   "metadata": {
    "ExecuteTime": {
     "end_time": "2022-03-18T02:42:05.468105Z",
     "start_time": "2022-03-18T02:42:05.448116Z"
    }
   },
   "outputs": [],
   "source": [
    "# 1 차원 배열\n",
    "array1 = np.arange(5)\n",
    "print(\"array1 의 shape :\\n\",array1.shape)\n",
    "print(\"array1 :\\n\",array1)\n",
    "\n",
    "# 5 X 1 의 2 차원 배열\n",
    "array2 = array1.reshape(-1, 1)\n",
    "print(\"array2 의 shape :\\n\",array2.shape)\n",
    "print(\"array2 :\\n\",array2)\n",
    "\n",
    "# 2 차원 배열을 1 차원 배열로 변환홤\n",
    "array3 = array2.reshape(-1, )\n",
    "print(\"array3 의 shape :\\n\",array3.shape)\n",
    "print(\"array3 :\\n\",array3)"
   ]
  },
  {
   "cell_type": "markdown",
   "id": "b55476ff",
   "metadata": {},
   "source": [
    "### ndarray  에서 indexing 하기"
   ]
  },
  {
   "cell_type": "code",
   "execution_count": null,
   "id": "86641283",
   "metadata": {
    "ExecuteTime": {
     "end_time": "2022-03-18T02:46:23.470814Z",
     "start_time": "2022-03-18T02:46:23.462818Z"
    }
   },
   "outputs": [],
   "source": [
    "array1 = np.arange(10)\n",
    "print(\"array1 :\\n\",array1)\n",
    "\n",
    "array1_1 = np.arange(start=1, stop=10)\n",
    "print(\"array1_1 :\\n\",array1_1)\n",
    "\n",
    "array1_2 = np.arange(1, 10)\n",
    "print(\"array1_2 :\\n\",array1_2)"
   ]
  },
  {
   "cell_type": "code",
   "execution_count": null,
   "id": "9e90bd37",
   "metadata": {
    "ExecuteTime": {
     "end_time": "2022-03-18T02:52:39.699342Z",
     "start_time": "2022-03-18T02:52:39.678352Z"
    }
   },
   "outputs": [],
   "source": [
    "array1_2 = np.arange(1, 10)\n",
    "\n",
    "result = array1_2[2]\n",
    "print(\"result :\",result)\n",
    "print(\"result :\",type(result))\n",
    "\n",
    "result2 = array1_2[-1]\n",
    "print(\"result2 :\",result2)\n",
    "result3 = array1_2[-2]\n",
    "print(\"result3 :\",result3)\n",
    "\n",
    "print(\"array1_2 :\\n\",array1_2)\n",
    "\n",
    "array1_2[0] = 9\n",
    "array1_2[8] = 1\n",
    "print(\"array1_2 :\\n\",array1_2)"
   ]
  },
  {
   "cell_type": "code",
   "execution_count": null,
   "id": "605c920e",
   "metadata": {
    "ExecuteTime": {
     "end_time": "2022-03-18T02:59:09.047871Z",
     "start_time": "2022-03-18T02:59:09.038875Z"
    }
   },
   "outputs": [],
   "source": [
    "# reshape() 를 사용해서 2 차원 배열로 변환하기\n",
    "array1_2_2d = array1_2.reshape(3, 3)\n",
    "'''\n",
    "array1_2_2d\n",
    " [[9 2 3]\n",
    " [4 5 6]\n",
    " [7 8 1]]\n",
    "'''\n",
    "print(\"array1_2_2d[0, 0] :\",array1_2_2d[0, 0])\n",
    "print(\"array1_2_2d[1, 1] :\",array1_2_2d[1, 1])\n",
    "print(\"array1_2_2d[2, 2] :\",array1_2_2d[2, 2])\n",
    "print(\"array1_2_2d[0, 2] :\",array1_2_2d[0, 2])\n",
    "print(\"-\" * 40)\n",
    "\n",
    "print(\"array1_2_2d[0][0] :\",array1_2_2d[0][0])\n",
    "print(\"array1_2_2d[1][1] :\",array1_2_2d[1][1])\n",
    "print(\"array1_2_2d[2][2] :\",array1_2_2d[2][2])\n",
    "print(\"array1_2_2d[0][2] :\",array1_2_2d[0][2])\n",
    "print(\"-\" * 40)\n",
    "\n",
    "print(\"array1_2_2d :\\n\",array1_2_2d)\n",
    "print(\"array1_2_2d의 shape :\",array1_2_2d.shape)\n",
    "print(\"-\" * 40)"
   ]
  },
  {
   "cell_type": "markdown",
   "id": "f7ff6980",
   "metadata": {},
   "source": [
    "### ndarray  에서 slicing 하기"
   ]
  },
  {
   "cell_type": "code",
   "execution_count": null,
   "id": "7cd67cac",
   "metadata": {
    "ExecuteTime": {
     "end_time": "2022-03-18T03:03:23.859620Z",
     "start_time": "2022-03-18T03:03:23.846627Z"
    }
   },
   "outputs": [],
   "source": [
    "array1 = np.arange(1, 10)\n",
    "print(\"array1.shape :\", array1.shape)\n",
    "print(\"array1 type  :\", type(array1))\n",
    "print(\"array1 :\\n\", array1)\n",
    "print(\"-\" * 40)\n",
    "\n",
    "array2 = array1[0:3]\n",
    "print(\"array2.shape :\", array2.shape)\n",
    "print(\"array2 type  :\", type(array2))\n",
    "print(\"array2 :\\n\", array2)\n",
    "print(\"-\" * 40)\n",
    "\n",
    "array3 = array1[:3]\n",
    "print(\"array3.shape :\", array3.shape)\n",
    "print(\"array3 type  :\", type(array3))\n",
    "print(\"array3 :\\n\", array3)\n",
    "print(\"-\" * 40)\n",
    "\n",
    "array4 = array1[3:]\n",
    "print(\"array4.shape :\", array4.shape)\n",
    "print(\"array4 type  :\", type(array4))\n",
    "print(\"array4 :\\n\", array4)\n",
    "print(\"-\" * 40)\n",
    "\n",
    "array5 = array1[:]\n",
    "print(\"array5.shape :\", array5.shape)\n",
    "print(\"array5 type  :\", type(array5))\n",
    "print(\"array5 :\\n\", array5)\n",
    "print(\"-\" * 40)"
   ]
  },
  {
   "cell_type": "code",
   "execution_count": null,
   "id": "cee33df7",
   "metadata": {
    "ExecuteTime": {
     "end_time": "2022-03-18T03:20:47.695536Z",
     "start_time": "2022-03-18T03:20:47.686542Z"
    },
    "scrolled": true
   },
   "outputs": [],
   "source": [
    "array2d = array1.reshape(3, 3)\n",
    "print(\"array2d.shape :\", array2d.shape)\n",
    "print(\"array2d type  :\", type(array2d))\n",
    "print(\"array2d :\\n\", array2d)\n",
    "print(\"-\" * 40)\n",
    "\n",
    "# 1, 2, 행 X 1, 2 열\n",
    "print(\"array2d[0:2, 0:2] :\\n\",array2d[0:2, 0:2])\n",
    "print(\"-\" * 40)\n",
    "\n",
    "# 1, 2 행 X 1, 2, 3 열\n",
    "print(\"array2d[1:3, 0:3] :\\n\",array2d[1:3, 0:3])\n",
    "print(\"-\" * 40)\n",
    "\n",
    "# 1, 2 행 X 1, 2, 3 열 : 시작과 끝을 생략하면 처음부터 끝까지\n",
    "print(\"array2d[1:3, :] :\\n\", array2d[1:3, :])\n",
    "print(\"-\" * 40)\n",
    "\n",
    "# 1, 2, 3 행 X 1, 2, 3 열 : 시작과 끝을 생략하면 처음부터 끝까지\n",
    "print(\"array2d[:, :] :\\n\",array2d[:, :])\n",
    "print(\"array2d[0:3, 0:3] :\\n\",array2d[0:3, 0:3])\n",
    "print(\"-\" * 40)\n",
    "\n",
    "# 1, 2 행 X 2, 3 열\n",
    "print(\"array2d[:2, 1:] :\\n\",array2d[:2, 1:])\n",
    "print(\"array2d[0:2, 1:3] :\\n\",array2d[0:2, 1:3])\n",
    "print(\"-\" * 40)\n",
    "\n",
    "# 1, 2 행 X 1 열 : 열을 하나만 지정하면 1 차원 배열로 됨\n",
    "print(\"array2d[:2, 0].shape  :\",array2d[:2, 0].shape)\n",
    "print(\"array2d[0:2, 0].shape :\",array2d[0:2, 0].shape)\n",
    "print(\"array2d[:2, 0] :\\n\",array2d[:2, 0])"
   ]
  },
  {
   "cell_type": "code",
   "execution_count": null,
   "id": "ee173324",
   "metadata": {},
   "outputs": [],
   "source": []
  },
  {
   "cell_type": "code",
   "execution_count": null,
   "id": "f0b29d22",
   "metadata": {},
   "outputs": [],
   "source": []
  },
  {
   "cell_type": "code",
   "execution_count": null,
   "id": "d2fa19d5",
   "metadata": {},
   "outputs": [],
   "source": []
  },
  {
   "cell_type": "code",
   "execution_count": null,
   "id": "5a0ae212",
   "metadata": {},
   "outputs": [],
   "source": []
  },
  {
   "cell_type": "code",
   "execution_count": null,
   "id": "5369d054",
   "metadata": {},
   "outputs": [],
   "source": []
  },
  {
   "cell_type": "code",
   "execution_count": null,
   "id": "c7d13cb5",
   "metadata": {},
   "outputs": [],
   "source": []
  },
  {
   "cell_type": "code",
   "execution_count": null,
   "id": "36260e69",
   "metadata": {},
   "outputs": [],
   "source": []
  }
 ],
 "metadata": {
  "hide_input": false,
  "kernelspec": {
   "display_name": "Python 3 (ipykernel)",
   "language": "python",
   "name": "python3"
  },
  "language_info": {
   "codemirror_mode": {
    "name": "ipython",
    "version": 3
   },
   "file_extension": ".py",
   "mimetype": "text/x-python",
   "name": "python",
   "nbconvert_exporter": "python",
   "pygments_lexer": "ipython3",
   "version": "3.9.7"
  },
  "toc": {
   "base_numbering": 1,
   "nav_menu": {},
   "number_sections": true,
   "sideBar": true,
   "skip_h1_title": false,
   "title_cell": "Table of Contents",
   "title_sidebar": "Contents",
   "toc_cell": false,
   "toc_position": {},
   "toc_section_display": true,
   "toc_window_display": false
  },
  "varInspector": {
   "cols": {
    "lenName": 16,
    "lenType": 16,
    "lenVar": 40
   },
   "kernels_config": {
    "python": {
     "delete_cmd_postfix": "",
     "delete_cmd_prefix": "del ",
     "library": "var_list.py",
     "varRefreshCmd": "print(var_dic_list())"
    },
    "r": {
     "delete_cmd_postfix": ") ",
     "delete_cmd_prefix": "rm(",
     "library": "var_list.r",
     "varRefreshCmd": "cat(var_dic_list()) "
    }
   },
   "types_to_exclude": [
    "module",
    "function",
    "builtin_function_or_method",
    "instance",
    "_Feature"
   ],
   "window_display": false
  }
 },
 "nbformat": 4,
 "nbformat_minor": 5
}
