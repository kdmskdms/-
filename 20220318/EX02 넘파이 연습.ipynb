{
 "cells": [
  {
   "cell_type": "markdown",
   "id": "9d482c57",
   "metadata": {},
   "source": [
    "Numpy ndarray\n",
    "* ndarray 생성하기 - np.array()"
   ]
  },
  {
   "cell_type": "code",
   "execution_count": 1,
   "id": "f0cb0f9b",
   "metadata": {},
   "outputs": [],
   "source": [
    "import numpy as np"
   ]
  },
  {
   "cell_type": "code",
   "execution_count": 2,
   "id": "4eba0960",
   "metadata": {},
   "outputs": [
    {
     "name": "stdout",
     "output_type": "stream",
     "text": [
      "list1 : [1, 2, 3]\n",
      "list1 : <class 'list'>\n",
      "array1 : [1 2 3]\n",
      "array1 : <class 'numpy.ndarray'>\n"
     ]
    }
   ],
   "source": [
    "list1 = [1,2,3]\n",
    "print(\"list1 :\", list1)\n",
    "print(\"list1 :\",type(list1))\n",
    "\n",
    "array1 = np.array(list1)\n",
    "print(\"array1 :\",array1)\n",
    "print(\"array1 :\",type(array1))"
   ]
  },
  {
   "cell_type": "code",
   "execution_count": null,
   "id": "323e5d3d",
   "metadata": {},
   "outputs": [],
   "source": [
    "array1 = np.array([1, 2, 3, 4, 5])\n",
    "print(\"array1       :\",array1)\n",
    "print(\"array1 타입  :\",type(array1))\n",
    "print(\"array1 shape :\",array1.shape)"
   ]
  },
  {
   "cell_type": "code",
   "execution_count": 3,
   "id": "f7708609",
   "metadata": {},
   "outputs": [
    {
     "name": "stdout",
     "output_type": "stream",
     "text": [
      "array2       :\n",
      " [[1 2 3]\n",
      " [4 5 6]]\n",
      "array2 타입  : <class 'numpy.ndarray'>\n",
      "array2 shape : (2, 3)\n"
     ]
    }
   ],
   "source": [
    "array2 = np.array([\n",
    "                   [1, 2, 3],\n",
    "                   [4, 5, 6]\n",
    "                 ])\n",
    "print(\"array2       :\\n\",array2)\n",
    "print(\"array2 타입  :\",type(array2))\n",
    "print(\"array2 shape :\",array2.shape)"
   ]
  },
  {
   "cell_type": "code",
   "execution_count": 4,
   "id": "3ce6af30",
   "metadata": {},
   "outputs": [
    {
     "name": "stdout",
     "output_type": "stream",
     "text": [
      "array3       : [[1 2 3 4 5]]\n",
      "array3 타입  : <class 'numpy.ndarray'>\n",
      "array3 shape : (1, 5)\n"
     ]
    }
   ],
   "source": [
    "array3 = np.array([[1, 2, 3, 4, 5]])\n",
    "print(\"array3       :\",array3)\n",
    "print(\"array3 타입  :\",type(array3))\n",
    "print(\"array3 shape :\",array3.shape)"
   ]
  },
  {
   "cell_type": "code",
   "execution_count": 5,
   "id": "dca1989b",
   "metadata": {},
   "outputs": [
    {
     "name": "stdout",
     "output_type": "stream",
     "text": [
      "array1 : 1 차원\n",
      "array2 : 2 차원\n",
      "array3 : 2 차원\n"
     ]
    }
   ],
   "source": [
    "print(f\"array1 : {array1.ndim} 차원\\narray2 : {array2.ndim} 차원\\narray3 : {array3.ndim} 차원\")"
   ]
  },
  {
   "cell_type": "markdown",
   "id": "d9ab2a7c",
   "metadata": {},
   "source": [
    "* ndarray 속에 들어있는 값의 data type - ndrray.dtype"
   ]
  },
  {
   "cell_type": "code",
   "execution_count": 6,
   "id": "f0e946df",
   "metadata": {},
   "outputs": [
    {
     "name": "stdout",
     "output_type": "stream",
     "text": [
      "list1 : [1, 2, 3, 4, 5]\n",
      "list1 : <class 'list'>\n",
      "array1 : [1 2 3 4 5]\n",
      "array1 : <class 'numpy.ndarray'>\n",
      "array1 속에 들어있는 값의 data type : int32\n"
     ]
    }
   ],
   "source": [
    "list1 = [1,2,3,4,5]\n",
    "print(\"list1 :\",list1)\n",
    "print(\"list1 :\",type(list1))\n",
    "\n",
    "array1 = np.array(list1)\n",
    "print(\"array1 :\",array1)\n",
    "print(\"array1 :\",type(array1))\n",
    "print(\"array1 속에 들어있는 값의 data type :\",array1.dtype)"
   ]
  },
  {
   "cell_type": "markdown",
   "id": "1b004d6d",
   "metadata": {},
   "source": [
    "* ndarray 속에 들어있는 값의 타입 변환하기 - astype() 메소드 사용"
   ]
  },
  {
   "cell_type": "code",
   "execution_count": 8,
   "id": "129a54b9",
   "metadata": {},
   "outputs": [
    {
     "name": "stdout",
     "output_type": "stream",
     "text": [
      "array_int         : [1 2 3 4 5]\n",
      "array_int d타입   : int32\n",
      "array_float       : [1. 2. 3. 4. 5.]\n",
      "array_float d타입 : float64\n"
     ]
    }
   ],
   "source": [
    "array_int   = np.array([1, 2, 3, 4, 5])\n",
    "array_float = array_int.astype(\"float64\")\n",
    "\n",
    "print(\"array_int         :\",array_int)\n",
    "print(\"array_int d타입   :\",array_int.dtype)\n",
    "print(\"array_float       :\",array_float)\n",
    "print(\"array_float d타입 :\",array_float.dtype)"
   ]
  },
  {
   "cell_type": "code",
   "execution_count": 9,
   "id": "1a41708e",
   "metadata": {},
   "outputs": [
    {
     "name": "stdout",
     "output_type": "stream",
     "text": [
      "array_int2        : [1 2 3 4 5]\n",
      "array_int2 d타입  : int32\n"
     ]
    }
   ],
   "source": [
    "array_int2 = array_float.astype(\"int32\")\n",
    "\n",
    "print(\"array_int2        :\",array_int2)\n",
    "print(\"array_int2 d타입  :\",array_int2.dtype)"
   ]
  },
  {
   "cell_type": "code",
   "execution_count": 10,
   "id": "f90a750b",
   "metadata": {},
   "outputs": [
    {
     "name": "stdout",
     "output_type": "stream",
     "text": [
      "array_float2       : [1.2 2.3 3.4 4.5]\n",
      "array_float2 d타입 : float64\n",
      "array_int3         : [1 2 3 4]\n",
      "array_int3 d타입   : int32\n"
     ]
    }
   ],
   "source": [
    "array_float2 = np.array([1.2, 2.3, 3.4, 4.5])\n",
    "print(\"array_float2       :\",array_float2)\n",
    "print(\"array_float2 d타입 :\",array_float2.dtype)\n",
    "\n",
    "array_int3 = array_float2.astype(\"int32\")\n",
    "print(\"array_int3         :\",array_int3)\n",
    "print(\"array_int3 d타입   :\",array_int3.dtype)"
   ]
  },
  {
   "cell_type": "code",
   "execution_count": 11,
   "id": "8a9697c4",
   "metadata": {},
   "outputs": [
    {
     "name": "stdout",
     "output_type": "stream",
     "text": [
      "array2.sum()       : 55\n",
      "array2.sum(axis=0) : [ 7  9 11 13 15]\n",
      "array2.sum(axis=1) : [15 40]\n"
     ]
    }
   ],
   "source": [
    "array2 = np.array([\n",
    "                   [1, 2, 3, 4, 5],\n",
    "                   [6, 7, 8, 9, 10]\n",
    "                  ])\n",
    "print(\"array2.sum()       :\",array2.sum())\n",
    "print(\"array2.sum(axis=0) :\",array2.sum(axis=0))\n",
    "print(\"array2.sum(axis=1) :\",array2.sum(axis=1))"
   ]
  },
  {
   "cell_type": "code",
   "execution_count": 12,
   "id": "eb2e205c",
   "metadata": {},
   "outputs": [
    {
     "name": "stdout",
     "output_type": "stream",
     "text": [
      "range_array       : [0 1 2 3 4 5 6 7 8 9]\n",
      "range_array shape : (10,)\n",
      "range_array dtype : int32\n"
     ]
    }
   ],
   "source": [
    "range_array = np.arange(10)\n",
    "print(\"range_array       :\",range_array)\n",
    "print(\"range_array shape :\",range_array.shape)\n",
    "print(\"range_array dtype :\",range_array.dtype)"
   ]
  },
  {
   "cell_type": "code",
   "execution_count": 13,
   "id": "66a46deb",
   "metadata": {},
   "outputs": [
    {
     "name": "stdout",
     "output_type": "stream",
     "text": [
      "zero_array       :\n",
      " [[0 0 0]\n",
      " [0 0 0]\n",
      " [0 0 0]]\n",
      "zero_array shape : (3, 3)\n",
      "zero_array dtype : int32\n"
     ]
    }
   ],
   "source": [
    "zero_array = np.zeros((3, 3), dtype=\"int32\")\n",
    "print(\"zero_array       :\\n\",zero_array)\n",
    "print(\"zero_array shape :\",zero_array.shape)\n",
    "print(\"zero_array dtype :\",zero_array.dtype)"
   ]
  },
  {
   "cell_type": "code",
   "execution_count": 14,
   "id": "755d5378",
   "metadata": {},
   "outputs": [
    {
     "name": "stdout",
     "output_type": "stream",
     "text": [
      "zero_array       :\n",
      " [[0. 0. 0.]\n",
      " [0. 0. 0.]\n",
      " [0. 0. 0.]]\n",
      "zero_array shape : (3, 3)\n",
      "zero_array dtype : float64\n"
     ]
    }
   ],
   "source": [
    "zero_array = np.zeros((3, 3))\n",
    "print(\"zero_array       :\\n\",zero_array)\n",
    "print(\"zero_array shape :\",zero_array.shape)\n",
    "print(\"zero_array dtype :\",zero_array.dtype)"
   ]
  },
  {
   "cell_type": "code",
   "execution_count": 15,
   "id": "7420ab72",
   "metadata": {},
   "outputs": [
    {
     "name": "stdout",
     "output_type": "stream",
     "text": [
      "ones_array       :\n",
      " [[1. 1. 1. 1. 1. 1.]\n",
      " [1. 1. 1. 1. 1. 1.]\n",
      " [1. 1. 1. 1. 1. 1.]]\n",
      "ones_array shape : (3, 6)\n",
      "ones_array dtype : float64\n"
     ]
    }
   ],
   "source": [
    "ones_array = np.ones((3, 6))\n",
    "print(\"ones_array       :\\n\",ones_array)\n",
    "print(\"ones_array shape :\",ones_array.shape)\n",
    "print(\"ones_array dtype :\",ones_array.dtype)"
   ]
  },
  {
   "cell_type": "code",
   "execution_count": 16,
   "id": "3084c185",
   "metadata": {},
   "outputs": [
    {
     "name": "stdout",
     "output_type": "stream",
     "text": [
      "ones_array       :\n",
      " [[1 1 1 1 1 1]\n",
      " [1 1 1 1 1 1]\n",
      " [1 1 1 1 1 1]]\n",
      "ones_array shape : (3, 6)\n",
      "ones_array dtype : int32\n"
     ]
    }
   ],
   "source": [
    "ones_array = np.ones((3, 6), dtype=\"int32\")\n",
    "print(\"ones_array       :\\n\",ones_array)\n",
    "print(\"ones_array shape :\",ones_array.shape)\n",
    "print(\"ones_array dtype :\",ones_array.dtype)"
   ]
  },
  {
   "cell_type": "code",
   "execution_count": 18,
   "id": "1af1de5e",
   "metadata": {},
   "outputs": [
    {
     "name": "stdout",
     "output_type": "stream",
     "text": [
      "array1 :\n",
      " [0 1 2 3 4 5 6 7 8 9]\n",
      "array2 :\n",
      " [[0 1 2 3 4]\n",
      " [5 6 7 8 9]]\n",
      "array3 :\n",
      " [[0 1]\n",
      " [2 3]\n",
      " [4 5]\n",
      " [6 7]\n",
      " [8 9]]\n"
     ]
    }
   ],
   "source": [
    "array1 = np.arange(10)\n",
    "print(\"array1 :\\n\",array1)\n",
    "array2 = array1.reshape(2, 5)\n",
    "print(\"array2 :\\n\",array2)\n",
    "array3 = array1.reshape(5, 2)\n",
    "print(\"array3 :\\n\",array3)"
   ]
  },
  {
   "cell_type": "code",
   "execution_count": 19,
   "id": "f7ee2c01",
   "metadata": {},
   "outputs": [
    {
     "name": "stdout",
     "output_type": "stream",
     "text": [
      "array1 의 shape :\n",
      " (10,)\n",
      "array1 :\n",
      " [0 1 2 3 4 5 6 7 8 9]\n",
      "array2 의 shape :\n",
      " (2, 5)\n",
      "array2 :\n",
      " [[0 1 2 3 4]\n",
      " [5 6 7 8 9]]\n",
      "array3 의 shape :\n",
      " (5, 2)\n",
      "array3 :\n",
      " [[0 1]\n",
      " [2 3]\n",
      " [4 5]\n",
      " [6 7]\n",
      " [8 9]]\n"
     ]
    }
   ],
   "source": [
    "array1 = np.arange(10)\n",
    "print(\"array1 의 shape :\\n\",array1.shape)\n",
    "print(\"array1 :\\n\",array1)\n",
    "array2 = array1.reshape(-1, 5)\n",
    "print(\"array2 의 shape :\\n\",array2.shape)\n",
    "print(\"array2 :\\n\",array2)\n",
    "array3 = array1.reshape(5, -1)\n",
    "print(\"array3 의 shape :\\n\",array3.shape)\n",
    "print(\"array3 :\\n\",array3)"
   ]
  },
  {
   "cell_type": "code",
   "execution_count": 20,
   "id": "761134c7",
   "metadata": {},
   "outputs": [
    {
     "name": "stdout",
     "output_type": "stream",
     "text": [
      "array1 의 shape :\n",
      " (5,)\n",
      "array1 :\n",
      " [0 1 2 3 4]\n",
      "array2 의 shape :\n",
      " (5, 1)\n",
      "array2 :\n",
      " [[0]\n",
      " [1]\n",
      " [2]\n",
      " [3]\n",
      " [4]]\n",
      "array3 의 shape :\n",
      " (5,)\n",
      "array3 :\n",
      " [0 1 2 3 4]\n"
     ]
    }
   ],
   "source": [
    "array1 = np.arange(5)\n",
    "print(\"array1 의 shape :\\n\",array1.shape)\n",
    "print(\"array1 :\\n\",array1)\n",
    "array2 = array1.reshape(-1, 1)\n",
    "print(\"array2 의 shape :\\n\",array2.shape)\n",
    "print(\"array2 :\\n\",array2)\n",
    "array3 = array2.reshape(-1, )\n",
    "print(\"array3 의 shape :\\n\",array3.shape)\n",
    "print(\"array3 :\\n\",array3)"
   ]
  },
  {
   "cell_type": "code",
   "execution_count": 22,
   "id": "67b46d7d",
   "metadata": {},
   "outputs": [
    {
     "name": "stdout",
     "output_type": "stream",
     "text": [
      "array1 :\n",
      " [0 1 2 3 4 5 6 7 8 9]\n",
      "array1_1 :\n",
      " [1 2 3 4 5 6 7 8 9]\n",
      "array1_2 :\n",
      " [1 2 3 4 5 6 7 8 9]\n"
     ]
    }
   ],
   "source": [
    "array1 = np.arange(10)\n",
    "print(\"array1 :\\n\",array1)\n",
    "\n",
    "array1_1 = np.arange(start=1, stop=10)\n",
    "print(\"array1_1 :\\n\",array1_1)\n",
    "\n",
    "array1_2 = np.arange(1, 10)\n",
    "print(\"array1_2 :\\n\",array1_2)"
   ]
  },
  {
   "cell_type": "code",
   "execution_count": 23,
   "id": "fb4a11ab",
   "metadata": {},
   "outputs": [
    {
     "name": "stdout",
     "output_type": "stream",
     "text": [
      "result : 3\n",
      "result : <class 'numpy.int32'>\n",
      "result2 : 9\n",
      "result3 : 8\n",
      "array1_2 :\n",
      " [1 2 3 4 5 6 7 8 9]\n",
      "array1_2 :\n",
      " [9 2 3 4 5 6 7 8 1]\n"
     ]
    }
   ],
   "source": [
    "array1_2 = np.arange(1, 10)\n",
    "result = array1_2[2]\n",
    "print(\"result :\",result)\n",
    "print(\"result :\",type(result))\n",
    "\n",
    "result2 = array1_2[-1]\n",
    "print(\"result2 :\",result2)\n",
    "result3 = array1_2[-2]\n",
    "print(\"result3 :\",result3)\n",
    "\n",
    "print(\"array1_2 :\\n\",array1_2)\n",
    "\n",
    "array1_2[0] = 9\n",
    "array1_2[8] = 1\n",
    "print(\"array1_2 :\\n\",array1_2)"
   ]
  },
  {
   "cell_type": "code",
   "execution_count": 24,
   "id": "3b546a86",
   "metadata": {},
   "outputs": [
    {
     "name": "stdout",
     "output_type": "stream",
     "text": [
      "array1_2_2d[0, 0] : 9\n",
      "array1_2_2d[1, 1] : 5\n",
      "array1_2_2d[2, 2] : 1\n",
      "array1_2_2d[0, 2] : 3\n",
      "----------------------------------------\n",
      "array1_2_2d[0][0] : 9\n",
      "array1_2_2d[1][1] : 5\n",
      "array1_2_2d[2][2] : 1\n",
      "array1_2_2d[0][2] : 3\n",
      "----------------------------------------\n",
      "array1_2_2d :\n",
      " [[9 2 3]\n",
      " [4 5 6]\n",
      " [7 8 1]]\n",
      "array1_2_2d의 shape : (3, 3)\n",
      "----------------------------------------\n"
     ]
    }
   ],
   "source": [
    "array1_2_2d = array1_2.reshape(3, 3)\n",
    "print(\"array1_2_2d[0, 0] :\",array1_2_2d[0, 0])\n",
    "print(\"array1_2_2d[1, 1] :\",array1_2_2d[1, 1])\n",
    "print(\"array1_2_2d[2, 2] :\",array1_2_2d[2, 2])\n",
    "print(\"array1_2_2d[0, 2] :\",array1_2_2d[0, 2])\n",
    "print(\"-\" * 40)\n",
    "\n",
    "print(\"array1_2_2d[0][0] :\",array1_2_2d[0][0])\n",
    "print(\"array1_2_2d[1][1] :\",array1_2_2d[1][1])\n",
    "print(\"array1_2_2d[2][2] :\",array1_2_2d[2][2])\n",
    "print(\"array1_2_2d[0][2] :\",array1_2_2d[0][2])\n",
    "print(\"-\" * 40)\n",
    "\n",
    "print(\"array1_2_2d :\\n\",array1_2_2d)\n",
    "print(\"array1_2_2d의 shape :\",array1_2_2d.shape)\n",
    "print(\"-\" * 40)"
   ]
  },
  {
   "cell_type": "code",
   "execution_count": 25,
   "id": "d9c4c367",
   "metadata": {},
   "outputs": [
    {
     "name": "stdout",
     "output_type": "stream",
     "text": [
      "array1.shape : (9,)\n",
      "array1 type  : <class 'numpy.ndarray'>\n",
      "array1 :\n",
      " [1 2 3 4 5 6 7 8 9]\n",
      "----------------------------------------\n",
      "array2.shape : (3,)\n",
      "array2 type  : <class 'numpy.ndarray'>\n",
      "array2 :\n",
      " [1 2 3]\n",
      "----------------------------------------\n",
      "array3.shape : (3,)\n",
      "array3 type  : <class 'numpy.ndarray'>\n",
      "array3 :\n",
      " [1 2 3]\n",
      "----------------------------------------\n",
      "array4.shape : (6,)\n",
      "array4 type  : <class 'numpy.ndarray'>\n",
      "array4 :\n",
      " [4 5 6 7 8 9]\n",
      "----------------------------------------\n",
      "array5.shape : (9,)\n",
      "array5 type  : <class 'numpy.ndarray'>\n",
      "array5 :\n",
      " [1 2 3 4 5 6 7 8 9]\n",
      "----------------------------------------\n"
     ]
    }
   ],
   "source": [
    "array1 = np.arange(1, 10)\n",
    "print(\"array1.shape :\", array1.shape)\n",
    "print(\"array1 type  :\", type(array1))\n",
    "print(\"array1 :\\n\", array1)\n",
    "print(\"-\" * 40)\n",
    "\n",
    "array2 = array1[0:3]\n",
    "print(\"array2.shape :\", array2.shape)\n",
    "print(\"array2 type  :\", type(array2))\n",
    "print(\"array2 :\\n\", array2)\n",
    "print(\"-\" * 40)\n",
    "\n",
    "array3 = array1[:3]\n",
    "print(\"array3.shape :\", array3.shape)\n",
    "print(\"array3 type  :\", type(array3))\n",
    "print(\"array3 :\\n\", array3)\n",
    "print(\"-\" * 40)\n",
    "\n",
    "array4 = array1[3:]\n",
    "print(\"array4.shape :\", array4.shape)\n",
    "print(\"array4 type  :\", type(array4))\n",
    "print(\"array4 :\\n\", array4)\n",
    "print(\"-\" * 40)\n",
    "\n",
    "array5 = array1[:]\n",
    "print(\"array5.shape :\", array5.shape)\n",
    "print(\"array5 type  :\", type(array5))\n",
    "print(\"array5 :\\n\", array5)\n",
    "print(\"-\" * 40)"
   ]
  },
  {
   "cell_type": "code",
   "execution_count": 26,
   "id": "aa59abab",
   "metadata": {},
   "outputs": [
    {
     "name": "stdout",
     "output_type": "stream",
     "text": [
      "array2d.shape : (3, 3)\n",
      "array2d type  : <class 'numpy.ndarray'>\n",
      "array2d :\n",
      " [[1 2 3]\n",
      " [4 5 6]\n",
      " [7 8 9]]\n",
      "----------------------------------------\n",
      "array2d[0:2, 0:2] :\n",
      " [[1 2]\n",
      " [4 5]]\n",
      "----------------------------------------\n",
      "array2d[1:3, 0:3] :\n",
      " [[4 5 6]\n",
      " [7 8 9]]\n",
      "----------------------------------------\n",
      "array2d[1:3, :] :\n",
      " [[4 5 6]\n",
      " [7 8 9]]\n",
      "----------------------------------------\n",
      "array2d[:, :] :\n",
      " [[1 2 3]\n",
      " [4 5 6]\n",
      " [7 8 9]]\n",
      "array2d[0:3, 0:3] :\n",
      " [[1 2 3]\n",
      " [4 5 6]\n",
      " [7 8 9]]\n",
      "----------------------------------------\n",
      "array2d[:2, 1:] :\n",
      " [[2 3]\n",
      " [5 6]]\n",
      "array2d[0:2, 1:3] :\n",
      " [[2 3]\n",
      " [5 6]]\n",
      "----------------------------------------\n",
      "array2d[:2, 0].shape  : (2,)\n",
      "array2d[0:2, 0].shape : (2,)\n",
      "array2d[:2, 0] :\n",
      " [1 4]\n"
     ]
    }
   ],
   "source": [
    "array2d = array1.reshape(3, 3)\n",
    "print(\"array2d.shape :\", array2d.shape)\n",
    "print(\"array2d type  :\", type(array2d))\n",
    "print(\"array2d :\\n\", array2d)\n",
    "print(\"-\" * 40)\n",
    "print(\"array2d[0:2, 0:2] :\\n\",array2d[0:2, 0:2])\n",
    "print(\"-\" * 40)\n",
    "print(\"array2d[1:3, 0:3] :\\n\",array2d[1:3, 0:3])\n",
    "print(\"-\" * 40)\n",
    "print(\"array2d[1:3, :] :\\n\", array2d[1:3, :])\n",
    "print(\"-\" * 40)\n",
    "print(\"array2d[:, :] :\\n\",array2d[:, :])\n",
    "print(\"array2d[0:3, 0:3] :\\n\",array2d[0:3, 0:3])\n",
    "print(\"-\" * 40)\n",
    "print(\"array2d[:2, 1:] :\\n\",array2d[:2, 1:])\n",
    "print(\"array2d[0:2, 1:3] :\\n\",array2d[0:2, 1:3])\n",
    "print(\"-\" * 40)\n",
    "print(\"array2d[:2, 0].shape  :\",array2d[:2, 0].shape)\n",
    "print(\"array2d[0:2, 0].shape :\",array2d[0:2, 0].shape)\n",
    "print(\"array2d[:2, 0] :\\n\",array2d[:2, 0])"
   ]
  },
  {
   "cell_type": "code",
   "execution_count": 27,
   "id": "cd997e67",
   "metadata": {},
   "outputs": [
    {
     "name": "stdout",
     "output_type": "stream",
     "text": [
      "array2d.shape : (3, 3)\n",
      "array2d type  : <class 'numpy.ndarray'>\n",
      "array2d :\n",
      " [[1 2 3]\n",
      " [4 5 6]\n",
      " [7 8 9]]\n",
      "----------------------------------------\n",
      "array2d[0:2, 0:2] :\n",
      " [[1 2]\n",
      " [4 5]]\n",
      "----------------------------------------\n",
      "array2d[1:3, 0:3] :\n",
      " [[4 5 6]\n",
      " [7 8 9]]\n",
      "----------------------------------------\n",
      "array2d[1:3, :] :\n",
      " [[4 5 6]\n",
      " [7 8 9]]\n",
      "----------------------------------------\n",
      "array2d[:, :] :\n",
      " [[1 2 3]\n",
      " [4 5 6]\n",
      " [7 8 9]]\n",
      "array2d[0:3, 0:3] :\n",
      " [[1 2 3]\n",
      " [4 5 6]\n",
      " [7 8 9]]\n",
      "----------------------------------------\n",
      "array2d[:2, 1:] :\n",
      " [[2 3]\n",
      " [5 6]]\n",
      "array2d[0:2, 1:3] :\n",
      " [[2 3]\n",
      " [5 6]]\n",
      "----------------------------------------\n",
      "array2d[:2, 0].shape  : (2,)\n",
      "array2d[0:2, 0].shape : (2,)\n",
      "array2d[:2, 0] :\n",
      " [1 4]\n"
     ]
    }
   ],
   "source": [
    "array2d = array1.reshape(3, 3)\n",
    "print(\"array2d.shape :\", array2d.shape)\n",
    "print(\"array2d type  :\", type(array2d))\n",
    "print(\"array2d :\\n\", array2d)\n",
    "print(\"-\" * 40)\n",
    "\n",
    "# 1, 2, 행 X 1, 2 열\n",
    "print(\"array2d[0:2, 0:2] :\\n\",array2d[0:2, 0:2])\n",
    "print(\"-\" * 40)\n",
    "\n",
    "# 1, 2 행 X 1, 2, 3 열\n",
    "print(\"array2d[1:3, 0:3] :\\n\",array2d[1:3, 0:3])\n",
    "print(\"-\" * 40)\n",
    "\n",
    "# 1, 2 행 X 1, 2, 3 열 : 시작과 끝을 생략하면 처음부터 끝까지\n",
    "print(\"array2d[1:3, :] :\\n\", array2d[1:3, :])\n",
    "print(\"-\" * 40)\n",
    "\n",
    "# 1, 2, 3 행 X 1, 2, 3 열 : 시작과 끝을 생략하면 처음부터 끝까지\n",
    "print(\"array2d[:, :] :\\n\",array2d[:, :])\n",
    "print(\"array2d[0:3, 0:3] :\\n\",array2d[0:3, 0:3])\n",
    "print(\"-\" * 40)\n",
    "\n",
    "# 1, 2 행 X 2, 3 열\n",
    "print(\"array2d[:2, 1:] :\\n\",array2d[:2, 1:])\n",
    "print(\"array2d[0:2, 1:3] :\\n\",array2d[0:2, 1:3])\n",
    "print(\"-\" * 40)\n",
    "\n",
    "# 1, 2 행 X 1 열 : 열을 하나만 지정하면 1 차원 배열로 됨\n",
    "print(\"array2d[:2, 0].shape  :\",array2d[:2, 0].shape)\n",
    "print(\"array2d[0:2, 0].shape :\",array2d[0:2, 0].shape)\n",
    "print(\"array2d[:2, 0] :\\n\",array2d[:2, 0])"
   ]
  },
  {
   "cell_type": "code",
   "execution_count": null,
   "id": "d3072d1a",
   "metadata": {},
   "outputs": [],
   "source": []
  }
 ],
 "metadata": {
  "kernelspec": {
   "display_name": "Python 3 (ipykernel)",
   "language": "python",
   "name": "python3"
  },
  "language_info": {
   "codemirror_mode": {
    "name": "ipython",
    "version": 3
   },
   "file_extension": ".py",
   "mimetype": "text/x-python",
   "name": "python",
   "nbconvert_exporter": "python",
   "pygments_lexer": "ipython3",
   "version": "3.9.7"
  }
 },
 "nbformat": 4,
 "nbformat_minor": 5
}
