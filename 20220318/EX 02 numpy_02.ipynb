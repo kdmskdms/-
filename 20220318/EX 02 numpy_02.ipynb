{
 "cells": [
  {
   "cell_type": "markdown",
   "id": "4241e1e2",
   "metadata": {},
   "source": [
    "### Fancy indexing"
   ]
  },
  {
   "cell_type": "code",
   "execution_count": 16,
   "id": "e7d00335",
   "metadata": {},
   "outputs": [],
   "source": [
    "import numpy as np "
   ]
  },
  {
   "cell_type": "code",
   "execution_count": 17,
   "id": "0fec02dc",
   "metadata": {},
   "outputs": [
    {
     "name": "stdout",
     "output_type": "stream",
     "text": [
      "range_array: [0 1 2 3 4 5 6 7 8 9]\n",
      "range_array shape: (10,)\n",
      "range_array dtype: int32\n"
     ]
    }
   ],
   "source": [
    "range_array = np.arange(10)\n",
    "print(\"range_array:\",range_array)\n",
    "print(\"range_array shape:\",range_array.shape)\n",
    "print(\"range_array dtype:\",range_array.dtype)"
   ]
  },
  {
   "cell_type": "markdown",
   "id": "a9288d69",
   "metadata": {},
   "source": [
    "### Boolean indexing"
   ]
  },
  {
   "cell_type": "code",
   "execution_count": 19,
   "id": "c519924a",
   "metadata": {},
   "outputs": [
    {
     "name": "stdout",
     "output_type": "stream",
     "text": [
      "[0 1 2 3 4 5 6 7 8 9]\n"
     ]
    }
   ],
   "source": [
    "array1d = np.arange(10)\n",
    "print(array1d)"
   ]
  },
  {
   "cell_type": "code",
   "execution_count": 20,
   "id": "18fca4f3",
   "metadata": {},
   "outputs": [
    {
     "name": "stdout",
     "output_type": "stream",
     "text": [
      "[False False False False False False  True  True  True  True]\n",
      "[False False False False False False  True  True  True  True]\n",
      "result_bool :\n",
      " None\n",
      "result_bool :\n",
      " <class 'NoneType'>\n"
     ]
    }
   ],
   "source": [
    "print(array1d > 5)\n",
    "result_bool = print(array1d > 5)\n",
    "print(\"result_bool :\\n\",result_bool)\n",
    "print(\"result_bool :\\n\",type(result_bool))"
   ]
  },
  {
   "cell_type": "code",
   "execution_count": 21,
   "id": "3f02be9e",
   "metadata": {},
   "outputs": [
    {
     "name": "stdout",
     "output_type": "stream",
     "text": [
      "array1d:\n",
      " [0 1 2 3 4 5 6 7 8 9]\n",
      "array3:\n",
      " [6 7 8 9]\n"
     ]
    }
   ],
   "source": [
    "print(\"array1d:\\n\", array1d)\n",
    "array3 = array1d[array1d > 5]\n",
    "print(\"array3:\\n\", array3)"
   ]
  },
  {
   "cell_type": "code",
   "execution_count": 27,
   "id": "1c265d71",
   "metadata": {},
   "outputs": [
    {
     "ename": "IndexError",
     "evalue": "boolean index did not match indexed array along dimension 0; dimension is 10 but corresponding boolean dimension is 9",
     "output_type": "error",
     "traceback": [
      "\u001b[1;31m---------------------------------------------------------------------------\u001b[0m",
      "\u001b[1;31mIndexError\u001b[0m                                Traceback (most recent call last)",
      "\u001b[1;32mC:\\Users\\KIMDON~1\\AppData\\Local\\Temp/ipykernel_28180/3368787625.py\u001b[0m in \u001b[0;36m<module>\u001b[1;34m\u001b[0m\n\u001b[0;32m      7\u001b[0m  \u001b[1;33m[\u001b[0m\u001b[1;36m0\u001b[0m \u001b[1;36m1\u001b[0m \u001b[1;36m2\u001b[0m \u001b[1;36m3\u001b[0m \u001b[1;36m4\u001b[0m \u001b[1;36m5\u001b[0m \u001b[1;36m6\u001b[0m \u001b[1;36m7\u001b[0m \u001b[1;36m8\u001b[0m \u001b[1;36m9\u001b[0m\u001b[1;33m]\u001b[0m\u001b[1;33m\u001b[0m\u001b[1;33m\u001b[0m\u001b[0m\n\u001b[0;32m      8\u001b[0m '''\n\u001b[1;32m----> 9\u001b[1;33m \u001b[0marray3\u001b[0m \u001b[1;33m=\u001b[0m \u001b[0marray1d\u001b[0m\u001b[1;33m[\u001b[0m\u001b[0mboolean_indexes_array\u001b[0m\u001b[1;33m]\u001b[0m\u001b[1;33m\u001b[0m\u001b[1;33m\u001b[0m\u001b[0m\n\u001b[0m\u001b[0;32m     10\u001b[0m \u001b[0mprint\u001b[0m\u001b[1;33m(\u001b[0m\u001b[1;34m\"array3(boolean_indexing - [array1d > 5]):\\n\"\u001b[0m\u001b[1;33m,\u001b[0m\u001b[0marray3\u001b[0m\u001b[1;33m)\u001b[0m\u001b[1;33m\u001b[0m\u001b[1;33m\u001b[0m\u001b[0m\n",
      "\u001b[1;31mIndexError\u001b[0m: boolean index did not match indexed array along dimension 0; dimension is 10 but corresponding boolean dimension is 9"
     ]
    }
   ],
   "source": [
    "#boolean 값으로 구성된 배열 생성하기\n",
    "#                  --boolean index --\n",
    "boolean_indexes_array = \\\n",
    "    np.array([False, False, False, False, False,  True, True, True, True])\n",
    "'''\n",
    "array1d:(원래의 배열)\n",
    " [0 1 2 3 4 5 6 7 8 9]\n",
    "'''\n",
    "array3 = array1d[boolean_indexes_array]\n",
    "print(\"array3(boolean_indexing - [array1d > 5]):\\n\",array3)"
   ]
  },
  {
   "cell_type": "code",
   "execution_count": 31,
   "id": "305fc24a",
   "metadata": {},
   "outputs": [
    {
     "name": "stdout",
     "output_type": "stream",
     "text": [
      "indexes_array:\n",
      " [5 6 7 8]\n",
      "array4:\n",
      " [6 7 8 9]\n",
      "--------------------------------------------------\n",
      "indexes_array:\n",
      " [5 6 7 8]\n",
      "array5:\n",
      " [6 7 8 9]\n"
     ]
    }
   ],
   "source": [
    "#np.array([5,6,7,8]) <-- index 값(5,6,7,8)으로 이루어진 배열\n",
    "indexes_array = np.array([5,6,7,8])\n",
    "print(\"indexes_array:\\n\",indexes_array)\n",
    "'''\n",
    "array1d:(원래의 배열)\n",
    " [0 1 2 3 4 5 6 7 8 9]\n",
    "'''\n",
    "\n",
    "array4 = array1d[indexes_array]\n",
    "print(\"array4:\\n\",array4)\n",
    "print(\"-\"*50)\n",
    "\n",
    "array1d = np.arange(1,10)\n",
    "print(\"indexes_array:\\n\",indexes_array)\n",
    "array5 = array1d[indexes_array]\n",
    "print(\"array5:\\n\",array5)"
   ]
  },
  {
   "cell_type": "code",
   "execution_count": 34,
   "id": "bf6cc6ed",
   "metadata": {},
   "outputs": [
    {
     "name": "stdout",
     "output_type": "stream",
     "text": [
      "array1d:\n",
      " [1 2 3 4 5 6 7 8 9]\n",
      "result_array:\n",
      " [6 7 8 9]\n",
      "array1d[array1d >5] :\n",
      " [6 7 8 9]\n"
     ]
    }
   ],
   "source": [
    "array1d = np.arange(1,10)\n",
    "print(\"array1d:\\n\", array1d)\n",
    "\n",
    "result = []\n",
    "for i in range(0, 9):\n",
    "    if array1d[i] > 5:\n",
    "        result.append(array1d[i])\n",
    "        \n",
    "result_array = np.array(result)\n",
    "print(\"result_array:\\n\", result_array)\n",
    "\n",
    "print(\"array1d[array1d >5] :\\n\", array1d[array1d>5])"
   ]
  },
  {
   "cell_type": "markdown",
   "id": "740f1411",
   "metadata": {},
   "source": [
    "3 배열(2차원 배열 - 행렬) 정렬하기\n",
    "* sort() 함수 / ndarray 의 sort() 메소드\n",
    "*argsort() 함수"
   ]
  },
  {
   "cell_type": "code",
   "execution_count": 42,
   "id": "4b37befb",
   "metadata": {
    "scrolled": true
   },
   "outputs": [
    {
     "name": "stdout",
     "output_type": "stream",
     "text": [
      "원래의배열 :\n",
      " [3 1 9 5]\n",
      "--------------------------------------------------\n",
      "-- np.sort() 메소드로 정렬하기 :원래의 배열이 변형 안됨\n",
      "-- 정렬된 배열이 새로 생성 됨\n",
      "원래의배열 :\n",
      " [3 1 9 5]\n",
      "sort_array1 :\n",
      " [1 3 5 9]\n",
      "-- ndarray의 sort() 메소드로 정렬하기 :원래의 배열이 변형됨\n",
      "-- 정렬된 배열이 새로 생성 되지 않음\n",
      "원래의배열 :\n",
      " [1 3 5 9]\n",
      "sort_array2 :\n",
      " None\n"
     ]
    }
   ],
   "source": [
    "origin_array = np.array([3,1,9,5])\n",
    "print(\"원래의배열 :\\n\", origin_array)\n",
    "\n",
    "print(\"-\"*50)\n",
    "# np.sort()함수로 정렬하기\n",
    "print(\"-- np.sort() 메소드로 정렬하기 :원래의 배열이 변형 안됨\")\n",
    "print(\"-- 정렬된 배열이 새로 생성 됨\")\n",
    "\n",
    "sort_array1 = np.sort(origin_array)\n",
    "print(\"원래의배열 :\\n\", origin_array)\n",
    "print(\"sort_array1 :\\n\", sort_array1)\n",
    "\n",
    "#ndarray 의 sort() 메소드로 정렬하기\n",
    "print(\"-- ndarray의 sort() 메소드로 정렬하기 :원래의 배열이 변형됨\")\n",
    "print(\"-- 정렬된 배열이 새로 생성 되지 않음\")\n",
    "\n",
    "sort_array2 = origin_array.sort()\n",
    "print(\"원래의배열 :\\n\", origin_array)\n",
    "print(\"sort_array2 :\\n\", sort_array2)"
   ]
  },
  {
   "cell_type": "markdown",
   "id": "6836b0a5",
   "metadata": {},
   "source": [
    "* 내림차순으로 정렬하기 - slicing(step : -1)"
   ]
  },
  {
   "cell_type": "code",
   "execution_count": 43,
   "id": "7b2ae0ef",
   "metadata": {},
   "outputs": [
    {
     "name": "stdout",
     "output_type": "stream",
     "text": [
      "sort_array1_descending:\n",
      " [9 5 3 1]\n"
     ]
    }
   ],
   "source": [
    "# np.sort() 함수로 내림차순 정렬하기\n",
    "sort_array1_descending = np.sort(origin_array)[::-1]\n",
    "print(\"sort_array1_descending:\\n\",sort_array1_descending)"
   ]
  },
  {
   "cell_type": "markdown",
   "id": "568a7e95",
   "metadata": {},
   "source": [
    "* 2차원 배열 행방향 정렬 / 열방향 정렬\n",
    "* axis = 0 : 행방향      \n",
    "* axis = 1 : 열방향"
   ]
  },
  {
   "cell_type": "code",
   "execution_count": 47,
   "id": "7acf9020",
   "metadata": {},
   "outputs": [
    {
     "name": "stdout",
     "output_type": "stream",
     "text": [
      "행방향(행이 축이 됨) 정렬:\n",
      " [[ 5  2]\n",
      " [ 8 20]]\n",
      "열방향(열이 축이 됨) 정렬 :\n",
      " [[ 8 20]\n",
      " [ 2  5]]\n"
     ]
    }
   ],
   "source": [
    "array2d = np.array([[8, 20],\n",
    "                    [5, 2]])\n",
    "sort_array2d_row = np.sort(array2d, axis=0)\n",
    "print(\"행방향(행이 축이 됨) 정렬:\\n\", sort_array2d_row)\n",
    "\n",
    "sort_array2d_col = np.sort(array2d, axis=1)\n",
    "print(\"열방향(열이 축이 됨) 정렬 :\\n\", sort_array2d_col)"
   ]
  },
  {
   "cell_type": "markdown",
   "id": "185c4b06",
   "metadata": {},
   "source": [
    "* argsort()"
   ]
  },
  {
   "cell_type": "code",
   "execution_count": 53,
   "id": "c8077edd",
   "metadata": {},
   "outputs": [
    {
     "name": "stdout",
     "output_type": "stream",
     "text": [
      "원래의배열 :\n",
      " [3 1 9 5]\n",
      "원래의 index :\n",
      " [0 1 2 3]\n",
      "sort_array(정렬된 숫자들):\n",
      " [1 3 5 9]\n",
      "argsort_indexes_array(정렬되기 전 숫자들의 index) :\n",
      " [1 0 3 2]\n"
     ]
    }
   ],
   "source": [
    "origin_array = np.array([3,1,9,5])\n",
    "print(\"원래의배열 :\\n\", origin_array)\n",
    "print(\"원래의 index :\\n\", np.array([0,1,2,3]))\n",
    "\n",
    "sort_array = np.sort(origin_array)\n",
    "print(\"sort_array(정렬된 숫자들):\\n\", sort_array)\n",
    "argsort_indexes_array = np.argsort(origin_array)\n",
    "print(\"argsort_indexes_array(정렬되기 전 숫자들의 index) :\\n\",argsort_indexes_array)"
   ]
  },
  {
   "cell_type": "code",
   "execution_count": 61,
   "id": "eda34f76",
   "metadata": {},
   "outputs": [
    {
     "name": "stdout",
     "output_type": "stream",
     "text": [
      "원래의 행렬:\n",
      " [6 3 8 2]\n",
      "원래의 인덱스:\n",
      " [0 1 2 3]\n",
      "내림차순 정렬 :\n",
      " [8 6 3 2]\n",
      "인덱스가 정렬전 숫자들의 자리에 재배치된 인덱스\n",
      "정렬 전 인덱스 :\n",
      " [2 0 1 3]\n"
     ]
    }
   ],
   "source": [
    "origin_array = np.array([6,3,8,2])\n",
    "print(\"원래의 행렬:\\n\", origin_array)\n",
    "print(\"원래의 인덱스:\\n\", np.array([0,1,2,3]))\n",
    "print(\"내림차순 정렬 :\\n\",np.sort(origin_array)[::-1])\n",
    "print(\"인덱스가 정렬전 숫자들의 자리에 재배치된 인덱스\")\n",
    "print(\"정렬 전 인덱스 :\\n\",np.argsort(origin_array)[::-1])"
   ]
  },
  {
   "cell_type": "code",
   "execution_count": 81,
   "id": "e69be3be",
   "metadata": {},
   "outputs": [
    {
     "name": "stdout",
     "output_type": "stream",
     "text": [
      "score_array(원본):\n",
      " [85 92 84 99 76]\n",
      "원본 인덱스 :\n",
      " [0 1 2 3 4]\n",
      "sort_scor(정렬) :\n",
      " [76 84 85 92 99]\n",
      "sort_indexes :\n",
      " [4 2 0 1 3]\n",
      "----------------------------------------\n",
      "-- 성적 오름차순으로 이름 출력하기 --\n",
      "['안중근' '대조영' '이순신' '강감찬' '유관순']\n",
      "----------------------------------------\n",
      "-- 성적 내림차순으로 이름 출력하기 --\n",
      "['유관순' '강감찬' '이순신' '대조영' '안중근']\n",
      "----------------------------------------\n"
     ]
    }
   ],
   "source": [
    "student_array = np.array([\"이순신\", \"강감찬\", \"대조영\", \"유관순\", \"안중근\"])\n",
    "score_array = np.array([85, 92, 84, 99, 76])\n",
    "\n",
    "print(\"score_array(원본):\\n\",score_array)\n",
    "print(\"원본 인덱스 :\\n\", np.array([0,1,2,3,4]))\n",
    "sort_score = np.sort(score_array)\n",
    "print(\"sort_scor(정렬) :\\n\", sort_score)\n",
    "sort_indexes = np.argsort(score_array)\n",
    "print(\"sort_indexes :\\n\",sort_indexes)\n",
    "print(\"-\"*40)\n",
    "\n",
    "#성적 오름차순으로 이름 출력하기\n",
    "print(\"-- 성적 오름차순으로 이름 출력하기 --\")\n",
    "print(student_array[sort_indexes])\n",
    "print(\"-\"*40)\n",
    "\n",
    "#성적 내림차순으로 이름 출력하기\n",
    "print(\"-- 성적 내림차순으로 이름 출력하기 --\")\n",
    "sort_indexes_descending = np.argsort(score_array)[::-1]\n",
    "print(student_array[sort_indexes_descending])\n",
    "print(\"-\"*40)"
   ]
  },
  {
   "cell_type": "code",
   "execution_count": 71,
   "id": "1ff463e4",
   "metadata": {},
   "outputs": [
    {
     "name": "stdout",
     "output_type": "stream",
     "text": [
      "[1 2 3 4 5 6 7 8 9]\n",
      "[6 7 8 9]\n"
     ]
    }
   ],
   "source": [
    "array1 = np.arange(1,10)\n",
    "print(array1)\n",
    "print(array1[np.array([5,6,7,8])])"
   ]
  },
  {
   "cell_type": "markdown",
   "id": "c79b0df1",
   "metadata": {},
   "source": [
    "4 행렬의 합(내적) 구하기 np.dot(행렬1, 행렬2) 함수"
   ]
  },
  {
   "cell_type": "code",
   "execution_count": 86,
   "id": "c7be2980",
   "metadata": {},
   "outputs": [
    {
     "name": "stdout",
     "output_type": "stream",
     "text": [
      "행렬의 내적 :\n",
      " [[ 58  64]\n",
      " [139 154]]\n"
     ]
    }
   ],
   "source": [
    "array_a = np.array([[1,2,3],\n",
    "                    [4,5,6]])\n",
    "array_b = np.array([[7, 8],\n",
    "                    [9,10],\n",
    "                    [11,12]])\n",
    "product_array = np.dot(array_a, array_b)\n",
    "print(\"행렬의 내적 :\\n\",product_array)"
   ]
  },
  {
   "cell_type": "markdown",
   "id": "cac78a1e",
   "metadata": {},
   "source": [
    "5 전치 행렬 구하기 (transposed matrix) - np.transpose(행렬) 함수 사용"
   ]
  },
  {
   "cell_type": "code",
   "execution_count": 89,
   "id": "6750d0c0",
   "metadata": {},
   "outputs": [
    {
     "name": "stdout",
     "output_type": "stream",
     "text": [
      "array_a:\n",
      " [[1 2]\n",
      " [3 4]\n",
      " [5 6]]\n",
      "array_a 의 전치행렬:\n",
      " [[1 3 5]\n",
      " [2 4 6]]\n"
     ]
    }
   ],
   "source": [
    "array_a = np.array([[1, 2],\n",
    "                    [3, 4], \n",
    "                    [5, 6]])\n",
    "print(\"array_a:\\n\",array_a)\n",
    "transpose_matrix = np.transpose(array_a)\n",
    "print(\"array_a 의 전치행렬:\\n\", transpose_matrix)"
   ]
  },
  {
   "cell_type": "code",
   "execution_count": 92,
   "id": "9805ad4f",
   "metadata": {},
   "outputs": [
    {
     "name": "stdout",
     "output_type": "stream",
     "text": [
      "array_a\n",
      ": [[1 2 3]\n",
      " [4 5 6]\n",
      " [7 8 9]]\n",
      "array_a 의 전치행렬:\n",
      " [[1 4 7]\n",
      " [2 5 8]\n",
      " [3 6 9]]\n"
     ]
    }
   ],
   "source": [
    "array_a = np.array([[1,2,3],\n",
    "                    [4,5,6],\n",
    "                    [7,8,9]])\n",
    "print(\"array_a\\n:\",array_a)\n",
    "transpose_matrix = np.transpose(array_a)\n",
    "print(\"array_a 의 전치행렬:\\n\", transpose_matrix)"
   ]
  },
  {
   "cell_type": "code",
   "execution_count": null,
   "id": "cb946d5c",
   "metadata": {},
   "outputs": [],
   "source": []
  },
  {
   "cell_type": "code",
   "execution_count": null,
   "id": "8c29c65b",
   "metadata": {},
   "outputs": [],
   "source": []
  }
 ],
 "metadata": {
  "kernelspec": {
   "display_name": "Python 3 (ipykernel)",
   "language": "python",
   "name": "python3"
  },
  "language_info": {
   "codemirror_mode": {
    "name": "ipython",
    "version": 3
   },
   "file_extension": ".py",
   "mimetype": "text/x-python",
   "name": "python",
   "nbconvert_exporter": "python",
   "pygments_lexer": "ipython3",
   "version": "3.9.7"
  }
 },
 "nbformat": 4,
 "nbformat_minor": 5
}
