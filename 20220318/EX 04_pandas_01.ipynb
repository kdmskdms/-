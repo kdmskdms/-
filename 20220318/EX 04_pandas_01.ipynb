{
 "cells": [
  {
   "cell_type": "markdown",
   "id": "b5fa6842",
   "metadata": {},
   "source": [
    "### Pandas\n",
    "* DataFrame 클래스\n",
    "* Series 클래스"
   ]
  },
  {
   "cell_type": "code",
   "execution_count": null,
   "id": "2a58db4b",
   "metadata": {},
   "outputs": [],
   "source": [
    "import pandas as pd"
   ]
  },
  {
   "cell_type": "markdown",
   "id": "17f59fb4",
   "metadata": {},
   "source": [
    "#### read.csv() : csv 파일을 읽어서 DataFrame 객체로 생성함"
   ]
  },
  {
   "cell_type": "code",
   "execution_count": null,
   "id": "ecdc6950",
   "metadata": {},
   "outputs": [],
   "source": [
    "'''\n",
    "Survied --> 0이면 사망, 1이면 생존 -> int64\n",
    "Pclass -> 티켓 등급 : 1,2,3*int64\n",
    "Name -> 승객이름 : Surname, Title. Firstname -> object\n",
    "Sex -> 성별 : male, female -> object\n",
    "Age -> 승객의 나이 -> float64\n",
    "Sibsp -> 형제, 자매, 배우자의 합 -> int64\n",
    "Parch -> 부모, 자식의 합 -> int64\n",
    "Ticket -> 티켓의 번호 -> object\n",
    "Fare -> 요금 float64\n",
    "Cabin -> 객실의 번호 -> object\n",
    "Embarked -> 선착장 : C(Cherbourg), Q(Queenstown), S(southampton) -> object\n",
    "'''"
   ]
  },
  {
   "cell_type": "code",
   "execution_count": null,
   "id": "f0219d01",
   "metadata": {},
   "outputs": [],
   "source": [
    "titanic_df = pd.read_csv(\"titanic_train.csv\")\n",
    "print(\"titanic 변수 타입:\", type(titanic_df))"
   ]
  },
  {
   "cell_type": "markdown",
   "id": "00a24965",
   "metadata": {},
   "source": [
    "* head() 메소드\n",
    "* DataFrame 의 상위 5개의 data를 추출함"
   ]
  },
  {
   "cell_type": "code",
   "execution_count": null,
   "id": "a7b25b7f",
   "metadata": {},
   "outputs": [],
   "source": [
    "titanic_df.head(5)"
   ]
  },
  {
   "cell_type": "code",
   "execution_count": null,
   "id": "f4922f2b",
   "metadata": {
    "scrolled": true
   },
   "outputs": [],
   "source": [
    "titanic_df.head(10)"
   ]
  },
  {
   "cell_type": "markdown",
   "id": "cf084e07",
   "metadata": {},
   "source": [
    "* dictionary 에 있는 data를 DataFrame 으로 변환하기\n",
    "* DataFrame 객체를 생성하면서 argument로 dictionary를 지정해 주면됨"
   ]
  },
  {
   "cell_type": "code",
   "execution_count": null,
   "id": "23fd4220",
   "metadata": {},
   "outputs": [],
   "source": [
    "dict1 = {\"name\":[\"이순신\", \"안중근\", \"유관순\", \"글로벌\"],\n",
    "         \"birth\":[1545, 1879, 1901, 2010],\n",
    "         \"gender\":[\"남자\", \"여자\", \"여자\", \"여자\"]\n",
    "         }\n",
    "info_df = pd.DataFrame(dict1)\n",
    "print(dict1[\"name\"])\n",
    "info_df"
   ]
  },
  {
   "cell_type": "code",
   "execution_count": null,
   "id": "b91280a3",
   "metadata": {},
   "outputs": [],
   "source": [
    "# 컬럼명 추가하기\n",
    "info_df = pd.DataFrame(dict1, columns = [\"name\", \"birth\", \"gender\", \"age\"])\n",
    "info_df"
   ]
  },
  {
   "cell_type": "code",
   "execution_count": null,
   "id": "d5b69d13",
   "metadata": {},
   "outputs": [],
   "source": [
    "# 인덱스명 설정하기\n",
    "info_df = pd.DataFrame(dict1, index=[\"one\", \"two\", \"three\", \"four\"])\n",
    "info_df"
   ]
  },
  {
   "cell_type": "markdown",
   "id": "dca31f19",
   "metadata": {},
   "source": [
    "* DataFrame의 column 명 / index"
   ]
  },
  {
   "cell_type": "code",
   "execution_count": null,
   "id": "c8795d2e",
   "metadata": {},
   "outputs": [],
   "source": [
    "# titanic_df\n",
    "print(\"columns:\\n\", titanic_df.columns)"
   ]
  },
  {
   "cell_type": "code",
   "execution_count": null,
   "id": "d11c39f0",
   "metadata": {},
   "outputs": [],
   "source": [
    "print(\"index:\\n\",titanic_df.index)"
   ]
  },
  {
   "cell_type": "code",
   "execution_count": null,
   "id": "4fb56d20",
   "metadata": {},
   "outputs": [],
   "source": [
    "# 0 ~ 890\n",
    "print(\"index 값:\\n\", titanic_df.index.values)"
   ]
  },
  {
   "cell_type": "markdown",
   "id": "e5d8ef71",
   "metadata": {},
   "source": [
    "### Series\n",
    "* DataFrame 에서 Series 추출하기"
   ]
  },
  {
   "cell_type": "code",
   "execution_count": null,
   "id": "34b6cd5f",
   "metadata": {},
   "outputs": [],
   "source": [
    "series_name = titanic_df[\"Name\"]\n",
    "series_name\n",
    "series_name.head()\n"
   ]
  },
  {
   "cell_type": "code",
   "execution_count": null,
   "id": "4e089340",
   "metadata": {
    "scrolled": true
   },
   "outputs": [],
   "source": [
    "#DataFrame 에서 [] 속에 컬럼명 두 개를 지정해서 DataFrame로 추출하기\n",
    "#                          ㄴ [컬럼명][(\"Name\")]로 지정\n",
    "df_name = titanic_df[[\"Name\"]]\n",
    "df_name\n",
    "df_name.head()\n",
    "print(\"df_name:\", type(df_name))\n",
    "df_name.head()"
   ]
  },
  {
   "cell_type": "code",
   "execution_count": null,
   "id": "afdcada8",
   "metadata": {},
   "outputs": [],
   "source": [
    "# DataFrame 에서 [] 속에 컬럼명 두 개를 지정해서 DataFrame 로 추출하기\n",
    "#                          ㄴ [\"컬럼명\", \"컬럼명\"][(\"Name\", \"Age\")]로 지정\n",
    "df_name = titanic_df[[\"Name\", \"Age\"]]\n",
    "df_name\n",
    "df_name.head()\n",
    "print(\"df_name:\", type(df_name))\n",
    "df_name.head()"
   ]
  },
  {
   "cell_type": "markdown",
   "id": "b8922235",
   "metadata": {},
   "source": [
    "* shape : DataFrame 의 행(row)과 열(column)을 알려줌"
   ]
  },
  {
   "cell_type": "code",
   "execution_count": null,
   "id": "f0323082",
   "metadata": {},
   "outputs": [],
   "source": [
    "print(\"titanic_df의 shape:\", titanic_df.shape)"
   ]
  },
  {
   "cell_type": "markdown",
   "id": "7e041388",
   "metadata": {},
   "source": [
    "* info() 메소드 : DataFrame 의 data 건수(행의 개수), 컬럼 개수, 컬럼 이름,\n",
    "데이터 타입, Null(결측치), 건수"
   ]
  },
  {
   "cell_type": "code",
   "execution_count": null,
   "id": "dfbe0c99",
   "metadata": {},
   "outputs": [],
   "source": [
    "titanic_df.info()"
   ]
  },
  {
   "cell_type": "markdown",
   "id": "53151e67",
   "metadata": {},
   "source": [
    "* describe() 메소드 : 데이터값들의 개수(count), 평균(mean), <br>표준편차(std) 4분위 분포도(최저값, 25%, 50%, 75%, 최고값)을 제공함"
   ]
  },
  {
   "cell_type": "code",
   "execution_count": null,
   "id": "57c8c476",
   "metadata": {},
   "outputs": [],
   "source": [
    "titanic_df.describe()"
   ]
  },
  {
   "cell_type": "markdown",
   "id": "177550f4",
   "metadata": {},
   "source": [
    "* value_counts() 메소드 : 같은 데이터값들이 몇 건 있는지 정보를 제공해 줌\n",
    "* ㄴ 개별 데이터 값들의 분포도를 알 수 있음\n",
    "* DataFrame 클래스의 메소드가 아니고, Series 클래스의 메소드이기 때문에\n",
    "* DataFrame 에서 Series 를 추출해서 호출해야 함"
   ]
  },
  {
   "cell_type": "code",
   "execution_count": null,
   "id": "48f61abb",
   "metadata": {
    "scrolled": true
   },
   "outputs": [],
   "source": [
    "value_counts = titanic_df[\"pclass\"].value_counts()\n",
    "print(\"value_counts:\\n\",value_counts,sep=\"\")\n",
    "print(\"titanic_df[\\\"Pclass\\\"]의 타입:\", type(titanic_df[\"Pclass\"]))"
   ]
  },
  {
   "cell_type": "code",
   "execution_count": null,
   "id": "3121fb86",
   "metadata": {},
   "outputs": [],
   "source": [
    "#seies\n",
    "titanic_df[\"Pclass\"].head()"
   ]
  },
  {
   "cell_type": "markdown",
   "id": "e83cce65",
   "metadata": {},
   "source": [
    "* sort_values() 메소드 (DataFrame 클래스의 메소드) : 원본이 변형되지 않고 정렬된 새로운 DataFrame 객체를 생성함\n",
    "* parameter : by=정렬할 컬럼, ascending=True(오름차순)/False(내림차순)"
   ]
  },
  {
   "cell_type": "code",
   "execution_count": null,
   "id": "407797ed",
   "metadata": {},
   "outputs": [],
   "source": [
    "titanic_df.head()"
   ]
  },
  {
   "cell_type": "code",
   "execution_count": null,
   "id": "df2da204",
   "metadata": {},
   "outputs": [],
   "source": [
    "titanic_df.sort_values(by=\"Pclass\", ascending=True"
   ]
  },
  {
   "cell_type": "code",
   "execution_count": null,
   "id": "e4e4f2ee",
   "metadata": {},
   "outputs": [],
   "source": [
    "titanic_df.sort_values(by=\"Pclass\", ascending=False)"
   ]
  },
  {
   "cell_type": "code",
   "execution_count": null,
   "id": "e8cb5117",
   "metadata": {},
   "outputs": [],
   "source": [
    "titanic_df.head()"
   ]
  },
  {
   "cell_type": "code",
   "execution_count": 52,
   "id": "fbc4c472",
   "metadata": {},
   "outputs": [
    {
     "data": {
      "text/html": [
       "<div>\n",
       "<style scoped>\n",
       "    .dataframe tbody tr th:only-of-type {\n",
       "        vertical-align: middle;\n",
       "    }\n",
       "\n",
       "    .dataframe tbody tr th {\n",
       "        vertical-align: top;\n",
       "    }\n",
       "\n",
       "    .dataframe thead th {\n",
       "        text-align: right;\n",
       "    }\n",
       "</style>\n",
       "<table border=\"1\" class=\"dataframe\">\n",
       "  <thead>\n",
       "    <tr style=\"text-align: right;\">\n",
       "      <th></th>\n",
       "      <th>Name</th>\n",
       "      <th>Age</th>\n",
       "    </tr>\n",
       "  </thead>\n",
       "  <tbody>\n",
       "    <tr>\n",
       "      <th>803</th>\n",
       "      <td>Thomas, Master. Assad Alexander</td>\n",
       "      <td>0.42</td>\n",
       "    </tr>\n",
       "    <tr>\n",
       "      <th>755</th>\n",
       "      <td>Hamalainen, Master. Viljo</td>\n",
       "      <td>0.67</td>\n",
       "    </tr>\n",
       "    <tr>\n",
       "      <th>644</th>\n",
       "      <td>Baclini, Miss. Eugenie</td>\n",
       "      <td>0.75</td>\n",
       "    </tr>\n",
       "    <tr>\n",
       "      <th>469</th>\n",
       "      <td>Baclini, Miss. Helene Barbara</td>\n",
       "      <td>0.75</td>\n",
       "    </tr>\n",
       "    <tr>\n",
       "      <th>78</th>\n",
       "      <td>Caldwell, Master. Alden Gates</td>\n",
       "      <td>0.83</td>\n",
       "    </tr>\n",
       "    <tr>\n",
       "      <th>...</th>\n",
       "      <td>...</td>\n",
       "      <td>...</td>\n",
       "    </tr>\n",
       "    <tr>\n",
       "      <th>859</th>\n",
       "      <td>Razi, Mr. Raihed</td>\n",
       "      <td>NaN</td>\n",
       "    </tr>\n",
       "    <tr>\n",
       "      <th>863</th>\n",
       "      <td>Sage, Miss. Dorothy Edith \"Dolly\"</td>\n",
       "      <td>NaN</td>\n",
       "    </tr>\n",
       "    <tr>\n",
       "      <th>868</th>\n",
       "      <td>van Melkebeke, Mr. Philemon</td>\n",
       "      <td>NaN</td>\n",
       "    </tr>\n",
       "    <tr>\n",
       "      <th>878</th>\n",
       "      <td>Laleff, Mr. Kristo</td>\n",
       "      <td>NaN</td>\n",
       "    </tr>\n",
       "    <tr>\n",
       "      <th>888</th>\n",
       "      <td>Johnston, Miss. Catherine Helen \"Carrie\"</td>\n",
       "      <td>NaN</td>\n",
       "    </tr>\n",
       "  </tbody>\n",
       "</table>\n",
       "<p>891 rows × 2 columns</p>\n",
       "</div>"
      ],
      "text/plain": [
       "                                         Name   Age\n",
       "803           Thomas, Master. Assad Alexander  0.42\n",
       "755                 Hamalainen, Master. Viljo  0.67\n",
       "644                    Baclini, Miss. Eugenie  0.75\n",
       "469             Baclini, Miss. Helene Barbara  0.75\n",
       "78              Caldwell, Master. Alden Gates  0.83\n",
       "..                                        ...   ...\n",
       "859                          Razi, Mr. Raihed   NaN\n",
       "863         Sage, Miss. Dorothy Edith \"Dolly\"   NaN\n",
       "868               van Melkebeke, Mr. Philemon   NaN\n",
       "878                        Laleff, Mr. Kristo   NaN\n",
       "888  Johnston, Miss. Catherine Helen \"Carrie\"   NaN\n",
       "\n",
       "[891 rows x 2 columns]"
      ]
     },
     "execution_count": 52,
     "metadata": {},
     "output_type": "execute_result"
    }
   ],
   "source": [
    "# 두 개의 컬럼을 추출하는데 정렬 컬럼 하나만 지정하기\n",
    "# 원본데이터프레임 이름[[\"컬럼1, 컬럼2\"]].sort_values(by=정렬기준칼럼)\n",
    "\n",
    "titanic_df[[\"Name\", \"Age\"]].sort_values(by=\"Age\")"
   ]
  },
  {
   "cell_type": "code",
   "execution_count": 54,
   "id": "50ddef8e",
   "metadata": {},
   "outputs": [],
   "source": [
    "#titanic_df[[\"Name\", \"Age\"]].sort_values(by=\"Age\",ascending=False)"
   ]
  },
  {
   "cell_type": "code",
   "execution_count": 55,
   "id": "828e9e4d",
   "metadata": {},
   "outputs": [
    {
     "data": {
      "text/html": [
       "<div>\n",
       "<style scoped>\n",
       "    .dataframe tbody tr th:only-of-type {\n",
       "        vertical-align: middle;\n",
       "    }\n",
       "\n",
       "    .dataframe tbody tr th {\n",
       "        vertical-align: top;\n",
       "    }\n",
       "\n",
       "    .dataframe thead th {\n",
       "        text-align: right;\n",
       "    }\n",
       "</style>\n",
       "<table border=\"1\" class=\"dataframe\">\n",
       "  <thead>\n",
       "    <tr style=\"text-align: right;\">\n",
       "      <th></th>\n",
       "      <th>Name</th>\n",
       "      <th>Age</th>\n",
       "      <th>Pclass</th>\n",
       "    </tr>\n",
       "  </thead>\n",
       "  <tbody>\n",
       "    <tr>\n",
       "      <th>305</th>\n",
       "      <td>Allison, Master. Hudson Trevor</td>\n",
       "      <td>0.92</td>\n",
       "      <td>1</td>\n",
       "    </tr>\n",
       "    <tr>\n",
       "      <th>297</th>\n",
       "      <td>Allison, Miss. Helen Loraine</td>\n",
       "      <td>2.00</td>\n",
       "      <td>1</td>\n",
       "    </tr>\n",
       "    <tr>\n",
       "      <th>445</th>\n",
       "      <td>Dodge, Master. Washington</td>\n",
       "      <td>4.00</td>\n",
       "      <td>1</td>\n",
       "    </tr>\n",
       "    <tr>\n",
       "      <th>802</th>\n",
       "      <td>Carter, Master. William Thornton II</td>\n",
       "      <td>11.00</td>\n",
       "      <td>1</td>\n",
       "    </tr>\n",
       "    <tr>\n",
       "      <th>435</th>\n",
       "      <td>Carter, Miss. Lucile Polk</td>\n",
       "      <td>14.00</td>\n",
       "      <td>1</td>\n",
       "    </tr>\n",
       "    <tr>\n",
       "      <th>...</th>\n",
       "      <td>...</td>\n",
       "      <td>...</td>\n",
       "      <td>...</td>\n",
       "    </tr>\n",
       "    <tr>\n",
       "      <th>859</th>\n",
       "      <td>Razi, Mr. Raihed</td>\n",
       "      <td>NaN</td>\n",
       "      <td>3</td>\n",
       "    </tr>\n",
       "    <tr>\n",
       "      <th>863</th>\n",
       "      <td>Sage, Miss. Dorothy Edith \"Dolly\"</td>\n",
       "      <td>NaN</td>\n",
       "      <td>3</td>\n",
       "    </tr>\n",
       "    <tr>\n",
       "      <th>868</th>\n",
       "      <td>van Melkebeke, Mr. Philemon</td>\n",
       "      <td>NaN</td>\n",
       "      <td>3</td>\n",
       "    </tr>\n",
       "    <tr>\n",
       "      <th>878</th>\n",
       "      <td>Laleff, Mr. Kristo</td>\n",
       "      <td>NaN</td>\n",
       "      <td>3</td>\n",
       "    </tr>\n",
       "    <tr>\n",
       "      <th>888</th>\n",
       "      <td>Johnston, Miss. Catherine Helen \"Carrie\"</td>\n",
       "      <td>NaN</td>\n",
       "      <td>3</td>\n",
       "    </tr>\n",
       "  </tbody>\n",
       "</table>\n",
       "<p>891 rows × 3 columns</p>\n",
       "</div>"
      ],
      "text/plain": [
       "                                         Name    Age  Pclass\n",
       "305            Allison, Master. Hudson Trevor   0.92       1\n",
       "297              Allison, Miss. Helen Loraine   2.00       1\n",
       "445                 Dodge, Master. Washington   4.00       1\n",
       "802       Carter, Master. William Thornton II  11.00       1\n",
       "435                 Carter, Miss. Lucile Polk  14.00       1\n",
       "..                                        ...    ...     ...\n",
       "859                          Razi, Mr. Raihed    NaN       3\n",
       "863         Sage, Miss. Dorothy Edith \"Dolly\"    NaN       3\n",
       "868               van Melkebeke, Mr. Philemon    NaN       3\n",
       "878                        Laleff, Mr. Kristo    NaN       3\n",
       "888  Johnston, Miss. Catherine Helen \"Carrie\"    NaN       3\n",
       "\n",
       "[891 rows x 3 columns]"
      ]
     },
     "execution_count": 55,
     "metadata": {},
     "output_type": "execute_result"
    }
   ],
   "source": [
    "# 세 개의 컬럼을 추출하는데 정렬 컬럼 두개만 지정하기\n",
    "# 원본데이터프레임 이름[[\"컬럼1, 컬럼2\",\"컬럼3\"]].sort_values(by=[\"정렬기준칼럼1\", \"정렬기준칼럼2\"])\n",
    "#\"정렬기준칼럼1\"으로 grouping 한 후 \"정렬기준컬럼2\"으로 정렬함\n",
    "titanic_df[[\"Name\", \"Age\", \"Pclass\"]].sort_values(by=[\"Pclass\", \"Age\"])"
   ]
  },
  {
   "cell_type": "markdown",
   "id": "dd3c4683",
   "metadata": {},
   "source": [
    "* DataFrame / list / dictionary / np.ndarray 서로 변환하기"
   ]
  },
  {
   "cell_type": "code",
   "execution_count": 60,
   "id": "af8949b3",
   "metadata": {},
   "outputs": [
    {
     "data": {
      "text/html": [
       "<div>\n",
       "<style scoped>\n",
       "    .dataframe tbody tr th:only-of-type {\n",
       "        vertical-align: middle;\n",
       "    }\n",
       "\n",
       "    .dataframe tbody tr th {\n",
       "        vertical-align: top;\n",
       "    }\n",
       "\n",
       "    .dataframe thead th {\n",
       "        text-align: right;\n",
       "    }\n",
       "</style>\n",
       "<table border=\"1\" class=\"dataframe\">\n",
       "  <thead>\n",
       "    <tr style=\"text-align: right;\">\n",
       "      <th></th>\n",
       "      <th>Name</th>\n",
       "      <th>Age</th>\n",
       "      <th>Pclass</th>\n",
       "    </tr>\n",
       "  </thead>\n",
       "  <tbody>\n",
       "    <tr>\n",
       "      <th>305</th>\n",
       "      <td>Allison, Master. Hudson Trevor</td>\n",
       "      <td>0.92</td>\n",
       "      <td>1</td>\n",
       "    </tr>\n",
       "    <tr>\n",
       "      <th>297</th>\n",
       "      <td>Allison, Miss. Helen Loraine</td>\n",
       "      <td>2.00</td>\n",
       "      <td>1</td>\n",
       "    </tr>\n",
       "    <tr>\n",
       "      <th>445</th>\n",
       "      <td>Dodge, Master. Washington</td>\n",
       "      <td>4.00</td>\n",
       "      <td>1</td>\n",
       "    </tr>\n",
       "    <tr>\n",
       "      <th>802</th>\n",
       "      <td>Carter, Master. William Thornton II</td>\n",
       "      <td>11.00</td>\n",
       "      <td>1</td>\n",
       "    </tr>\n",
       "    <tr>\n",
       "      <th>435</th>\n",
       "      <td>Carter, Miss. Lucile Polk</td>\n",
       "      <td>14.00</td>\n",
       "      <td>1</td>\n",
       "    </tr>\n",
       "    <tr>\n",
       "      <th>...</th>\n",
       "      <td>...</td>\n",
       "      <td>...</td>\n",
       "      <td>...</td>\n",
       "    </tr>\n",
       "    <tr>\n",
       "      <th>859</th>\n",
       "      <td>Razi, Mr. Raihed</td>\n",
       "      <td>NaN</td>\n",
       "      <td>3</td>\n",
       "    </tr>\n",
       "    <tr>\n",
       "      <th>863</th>\n",
       "      <td>Sage, Miss. Dorothy Edith \"Dolly\"</td>\n",
       "      <td>NaN</td>\n",
       "      <td>3</td>\n",
       "    </tr>\n",
       "    <tr>\n",
       "      <th>868</th>\n",
       "      <td>van Melkebeke, Mr. Philemon</td>\n",
       "      <td>NaN</td>\n",
       "      <td>3</td>\n",
       "    </tr>\n",
       "    <tr>\n",
       "      <th>878</th>\n",
       "      <td>Laleff, Mr. Kristo</td>\n",
       "      <td>NaN</td>\n",
       "      <td>3</td>\n",
       "    </tr>\n",
       "    <tr>\n",
       "      <th>888</th>\n",
       "      <td>Johnston, Miss. Catherine Helen \"Carrie\"</td>\n",
       "      <td>NaN</td>\n",
       "      <td>3</td>\n",
       "    </tr>\n",
       "  </tbody>\n",
       "</table>\n",
       "<p>891 rows × 3 columns</p>\n",
       "</div>"
      ],
      "text/plain": [
       "                                         Name    Age  Pclass\n",
       "305            Allison, Master. Hudson Trevor   0.92       1\n",
       "297              Allison, Miss. Helen Loraine   2.00       1\n",
       "445                 Dodge, Master. Washington   4.00       1\n",
       "802       Carter, Master. William Thornton II  11.00       1\n",
       "435                 Carter, Miss. Lucile Polk  14.00       1\n",
       "..                                        ...    ...     ...\n",
       "859                          Razi, Mr. Raihed    NaN       3\n",
       "863         Sage, Miss. Dorothy Edith \"Dolly\"    NaN       3\n",
       "868               van Melkebeke, Mr. Philemon    NaN       3\n",
       "878                        Laleff, Mr. Kristo    NaN       3\n",
       "888  Johnston, Miss. Catherine Helen \"Carrie\"    NaN       3\n",
       "\n",
       "[891 rows x 3 columns]"
      ]
     },
     "execution_count": 60,
     "metadata": {},
     "output_type": "execute_result"
    }
   ],
   "source": [
    "titanic_df[[\"Name\", \"Age\",\"Pclass\"]].sort_values(by=[\"Pclass\",\"Age\"], ascending=[False, False])\n",
    "titanic_df[[\"Name\", \"Age\",\"Pclass\"]].sort_values(by=[\"Pclass\",\"Age\"], ascending=[True, False])\n",
    "titanic_df[[\"Name\", \"Age\",\"Pclass\"]].sort_values(by=[\"Pclass\",\"Age\"], ascending=[False, True])\n",
    "titanic_df[[\"Name\", \"Age\",\"Pclass\"]].sort_values(by=[\"Pclass\",\"Age\"], ascending=[True, True])"
   ]
  },
  {
   "cell_type": "code",
   "execution_count": 64,
   "id": "7e4f1180",
   "metadata": {},
   "outputs": [
    {
     "name": "stdout",
     "output_type": "stream",
     "text": [
      "array1 :\n",
      " [1 2 3 4 5]\n",
      "array1.shape :\n",
      " (5,)\n"
     ]
    },
    {
     "data": {
      "text/html": [
       "<div>\n",
       "<style scoped>\n",
       "    .dataframe tbody tr th:only-of-type {\n",
       "        vertical-align: middle;\n",
       "    }\n",
       "\n",
       "    .dataframe tbody tr th {\n",
       "        vertical-align: top;\n",
       "    }\n",
       "\n",
       "    .dataframe thead th {\n",
       "        text-align: right;\n",
       "    }\n",
       "</style>\n",
       "<table border=\"1\" class=\"dataframe\">\n",
       "  <thead>\n",
       "    <tr style=\"text-align: right;\">\n",
       "      <th></th>\n",
       "      <th>col1</th>\n",
       "    </tr>\n",
       "  </thead>\n",
       "  <tbody>\n",
       "    <tr>\n",
       "      <th>0</th>\n",
       "      <td>1</td>\n",
       "    </tr>\n",
       "    <tr>\n",
       "      <th>1</th>\n",
       "      <td>2</td>\n",
       "    </tr>\n",
       "    <tr>\n",
       "      <th>2</th>\n",
       "      <td>3</td>\n",
       "    </tr>\n",
       "    <tr>\n",
       "      <th>3</th>\n",
       "      <td>4</td>\n",
       "    </tr>\n",
       "    <tr>\n",
       "      <th>4</th>\n",
       "      <td>5</td>\n",
       "    </tr>\n",
       "  </tbody>\n",
       "</table>\n",
       "</div>"
      ],
      "text/plain": [
       "   col1\n",
       "0     1\n",
       "1     2\n",
       "2     3\n",
       "3     4\n",
       "4     5"
      ]
     },
     "execution_count": 64,
     "metadata": {},
     "output_type": "execute_result"
    }
   ],
   "source": [
    "# list - > ndarray -> DataFrame\n",
    "import numpy as np\n",
    "col_name1 = [\"col1\"]\n",
    "list1 = [1 ,2 ,3 ,4 ,5]\n",
    "array1 = np.array(list1)\n",
    "print(\"array1 :\\n\", array1)\n",
    "print(\"array1.shape :\\n\", array1.shape)\n",
    "\n",
    "# 1차원 리스트를 DataFrame으로 변환하기\n",
    "list1_df = pd.DataFrame(list1,columns=col_name1)\n",
    "list1_df\n",
    "\n",
    "# 1차원 리스트를 DataFrame으로 변환하기\n",
    "array1_df = pd.DataFrame(array1, columns=col_name1)\n",
    "array1_df"
   ]
  },
  {
   "cell_type": "code",
   "execution_count": 66,
   "id": "918147ef",
   "metadata": {},
   "outputs": [
    {
     "data": {
      "text/html": [
       "<div>\n",
       "<style scoped>\n",
       "    .dataframe tbody tr th:only-of-type {\n",
       "        vertical-align: middle;\n",
       "    }\n",
       "\n",
       "    .dataframe tbody tr th {\n",
       "        vertical-align: top;\n",
       "    }\n",
       "\n",
       "    .dataframe thead th {\n",
       "        text-align: right;\n",
       "    }\n",
       "</style>\n",
       "<table border=\"1\" class=\"dataframe\">\n",
       "  <thead>\n",
       "    <tr style=\"text-align: right;\">\n",
       "      <th></th>\n",
       "      <th>col1</th>\n",
       "      <th>col2</th>\n",
       "      <th>col3</th>\n",
       "    </tr>\n",
       "  </thead>\n",
       "  <tbody>\n",
       "    <tr>\n",
       "      <th>0</th>\n",
       "      <td>1</td>\n",
       "      <td>2</td>\n",
       "      <td>3</td>\n",
       "    </tr>\n",
       "    <tr>\n",
       "      <th>1</th>\n",
       "      <td>11</td>\n",
       "      <td>22</td>\n",
       "      <td>33</td>\n",
       "    </tr>\n",
       "  </tbody>\n",
       "</table>\n",
       "</div>"
      ],
      "text/plain": [
       "   col1  col2  col3\n",
       "0     1     2     3\n",
       "1    11    22    33"
      ]
     },
     "execution_count": 66,
     "metadata": {},
     "output_type": "execute_result"
    }
   ],
   "source": [
    "# 2행 X 3열 의 리스트와 ndarray 를 DataFrame으로 변환하기\n",
    "col_name2 = [\"col1\", \"col2\", \"col3\"]\n",
    "\n",
    "list2 = [[1 ,2 ,3],\n",
    "        [11 ,22 ,33]]\n",
    "array2 = np.array(list2)\n",
    "\n",
    "list2_df = pd.DataFrame(list2, columns=col_name2)\n",
    "list2_df\n",
    "\n",
    "# 2차원 ndarray 를 DataFrame 으로 변환하기\n",
    "array2_df = pd.DataFrame(list2, columns=col_name2)\n",
    "array2_df"
   ]
  },
  {
   "cell_type": "code",
   "execution_count": 67,
   "id": "b92d7f01",
   "metadata": {},
   "outputs": [
    {
     "data": {
      "text/html": [
       "<div>\n",
       "<style scoped>\n",
       "    .dataframe tbody tr th:only-of-type {\n",
       "        vertical-align: middle;\n",
       "    }\n",
       "\n",
       "    .dataframe tbody tr th {\n",
       "        vertical-align: top;\n",
       "    }\n",
       "\n",
       "    .dataframe thead th {\n",
       "        text-align: right;\n",
       "    }\n",
       "</style>\n",
       "<table border=\"1\" class=\"dataframe\">\n",
       "  <thead>\n",
       "    <tr style=\"text-align: right;\">\n",
       "      <th></th>\n",
       "      <th>이름</th>\n",
       "      <th>나이</th>\n",
       "      <th>성별</th>\n",
       "    </tr>\n",
       "  </thead>\n",
       "  <tbody>\n",
       "    <tr>\n",
       "      <th>0</th>\n",
       "      <td>글로벌</td>\n",
       "      <td>26</td>\n",
       "      <td>남자</td>\n",
       "    </tr>\n",
       "    <tr>\n",
       "      <th>1</th>\n",
       "      <td>아이티</td>\n",
       "      <td>21</td>\n",
       "      <td>여자</td>\n",
       "    </tr>\n",
       "    <tr>\n",
       "      <th>2</th>\n",
       "      <td>개발원</td>\n",
       "      <td>32</td>\n",
       "      <td>남자</td>\n",
       "    </tr>\n",
       "  </tbody>\n",
       "</table>\n",
       "</div>"
      ],
      "text/plain": [
       "    이름  나이  성별\n",
       "0  글로벌  26  남자\n",
       "1  아이티  21  여자\n",
       "2  개발원  32  남자"
      ]
     },
     "execution_count": 67,
     "metadata": {},
     "output_type": "execute_result"
    }
   ],
   "source": [
    "dict1 = {\"이름\":[\"글로벌\",\"아이티\", \"개발원\"],\n",
    "         \"나이\":[26, 21, 32],\n",
    "        \"성별\": [\"남자\", \"여자\", \"남자\"]\n",
    "         }\n",
    "\n",
    "pd.DataFrame(dict1)"
   ]
  },
  {
   "cell_type": "markdown",
   "id": "04b7888a",
   "metadata": {},
   "source": [
    "* DataFrame 을 ndarray로 변환하기"
   ]
  },
  {
   "cell_type": "code",
   "execution_count": 68,
   "id": "2b7c9622",
   "metadata": {},
   "outputs": [
    {
     "ename": "NameError",
     "evalue": "name 'dict1_df' is not defined",
     "output_type": "error",
     "traceback": [
      "\u001b[1;31m---------------------------------------------------------------------------\u001b[0m",
      "\u001b[1;31mNameError\u001b[0m                                 Traceback (most recent call last)",
      "\u001b[1;32mC:\\Users\\KIMDON~1\\AppData\\Local\\Temp/ipykernel_10260/862249116.py\u001b[0m in \u001b[0;36m<module>\u001b[1;34m\u001b[0m\n\u001b[1;32m----> 1\u001b[1;33m \u001b[0mdf_array\u001b[0m \u001b[1;33m=\u001b[0m \u001b[0mdict1_df\u001b[0m\u001b[1;33m.\u001b[0m\u001b[0mvalues\u001b[0m\u001b[1;33m\u001b[0m\u001b[1;33m\u001b[0m\u001b[0m\n\u001b[0m\u001b[0;32m      2\u001b[0m \u001b[0mprint\u001b[0m\u001b[1;33m(\u001b[0m\u001b[1;34m\"df_array 타입 :\"\u001b[0m\u001b[1;33m,\u001b[0m \u001b[0mtype\u001b[0m\u001b[1;33m(\u001b[0m\u001b[0mdf_array\u001b[0m\u001b[1;33m)\u001b[0m\u001b[1;33m)\u001b[0m\u001b[1;33m\u001b[0m\u001b[1;33m\u001b[0m\u001b[0m\n\u001b[0;32m      3\u001b[0m \u001b[0mprint\u001b[0m\u001b[1;33m(\u001b[0m\u001b[1;34m\"df_array :\\n\"\u001b[0m\u001b[1;33m,\u001b[0m \u001b[0mdf_array\u001b[0m\u001b[1;33m)\u001b[0m\u001b[1;33m\u001b[0m\u001b[1;33m\u001b[0m\u001b[0m\n",
      "\u001b[1;31mNameError\u001b[0m: name 'dict1_df' is not defined"
     ]
    }
   ],
   "source": [
    "df_array = dict1_df.values\n",
    "print(\"df_array 타입 :\", type(df_array))\n",
    "print(\"df_array :\\n\", df_array)"
   ]
  },
  {
   "cell_type": "markdown",
   "id": "5282b8ca",
   "metadata": {},
   "source": [
    "* DataFrame 을 list / dictionary로 변환하기"
   ]
  },
  {
   "cell_type": "code",
   "execution_count": 69,
   "id": "f7a5ba73",
   "metadata": {},
   "outputs": [
    {
     "ename": "NameError",
     "evalue": "name 'dict1_df' is not defined",
     "output_type": "error",
     "traceback": [
      "\u001b[1;31m---------------------------------------------------------------------------\u001b[0m",
      "\u001b[1;31mNameError\u001b[0m                                 Traceback (most recent call last)",
      "\u001b[1;32mC:\\Users\\KIMDON~1\\AppData\\Local\\Temp/ipykernel_10260/1680303645.py\u001b[0m in \u001b[0;36m<module>\u001b[1;34m\u001b[0m\n\u001b[1;32m----> 1\u001b[1;33m \u001b[0mdf_list\u001b[0m \u001b[1;33m=\u001b[0m \u001b[0mdict1_df\u001b[0m\u001b[1;33m.\u001b[0m\u001b[0mvalues\u001b[0m\u001b[1;33m.\u001b[0m\u001b[0mtolist\u001b[0m\u001b[1;33m(\u001b[0m\u001b[1;33m)\u001b[0m\u001b[1;33m\u001b[0m\u001b[1;33m\u001b[0m\u001b[0m\n\u001b[0m\u001b[0;32m      2\u001b[0m \u001b[0mprint\u001b[0m\u001b[1;33m(\u001b[0m\u001b[1;34m\"df_list 타입 :\"\u001b[0m\u001b[1;33m,\u001b[0m \u001b[0mtype\u001b[0m\u001b[1;33m(\u001b[0m\u001b[0mdf_list\u001b[0m\u001b[1;33m)\u001b[0m\u001b[1;33m)\u001b[0m\u001b[1;33m\u001b[0m\u001b[1;33m\u001b[0m\u001b[0m\n\u001b[0;32m      3\u001b[0m \u001b[0mprint\u001b[0m\u001b[1;33m(\u001b[0m\u001b[1;34m\"df_list :\\n\"\u001b[0m\u001b[1;33m,\u001b[0m \u001b[0mdf_list\u001b[0m\u001b[1;33m)\u001b[0m\u001b[1;33m\u001b[0m\u001b[1;33m\u001b[0m\u001b[0m\n",
      "\u001b[1;31mNameError\u001b[0m: name 'dict1_df' is not defined"
     ]
    }
   ],
   "source": [
    "df_list = dict1_df.values.tolist()\n",
    "print(\"df_list 타입 :\", type(df_list))\n",
    "print(\"df_list :\\n\", df_list)"
   ]
  },
  {
   "cell_type": "code",
   "execution_count": null,
   "id": "49fb4ec8",
   "metadata": {},
   "outputs": [],
   "source": []
  }
 ],
 "metadata": {
  "kernelspec": {
   "display_name": "Python 3 (ipykernel)",
   "language": "python",
   "name": "python3"
  },
  "language_info": {
   "codemirror_mode": {
    "name": "ipython",
    "version": 3
   },
   "file_extension": ".py",
   "mimetype": "text/x-python",
   "name": "python",
   "nbconvert_exporter": "python",
   "pygments_lexer": "ipython3",
   "version": "3.9.7"
  }
 },
 "nbformat": 4,
 "nbformat_minor": 5
}
