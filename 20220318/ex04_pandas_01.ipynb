{
 "cells": [
  {
   "cell_type": "markdown",
   "id": "76a1793f",
   "metadata": {},
   "source": [
    "### Pandas\n",
    "* DataFrame 클래스\n",
    "* Series 클래스"
   ]
  },
  {
   "cell_type": "code",
   "execution_count": null,
   "id": "8f102e45",
   "metadata": {
    "ExecuteTime": {
     "end_time": "2022-03-18T06:17:47.578060Z",
     "start_time": "2022-03-18T06:17:46.796833Z"
    }
   },
   "outputs": [],
   "source": [
    "import pandas as pd"
   ]
  },
  {
   "cell_type": "markdown",
   "id": "49471bf8",
   "metadata": {},
   "source": [
    "#### read_csv() : csv 파일을 읽어서 DataFrame 객체로 생성함"
   ]
  },
  {
   "cell_type": "code",
   "execution_count": null,
   "id": "24baf5c9",
   "metadata": {},
   "outputs": [],
   "source": [
    "'''\n",
    "Survived\t0이면 사망, 1이면 생존\tint64\n",
    "Pclass\t    티켓 등급 : 1, 2, 3\tint64\n",
    "Name\t    승객 이름 : Surname, Title. Firstname\tobject\n",
    "Sex\t\t    성별 : male, female\tobject\n",
    "Age\t\t    승객의 나이\tfloat64\n",
    "SibSp\t\t형제, 자매, 배우자의 합\tint64\n",
    "Parch\t\t부모, 자식의 합\tint64\n",
    "Ticket\t\t티켓 번호\tobject\n",
    "Fare\t\t요금\tfloat64\n",
    "Cabin\t\t객실 번호\tobject\n",
    "Embarked\t선착장 : C(Cherbourg), Q(Queenstown), S(Southampton)\tobject\n",
    "'''"
   ]
  },
  {
   "cell_type": "code",
   "execution_count": null,
   "id": "27666ba5",
   "metadata": {
    "ExecuteTime": {
     "end_time": "2022-03-18T06:42:04.463746Z",
     "start_time": "2022-03-18T06:42:04.446755Z"
    }
   },
   "outputs": [],
   "source": [
    "titanic_df = pd.read_csv(\"titanic_train.csv\")\n",
    "print(\"titanic 변수 타입 :\",type(titanic_df))"
   ]
  },
  {
   "cell_type": "markdown",
   "id": "5f8c7074",
   "metadata": {},
   "source": [
    "* head() 메소드\n",
    "* DataFramde 의 상위 5 개의 data를 추출함"
   ]
  },
  {
   "cell_type": "code",
   "execution_count": null,
   "id": "0c461483",
   "metadata": {
    "ExecuteTime": {
     "end_time": "2022-03-18T07:02:20.634176Z",
     "start_time": "2022-03-18T07:02:20.612639Z"
    }
   },
   "outputs": [],
   "source": [
    "titanic_df.head()"
   ]
  },
  {
   "cell_type": "code",
   "execution_count": null,
   "id": "2a060fe9",
   "metadata": {
    "ExecuteTime": {
     "end_time": "2022-03-18T06:44:14.079648Z",
     "start_time": "2022-03-18T06:44:14.062668Z"
    }
   },
   "outputs": [],
   "source": [
    "titanic_df.head(10)"
   ]
  },
  {
   "cell_type": "markdown",
   "id": "df15defd",
   "metadata": {},
   "source": [
    "* dictionary 에 있는 data 를 DataFrame 으로 변환하기\n",
    "* DataFrame 객체를 생성하면서 argument 로 dictionary 를 지정해 주면 됨"
   ]
  },
  {
   "cell_type": "code",
   "execution_count": null,
   "id": "596d7035",
   "metadata": {
    "ExecuteTime": {
     "end_time": "2022-03-18T07:01:33.450742Z",
     "start_time": "2022-03-18T07:01:33.437752Z"
    }
   },
   "outputs": [],
   "source": [
    "dict1 = {\n",
    "         \"name\":[\"이순신\",\"안중근\",\"유관순\",\"글로벌\"],\n",
    "         \"birth\":[1545, 1879, 1901, 2010],\n",
    "         \"gender\":[\"남자\",\"남자\",\"여자\",\"여자\"]\n",
    "        }\n",
    "\n",
    "info_df = pd.DataFrame(dict1)\n",
    "# print(\"info_df :\\n\",info_df)\n",
    "print(dict1[\"name\"])\n",
    "info_df"
   ]
  },
  {
   "cell_type": "code",
   "execution_count": null,
   "id": "27c9b674",
   "metadata": {
    "ExecuteTime": {
     "end_time": "2022-03-18T06:53:39.155449Z",
     "start_time": "2022-03-18T06:53:39.133446Z"
    }
   },
   "outputs": [],
   "source": [
    "# 컬럼명 추가하기\n",
    "info_df = pd.DataFrame(dict1, columns=[\"name\",\"birth\",\"gender\",\"age\"])\n",
    "info_df"
   ]
  },
  {
   "cell_type": "code",
   "execution_count": null,
   "id": "f2ae63b8",
   "metadata": {
    "ExecuteTime": {
     "end_time": "2022-03-18T06:53:41.335237Z",
     "start_time": "2022-03-18T06:53:41.318232Z"
    },
    "scrolled": true
   },
   "outputs": [],
   "source": [
    "# 인덱스명 설정하기\n",
    "info_df = pd.DataFrame(dict1, index=[\"one\",\"two\",\"three\",\"four\"])\n",
    "info_df"
   ]
  },
  {
   "cell_type": "markdown",
   "id": "cf762339",
   "metadata": {},
   "source": [
    " * DataFrame 의 column 명 / index"
   ]
  },
  {
   "cell_type": "code",
   "execution_count": null,
   "id": "47e1ec9e",
   "metadata": {
    "ExecuteTime": {
     "end_time": "2022-03-18T06:56:06.929278Z",
     "start_time": "2022-03-18T06:56:06.918296Z"
    }
   },
   "outputs": [],
   "source": [
    "# titanic_df \n",
    "print(\"columns :\\n\",titanic_df.columns)"
   ]
  },
  {
   "cell_type": "code",
   "execution_count": null,
   "id": "b0884d33",
   "metadata": {
    "ExecuteTime": {
     "end_time": "2022-03-18T06:56:34.665279Z",
     "start_time": "2022-03-18T06:56:34.653301Z"
    },
    "scrolled": true
   },
   "outputs": [],
   "source": [
    "print(\"index :\\n\",titanic_df.index)"
   ]
  },
  {
   "cell_type": "code",
   "execution_count": null,
   "id": "7760e768",
   "metadata": {
    "ExecuteTime": {
     "end_time": "2022-03-18T06:58:17.596955Z",
     "start_time": "2022-03-18T06:58:17.581963Z"
    }
   },
   "outputs": [],
   "source": [
    "# 0 ~ 890\n",
    "print(\"index 값 :\\n\",titanic_df.index.values)"
   ]
  },
  {
   "cell_type": "markdown",
   "id": "ad2949b7",
   "metadata": {},
   "source": [
    "### Series\n",
    "* DataFrame 에서 Serise 추출하기"
   ]
  },
  {
   "cell_type": "code",
   "execution_count": null,
   "id": "ca59a72e",
   "metadata": {
    "ExecuteTime": {
     "end_time": "2022-03-18T07:11:09.348033Z",
     "start_time": "2022-03-18T07:11:09.341027Z"
    }
   },
   "outputs": [],
   "source": [
    "# DataFrame 에서 [] 속에 컬럼명 하나를 지정해서 Series 로 추출하기\n",
    "#                         ㄴ \"컬럼명\"(\"Name\")지정\n",
    "series_name = titanic_df[\"Name\"]\n",
    "series_name\n",
    "print(\"series_name :\",type(series_name))\n",
    "series_name.head()"
   ]
  },
  {
   "cell_type": "code",
   "execution_count": null,
   "id": "26ba7883",
   "metadata": {
    "ExecuteTime": {
     "end_time": "2022-03-18T07:11:03.637037Z",
     "start_time": "2022-03-18T07:11:03.621056Z"
    }
   },
   "outputs": [],
   "source": [
    "# DataFrame 에서 [] 속에 컬럼명 하나를 지정해서 DataFrame 로 추출하기\n",
    "#                         ㄴ [\"컬럼명\"]([\"Name\"])로 지정\n",
    "df_name = titanic_df[[\"Name\"]]\n",
    "df_name\n",
    "print(\"df_name :\",type(df_name))\n",
    "df_name.head()"
   ]
  },
  {
   "cell_type": "code",
   "execution_count": null,
   "id": "591e2b37",
   "metadata": {
    "ExecuteTime": {
     "end_time": "2022-03-18T07:10:52.996383Z",
     "start_time": "2022-03-18T07:10:52.974395Z"
    }
   },
   "outputs": [],
   "source": [
    "# DataFrame 에서 [] 속에 컬럼명 두 개를 지정해서 DataFrame 로 추출하기\n",
    "#                         ㄴ [\"컬럼명\", \"컬럼명\"]([\"Name\", \"Age\"])로 지정\n",
    "df_name_age = titanic_df[[\"Name\", \"Age\"]]\n",
    "df_name_age\n",
    "print(\"df_name_age :\",type(df_name_age))\n",
    "df_name_age.head()"
   ]
  },
  {
   "cell_type": "markdown",
   "id": "92eb2f4d",
   "metadata": {},
   "source": [
    "* shape : DataFrame 의 행(row)과 열(column)의 크기를 알려줌"
   ]
  },
  {
   "cell_type": "code",
   "execution_count": null,
   "id": "774fb534",
   "metadata": {
    "ExecuteTime": {
     "end_time": "2022-03-18T07:12:52.786174Z",
     "start_time": "2022-03-18T07:12:52.774180Z"
    }
   },
   "outputs": [],
   "source": [
    "print(\"titanic_df 의 shape :\",titanic_df.shape)"
   ]
  },
  {
   "cell_type": "markdown",
   "id": "ff813f18",
   "metadata": {},
   "source": [
    "* info() 메소드 : DataFrame 의 data 건수(행의 개수), 컬럼 개수, 컬럼 이름, 데이터 타입, Null(결측치) 건수를 제공함"
   ]
  },
  {
   "cell_type": "code",
   "execution_count": null,
   "id": "8da748e5",
   "metadata": {
    "ExecuteTime": {
     "end_time": "2022-03-18T07:15:35.320022Z",
     "start_time": "2022-03-18T07:15:35.300033Z"
    }
   },
   "outputs": [],
   "source": [
    "titanic_df.info()"
   ]
  },
  {
   "cell_type": "markdown",
   "id": "8f33264f",
   "metadata": {},
   "source": [
    "* describe() 메소드 : 숫자로 된 데이터값들의 개수(count), 평균(mean), <br>표준편차(std), 4분위분포도(최저값, 25%, 50%, 75%, 최고값) 을 제공함"
   ]
  },
  {
   "cell_type": "code",
   "execution_count": null,
   "id": "5bbde1bc",
   "metadata": {
    "ExecuteTime": {
     "end_time": "2022-03-18T07:21:52.527690Z",
     "start_time": "2022-03-18T07:21:52.491711Z"
    }
   },
   "outputs": [],
   "source": [
    "titanic_df.describe()"
   ]
  },
  {
   "cell_type": "markdown",
   "id": "86021c41",
   "metadata": {},
   "source": [
    "* value_counts() 메소드 : 같은 데이터값들이 몇 건 있는지 정보를 제공해 줌\n",
    "*  ㄴ 개별 데이터 값들의 분포도를 알 수 있음\n",
    "* DataFrame 클래스의 메소드가 아니고, Series 클래스의 메소드이기 때문에\n",
    "* DataFrame 에서 Series 를 추출해서 호출해야 함"
   ]
  },
  {
   "cell_type": "code",
   "execution_count": null,
   "id": "0fbfe2e1",
   "metadata": {
    "ExecuteTime": {
     "end_time": "2022-03-18T07:38:37.512207Z",
     "start_time": "2022-03-18T07:38:37.499224Z"
    }
   },
   "outputs": [],
   "source": [
    "value_counts = titanic_df[\"Pclass\"].value_counts()\n",
    "print(\"value_counts :\\n\",value_counts,sep=\"\")\n",
    "print(\"titanic_df[\\\"Pclass\\\"] 의 타입 :\",type(titanic_df[\"Pclass\"]))"
   ]
  },
  {
   "cell_type": "code",
   "execution_count": null,
   "id": "062ed309",
   "metadata": {
    "ExecuteTime": {
     "end_time": "2022-03-18T07:39:19.651408Z",
     "start_time": "2022-03-18T07:39:19.642412Z"
    }
   },
   "outputs": [],
   "source": [
    "# Series \n",
    "titanic_df[\"Pclass\"].head()"
   ]
  },
  {
   "cell_type": "markdown",
   "id": "266ef091",
   "metadata": {},
   "source": [
    "* sort_values() 메소드 (DataFrame 클래스의 메소드) : 원본이 변형되지 않고 정렬된 새로운 DataFrame 객체를 생성함\n",
    "* parameter : by=정렬할컬럼, ascending=True(오름차순)/False(내림차순)"
   ]
  },
  {
   "cell_type": "code",
   "execution_count": null,
   "id": "6369b5fd",
   "metadata": {
    "ExecuteTime": {
     "end_time": "2022-03-18T07:46:36.766009Z",
     "start_time": "2022-03-18T07:46:36.740009Z"
    }
   },
   "outputs": [],
   "source": [
    "titanic_df.head()"
   ]
  },
  {
   "cell_type": "code",
   "execution_count": null,
   "id": "68852493",
   "metadata": {
    "ExecuteTime": {
     "end_time": "2022-03-18T07:47:00.198858Z",
     "start_time": "2022-03-18T07:47:00.178860Z"
    }
   },
   "outputs": [],
   "source": [
    "titanic_df.sort_values(by=\"Pclass\", ascending=True).head()"
   ]
  },
  {
   "cell_type": "code",
   "execution_count": null,
   "id": "847bcd3c",
   "metadata": {
    "ExecuteTime": {
     "end_time": "2022-03-18T07:53:26.716194Z",
     "start_time": "2022-03-18T07:53:26.698214Z"
    }
   },
   "outputs": [],
   "source": [
    "titanic_df.sort_values(by=\"Pclass\", ascending=False).head()"
   ]
  },
  {
   "cell_type": "code",
   "execution_count": null,
   "id": "a662673b",
   "metadata": {
    "ExecuteTime": {
     "end_time": "2022-03-18T07:47:14.910023Z",
     "start_time": "2022-03-18T07:47:14.883028Z"
    }
   },
   "outputs": [],
   "source": [
    "titanic_df.head()"
   ]
  },
  {
   "cell_type": "code",
   "execution_count": null,
   "id": "62acbc74",
   "metadata": {
    "ExecuteTime": {
     "end_time": "2022-03-18T07:51:23.911419Z",
     "start_time": "2022-03-18T07:51:23.898426Z"
    }
   },
   "outputs": [],
   "source": [
    "# 두 개의 컬럼을 추출하는데 정렬 컬럼 하나만 지정하기\n",
    "# 원본데이터프레임이름[[\"컬럼1\", \"컬럼2\"]].sort_values(by=정렬기준컬럼)\n",
    "\n",
    "titanic_df[[\"Name\", \"Age\"]].sort_values(by=\"Age\")"
   ]
  },
  {
   "cell_type": "code",
   "execution_count": null,
   "id": "7779d7af",
   "metadata": {
    "ExecuteTime": {
     "end_time": "2022-03-18T08:08:35.717427Z",
     "start_time": "2022-03-18T08:08:35.689400Z"
    }
   },
   "outputs": [],
   "source": [
    "titanic_df[[\"Name\",\"Age\",\"Pclass\"]].sort_values(by=[\"Pclass\",\"Age\"], ascending=[False, False])\n",
    "# titanic_df[[\"Name\",\"Age\",\"Pclass\"]].sort_values(by=[\"Pclass\",\"Age\"], ascending=[True, False])\n",
    "# titanic_df[[\"Name\",\"Age\",\"Pclass\"]].sort_values(by=[\"Pclass\",\"Age\"], ascending=[False, True])\n",
    "# titanic_df[[\"Name\",\"Age\",\"Pclass\"]].sort_values(by=[\"Pclass\",\"Age\"], ascending=[True, True])\n",
    "# titanic_df[[\"Name\",\"Age\",\"Pclass\"]].sort_values(by=[\"Pclass\",\"Age\"])"
   ]
  },
  {
   "cell_type": "code",
   "execution_count": null,
   "id": "313cc8b5",
   "metadata": {
    "ExecuteTime": {
     "end_time": "2022-03-18T07:56:04.168304Z",
     "start_time": "2022-03-18T07:56:04.146306Z"
    }
   },
   "outputs": [],
   "source": [
    "# 세 개의 컬럼을 추출하는데 정렬 컬럼 두 개 지정하기\n",
    "# 원본데이터프레임이름[[\"컬럼1\",\"컬럼2\",\"컬럼3\"]].sort_values(by=[\"정렬기준컬럼1\",\"정렬기준컬럼2\"])\n",
    "# \"정렬기준컬럼1\"으로 grouping 한 후 \"정렬기준컬럼2\" 으로 정렬함\n",
    "titanic_df[[\"Name\",\"Age\",\"Pclass\"]].sort_values(by=[\"Pclass\",\"Age\"])"
   ]
  },
  {
   "cell_type": "markdown",
   "id": "42f23e8d",
   "metadata": {},
   "source": [
    "* DataFrame / list / dictionary / np.ndarray 서로 변환하기"
   ]
  },
  {
   "cell_type": "code",
   "execution_count": null,
   "id": "6b1e0526",
   "metadata": {
    "ExecuteTime": {
     "end_time": "2022-03-18T08:13:30.737048Z",
     "start_time": "2022-03-18T08:13:30.722047Z"
    }
   },
   "outputs": [],
   "source": [
    "# list -> ndarray -> DataFrame\n",
    "\n",
    "import numpy as np\n",
    "\n",
    "col_name1 = [\"col1\"]\n",
    "\n",
    "list1 = [1, 2, 3, 4, 5]\n",
    "array1 = np.array(list1)\n",
    "print(\"array1 :\\n\",array1)\n",
    "print(\"array1.shape :\\n\",array1.shape)\n",
    "\n",
    "# 1 차원 리스트를 DataFrame 으로 변환하기\n",
    "list1_df = pd.DataFrame(list1, columns=col_name1)\n",
    "list1_df\n",
    "\n",
    "# 1 차원 ndarray 를 DataFrame 으로 변환하기\n",
    "array1_df = pd.DataFrame(array1, columns=col_name1)\n",
    "array1_df"
   ]
  },
  {
   "cell_type": "code",
   "execution_count": null,
   "id": "7d50e1bb",
   "metadata": {
    "ExecuteTime": {
     "end_time": "2022-03-18T08:18:26.122807Z",
     "start_time": "2022-03-18T08:18:26.104817Z"
    }
   },
   "outputs": [],
   "source": [
    "# 2행 X 3열 의 리스트와 ndarray 를 DataFrame 으로 변환하기\n",
    "col_name2 = [\"col1\", \"col2\", \"col3\"]\n",
    "\n",
    "list2 = [[1, 2, 3],\n",
    "         [11, 22, 33]]\n",
    "array2 = np.array(list2)\n",
    "\n",
    "# 2 차원 리스트를 DataFrame 으로 변환하기\n",
    "list2_df = pd.DataFrame(list2, columns=col_name2)\n",
    "list2_df\n",
    "\n",
    "# 2 차원 ndarray 를 DataFrame 으로 변환하기\n",
    "array2_df = pd.DataFrame(array2, columns=col_name2)\n",
    "array2_df"
   ]
  },
  {
   "cell_type": "markdown",
   "id": "14c95ce7",
   "metadata": {},
   "source": [
    "* dictionary 를 DataFrame 으로 변환하기\n",
    "* key 는 컬럼명이 되고, value 는 해당 컬럼의 data가 됨"
   ]
  },
  {
   "cell_type": "code",
   "execution_count": null,
   "id": "159436d4",
   "metadata": {
    "ExecuteTime": {
     "end_time": "2022-03-18T08:22:02.276204Z",
     "start_time": "2022-03-18T08:22:02.265210Z"
    }
   },
   "outputs": [],
   "source": [
    "dict1 = {\n",
    "         \"이름\":[\"글로벌\", \"아이티\", \"개발원\"],\n",
    "         \"나이\":[26, 21, 32],\n",
    "         \"성별\":[\"남자\",\"여자\",\"남자\"]\n",
    "        }\n",
    "dict1_df = pd.DataFrame(dict1)\n",
    "dict1_df"
   ]
  },
  {
   "cell_type": "markdown",
   "id": "b2296b95",
   "metadata": {},
   "source": [
    "* DataFrame 을 ndarray 로 변환하기"
   ]
  },
  {
   "cell_type": "code",
   "execution_count": null,
   "id": "85609ab8",
   "metadata": {
    "ExecuteTime": {
     "end_time": "2022-03-18T08:24:35.084744Z",
     "start_time": "2022-03-18T08:24:35.071752Z"
    }
   },
   "outputs": [],
   "source": [
    "df_array = dict1_df.values\n",
    "print(\"df_array 타입 :\",type(df_array))\n",
    "print(\"df_array :\\n\",df_array)"
   ]
  },
  {
   "cell_type": "markdown",
   "id": "4bbb4cd2",
   "metadata": {},
   "source": [
    "* DataFrame 을 list / dictionary 로 변환하기"
   ]
  },
  {
   "cell_type": "code",
   "execution_count": null,
   "id": "2153fae2",
   "metadata": {
    "ExecuteTime": {
     "end_time": "2022-03-18T08:26:00.973317Z",
     "start_time": "2022-03-18T08:26:00.961314Z"
    }
   },
   "outputs": [],
   "source": [
    "df_list = dict1_df.values.tolist()\n",
    "print(\"df_list 타입 :\",type(df_list))\n",
    "print(\"df_list :\\n\",df_list)"
   ]
  },
  {
   "cell_type": "code",
   "execution_count": null,
   "id": "3a55bb39",
   "metadata": {
    "ExecuteTime": {
     "end_time": "2022-03-18T08:27:15.600803Z",
     "start_time": "2022-03-18T08:27:15.583813Z"
    }
   },
   "outputs": [],
   "source": [
    "df_dict = dict1_df.to_dict(\"list\")\n",
    "print(\"df_dict 타입 :\",type(df_dict))\n",
    "print(\"df_dict :\\n\",df_dict)"
   ]
  },
  {
   "cell_type": "code",
   "execution_count": null,
   "id": "2ec8ef0c",
   "metadata": {
    "ExecuteTime": {
     "end_time": "2022-03-18T08:29:40.513392Z",
     "start_time": "2022-03-18T08:29:40.495970Z"
    }
   },
   "outputs": [],
   "source": [
    "dict1_df"
   ]
  },
  {
   "cell_type": "code",
   "execution_count": null,
   "id": "d69f66a4",
   "metadata": {
    "ExecuteTime": {
     "end_time": "2022-03-18T08:28:32.854106Z",
     "start_time": "2022-03-18T08:28:32.840104Z"
    }
   },
   "outputs": [],
   "source": [
    "df_dict = dict1_df.to_dict()\n",
    "print(\"df_dict 타입 :\",type(df_dict))\n",
    "print(\"df_dict :\\n\",df_dict)"
   ]
  },
  {
   "cell_type": "code",
   "execution_count": null,
   "id": "b2493b06",
   "metadata": {
    "ExecuteTime": {
     "end_time": "2022-03-18T08:28:59.811068Z",
     "start_time": "2022-03-18T08:28:59.793079Z"
    }
   },
   "outputs": [],
   "source": [
    "dict1_df"
   ]
  },
  {
   "cell_type": "code",
   "execution_count": null,
   "id": "1a45518d",
   "metadata": {},
   "outputs": [],
   "source": []
  }
 ],
 "metadata": {
  "hide_input": false,
  "kernelspec": {
   "display_name": "Python 3 (ipykernel)",
   "language": "python",
   "name": "python3"
  },
  "language_info": {
   "codemirror_mode": {
    "name": "ipython",
    "version": 3
   },
   "file_extension": ".py",
   "mimetype": "text/x-python",
   "name": "python",
   "nbconvert_exporter": "python",
   "pygments_lexer": "ipython3",
   "version": "3.9.7"
  },
  "toc": {
   "base_numbering": 1,
   "nav_menu": {},
   "number_sections": true,
   "sideBar": true,
   "skip_h1_title": false,
   "title_cell": "Table of Contents",
   "title_sidebar": "Contents",
   "toc_cell": false,
   "toc_position": {},
   "toc_section_display": true,
   "toc_window_display": false
  },
  "varInspector": {
   "cols": {
    "lenName": 16,
    "lenType": 16,
    "lenVar": 40
   },
   "kernels_config": {
    "python": {
     "delete_cmd_postfix": "",
     "delete_cmd_prefix": "del ",
     "library": "var_list.py",
     "varRefreshCmd": "print(var_dic_list())"
    },
    "r": {
     "delete_cmd_postfix": ") ",
     "delete_cmd_prefix": "rm(",
     "library": "var_list.r",
     "varRefreshCmd": "cat(var_dic_list()) "
    }
   },
   "types_to_exclude": [
    "module",
    "function",
    "builtin_function_or_method",
    "instance",
    "_Feature"
   ],
   "window_display": false
  }
 },
 "nbformat": 4,
 "nbformat_minor": 5
}
