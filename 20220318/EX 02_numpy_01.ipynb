{
 "cells": [
  {
   "cell_type": "markdown",
   "id": "8f6d9ff2",
   "metadata": {},
   "source": [
    "### Numpy ndarray\n",
    "* ndarray 생성하기 - np.array()"
   ]
  },
  {
   "cell_type": "code",
   "execution_count": 2,
   "id": "be4455cb",
   "metadata": {},
   "outputs": [],
   "source": [
    "import numpy as np"
   ]
  },
  {
   "cell_type": "code",
   "execution_count": 3,
   "id": "56c92ccb",
   "metadata": {},
   "outputs": [
    {
     "name": "stdout",
     "output_type": "stream",
     "text": [
      "list1 : [1, 2, 3]\n",
      "list1 : <class 'list'>\n",
      "array1 : [1 2 3]\n",
      "array1 : <class 'numpy.ndarray'>\n"
     ]
    }
   ],
   "source": [
    "# 일차원 배열\n",
    "list1 = [1,2,3]\n",
    "print(\"list1 :\", list1)\n",
    "print(\"list1 :\", type(list1))\n",
    "\n",
    "array1 = np.array(list1)\n",
    "print(\"array1 :\", array1)\n",
    "print(\"array1 :\", type(array1))"
   ]
  },
  {
   "cell_type": "markdown",
   "id": "05891de9",
   "metadata": {},
   "source": [
    "* ndarray의 shape(형태 - 배열의 구조) / 차원(일차원, 이차원, 삼차원...)"
   ]
  },
  {
   "cell_type": "code",
   "execution_count": 4,
   "id": "97e941dd",
   "metadata": {},
   "outputs": [
    {
     "name": "stdout",
     "output_type": "stream",
     "text": [
      "array1       : [1 2 3 4 5]\n",
      "array1 타입  : <class 'numpy.ndarray'>\n",
      "array1 shape : (5,)\n"
     ]
    }
   ],
   "source": [
    "array1 = np.array([1,2,3,4,5])\n",
    "print(\"array1       :\", array1)\n",
    "print(\"array1 타입  :\", type(array1))\n",
    "print(\"array1 shape :\", array1.shape)"
   ]
  },
  {
   "cell_type": "code",
   "execution_count": 6,
   "id": "b1e0f4ea",
   "metadata": {},
   "outputs": [
    {
     "name": "stdout",
     "output_type": "stream",
     "text": [
      "array2       :\n",
      " [[1 2 3]\n",
      " [4 5 6]]\n",
      "array2 타입  : <class 'numpy.ndarray'>\n",
      "array2 shape : (2, 3)\n"
     ]
    }
   ],
   "source": [
    "# 이차원 배열\n",
    "array2 = np.array([\n",
    "                    [1, 2, 3],\n",
    "                    [4, 5, 6]\n",
    "                    ])\n",
    "print(\"array2       :\\n\", array2)\n",
    "print(\"array2 타입  :\", type(array2))\n",
    "print(\"array2 shape :\", array2.shape)"
   ]
  },
  {
   "cell_type": "code",
   "execution_count": 9,
   "id": "af0b47ce",
   "metadata": {},
   "outputs": [
    {
     "name": "stdout",
     "output_type": "stream",
     "text": [
      "array3 : [[1 2 3 4 5]]\n",
      "array3 타입 : <class 'numpy.ndarray'>\n",
      "array3 shape : (1, 5)\n"
     ]
    }
   ],
   "source": [
    "# 이차원 배열\n",
    "\n",
    "array3 = np.array([[1, 2, 3, 4, 5]])\n",
    "print(\"array3 :\", array3)\n",
    "print(\"array3 타입 :\", type(array3))\n",
    "print(\"array3 shape :\", array3.shape)"
   ]
  },
  {
   "cell_type": "code",
   "execution_count": 35,
   "id": "4c43ac0f",
   "metadata": {},
   "outputs": [
    {
     "name": "stdout",
     "output_type": "stream",
     "text": [
      "array1 : 1 차원\n",
      " array2 : 2 차원\n",
      " array3 : 2 차원\n",
      "\n"
     ]
    }
   ],
   "source": [
    "print(f\"array1 : {array1.ndim} 차원\\n array2 : {array2.ndim} 차원\\n array3 : {array3.ndim} 차원\\n\")"
   ]
  },
  {
   "cell_type": "markdown",
   "id": "cf661d78",
   "metadata": {},
   "source": [
    "* ndarry 속에 들어있는 값의 data tyep"
   ]
  },
  {
   "cell_type": "code",
   "execution_count": 13,
   "id": "e3b14cb6",
   "metadata": {},
   "outputs": [
    {
     "name": "stdout",
     "output_type": "stream",
     "text": [
      "list1 : [1, 2, 3, 4, 5]\n",
      "list1 : <class 'list'>\n",
      "array1 : [1 2 3 4 5]\n",
      "array1 타입 : <class 'numpy.ndarray'>\n",
      "array1 속에 들어잇는 값의 data 타입 : int32\n"
     ]
    }
   ],
   "source": [
    "list1 = [1 ,2 ,3 ,4 ,5]\n",
    "print(\"list1 :\", list1)\n",
    "print(\"list1 :\", type(list1))\n",
    "\n",
    "array1 = np.array(list1)\n",
    "print(\"array1 :\", array1)\n",
    "print(\"array1 타입 :\", type(array1))\n",
    "print(\"array1 속에 들어잇는 값의 data 타입 :\", array1.dtype)"
   ]
  },
  {
   "cell_type": "code",
   "execution_count": 36,
   "id": "ac3591fd",
   "metadata": {},
   "outputs": [
    {
     "name": "stdout",
     "output_type": "stream",
     "text": [
      "array_int : [1 2 3 4 5]\n",
      "array_int : int32\n",
      "array_float : [1. 2. 3. 4. 5.]\n",
      "array_float d타입 : float64\n"
     ]
    }
   ],
   "source": [
    "array_int = np.array([1, 2, 3, 4, 5])\n",
    "array_float = array_int.astype(\"float64\")\n",
    "\n",
    "print(\"array_int :\", array_int)\n",
    "print(\"array_int :\", array_int.dtype)\n",
    "print(\"array_float :\", array_float)\n",
    "print(\"array_float d타입 :\", array_float.dtype)"
   ]
  },
  {
   "cell_type": "code",
   "execution_count": 37,
   "id": "220b12de",
   "metadata": {},
   "outputs": [
    {
     "name": "stdout",
     "output_type": "stream",
     "text": [
      "array_int2 :\n"
     ]
    }
   ],
   "source": [
    "# array_float = array_int.astype(\"float64\")\n",
    "array_int2 = array_float.astype(\"int32\")\n",
    "\n",
    "print(\"array_int2 :\", )"
   ]
  },
  {
   "cell_type": "code",
   "execution_count": 38,
   "id": "f48b150d",
   "metadata": {},
   "outputs": [
    {
     "ename": "SyntaxError",
     "evalue": "invalid syntax (Temp/ipykernel_23348/3722096678.py, line 1)",
     "output_type": "error",
     "traceback": [
      "\u001b[1;36m  File \u001b[1;32m\"C:\\Users\\KIMDON~1\\AppData\\Local\\Temp/ipykernel_23348/3722096678.py\"\u001b[1;36m, line \u001b[1;32m1\u001b[0m\n\u001b[1;33m    array_float2 = np.array([1.2 2.3 3.4 4.5])\u001b[0m\n\u001b[1;37m                                 ^\u001b[0m\n\u001b[1;31mSyntaxError\u001b[0m\u001b[1;31m:\u001b[0m invalid syntax\n"
     ]
    }
   ],
   "source": [
    "array_float2 = np.array([1.2 2.3 3.4 4.5])\n",
    "print(\"array_float2 :\", array_float2)\n",
    "print(\"array_float2 d타입 :\", array_float2.dtype)\n",
    "\n",
    "array_int3 = array_float3.astype(\"int32\")\n",
    "print(\"array_float3 :\", array_float3)\n",
    "print(\"array_float3 d타입 :\", array_float3.dtype)"
   ]
  },
  {
   "cell_type": "markdown",
   "id": "8ae73bac",
   "metadata": {},
   "source": [
    "### 이차원 배열의 요소들을 axls를 지정해서 연산하기\n",
    "* axis = 0 : 행이 축이 됨\n",
    "* axis = 1 :열이 축이 됨"
   ]
  },
  {
   "cell_type": "code",
   "execution_count": 18,
   "id": "e875b36b",
   "metadata": {},
   "outputs": [
    {
     "name": "stdout",
     "output_type": "stream",
     "text": [
      "array2.sum(): 55\n",
      "array2.sum(axis=0): [ 7  9 11 13 15]\n",
      "array2.sum(axis=1): [15 40]\n"
     ]
    }
   ],
   "source": [
    "array2 = np.array([\n",
    "                  [1 ,2 ,3 ,4 ,5],\n",
    "                  [6 ,7 ,8 ,9 ,10]\n",
    "                  ])\n",
    "print(\"array2.sum():\",array2.sum())\n",
    "print(\"array2.sum(axis=0):\",array2.sum(axis=0))\n",
    "print(\"array2.sum(axis=1):\",array2.sum(axis=1))"
   ]
  },
  {
   "cell_type": "markdown",
   "id": "bff6fb8c",
   "metadata": {},
   "source": [
    "3 ndarray 생성하는 여러가지 방법들\n",
    "* np.arange()\n",
    "* np.zeros()\n",
    "* np.pones()"
   ]
  },
  {
   "cell_type": "code",
   "execution_count": null,
   "id": "88a4e98d",
   "metadata": {},
   "outputs": [],
   "source": [
    "#arange()"
   ]
  },
  {
   "cell_type": "code",
   "execution_count": 78,
   "id": "8d14006c",
   "metadata": {},
   "outputs": [
    {
     "name": "stdout",
     "output_type": "stream",
     "text": [
      "range_array: [0 1 2 3 4 5 6 7 8 9]\n",
      "range_array shape: (10,)\n",
      "range_array dtype: int32\n"
     ]
    }
   ],
   "source": [
    "range_array = np.arange(10)\n",
    "print(\"range_array:\",range_array)\n",
    "print(\"range_array shape:\",range_array.shape)\n",
    "print(\"range_array dtype:\",range_array.dtype)"
   ]
  },
  {
   "cell_type": "code",
   "execution_count": 24,
   "id": "be50660a",
   "metadata": {},
   "outputs": [
    {
     "name": "stdout",
     "output_type": "stream",
     "text": [
      "zero_array: [[0 0 0]\n",
      " [0 0 0]\n",
      " [0 0 0]]\n",
      "zero_array shape: (3, 3)\n",
      "zero_array dtype: int32\n"
     ]
    }
   ],
   "source": [
    "# zeros()\n",
    "\n",
    "zero_array = np.zeros((3,3),dtype=\"int32\")\n",
    "print(\"zero_array:\",zero_array)\n",
    "print(\"zero_array shape:\",zero_array.shape)\n",
    "print(\"zero_array dtype:\",zero_array.dtype)"
   ]
  },
  {
   "cell_type": "code",
   "execution_count": 26,
   "id": "dc98a18a",
   "metadata": {},
   "outputs": [
    {
     "name": "stdout",
     "output_type": "stream",
     "text": [
      "zero_array: [[0. 0. 0.]\n",
      " [0. 0. 0.]\n",
      " [0. 0. 0.]]\n",
      "zero_array shape: (3, 3)\n",
      "zero_array dtype: float64\n"
     ]
    }
   ],
   "source": [
    "zero_array = np.zeros((3,3))\n",
    "print(\"zero_array:\",zero_array)\n",
    "print(\"zero_array shape:\",zero_array.shape)\n",
    "print(\"zero_array dtype:\",zero_array.dtype)"
   ]
  },
  {
   "cell_type": "code",
   "execution_count": 28,
   "id": "e53a5dca",
   "metadata": {},
   "outputs": [
    {
     "name": "stdout",
     "output_type": "stream",
     "text": [
      "ones_array: [[0 0 0 0 0 0]\n",
      " [0 0 0 0 0 0]\n",
      " [0 0 0 0 0 0]]\n",
      "ones_array shape: (3, 6)\n",
      "ones_array dtype: int32\n"
     ]
    }
   ],
   "source": [
    "#ones\n",
    "ones_array = np.zeros((3, 6), dtype=\"int32\")\n",
    "print(\"ones_array:\",ones_array)\n",
    "print(\"ones_array shape:\",ones_array.shape)\n",
    "print(\"ones_array dtype:\",ones_array.dtype)"
   ]
  },
  {
   "cell_type": "markdown",
   "id": "939e687e",
   "metadata": {},
   "source": [
    "* ndarray.reshape() 메소드 - shape를 재설정함"
   ]
  },
  {
   "cell_type": "code",
   "execution_count": 34,
   "id": "ecbe9249",
   "metadata": {
    "scrolled": true
   },
   "outputs": [
    {
     "name": "stdout",
     "output_type": "stream",
     "text": [
      "array1:\n",
      " [0 1 2 3 4 5 6 7 8 9]\n",
      "array2:\n",
      " [[0 1 2 3 4]\n",
      " [5 6 7 8 9]]\n",
      "array3:\n",
      " [[0 1]\n",
      " [2 3]\n",
      " [4 5]\n",
      " [6 7]\n",
      " [8 9]]\n"
     ]
    }
   ],
   "source": [
    "array1 = np.arange(10)\n",
    "print(\"array1:\\n\",array1)\n",
    "\n",
    "array2 = array1.reshape(2, 5)\n",
    "print(\"array2:\\n\",array2)\n",
    "\n",
    "array3 = array1.reshape(5, 2)\n",
    "print(\"array3:\\n\",array3)\n",
    "\n",
    "# 데이터 개수에 맞는 행과 열을 지정해 주어야만 함\n",
    "#ValueError: cannot reshape array of size 10 into shape (3,3)\n",
    "#array4 = array1.reshape(3, 3)\n",
    "#print(\"array4:\\n\",array4)"
   ]
  },
  {
   "cell_type": "markdown",
   "id": "5470f100",
   "metadata": {},
   "source": [
    "### reshape()의 argument로 -1 설정하기\n",
    "* argument 둘 다 -1로 지정할 수는 없음"
   ]
  },
  {
   "cell_type": "code",
   "execution_count": 43,
   "id": "409afd88",
   "metadata": {},
   "outputs": [
    {
     "name": "stdout",
     "output_type": "stream",
     "text": [
      "array1:\n",
      " [0 1 2 3 4 5 6 7 8 9]\n",
      "array2의 shape:\n",
      " (2, 5)\n",
      "array2 :\n",
      " [[0 1 2 3 4]\n",
      " [5 6 7 8 9]]\n",
      "array3의 shape:\n",
      " (5, 2)\n",
      "array3 :\n",
      " [[0 1]\n",
      " [2 3]\n",
      " [4 5]\n",
      " [6 7]\n",
      " [8 9]]\n"
     ]
    }
   ],
   "source": [
    "array1 = np.arange(10)\n",
    "print(\"array1:\\n\",array1)\n",
    "\n",
    "#reshpae(-1, 5): 열을 5로 지정하고 행은 이에 맞추어서 자동으로 지정됨\n",
    "array2 = array1.reshape(-1, 5)\n",
    "print(\"array2의 shape:\\n\",array2.shape)\n",
    "print(\"array2 :\\n\",array2)\n",
    "\n",
    "#reshpae(5, -1): 5 X 2\n",
    "#행을 5로 지정하고 열은 이에 맞추어서 자동으로 지정됨\n",
    "array3 = array1.reshape(5, -1)\n",
    "print(\"array3의 shape:\\n\",array3.shape)\n",
    "print(\"array3 :\\n\",array3)"
   ]
  },
  {
   "cell_type": "code",
   "execution_count": 46,
   "id": "81d42348",
   "metadata": {},
   "outputs": [
    {
     "name": "stdout",
     "output_type": "stream",
     "text": [
      "array1의 shape:\n",
      " (5,)\n",
      "array1 :\n",
      " [0 1 2 3 4]\n",
      "array2의 shape:\n",
      " (5, 1)\n",
      "array2 :\n",
      " [[0]\n",
      " [1]\n",
      " [2]\n",
      " [3]\n",
      " [4]]\n",
      "array3의 shape:\n",
      " (5,)\n",
      "array3 :\n",
      " [0 1 2 3 4]\n"
     ]
    }
   ],
   "source": [
    "#1차원 배열\n",
    "array1 = np.arange(5)\n",
    "print(\"array1의 shape:\\n\",array1.shape)\n",
    "print(\"array1 :\\n\",array1)\n",
    "\n",
    "# 5 X 1 의 2차원 배열\n",
    "array2 = array1.reshape(-1, 1)\n",
    "print(\"array2의 shape:\\n\",array2.shape)\n",
    "print(\"array2 :\\n\",array2)\n",
    "\n",
    "# 2 차원 배열을 1차원 배열로 변환함\n",
    "array3 = array1.reshape(-1, )\n",
    "print(\"array3의 shape:\\n\",array3.shape)\n",
    "print(\"array3 :\\n\",array3)"
   ]
  },
  {
   "cell_type": "markdown",
   "id": "ff8f5c68",
   "metadata": {},
   "source": [
    "### ndarray 에서 indexing 하기"
   ]
  },
  {
   "cell_type": "code",
   "execution_count": 51,
   "id": "88708525",
   "metadata": {},
   "outputs": [
    {
     "name": "stdout",
     "output_type": "stream",
     "text": [
      "array1 :\n",
      " [0 1 2 3 4 5 6 7 8 9]\n",
      "array1_1 :\n",
      " [1 2 3 4 5 6 7 8 9]\n",
      "array1_2 :\n",
      " [1 2 3 4 5 6 7 8 9]\n"
     ]
    }
   ],
   "source": [
    "array1 = np.arange(10)\n",
    "print(\"array1 :\\n\",array1)\n",
    "\n",
    "array1_1 = np.arange(start=1, stop=10)\n",
    "print(\"array1_1 :\\n\",array1_1)\n",
    "\n",
    "array1_2 = np.arange(1, 10)\n",
    "print(\"array1_2 :\\n\",array1_2)"
   ]
  },
  {
   "cell_type": "code",
   "execution_count": 59,
   "id": "4ff99301",
   "metadata": {},
   "outputs": [
    {
     "name": "stdout",
     "output_type": "stream",
     "text": [
      "result : 3\n",
      "result : <class 'numpy.int32'>\n",
      "result2 : 9\n",
      "result3 : 8\n",
      "array1_2 :\n",
      " [1 2 3 4 5 6 7 8 9]\n",
      "array1_2 :\n",
      " [9 2 3 4 5 6 7 8 1]\n"
     ]
    }
   ],
   "source": [
    "array1_2 = np.arange(1, 10)\n",
    "\n",
    "result = array1_2[2]\n",
    "print(\"result :\", result)\n",
    "print(\"result :\", type(result))\n",
    "\n",
    "result2 = array1_2[-1]\n",
    "print(\"result2 :\", result2)\n",
    "result3 = array1_2[-2]\n",
    "print(\"result3 :\", result3)\n",
    "\n",
    "print(\"array1_2 :\\n\",array1_2)\n",
    "array1_2[0] = 9\n",
    "array1_2[8] = 1\n",
    "print(\"array1_2 :\\n\",array1_2)"
   ]
  },
  {
   "cell_type": "code",
   "execution_count": 60,
   "id": "9b31e2f5",
   "metadata": {},
   "outputs": [
    {
     "name": "stdout",
     "output_type": "stream",
     "text": [
      "array1_2_2d[0, 0]: 9\n",
      "array1_2_2d[1, 1]: 5\n",
      "array1_2_2d[2, 2]: 1\n",
      "array1_2_2d[0, 2]: 3\n",
      "----------------------------------------\n",
      "array1_2_2d :\n",
      " [[9 2 3]\n",
      " [4 5 6]\n",
      " [7 8 1]]\n",
      "array1_2_2의 shape : (3, 3)\n"
     ]
    }
   ],
   "source": [
    "#reshape()를 사용해서 2차원 배열로 변환하기\n",
    "array1_2_2d = array1_2.reshape(3, 3)\n",
    "\n",
    "'''\n",
    "array1_2_2d\n",
    " [[9 2 3]\n",
    " [4 5 6]\n",
    " [7 8 1]]\n",
    "'''\n",
    "print(\"array1_2_2d[0, 0]:\",array1_2_2d[0,0])\n",
    "print(\"array1_2_2d[1, 1]:\",array1_2_2d[1,1])\n",
    "print(\"array1_2_2d[2, 2]:\",array1_2_2d[2,2])\n",
    "print(\"array1_2_2d[0, 2]:\",array1_2_2d[0,2])\n",
    "\n",
    "print(\"-\"*40)\n",
    "print(\"array1_2_2d :\\n\",array1_2_2d)\n",
    "print(\"array1_2_2의 shape :\",array1_2_2d.shape)"
   ]
  },
  {
   "cell_type": "code",
   "execution_count": 63,
   "id": "6129f32e",
   "metadata": {},
   "outputs": [
    {
     "name": "stdout",
     "output_type": "stream",
     "text": [
      "array1_2_2d[0, 0]: 9\n",
      "array1_2_2d[1, 1]: 5\n",
      "array1_2_2d[2, 2]: 1\n",
      "array1_2_2d[0, 2]: 3\n",
      "----------------------------------------\n",
      "array1_2_2d[0][0]: 9\n",
      "array1_2_2d[1][1]: 5\n",
      "array1_2_2d[2][2]: 1\n",
      "array1_2_2d[0][2]: 3\n",
      "----------------------------------------\n",
      "array1_2_2d :\n",
      " [[9 2 3]\n",
      " [4 5 6]\n",
      " [7 8 1]]\n",
      "array1_2_2의 shape : (3, 3)\n"
     ]
    }
   ],
   "source": [
    "'''\n",
    "array1_2_2d\n",
    " [[9 2 3]\n",
    " [4 5 6]\n",
    " [7 8 1]]\n",
    "'''\n",
    "print(\"array1_2_2d[0, 0]:\",array1_2_2d[0,0])\n",
    "print(\"array1_2_2d[1, 1]:\",array1_2_2d[1,1])\n",
    "print(\"array1_2_2d[2, 2]:\",array1_2_2d[2,2])\n",
    "print(\"array1_2_2d[0, 2]:\",array1_2_2d[0,2])\n",
    "print(\"-\"*40)\n",
    "\n",
    "print(\"array1_2_2d[0][0]:\",array1_2_2d[0][0])\n",
    "print(\"array1_2_2d[1][1]:\",array1_2_2d[1][1])\n",
    "print(\"array1_2_2d[2][2]:\",array1_2_2d[2][2])\n",
    "print(\"array1_2_2d[0][2]:\",array1_2_2d[0][2])\n",
    "\n",
    "print(\"-\"*40)\n",
    "print(\"array1_2_2d :\\n\",array1_2_2d)\n",
    "print(\"array1_2_2의 shape :\",array1_2_2d.shape)"
   ]
  },
  {
   "cell_type": "markdown",
   "id": "bdda158a",
   "metadata": {},
   "source": [
    "6 ndarray 에서 slicing 하기"
   ]
  },
  {
   "cell_type": "code",
   "execution_count": 70,
   "id": "5db4f957",
   "metadata": {},
   "outputs": [
    {
     "name": "stdout",
     "output_type": "stream",
     "text": [
      "array1.shape: (9,)\n",
      "array1 type: <class 'numpy.ndarray'>\n",
      "array1.:\n",
      " [1 2 3 4 5 6 7 8 9]\n",
      "----------------------------------------\n",
      "array2.shape: (3,)\n",
      "array2 type: <class 'numpy.ndarray'>\n",
      "array2.:\n",
      " [1 2 3]\n",
      "----------------------------------------\n",
      "array3.shape: (3,)\n",
      "array3 type: <class 'numpy.ndarray'>\n",
      "array3.:\n",
      " [1 2 3]\n",
      "----------------------------------------\n",
      "array4.shape: (6,)\n",
      "array4 type: <class 'numpy.ndarray'>\n",
      "array4.:\n",
      " [4 5 6 7 8 9]\n",
      "----------------------------------------\n",
      "array5.shape: (9,)\n",
      "array5 type: <class 'numpy.ndarray'>\n",
      "array5.:\n",
      " [1 2 3 4 5 6 7 8 9]\n",
      "----------------------------------------\n"
     ]
    }
   ],
   "source": [
    "array1 = np.arange(1, 10)\n",
    "print(\"array1.shape:\", array1.shape)\n",
    "print(\"array1 type:\", type(array1))\n",
    "print(\"array1.:\\n\", array1)\n",
    "print(\"-\"*40)\n",
    "\n",
    "array2 = array1[0:3]\n",
    "print(\"array2.shape:\", array2.shape)\n",
    "print(\"array2 type:\", type(array2))\n",
    "print(\"array2.:\\n\", array2)\n",
    "print(\"-\"*40)\n",
    "\n",
    "array3 = array1[:3]\n",
    "print(\"array3.shape:\", array3.shape)\n",
    "print(\"array3 type:\", type(array3))\n",
    "print(\"array3.:\\n\", array3)\n",
    "print(\"-\"*40)\n",
    "\n",
    "array4 = array1[3:]\n",
    "print(\"array4.shape:\", array4.shape)\n",
    "print(\"array4 type:\", type(array4))\n",
    "print(\"array4.:\\n\", array4)\n",
    "print(\"-\"*40)\n",
    "\n",
    "array5 = array1[:]\n",
    "print(\"array5.shape:\", array5.shape)\n",
    "print(\"array5 type:\", type(array5))\n",
    "print(\"array5.:\\n\", array5)\n",
    "print(\"-\"*40)"
   ]
  },
  {
   "cell_type": "code",
   "execution_count": 77,
   "id": "99db139c",
   "metadata": {},
   "outputs": [
    {
     "name": "stdout",
     "output_type": "stream",
     "text": [
      "array2d.shape: (3, 3)\n",
      "array2d type: <class 'numpy.ndarray'>\n",
      "array2d.:\n",
      " [[1 2 3]\n",
      " [4 5 6]\n",
      " [7 8 9]]\n",
      "----------------------------------------\n",
      "array2d[0:2, 0:2]:\n",
      " [[1 2]\n",
      " [4 5]]\n",
      "----------------------------------------\n",
      "array2d[1:3, 0:3]:\n",
      " [[4 5 6]\n",
      " [7 8 9]]\n",
      "----------------------------------------\n",
      "array2d[1:3, :]:\n",
      " [[4 5 6]\n",
      " [7 8 9]]\n",
      "----------------------------------------\n",
      "array2d[:, :]:\n",
      " [[1 2 3]\n",
      " [4 5 6]\n",
      " [7 8 9]]\n",
      "array2d[0:3, 0:3]:\n",
      " [[1 2 3]\n",
      " [4 5 6]\n",
      " [7 8 9]]\n",
      "----------------------------------------\n",
      "array2d[:2, 1:]:\n",
      " [[2 3]\n",
      " [5 6]]\n",
      "array2d[0:2, 1:3]:\n",
      " [[2 3]\n",
      " [5 6]]\n",
      "array2d[:2, 0].shape: (2,)\n",
      "array2d[:2, 0].shape : (2,)\n",
      "array2d[0:2, 0].:\n",
      " [1 4]\n"
     ]
    }
   ],
   "source": [
    "array2d = array1.reshape(3, 3)\n",
    "print(\"array2d.shape:\", array2d.shape)\n",
    "print(\"array2d type:\", type(array2d))\n",
    "print(\"array2d.:\\n\", array2d)\n",
    "print(\"-\"*40)\n",
    "\n",
    "# 1, 2, 행 X 1, 2 열\n",
    "print(\"array2d[0:2, 0:2]:\\n\",array2d[0:2, 0:2])\n",
    "print(\"-\"*40)\n",
    "\n",
    "# 1, 2, 행 X 1, 2, 3 열\n",
    "print(\"array2d[1:3, 0:3]:\\n\",array2d[1:3, 0:3])\n",
    "print(\"-\"*40)\n",
    "\n",
    "# 1, 2, 행 X 1, 2, 3 열 : 시작과 끝을 생략하면 처음부터 끝까지\n",
    "print(\"array2d[1:3, :]:\\n\",array2d[1:3, :])\n",
    "print(\"-\"*40)\n",
    "\n",
    "# 1, 2, 3 행 X 1, 2, 3 열 : 시작과 끝을 생략하면 처음부터 끝까지\n",
    "print(\"array2d[:, :]:\\n\",array2d[:, :])\n",
    "print(\"array2d[0:3, 0:3]:\\n\",array2d[0:3, 0:3])\n",
    "print(\"-\"*40)\n",
    "\n",
    "# 1, 2 행 X 2, 3 열\n",
    "print(\"array2d[:2, 1:]:\\n\",array2d[:2, 1:])\n",
    "print(\"array2d[0:2, 1:3]:\\n\",array2d[0:2, 1:3])\n",
    "\n",
    "# 1, 2 행 X 1열 : 열을 하나만 지정하면 1 차원 배열로 됨\n",
    "print(\"array2d[:2, 0].shape:\",array2d[:2, 0].shape)\n",
    "print(\"array2d[:2, 0].shape :\",array2d[:2, 0].shape)\n",
    "print(\"array2d[0:2, 0].:\\n\",array2d[0:2, 0])"
   ]
  },
  {
   "cell_type": "code",
   "execution_count": null,
   "id": "1737a297",
   "metadata": {},
   "outputs": [],
   "source": []
  },
  {
   "cell_type": "code",
   "execution_count": null,
   "id": "60ab8ed4",
   "metadata": {},
   "outputs": [],
   "source": []
  }
 ],
 "metadata": {
  "kernelspec": {
   "display_name": "Python 3 (ipykernel)",
   "language": "python",
   "name": "python3"
  },
  "language_info": {
   "codemirror_mode": {
    "name": "ipython",
    "version": 3
   },
   "file_extension": ".py",
   "mimetype": "text/x-python",
   "name": "python",
   "nbconvert_exporter": "python",
   "pygments_lexer": "ipython3",
   "version": "3.9.7"
  }
 },
 "nbformat": 4,
 "nbformat_minor": 5
}
