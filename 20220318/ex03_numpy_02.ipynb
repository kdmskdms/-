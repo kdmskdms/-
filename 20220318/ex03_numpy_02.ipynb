{
 "cells": [
  {
   "cell_type": "code",
   "execution_count": 2,
   "id": "b2912e4c",
   "metadata": {},
   "outputs": [],
   "source": [
    "import numpy as np"
   ]
  },
  {
   "cell_type": "markdown",
   "id": "3535f525",
   "metadata": {},
   "source": [
    "### Fancy Indexing"
   ]
  },
  {
   "cell_type": "code",
   "execution_count": null,
   "id": "9b591e5b",
   "metadata": {
    "ExecuteTime": {
     "end_time": "2022-03-18T04:39:13.355873Z",
     "start_time": "2022-03-18T04:39:13.343880Z"
    }
   },
   "outputs": [],
   "source": [
    "array1d = np.arange(1, 10)\n",
    "array2d = array1d.reshape(3, 3)\n",
    "print(\"array2d :\\n\",array2d)\n",
    "print(\"-\" * 40)\n",
    "\n",
    "array3 = array2d[[0, 1], 2]\n",
    "print(\"array3 :\\n\",array3)\n",
    "print(\"array2d[[0, 1], 2] :\\n\",array2d[[0, 1], 2])\n",
    "print(\"-\" * 40)\n",
    "\n",
    "array4 = array2d[[0, 2], 0:2]\n",
    "print(\"array4 :\\n\",array4)\n",
    "print(\"array2d[[0, 2], 0:2] :\\n\",array2d[[0, 2], 0:2])\n",
    "print(\"-\" * 40)\n",
    "\n",
    "array5 = array2d[[0, 1]]\n",
    "print(\"array5 :\\n\",array5)\n",
    "print(\"array2d[[0, 1]] :\\n\",array2d[[0, 1]])\n",
    "print(\"-\" * 40)\n",
    "\n",
    "array6 = array2d[[0, 1], :]\n",
    "print(\"array6 :\\n\",array6)\n",
    "print(\"array2d[[0, 1], :] :\\n\",array2d[[0, 1], :])"
   ]
  },
  {
   "cell_type": "markdown",
   "id": "4ab3c322",
   "metadata": {},
   "source": [
    "### Boolean Indexing"
   ]
  },
  {
   "cell_type": "code",
   "execution_count": 8,
   "id": "791a7b46",
   "metadata": {
    "ExecuteTime": {
     "end_time": "2022-03-18T04:40:06.005182Z",
     "start_time": "2022-03-18T04:40:06.000185Z"
    }
   },
   "outputs": [
    {
     "name": "stdout",
     "output_type": "stream",
     "text": [
      "[0 1 2 3 4 5 6 7 8 9]\n"
     ]
    }
   ],
   "source": [
    "array1d = np.arange(10)\n",
    "print(array1d)"
   ]
  },
  {
   "cell_type": "code",
   "execution_count": 12,
   "id": "f1c18487",
   "metadata": {
    "ExecuteTime": {
     "end_time": "2022-03-18T04:41:50.021143Z",
     "start_time": "2022-03-18T04:41:50.016146Z"
    }
   },
   "outputs": [
    {
     "name": "stdout",
     "output_type": "stream",
     "text": [
      "[False False False False False False  True  True  True  True]\n",
      "result_bool :\n",
      " [False False False False False False  True  True  True  True]\n",
      "result_bool :\n",
      " <class 'numpy.ndarray'>\n"
     ]
    }
   ],
   "source": [
    "print(array1d > 5)\n",
    "result_bool = array1d > 5\n",
    "print(\"result_bool :\\n\",result_bool)\n",
    "print(\"result_bool :\\n\",type(result_bool))"
   ]
  },
  {
   "cell_type": "code",
   "execution_count": 17,
   "id": "791b086e",
   "metadata": {
    "ExecuteTime": {
     "end_time": "2022-03-18T04:45:31.938097Z",
     "start_time": "2022-03-18T04:45:31.927104Z"
    }
   },
   "outputs": [
    {
     "name": "stdout",
     "output_type": "stream",
     "text": [
      "array1d (원래의 배열) :\n",
      " [0 1 2 3 4 5 6 7 8 9]\n",
      "array3 (Boolean Indexing - [array1d > 5]) :\n",
      " [6 7 8 9]\n"
     ]
    }
   ],
   "source": [
    "# Boolean Indexing\n",
    "print(\"array1d (원래의 배열) :\\n\",array1d)\n",
    "array3 = array1d[array1d > 5]\n",
    "print(\"array3 (Boolean Indexing - [array1d > 5]) :\\n\",array3)"
   ]
  },
  {
   "cell_type": "code",
   "execution_count": 18,
   "id": "f43efb31",
   "metadata": {
    "ExecuteTime": {
     "end_time": "2022-03-18T04:48:58.307607Z",
     "start_time": "2022-03-18T04:48:58.294624Z"
    }
   },
   "outputs": [
    {
     "name": "stdout",
     "output_type": "stream",
     "text": [
      "array3 (Boolean Indexing - [array1d > 5]) :\n",
      " [6 7 8 9]\n"
     ]
    }
   ],
   "source": [
    "# boolean 값으로 구성된 배열 생성하기\n",
    "#                  -- boolean index --\n",
    "boolean_indexes_array = \\\n",
    "    np.array([False, False, False, False, False, False, True, True, True, True])\n",
    "'''\n",
    "array1d (원래의 배열) :\n",
    " [0 1 2 3 4 5 6 7 8 9]\n",
    "'''\n",
    "array3 = array1d[boolean_indexes_array]\n"
   ]
  },
  {
   "cell_type": "code",
   "execution_count": 3,
   "id": "9de40a91",
   "metadata": {
    "ExecuteTime": {
     "end_time": "2022-03-18T04:54:29.214502Z",
     "start_time": "2022-03-18T04:54:29.198511Z"
    }
   },
   "outputs": [
    {
     "name": "stdout",
     "output_type": "stream",
     "text": [
      "indexes_array :\n",
      " [5 6 7 8]\n"
     ]
    },
    {
     "ename": "NameError",
     "evalue": "name 'array1d' is not defined",
     "output_type": "error",
     "traceback": [
      "\u001b[1;31m---------------------------------------------------------------------------\u001b[0m",
      "\u001b[1;31mNameError\u001b[0m                                 Traceback (most recent call last)",
      "\u001b[1;32mC:\\Users\\KIMDON~1\\AppData\\Local\\Temp/ipykernel_23536/1299788316.py\u001b[0m in \u001b[0;36m<module>\u001b[1;34m\u001b[0m\n\u001b[0;32m      6\u001b[0m  \u001b[1;33m[\u001b[0m\u001b[1;36m0\u001b[0m \u001b[1;36m1\u001b[0m \u001b[1;36m2\u001b[0m \u001b[1;36m3\u001b[0m \u001b[1;36m4\u001b[0m \u001b[1;36m5\u001b[0m \u001b[1;36m6\u001b[0m \u001b[1;36m7\u001b[0m \u001b[1;36m8\u001b[0m \u001b[1;36m9\u001b[0m\u001b[1;33m]\u001b[0m\u001b[1;33m\u001b[0m\u001b[1;33m\u001b[0m\u001b[0m\n\u001b[0;32m      7\u001b[0m '''\n\u001b[1;32m----> 8\u001b[1;33m \u001b[0marray4\u001b[0m \u001b[1;33m=\u001b[0m \u001b[0marray1d\u001b[0m\u001b[1;33m[\u001b[0m\u001b[0mindexes_array\u001b[0m\u001b[1;33m]\u001b[0m\u001b[1;33m\u001b[0m\u001b[1;33m\u001b[0m\u001b[0m\n\u001b[0m\u001b[0;32m      9\u001b[0m \u001b[0mprint\u001b[0m\u001b[1;33m(\u001b[0m\u001b[1;34m\"array4 :\\n\"\u001b[0m\u001b[1;33m,\u001b[0m\u001b[0marray4\u001b[0m\u001b[1;33m)\u001b[0m\u001b[1;33m\u001b[0m\u001b[1;33m\u001b[0m\u001b[0m\n\u001b[0;32m     10\u001b[0m \u001b[0mprint\u001b[0m\u001b[1;33m(\u001b[0m\u001b[1;34m\"-\"\u001b[0m \u001b[1;33m*\u001b[0m \u001b[1;36m40\u001b[0m\u001b[1;33m)\u001b[0m\u001b[1;33m\u001b[0m\u001b[1;33m\u001b[0m\u001b[0m\n",
      "\u001b[1;31mNameError\u001b[0m: name 'array1d' is not defined"
     ]
    }
   ],
   "source": [
    "# np.array([5, 6, 7, 8]) <-- index 값(5, 6, 7, 8)으로 이루어진 배열\n",
    "indexes_array = np.array([5, 6, 7, 8])\n",
    "print(\"indexes_array :\\n\",indexes_array)\n",
    "'''\n",
    "array1d (원래의 배열) :\n",
    " [0 1 2 3 4 5 6 7 8 9]\n",
    "'''\n",
    "array4 = array1d[indexes_array]\n",
    "print(\"array4 :\\n\",array4)\n",
    "print(\"-\" * 40)\n",
    "\n",
    "indexes_array = np.array([5, 6, 7, 8])\n",
    "print(\"indexes_array :\\n\",indexes_array)\n",
    "array1d = np.arange(1, 10)\n",
    "'''\n",
    "array1d (원래의 배열) :\n",
    " [1 2 3 4 5 6 7 8 9]\n",
    "'''\n",
    "array5 = array1d[indexes_array]\n",
    "print(\"array5 :\\n\",array5)"
   ]
  },
  {
   "cell_type": "code",
   "execution_count": 26,
   "id": "f1613083",
   "metadata": {
    "ExecuteTime": {
     "end_time": "2022-03-18T04:58:20.914087Z",
     "start_time": "2022-03-18T04:58:20.894085Z"
    }
   },
   "outputs": [
    {
     "name": "stdout",
     "output_type": "stream",
     "text": [
      "array1d :\n",
      " [1 2 3 4 5 6 7 8 9]\n",
      "result_array :\n",
      " [6 7 8 9]\n",
      "array1d[array1d > 5] :\n",
      " [6 7 8 9]\n"
     ]
    }
   ],
   "source": [
    "array1d = np.arange(1, 10)\n",
    "print(\"array1d :\\n\",array1d)\n",
    "\n",
    "result = []\n",
    "for i in range(0, 9):\n",
    "    if array1d[i] > 5:\n",
    "        result.append(array1d[i])        \n",
    "result_array = np.array(result)        \n",
    "print(\"result_array :\\n\",result_array)\n",
    "\n",
    "print(\"array1d[array1d > 5] :\\n\",array1d[array1d > 5])"
   ]
  },
  {
   "cell_type": "markdown",
   "id": "4c3efdc1",
   "metadata": {},
   "source": [
    "### 배열(2차원 배열-행렬) 정렬하기\n",
    "* sort() 함수  /  ndarray 의 sort() 메소드\n",
    "* argsort() 함수"
   ]
  },
  {
   "cell_type": "code",
   "execution_count": 32,
   "id": "a8a2227b",
   "metadata": {
    "ExecuteTime": {
     "end_time": "2022-03-18T05:07:27.523462Z",
     "start_time": "2022-03-18T05:07:27.510479Z"
    }
   },
   "outputs": [
    {
     "name": "stdout",
     "output_type": "stream",
     "text": [
      "원래의 배열 :\n",
      " [3 1 9 5]\n",
      "-- np.sort() 함수로 정렬하기 : 원래의 배열이 변형되지 않음 --\n",
      "-- 정렬된 배열이 새로 생성됨 --\n",
      "원래의 배열 :\n",
      " [3 1 9 5]\n",
      "sort_array1 :\n",
      " [1 3 5 9]\n",
      "\n",
      "-- ndarray 의 sort() 메소드로 정렬하기 : 원래의 배열이 변형됨 --\n",
      "-- 정렬된 배열을 새로 생성하지 않음 --\n",
      "원래의 배열 :\n",
      " [1 3 5 9]\n",
      "sort_array2 :\n",
      " None\n"
     ]
    }
   ],
   "source": [
    "origin_array = np.array([3, 1, 9, 5])\n",
    "print(\"원래의 배열 :\\n\",origin_array)\n",
    "\n",
    "# np.sort() 함수로 정렬하기\n",
    "print(\"-- np.sort() 함수로 정렬하기 : 원래의 배열이 변형되지 않음 --\")\n",
    "print(\"-- 정렬된 배열이 새로 생성됨 --\")\n",
    "sort_array1 = np.sort(origin_array) \n",
    "print(\"원래의 배열 :\\n\",origin_array)\n",
    "print(\"sort_array1 :\\n\",sort_array1)\n",
    "print()\n",
    "\n",
    "# ndarray 의 sort() 메소드로 정렬하기\n",
    "print(\"-- ndarray 의 sort() 메소드로 정렬하기 : 원래의 배열이 변형됨 --\")\n",
    "print(\"-- 정렬된 배열을 새로 생성하지 않음 --\")\n",
    "sort_array2 = origin_array.sort()\n",
    "print(\"원래의 배열 :\\n\",origin_array)\n",
    "print(\"sort_array2 :\\n\",sort_array2)"
   ]
  },
  {
   "cell_type": "markdown",
   "id": "d0236e09",
   "metadata": {},
   "source": [
    "* 내림차순으로 정렬하기 - slicing(step: -1)"
   ]
  },
  {
   "cell_type": "code",
   "execution_count": 33,
   "id": "8e71e519",
   "metadata": {
    "ExecuteTime": {
     "end_time": "2022-03-18T05:09:54.190313Z",
     "start_time": "2022-03-18T05:09:54.181309Z"
    }
   },
   "outputs": [
    {
     "name": "stdout",
     "output_type": "stream",
     "text": [
      "sort_array1_descending :\n",
      " [9 5 3 1]\n"
     ]
    }
   ],
   "source": [
    "# np.sort() 함수로 내림차순 정렬하기\n",
    "sort_array1_descending = np.sort(origin_array)[::-1]\n",
    "print(\"sort_array1_descending :\\n\",sort_array1_descending)"
   ]
  },
  {
   "cell_type": "markdown",
   "id": "3de5418f",
   "metadata": {},
   "source": [
    "* 2차원 배열 행방향 정렬 / 열방향 정렬\n",
    "* axis=0 : 행방향        \n",
    "* axis=1 : 열방향"
   ]
  },
  {
   "cell_type": "code",
   "execution_count": 35,
   "id": "11a97e8d",
   "metadata": {
    "ExecuteTime": {
     "end_time": "2022-03-18T05:14:52.412074Z",
     "start_time": "2022-03-18T05:14:52.407088Z"
    }
   },
   "outputs": [
    {
     "name": "stdout",
     "output_type": "stream",
     "text": [
      "행방향(행이 축이 됨) 정렬 :\n",
      " [[ 5  2]\n",
      " [ 8 20]]\n",
      "열방향(열이 축이 됨) 정렬 :\n",
      " [[ 8 20]\n",
      " [ 2  5]]\n"
     ]
    }
   ],
   "source": [
    "array2d = np.array([[8, 20], \n",
    "                    [5, 2]])\n",
    "\n",
    "sort_array2d_row = np.sort(array2d, axis=0)\n",
    "print(\"행방향(행이 축이 됨) 정렬 :\\n\",sort_array2d_row)\n",
    "\n",
    "sort_array2d_col = np.sort(array2d, axis=1)\n",
    "print(\"열방향(열이 축이 됨) 정렬 :\\n\",sort_array2d_col)"
   ]
  },
  {
   "cell_type": "markdown",
   "id": "5e680182",
   "metadata": {},
   "source": [
    "* argsort() : 정렬된 data 들의 정렬되기 전 index 를 반환함"
   ]
  },
  {
   "cell_type": "code",
   "execution_count": 38,
   "id": "f3e66021",
   "metadata": {
    "ExecuteTime": {
     "end_time": "2022-03-18T05:21:53.080410Z",
     "start_time": "2022-03-18T05:21:53.061416Z"
    }
   },
   "outputs": [
    {
     "name": "stdout",
     "output_type": "stream",
     "text": [
      "원래의 배열 :\n",
      " [3 1 9 5]\n",
      "원래의 index :\n",
      " [0 1 2 3]\n",
      "sort_array (정렬된 숫자들) :\n",
      " [1 3 5 9]\n",
      "argsort_indexes_array (정렬되기 전 숫자들의 index) :\n",
      " [1 0 3 2]\n"
     ]
    }
   ],
   "source": [
    "origin_array = np.array([3, 1, 9, 5])\n",
    "print(\"원래의 배열 :\\n\",origin_array)\n",
    "print(\"원래의 index :\\n\",np.array([0, 1, 2, 3]))\n",
    "\n",
    "sort_array = np.sort(origin_array)\n",
    "print(\"sort_array (정렬된 숫자들) :\\n\",sort_array)\n",
    "argsort_indexes_array = np.argsort(origin_array)\n",
    "print(\"argsort_indexes_array (정렬되기 전 숫자들의 index) :\\n\",argsort_indexes_array)"
   ]
  },
  {
   "cell_type": "code",
   "execution_count": 45,
   "id": "b063d1a3",
   "metadata": {
    "ExecuteTime": {
     "end_time": "2022-03-18T05:42:29.764368Z",
     "start_time": "2022-03-18T05:42:29.745378Z"
    }
   },
   "outputs": [
    {
     "name": "stdout",
     "output_type": "stream",
     "text": [
      "원래의 행렬 :\n",
      " [6 3 8 2]\n",
      "원래의 인덱스 :\n",
      " [0 1 2 3]\n",
      "내림차순 정렬 :\n",
      " [8 6 3 2]\n",
      "정렬전 숫자들의 자리에 재배치된 인덱스\n",
      "[2 0 1 3]\n"
     ]
    }
   ],
   "source": [
    "origin_array = np.array([6, 3, 8, 2])\n",
    "print(\"원래의 행렬 :\\n\",origin_array)\n",
    "print(\"원래의 인덱스 :\\n\",np.array([0, 1, 2, 3]))\n",
    "print(\"내림차순 정렬 :\\n\",np.sort(origin_array)[::-1])\n",
    "print(\"정렬전 숫자들의 자리에 재배치된 인덱스\")\n",
    "print(np.argsort(origin_array)[::-1])"
   ]
  },
  {
   "cell_type": "code",
   "execution_count": 55,
   "id": "7416eb41",
   "metadata": {
    "ExecuteTime": {
     "end_time": "2022-03-18T05:59:19.577359Z",
     "start_time": "2022-03-18T05:59:19.555381Z"
    }
   },
   "outputs": [
    {
     "name": "stdout",
     "output_type": "stream",
     "text": [
      "score_array (원본) :\n",
      " [85 92 84 99 76]\n",
      "원본 인덱스 :\n",
      " [0 1 2 3 4]\n",
      "sort_score  (정렬) :\n",
      " [76 84 85 92 99]\n",
      "sort_score_descending  (내림차순) :\n",
      " [99 92 85 84 76]\n",
      "sort_indexes :\n",
      " [4 2 0 1 3]\n",
      "----------------------------------------\n",
      "-- 성적 오름차순으로 이름 출력하기 --\n",
      "['안중근' '대조영' '이순신' '강감찬' '유관순']\n",
      "----------------------------------------\n",
      "-- 성적 내림차순으로 이름 출력하기 --\n",
      "['유관순' '강감찬' '이순신' '대조영' '안중근']\n",
      "----------------------------------------\n"
     ]
    }
   ],
   "source": [
    "student_array = np.array([\"이순신\", \"강감찬\", \"대조영\", \"유관순\", \"안중근\"])\n",
    "score_array   = np.array([85, 92, 84, 99, 76])\n",
    "\n",
    "print(\"score_array (원본) :\\n\",score_array)\n",
    "print(\"원본 인덱스 :\\n\",np.array([0, 1, 2, 3, 4]))\n",
    "sort_score   = np.sort(score_array)\n",
    "print(\"sort_score  (정렬) :\\n\",sort_score)\n",
    "sort_score_descending = np.sort(score_array)[::-1]\n",
    "print(\"sort_score_descending  (내림차순) :\\n\",sort_score_descending)\n",
    "sort_indexes = np.argsort(score_array)\n",
    "print(\"sort_indexes :\\n\",sort_indexes)\n",
    "print(\"-\" * 40)\n",
    "\n",
    "# 성적 오름차순으로 이름 출력하기\n",
    "print(\"-- 성적 오름차순으로 이름 출력하기 --\")\n",
    "print(student_array[sort_indexes])\n",
    "print(\"-\" * 40)\n",
    "\n",
    "# 성적 내림차순으로 이름 출력하기\n",
    "print(\"-- 성적 내림차순으로 이름 출력하기 --\")\n",
    "sort_indexes_descending = np.argsort(score_array)[::-1]\n",
    "print(student_array[sort_indexes_descending])\n",
    "print(\"-\" * 40)\n"
   ]
  },
  {
   "cell_type": "code",
   "execution_count": 52,
   "id": "dcae4c8c",
   "metadata": {
    "ExecuteTime": {
     "end_time": "2022-03-18T05:50:46.666756Z",
     "start_time": "2022-03-18T05:50:46.657751Z"
    }
   },
   "outputs": [
    {
     "name": "stdout",
     "output_type": "stream",
     "text": [
      "[1 2 3 4 5 6 7 8 9]\n",
      "[6 7 8 9]\n"
     ]
    }
   ],
   "source": [
    "array1 = np.arange(1, 10)\n",
    "print(array1)\n",
    "print(array1[np.array([5, 6, 7, 8])])"
   ]
  },
  {
   "cell_type": "markdown",
   "id": "f059d56f",
   "metadata": {},
   "source": [
    "### 행렬의 합(내적) 구하기 - np.dot(행렬1, 행렬2) 함수"
   ]
  },
  {
   "cell_type": "code",
   "execution_count": 57,
   "id": "cce50990",
   "metadata": {
    "ExecuteTime": {
     "end_time": "2022-03-18T06:07:28.750851Z",
     "start_time": "2022-03-18T06:07:28.743865Z"
    }
   },
   "outputs": [
    {
     "name": "stdout",
     "output_type": "stream",
     "text": [
      "행렬의 내적 :\n",
      " [[ 58  64]\n",
      " [139 154]]\n"
     ]
    }
   ],
   "source": [
    "array_a = np.array([[1, 2, 3],\n",
    "                    [4, 5, 6]])\n",
    "\n",
    "array_b = np.array([[7, 8], \n",
    "                    [9, 10], \n",
    "                    [11, 12]])\n",
    "\n",
    "product_array = np.dot(array_a, array_b)\n",
    "print(\"행렬의 내적 :\\n\",product_array)"
   ]
  },
  {
   "cell_type": "markdown",
   "id": "f23ed56d",
   "metadata": {},
   "source": [
    "### 전치 행렬 구하기 (transposed matrix) - np.transpose(행렬) 함수 사용"
   ]
  },
  {
   "cell_type": "code",
   "execution_count": 59,
   "id": "80b3ecc2",
   "metadata": {
    "ExecuteTime": {
     "end_time": "2022-03-18T06:12:08.894720Z",
     "start_time": "2022-03-18T06:12:08.880728Z"
    }
   },
   "outputs": [
    {
     "name": "stdout",
     "output_type": "stream",
     "text": [
      "array_a :\n",
      " [[1 2]\n",
      " [3 4]\n",
      " [5 6]]\n",
      "array_a 의 전치행렬 :\n",
      " [[1 3 5]\n",
      " [2 4 6]]\n"
     ]
    }
   ],
   "source": [
    "array_a = np.array([[1, 2], \n",
    "                    [3, 4], \n",
    "                    [5, 6]])\n",
    "print(\"array_a :\\n\",array_a)\n",
    "\n",
    "transpose_matrix = np.transpose(array_a)\n",
    "print(\"array_a 의 전치행렬 :\\n\",transpose_matrix)"
   ]
  },
  {
   "cell_type": "code",
   "execution_count": 60,
   "id": "7a53dcd4",
   "metadata": {
    "ExecuteTime": {
     "end_time": "2022-03-18T06:13:07.549622Z",
     "start_time": "2022-03-18T06:13:07.535630Z"
    }
   },
   "outputs": [
    {
     "name": "stdout",
     "output_type": "stream",
     "text": [
      "array_a :\n",
      " [[1 2 3]\n",
      " [4 5 6]\n",
      " [7 8 9]]\n",
      "array_a 의 전치행렬 :\n",
      " [[1 4 7]\n",
      " [2 5 8]\n",
      " [3 6 9]]\n"
     ]
    }
   ],
   "source": [
    "array_a = np.array([[1, 2, 3], \n",
    "                    [4, 5, 6], \n",
    "                    [7, 8, 9]])\n",
    "print(\"array_a :\\n\",array_a)\n",
    "\n",
    "transpose_matrix = np.transpose(array_a)\n",
    "print(\"array_a 의 전치행렬 :\\n\",transpose_matrix)"
   ]
  },
  {
   "cell_type": "code",
   "execution_count": null,
   "id": "6320bc4d",
   "metadata": {},
   "outputs": [],
   "source": []
  },
  {
   "cell_type": "code",
   "execution_count": null,
   "id": "a59f9a05",
   "metadata": {},
   "outputs": [],
   "source": []
  }
 ],
 "metadata": {
  "hide_input": false,
  "kernelspec": {
   "display_name": "Python 3 (ipykernel)",
   "language": "python",
   "name": "python3"
  },
  "language_info": {
   "codemirror_mode": {
    "name": "ipython",
    "version": 3
   },
   "file_extension": ".py",
   "mimetype": "text/x-python",
   "name": "python",
   "nbconvert_exporter": "python",
   "pygments_lexer": "ipython3",
   "version": "3.9.7"
  },
  "toc": {
   "base_numbering": 1,
   "nav_menu": {},
   "number_sections": true,
   "sideBar": true,
   "skip_h1_title": false,
   "title_cell": "Table of Contents",
   "title_sidebar": "Contents",
   "toc_cell": false,
   "toc_position": {},
   "toc_section_display": true,
   "toc_window_display": false
  },
  "varInspector": {
   "cols": {
    "lenName": 16,
    "lenType": 16,
    "lenVar": 40
   },
   "kernels_config": {
    "python": {
     "delete_cmd_postfix": "",
     "delete_cmd_prefix": "del ",
     "library": "var_list.py",
     "varRefreshCmd": "print(var_dic_list())"
    },
    "r": {
     "delete_cmd_postfix": ") ",
     "delete_cmd_prefix": "rm(",
     "library": "var_list.r",
     "varRefreshCmd": "cat(var_dic_list()) "
    }
   },
   "types_to_exclude": [
    "module",
    "function",
    "builtin_function_or_method",
    "instance",
    "_Feature"
   ],
   "window_display": false
  }
 },
 "nbformat": 4,
 "nbformat_minor": 5
}
