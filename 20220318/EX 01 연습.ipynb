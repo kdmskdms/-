{
 "cells": [
  {
   "cell_type": "code",
   "execution_count": 1,
   "id": "40e8fecc",
   "metadata": {},
   "outputs": [
    {
     "name": "stdout",
     "output_type": "stream",
     "text": [
      "A지점 통과\n",
      "B지점 통과\n",
      "<generator object test at 0x000002116151D270>\n"
     ]
    }
   ],
   "source": [
    "def test():\n",
    "    print(\"함수가 호출되었습니다\")\n",
    "    yield \"test\"\n",
    "\n",
    "print(\"A지점 통과\")\n",
    "test()\n",
    "print(\"B지점 통과\")\n",
    "test()\n",
    "print(test())"
   ]
  },
  {
   "cell_type": "code",
   "execution_count": 2,
   "id": "1bed6bf7",
   "metadata": {},
   "outputs": [
    {
     "name": "stdout",
     "output_type": "stream",
     "text": [
      "D 지점 통과\n",
      "A지점 통과\n",
      "1\n",
      "E지점 통과\n",
      "B지점 통과\n",
      "2\n",
      "F지점 통과\n",
      "C지점 통과\n"
     ]
    },
    {
     "ename": "StopIteration",
     "evalue": "",
     "output_type": "error",
     "traceback": [
      "\u001b[1;31m---------------------------------------------------------------------------\u001b[0m",
      "\u001b[1;31mStopIteration\u001b[0m                             Traceback (most recent call last)",
      "\u001b[1;32mC:\\Users\\KIMDON~1\\AppData\\Local\\Temp/ipykernel_21400/3205708053.py\u001b[0m in \u001b[0;36m<module>\u001b[1;34m\u001b[0m\n\u001b[0;32m     14\u001b[0m \u001b[0mprint\u001b[0m\u001b[1;33m(\u001b[0m\u001b[0mb\u001b[0m\u001b[1;33m)\u001b[0m\u001b[1;33m\u001b[0m\u001b[1;33m\u001b[0m\u001b[0m\n\u001b[0;32m     15\u001b[0m \u001b[0mprint\u001b[0m\u001b[1;33m(\u001b[0m\u001b[1;34m\"F지점 통과\"\u001b[0m\u001b[1;33m)\u001b[0m\u001b[1;33m\u001b[0m\u001b[1;33m\u001b[0m\u001b[0m\n\u001b[1;32m---> 16\u001b[1;33m \u001b[0mc\u001b[0m \u001b[1;33m=\u001b[0m \u001b[0mnext\u001b[0m\u001b[1;33m(\u001b[0m\u001b[0moutput\u001b[0m\u001b[1;33m)\u001b[0m\u001b[1;33m\u001b[0m\u001b[1;33m\u001b[0m\u001b[0m\n\u001b[0m\u001b[0;32m     17\u001b[0m \u001b[0mprint\u001b[0m\u001b[1;33m(\u001b[0m\u001b[0mc\u001b[0m\u001b[1;33m)\u001b[0m\u001b[1;33m\u001b[0m\u001b[1;33m\u001b[0m\u001b[0m\n\u001b[0;32m     18\u001b[0m \u001b[1;33m\u001b[0m\u001b[0m\n",
      "\u001b[1;31mStopIteration\u001b[0m: "
     ]
    }
   ],
   "source": [
    "def test():\n",
    "    print(\"A지점 통과\")\n",
    "    yield 1\n",
    "    print(\"B지점 통과\")\n",
    "    yield 2\n",
    "    print(\"C지점 통과\")\n",
    "    \n",
    "output = test()\n",
    "print(\"D 지점 통과\")\n",
    "a = next(output)\n",
    "print(a)\n",
    "print(\"E지점 통과\")\n",
    "b = next(output)\n",
    "print(b)\n",
    "print(\"F지점 통과\")\n",
    "c = next(output)\n",
    "print(c)\n",
    "\n",
    "next(ouput)"
   ]
  },
  {
   "cell_type": "code",
   "execution_count": 3,
   "id": "50bd69fa",
   "metadata": {},
   "outputs": [
    {
     "name": "stdout",
     "output_type": "stream",
     "text": [
      "['ArithmeticError', 'AssertionError', 'AttributeError', 'BaseException', 'BlockingIOError', 'BrokenPipeError', 'BufferError', 'BytesWarning', 'ChildProcessError', 'ConnectionAbortedError', 'ConnectionError', 'ConnectionRefusedError', 'ConnectionResetError', 'DeprecationWarning', 'EOFError', 'Ellipsis', 'EnvironmentError', 'Exception', 'False', 'FileExistsError', 'FileNotFoundError', 'FloatingPointError', 'FutureWarning', 'GeneratorExit', 'IOError', 'ImportError', 'ImportWarning', 'IndentationError', 'IndexError', 'InterruptedError', 'IsADirectoryError', 'KeyError', 'KeyboardInterrupt', 'LookupError', 'MemoryError', 'ModuleNotFoundError', 'NameError', 'None', 'NotADirectoryError', 'NotImplemented', 'NotImplementedError', 'OSError', 'OverflowError', 'PendingDeprecationWarning', 'PermissionError', 'ProcessLookupError', 'RecursionError', 'ReferenceError', 'ResourceWarning', 'RuntimeError', 'RuntimeWarning', 'StopAsyncIteration', 'StopIteration', 'SyntaxError', 'SyntaxWarning', 'SystemError', 'SystemExit', 'TabError', 'TimeoutError', 'True', 'TypeError', 'UnboundLocalError', 'UnicodeDecodeError', 'UnicodeEncodeError', 'UnicodeError', 'UnicodeTranslateError', 'UnicodeWarning', 'UserWarning', 'ValueError', 'Warning', 'WindowsError', 'ZeroDivisionError', '__IPYTHON__', '__build_class__', '__debug__', '__doc__', '__import__', '__loader__', '__name__', '__package__', '__spec__', 'abs', 'all', 'any', 'ascii', 'bin', 'bool', 'breakpoint', 'bytearray', 'bytes', 'callable', 'chr', 'classmethod', 'compile', 'complex', 'copyright', 'credits', 'delattr', 'dict', 'dir', 'display', 'divmod', 'enumerate', 'eval', 'exec', 'execfile', 'filter', 'float', 'format', 'frozenset', 'get_ipython', 'getattr', 'globals', 'hasattr', 'hash', 'help', 'hex', 'id', 'input', 'int', 'isinstance', 'issubclass', 'iter', 'len', 'license', 'list', 'locals', 'map', 'max', 'memoryview', 'min', 'next', 'object', 'oct', 'open', 'ord', 'pow', 'print', 'property', 'range', 'repr', 'reversed', 'round', 'runfile', 'set', 'setattr', 'slice', 'sorted', 'staticmethod', 'str', 'sum', 'super', 'tuple', 'type', 'vars', 'zip']\n"
     ]
    }
   ],
   "source": [
    "import builtins\n",
    "\n",
    "print(dir(builtins))"
   ]
  },
  {
   "cell_type": "code",
   "execution_count": 5,
   "id": "e3ed7264",
   "metadata": {},
   "outputs": [
    {
     "name": "stdout",
     "output_type": "stream",
     "text": [
      "3의 배수를 입력하세요 : 5\n",
      "three_multiple() 함수에서 예외 발생함 : 3의 배수가 아님\n",
      "three_multiple() 함수 종료\n"
     ]
    }
   ],
   "source": [
    "def three_multiple():\n",
    "    try:\n",
    "        num3 = int(input(\"3의 배수를 입력하세요 : \"))\n",
    "        if num3 % 3 != 0:\n",
    "            raise IndexError(\"3의 배수가 아님\")\n",
    "        print(\"num3 :\",num3)   \n",
    "    except Exception as e:\n",
    "        print(\"three_multiple() 함수에서 예외 발생함 :\",e)\n",
    "    print(\"three_multiple() 함수 종료\")    \n",
    "    \n",
    "try:\n",
    "    three_multiple()        \n",
    "except Exception as e:\n",
    "    print(\"예외 발생함 :\",e)"
   ]
  },
  {
   "cell_type": "code",
   "execution_count": 6,
   "id": "57f7f6a2",
   "metadata": {},
   "outputs": [
    {
     "name": "stdout",
     "output_type": "stream",
     "text": [
      "3의 배수를 입력하세요: 4\n",
      "three_multiple() 함수에서 예외 발생함 : 3의 배수가 아닙니다\n",
      "three_multiple() 함수 종료\n"
     ]
    }
   ],
   "source": [
    "class ThreeMultipleError(Exception):\n",
    "    def __init__(self):\n",
    "        super().__init__(\"3의 배수가 아닙니다\")\n",
    "def three_multiple():\n",
    "    try:\n",
    "        num3 = int(input(\"3의 배수를 입력하세요: \"))\n",
    "        if num3 % 3 != 0:\n",
    "            raise ThreeMultipleError\n",
    "        print(\"num3 :\",num3)   \n",
    "    except Exception as e:\n",
    "        print(\"three_multiple() 함수에서 예외 발생함 :\",e)\n",
    "    print(\"three_multiple() 함수 종료\")  \n",
    "    \n",
    "three_multiple()"
   ]
  },
  {
   "cell_type": "code",
   "execution_count": null,
   "id": "f73c43d4",
   "metadata": {},
   "outputs": [],
   "source": []
  },
  {
   "cell_type": "code",
   "execution_count": null,
   "id": "b55bf091",
   "metadata": {},
   "outputs": [],
   "source": []
  }
 ],
 "metadata": {
  "kernelspec": {
   "display_name": "Python 3 (ipykernel)",
   "language": "python",
   "name": "python3"
  },
  "language_info": {
   "codemirror_mode": {
    "name": "ipython",
    "version": 3
   },
   "file_extension": ".py",
   "mimetype": "text/x-python",
   "name": "python",
   "nbconvert_exporter": "python",
   "pygments_lexer": "ipython3",
   "version": "3.9.7"
  }
 },
 "nbformat": 4,
 "nbformat_minor": 5
}
