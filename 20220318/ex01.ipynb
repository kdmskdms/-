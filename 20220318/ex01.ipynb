{
 "cells": [
  {
   "cell_type": "code",
   "execution_count": null,
   "id": "71661bba",
   "metadata": {
    "ExecuteTime": {
     "end_time": "2022-03-18T00:44:07.578917Z",
     "start_time": "2022-03-18T00:44:07.571921Z"
    }
   },
   "outputs": [],
   "source": [
    "'''\n",
    "266 page - 제너레이터\n",
    "'''\n",
    "def test():\n",
    "    print(\"함수가 호출되었습니다\")\n",
    "    yield \"test\"\n",
    "    \n",
    "print(\"A지점 통과\")\n",
    "test()\n",
    "print(\"B지점 통과\")\n",
    "test()\n",
    "print(test())"
   ]
  },
  {
   "cell_type": "code",
   "execution_count": null,
   "id": "75d3eea1",
   "metadata": {
    "ExecuteTime": {
     "end_time": "2022-03-18T00:48:15.833293Z",
     "start_time": "2022-03-18T00:48:15.815304Z"
    }
   },
   "outputs": [],
   "source": [
    "'''\n",
    "267 page\n",
    "'''\n",
    "def test():\n",
    "    print(\"A지점 통과\")\n",
    "    yield 1\n",
    "    print(\"B지점 통과\")\n",
    "    yield 2\n",
    "    print(\"C지점 통과\")\n",
    "    \n",
    "output = test()\n",
    "\n",
    "print(\"D지점 통과\")\n",
    "a = next(output)\n",
    "print(a)\n",
    "print(\"E지점 통과\")\n",
    "b = next(output)\n",
    "print(b)\n",
    "print(\"F지점 통과\")\n",
    "c = next(output)\n",
    "print(c)\n",
    "\n",
    "next(ouput)"
   ]
  },
  {
   "cell_type": "code",
   "execution_count": 9,
   "id": "5731c80a",
   "metadata": {
    "ExecuteTime": {
     "end_time": "2022-03-18T00:57:54.733258Z",
     "start_time": "2022-03-18T00:57:54.719247Z"
    }
   },
   "outputs": [
    {
     "name": "stdout",
     "output_type": "stream",
     "text": [
      "['ArithmeticError', 'AssertionError', 'AttributeError', 'BaseException', 'BlockingIOError', 'BrokenPipeError', 'BufferError', 'BytesWarning', 'ChildProcessError', 'ConnectionAbortedError', 'ConnectionError', 'ConnectionRefusedError', 'ConnectionResetError', 'DeprecationWarning', 'EOFError', 'Ellipsis', 'EnvironmentError', 'Exception', 'False', 'FileExistsError', 'FileNotFoundError', 'FloatingPointError', 'FutureWarning', 'GeneratorExit', 'IOError', 'ImportError', 'ImportWarning', 'IndentationError', 'IndexError', 'InterruptedError', 'IsADirectoryError', 'KeyError', 'KeyboardInterrupt', 'LookupError', 'MemoryError', 'ModuleNotFoundError', 'NameError', 'None', 'NotADirectoryError', 'NotImplemented', 'NotImplementedError', 'OSError', 'OverflowError', 'PendingDeprecationWarning', 'PermissionError', 'ProcessLookupError', 'RecursionError', 'ReferenceError', 'ResourceWarning', 'RuntimeError', 'RuntimeWarning', 'StopAsyncIteration', 'StopIteration', 'SyntaxError', 'SyntaxWarning', 'SystemError', 'SystemExit', 'TabError', 'TimeoutError', 'True', 'TypeError', 'UnboundLocalError', 'UnicodeDecodeError', 'UnicodeEncodeError', 'UnicodeError', 'UnicodeTranslateError', 'UnicodeWarning', 'UserWarning', 'ValueError', 'Warning', 'WindowsError', 'ZeroDivisionError', '__IPYTHON__', '__build_class__', '__debug__', '__doc__', '__import__', '__loader__', '__name__', '__package__', '__spec__', 'abs', 'all', 'any', 'ascii', 'bin', 'bool', 'breakpoint', 'bytearray', 'bytes', 'callable', 'chr', 'classmethod', 'compile', 'complex', 'copyright', 'credits', 'delattr', 'dict', 'dir', 'display', 'divmod', 'enumerate', 'eval', 'exec', 'execfile', 'filter', 'float', 'format', 'frozenset', 'get_ipython', 'getattr', 'globals', 'hasattr', 'hash', 'help', 'hex', 'id', 'input', 'int', 'isinstance', 'issubclass', 'iter', 'len', 'license', 'list', 'locals', 'map', 'max', 'memoryview', 'min', 'next', 'object', 'oct', 'open', 'ord', 'pow', 'print', 'property', 'range', 'repr', 'reversed', 'round', 'runfile', 'set', 'setattr', 'slice', 'sorted', 'staticmethod', 'str', 'sum', 'super', 'tuple', 'type', 'vars', 'zip']\n"
     ]
    }
   ],
   "source": [
    "import builtins\n",
    "\n",
    "print(dir(builtins))\n"
   ]
  },
  {
   "cell_type": "code",
   "execution_count": 14,
   "id": "6de6fc3f",
   "metadata": {
    "ExecuteTime": {
     "end_time": "2022-03-18T01:10:52.648244Z",
     "start_time": "2022-03-18T01:10:51.765131Z"
    }
   },
   "outputs": [
    {
     "name": "stdout",
     "output_type": "stream",
     "text": [
      "3의 배수를 입력하세요 : 2\n",
      "three_multiple() 함수에서 예외 발생함 : 3의 배수가 아님\n",
      "three_multiple() 함수 종료\n"
     ]
    }
   ],
   "source": [
    "def three_multiple():\n",
    "    try:\n",
    "        num3 = int(input(\"3의 배수를 입력하세요 : \"))\n",
    "        if num3 % 3 != 0:\n",
    "            raise IndexError(\"3의 배수가 아님\")\n",
    "        print(\"num3 :\",num3)   \n",
    "    except Exception as e:\n",
    "        print(\"three_multiple() 함수에서 예외 발생함 :\",e)\n",
    "    print(\"three_multiple() 함수 종료\")    \n",
    "    \n",
    "three_multiple()        "
   ]
  },
  {
   "cell_type": "code",
   "execution_count": 16,
   "id": "8c1357de",
   "metadata": {
    "ExecuteTime": {
     "end_time": "2022-03-18T01:15:17.572201Z",
     "start_time": "2022-03-18T01:15:16.318062Z"
    }
   },
   "outputs": [
    {
     "name": "stdout",
     "output_type": "stream",
     "text": [
      "3의 배수를 입력하세요 : 2\n",
      "three_multiple() 함수에서 예외 발생함 : 3의 배수가 아님\n",
      "three_multiple() 함수 종료\n"
     ]
    }
   ],
   "source": [
    "def three_multiple():\n",
    "    try:\n",
    "        num3 = int(input(\"3의 배수를 입력하세요 : \"))\n",
    "        if num3 % 3 != 0:\n",
    "            raise IndexError(\"3의 배수가 아님\")\n",
    "        print(\"num3 :\",num3)   \n",
    "    except Exception as e:\n",
    "        print(\"three_multiple() 함수에서 예외 발생함 :\",e)\n",
    "    print(\"three_multiple() 함수 종료\")    \n",
    "    \n",
    "try:\n",
    "    three_multiple()        \n",
    "except Exception as e:\n",
    "    print(\"예외 발생함 :\",e)"
   ]
  },
  {
   "cell_type": "code",
   "execution_count": null,
   "id": "76a32742",
   "metadata": {},
   "outputs": [],
   "source": [
    "'''\n",
    "예외 클래스 만들기\n",
    "\n",
    "형식) \n",
    "    class 클래스이름(Exception):\n",
    "        def __init__(self):\n",
    "           super().__init__(\"출력할 예외 메세지\")\n",
    "'''"
   ]
  },
  {
   "cell_type": "code",
   "execution_count": 18,
   "id": "906d8127",
   "metadata": {
    "ExecuteTime": {
     "end_time": "2022-03-18T01:22:12.337935Z",
     "start_time": "2022-03-18T01:22:10.940309Z"
    }
   },
   "outputs": [
    {
     "name": "stdout",
     "output_type": "stream",
     "text": [
      "3의 배수를 입력하세요 : 2\n",
      "three_multiple() 함수에서 예외 발생함 : 3의 배수가 아닙니다\n",
      "three_multiple() 함수 종료\n"
     ]
    }
   ],
   "source": [
    "class ThreeMultipleError(Exception):\n",
    "    def __init__(self):\n",
    "        super().__init__(\"3의 배수가 아닙니다\")\n",
    "        \n",
    "def three_multiple():\n",
    "    try:\n",
    "        num3 = int(input(\"3의 배수를 입력하세요 : \"))\n",
    "        if num3 % 3 != 0:\n",
    "            raise ThreeMultipleError\n",
    "        print(\"num3 :\",num3)   \n",
    "    except Exception as e:\n",
    "        print(\"three_multiple() 함수에서 예외 발생함 :\",e)\n",
    "    print(\"three_multiple() 함수 종료\")  \n",
    "    \n",
    "three_multiple()"
   ]
  },
  {
   "cell_type": "code",
   "execution_count": 20,
   "id": "4dc6bee4",
   "metadata": {
    "ExecuteTime": {
     "end_time": "2022-03-18T01:23:41.318239Z",
     "start_time": "2022-03-18T01:23:40.492315Z"
    }
   },
   "outputs": [
    {
     "name": "stdout",
     "output_type": "stream",
     "text": [
      "3의 배수를 입력하세요 : 5\n",
      "three_multiple() 함수에서 예외 발생함 : 3의 배수만 입력해 주세요\n",
      "three_multiple() 함수 종료\n"
     ]
    }
   ],
   "source": [
    "class ThreeMultipleError2(Exception):\n",
    "    pass\n",
    "        \n",
    "def three_multiple():\n",
    "    try:\n",
    "        num3 = int(input(\"3의 배수를 입력하세요 : \"))\n",
    "        if num3 % 3 != 0:\n",
    "            raise ThreeMultipleError2(\"3의 배수만 입력해 주세요\")\n",
    "        print(\"num3 :\",num3)   \n",
    "    except Exception as e:\n",
    "        print(\"three_multiple() 함수에서 예외 발생함 :\",e)\n",
    "    print(\"three_multiple() 함수 종료\")  \n",
    "    \n",
    "three_multiple()"
   ]
  },
  {
   "cell_type": "code",
   "execution_count": null,
   "id": "28d35720",
   "metadata": {},
   "outputs": [],
   "source": []
  },
  {
   "cell_type": "code",
   "execution_count": null,
   "id": "1db824a7",
   "metadata": {},
   "outputs": [],
   "source": []
  },
  {
   "cell_type": "code",
   "execution_count": null,
   "id": "d9333e04",
   "metadata": {},
   "outputs": [],
   "source": []
  }
 ],
 "metadata": {
  "hide_input": false,
  "kernelspec": {
   "display_name": "Python 3 (ipykernel)",
   "language": "python",
   "name": "python3"
  },
  "language_info": {
   "codemirror_mode": {
    "name": "ipython",
    "version": 3
   },
   "file_extension": ".py",
   "mimetype": "text/x-python",
   "name": "python",
   "nbconvert_exporter": "python",
   "pygments_lexer": "ipython3",
   "version": "3.9.7"
  },
  "toc": {
   "base_numbering": 1,
   "nav_menu": {},
   "number_sections": true,
   "sideBar": true,
   "skip_h1_title": false,
   "title_cell": "Table of Contents",
   "title_sidebar": "Contents",
   "toc_cell": false,
   "toc_position": {},
   "toc_section_display": true,
   "toc_window_display": false
  },
  "varInspector": {
   "cols": {
    "lenName": 16,
    "lenType": 16,
    "lenVar": 40
   },
   "kernels_config": {
    "python": {
     "delete_cmd_postfix": "",
     "delete_cmd_prefix": "del ",
     "library": "var_list.py",
     "varRefreshCmd": "print(var_dic_list())"
    },
    "r": {
     "delete_cmd_postfix": ") ",
     "delete_cmd_prefix": "rm(",
     "library": "var_list.r",
     "varRefreshCmd": "cat(var_dic_list()) "
    }
   },
   "types_to_exclude": [
    "module",
    "function",
    "builtin_function_or_method",
    "instance",
    "_Feature"
   ],
   "window_display": false
  }
 },
 "nbformat": 4,
 "nbformat_minor": 5
}
