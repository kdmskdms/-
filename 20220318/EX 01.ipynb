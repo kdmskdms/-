{
 "cells": [
  {
   "cell_type": "code",
   "execution_count": 1,
   "id": "1532cf91",
   "metadata": {},
   "outputs": [
    {
     "name": "stdout",
     "output_type": "stream",
     "text": [
      "A 지점 통과\n",
      "B 지점 통과\n",
      "<generator object test at 0x000001A9D1E38120>\n"
     ]
    }
   ],
   "source": [
    "'''\n",
    "266page - 제너레이터\n",
    "'''\n",
    "def test():\n",
    "    print(\"함수가 호출되었습니다\")\n",
    "    yield \"test\"\n",
    "\n",
    "print(\"A 지점 통과\")\n",
    "test()\n",
    "print(\"B 지점 통과\")\n",
    "test()\n",
    "print(test())"
   ]
  },
  {
   "cell_type": "code",
   "execution_count": 2,
   "id": "58c2e1e5",
   "metadata": {
    "scrolled": true
   },
   "outputs": [
    {
     "name": "stdout",
     "output_type": "stream",
     "text": [
      "C 지점 통과\n",
      "A 지점 통과\n",
      "1\n",
      "E 지점 통과\n",
      "B 지점 통과\n",
      "2\n",
      "F 지점 통과\n",
      "C 지점 통과\n"
     ]
    },
    {
     "ename": "StopIteration",
     "evalue": "",
     "output_type": "error",
     "traceback": [
      "\u001b[1;31m---------------------------------------------------------------------------\u001b[0m",
      "\u001b[1;31mStopIteration\u001b[0m                             Traceback (most recent call last)",
      "\u001b[1;32mC:\\Users\\KIMDON~1\\AppData\\Local\\Temp/ipykernel_2968/2761553106.py\u001b[0m in \u001b[0;36m<module>\u001b[1;34m\u001b[0m\n\u001b[0;32m     18\u001b[0m \u001b[0mprint\u001b[0m\u001b[1;33m(\u001b[0m\u001b[0mb\u001b[0m\u001b[1;33m)\u001b[0m\u001b[1;33m\u001b[0m\u001b[1;33m\u001b[0m\u001b[0m\n\u001b[0;32m     19\u001b[0m \u001b[0mprint\u001b[0m\u001b[1;33m(\u001b[0m\u001b[1;34m\"F 지점 통과\"\u001b[0m\u001b[1;33m)\u001b[0m\u001b[1;33m\u001b[0m\u001b[1;33m\u001b[0m\u001b[0m\n\u001b[1;32m---> 20\u001b[1;33m \u001b[0mc\u001b[0m \u001b[1;33m=\u001b[0m \u001b[0mnext\u001b[0m\u001b[1;33m(\u001b[0m\u001b[0moutput\u001b[0m\u001b[1;33m)\u001b[0m\u001b[1;33m\u001b[0m\u001b[1;33m\u001b[0m\u001b[0m\n\u001b[0m\u001b[0;32m     21\u001b[0m \u001b[0mprint\u001b[0m\u001b[1;33m(\u001b[0m\u001b[0mc\u001b[0m\u001b[1;33m)\u001b[0m\u001b[1;33m\u001b[0m\u001b[1;33m\u001b[0m\u001b[0m\n\u001b[0;32m     22\u001b[0m \u001b[1;33m\u001b[0m\u001b[0m\n",
      "\u001b[1;31mStopIteration\u001b[0m: "
     ]
    }
   ],
   "source": [
    "'''\n",
    "267page\n",
    "'''\n",
    "def test():\n",
    "    print(\"A 지점 통과\")\n",
    "    yield 1\n",
    "    print(\"B 지점 통과\")\n",
    "    yield 2\n",
    "    print(\"C 지점 통과\")\n",
    "    \n",
    "output = test()\n",
    "\n",
    "print(\"C 지점 통과\")\n",
    "a = next(output)\n",
    "print(a)\n",
    "print(\"E 지점 통과\")\n",
    "b = next(output)\n",
    "print(b)\n",
    "print(\"F 지점 통과\")\n",
    "c = next(output)\n",
    "print(c)\n",
    "\n",
    "next(output)"
   ]
  },
  {
   "cell_type": "code",
   "execution_count": 5,
   "id": "fc8c01b9",
   "metadata": {},
   "outputs": [
    {
     "name": "stdout",
     "output_type": "stream",
     "text": [
      "['ArithmeticError', 'AssertionError', 'AttributeError', 'BaseException', 'BlockingIOError', 'BrokenPipeError', 'BufferError', 'BytesWarning', 'ChildProcessError', 'ConnectionAbortedError', 'ConnectionError', 'ConnectionRefusedError', 'ConnectionResetError', 'DeprecationWarning', 'EOFError', 'Ellipsis', 'EnvironmentError', 'Exception', 'False', 'FileExistsError', 'FileNotFoundError', 'FloatingPointError', 'FutureWarning', 'GeneratorExit', 'IOError', 'ImportError', 'ImportWarning', 'IndentationError', 'IndexError', 'InterruptedError', 'IsADirectoryError', 'KeyError', 'KeyboardInterrupt', 'LookupError', 'MemoryError', 'ModuleNotFoundError', 'NameError', 'None', 'NotADirectoryError', 'NotImplemented', 'NotImplementedError', 'OSError', 'OverflowError', 'PendingDeprecationWarning', 'PermissionError', 'ProcessLookupError', 'RecursionError', 'ReferenceError', 'ResourceWarning', 'RuntimeError', 'RuntimeWarning', 'StopAsyncIteration', 'StopIteration', 'SyntaxError', 'SyntaxWarning', 'SystemError', 'SystemExit', 'TabError', 'TimeoutError', 'True', 'TypeError', 'UnboundLocalError', 'UnicodeDecodeError', 'UnicodeEncodeError', 'UnicodeError', 'UnicodeTranslateError', 'UnicodeWarning', 'UserWarning', 'ValueError', 'Warning', 'WindowsError', 'ZeroDivisionError', '__IPYTHON__', '__build_class__', '__debug__', '__doc__', '__import__', '__loader__', '__name__', '__package__', '__spec__', 'abs', 'all', 'any', 'ascii', 'bin', 'bool', 'breakpoint', 'bytearray', 'bytes', 'callable', 'chr', 'classmethod', 'compile', 'complex', 'copyright', 'credits', 'delattr', 'dict', 'dir', 'display', 'divmod', 'enumerate', 'eval', 'exec', 'execfile', 'filter', 'float', 'format', 'frozenset', 'get_ipython', 'getattr', 'globals', 'hasattr', 'hash', 'help', 'hex', 'id', 'input', 'int', 'isinstance', 'issubclass', 'iter', 'len', 'license', 'list', 'locals', 'map', 'max', 'memoryview', 'min', 'next', 'object', 'oct', 'open', 'ord', 'pow', 'print', 'property', 'range', 'repr', 'reversed', 'round', 'runfile', 'set', 'setattr', 'slice', 'sorted', 'staticmethod', 'str', 'sum', 'super', 'tuple', 'type', 'vars', 'zip']\n"
     ]
    }
   ],
   "source": [
    "import builtins\n",
    "\n",
    "print(dir(builtins)) "
   ]
  },
  {
   "cell_type": "code",
   "execution_count": 16,
   "id": "46774fe7",
   "metadata": {},
   "outputs": [
    {
     "name": "stdout",
     "output_type": "stream",
     "text": [
      "3의 배수를 입력하세요 : 5\n",
      "three_multiple() 함수에서 예외 발생함 : 3의 배수가 아님\n",
      "three_multiple() 함수 종료\n"
     ]
    }
   ],
   "source": [
    "def three_multiple():\n",
    "    try:\n",
    "        num3 = int(input(\"3의 배수를 입력하세요 : \"))\n",
    "        if num3 % 3 != 0:\n",
    "            raise IndexError(\"3의 배수가 아님\")\n",
    "        print(\"num3:\", num3)\n",
    "    except Exception as e:\n",
    "        print(\"three_multiple() 함수에서 예외 발생함 :\",e)\n",
    "    print(\"three_multiple() 함수 종료\")\n",
    "\n",
    "three_multiple()"
   ]
  },
  {
   "cell_type": "code",
   "execution_count": 18,
   "id": "0f3f4376",
   "metadata": {},
   "outputs": [
    {
     "name": "stdout",
     "output_type": "stream",
     "text": [
      "3의 배수를 입력하세요 : 2\n",
      "three_multiple() 함수에서 예외 발생함 : 3의 배수가 아님\n",
      "three_multiple() 함수 종료\n"
     ]
    }
   ],
   "source": [
    "def three_multiple():\n",
    "    try:\n",
    "        num3 = int(input(\"3의 배수를 입력하세요 : \"))\n",
    "        if num3 % 3 != 0:\n",
    "            raise IndexError(\"3의 배수가 아님\")\n",
    "        print(\"num3:\", num3)\n",
    "    except Exception as e:\n",
    "        print(\"three_multiple() 함수에서 예외 발생함 :\",e)\n",
    "    print(\"three_multiple() 함수 종료\")\n",
    "\n",
    "try:\n",
    "    three_multiple()\n",
    "except Exception as e:\n",
    "    print(\"예외 발생함 :\",e)"
   ]
  },
  {
   "cell_type": "code",
   "execution_count": null,
   "id": "7f050f2d",
   "metadata": {},
   "outputs": [],
   "source": [
    "'''\n",
    "예외 클래스 만들기\n",
    "\n",
    "형식) \n",
    "     class 클래스이름(Exception):\n",
    "        def __init__(self):\n",
    "            super().__init__(출력할 예외 메세지\")         \n",
    "'''"
   ]
  },
  {
   "cell_type": "code",
   "execution_count": 20,
   "id": "a205132c",
   "metadata": {},
   "outputs": [
    {
     "name": "stdout",
     "output_type": "stream",
     "text": [
      "3의 배수를 입력하세요 : 5\n",
      "three_multiple() 함수에서 예외 발생함 : 3의 배수가 아닙니다\n",
      "three_multiple() 함수 종료\n"
     ]
    }
   ],
   "source": [
    "class ThreeMultipleError(Exception):\n",
    "    def __init__(self):\n",
    "        super().__init__(\"3의 배수가 아닙니다\")\n",
    "\n",
    "def three_multiple():\n",
    "    try:\n",
    "        num3 = int(input(\"3의 배수를 입력하세요 : \"))\n",
    "        if num3 % 3 != 0:\n",
    "            raise ThreeMultipleError\n",
    "        print(\"num3:\", num3)\n",
    "    except Exception as e:\n",
    "        print(\"three_multiple() 함수에서 예외 발생함 :\",e)\n",
    "    print(\"three_multiple() 함수 종료\")\n",
    "\n",
    "three_multiple()"
   ]
  },
  {
   "cell_type": "code",
   "execution_count": 21,
   "id": "abad5832",
   "metadata": {},
   "outputs": [
    {
     "name": "stdout",
     "output_type": "stream",
     "text": [
      "3의 배수를 입력하세요 : 5\n",
      "three_multiple() 함수에서 예외 발생함 : 3의 배수만 입력해 주세요\n",
      "three_multiple() 함수 종료\n"
     ]
    }
   ],
   "source": [
    "class ThreeMultipleError2(Exception):\n",
    "    pass\n",
    "\n",
    "\n",
    "def three_multiple():\n",
    "    try:\n",
    "        num3 = int(input(\"3의 배수를 입력하세요 : \"))\n",
    "        if num3 % 3 != 0:\n",
    "            raise ThreeMultipleError2(\"3의 배수만 입력해 주세요\")\n",
    "        print(\"num3:\", num3)\n",
    "    except Exception as e:\n",
    "        print(\"three_multiple() 함수에서 예외 발생함 :\",e)\n",
    "    print(\"three_multiple() 함수 종료\")\n",
    "\n",
    "three_multiple()"
   ]
  },
  {
   "cell_type": "code",
   "execution_count": null,
   "id": "07f19106",
   "metadata": {},
   "outputs": [],
   "source": []
  }
 ],
 "metadata": {
  "kernelspec": {
   "display_name": "Python 3 (ipykernel)",
   "language": "python",
   "name": "python3"
  },
  "language_info": {
   "codemirror_mode": {
    "name": "ipython",
    "version": 3
   },
   "file_extension": ".py",
   "mimetype": "text/x-python",
   "name": "python",
   "nbconvert_exporter": "python",
   "pygments_lexer": "ipython3",
   "version": "3.9.7"
  }
 },
 "nbformat": 4,
 "nbformat_minor": 5
}
