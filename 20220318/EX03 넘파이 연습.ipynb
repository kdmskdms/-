{
 "cells": [
  {
   "cell_type": "code",
   "execution_count": 2,
   "id": "48deabb3",
   "metadata": {},
   "outputs": [],
   "source": [
    "import numpy as np"
   ]
  },
  {
   "cell_type": "code",
   "execution_count": 3,
   "id": "8b5888b9",
   "metadata": {},
   "outputs": [
    {
     "name": "stdout",
     "output_type": "stream",
     "text": [
      "array2d :\n",
      " [[1 2 3]\n",
      " [4 5 6]\n",
      " [7 8 9]]\n",
      "----------------------------------------\n",
      "array3 :\n",
      " [3 6]\n",
      "array2d[[0, 1], 2] :\n",
      " [3 6]\n",
      "----------------------------------------\n",
      "array4 :\n",
      " [[1 2]\n",
      " [7 8]]\n",
      "array2d[[0, 2], 0:2] :\n",
      " [[1 2]\n",
      " [7 8]]\n",
      "----------------------------------------\n",
      "array5 :\n",
      " [[1 2 3]\n",
      " [4 5 6]]\n",
      "array2d[[0, 1]] :\n",
      " [[1 2 3]\n",
      " [4 5 6]]\n",
      "----------------------------------------\n",
      "array6 :\n",
      " [[1 2 3]\n",
      " [4 5 6]]\n",
      "array2d[[0, 1], :] :\n",
      " [[1 2 3]\n",
      " [4 5 6]]\n"
     ]
    }
   ],
   "source": [
    "array1d = np.arange(1, 10)\n",
    "array2d = array1d.reshape(3, 3)\n",
    "print(\"array2d :\\n\",array2d)\n",
    "print(\"-\" * 40)\n",
    "\n",
    "array3 = array2d[[0, 1], 2]\n",
    "print(\"array3 :\\n\",array3)\n",
    "print(\"array2d[[0, 1], 2] :\\n\",array2d[[0, 1], 2])\n",
    "print(\"-\" * 40)\n",
    "\n",
    "array4 = array2d[[0, 2], 0:2]\n",
    "print(\"array4 :\\n\",array4)\n",
    "print(\"array2d[[0, 2], 0:2] :\\n\",array2d[[0, 2], 0:2])\n",
    "print(\"-\" * 40)\n",
    "\n",
    "array5 = array2d[[0, 1]]\n",
    "print(\"array5 :\\n\",array5)\n",
    "print(\"array2d[[0, 1]] :\\n\",array2d[[0, 1]])\n",
    "print(\"-\" * 40)\n",
    "\n",
    "array6 = array2d[[0, 1], :]\n",
    "print(\"array6 :\\n\",array6)\n",
    "print(\"array2d[[0, 1], :] :\\n\",array2d[[0, 1], :])"
   ]
  },
  {
   "cell_type": "code",
   "execution_count": 4,
   "id": "24c918cd",
   "metadata": {},
   "outputs": [
    {
     "name": "stdout",
     "output_type": "stream",
     "text": [
      "[0 1 2 3 4 5 6 7 8 9]\n"
     ]
    }
   ],
   "source": [
    "array1d = np.arange(10)\n",
    "print(array1d)"
   ]
  },
  {
   "cell_type": "code",
   "execution_count": 5,
   "id": "66eb1ad8",
   "metadata": {},
   "outputs": [
    {
     "name": "stdout",
     "output_type": "stream",
     "text": [
      "[False False False False False False  True  True  True  True]\n",
      "result_bool : \n",
      " [False False False False False False  True  True  True  True]\n",
      "result_bool : \n",
      " <class 'numpy.ndarray'>\n"
     ]
    }
   ],
   "source": [
    "print(array1d > 5)\n",
    "result_bool = array1d > 5\n",
    "print(\"result_bool : \\n\", result_bool)\n",
    "print(\"result_bool : \\n\", type(result_bool))"
   ]
  },
  {
   "cell_type": "code",
   "execution_count": 6,
   "id": "3628a2da",
   "metadata": {},
   "outputs": [
    {
     "name": "stdout",
     "output_type": "stream",
     "text": [
      "array1d(원래의 배열) :\n",
      " [0 1 2 3 4 5 6 7 8 9]\n",
      "array3 (Boolean Indexing - [array1d > 5]):\n",
      " [6 7 8 9]\n"
     ]
    }
   ],
   "source": [
    "print(\"array1d(원래의 배열) :\\n\",array1d)\n",
    "array3 = array1d[array1d >5]\n",
    "print(\"array3 (Boolean Indexing - [array1d > 5]):\\n\",array3)"
   ]
  },
  {
   "cell_type": "code",
   "execution_count": 9,
   "id": "bbb9acc5",
   "metadata": {},
   "outputs": [],
   "source": [
    "boolean_indexes_array = \\\n",
    "    np.array([False, False, False, False, False, False, True, True, True, True])\n",
    "'''\n",
    "array1d (원래의 배열) :\n",
    " [0 1 2 3 4 5 6 7 8 9]\n",
    "'''\n",
    "array3 = array1d[boolean_indexes_array]"
   ]
  },
  {
   "cell_type": "code",
   "execution_count": 16,
   "id": "23656b48",
   "metadata": {},
   "outputs": [
    {
     "name": "stdout",
     "output_type": "stream",
     "text": [
      "indexes_array :\n",
      " [5 6 7 8]\n",
      "array4 :\n",
      " [6 7 8 9]\n",
      "----------------------------------------\n",
      "indexes_array :\n",
      " [5 6 7 8]\n",
      "array5 :\n",
      " [6 7 8 9]\n"
     ]
    }
   ],
   "source": [
    "indexes_array = np.array([5, 6, 7, 8])\n",
    "print(\"indexes_array :\\n\",indexes_array)\n",
    "'''\n",
    "array1d (원래의 배열) :\n",
    " [0 1 2 3 4 5 6 7 8 9]\n",
    "'''\n",
    "array4 = array1d[indexes_array]\n",
    "print(\"array4 :\\n\",array4)\n",
    "print(\"-\" * 40)\n",
    "\n",
    "indexes_array = np.array([5, 6, 7, 8])\n",
    "print(\"indexes_array :\\n\",indexes_array)\n",
    "array1d = np.arange(1, 10)\n",
    "array5 = array1d[indexes_array]\n",
    "print(\"array5 :\\n\",array5)"
   ]
  },
  {
   "cell_type": "code",
   "execution_count": 18,
   "id": "9f4af003",
   "metadata": {},
   "outputs": [
    {
     "name": "stdout",
     "output_type": "stream",
     "text": [
      "array1d :\n",
      " [1 2 3 4 5 6 7 8 9]\n",
      "result_array :\n",
      " [6 7 8 9]\n",
      "array1d[array1d > 5] :\n",
      " [6 7 8 9]\n"
     ]
    }
   ],
   "source": [
    "array1d = np.arange(1, 10)\n",
    "print(\"array1d :\\n\",array1d)\n",
    "result = []\n",
    "for i in range(0,9):\n",
    "    if array1d[i] > 5:\n",
    "        result.append(array1d[i])\n",
    "result_array = np.array(result)\n",
    "print(\"result_array :\\n\",result_array)\n",
    "print(\"array1d[array1d > 5] :\\n\",array1d[array1d > 5])"
   ]
  },
  {
   "cell_type": "code",
   "execution_count": 20,
   "id": "37b98f22",
   "metadata": {},
   "outputs": [
    {
     "name": "stdout",
     "output_type": "stream",
     "text": [
      "원래의 배열 :\n",
      " [3 1 9 5]\n",
      "-- np.sort() 함수로 정렬하기 : 원래의 배열이 변형되지 않음 --\n",
      "-- 정렬된 배열이 새로 생성됨 --\n",
      "원래의 배열 :\n",
      " [3 1 9 5]\n",
      "sort_array1 :\n",
      " [1 3 5 9]\n",
      "\n",
      "-- ndarray 의 sort() 메소드로 정렬하기 : 원래의 배열이 변형됨 --\n",
      "-- 정렬된 배열을 새로 생성하지 않음 --\n",
      "원래의 배열 :\n",
      " [1 3 5 9]\n",
      "sort_array2 :\n",
      " None\n"
     ]
    }
   ],
   "source": [
    "origin_array = np.array([3, 1, 9, 5])\n",
    "print(\"원래의 배열 :\\n\", origin_array)\n",
    "\n",
    "print(\"-- np.sort() 함수로 정렬하기 : 원래의 배열이 변형되지 않음 --\")\n",
    "print(\"-- 정렬된 배열이 새로 생성됨 --\")\n",
    "sort_array1 = np.sort(origin_array)\n",
    "print(\"원래의 배열 :\\n\",origin_array)\n",
    "print(\"sort_array1 :\\n\",sort_array1)\n",
    "print()\n",
    "\n",
    "print(\"-- ndarray 의 sort() 메소드로 정렬하기 : 원래의 배열이 변형됨 --\")\n",
    "print(\"-- 정렬된 배열을 새로 생성하지 않음 --\")\n",
    "sort_array2 = origin_array.sort()\n",
    "print(\"원래의 배열 :\\n\",origin_array)\n",
    "print(\"sort_array2 :\\n\",sort_array2)"
   ]
  },
  {
   "cell_type": "code",
   "execution_count": 21,
   "id": "ae006f57",
   "metadata": {},
   "outputs": [
    {
     "name": "stdout",
     "output_type": "stream",
     "text": [
      "sort_array1_descending :\n",
      " [9 5 3 1]\n"
     ]
    }
   ],
   "source": [
    "sort_array1_descending = np.sort(origin_array)[::-1]\n",
    "print(\"sort_array1_descending :\\n\",sort_array1_descending)"
   ]
  },
  {
   "cell_type": "code",
   "execution_count": 22,
   "id": "508f628f",
   "metadata": {},
   "outputs": [
    {
     "name": "stdout",
     "output_type": "stream",
     "text": [
      "행방향(행이 축이 됨) 정렬 :\n",
      " [[ 5  2]\n",
      " [ 8 20]]\n",
      "열방향(열이 축이 됨) 정렬 :\n",
      " [[ 8 20]\n",
      " [ 2  5]]\n"
     ]
    }
   ],
   "source": [
    "array2d = np.array([[8, 20], \n",
    "                    [5, 2]])\n",
    "sort_array2d_row = np.sort(array2d, axis=0)\n",
    "print(\"행방향(행이 축이 됨) 정렬 :\\n\",sort_array2d_row)\n",
    "sort_array2d_col = np.sort(array2d, axis=1)\n",
    "print(\"열방향(열이 축이 됨) 정렬 :\\n\",sort_array2d_col)"
   ]
  },
  {
   "cell_type": "code",
   "execution_count": 24,
   "id": "c6cd839b",
   "metadata": {},
   "outputs": [
    {
     "name": "stdout",
     "output_type": "stream",
     "text": [
      "원래의 배열 :\n",
      " [3 1 9 5]\n",
      "원래의 index :\n",
      " [0 1 2 3]\n",
      "sort_array (정렬된 숫자들) :\n",
      " [1 3 5 9]\n",
      "argsort_indexes_array (정렬되기 전 숫자들의 index) :\n",
      " [1 0 3 2]\n"
     ]
    }
   ],
   "source": [
    "origin_array = np.array([3, 1, 9, 5])\n",
    "print(\"원래의 배열 :\\n\",origin_array)\n",
    "print(\"원래의 index :\\n\",np.array([0, 1, 2, 3]))\n",
    "sort_array = np.sort(origin_array)\n",
    "print(\"sort_array (정렬된 숫자들) :\\n\",sort_array)\n",
    "argsort_indexes_array = np.argsort(origin_array)\n",
    "print(\"argsort_indexes_array (정렬되기 전 숫자들의 index) :\\n\",argsort_indexes_array)"
   ]
  },
  {
   "cell_type": "code",
   "execution_count": 25,
   "id": "ee7f7c5e",
   "metadata": {},
   "outputs": [
    {
     "name": "stdout",
     "output_type": "stream",
     "text": [
      "원래의 행렬 :\n",
      " [6 3 8 2]\n",
      "원래의 인덱스 :\n",
      " [0 1 2 3]\n",
      "내림차순 정렬 :\n",
      " [8 6 3 2]\n",
      "정렬전 숫자들의 자리에 재배치된 인덱스\n",
      "[2 0 1 3]\n"
     ]
    }
   ],
   "source": [
    "origin_array = np.array([6, 3, 8, 2])\n",
    "print(\"원래의 행렬 :\\n\",origin_array)\n",
    "print(\"원래의 인덱스 :\\n\",np.array([0, 1, 2, 3]))\n",
    "print(\"내림차순 정렬 :\\n\",np.sort(origin_array)[::-1])\n",
    "print(\"정렬전 숫자들의 자리에 재배치된 인덱스\")\n",
    "print(np.argsort(origin_array)[::-1])"
   ]
  },
  {
   "cell_type": "code",
   "execution_count": 26,
   "id": "ad385c95",
   "metadata": {},
   "outputs": [
    {
     "name": "stdout",
     "output_type": "stream",
     "text": [
      "score_array (원본) :\n",
      " [85 92 84 99 76]\n",
      "원본 인덱스 :\n",
      " [0 1 2 3 4]\n",
      "sort_score  (정렬) :\n",
      " [76 84 85 92 99]\n",
      "sort_score_descending  (내림차순) :\n",
      " [99 92 85 84 76]\n",
      "sort_indexes :\n",
      " [4 2 0 1 3]\n",
      "----------------------------------------\n",
      "-- 성적 오름차순으로 이름 출력하기 --\n",
      "['안중근' '대조영' '이순신' '강감찬' '유관순']\n",
      "----------------------------------------\n",
      "-- 성적 내림차순으로 이름 출력하기 --\n",
      "['유관순' '강감찬' '이순신' '대조영' '안중근']\n",
      "----------------------------------------\n"
     ]
    }
   ],
   "source": [
    "student_array = np.array([\"이순신\", \"강감찬\", \"대조영\", \"유관순\", \"안중근\"])\n",
    "score_array   = np.array([85, 92, 84, 99, 76])\n",
    "print(\"score_array (원본) :\\n\",score_array)\n",
    "print(\"원본 인덱스 :\\n\",np.array([0, 1, 2, 3, 4]))\n",
    "sort_score   = np.sort(score_array)\n",
    "print(\"sort_score  (정렬) :\\n\",sort_score)\n",
    "sort_score_descending = np.sort(score_array)[::-1]\n",
    "print(\"sort_score_descending  (내림차순) :\\n\",sort_score_descending)\n",
    "sort_indexes = np.argsort(score_array)\n",
    "print(\"sort_indexes :\\n\",sort_indexes)\n",
    "print(\"-\" * 40)\n",
    "print(\"-- 성적 오름차순으로 이름 출력하기 --\")\n",
    "print(student_array[sort_indexes])\n",
    "print(\"-\" * 40)\n",
    "print(\"-- 성적 내림차순으로 이름 출력하기 --\")\n",
    "sort_indexes_descending = np.argsort(score_array)[::-1]\n",
    "print(student_array[sort_indexes_descending])\n",
    "print(\"-\" * 40)\n"
   ]
  },
  {
   "cell_type": "code",
   "execution_count": null,
   "id": "ddac977a",
   "metadata": {},
   "outputs": [],
   "source": [
    "array1 = np.arange(1, 10)\n",
    "print(array1)\n",
    "print(array1[np.array([5, 6, 7, 8])])"
   ]
  },
  {
   "cell_type": "code",
   "execution_count": 28,
   "id": "2fa7b55d",
   "metadata": {},
   "outputs": [
    {
     "name": "stdout",
     "output_type": "stream",
     "text": [
      "행렬의 내적 :\n",
      " [[ 58  64]\n",
      " [139 154]]\n"
     ]
    }
   ],
   "source": [
    "array_a = np.array([[1, 2, 3],\n",
    "                    [4, 5, 6]])\n",
    "\n",
    "array_b = np.array([[7, 8], \n",
    "                    [9, 10], \n",
    "                    [11, 12]])\n",
    "\n",
    "product_array = np.dot(array_a, array_b)\n",
    "print(\"행렬의 내적 :\\n\",product_array)"
   ]
  },
  {
   "cell_type": "code",
   "execution_count": null,
   "id": "6ff67634",
   "metadata": {},
   "outputs": [],
   "source": [
    "array_a = np.array([[1, 2], \n",
    "                    [3, 4], \n",
    "                    [5, 6]])\n",
    "print(\"array_a :\\n\",array_a)\n",
    "\n",
    "transpose_matrix = np.transpose(array_a)\n",
    "print(\"array_a 의 전치행렬 :\\n\",transpose_matrix)"
   ]
  },
  {
   "cell_type": "code",
   "execution_count": 29,
   "id": "5ef57311",
   "metadata": {},
   "outputs": [
    {
     "name": "stdout",
     "output_type": "stream",
     "text": [
      "array_a :\n",
      " [[1 2 3]\n",
      " [4 5 6]\n",
      " [7 8 9]]\n",
      "array_a 의 전치행렬 :\n",
      " [[1 4 7]\n",
      " [2 5 8]\n",
      " [3 6 9]]\n"
     ]
    }
   ],
   "source": [
    "array_a = np.array([[1, 2, 3], \n",
    "                    [4, 5, 6], \n",
    "                    [7, 8, 9]])\n",
    "print(\"array_a :\\n\",array_a)\n",
    "\n",
    "transpose_matrix = np.transpose(array_a)\n",
    "print(\"array_a 의 전치행렬 :\\n\",transpose_matrix)"
   ]
  },
  {
   "cell_type": "code",
   "execution_count": null,
   "id": "8a8be619",
   "metadata": {},
   "outputs": [],
   "source": []
  }
 ],
 "metadata": {
  "kernelspec": {
   "display_name": "Python 3 (ipykernel)",
   "language": "python",
   "name": "python3"
  },
  "language_info": {
   "codemirror_mode": {
    "name": "ipython",
    "version": 3
   },
   "file_extension": ".py",
   "mimetype": "text/x-python",
   "name": "python",
   "nbconvert_exporter": "python",
   "pygments_lexer": "ipython3",
   "version": "3.9.7"
  }
 },
 "nbformat": 4,
 "nbformat_minor": 5
}
