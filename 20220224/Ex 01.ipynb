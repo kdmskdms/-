{
 "cells": [
  {
   "cell_type": "code",
   "execution_count": 6,
   "id": "09ebdda9",
   "metadata": {},
   "outputs": [
    {
     "name": "stdout",
     "output_type": "stream",
     "text": [
      "hello/python/good/program\n"
     ]
    }
   ],
   "source": [
    "str1 = \"hello\"\n",
    "str2 = \"python\"\n",
    "str3 = \"good\"\n",
    "str4 =\"program\"\n",
    "print(str1,str2,str3,str4,sep=\"/\")"
   ]
  },
  {
   "cell_type": "code",
   "execution_count": 8,
   "id": "03760067",
   "metadata": {},
   "outputs": [
    {
     "name": "stdout",
     "output_type": "stream",
     "text": [
      "hello|python|good|program\n"
     ]
    }
   ],
   "source": [
    "str1 = \"hello\"\n",
    "str2 = \"python\"\n",
    "str3 = \"good\"\n",
    "str4 = \"program\"\n",
    "print(str1,str2,str3,str4, sep=\"|\")"
   ]
  },
  {
   "cell_type": "code",
   "execution_count": 9,
   "id": "41970c05",
   "metadata": {},
   "outputs": [
    {
     "name": "stdout",
     "output_type": "stream",
     "text": [
      "----------------------------------------\n",
      "글로벌글로벌글로벌\n",
      "----------------------------------------\n"
     ]
    }
   ],
   "source": [
    "str1 = \"글로벌\"\n",
    "print(\"-\" * 40)\n",
    "print(str1 * 3)\n",
    "print(\"-\" * 40)"
   ]
  },
  {
   "cell_type": "code",
   "execution_count": 15,
   "id": "171f238a",
   "metadata": {},
   "outputs": [
    {
     "name": "stdout",
     "output_type": "stream",
     "text": [
      "str2의 길이 : 12\n"
     ]
    }
   ],
   "source": [
    "'''\n",
    "문자열 길이 구하기 len(length)\n",
    "index(번호)는 0부터 시작한다\n",
    "'''\n",
    "str2 = \"Life is good\"\n",
    "print(\"str2의 길이 :\",len(str2))"
   ]
  },
  {
   "cell_type": "code",
   "execution_count": null,
   "id": "21472b78",
   "metadata": {},
   "outputs": [],
   "source": [
    "1) %- formatting\n",
    "2) str.format() - format() 메소드 함수\n",
    "3) f-string f를 붙여서 표기"
   ]
  },
  {
   "cell_type": "code",
   "execution_count": null,
   "id": "397dd658",
   "metadata": {},
   "outputs": [],
   "source": [
    "%s - 문자열\n",
    "%c - 문자 1개\n",
    "%d - 정수\n",
    "%% - literal %"
   ]
  },
  {
   "cell_type": "code",
   "execution_count": 35,
   "id": "e6b56743",
   "metadata": {},
   "outputs": [
    {
     "name": "stdout",
     "output_type": "stream",
     "text": [
      "이름 : 글로벌\n",
      "나이 : 24\n",
      "직업 : 장군\n",
      "이름 : 글로벌, 나이 : 24 세, 직업 : 장군\n"
     ]
    }
   ],
   "source": [
    "name = \"글로벌\"\n",
    "age = 24\n",
    "job = \"장군\"\n",
    "print(\"이름 : %s\" % name)\n",
    "print(\"나이 : %d\" % age)\n",
    "print(\"직업 : %s\" % job)\n",
    "print(\"이름 : %s, 나이 : %d 세, 직업 : %s\" %(name, age, job))"
   ]
  },
  {
   "cell_type": "code",
   "execution_count": 41,
   "id": "926473a9",
   "metadata": {},
   "outputs": [
    {
     "name": "stdout",
     "output_type": "stream",
     "text": [
      "이름: 글로벌, 나이 :24세\n",
      "이름: 글로벌, 나이 :24세, 직업 : 장군\n",
      "이름 : 글로벌, 나이 : 24세, 직업 : 장군\n",
      "직업 : 장군, 나이 :24세, 이름 : 글로벌\n"
     ]
    }
   ],
   "source": [
    "'''\n",
    "이름 : 글로벌, 나이 : 24세, 직업 : 장군\n",
    "'''\n",
    "print(\"이름: {}, 나이 :{}세\".format(name,age))\n",
    "print(\"이름: {}, 나이 :{}세, 직업 : {}\".format(name,age,job))\n",
    "print(\"이름 : {0}, 나이 : {1}세, 직업 : {2}\".format(name,age,job))\n",
    "print(\"직업 : {2}, 나이 :{1}세, 이름 : {0}\".format(name,age,job))"
   ]
  },
  {
   "cell_type": "code",
   "execution_count": 53,
   "id": "b800d84e",
   "metadata": {},
   "outputs": [
    {
     "name": "stdout",
     "output_type": "stream",
     "text": [
      "이름 :('글로벌',), 나이 :(24,)세, 주소 :서울\n"
     ]
    }
   ],
   "source": [
    "# f-string, 따옴표 앞에 f를 붙임\n",
    "name = \"글로벌\", \n",
    "age = 24, \n",
    "live = \"서울\" \n",
    "print(f\"이름 :{name}, 나이 :{age}세, 주소 :{live}\")"
   ]
  },
  {
   "cell_type": "code",
   "execution_count": 58,
   "id": "1e4fe089",
   "metadata": {},
   "outputs": [
    {
     "name": "stdout",
     "output_type": "stream",
     "text": [
      "나의 이름은 홍길동입니다\n",
      "나의 나이는 50세입니다\n"
     ]
    }
   ],
   "source": [
    "name = \"홍길동\"\n",
    "age = 50\n",
    "# 나의 이름은 이순신입니다\n",
    "print(\"나의 이름은 %s입니다\"% name)\n",
    "# 나의 나이는 50세입니다\n",
    "print(\"나의 나이는 %s세입니다\"% age)"
   ]
  },
  {
   "cell_type": "code",
   "execution_count": 62,
   "id": "673271ae",
   "metadata": {},
   "outputs": [
    {
     "name": "stdout",
     "output_type": "stream",
     "text": [
      "나는 고구마를 3개 먹었습니다\n",
      "나는 고구마를 3개 먹었습니다\n"
     ]
    }
   ],
   "source": [
    "food = \"고구마\"\n",
    "count = 3\n",
    "# 나는 고구마를 3개 먹었습니다\n",
    "print(\"나는 %s를 %d개 먹었습니다\" %(food, count))\n",
    "srt1 = \"나는 %s를 %d개 먹었습니다\" %(food, count)\n",
    "print(srt1)"
   ]
  },
  {
   "cell_type": "code",
   "execution_count": 84,
   "id": "5ead394b",
   "metadata": {},
   "outputs": [
    {
     "name": "stdout",
     "output_type": "stream",
     "text": [
      "우리반 학생들은 모두 100명이고, 남자는 60명입니다. 여학생의 비율은 40%입니다\n",
      "--------------------------------------------------\n",
      "우리반 학생들은 모두 100명이고, 남자는 60명입니다. 여학생의 비율은 40%입니다\n",
      "우리반 학생들은 모두 100명이고,\n",
      "남자는 60명입니다.\n",
      "여학생의 비율은 40%입니다\n",
      "--------------------------------------------------\n",
      "우리반 학생들은 모두 100명이고,\n",
      " 남자는 60명입니다.\n",
      " 여학생의 비율은 40%입니다\n",
      "\n"
     ]
    }
   ],
   "source": [
    "total = 100\n",
    "male = 60\n",
    "female = 40\n",
    "# 우리반 학생들은 모두 100명이고, 남자는 60명입니다. 여학생의 비율은 40%입니다.\n",
    "srt1 = \"우리반 학생들은 모두 %d명이고, 남자는 %d명입니다. 여학생의 비율은 %d%%입니다\" %(total, male, female)\n",
    "print(srt1)\n",
    "\n",
    "print(\"-\" * 50)\n",
    "print(\"우리반 학생들은 모두 %d명이고, 남자는 %d명입니다. 여학생의 비율은 %d%%입니다\" %(total, male, female))\n",
    "print(\"\"\"우리반 학생들은 모두 %d명이고,\n",
    "남자는 %d명입니다.\n",
    "여학생의 비율은 %d%%입니다\"\"\"\n",
    "%(total, male, female))\n",
    "\n",
    "print(\"-\"*50)\n",
    "print(\"우리반 학생들은 모두 %d명이고,\\n 남자는 %d명입니다.\\n 여학생의 비율은 %d%%입니다\\n\" \n",
    "      %(total, male, female))"
   ]
  },
  {
   "cell_type": "code",
   "execution_count": 89,
   "id": "7e5bfaa5",
   "metadata": {},
   "outputs": [
    {
     "name": "stdout",
     "output_type": "stream",
     "text": [
      "python\n",
      "    python\n",
      "hello     글로벌\n"
     ]
    }
   ],
   "source": [
    "str2 = \"python\"\n",
    "print(\"%s\" % str2)\n",
    "print(\"%10s\" % \"python\")\n",
    "print(\"%-10s글로벌\" % \"hello\")"
   ]
  },
  {
   "cell_type": "code",
   "execution_count": 94,
   "id": "eb02e209",
   "metadata": {},
   "outputs": [
    {
     "name": "stdout",
     "output_type": "stream",
     "text": [
      "3.141592635\n",
      "3.141593\n",
      "3.1416\n",
      "    3.1416\n"
     ]
    }
   ],
   "source": [
    "print(\"3.141592635\")\n",
    "print(\"%f\" % 3.141592635)\n",
    "print(\"%.4f\" % 3.141592635)\n",
    "print(\"%10.4f\" % 3.141592635)"
   ]
  },
  {
   "cell_type": "code",
   "execution_count": 113,
   "id": "4631216c",
   "metadata": {},
   "outputs": [
    {
     "name": "stdout",
     "output_type": "stream",
     "text": [
      "나는 멜론를 3개 먹었습니다\n",
      "나는 멜론를 3개 먹었습니다\n",
      "나는 멜론를 3개 먹었습니다\n",
      "나는 3개의 멜론을 먹었습니다\n",
      "나는 멜론을 3개 먹고 2일동안 배가 아팠습니다\n",
      "나는 멜론을 3개 먹고 2일동안 배가 아팠습니다\n",
      "나는 2일 동안 배가 아팠습니다. 멜론을 3개 먹었기 때문입니다\n"
     ]
    }
   ],
   "source": [
    "#str.format() 메소드\n",
    "fruit = \"멜론\"\n",
    "count = 3\n",
    "days = 2\n",
    "'''\n",
    "나는 멜론을 3개 먹었습니다\n",
    "'''\n",
    "print(\"나는 %s를 %d개 먹었습니다\" %(fruit, count))\n",
    "print(\"나는 {0}를 {1}개 먹었습니다\".format(fruit, count))\n",
    "srt= \"나는 %s를 %d개 먹었습니다\" %(fruit, count)\n",
    "print(srt)\n",
    "\n",
    "print(\"나는 {1}개의 {0}을 먹었습니다\".format(fruit, count))\n",
    "'''\n",
    "나는 멜론을 3개 먹고 2일동안 배가아팠습니다\n",
    "'''\n",
    "print(\"나는 {}을 {}개 먹고 {}일동안 배가 아팠습니다\".format(fruit,count,days))\n",
    "print(\"나는 {0}을 {1}개 먹고 {2}일동안 배가 아팠습니다\".format(fruit, count, days))\n",
    "\n",
    "'''\n",
    "나는 2일동안 배가 아팠습니다. 멜론을 3개 먹었기 때문입니다\n",
    "'''\n",
    "print(\"나는 {2}일 동안 배가 아팠습니다. {0}을 {1}개 먹었기 때문입니다\"\\\n",
    "      .format(fruit, count, days))"
   ]
  },
  {
   "cell_type": "code",
   "execution_count": 105,
   "id": "c3a36311",
   "metadata": {},
   "outputs": [
    {
     "name": "stdout",
     "output_type": "stream",
     "text": [
      "나는 사과을 5 개 먹었습니다\n"
     ]
    }
   ],
   "source": [
    "print(\"나는 {fruit}을 {count} 개 먹었습니다\".format(fruit =\"사과\", count=\"5\"))"
   ]
  },
  {
   "cell_type": "code",
   "execution_count": 128,
   "id": "90d60c7a",
   "metadata": {},
   "outputs": [
    {
     "name": "stdout",
     "output_type": "stream",
     "text": [
      "py        \n",
      "        py\n",
      "    py    \n",
      "py        \n",
      "        py\n",
      "    py    \n",
      "--------------------------------------------------\n",
      "      thon\n",
      "thon      \n",
      "    py    \n"
     ]
    }
   ],
   "source": [
    "print(\"{:<10}\".format(\"py\"))\n",
    "print(\"{:>10}\".format(\"py\"))\n",
    "print(\"{:^10}\".format(\"py\"))\n",
    "print(\"{0:<10}\".format(\"py\"))\n",
    "print(\"{0:>10}\".format(\"py\"))\n",
    "print(\"{0:^10}\".format(\"py\"))\n",
    "print(\"-\"* 50)\n",
    "print(\"{1:>10}\".format(\"py\", \"thon\"))\n",
    "print(\"{1:<10}\".format(\"py\", \"thon\"))\n",
    "print(\"{0:^10}\".format(\"py\", \"thon\"))"
   ]
  },
  {
   "cell_type": "code",
   "execution_count": 133,
   "id": "0b9bce00",
   "metadata": {},
   "outputs": [
    {
     "name": "stdout",
     "output_type": "stream",
     "text": [
      "{'3.1416'}\n",
      "3.1416\n",
      "         3.1416\n",
      "         3.1416\n",
      "    3.1416     \n"
     ]
    }
   ],
   "source": [
    "pi = 3.1415926535\n",
    "print({\"{:.4f}\".format(pi)})\n",
    "print(\"{:.4f}\".format(pi))\n",
    "print(\"{:15.4f}\".format(pi))\n",
    "print(\"{:>15.4f}\".format(pi))\n",
    "print(\"{:^15.4f}\".format(pi))"
   ]
  },
  {
   "cell_type": "code",
   "execution_count": 144,
   "id": "13cfc924",
   "metadata": {},
   "outputs": [
    {
     "name": "stdout",
     "output_type": "stream",
     "text": [
      "19,990,423\n",
      "19,990,423\n",
      "19,990,423\n",
      "123456\n",
      "123456\n"
     ]
    }
   ],
   "source": [
    "print(\"{:,d}\".format(19990423))\n",
    "print(\"{:,}\".format(19990423))\n",
    "print(format(19990423,\",\"))\n",
    "print(\"%s\" % 123456)\n",
    "print(\"%d\" % 123456)"
   ]
  },
  {
   "cell_type": "code",
   "execution_count": 141,
   "id": "1c873337",
   "metadata": {},
   "outputs": [
    {
     "name": "stdout",
     "output_type": "stream",
     "text": [
      "     19,990,423\n",
      "19,990,423     \n"
     ]
    }
   ],
   "source": [
    "print(\"%15s\" % format(19990423, \",\"))\n",
    "print(\"%-15s\" % format(19990423, \",\"))"
   ]
  },
  {
   "cell_type": "code",
   "execution_count": 148,
   "id": "e7e95ba5",
   "metadata": {},
   "outputs": [
    {
     "name": "stdout",
     "output_type": "stream",
     "text": [
      "나는 하루에 green tea 4잔을 마십니다\n",
      "나는 하루에 green tea 4잔을 마십니다\n",
      "나는 하루에 green tea 4잔을 마십니다\n"
     ]
    }
   ],
   "source": [
    "tea = \"green tea\"\n",
    "count = 4\n",
    "'''\n",
    "나는 하루에 녹차 4잔을 마십니다\n",
    "'''\n",
    "print(\"나는 하루에 %s %d잔을 마십니다\" %(tea, count))\n",
    "print(\"나는 하루에 {} {}잔을 마십니다\".format(tea,count))\n",
    "print(f\"나는 하루에 {tea} {count}잔을 마십니다\")"
   ]
  },
  {
   "cell_type": "code",
   "execution_count": 150,
   "id": "c5925972",
   "metadata": {},
   "outputs": [
    {
     "name": "stdout",
     "output_type": "stream",
     "text": [
      "pi:3.14\n"
     ]
    }
   ],
   "source": [
    "key = \"pi\"\n",
    "value = 3.14\n",
    "dict1 = f\"{key}:{value}\"\n",
    "print(dict1)"
   ]
  },
  {
   "cell_type": "code",
   "execution_count": 155,
   "id": "b62d0d6e",
   "metadata": {},
   "outputs": [
    {
     "name": "stdout",
     "output_type": "stream",
     "text": [
      "python              \n",
      "              python\n",
      "       python       \n"
     ]
    }
   ],
   "source": [
    "str1= \"python\"\n",
    "s1 = f\"{str1:<20}\"\n",
    "s2 = f\"{str1:>20}\"\n",
    "s3 = f\"{str1:^20}\"\n",
    "print(s1)\n",
    "print(s2)\n",
    "print(s3)"
   ]
  },
  {
   "cell_type": "code",
   "execution_count": 163,
   "id": "78d1c170",
   "metadata": {},
   "outputs": [
    {
     "name": "stdout",
     "output_type": "stream",
     "text": [
      "p의 개수 : 2 개\n",
      "t의 개수 : 2 개\n",
      "o의 개수 : 2 개\n"
     ]
    }
   ],
   "source": [
    "str1 = \"python program\"\n",
    "print(\"p의 개수 :\",str1.count(\"p\"),\"개\")\n",
    "print(\"t의 개수 :\",str1.count(\"p\"),\"개\")\n",
    "print(\"o의 개수 :\", str1.count(\"o\"),\"개\")"
   ]
  },
  {
   "cell_type": "code",
   "execution_count": 173,
   "id": "2ac4ecee",
   "metadata": {},
   "outputs": [
    {
     "name": "stdout",
     "output_type": "stream",
     "text": [
      "str2.find('b')) : 27\n",
      "str2.find('o')) : 5\n",
      "str2.rfind('a')) : 49\n",
      "str2.rfind('z')) : -1\n"
     ]
    }
   ],
   "source": [
    "#find\n",
    "#rfind\n",
    "str2 = \" python programming is the best programming language\"\n",
    "print(\"str2.find('b')) :\",str2.find('b'))\n",
    "print(\"str2.find('o')) :\",str2.find('o'))\n",
    "print(\"str2.rfind('a')) :\", str2.rfind('a'))\n",
    "print(\"str2.rfind('z')) :\", str2.rfind('z'))"
   ]
  },
  {
   "cell_type": "code",
   "execution_count": 180,
   "id": "6655452f",
   "metadata": {},
   "outputs": [
    {
     "name": "stdout",
     "output_type": "stream",
     "text": [
      "str2.index('a'): 13\n"
     ]
    },
    {
     "ename": "ValueError",
     "evalue": "substring not found",
     "output_type": "error",
     "traceback": [
      "\u001b[1;31m---------------------------------------------------------------------------\u001b[0m",
      "\u001b[1;31mValueError\u001b[0m                                Traceback (most recent call last)",
      "\u001b[1;32mC:\\Users\\KIMDON~1\\AppData\\Local\\Temp/ipykernel_25496/107370629.py\u001b[0m in \u001b[0;36m<module>\u001b[1;34m\u001b[0m\n\u001b[0;32m      1\u001b[0m \u001b[0mstr2\u001b[0m \u001b[1;33m=\u001b[0m \u001b[1;34m\" python programming is the best programming language\"\u001b[0m\u001b[1;33m\u001b[0m\u001b[1;33m\u001b[0m\u001b[0m\n\u001b[0;32m      2\u001b[0m \u001b[0mprint\u001b[0m\u001b[1;33m(\u001b[0m\u001b[1;34m\"str2.index('a'):\"\u001b[0m\u001b[1;33m,\u001b[0m \u001b[0mstr2\u001b[0m\u001b[1;33m.\u001b[0m\u001b[0mindex\u001b[0m\u001b[1;33m(\u001b[0m\u001b[1;34m'a'\u001b[0m\u001b[1;33m)\u001b[0m\u001b[1;33m)\u001b[0m\u001b[1;33m\u001b[0m\u001b[1;33m\u001b[0m\u001b[0m\n\u001b[1;32m----> 3\u001b[1;33m \u001b[0mprint\u001b[0m\u001b[1;33m(\u001b[0m\u001b[1;34m\"str2.index('z'):\"\u001b[0m\u001b[1;33m,\u001b[0m \u001b[0mstr2\u001b[0m\u001b[1;33m.\u001b[0m\u001b[0mindex\u001b[0m\u001b[1;33m(\u001b[0m\u001b[1;34m'z'\u001b[0m\u001b[1;33m)\u001b[0m\u001b[1;33m)\u001b[0m\u001b[1;33m\u001b[0m\u001b[1;33m\u001b[0m\u001b[0m\n\u001b[0m",
      "\u001b[1;31mValueError\u001b[0m: substring not found"
     ]
    }
   ],
   "source": [
    "str2 = \" python programming is the best programming language\"\n",
    "print(\"str2.index('a'):\", str2.index('a'))\n",
    "print(\"str2.index('z'):\", str2.index('z'))"
   ]
  },
  {
   "cell_type": "code",
   "execution_count": 185,
   "id": "89b4b338",
   "metadata": {},
   "outputs": [
    {
     "name": "stdout",
     "output_type": "stream",
     "text": [
      "str3: PYthon proGram Is ThE Best prograM\n",
      "str3.upper(): PYTHON PROGRAM IS THE BEST PROGRAM\n",
      "str3.lower(): python program is the best program\n",
      "str3.title(): Python Program Is The Best Program\n",
      "str3.capitalize : Python program is the best program\n"
     ]
    }
   ],
   "source": [
    "str3 = \"PYthon proGram Is ThE Best prograM\"\n",
    "print(\"str3:\",str3)\n",
    "print(\"str3.upper():\",str3.upper())\n",
    "print(\"str3.lower():\",str3.lower())\n",
    "print(\"str3.title():\",str3.title())\n",
    "print(\"str3.capitalize :\", str3.capitalize())"
   ]
  },
  {
   "cell_type": "code",
   "execution_count": 189,
   "id": "6ab99567",
   "metadata": {},
   "outputs": [
    {
     "name": "stdout",
     "output_type": "stream",
     "text": [
      "str4.isupper() : False\n",
      "str4.islower: True\n"
     ]
    }
   ],
   "source": [
    "str4 = \"p\"\n",
    "print(\"str4.isupper() :\",str4.isupper())\n",
    "print(\"str4.islower:\",str4.islower())"
   ]
  },
  {
   "cell_type": "code",
   "execution_count": null,
   "id": "2ed408a6",
   "metadata": {},
   "outputs": [],
   "source": []
  }
 ],
 "metadata": {
  "kernelspec": {
   "display_name": "Python 3 (ipykernel)",
   "language": "python",
   "name": "python3"
  },
  "language_info": {
   "codemirror_mode": {
    "name": "ipython",
    "version": 3
   },
   "file_extension": ".py",
   "mimetype": "text/x-python",
   "name": "python",
   "nbconvert_exporter": "python",
   "pygments_lexer": "ipython3",
   "version": "3.9.7"
  }
 },
 "nbformat": 4,
 "nbformat_minor": 5
}
