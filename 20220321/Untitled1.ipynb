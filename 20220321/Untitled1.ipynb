{
 "cells": [
  {
   "cell_type": "code",
   "execution_count": 1,
   "id": "2e9f345c",
   "metadata": {},
   "outputs": [],
   "source": [
    "import pandas as pd\n",
    "titanic_df = pd.read_csv(\"titanic_train.csv\")"
   ]
  },
  {
   "cell_type": "code",
   "execution_count": 2,
   "id": "e7b7fc3e",
   "metadata": {},
   "outputs": [
    {
     "data": {
      "text/html": [
       "<div>\n",
       "<style scoped>\n",
       "    .dataframe tbody tr th:only-of-type {\n",
       "        vertical-align: middle;\n",
       "    }\n",
       "\n",
       "    .dataframe tbody tr th {\n",
       "        vertical-align: top;\n",
       "    }\n",
       "\n",
       "    .dataframe thead th {\n",
       "        text-align: right;\n",
       "    }\n",
       "</style>\n",
       "<table border=\"1\" class=\"dataframe\">\n",
       "  <thead>\n",
       "    <tr style=\"text-align: right;\">\n",
       "      <th></th>\n",
       "      <th>PassengerId</th>\n",
       "      <th>Survived</th>\n",
       "      <th>Pclass</th>\n",
       "      <th>Name</th>\n",
       "      <th>Sex</th>\n",
       "      <th>Age</th>\n",
       "      <th>SibSp</th>\n",
       "      <th>Parch</th>\n",
       "      <th>Ticket</th>\n",
       "      <th>Fare</th>\n",
       "      <th>Cabin</th>\n",
       "      <th>Embarked</th>\n",
       "    </tr>\n",
       "  </thead>\n",
       "  <tbody>\n",
       "    <tr>\n",
       "      <th>0</th>\n",
       "      <td>1</td>\n",
       "      <td>0</td>\n",
       "      <td>3</td>\n",
       "      <td>Braund, Mr. Owen Harris</td>\n",
       "      <td>male</td>\n",
       "      <td>22.0</td>\n",
       "      <td>1</td>\n",
       "      <td>0</td>\n",
       "      <td>A/5 21171</td>\n",
       "      <td>7.2500</td>\n",
       "      <td>NaN</td>\n",
       "      <td>S</td>\n",
       "    </tr>\n",
       "    <tr>\n",
       "      <th>1</th>\n",
       "      <td>2</td>\n",
       "      <td>1</td>\n",
       "      <td>1</td>\n",
       "      <td>Cumings, Mrs. John Bradley (Florence Briggs Th...</td>\n",
       "      <td>female</td>\n",
       "      <td>38.0</td>\n",
       "      <td>1</td>\n",
       "      <td>0</td>\n",
       "      <td>PC 17599</td>\n",
       "      <td>71.2833</td>\n",
       "      <td>C85</td>\n",
       "      <td>C</td>\n",
       "    </tr>\n",
       "    <tr>\n",
       "      <th>2</th>\n",
       "      <td>3</td>\n",
       "      <td>1</td>\n",
       "      <td>3</td>\n",
       "      <td>Heikkinen, Miss. Laina</td>\n",
       "      <td>female</td>\n",
       "      <td>26.0</td>\n",
       "      <td>0</td>\n",
       "      <td>0</td>\n",
       "      <td>STON/O2. 3101282</td>\n",
       "      <td>7.9250</td>\n",
       "      <td>NaN</td>\n",
       "      <td>S</td>\n",
       "    </tr>\n",
       "    <tr>\n",
       "      <th>3</th>\n",
       "      <td>4</td>\n",
       "      <td>1</td>\n",
       "      <td>1</td>\n",
       "      <td>Futrelle, Mrs. Jacques Heath (Lily May Peel)</td>\n",
       "      <td>female</td>\n",
       "      <td>35.0</td>\n",
       "      <td>1</td>\n",
       "      <td>0</td>\n",
       "      <td>113803</td>\n",
       "      <td>53.1000</td>\n",
       "      <td>C123</td>\n",
       "      <td>S</td>\n",
       "    </tr>\n",
       "    <tr>\n",
       "      <th>4</th>\n",
       "      <td>5</td>\n",
       "      <td>0</td>\n",
       "      <td>3</td>\n",
       "      <td>Allen, Mr. William Henry</td>\n",
       "      <td>male</td>\n",
       "      <td>35.0</td>\n",
       "      <td>0</td>\n",
       "      <td>0</td>\n",
       "      <td>373450</td>\n",
       "      <td>8.0500</td>\n",
       "      <td>NaN</td>\n",
       "      <td>S</td>\n",
       "    </tr>\n",
       "  </tbody>\n",
       "</table>\n",
       "</div>"
      ],
      "text/plain": [
       "   PassengerId  Survived  Pclass  \\\n",
       "0            1         0       3   \n",
       "1            2         1       1   \n",
       "2            3         1       3   \n",
       "3            4         1       1   \n",
       "4            5         0       3   \n",
       "\n",
       "                                                Name     Sex   Age  SibSp  \\\n",
       "0                            Braund, Mr. Owen Harris    male  22.0      1   \n",
       "1  Cumings, Mrs. John Bradley (Florence Briggs Th...  female  38.0      1   \n",
       "2                             Heikkinen, Miss. Laina  female  26.0      0   \n",
       "3       Futrelle, Mrs. Jacques Heath (Lily May Peel)  female  35.0      1   \n",
       "4                           Allen, Mr. William Henry    male  35.0      0   \n",
       "\n",
       "   Parch            Ticket     Fare Cabin Embarked  \n",
       "0      0         A/5 21171   7.2500   NaN        S  \n",
       "1      0          PC 17599  71.2833   C85        C  \n",
       "2      0  STON/O2. 3101282   7.9250   NaN        S  \n",
       "3      0            113803  53.1000  C123        S  \n",
       "4      0            373450   8.0500   NaN        S  "
      ]
     },
     "execution_count": 2,
     "metadata": {},
     "output_type": "execute_result"
    }
   ],
   "source": [
    "titanic_df.head()"
   ]
  },
  {
   "cell_type": "code",
   "execution_count": null,
   "id": "66d6a5be",
   "metadata": {},
   "outputs": [],
   "source": [
    "titanic_df[\"Age_0\"] = 0\n",
    "titanic_df.head()\n",
    "titanic_df[\"Age_by_10\"] = titanic_df[\"Age\"] * 10\n",
    "titanic_df[\"Family_No\"] = titanic_df[\"SibSp\"] + titanic_df[\"Parch\"] + 1\n",
    "titanic_df.head()"
   ]
  },
  {
   "cell_type": "code",
   "execution_count": null,
   "id": "6f2eb512",
   "metadata": {},
   "outputs": [],
   "source": [
    "titanic_df[\"Age_by_10\"] = titanic_df[\"Age_by_10\"] + 100\n",
    "titanic_df.head(3)"
   ]
  },
  {
   "cell_type": "code",
   "execution_count": null,
   "id": "d00b8901",
   "metadata": {},
   "outputs": [],
   "source": [
    "drop_titanic_df = titanic_df.drop(\"Age_0\", axis=1)\n",
    "# 원본에 있는 column 이 삭제되지 않고, 해당 column이 삭제된 DataFrame 을 새로 생성함\n",
    "titanic_df.head()\n",
    "drop_titanic_df.head()\n",
    "\n",
    "# 원본에 있는 column 을 삭제하려면 inplace parameter 를 True로 설정함\n",
    "titanic_df.drop([\"Age_0\", \"Age_by_10\", \"Family_No\"], axis=1, inplace=True)\n",
    "titanic_df.head()"
   ]
  },
  {
   "cell_type": "code",
   "execution_count": null,
   "id": "8f6b7159",
   "metadata": {},
   "outputs": [],
   "source": [
    "titanic_df = pd.read_csv(\"titanic_train.csv\")\n",
    "pd.set_option(\"display.width\", 1000)\n",
    "pd.set_option(\"display.max_colwidth\", 15)\n",
    "print(\"---- axis=0 으로 drop 하기 전 ----\\n\")\n",
    "print(titanic_df.head())"
   ]
  },
  {
   "cell_type": "code",
   "execution_count": null,
   "id": "072c5040",
   "metadata": {},
   "outputs": [],
   "source": [
    "titanic_df.drop([0,1,2], axis=0, inplace=True)\n",
    "print(\"---- axis=0 으로 drop 한 후 ----\\n\")\n",
    "print(titanic_df.head())\n",
    "Index Frame 삭제하기"
   ]
  },
  {
   "cell_type": "code",
   "execution_count": null,
   "id": "790bc980",
   "metadata": {},
   "outputs": [],
   "source": [
    "titanic_df = pd.read_csv(\"titanic_train.csv\")\n",
    "indexes = titanic_df.index\n",
    "print(indexes)\n",
    "array_indexes = indexes.values\n",
    "print(\"array_indexes :\\n\",array_indexes)\n",
    "array_indexes = indexes.values\n",
    "print(\"array_indexes :\",type(array_indexes))\n",
    "print(\"array_indexes :\",array_indexes.shape)\n",
    "print(\"indexes[:10] :\",indexes[:10])\n",
    "print(\"indexes.values[:10] :\",indexes.values[:10])\n",
    "print(\"array_indexes[:10] :\",array_indexes[:10])\n",
    "indexes.values[10] = 10\n",
    "print(\"array_indexes :\\n\",array_indexes)"
   ]
  },
  {
   "cell_type": "code",
   "execution_count": null,
   "id": "aaed166b",
   "metadata": {},
   "outputs": [],
   "source": [
    "series_fair = titanic_df[\"Fare\"]\n",
    "series_fair.head()\n",
    "series_indexes = series_fair.index\n",
    "print(\"series_indexes:\", series_indexes)\n",
    "series_indexes.values[10] = 123456789\n",
    "print(\"series_indexes.values:\\n\", series_indexes.values)"
   ]
  },
  {
   "cell_type": "code",
   "execution_count": null,
   "id": "089570af",
   "metadata": {},
   "outputs": [],
   "source": []
  },
  {
   "cell_type": "code",
   "execution_count": null,
   "id": "31000e69",
   "metadata": {},
   "outputs": [],
   "source": []
  }
 ],
 "metadata": {
  "kernelspec": {
   "display_name": "Python 3 (ipykernel)",
   "language": "python",
   "name": "python3"
  },
  "language_info": {
   "codemirror_mode": {
    "name": "ipython",
    "version": 3
   },
   "file_extension": ".py",
   "mimetype": "text/x-python",
   "name": "python",
   "nbconvert_exporter": "python",
   "pygments_lexer": "ipython3",
   "version": "3.9.7"
  }
 },
 "nbformat": 4,
 "nbformat_minor": 5
}
