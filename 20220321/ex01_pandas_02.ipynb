{
 "cells": [
  {
   "cell_type": "markdown",
   "id": "899da084",
   "metadata": {},
   "source": [
    "### DataFrame column 에 접근하기 (Access)\n",
    "* [] 연산자를 사용해서 DataFrame column (dataset) 생성 및 수정을 할 수 있음"
   ]
  },
  {
   "cell_type": "code",
   "execution_count": null,
   "id": "60bb2243",
   "metadata": {
    "ExecuteTime": {
     "end_time": "2022-03-21T00:40:14.030700Z",
     "start_time": "2022-03-21T00:40:13.675786Z"
    }
   },
   "outputs": [],
   "source": [
    "import pandas as pd\n",
    "titanic_df = pd.read_csv(\"titanic_train.csv\")"
   ]
  },
  {
   "cell_type": "code",
   "execution_count": null,
   "id": "0cf0c21c",
   "metadata": {
    "ExecuteTime": {
     "end_time": "2022-03-21T00:40:51.289013Z",
     "start_time": "2022-03-21T00:40:51.263523Z"
    }
   },
   "outputs": [],
   "source": [
    "titanic_df.head()"
   ]
  },
  {
   "cell_type": "code",
   "execution_count": null,
   "id": "843be477",
   "metadata": {
    "ExecuteTime": {
     "end_time": "2022-03-21T00:43:05.364284Z",
     "start_time": "2022-03-21T00:43:05.342297Z"
    },
    "scrolled": true
   },
   "outputs": [],
   "source": [
    "titanic_df[\"Age_0\"] = 0\n",
    "titanic_df.head()\n",
    "titanic_df[\"Age_by_10\"] = titanic_df[\"Age\"] * 10\n",
    "titanic_df[\"Family_No\"] = titanic_df[\"SibSp\"] + titanic_df[\"Parch\"] + 1\n",
    "titanic_df.head()"
   ]
  },
  {
   "cell_type": "code",
   "execution_count": null,
   "id": "6a38a4e5",
   "metadata": {
    "ExecuteTime": {
     "end_time": "2022-03-21T00:45:16.909769Z",
     "start_time": "2022-03-21T00:45:16.885722Z"
    }
   },
   "outputs": [],
   "source": [
    "titanic_df[\"Age_by_10\"] = titanic_df[\"Age_by_10\"] + 100\n",
    "titanic_df.head(3)"
   ]
  },
  {
   "cell_type": "markdown",
   "id": "cc2c0a7f",
   "metadata": {},
   "source": [
    "### DataFrame 삭제하기 (by axis)"
   ]
  },
  {
   "cell_type": "code",
   "execution_count": null,
   "id": "82de4ae9",
   "metadata": {
    "ExecuteTime": {
     "end_time": "2022-03-21T00:49:35.391000Z",
     "start_time": "2022-03-21T00:49:35.374020Z"
    }
   },
   "outputs": [],
   "source": [
    "drop_titanic_df = titanic_df.drop(\"Age_0\", axis=1)\n",
    "# 원본에 있는 column 이 삭제되지 않고, 해당 column이 삭제된 DataFrame 을 새로 생성함\n",
    "titanic_df.head()\n",
    "drop_titanic_df.head()\n",
    "\n",
    "# 원본에 있는 column 을 삭제하려면 inplace parameter 를 True로 설정함\n",
    "titanic_df.drop([\"Age_0\", \"Age_by_10\", \"Family_No\"], axis=1, inplace=True)\n",
    "titanic_df.head()"
   ]
  },
  {
   "cell_type": "markdown",
   "id": "89dc0ac6",
   "metadata": {},
   "source": [
    "* axix=0 으로 설정한 경우, row 방향으로 삭제함"
   ]
  },
  {
   "cell_type": "code",
   "execution_count": null,
   "id": "b5a6fd56",
   "metadata": {
    "ExecuteTime": {
     "end_time": "2022-03-21T00:54:10.718697Z",
     "start_time": "2022-03-21T00:54:10.701718Z"
    }
   },
   "outputs": [],
   "source": [
    "titanic_df = pd.read_csv(\"titanic_train.csv\")\n",
    "pd.set_option(\"display.width\", 1000)\n",
    "pd.set_option(\"display.max_colwidth\", 15)\n",
    "print(\"---- axis=0 으로 drop 하기 전 ----\\n\")\n",
    "print(titanic_df.head())"
   ]
  },
  {
   "cell_type": "code",
   "execution_count": null,
   "id": "342d6753",
   "metadata": {
    "ExecuteTime": {
     "end_time": "2022-03-21T00:54:06.438179Z",
     "start_time": "2022-03-21T00:54:06.414182Z"
    }
   },
   "outputs": [],
   "source": [
    "titanic_df.drop([0,1,2], axis=0, inplace=True)\n",
    "print(\"---- axis=0 으로 drop 한 후 ----\\n\")\n",
    "print(titanic_df.head())"
   ]
  },
  {
   "cell_type": "markdown",
   "id": "47d69dd6",
   "metadata": {},
   "source": [
    "### Index Frame 삭제하기"
   ]
  },
  {
   "cell_type": "code",
   "execution_count": null,
   "id": "d3a963c2",
   "metadata": {
    "ExecuteTime": {
     "end_time": "2022-03-21T00:57:04.838958Z",
     "start_time": "2022-03-21T00:57:04.813973Z"
    }
   },
   "outputs": [],
   "source": [
    "titanic_df = pd.read_csv(\"titanic_train.csv\")\n",
    "\n",
    "# index 객체 추출하기\n",
    "indexes = titanic_df.index\n",
    "print(indexes)\n",
    "\n",
    "# index 번호들을 배열(ndarray) 로 반환하기\n",
    "array_indexes = indexes.values\n",
    "print(\"array_indexes :\\n\",array_indexes)\n",
    "\n",
    "#변환하기\n",
    "array_indexes = indexes.values\n",
    "print(\"array_indexes :\",type(array_indexes))\n",
    "print(\"array_indexes :\",array_indexes.shape)\n",
    "print(\"indexes[:10] :\",indexes[:10])\n",
    "print(\"indexes.values[:10] :\",indexes.values[:10])\n",
    "print(\"array_indexes[:10] :\",array_indexes[:10])\n",
    "#TypeError: Index does not support mutable operations\n",
    "#Dataframe의 index 속성에서 index값 재할당은 할 수 없음\n",
    "#values 속성으로 지정해서 할 수 있음\n",
    "#indexes[10] = 12356789\n",
    "indexes.values[10] = 10\n",
    "print(\"array_indexes :\\n\",array_indexes)"
   ]
  },
  {
   "cell_type": "markdown",
   "id": "12ed53c2",
   "metadata": {},
   "source": [
    "### Series 객체에서 index 활용하기"
   ]
  },
  {
   "cell_type": "code",
   "execution_count": null,
   "id": "99b982b5",
   "metadata": {},
   "outputs": [],
   "source": [
    "series_fair = titanic_df[\"Fare\"]\n",
    "series_fair.head()\n",
    "series_indexes = series_fair.index\n",
    "print(\"series_indexes:\", series_indexes)\n",
    "#TypeError: Index does not support mutable operations\n",
    "#Series의 index 속성에서 index값 재할당은 할 수 없음\n",
    "#values 속성으로 지정해서 할 수 있음\n",
    "#series_indexes[10] = 123456789\n",
    "series_indexes.values[10] = 123456789\n",
    "print(\"series_indexes.values:\\n\", series_indexes.values)"
   ]
  },
  {
   "cell_type": "markdown",
   "id": "8127bfaa",
   "metadata": {},
   "source": [
    "### Seires 값 연산하기"
   ]
  },
  {
   "cell_type": "code",
   "execution_count": null,
   "id": "5812d26a",
   "metadata": {},
   "outputs": [],
   "source": [
    "print(\"series_fair 최대값 :\", series_fair.max())\n",
    "print(\"series_fair 최솟값 :\", series_fair.min())\n",
    "print(\"series_fair 총합계 :\", series_fair.sum())\n",
    "print(\"series_fair     :\\n\", series_fair.head(),sep=\"\")"
   ]
  },
  {
   "cell_type": "code",
   "execution_count": null,
   "id": "302347db",
   "metadata": {},
   "outputs": [],
   "source": [
    "print(\"series_fair + 3 :\\n\", (series_fair + 3).head(),sep=\"\")"
   ]
  },
  {
   "cell_type": "markdown",
   "id": "975f5845",
   "metadata": {},
   "source": [
    "#### DataFrame, Series의 reset_index() 메소드\n",
    "* \"index\" 라는 이름의 column이 새로 생성되고 index 번호들이 column 값들이 됨"
   ]
  },
  {
   "cell_type": "code",
   "execution_count": null,
   "id": "dd168f76",
   "metadata": {},
   "outputs": [],
   "source": [
    "titanic_df = pd.read_csv(\"titanic_train.csv\")\n",
    "reset_titanic_df = titanic_df.reset_index()\n",
    "reset_titanic_df.head(3)"
   ]
  },
  {
   "cell_type": "code",
   "execution_count": null,
   "id": "a56a286f",
   "metadata": {},
   "outputs": [],
   "source": [
    "reset_titanic_df.shape"
   ]
  },
  {
   "cell_type": "code",
   "execution_count": null,
   "id": "cadee116",
   "metadata": {},
   "outputs": [],
   "source": [
    "print(\"----- rest.index() 실행 전 ----\\n\")\n",
    "value_counts = titanic_df[\"Pclass\"].value_counts()\n",
    "print(\"value_counts:\\n\",value_counts,sep=\"\")\n",
    "print(\"value_counts 객체의 type:\",type(value_counts))\n",
    "\n",
    "new_value_counts = value_counts.reset_index()\n",
    "print(\"----- rest.index() 실행 후 ----\\n\")\n",
    "print(\"new_value_counts:\\n\",new_value_counts,sep=\"\")\n",
    "print(\"--new_value_counts의 type은 DataFrame으로 변형됨 --\")\n",
    "print(\"new_value_counts 객체의 type:\",type(new_value_counts))"
   ]
  },
  {
   "cell_type": "markdown",
   "id": "96850112",
   "metadata": {},
   "source": [
    "#### DataFrame [] 연산자 - data selection / filtering"
   ]
  },
  {
   "cell_type": "code",
   "execution_count": null,
   "id": "172e06d8",
   "metadata": {},
   "outputs": [],
   "source": [
    "titanic_df = pd.read_csv(\"titanic_train.csv\")\n",
    "print(\"컬럼 하나에서 data 추출하기 :\\n\",titanic_df[\"Pclass\"].head(3),sep=\"\")"
   ]
  },
  {
   "cell_type": "code",
   "execution_count": null,
   "id": "9a42ba2d",
   "metadata": {},
   "outputs": [],
   "source": [
    "print(\"여러 컬럼에서 data 추출하기(두 칼럼) :\\n\",titanic_df[[\"Survived\",\"Pclass\"]].head(3),sep=\"\")"
   ]
  },
  {
   "cell_type": "code",
   "execution_count": null,
   "id": "65d40dc9",
   "metadata": {},
   "outputs": [],
   "source": [
    "print(\"여러 컬럼에서 data 추출하기(두 행) :\\n\",titanic_df[0:2],sep=\"\")"
   ]
  },
  {
   "cell_type": "code",
   "execution_count": null,
   "id": "e7b2e5d1",
   "metadata": {},
   "outputs": [],
   "source": [
    "#print(\"한 컬럼에서 data 추출하기(한 행) - indexing :\\n\",titanic_df[0],sep=\"\")\n",
    "print(\"한 컬럼에서 data 추출하기(한 행) - slicing :\\n\",titanic_df[0:1],sep=\"\")"
   ]
  },
  {
   "cell_type": "code",
   "execution_count": null,
   "id": "8703ea21",
   "metadata": {},
   "outputs": [],
   "source": [
    "# 3 등 객실 승객 정보만 추출하기 - [] 내에서 조건식으로 검색함\n",
    "titanic_df[titanic_df[\"Pclass\"] == 3].head()"
   ]
  },
  {
   "cell_type": "markdown",
   "id": "2acbfb54",
   "metadata": {},
   "source": [
    "### DataFrame 의 ix[]연산자\n",
    "* 명칭기반 index / 위치기반 indexing 모두 가능함\n",
    "* ilo은 index 번호만 넣을 수 있음"
   ]
  },
  {
   "cell_type": "code",
   "execution_count": null,
   "id": "3de92519",
   "metadata": {
    "scrolled": true
   },
   "outputs": [],
   "source": [
    "titanic_df.head(3)"
   ]
  },
  {
   "cell_type": "code",
   "execution_count": null,
   "id": "544d689c",
   "metadata": {},
   "outputs": [],
   "source": [
    "# pandas update 된 후 ix[] 기능 이 없어짐 - iloc, loc 사용\n",
    "#print(\"colum 에서 위치기반으로 index 해서 data 추출하기 :\",titanic_df.ix[0,2])"
   ]
  },
  {
   "cell_type": "markdown",
   "id": "ad7ee605",
   "metadata": {},
   "source": [
    "### DataFrame iloc[]연산자 - 위치기반 indexing 지원\n",
    "* iloc[행인덱스, 열인덱스]"
   ]
  },
  {
   "cell_type": "code",
   "execution_count": null,
   "id": "62da7fbb",
   "metadata": {},
   "outputs": [],
   "source": [
    "data_dict = {\n",
    "            \"name\"  : [\"이순신\",\"강감찬\", \"유관순\", \"안중근\", \"정약용\"],\n",
    "            \"birth\" : [1545, 948, 1901, 1879, 1762], \n",
    "            \"gender\" : [\"Male\", \"Male\", \"Female\", \"Male\", \"Male\"]\n",
    "            }\n",
    "data_df = pd.DataFrame(data_dict, index = [\"one\", \"two\", \"three\", \"four\", \"five\"])\n",
    "data_df"
   ]
  },
  {
   "cell_type": "code",
   "execution_count": null,
   "id": "c1d0d589",
   "metadata": {},
   "outputs": [],
   "source": [
    "# iloc 의 [] 속에는 index 번호만 넣을 수 있음\n",
    "# 유관순의 성별검색\n",
    "print(\"data_df.iloc[2,2]:\",data_df.iloc[2,2])\n",
    "# 안중근의 이름검색\n",
    "print(\"data_df.iloc[3,0]:\",data_df.iloc[3,0])\n",
    "# 이순신의 탄생연도검색\n",
    "print(\"data_df.iloc[0,1]:\",data_df.iloc[0,1])\n",
    "\n",
    "print(\"data_df.iloc[1,0]:\",data_df.iloc[1,0])"
   ]
  },
  {
   "cell_type": "markdown",
   "id": "152b5db7",
   "metadata": {},
   "source": [
    "### DataFrame iloc[]연산자 - 위치기반 indexing 지원\n",
    "* loc[로우명, 컬럼명]\n",
    "* loc의 속에는 컬럼명이나 로우명만 넣을 수 있음"
   ]
  },
  {
   "cell_type": "code",
   "execution_count": null,
   "id": "5ec25962",
   "metadata": {},
   "outputs": [],
   "source": [
    "data_df"
   ]
  },
  {
   "cell_type": "code",
   "execution_count": null,
   "id": "0a7f3a04",
   "metadata": {},
   "outputs": [],
   "source": [
    "#이순신의 이름 검색하기\n",
    "print(\"data_df.loc[\\\"one\\\", \\\"name\\\"]:\", data_df.loc[\"one\", \"name\"])\n",
    "#안중근의 성별 검색하기\n",
    "print(\"data_df.loc[\\\"four\\\", \\\"gender\\\"]:\", data_df.loc[\"four\", \"gender\"])\n",
    "#유관순의 탄생연도 검색하기\n",
    "print(\"data_df.loc[\\\"three\\\", \\\"birth\\\"]:\", data_df.loc[\"three\", \"birth\"])"
   ]
  },
  {
   "cell_type": "code",
   "execution_count": null,
   "id": "79e1bf8b",
   "metadata": {},
   "outputs": [],
   "source": [
    "reset_index_data_df = data_df.reset_index()\n",
    "#rename() : column의 이름을 변경함\n",
    "reset_index_data_df = reset_index_data_df.rename(columns={\"index\":\"original_index\"})\n",
    "reset_index_data_df"
   ]
  },
  {
   "cell_type": "code",
   "execution_count": null,
   "id": "ce59e87d",
   "metadata": {},
   "outputs": [],
   "source": [
    "# 이순신, 강감찬의 이름을 한 번에 검색하기\n",
    "print(reset_index_data_df.loc[0:2, \"name\"])"
   ]
  },
  {
   "cell_type": "code",
   "execution_count": null,
   "id": "fc334df1",
   "metadata": {},
   "outputs": [],
   "source": [
    "titanic_df = pd.read_csv(\"titanic_train.csv\")\n",
    "# 나이가 60세가 넘는 사람들의 정보 검색하기\n",
    "titanic_df_60_lt = titanic_df[titanic_df[\"Age\"]>60]\n",
    "print(\"titanic_df_60_lt:\",type(titanic_df_60_lt))\n",
    "print(\"titanic_df_60_lt:\\n\",titanic_df_60_lt.head(3),sep=\"\")"
   ]
  },
  {
   "cell_type": "code",
   "execution_count": null,
   "id": "7379bfd4",
   "metadata": {},
   "outputs": [],
   "source": [
    "lt_60 = titanic_df[\"Age\"]>60\n",
    "print(\"lt_60:\",type(lt_60))\n",
    "print(\"lt_60:\\n\",lt_60.head(3),sep=\"\")"
   ]
  },
  {
   "cell_type": "code",
   "execution_count": null,
   "id": "b10cb74b",
   "metadata": {},
   "outputs": [],
   "source": [
    "# 나이가 60세가 넘는 사람들의 이름, 나이 검색하기\n",
    "titanic_df[titanic_df[\"Age\"]>60][[\"Name\",\"Age\"]].head(3)"
   ]
  },
  {
   "cell_type": "code",
   "execution_count": null,
   "id": "3c2de998",
   "metadata": {},
   "outputs": [],
   "source": [
    "# 나이가 60세가 넘는 사람들의 이름, 나이 검색하기\n",
    "titanic_df[[\"Name\",\"Age\"]][titanic_df[\"Age\"]>60].head(3)"
   ]
  },
  {
   "cell_type": "code",
   "execution_count": null,
   "id": "4ee51928",
   "metadata": {},
   "outputs": [],
   "source": [
    "# 나이가 60세가 넘는 사람들의 이름, 나이 검색하기\n",
    "titanic_df.loc[titanic_df[\"Age\"]>60,[\"Name\",\"Age\"]].head(3)"
   ]
  },
  {
   "cell_type": "code",
   "execution_count": null,
   "id": "adedae78",
   "metadata": {},
   "outputs": [],
   "source": [
    "# 나이가 60세가 넘고, 1등 객실이고, 여성인 승객만 조회하기\n",
    "titanic_df[(titanic_df[\"Age\"]>60)& (titanic_df[\"Pclass\"]==1) & (titanic_df[\"Sex\"] == \"female\").head()"
   ]
  },
  {
   "cell_type": "code",
   "execution_count": null,
   "id": "6b43ad52",
   "metadata": {},
   "outputs": [],
   "source": [
    "# 각 조건을 변수에 할당해서 검색하기\n",
    "condition_age = titanic_df[\"Age\"] > 60\n",
    "condition_pclass = titanic_df[\"Pclass\"] == 1\n",
    "condition_sex = titanic_df[\"Sex\"] == \"female\"\n",
    "titanic_df[condition_age & condition_pclass & condition_sex]"
   ]
  },
  {
   "cell_type": "markdown",
   "id": "61200f45",
   "metadata": {},
   "source": [
    "### Agrregation() 함수와 groupby\n",
    "* aggregation 함수 : mean(), sum(), count()"
   ]
  },
  {
   "cell_type": "code",
   "execution_count": null,
   "id": "ae1812c1",
   "metadata": {},
   "outputs": [],
   "source": [
    "# 각 칼럼의 건수를 결측치(NaN)를 제외하고 검색하기\n",
    "titanic_df.count()"
   ]
  },
  {
   "cell_type": "code",
   "execution_count": null,
   "id": "602481f1",
   "metadata": {},
   "outputs": [],
   "source": [
    "# 특정 칼럼들로 Aggregation()함수 호출하기 검색하기\n",
    "titanic_df[[\"Age\", \"Fare\"]].mean(axis=1)"
   ]
  },
  {
   "cell_type": "code",
   "execution_count": null,
   "id": "03b6552d",
   "metadata": {},
   "outputs": [],
   "source": [
    "# Age 와 Fare 의 합계\n",
    "titanic_df[[\"Age\", \"Fare\"]].sum(axis=0)"
   ]
  },
  {
   "cell_type": "code",
   "execution_count": null,
   "id": "2ea3d98a",
   "metadata": {},
   "outputs": [],
   "source": [
    "# Age 와 Fare count() : 결측지를 제외한 건수\n",
    "titanic_df[[\"Age\",\"Fare\"]].count()"
   ]
  },
  {
   "cell_type": "markdown",
   "id": "4d7a8edd",
   "metadata": {},
   "source": [
    "### DataFrame 에서 groupby()를 호출하면 DataFrameGrouBy 객체 변환함"
   ]
  },
  {
   "cell_type": "code",
   "execution_count": null,
   "id": "89c7cfb8",
   "metadata": {},
   "outputs": [],
   "source": [
    "titanic_df_groupby = titanic_df.groupby(by = \"Pclass\")\n",
    "print(\"titanic_df_groupby의 type:\", type(titanic_df_groupby))\n",
    "print(\"titanic_df_groupby :\\n\", titanic_df_groupby)"
   ]
  },
  {
   "cell_type": "code",
   "execution_count": null,
   "id": "7f71d393",
   "metadata": {},
   "outputs": [],
   "source": [
    "titanic_df_groupby = titanic_df.groupby(\"Pclass\").count()\n",
    "titanic_df_groupby"
   ]
  },
  {
   "cell_type": "code",
   "execution_count": null,
   "id": "a05faaea",
   "metadata": {},
   "outputs": [],
   "source": [
    "print(\"titanic_df_groupby의 type:\", type(titanic_df_groupby))\n",
    "print(\"titanic_df_groupby의 shape:\", titanic_df.shape)\n",
    "print(\"titanic_df_groupby의 index:\", titanic_df.index)"
   ]
  },
  {
   "cell_type": "code",
   "execution_count": null,
   "id": "16268b63",
   "metadata": {},
   "outputs": [],
   "source": [
    "#Pclass 컬럼을 기준으로 그룹핑해서 PassengerId 와 Survived 컬럼 counting 하기\n",
    "titanic_df.groupby(by = \"Pclass\")[[\"PassengerId\",\"Survived\"]].count()"
   ]
  },
  {
   "cell_type": "code",
   "execution_count": null,
   "id": "92b092c4",
   "metadata": {},
   "outputs": [],
   "source": [
    "titanic_df[[\"Pclass\",\"PassengerId\", \"Survived\"]].groupby(\"Pclass\").count()"
   ]
  },
  {
   "cell_type": "code",
   "execution_count": null,
   "id": "668db9cf",
   "metadata": {},
   "outputs": [],
   "source": [
    "titanic_df.groupby(\"Pclass\")[\"Pclass\"].count()"
   ]
  },
  {
   "cell_type": "code",
   "execution_count": null,
   "id": "89f27cad",
   "metadata": {},
   "outputs": [],
   "source": [
    "titanic_df[\"Pclass\"].value_counts()"
   ]
  },
  {
   "cell_type": "markdown",
   "id": "679b2e79",
   "metadata": {},
   "source": [
    "### 여러개의 aggregation 함수 사용하기 - agg() 함수 사용"
   ]
  },
  {
   "cell_type": "code",
   "execution_count": null,
   "id": "d04dd4c1",
   "metadata": {},
   "outputs": [],
   "source": [
    "titanic_df.groupby(\"Pclass\")[\"Age\"].agg([max, min])"
   ]
  },
  {
   "cell_type": "markdown",
   "id": "e267c08a",
   "metadata": {},
   "source": [
    "### dictionary 로 aggregation 함수 사용하기"
   ]
  },
  {
   "cell_type": "code",
   "execution_count": null,
   "id": "70f32978",
   "metadata": {},
   "outputs": [],
   "source": [
    "agg_format = {\"Age\":\"max\", \"Sibsp\":\"sum\", \"Fare\":\"mean\"}\n",
    "titanic_df.groupby(\"Pclass\").agg(agg_format)"
   ]
  },
  {
   "cell_type": "markdown",
   "id": "76036a52",
   "metadata": {},
   "source": [
    "### 결측치 data(missing data)처리하기 = DataFrame의 isna() 메소드\n",
    "* isna() 메소드 - 모든 column의 값이 NaN 이면 True를 반환함"
   ]
  },
  {
   "cell_type": "code",
   "execution_count": null,
   "id": "aeba6387",
   "metadata": {},
   "outputs": [],
   "source": [
    "titanic_df.head(3)"
   ]
  },
  {
   "cell_type": "code",
   "execution_count": null,
   "id": "ba621c79",
   "metadata": {},
   "outputs": [],
   "source": [
    "titanic_df.isna().head(3)"
   ]
  },
  {
   "cell_type": "markdown",
   "id": "90b070af",
   "metadata": {},
   "source": [
    "### fillna() 메소드 - () 안에 지정한 값들로 NaN 값을 대체함"
   ]
  },
  {
   "cell_type": "code",
   "execution_count": null,
   "id": "df3c8ecf",
   "metadata": {},
   "outputs": [],
   "source": [
    "#Cabin 컬럼의 결측치를 \"CCCC\"로 대체하기\n",
    "titanic_df[\"Cabin\"] = titanic_df[\"Cabin\"].fillna(\"CCCC\")\n",
    "titanic_df.head()"
   ]
  },
  {
   "cell_type": "code",
   "execution_count": null,
   "id": "51daac8e",
   "metadata": {},
   "outputs": [],
   "source": [
    "reset_titanic_df = titanic_df.reset_index()\n",
    "reset_titanic_df[\"Age\"].mean()\n",
    "#29.699117647058763 평균\n",
    "reset_titanic_df.loc[11:50, \"Age\"]"
   ]
  },
  {
   "cell_type": "code",
   "execution_count": null,
   "id": "ac7089ee",
   "metadata": {},
   "outputs": [],
   "source": [
    "# Age 칼럼의 결측치를 평균값으로 대체하기\n",
    "titanic_df[\"Age\"] = titanic_df[\"Age\"].fillna(titanic_df[\"Age\"].mean())\n",
    "titanic_df.head()"
   ]
  },
  {
   "cell_type": "markdown",
   "id": "ddb6e949",
   "metadata": {},
   "source": [
    "### DataFrame apply() 메소드 사용하기 - apply(lambda)식"
   ]
  },
  {
   "cell_type": "code",
   "execution_count": null,
   "id": "6c381824",
   "metadata": {},
   "outputs": [],
   "source": [
    "def square_number(number):\n",
    "    return number * number\n",
    "\n",
    "number = int(input(\"정수를 입력하세요 :\"))\n",
    "result = square_number(number)\n",
    "print(number,\"의 제곱:\", result)"
   ]
  },
  {
   "cell_type": "code",
   "execution_count": null,
   "id": "a4fe964d",
   "metadata": {},
   "outputs": [],
   "source": [
    "number = int(input(\"정수를 입력하세요 :\"))\n",
    "result = (lambda number: number * number)(number)\n",
    "print(number,\"의 제곱:\", result)"
   ]
  },
  {
   "cell_type": "code",
   "execution_count": null,
   "id": "f14a34b2",
   "metadata": {},
   "outputs": [],
   "source": [
    "list_numbers = [1 ,2, 3 ,4 ,5]\n",
    "square_numbers = map(lambda number : number * number, list_numbers)\n",
    "list(square_numbers)"
   ]
  },
  {
   "cell_type": "code",
   "execution_count": null,
   "id": "455733c7",
   "metadata": {},
   "outputs": [],
   "source": [
    "# apply(lambda)식\n",
    "titanic_df[\"Name_length\"] = titanic_df[\"Name\"].apply(lambda name : len(name))\n",
    "titanic_df[[\"Name\", \"Name_length\"]].head()"
   ]
  },
  {
   "cell_type": "code",
   "execution_count": null,
   "id": "b1b3f5ef",
   "metadata": {},
   "outputs": [],
   "source": [
    "titanic_df[\"Child_Adult\"] = titanic_df[\"Age\"].apply(lambda age : \"Child\" len(name))\n",
    "titanic_df[[\"Name\", \"Name_length\"]].head()"
   ]
  },
  {
   "cell_type": "code",
   "execution_count": null,
   "id": "929875f0",
   "metadata": {},
   "outputs": [],
   "source": [
    "titanic_df[\"Age_category\"] = titanic_df[\"Age\"].apply(lambda age : \"Child\" if age <= 18 else \"Adult\" if age <= 60 else \"Elderly\")\n",
    "titanic_df[[\"Age\", \"Age_category\"]].head(10)\n",
    "titanic_df[\"Age_category\"].value_counts()"
   ]
  },
  {
   "cell_type": "code",
   "execution_count": null,
   "id": "4d9018bc",
   "metadata": {},
   "outputs": [],
   "source": [
    "def get_age_category(age):\n",
    "    category = \"\"\n",
    "    if age <= 5: category = \"Baby\"\n",
    "    elif age <= 12: category = \"Child\"\n",
    "    elif age <= 18: category = \"Teenager\"\n",
    "    elif age <= 25: category = \"Student\"\n",
    "    elif age <= 35: category = \"Young Adult\"\n",
    "    elif age <= 60: category = \"Adult\"\n",
    "    else: category = \"Elderly\"\n",
    "    return category\n",
    "titanic_df[\"Age_category\"] = titanic_df[\"Age\"].apply(lambda age : get_age_category(age))\n",
    "titanic_df[\"Age_category\"].value_counts()"
   ]
  },
  {
   "cell_type": "code",
   "execution_count": null,
   "id": "a89607e8",
   "metadata": {},
   "outputs": [],
   "source": [
    "titanic_df[[\"Age\", \"Age_category\"]].head(10)"
   ]
  },
  {
   "cell_type": "code",
   "execution_count": null,
   "id": "e6aae936",
   "metadata": {},
   "outputs": [],
   "source": []
  },
  {
   "cell_type": "code",
   "execution_count": null,
   "id": "e7be90cd",
   "metadata": {},
   "outputs": [],
   "source": []
  },
  {
   "cell_type": "code",
   "execution_count": null,
   "id": "d829472d",
   "metadata": {},
   "outputs": [],
   "source": []
  }
 ],
 "metadata": {
  "hide_input": false,
  "kernelspec": {
   "display_name": "Python 3 (ipykernel)",
   "language": "python",
   "name": "python3"
  },
  "language_info": {
   "codemirror_mode": {
    "name": "ipython",
    "version": 3
   },
   "file_extension": ".py",
   "mimetype": "text/x-python",
   "name": "python",
   "nbconvert_exporter": "python",
   "pygments_lexer": "ipython3",
   "version": "3.9.7"
  },
  "toc": {
   "base_numbering": 1,
   "nav_menu": {},
   "number_sections": true,
   "sideBar": true,
   "skip_h1_title": false,
   "title_cell": "Table of Contents",
   "title_sidebar": "Contents",
   "toc_cell": false,
   "toc_position": {},
   "toc_section_display": true,
   "toc_window_display": false
  },
  "varInspector": {
   "cols": {
    "lenName": 16,
    "lenType": 16,
    "lenVar": 40
   },
   "kernels_config": {
    "python": {
     "delete_cmd_postfix": "",
     "delete_cmd_prefix": "del ",
     "library": "var_list.py",
     "varRefreshCmd": "print(var_dic_list())"
    },
    "r": {
     "delete_cmd_postfix": ") ",
     "delete_cmd_prefix": "rm(",
     "library": "var_list.r",
     "varRefreshCmd": "cat(var_dic_list()) "
    }
   },
   "types_to_exclude": [
    "module",
    "function",
    "builtin_function_or_method",
    "instance",
    "_Feature"
   ],
   "window_display": false
  }
 },
 "nbformat": 4,
 "nbformat_minor": 5
}
