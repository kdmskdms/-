{
 "cells": [
  {
   "cell_type": "code",
   "execution_count": 2,
   "id": "5ac870ba",
   "metadata": {},
   "outputs": [
    {
     "name": "stdout",
     "output_type": "stream",
     "text": [
      "iris_data: <class 'sklearn.utils.Bunch'>\n"
     ]
    }
   ],
   "source": [
    "from sklearn.datasets import load_iris\n",
    "iris_data = load_iris()\n",
    "print(\"iris_data:\",type(iris_data))\n",
    "#iris_data: <class 'sklearn.utils.Bunch'>\n",
    "# ㄴ dictionary 와 비슷한 구조 <- key:value 로 이루어짐 "
   ]
  },
  {
   "cell_type": "code",
   "execution_count": 3,
   "id": "e101f8bf",
   "metadata": {},
   "outputs": [
    {
     "name": "stdout",
     "output_type": "stream",
     "text": [
      "iris dataset keys :\n",
      " dict_keys(['data', 'target', 'frame', 'target_names', 'DESCR', 'feature_names', 'filename'])\n"
     ]
    }
   ],
   "source": [
    "'''\n",
    "data : feature 의 dataset\n",
    "target : 분류할 때 Label 값, 회귀힐 때는 숫자 결과값 데이터세트\n",
    "target_names : 개별 Label 이름\n",
    "DESCR : description - dataset과 feature에 대한 설명\n",
    "feature_names : feature 이름\n",
    "'''\n",
    "#key 값 가져오기\n",
    "keys = iris_data.keys()\n",
    "print(\"iris dataset keys :\\n\",keys)"
   ]
  },
  {
   "cell_type": "code",
   "execution_count": 8,
   "id": "8bfdcf37",
   "metadata": {},
   "outputs": [
    {
     "name": "stdout",
     "output_type": "stream",
     "text": [
      "feature_names의 type: <class 'list'>\n",
      "target_names의 shape : (3,)\n",
      "iris_data.feature_names :\n",
      " ['sepal length (cm)', 'sepal width (cm)', 'petal length (cm)', 'petal width (cm)']\n"
     ]
    }
   ],
   "source": [
    "print(\"feature_names의 type:\",type(iris_data.feature_names))\n",
    "print(\"target_names의 shape :\",iris_data.target_names.shape)\n",
    "print(\"iris_data.feature_names :\\n\",iris_data.feature_names)"
   ]
  },
  {
   "cell_type": "code",
   "execution_count": 16,
   "id": "3b2d2725",
   "metadata": {},
   "outputs": [
    {
     "name": "stdout",
     "output_type": "stream",
     "text": [
      "target_names의 type: <class 'list'>\n",
      "target_names의 shape(구조): ['sepal length (cm)', 'sepal width (cm)', 'petal length (cm)', 'petal width (cm)']\n",
      "iris_data.target_names:\n",
      " ['sepal length (cm)', 'sepal width (cm)', 'petal length (cm)', 'petal width (cm)']\n"
     ]
    }
   ],
   "source": [
    "print(\"target_names의 type:\",type(iris_data.feature_names))\n",
    "print(\"target_names의 shape(구조):\",iris_data.feature_names)\n",
    "print(\"iris_data.target_names:\\n\", iris_data.feature_names)"
   ]
  },
  {
   "cell_type": "code",
   "execution_count": null,
   "id": "c1edd4fe",
   "metadata": {},
   "outputs": [],
   "source": [
    "print(\"data의 type:\", type(iris_data.data))\n",
    "print(\"data의 shape:\", iris_data.data.shape)\n",
    "print(\"iris_data.data:\\n\",iris_data.data)"
   ]
  },
  {
   "cell_type": "code",
   "execution_count": 14,
   "id": "3b0ca951",
   "metadata": {},
   "outputs": [
    {
     "name": "stdout",
     "output_type": "stream",
     "text": [
      "target의 type: <class 'numpy.ndarray'>\n",
      "target의 shape: (150,)\n",
      "iris_data.target:\n",
      " [0 0 0 0 0 0 0 0 0 0 0 0 0 0 0 0 0 0 0 0 0 0 0 0 0 0 0 0 0 0 0 0 0 0 0 0 0\n",
      " 0 0 0 0 0 0 0 0 0 0 0 0 0 1 1 1 1 1 1 1 1 1 1 1 1 1 1 1 1 1 1 1 1 1 1 1 1\n",
      " 1 1 1 1 1 1 1 1 1 1 1 1 1 1 1 1 1 1 1 1 1 1 1 1 1 1 2 2 2 2 2 2 2 2 2 2 2\n",
      " 2 2 2 2 2 2 2 2 2 2 2 2 2 2 2 2 2 2 2 2 2 2 2 2 2 2 2 2 2 2 2 2 2 2 2 2 2\n",
      " 2 2]\n"
     ]
    }
   ],
   "source": [
    "print(\"target의 type:\", type(iris_data.target))\n",
    "print(\"target의 shape:\", iris_data.target.shape)\n",
    "print(\"iris_data.target:\\n\",iris_data.target)"
   ]
  },
  {
   "cell_type": "code",
   "execution_count": null,
   "id": "bf84d5d1",
   "metadata": {},
   "outputs": [],
   "source": []
  },
  {
   "cell_type": "code",
   "execution_count": null,
   "id": "e1982f45",
   "metadata": {},
   "outputs": [],
   "source": []
  },
  {
   "cell_type": "code",
   "execution_count": null,
   "id": "7f56f850",
   "metadata": {},
   "outputs": [],
   "source": []
  },
  {
   "cell_type": "code",
   "execution_count": null,
   "id": "23a39a38",
   "metadata": {},
   "outputs": [],
   "source": []
  },
  {
   "cell_type": "code",
   "execution_count": null,
   "id": "c985ca65",
   "metadata": {},
   "outputs": [],
   "source": []
  }
 ],
 "metadata": {
  "kernelspec": {
   "display_name": "Python 3 (ipykernel)",
   "language": "python",
   "name": "python3"
  },
  "language_info": {
   "codemirror_mode": {
    "name": "ipython",
    "version": 3
   },
   "file_extension": ".py",
   "mimetype": "text/x-python",
   "name": "python",
   "nbconvert_exporter": "python",
   "pygments_lexer": "ipython3",
   "version": "3.9.7"
  }
 },
 "nbformat": 4,
 "nbformat_minor": 5
}
