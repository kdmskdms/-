{
 "cells": [
  {
   "cell_type": "markdown",
   "id": "899da084",
   "metadata": {},
   "source": [
    "### DataFrame column 에 접근하기 (Access)\n",
    "* [] 연산자를 사용해서 DataFrame column (dataset) 생성 및 수정을 할 수 있음"
   ]
  },
  {
   "cell_type": "code",
   "execution_count": null,
   "id": "60bb2243",
   "metadata": {
    "ExecuteTime": {
     "end_time": "2022-03-21T00:40:14.030700Z",
     "start_time": "2022-03-21T00:40:13.675786Z"
    }
   },
   "outputs": [],
   "source": [
    "import pandas as pd\n",
    "titanic_df = pd.read_csv(\"titanic_train.csv\")"
   ]
  },
  {
   "cell_type": "code",
   "execution_count": null,
   "id": "0cf0c21c",
   "metadata": {
    "ExecuteTime": {
     "end_time": "2022-03-21T00:40:51.289013Z",
     "start_time": "2022-03-21T00:40:51.263523Z"
    }
   },
   "outputs": [],
   "source": [
    "titanic_df.head()"
   ]
  },
  {
   "cell_type": "code",
   "execution_count": null,
   "id": "843be477",
   "metadata": {
    "ExecuteTime": {
     "end_time": "2022-03-21T00:43:05.364284Z",
     "start_time": "2022-03-21T00:43:05.342297Z"
    },
    "scrolled": true
   },
   "outputs": [],
   "source": [
    "titanic_df[\"Age_0\"] = 0\n",
    "titanic_df.head()\n",
    "titanic_df[\"Age_by_10\"] = titanic_df[\"Age\"] * 10\n",
    "titanic_df[\"Family_No\"] = titanic_df[\"SibSp\"] + titanic_df[\"Parch\"] + 1\n",
    "titanic_df.head()"
   ]
  },
  {
   "cell_type": "code",
   "execution_count": null,
   "id": "1dc97b36",
   "metadata": {
    "ExecuteTime": {
     "end_time": "2022-03-21T00:45:16.909769Z",
     "start_time": "2022-03-21T00:45:16.885722Z"
    }
   },
   "outputs": [],
   "source": [
    "titanic_df[\"Age_by_10\"] = titanic_df[\"Age_by_10\"] + 100\n",
    "titanic_df.head(3)"
   ]
  },
  {
   "cell_type": "markdown",
   "id": "a07c3d61",
   "metadata": {},
   "source": [
    "### DataFrame 삭제하기 (by axis)"
   ]
  },
  {
   "cell_type": "code",
   "execution_count": null,
   "id": "fb19a5ba",
   "metadata": {
    "ExecuteTime": {
     "end_time": "2022-03-21T00:49:35.391000Z",
     "start_time": "2022-03-21T00:49:35.374020Z"
    }
   },
   "outputs": [],
   "source": [
    "drop_titanic_df = titanic_df.drop(\"Age_0\", axis=1)\n",
    "# 원본에 있는 column 이 삭제되지 않고, 해당 column이 삭제된 DataFrame 을 새로 생성함\n",
    "titanic_df.head()\n",
    "drop_titanic_df.head()\n",
    "\n",
    "# 원본에 있는 column 을 삭제하려면 inplace parameter 를 True로 설정함\n",
    "titanic_df.drop([\"Age_0\", \"Age_by_10\", \"Family_No\"], axis=1, inplace=True)\n",
    "titanic_df.head()"
   ]
  },
  {
   "cell_type": "markdown",
   "id": "8cbacfb5",
   "metadata": {},
   "source": [
    "* axix=0 으로 설정한 경우, row 방향으로 삭제함"
   ]
  },
  {
   "cell_type": "code",
   "execution_count": null,
   "id": "f890dd90",
   "metadata": {
    "ExecuteTime": {
     "end_time": "2022-03-21T00:54:10.718697Z",
     "start_time": "2022-03-21T00:54:10.701718Z"
    }
   },
   "outputs": [],
   "source": [
    "titanic_df = pd.read_csv(\"titanic_train.csv\")\n",
    "pd.set_option(\"display.width\", 1000)\n",
    "pd.set_option(\"display.max_colwidth\", 15)\n",
    "print(\"---- axis=0 으로 drop 하기 전 ----\\n\")\n",
    "print(titanic_df.head())"
   ]
  },
  {
   "cell_type": "code",
   "execution_count": null,
   "id": "9c2b406c",
   "metadata": {
    "ExecuteTime": {
     "end_time": "2022-03-21T00:54:06.438179Z",
     "start_time": "2022-03-21T00:54:06.414182Z"
    }
   },
   "outputs": [],
   "source": [
    "titanic_df.drop([0,1,2], axis=0, inplace=True)\n",
    "print(\"---- axis=0 으로 drop 한 후 ----\\n\")\n",
    "print(titanic_df.head())"
   ]
  },
  {
   "cell_type": "markdown",
   "id": "18e70f64",
   "metadata": {},
   "source": [
    "### Index"
   ]
  },
  {
   "cell_type": "code",
   "execution_count": null,
   "id": "6dfe5420",
   "metadata": {
    "ExecuteTime": {
     "end_time": "2022-03-21T01:05:47.870924Z",
     "start_time": "2022-03-21T01:05:47.852934Z"
    }
   },
   "outputs": [],
   "source": [
    "titanic_df = pd.read_csv(\"titanic_train.csv\")\n",
    "\n",
    "# index 객체 추출하기\n",
    "indexes = titanic_df.index\n",
    "print(indexes)\n",
    "\n",
    "# index 번호들을 배열(ndarray) 로 반환하기\n",
    "array_indexes = indexes.values\n",
    "print(\"array_indexes :\",type(array_indexes))\n",
    "print(\"array_indexes :\",array_indexes.shape)\n",
    "print(\"indexes[10] :\",indexes[10])\n",
    "print(\"indexes[:10] :\",indexes[:10])\n",
    "print(\"indexes.values[:10] :\",indexes.values[:10])\n",
    "print(\"array_indexes[:10]  :\",array_indexes[:10])\n",
    "# TypeError: Index does not support mutable operations\n",
    "# DataFrame 의 index 속성에서 index 값 재할당은 할 수 없음\n",
    "# values 속성으로 지정해서 할 수 있음\n",
    "# indexes[10] = 123456789\n",
    "array_indexes[10]  = 10\n",
    "indexes.values[10] = 10\n",
    "print(\"array_indexes :\\n\",array_indexes)"
   ]
  },
  {
   "cell_type": "markdown",
   "id": "8375352e",
   "metadata": {},
   "source": [
    "### Series 객체에서 index 활용하기"
   ]
  },
  {
   "cell_type": "code",
   "execution_count": null,
   "id": "bd9b3187",
   "metadata": {
    "ExecuteTime": {
     "end_time": "2022-03-21T01:11:09.859991Z",
     "start_time": "2022-03-21T01:11:09.844999Z"
    }
   },
   "outputs": [],
   "source": [
    "series_fair = titanic_df[\"Fare\"]\n",
    "series_fair.head()\n",
    "series_indexes = series_fair.index\n",
    "print(\"series_indexes :\",series_indexes)\n",
    "# TypeError: Index does not support mutable operations\n",
    "# Series 의 index 속성에서 index 값 재할당은 할 수 없음\n",
    "# values 속성으로 지정해서 할 수 있음\n",
    "# series_indexes[10] = 123456789\n",
    "series_indexes.values[10] = 10\n",
    "print(\"series_indexes.values :\\n\",series_indexes.values)"
   ]
  },
  {
   "cell_type": "markdown",
   "id": "df57d794",
   "metadata": {},
   "source": [
    "### Series 값 연산하기"
   ]
  },
  {
   "cell_type": "code",
   "execution_count": null,
   "id": "55de5953",
   "metadata": {
    "ExecuteTime": {
     "end_time": "2022-03-21T01:15:21.062419Z",
     "start_time": "2022-03-21T01:15:21.044424Z"
    }
   },
   "outputs": [],
   "source": [
    "print(\"series_fair 최댓값 :\",series_fair.max())\n",
    "print(\"series_fair 최솟값 :\",series_fair.min())\n",
    "print(\"series_fair 총합계 :\",series_fair.sum())\n",
    "print(\"series_fair     :\\n\",series_fair.head(),sep=\"\")"
   ]
  },
  {
   "cell_type": "code",
   "execution_count": null,
   "id": "5fac16a9",
   "metadata": {
    "ExecuteTime": {
     "end_time": "2022-03-21T01:15:17.974005Z",
     "start_time": "2022-03-21T01:15:17.958016Z"
    }
   },
   "outputs": [],
   "source": [
    "print(\"series_fair + 3 :\\n\",(series_fair + 3).head(),sep=\"\")"
   ]
  },
  {
   "cell_type": "markdown",
   "id": "eff5e81c",
   "metadata": {},
   "source": [
    "### DataFrame, Series 의 reset_index() 메소드\n",
    "* \"index\" 라는 이름의 column 이 새로 생성되고 index 번호들이 column 값들이 됨"
   ]
  },
  {
   "cell_type": "code",
   "execution_count": null,
   "id": "30f14fa1",
   "metadata": {
    "ExecuteTime": {
     "end_time": "2022-03-21T01:21:54.922345Z",
     "start_time": "2022-03-21T01:21:54.892361Z"
    }
   },
   "outputs": [],
   "source": [
    "titanic_df = pd.read_csv(\"titanic_train.csv\")\n",
    "reset_titanic_df = titanic_df.reset_index()\n",
    "reset_titanic_df.head(3)"
   ]
  },
  {
   "cell_type": "code",
   "execution_count": null,
   "id": "8e6d2dc4",
   "metadata": {
    "ExecuteTime": {
     "end_time": "2022-03-21T01:35:09.781896Z",
     "start_time": "2022-03-21T01:35:09.763889Z"
    }
   },
   "outputs": [],
   "source": [
    "reset_titanic_df.shape"
   ]
  },
  {
   "cell_type": "code",
   "execution_count": null,
   "id": "47062af0",
   "metadata": {
    "ExecuteTime": {
     "end_time": "2022-03-21T01:40:32.770496Z",
     "start_time": "2022-03-21T01:40:32.762500Z"
    }
   },
   "outputs": [],
   "source": [
    "print(\"---- rest_index() 실행 전 ----\\n\")\n",
    "value_counts = titanic_df[\"Pclass\"].value_counts()\n",
    "print(\"value_counts :\\n\",value_counts,sep=\"\")\n",
    "print(\"value_counts 객체의 type :\",type(value_counts))\n",
    "\n",
    "new_value_counts = value_counts.reset_index()\n",
    "print(\"\\n---- rest_index() 실행 후 ----\\n\")\n",
    "print(\"new_value_counts :\\n\",new_value_counts,sep=\"\")\n",
    "print(\"-- new_value_counts의 type은 DataFrame 으로 변형됨 --\")\n",
    "print(\"new_value_counts 객체의 type :\",type(new_value_counts))"
   ]
  },
  {
   "cell_type": "markdown",
   "id": "6ef3bd47",
   "metadata": {},
   "source": [
    "### DataFrame [] 연산자 - data selection / filtering"
   ]
  },
  {
   "cell_type": "code",
   "execution_count": null,
   "id": "0fb0c402",
   "metadata": {
    "ExecuteTime": {
     "end_time": "2022-03-21T01:49:39.884559Z",
     "start_time": "2022-03-21T01:49:39.866570Z"
    }
   },
   "outputs": [],
   "source": [
    "titanic_df = pd.read_csv(\"titanic_train.csv\")\n",
    "print(\"컬럼 하나에서 data 추출하기 :\\n\",titanic_df[\"Pclass\"].head(3),sep=\"\")"
   ]
  },
  {
   "cell_type": "code",
   "execution_count": null,
   "id": "eed37ffc",
   "metadata": {
    "ExecuteTime": {
     "end_time": "2022-03-21T01:52:56.110532Z",
     "start_time": "2022-03-21T01:52:56.105545Z"
    }
   },
   "outputs": [],
   "source": [
    "print(\"여러 컬럼에서 data 추출하기 (두 컬럼):\\n\",titanic_df[[\"Survived\", \"Pclass\"]].head(3),sep=\"\")"
   ]
  },
  {
   "cell_type": "code",
   "execution_count": null,
   "id": "a4aa1ee7",
   "metadata": {
    "ExecuteTime": {
     "end_time": "2022-03-21T01:52:58.414149Z",
     "start_time": "2022-03-21T01:52:58.402156Z"
    }
   },
   "outputs": [],
   "source": [
    "print(\"여러 컬럼에서 data 추출하기 (두 행):\\n\",titanic_df[0:2],sep=\"\")"
   ]
  },
  {
   "cell_type": "code",
   "execution_count": null,
   "id": "1e7521ec",
   "metadata": {
    "ExecuteTime": {
     "end_time": "2022-03-21T01:55:21.310692Z",
     "start_time": "2022-03-21T01:55:21.297710Z"
    }
   },
   "outputs": [],
   "source": [
    "# print(\"한 행에서 data 추출하기 - indexing (x) :\\n\",titanic_df[0],sep=\"\")\n",
    "print(\"한 행에서 data 추출하기 - slicing (o)  :\\n\",titanic_df[0:1],sep=\"\")"
   ]
  },
  {
   "cell_type": "code",
   "execution_count": null,
   "id": "361ea644",
   "metadata": {
    "ExecuteTime": {
     "end_time": "2022-03-21T01:56:46.004832Z",
     "start_time": "2022-03-21T01:56:45.977838Z"
    }
   },
   "outputs": [],
   "source": [
    "# 3 등 객실 승객 정보만 추출하기 - [] 내에서 조건식으로 검색함\n",
    "titanic_df[titanic_df[\"Pclass\"] == 3].head()"
   ]
  },
  {
   "cell_type": "markdown",
   "id": "2041ee02",
   "metadata": {},
   "source": [
    "### DataFrame 의 ix[] 연산자\n",
    "* 명칭기반 indexing / 위치기반 indexing 모두 가능함"
   ]
  },
  {
   "cell_type": "code",
   "execution_count": 1,
   "id": "0a006e81",
   "metadata": {
    "ExecuteTime": {
     "end_time": "2022-03-21T02:14:39.705526Z",
     "start_time": "2022-03-21T02:14:39.682529Z"
    }
   },
   "outputs": [
    {
     "ename": "NameError",
     "evalue": "name 'titanic_df' is not defined",
     "output_type": "error",
     "traceback": [
      "\u001b[1;31m---------------------------------------------------------------------------\u001b[0m",
      "\u001b[1;31mNameError\u001b[0m                                 Traceback (most recent call last)",
      "\u001b[1;32mC:\\Users\\KIMDON~1\\AppData\\Local\\Temp/ipykernel_2912/2150069353.py\u001b[0m in \u001b[0;36m<module>\u001b[1;34m\u001b[0m\n\u001b[1;32m----> 1\u001b[1;33m \u001b[0mtitanic_df\u001b[0m\u001b[1;33m.\u001b[0m\u001b[0mhead\u001b[0m\u001b[1;33m(\u001b[0m\u001b[1;36m3\u001b[0m\u001b[1;33m)\u001b[0m\u001b[1;33m\u001b[0m\u001b[1;33m\u001b[0m\u001b[0m\n\u001b[0m",
      "\u001b[1;31mNameError\u001b[0m: name 'titanic_df' is not defined"
     ]
    }
   ],
   "source": [
    "titanic_df.head(3)"
   ]
  },
  {
   "cell_type": "code",
   "execution_count": null,
   "id": "14e9eb84",
   "metadata": {
    "ExecuteTime": {
     "end_time": "2022-03-21T01:59:39.966365Z",
     "start_time": "2022-03-21T01:59:39.954361Z"
    }
   },
   "outputs": [],
   "source": [
    "# pandas update 된 후 ix[] 기능이 없어짐 -->  iloc, loc 사용\n",
    "# print(\"column 에서 위치기반으로 index 해서 data 추출하기 :\",titanic_df.ix[0,2])"
   ]
  },
  {
   "cell_type": "markdown",
   "id": "abd782bf",
   "metadata": {},
   "source": [
    "### DataFram iloc[] 연산자 - 위치기반 indexing 지원\n",
    "* iloc[행의인덱스, 열의인데스]\n",
    "* iloc 의  []  속에는 index 번호만 넣을 수 있음"
   ]
  },
  {
   "cell_type": "code",
   "execution_count": 2,
   "id": "b38eaca2",
   "metadata": {
    "ExecuteTime": {
     "end_time": "2022-03-21T02:14:43.237901Z",
     "start_time": "2022-03-21T02:14:43.224909Z"
    }
   },
   "outputs": [
    {
     "ename": "NameError",
     "evalue": "name 'pd' is not defined",
     "output_type": "error",
     "traceback": [
      "\u001b[1;31m---------------------------------------------------------------------------\u001b[0m",
      "\u001b[1;31mNameError\u001b[0m                                 Traceback (most recent call last)",
      "\u001b[1;32mC:\\Users\\KIMDON~1\\AppData\\Local\\Temp/ipykernel_14236/1079904130.py\u001b[0m in \u001b[0;36m<module>\u001b[1;34m\u001b[0m\n\u001b[0;32m      4\u001b[0m              \u001b[1;34m\"gender\"\u001b[0m\u001b[1;33m:\u001b[0m \u001b[1;33m[\u001b[0m\u001b[1;34m\"Male\"\u001b[0m\u001b[1;33m,\u001b[0m\u001b[1;34m\"Male\"\u001b[0m\u001b[1;33m,\u001b[0m\u001b[1;34m\"Female\"\u001b[0m\u001b[1;33m,\u001b[0m\u001b[1;34m\"Male\"\u001b[0m\u001b[1;33m,\u001b[0m\u001b[1;34m\"Male\"\u001b[0m\u001b[1;33m]\u001b[0m\u001b[1;33m\u001b[0m\u001b[1;33m\u001b[0m\u001b[0m\n\u001b[0;32m      5\u001b[0m             }\n\u001b[1;32m----> 6\u001b[1;33m \u001b[0mdata_df\u001b[0m \u001b[1;33m=\u001b[0m \u001b[0mpd\u001b[0m\u001b[1;33m.\u001b[0m\u001b[0mDataFrame\u001b[0m\u001b[1;33m(\u001b[0m\u001b[0mdata_dict\u001b[0m\u001b[1;33m,\u001b[0m \u001b[0mindex\u001b[0m \u001b[1;33m=\u001b[0m \u001b[1;33m[\u001b[0m\u001b[1;34m\"one\"\u001b[0m\u001b[1;33m,\u001b[0m\u001b[1;34m\"two\"\u001b[0m\u001b[1;33m,\u001b[0m\u001b[1;34m\"three\"\u001b[0m\u001b[1;33m,\u001b[0m\u001b[1;34m\"four\"\u001b[0m\u001b[1;33m,\u001b[0m\u001b[1;34m\"five\"\u001b[0m\u001b[1;33m]\u001b[0m\u001b[1;33m)\u001b[0m\u001b[1;33m\u001b[0m\u001b[1;33m\u001b[0m\u001b[0m\n\u001b[0m\u001b[0;32m      7\u001b[0m \u001b[0mdata_df\u001b[0m\u001b[1;33m\u001b[0m\u001b[1;33m\u001b[0m\u001b[0m\n",
      "\u001b[1;31mNameError\u001b[0m: name 'pd' is not defined"
     ]
    }
   ],
   "source": [
    "data_dict = {\n",
    "             \"name\"  : [\"이순신\",\"강감찬\",\"유관순\",\"안중근\",\"정약용\"],\n",
    "             \"birth\" : [1545, 948, 1901, 1879, 1762],\n",
    "             \"gender\": [\"Male\",\"Male\",\"Female\",\"Male\",\"Male\"]\n",
    "            }\n",
    "data_df = pd.DataFrame(data_dict, index = [\"one\",\"two\",\"three\",\"four\",\"five\"])\n",
    "data_df"
   ]
  },
  {
   "cell_type": "code",
   "execution_count": 1,
   "id": "78bef1b7",
   "metadata": {
    "ExecuteTime": {
     "end_time": "2022-03-21T02:11:53.851900Z",
     "start_time": "2022-03-21T02:11:53.839896Z"
    }
   },
   "outputs": [
    {
     "ename": "NameError",
     "evalue": "name 'data_df' is not defined",
     "output_type": "error",
     "traceback": [
      "\u001b[1;31m---------------------------------------------------------------------------\u001b[0m",
      "\u001b[1;31mNameError\u001b[0m                                 Traceback (most recent call last)",
      "\u001b[1;32mC:\\Users\\KIMDON~1\\AppData\\Local\\Temp/ipykernel_14236/37065628.py\u001b[0m in \u001b[0;36m<module>\u001b[1;34m\u001b[0m\n\u001b[0;32m      1\u001b[0m \u001b[1;31m# iloc 의  []  속에는 index 번호만 넣을 수 있음\u001b[0m\u001b[1;33m\u001b[0m\u001b[1;33m\u001b[0m\u001b[0m\n\u001b[0;32m      2\u001b[0m \u001b[1;31m# 유관순의 성별 검색\u001b[0m\u001b[1;33m\u001b[0m\u001b[1;33m\u001b[0m\u001b[0m\n\u001b[1;32m----> 3\u001b[1;33m \u001b[0mprint\u001b[0m\u001b[1;33m(\u001b[0m\u001b[1;34m\"data_df.iloc[2,2] :\"\u001b[0m\u001b[1;33m,\u001b[0m\u001b[0mdata_df\u001b[0m\u001b[1;33m.\u001b[0m\u001b[0miloc\u001b[0m\u001b[1;33m[\u001b[0m\u001b[1;36m2\u001b[0m\u001b[1;33m,\u001b[0m\u001b[1;36m2\u001b[0m\u001b[1;33m]\u001b[0m\u001b[1;33m)\u001b[0m\u001b[1;33m\u001b[0m\u001b[1;33m\u001b[0m\u001b[0m\n\u001b[0m\u001b[0;32m      4\u001b[0m \u001b[1;31m# 안중근의 이름 검색\u001b[0m\u001b[1;33m\u001b[0m\u001b[1;33m\u001b[0m\u001b[0m\n\u001b[0;32m      5\u001b[0m \u001b[0mprint\u001b[0m\u001b[1;33m(\u001b[0m\u001b[1;34m\"data_df.iloc[3,0] :\"\u001b[0m\u001b[1;33m,\u001b[0m\u001b[0mdata_df\u001b[0m\u001b[1;33m.\u001b[0m\u001b[0miloc\u001b[0m\u001b[1;33m[\u001b[0m\u001b[1;36m3\u001b[0m\u001b[1;33m,\u001b[0m\u001b[1;36m0\u001b[0m\u001b[1;33m]\u001b[0m\u001b[1;33m)\u001b[0m\u001b[1;33m\u001b[0m\u001b[1;33m\u001b[0m\u001b[0m\n",
      "\u001b[1;31mNameError\u001b[0m: name 'data_df' is not defined"
     ]
    }
   ],
   "source": [
    "# iloc 의  []  속에는 index 번호만 넣을 수 있음\n",
    "# 유관순의 성별 검색\n",
    "print(\"data_df.iloc[2,2] :\",data_df.iloc[2,2])\n",
    "# 안중근의 이름 검색\n",
    "print(\"data_df.iloc[3,0] :\",data_df.iloc[3,0])\n",
    "# 이순신의 탄생년도 검색\n",
    "print(\"data_df.iloc[0,1] :\",data_df.iloc[0,1])"
   ]
  },
  {
   "cell_type": "markdown",
   "id": "2678dec5",
   "metadata": {},
   "source": [
    "### DataFram 의 loc[] 연산자 - 명칭기반 indexing 지원\n",
    "* loc[로우명, 컬럼명]\n",
    "* loc 의 [] 속에는 컬럼명이나 로우명만 넣을 수 있음"
   ]
  },
  {
   "cell_type": "code",
   "execution_count": null,
   "id": "eacab517",
   "metadata": {
    "ExecuteTime": {
     "end_time": "2022-03-21T02:15:03.118701Z",
     "start_time": "2022-03-21T02:15:03.104711Z"
    },
    "scrolled": true
   },
   "outputs": [],
   "source": [
    "data_df"
   ]
  },
  {
   "cell_type": "code",
   "execution_count": null,
   "id": "163c3fac",
   "metadata": {
    "ExecuteTime": {
     "end_time": "2022-03-21T02:17:53.999146Z",
     "start_time": "2022-03-21T02:17:53.986154Z"
    }
   },
   "outputs": [],
   "source": [
    "# 이순신의 이름 검색하기\n",
    "print(\"data_df.loc[\\\"one\\\", \\\"name\\\"] :\",data_df.loc[\"one\",\"name\"])\n",
    "# 안중근의 성별 검색하기\n",
    "print(\"data_df.loc[\\\"four\\\", \\\"gender\\\"] :\",data_df.loc[\"four\",\"gender\"])\n",
    "# 유관순의 탄생년도 검색하기\n",
    "print(\"data_df.loc[\\\"three\\\",\\\"birth\\\"] :\",data_df.loc[\"three\",\"birth\"])"
   ]
  },
  {
   "cell_type": "code",
   "execution_count": null,
   "id": "01bd576d",
   "metadata": {
    "ExecuteTime": {
     "end_time": "2022-03-21T02:22:58.275912Z",
     "start_time": "2022-03-21T02:22:58.263908Z"
    }
   },
   "outputs": [],
   "source": [
    "reset_index_data_df = data_df.reset_index()\n",
    "# rename() : column 이름을 변경함\n",
    "reset_index_data_df = reset_index_data_df.rename(columns={\"index\":\"original_index\"})\n",
    "reset_index_data_df "
   ]
  },
  {
   "cell_type": "code",
   "execution_count": null,
   "id": "186d1a97",
   "metadata": {
    "ExecuteTime": {
     "end_time": "2022-03-21T02:23:20.914305Z",
     "start_time": "2022-03-21T02:23:20.896316Z"
    }
   },
   "outputs": [],
   "source": [
    "# 이순신 강감찬 유관순의 이름을 한 번에 검색하기\n",
    "print(reset_index_data_df.loc[0:2, \"name\"])"
   ]
  },
  {
   "cell_type": "markdown",
   "id": "4f1c4ef0",
   "metadata": {},
   "source": [
    "### Boolean Indexing"
   ]
  },
  {
   "cell_type": "code",
   "execution_count": null,
   "id": "d5575a7d",
   "metadata": {
    "ExecuteTime": {
     "end_time": "2022-03-21T02:38:09.298763Z",
     "start_time": "2022-03-21T02:38:09.270727Z"
    }
   },
   "outputs": [],
   "source": [
    "titanic_df = pd.read_csv(\"titanic_train.csv\")\n",
    "# 나이가 60 세가 넘는 사람들의 정보 검색하기\n",
    "titanic_df_60_lt = titanic_df[titanic_df[\"Age\"] > 60]\n",
    "print(\"titanic_df_60_lt :\",type(titanic_df_60_lt))\n",
    "print(\"titanic_df_60_lt :\\n\",titanic_df_60_lt.head(3),sep=\"\")"
   ]
  },
  {
   "cell_type": "code",
   "execution_count": null,
   "id": "4e30981a",
   "metadata": {
    "ExecuteTime": {
     "end_time": "2022-03-21T02:40:06.310283Z",
     "start_time": "2022-03-21T02:40:06.295300Z"
    }
   },
   "outputs": [],
   "source": [
    "lt_60 = titanic_df[\"Age\"] > 60\n",
    "print(\"lt_60 :\",type(lt_60))\n",
    "print(\"lt_60 :\\n\",lt_60.head(3),sep=\"\")"
   ]
  },
  {
   "cell_type": "code",
   "execution_count": null,
   "id": "4f5155af",
   "metadata": {
    "ExecuteTime": {
     "end_time": "2022-03-21T02:41:21.905916Z",
     "start_time": "2022-03-21T02:41:21.894923Z"
    }
   },
   "outputs": [],
   "source": [
    "# 나이가 60세가 넘는 사람들의 이름, 나이 검색하기\n",
    "titanic_df[titanic_df[\"Age\"] > 60][[\"Name\",\"Age\"]].head(3)"
   ]
  },
  {
   "cell_type": "code",
   "execution_count": null,
   "id": "7c7ea912",
   "metadata": {
    "ExecuteTime": {
     "end_time": "2022-03-21T02:42:03.826054Z",
     "start_time": "2022-03-21T02:42:03.814849Z"
    }
   },
   "outputs": [],
   "source": [
    "# 나이가 60세가 넘는 사람들의 이름, 나이 검색하기\n",
    "titanic_df[[\"Name\",\"Age\"]][titanic_df[\"Age\"] > 60].head(3)"
   ]
  },
  {
   "cell_type": "code",
   "execution_count": null,
   "id": "4663b62e",
   "metadata": {
    "ExecuteTime": {
     "end_time": "2022-03-21T02:42:49.457590Z",
     "start_time": "2022-03-21T02:42:49.438599Z"
    }
   },
   "outputs": [],
   "source": [
    "# 나이가 60세가 넘는 사람들의 이름, 나이 검색하기\n",
    "titanic_df.loc[titanic_df[\"Age\"] > 60, [\"Name\",\"Age\"]].head(3)"
   ]
  },
  {
   "cell_type": "code",
   "execution_count": null,
   "id": "d1a256f5",
   "metadata": {
    "ExecuteTime": {
     "end_time": "2022-03-21T02:44:57.657285Z",
     "start_time": "2022-03-21T02:44:57.639309Z"
    }
   },
   "outputs": [],
   "source": [
    "# 나이가 60세가 넘고, 1등객실이고, 여성인 승객만 조회하기\n",
    "titanic_df[(titanic_df[\"Age\"] > 60) & (titanic_df[\"Pclass\"] == 1) & (titanic_df[\"Sex\"] == \"female\")]"
   ]
  },
  {
   "cell_type": "code",
   "execution_count": null,
   "id": "ef23637b",
   "metadata": {
    "ExecuteTime": {
     "end_time": "2022-03-21T02:47:10.788728Z",
     "start_time": "2022-03-21T02:47:10.775223Z"
    }
   },
   "outputs": [],
   "source": [
    "# 각 조건을 변수에 할당해서 검색하기\n",
    "condition_age = titanic_df[\"Age\"] > 60\n",
    "condition_pclass = titanic_df[\"Pclass\"] == 1\n",
    "condition_sex = titanic_df[\"Sex\"] == \"female\"\n",
    "titanic_df[condition_age & condition_pclass & condition_sex]"
   ]
  },
  {
   "cell_type": "markdown",
   "id": "710afce2",
   "metadata": {},
   "source": [
    "### Aggregation 함수와 groupby\n",
    "* aggregation 함수 : mean(), sum(), count()"
   ]
  },
  {
   "cell_type": "code",
   "execution_count": null,
   "id": "e1072faf",
   "metadata": {
    "ExecuteTime": {
     "end_time": "2022-03-21T02:48:45.245107Z",
     "start_time": "2022-03-21T02:48:45.222110Z"
    }
   },
   "outputs": [],
   "source": [
    "# 각 컬럼의 건수를 결측치(NaN) 제외하고 검색하기\n",
    "titanic_df.count()"
   ]
  },
  {
   "cell_type": "code",
   "execution_count": null,
   "id": "7541b928",
   "metadata": {
    "ExecuteTime": {
     "end_time": "2022-03-21T02:50:34.808106Z",
     "start_time": "2022-03-21T02:50:34.798101Z"
    }
   },
   "outputs": [],
   "source": [
    "# 특정 컬럼들로 Aggregation()함수 호출하기\n",
    "titanic_df[[\"Age\",\"Fare\"]].mean(axis=1)"
   ]
  },
  {
   "cell_type": "code",
   "execution_count": null,
   "id": "1aed78d2",
   "metadata": {
    "ExecuteTime": {
     "end_time": "2022-03-21T02:51:09.685469Z",
     "start_time": "2022-03-21T02:51:09.678483Z"
    }
   },
   "outputs": [],
   "source": [
    "# Age 와 Fare의 합계\n",
    "titanic_df[[\"Age\",\"Fare\"]].sum(axis=0)"
   ]
  },
  {
   "cell_type": "code",
   "execution_count": null,
   "id": "28d99f52",
   "metadata": {
    "ExecuteTime": {
     "end_time": "2022-03-21T02:52:26.772762Z",
     "start_time": "2022-03-21T02:52:26.758769Z"
    }
   },
   "outputs": [],
   "source": [
    "# Age 와 Fare  count() : 결측지 제외한 건수\n",
    "titanic_df[[\"Age\",\"Fare\"]].count()"
   ]
  },
  {
   "cell_type": "markdown",
   "id": "7ea6e437",
   "metadata": {},
   "source": [
    "### DataFrame 에서 groupby() 를 호출하면 DataFrameGroupBy 객체 반환함"
   ]
  },
  {
   "cell_type": "code",
   "execution_count": null,
   "id": "5608e024",
   "metadata": {
    "ExecuteTime": {
     "end_time": "2022-03-21T02:55:30.129450Z",
     "start_time": "2022-03-21T02:55:30.110471Z"
    }
   },
   "outputs": [],
   "source": [
    "titanic_df_groupby = titanic_df.groupby(by=\"Pclass\")\n",
    "print(\"titanic_df_groupby 의 type :\",type(titanic_df.groupby))\n",
    "print(\"titanic_df_groupby :\\n\",titanic_df_groupby)"
   ]
  },
  {
   "cell_type": "code",
   "execution_count": null,
   "id": "debadfc2",
   "metadata": {
    "ExecuteTime": {
     "end_time": "2022-03-21T02:56:48.758437Z",
     "start_time": "2022-03-21T02:56:48.734461Z"
    }
   },
   "outputs": [],
   "source": [
    "titanic_groupby = titanic_df.groupby(\"Pclass\").count()\n",
    "titanic_groupby"
   ]
  },
  {
   "cell_type": "code",
   "execution_count": null,
   "id": "042733d4",
   "metadata": {
    "ExecuteTime": {
     "end_time": "2022-03-21T02:59:27.135295Z",
     "start_time": "2022-03-21T02:59:27.117303Z"
    }
   },
   "outputs": [],
   "source": [
    "print(\"titanic_groupby 의 type  :\",type(titanic_groupby))\n",
    "print(\"titanic_groupby 의 shape :\",titanic_df.shape)\n",
    "print(\"titanic_groupby 의 index :\",titanic_df.index)"
   ]
  },
  {
   "cell_type": "code",
   "execution_count": null,
   "id": "afe35d09",
   "metadata": {
    "ExecuteTime": {
     "end_time": "2022-03-21T03:02:17.620920Z",
     "start_time": "2022-03-21T03:02:17.605939Z"
    }
   },
   "outputs": [],
   "source": [
    "# Pclass 컬럼을 기준으로 그룹핑해서 PassengerId 와 Survived 컬럼 counting 하기\n",
    "titanic_df.groupby(by=\"Pclass\")[[\"PassengerId\",\"Survived\"]].count()"
   ]
  },
  {
   "cell_type": "code",
   "execution_count": null,
   "id": "30678ad6",
   "metadata": {
    "ExecuteTime": {
     "end_time": "2022-03-21T03:02:08.224016Z",
     "start_time": "2022-03-21T03:02:08.206027Z"
    }
   },
   "outputs": [],
   "source": [
    "# Pclass 컬럼을 기준으로 그룹핑해서 PassengerId 와 Survived 컬럼 counting 하기\n",
    "titanic_df[[\"Pclass\",\"PassengerId\",\"Survived\"]].groupby(\"Pclass\").count()"
   ]
  },
  {
   "cell_type": "code",
   "execution_count": null,
   "id": "6cadf1c3",
   "metadata": {
    "ExecuteTime": {
     "end_time": "2022-03-21T03:03:12.813843Z",
     "start_time": "2022-03-21T03:03:12.805838Z"
    }
   },
   "outputs": [],
   "source": [
    "titanic_df.groupby(\"Pclass\")[\"Pclass\"].count()"
   ]
  },
  {
   "cell_type": "code",
   "execution_count": null,
   "id": "adcd903c",
   "metadata": {
    "ExecuteTime": {
     "end_time": "2022-03-21T03:03:33.444140Z",
     "start_time": "2022-03-21T03:03:33.430137Z"
    }
   },
   "outputs": [],
   "source": [
    "titanic_df[\"Pclass\"].value_counts()"
   ]
  },
  {
   "cell_type": "markdown",
   "id": "4db507ab",
   "metadata": {},
   "source": [
    "### 여러 개의 aggregation 함수 사용하기 - agg() 함수 사용"
   ]
  },
  {
   "cell_type": "code",
   "execution_count": null,
   "id": "b9a65c66",
   "metadata": {
    "ExecuteTime": {
     "end_time": "2022-03-21T03:06:16.781892Z",
     "start_time": "2022-03-21T03:06:16.765900Z"
    }
   },
   "outputs": [],
   "source": [
    "titanic_df.groupby(\"Pclass\")[\"Age\"].agg([max, min])"
   ]
  },
  {
   "cell_type": "markdown",
   "id": "120c6faf",
   "metadata": {},
   "source": [
    "### dictionary 로 aggregation 함수 사용하기"
   ]
  },
  {
   "cell_type": "code",
   "execution_count": null,
   "id": "379cb60a",
   "metadata": {
    "ExecuteTime": {
     "end_time": "2022-03-21T03:08:40.520293Z",
     "start_time": "2022-03-21T03:08:40.501313Z"
    }
   },
   "outputs": [],
   "source": [
    "agg_format = {\"Age\":\"max\", \"SibSp\":\"sum\", \"Fare\":\"mean\"}\n",
    "titanic_df.groupby(\"Pclass\").agg(agg_format)"
   ]
  },
  {
   "cell_type": "markdown",
   "id": "7fb9f1bb",
   "metadata": {},
   "source": [
    "### 결측치 data (missing data) 처리하기 - DataFram 의 isna() 메소드\n",
    "* isna() 메소드 - 모든 column값들이 NaN 이면 True 를 반환함"
   ]
  },
  {
   "cell_type": "code",
   "execution_count": null,
   "id": "67e0b659",
   "metadata": {
    "ExecuteTime": {
     "end_time": "2022-03-21T03:13:23.425559Z",
     "start_time": "2022-03-21T03:13:23.413555Z"
    }
   },
   "outputs": [],
   "source": [
    "titanic_df.head()"
   ]
  },
  {
   "cell_type": "code",
   "execution_count": null,
   "id": "c4fc132e",
   "metadata": {
    "ExecuteTime": {
     "end_time": "2022-03-21T03:13:28.024359Z",
     "start_time": "2022-03-21T03:13:27.997374Z"
    }
   },
   "outputs": [],
   "source": [
    "titanic_df.isna().head()"
   ]
  },
  {
   "cell_type": "markdown",
   "id": "342447fe",
   "metadata": {},
   "source": [
    "### fillna() 메소드 - () 안에 지정한 값들로 NaN 값을 대체함"
   ]
  },
  {
   "cell_type": "code",
   "execution_count": null,
   "id": "8eedaee3",
   "metadata": {
    "ExecuteTime": {
     "end_time": "2022-03-21T03:15:20.718340Z",
     "start_time": "2022-03-21T03:15:20.701351Z"
    }
   },
   "outputs": [],
   "source": [
    "# Cabin 컬럼의 결측치를 \"CCCC\" 로 대체하기\n",
    "titanic_df[\"Cabin\"] = titanic_df[\"Cabin\"].fillna(\"CCCC\")\n",
    "titanic_df.head()"
   ]
  },
  {
   "cell_type": "code",
   "execution_count": null,
   "id": "085a37ef",
   "metadata": {
    "ExecuteTime": {
     "end_time": "2022-03-21T03:58:33.072065Z",
     "start_time": "2022-03-21T03:58:33.050068Z"
    }
   },
   "outputs": [],
   "source": [
    "titanic_df = pd.read_csv(\"titanic_train.csv\")\n",
    "reset_titanic_df = titanic_df.reset_index()\n",
    "# reset_titanic_df[\"Age\"].mean()\n",
    "# 평균값 : 29.699117647058763\n",
    "reset_titanic_df.loc[11:50, \"Age\"]"
   ]
  },
  {
   "cell_type": "code",
   "execution_count": null,
   "id": "2a35dab1",
   "metadata": {
    "ExecuteTime": {
     "end_time": "2022-03-21T03:59:43.843402Z",
     "start_time": "2022-03-21T03:59:43.826416Z"
    }
   },
   "outputs": [],
   "source": [
    "# Age 컬럼의 결측치를 평균값으로 대체하기\n",
    "titanic_df[\"Age\"] = titanic_df[\"Age\"].fillna(titanic_df[\"Age\"].mean())\n",
    "reset_titanic_df = titanic_df.reset_index()\n",
    "# NaN 로 되었던 값들이 \n",
    "# 평균값(29.699117647058763 - 소수점 이하 6 자리까지 출력) 으로 대체됨\n",
    "reset_titanic_df.loc[11:50, \"Age\"]"
   ]
  },
  {
   "cell_type": "markdown",
   "id": "a7a4f9e9",
   "metadata": {},
   "source": [
    "### DataFrame  apply() 메소드 사용하기 - apply(lambda 식)"
   ]
  },
  {
   "cell_type": "code",
   "execution_count": null,
   "id": "942adcc4",
   "metadata": {
    "ExecuteTime": {
     "end_time": "2022-03-21T04:33:54.000578Z",
     "start_time": "2022-03-21T04:33:52.864998Z"
    }
   },
   "outputs": [],
   "source": [
    "def square_number(number):\n",
    "    return number * number\n",
    "\n",
    "number = int(input(\"정수를 입력하세요 : \"))\n",
    "result = square_number(number)\n",
    "print(number,\"의 제곱 :\",result)"
   ]
  },
  {
   "cell_type": "code",
   "execution_count": null,
   "id": "f3efd23e",
   "metadata": {
    "ExecuteTime": {
     "end_time": "2022-03-21T04:34:49.543685Z",
     "start_time": "2022-03-21T04:34:48.504704Z"
    }
   },
   "outputs": [],
   "source": [
    "number = int(input(\"정수를 입력하세요 : \"))\n",
    "result = (lambda number : number * number)(number)\n",
    "print(number,\"의 제곱 :\",result)"
   ]
  },
  {
   "cell_type": "code",
   "execution_count": null,
   "id": "d59250f1",
   "metadata": {
    "ExecuteTime": {
     "end_time": "2022-03-21T04:36:07.663144Z",
     "start_time": "2022-03-21T04:36:07.657148Z"
    }
   },
   "outputs": [],
   "source": [
    "list_numbers = [1, 2, 3, 4, 5]\n",
    "square_numbers = map(lambda number : number * number, list_numbers)\n",
    "list(square_numbers)"
   ]
  },
  {
   "cell_type": "code",
   "execution_count": null,
   "id": "6192bf26",
   "metadata": {
    "ExecuteTime": {
     "end_time": "2022-03-21T04:38:22.394737Z",
     "start_time": "2022-03-21T04:38:22.375758Z"
    }
   },
   "outputs": [],
   "source": [
    "# apply(lambda 식)\n",
    "titanic_df[\"Name_length\"] = titanic_df[\"Name\"].apply(lambda name : len(name))\n",
    "titanic_df[[\"Name\", \"Name_length\"]].head()"
   ]
  },
  {
   "cell_type": "code",
   "execution_count": null,
   "id": "55d25cb7",
   "metadata": {
    "ExecuteTime": {
     "end_time": "2022-03-21T04:40:53.998509Z",
     "start_time": "2022-03-21T04:40:53.975522Z"
    }
   },
   "outputs": [],
   "source": [
    "titanic_df[\"Child_Adult\"] = titanic_df[\"Age\"].apply(lambda age : \"Child\" if age <= 18 else \"Adult\")\n",
    "titanic_df[[\"Age\", \"Child_Adult\"]].head(10)"
   ]
  },
  {
   "cell_type": "code",
   "execution_count": null,
   "id": "f5624c26",
   "metadata": {
    "ExecuteTime": {
     "end_time": "2022-03-21T04:53:06.905367Z",
     "start_time": "2022-03-21T04:53:06.894363Z"
    }
   },
   "outputs": [],
   "source": [
    "titanic_df[\"Age_category\"] = titanic_df[\"Age\"].apply(lambda age : \"Child\" if age <= 18 else \"Adult\" if age <= 60 else \"Elderly\")\n",
    "titanic_df[[\"Age\", \"Age_category\"]].head(10)\n",
    "titanic_df[\"Age_category\"].value_counts()"
   ]
  },
  {
   "cell_type": "code",
   "execution_count": null,
   "id": "4c94ccce",
   "metadata": {
    "ExecuteTime": {
     "end_time": "2022-03-21T04:53:43.191731Z",
     "start_time": "2022-03-21T04:53:43.174729Z"
    }
   },
   "outputs": [],
   "source": [
    "titanic_df = pd.read_csv(\"titanic_train.csv\")\n",
    "def get_age_category(age):\n",
    "    category = \"\"\n",
    "    if age <= 5: category = \"Baby\"\n",
    "    elif age <= 12: category = \"Child\"\n",
    "    elif age <= 18: category = \"Teenager\"\n",
    "    elif age <= 25: category = \"Student\"\n",
    "    elif age <= 35: category = \"Young Adult\"\n",
    "    elif age <= 60: category = \"Adult\"\n",
    "    else: category = \"Elderly\"\n",
    "    return category    \n",
    "titanic_df[\"Age_category\"] = titanic_df[\"Age\"].apply(lambda age : get_age_category(age))\n",
    "titanic_df[\"Age_category\"].value_counts()"
   ]
  },
  {
   "cell_type": "code",
   "execution_count": null,
   "id": "54ec1db7",
   "metadata": {
    "ExecuteTime": {
     "end_time": "2022-03-21T04:53:45.822628Z",
     "start_time": "2022-03-21T04:53:45.807291Z"
    }
   },
   "outputs": [],
   "source": [
    "titanic_df[[\"Age\",\"Age_category\"]].head(10)"
   ]
  },
  {
   "cell_type": "code",
   "execution_count": null,
   "id": "6e4e92e1",
   "metadata": {},
   "outputs": [],
   "source": []
  },
  {
   "cell_type": "code",
   "execution_count": null,
   "id": "3a9b81fb",
   "metadata": {},
   "outputs": [],
   "source": []
  },
  {
   "cell_type": "code",
   "execution_count": null,
   "id": "bc04c99b",
   "metadata": {},
   "outputs": [],
   "source": []
  },
  {
   "cell_type": "code",
   "execution_count": null,
   "id": "40874694",
   "metadata": {},
   "outputs": [],
   "source": []
  },
  {
   "cell_type": "code",
   "execution_count": null,
   "id": "2101737d",
   "metadata": {},
   "outputs": [],
   "source": []
  }
 ],
 "metadata": {
  "hide_input": false,
  "kernelspec": {
   "display_name": "Python 3 (ipykernel)",
   "language": "python",
   "name": "python3"
  },
  "language_info": {
   "codemirror_mode": {
    "name": "ipython",
    "version": 3
   },
   "file_extension": ".py",
   "mimetype": "text/x-python",
   "name": "python",
   "nbconvert_exporter": "python",
   "pygments_lexer": "ipython3",
   "version": "3.9.12"
  },
  "toc": {
   "base_numbering": 1,
   "nav_menu": {},
   "number_sections": true,
   "sideBar": true,
   "skip_h1_title": false,
   "title_cell": "Table of Contents",
   "title_sidebar": "Contents",
   "toc_cell": false,
   "toc_position": {},
   "toc_section_display": true,
   "toc_window_display": false
  },
  "varInspector": {
   "cols": {
    "lenName": 16,
    "lenType": 16,
    "lenVar": 40
   },
   "kernels_config": {
    "python": {
     "delete_cmd_postfix": "",
     "delete_cmd_prefix": "del ",
     "library": "var_list.py",
     "varRefreshCmd": "print(var_dic_list())"
    },
    "r": {
     "delete_cmd_postfix": ") ",
     "delete_cmd_prefix": "rm(",
     "library": "var_list.r",
     "varRefreshCmd": "cat(var_dic_list()) "
    }
   },
   "types_to_exclude": [
    "module",
    "function",
    "builtin_function_or_method",
    "instance",
    "_Feature"
   ],
   "window_display": false
  }
 },
 "nbformat": 4,
 "nbformat_minor": 5
}
