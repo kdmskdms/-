{
 "cells": [
  {
   "cell_type": "markdown",
   "id": "fbcf1d63",
   "metadata": {},
   "source": [
    "### sklearn 으로 Iris(붓꽃) data 품종 예측하기"
   ]
  },
  {
   "cell_type": "code",
   "execution_count": null,
   "id": "893c6e75",
   "metadata": {
    "ExecuteTime": {
     "end_time": "2022-03-21T04:58:39.984567Z",
     "start_time": "2022-03-21T04:58:39.973567Z"
    }
   },
   "outputs": [],
   "source": [
    "import sklearn\n",
    "sklearn.__version__"
   ]
  },
  {
   "cell_type": "code",
   "execution_count": null,
   "id": "e2c2ce5d",
   "metadata": {},
   "outputs": [],
   "source": [
    "'''\n",
    "붓꽃 데이터 분류 예측 프로세스\n",
    "\n",
    "1) 데이터 세트 분리\n",
    "    ㄴ 데이터를 학습 데이터와 테스트 데이터로 분리함\n",
    "    \n",
    "2) 모델 학습(학습수행 : fit())\n",
    "    ㄴ 학습 데이터를 기반으로 ML(Machine Learning) 알고리즘을 적용해서\n",
    "       모델을 학습 시킴\n",
    "       \n",
    "3) 예측 수행(predict())\n",
    "    ㄴ 학습된 ML 모델을 이용해서 테스트 데이터의 분류(: 붓꽃 종류)를 예측함\n",
    "    \n",
    "4) 평가\n",
    "    ㄴ 예측된 결괏값과 테스트 데이터의 실제 결괏값을 비교해서\n",
    "       ML 모델 성능을 평가함\n",
    "\n",
    "'''"
   ]
  },
  {
   "cell_type": "code",
   "execution_count": null,
   "id": "8bb934a8",
   "metadata": {
    "ExecuteTime": {
     "end_time": "2022-03-21T05:01:41.811129Z",
     "start_time": "2022-03-21T05:01:41.805141Z"
    }
   },
   "outputs": [],
   "source": [
    "'''\n",
    "load_iris()\n",
    "  ㄴ iris dataset 를 로딩하는 함수\n",
    "\n",
    "DecisionTreeClassifier\n",
    "  ㄴ 결정나무 알고리즘을 구현한\n",
    "     sklearn 에 있는 클래스\n",
    "\n",
    "train_test_split()\n",
    "  ㄴ 학습데이터하고 테스트데이터를 분리하는 함수\n",
    "'''\n",
    "# 모듈 로딩하기\n",
    "from sklearn.datasets import load_iris\n",
    "from sklearn.tree import DecisionTreeClassifier\n",
    "from sklearn.model_selection import train_test_split"
   ]
  },
  {
   "cell_type": "code",
   "execution_count": null,
   "id": "a7ec5b44",
   "metadata": {},
   "outputs": [],
   "source": [
    "'''\n",
    "feature = 속성 = 변수\n",
    "\n",
    "붓꽃 데이터(세트) feature\n",
    "  ㄴ Sepal length, Sepal width, Petal length, Petal width\n",
    "  \n",
    "  feature( > 속성) : target 값 을 제외한 나머지 속성들\n",
    "  target 값 (결정값) : 지도학습시 데이터의 학습을 위해 주어지는 정답 데이터\n",
    "                        ㄴ Supervies Learning : 정답이 있는 데이터를 활용해서 학습시키는 것\n",
    "                           입력값(x data)이 주어지면 입력값에 대한 Label(y data) 를 주어서 학습시키는 것\n",
    "                           지도학습 : 분류(Classification), 회귀(Regression)\n",
    "                           분류 - 데이터 세트를 정해진 Category(Label)에 따라 분류함\n",
    "                            ㄴ feature 를 Label 이나 Class 로 지칭함\n",
    "                           회귀(예측) - feature(예측 변수 - predictor variable) 를 기준으로\n",
    "                                          ㄴ 데이터의 특징               연속된 값을 예측함\n",
    "'''"
   ]
  },
  {
   "cell_type": "code",
   "execution_count": 16,
   "id": "3e438577",
   "metadata": {
    "ExecuteTime": {
     "end_time": "2022-03-21T06:15:04.085623Z",
     "start_time": "2022-03-21T06:15:04.074619Z"
    }
   },
   "outputs": [
    {
     "name": "stdout",
     "output_type": "stream",
     "text": [
      "iris target 값 :\n",
      " [0 0 0 0 0 0 0 0 0 0 0 0 0 0 0 0 0 0 0 0 0 0 0 0 0 0 0 0 0 0 0 0 0 0 0 0 0\n",
      " 0 0 0 0 0 0 0 0 0 0 0 0 0 1 1 1 1 1 1 1 1 1 1 1 1 1 1 1 1 1 1 1 1 1 1 1 1\n",
      " 1 1 1 1 1 1 1 1 1 1 1 1 1 1 1 1 1 1 1 1 1 1 1 1 1 1 2 2 2 2 2 2 2 2 2 2 2\n",
      " 2 2 2 2 2 2 2 2 2 2 2 2 2 2 2 2 2 2 2 2 2 2 2 2 2 2 2 2 2 2 2 2 2 2 2 2 2\n",
      " 2 2]\n",
      "iris target 명 :\n",
      " ['setosa' 'versicolor' 'virginica']\n"
     ]
    }
   ],
   "source": [
    "import pandas as pd\n",
    "\n",
    "# 붓꽃 데이터세트 로딩하기\n",
    "iris = load_iris()\n",
    "\n",
    "# iris.data <-- iris 데이터세트에서 feature 로만 된 data\n",
    "iris_data = iris.data\n",
    "\n",
    "# iris.target <-- iris 데이터세트에서 결정값(Label) 으로만 된 data\n",
    "iris_label = iris.target\n",
    "print(\"iris target 값 :\\n\",iris_label)\n",
    "\n",
    "# iris target 명 : iris 품종 - setosa, versicolor, virginica\n",
    "print(\"iris target 명 :\\n\",iris.target_names)"
   ]
  },
  {
   "cell_type": "code",
   "execution_count": null,
   "id": "b1732b89",
   "metadata": {
    "ExecuteTime": {
     "end_time": "2022-03-21T05:50:55.603661Z",
     "start_time": "2022-03-21T05:50:55.579676Z"
    }
   },
   "outputs": [],
   "source": [
    "# iris dataset 를 DataFrame 으로 변환하기\n",
    "iris_df = pd.DataFrame(data=iris_data,columns=iris.feature_names)\n",
    "iris_df.head()"
   ]
  },
  {
   "cell_type": "code",
   "execution_count": 17,
   "id": "65cfc2ae",
   "metadata": {
    "ExecuteTime": {
     "end_time": "2022-03-21T06:15:43.542433Z",
     "start_time": "2022-03-21T06:15:43.514445Z"
    }
   },
   "outputs": [
    {
     "data": {
      "text/html": [
       "<div>\n",
       "<style scoped>\n",
       "    .dataframe tbody tr th:only-of-type {\n",
       "        vertical-align: middle;\n",
       "    }\n",
       "\n",
       "    .dataframe tbody tr th {\n",
       "        vertical-align: top;\n",
       "    }\n",
       "\n",
       "    .dataframe thead th {\n",
       "        text-align: right;\n",
       "    }\n",
       "</style>\n",
       "<table border=\"1\" class=\"dataframe\">\n",
       "  <thead>\n",
       "    <tr style=\"text-align: right;\">\n",
       "      <th></th>\n",
       "      <th>sepal length (cm)</th>\n",
       "      <th>sepal width (cm)</th>\n",
       "      <th>petal length (cm)</th>\n",
       "      <th>petal width (cm)</th>\n",
       "      <th>label</th>\n",
       "    </tr>\n",
       "  </thead>\n",
       "  <tbody>\n",
       "    <tr>\n",
       "      <th>0</th>\n",
       "      <td>5.1</td>\n",
       "      <td>3.5</td>\n",
       "      <td>1.4</td>\n",
       "      <td>0.2</td>\n",
       "      <td>0</td>\n",
       "    </tr>\n",
       "    <tr>\n",
       "      <th>1</th>\n",
       "      <td>4.9</td>\n",
       "      <td>3.0</td>\n",
       "      <td>1.4</td>\n",
       "      <td>0.2</td>\n",
       "      <td>0</td>\n",
       "    </tr>\n",
       "    <tr>\n",
       "      <th>2</th>\n",
       "      <td>4.7</td>\n",
       "      <td>3.2</td>\n",
       "      <td>1.3</td>\n",
       "      <td>0.2</td>\n",
       "      <td>0</td>\n",
       "    </tr>\n",
       "    <tr>\n",
       "      <th>3</th>\n",
       "      <td>4.6</td>\n",
       "      <td>3.1</td>\n",
       "      <td>1.5</td>\n",
       "      <td>0.2</td>\n",
       "      <td>0</td>\n",
       "    </tr>\n",
       "    <tr>\n",
       "      <th>4</th>\n",
       "      <td>5.0</td>\n",
       "      <td>3.6</td>\n",
       "      <td>1.4</td>\n",
       "      <td>0.2</td>\n",
       "      <td>0</td>\n",
       "    </tr>\n",
       "    <tr>\n",
       "      <th>...</th>\n",
       "      <td>...</td>\n",
       "      <td>...</td>\n",
       "      <td>...</td>\n",
       "      <td>...</td>\n",
       "      <td>...</td>\n",
       "    </tr>\n",
       "    <tr>\n",
       "      <th>145</th>\n",
       "      <td>6.7</td>\n",
       "      <td>3.0</td>\n",
       "      <td>5.2</td>\n",
       "      <td>2.3</td>\n",
       "      <td>2</td>\n",
       "    </tr>\n",
       "    <tr>\n",
       "      <th>146</th>\n",
       "      <td>6.3</td>\n",
       "      <td>2.5</td>\n",
       "      <td>5.0</td>\n",
       "      <td>1.9</td>\n",
       "      <td>2</td>\n",
       "    </tr>\n",
       "    <tr>\n",
       "      <th>147</th>\n",
       "      <td>6.5</td>\n",
       "      <td>3.0</td>\n",
       "      <td>5.2</td>\n",
       "      <td>2.0</td>\n",
       "      <td>2</td>\n",
       "    </tr>\n",
       "    <tr>\n",
       "      <th>148</th>\n",
       "      <td>6.2</td>\n",
       "      <td>3.4</td>\n",
       "      <td>5.4</td>\n",
       "      <td>2.3</td>\n",
       "      <td>2</td>\n",
       "    </tr>\n",
       "    <tr>\n",
       "      <th>149</th>\n",
       "      <td>5.9</td>\n",
       "      <td>3.0</td>\n",
       "      <td>5.1</td>\n",
       "      <td>1.8</td>\n",
       "      <td>2</td>\n",
       "    </tr>\n",
       "  </tbody>\n",
       "</table>\n",
       "<p>150 rows × 5 columns</p>\n",
       "</div>"
      ],
      "text/plain": [
       "     sepal length (cm)  sepal width (cm)  petal length (cm)  petal width (cm)  \\\n",
       "0                  5.1               3.5                1.4               0.2   \n",
       "1                  4.9               3.0                1.4               0.2   \n",
       "2                  4.7               3.2                1.3               0.2   \n",
       "3                  4.6               3.1                1.5               0.2   \n",
       "4                  5.0               3.6                1.4               0.2   \n",
       "..                 ...               ...                ...               ...   \n",
       "145                6.7               3.0                5.2               2.3   \n",
       "146                6.3               2.5                5.0               1.9   \n",
       "147                6.5               3.0                5.2               2.0   \n",
       "148                6.2               3.4                5.4               2.3   \n",
       "149                5.9               3.0                5.1               1.8   \n",
       "\n",
       "     label  \n",
       "0        0  \n",
       "1        0  \n",
       "2        0  \n",
       "3        0  \n",
       "4        0  \n",
       "..     ...  \n",
       "145      2  \n",
       "146      2  \n",
       "147      2  \n",
       "148      2  \n",
       "149      2  \n",
       "\n",
       "[150 rows x 5 columns]"
      ]
     },
     "execution_count": 17,
     "metadata": {},
     "output_type": "execute_result"
    }
   ],
   "source": [
    "# iris_df 데이터프레임에 label 컬럼 추가하기\n",
    "# 값은 iris.target(iris_label) 으로 함\n",
    "iris_df[\"label\"] = iris_label\n",
    "iris_df.head()\n",
    "iris_df"
   ]
  },
  {
   "cell_type": "markdown",
   "id": "c8595dfe",
   "metadata": {},
   "source": [
    "### 학습데이터와 테스트(검증)데이터 분리하기"
   ]
  },
  {
   "cell_type": "code",
   "execution_count": 10,
   "id": "515b521a",
   "metadata": {
    "ExecuteTime": {
     "end_time": "2022-03-21T06:04:30.547821Z",
     "start_time": "2022-03-21T06:04:30.539825Z"
    }
   },
   "outputs": [],
   "source": [
    "'''\n",
    "iris_data  : feature set 이 들어감\n",
    "iris_label : target set 이 들어감\n",
    "test_size=0.2 : 테스트데이터세트 20%, 학습데이터세트 80%\n",
    "X_tain : 학습용 feature set\n",
    "X_test : 테스트용 featrue set\n",
    "y_train : 학습용 target set (결정값)\n",
    "y_test  : 테스트용 target set (결정값)\n",
    "\n",
    "random_state : DecisionTree의 내부 알고리즘 구동시 \n",
    "               random하게 feature들과 데이터 건수를 \n",
    "               선택하기 위해서 지정하는 값 \n",
    "                ㄴ 고정값을 할당하면 데이터를 여러 번 추출하더라도 \n",
    "                   학습데이터와 테스트 데이터를 동일하게 추출하도록 함\n",
    "'''\n",
    "X_train, X_test, y_train, y_test = \\\n",
    "  train_test_split(iris_data, iris_label, test_size=0.2, random_state=11)"
   ]
  },
  {
   "cell_type": "markdown",
   "id": "4df47f88",
   "metadata": {},
   "source": [
    "### 학습용 dataset 으로 학습하기"
   ]
  },
  {
   "cell_type": "code",
   "execution_count": 11,
   "id": "fb8b309d",
   "metadata": {
    "ExecuteTime": {
     "end_time": "2022-03-21T06:07:08.265392Z",
     "start_time": "2022-03-21T06:07:08.242052Z"
    }
   },
   "outputs": [
    {
     "data": {
      "text/plain": [
       "DecisionTreeClassifier(random_state=11)"
      ]
     },
     "execution_count": 11,
     "metadata": {},
     "output_type": "execute_result"
    }
   ],
   "source": [
    "# 분류\n",
    "# DecisionTreeClassifier 객체 생성하기\n",
    "dt_clf = DecisionTreeClassifier(random_state=11)\n",
    "\n",
    "# 학습 수행하기 - fit() 메소드를 호출함\n",
    "dt_clf.fit(X_train, y_train)"
   ]
  },
  {
   "cell_type": "markdown",
   "id": "5afa78d2",
   "metadata": {},
   "source": [
    "### 테스트데이터세트로 예측(predict) 수행하기"
   ]
  },
  {
   "cell_type": "code",
   "execution_count": 12,
   "id": "fc47745e",
   "metadata": {
    "ExecuteTime": {
     "end_time": "2022-03-21T06:08:41.380723Z",
     "start_time": "2022-03-21T06:08:41.369729Z"
    }
   },
   "outputs": [
    {
     "data": {
      "text/plain": [
       "array([2, 2, 1, 1, 2, 0, 1, 0, 0, 1, 1, 1, 1, 2, 2, 0, 2, 1, 2, 2, 1, 0,\n",
       "       0, 1, 0, 0, 2, 1, 0, 1])"
      ]
     },
     "execution_count": 12,
     "metadata": {},
     "output_type": "execute_result"
    }
   ],
   "source": [
    "# 학습이 완료된 DecisionTreeClassifier 객체에서\n",
    "# 테스트데이터세트로 예측을 수행함\n",
    "pred = dt_clf.predict(X_test)\n",
    "pred"
   ]
  },
  {
   "cell_type": "markdown",
   "id": "f4fa527d",
   "metadata": {},
   "source": [
    "### 예측 정확도 평가하기 - sklearn 의 accuracy_score () 함수 호출"
   ]
  },
  {
   "cell_type": "code",
   "execution_count": 14,
   "id": "01f64f5c",
   "metadata": {
    "ExecuteTime": {
     "end_time": "2022-03-21T06:11:25.567847Z",
     "start_time": "2022-03-21T06:11:25.553844Z"
    }
   },
   "outputs": [
    {
     "name": "stdout",
     "output_type": "stream",
     "text": [
      "예측 정확도 : 0.9333\n"
     ]
    }
   ],
   "source": [
    "from sklearn.metrics import accuracy_score\n",
    "print(f\"예측 정확도 : {accuracy_score(y_test, pred):.4f}\")"
   ]
  },
  {
   "cell_type": "code",
   "execution_count": null,
   "id": "c7461ea9",
   "metadata": {},
   "outputs": [],
   "source": []
  },
  {
   "cell_type": "code",
   "execution_count": null,
   "id": "05002170",
   "metadata": {},
   "outputs": [],
   "source": []
  },
  {
   "cell_type": "code",
   "execution_count": null,
   "id": "feee132d",
   "metadata": {},
   "outputs": [],
   "source": []
  },
  {
   "cell_type": "code",
   "execution_count": null,
   "id": "96847359",
   "metadata": {},
   "outputs": [],
   "source": []
  },
  {
   "cell_type": "code",
   "execution_count": null,
   "id": "4e140e9d",
   "metadata": {},
   "outputs": [],
   "source": []
  }
 ],
 "metadata": {
  "hide_input": false,
  "kernelspec": {
   "display_name": "Python 3 (ipykernel)",
   "language": "python",
   "name": "python3"
  },
  "language_info": {
   "codemirror_mode": {
    "name": "ipython",
    "version": 3
   },
   "file_extension": ".py",
   "mimetype": "text/x-python",
   "name": "python",
   "nbconvert_exporter": "python",
   "pygments_lexer": "ipython3",
   "version": "3.9.7"
  },
  "toc": {
   "base_numbering": 1,
   "nav_menu": {},
   "number_sections": true,
   "sideBar": true,
   "skip_h1_title": false,
   "title_cell": "Table of Contents",
   "title_sidebar": "Contents",
   "toc_cell": false,
   "toc_position": {},
   "toc_section_display": true,
   "toc_window_display": false
  },
  "varInspector": {
   "cols": {
    "lenName": 16,
    "lenType": 16,
    "lenVar": 40
   },
   "kernels_config": {
    "python": {
     "delete_cmd_postfix": "",
     "delete_cmd_prefix": "del ",
     "library": "var_list.py",
     "varRefreshCmd": "print(var_dic_list())"
    },
    "r": {
     "delete_cmd_postfix": ") ",
     "delete_cmd_prefix": "rm(",
     "library": "var_list.r",
     "varRefreshCmd": "cat(var_dic_list()) "
    }
   },
   "types_to_exclude": [
    "module",
    "function",
    "builtin_function_or_method",
    "instance",
    "_Feature"
   ],
   "window_display": false
  }
 },
 "nbformat": 4,
 "nbformat_minor": 5
}
