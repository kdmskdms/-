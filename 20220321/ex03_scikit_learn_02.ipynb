{
 "cells": [
  {
   "cell_type": "code",
   "execution_count": null,
   "id": "1123423b",
   "metadata": {
    "ExecuteTime": {
     "end_time": "2022-03-21T06:44:16.148666Z",
     "start_time": "2022-03-21T06:44:16.127332Z"
    }
   },
   "outputs": [],
   "source": [
    "from sklearn.datasets import load_iris\n",
    "\n",
    "iris_data = load_iris()\n",
    "print(\"iris_data :\",type(iris_data))\n",
    "# <class 'sklearn.utils.Bunch'>\n",
    "#  ㄴ dictionary 와 비슷한 구조  <- key:value 로 이루어짐 "
   ]
  },
  {
   "cell_type": "code",
   "execution_count": null,
   "id": "01b1093f",
   "metadata": {
    "ExecuteTime": {
     "end_time": "2022-03-21T06:44:38.621265Z",
     "start_time": "2022-03-21T06:44:38.615271Z"
    }
   },
   "outputs": [],
   "source": [
    "'''\n",
    "data : feature 의 dataset\n",
    "target : 분류할 때 Label 값, 회귀할 때는 숫자 결괏값 데이터세트\n",
    "target_names : 개별 Label 이름\n",
    "DESCR : description - dataset 과 feature 에 대한 설명\n",
    "feature_names : feature 이름\n",
    "'''\n",
    "# key 값 가져오기\n",
    "keys = iris_data.keys()\n",
    "print(\"iris dataset keys :\\n\", keys)"
   ]
  },
  {
   "cell_type": "code",
   "execution_count": null,
   "id": "7eac4db9",
   "metadata": {
    "ExecuteTime": {
     "end_time": "2022-03-21T06:46:36.118078Z",
     "start_time": "2022-03-21T06:46:36.103086Z"
    }
   },
   "outputs": [],
   "source": [
    "print(\"feature_names 의 type :\",type(iris_data.feature_names))\n",
    "# AttributeError: 'list' object has no attribute 'shape'\n",
    "print(\"target_names의 shape(구조):\",len(iris_data.feature_names))\n",
    "print(\"iris_data.feature_names :\\n\",iris_data.feature_names)"
   ]
  },
  {
   "cell_type": "code",
   "execution_count": null,
   "id": "270ef268",
   "metadata": {
    "ExecuteTime": {
     "end_time": "2022-03-21T06:41:48.364927Z",
     "start_time": "2022-03-21T06:41:48.359930Z"
    }
   },
   "outputs": [],
   "source": [
    "print(\"target_names의 type :\",type(iris_data.target_names))\n",
    "print(\"target_name의 shape :\",iris_data.target_names.shape)\n",
    "print(\"iris_data.target_names :\\n\",iris_data.target_names)"
   ]
  },
  {
   "cell_type": "code",
   "execution_count": null,
   "id": "81d5f3a8",
   "metadata": {
    "ExecuteTime": {
     "end_time": "2022-03-21T06:49:41.629398Z",
     "start_time": "2022-03-21T06:49:41.614416Z"
    }
   },
   "outputs": [],
   "source": [
    "print(\"data 의 type :\",type(iris_data.data))\n",
    "print(\"data 의 shape:\",iris_data.data.shape)\n",
    "print(\"iris_data.data :\\n\",iris_data.data)"
   ]
  },
  {
   "cell_type": "code",
   "execution_count": null,
   "id": "cb0d627f",
   "metadata": {
    "ExecuteTime": {
     "end_time": "2022-03-21T06:43:42.416252Z",
     "start_time": "2022-03-21T06:43:42.407268Z"
    }
   },
   "outputs": [],
   "source": [
    "print(\"target 의 type :\",type(iris_data.target))\n",
    "print(\"target 의 shape:\",iris_data.target.shape) \n",
    "print(\"iris_data.target :\\n\",iris_data.target)"
   ]
  },
  {
   "cell_type": "code",
   "execution_count": null,
   "id": "8b40b7de",
   "metadata": {},
   "outputs": [],
   "source": []
  },
  {
   "cell_type": "code",
   "execution_count": null,
   "id": "cf29eb0e",
   "metadata": {},
   "outputs": [],
   "source": []
  },
  {
   "cell_type": "code",
   "execution_count": null,
   "id": "dccc7afd",
   "metadata": {},
   "outputs": [],
   "source": []
  }
 ],
 "metadata": {
  "hide_input": false,
  "kernelspec": {
   "display_name": "Python 3 (ipykernel)",
   "language": "python",
   "name": "python3"
  },
  "language_info": {
   "codemirror_mode": {
    "name": "ipython",
    "version": 3
   },
   "file_extension": ".py",
   "mimetype": "text/x-python",
   "name": "python",
   "nbconvert_exporter": "python",
   "pygments_lexer": "ipython3",
   "version": "3.9.7"
  },
  "toc": {
   "base_numbering": 1,
   "nav_menu": {},
   "number_sections": true,
   "sideBar": true,
   "skip_h1_title": false,
   "title_cell": "Table of Contents",
   "title_sidebar": "Contents",
   "toc_cell": false,
   "toc_position": {},
   "toc_section_display": true,
   "toc_window_display": false
  },
  "varInspector": {
   "cols": {
    "lenName": 16,
    "lenType": 16,
    "lenVar": 40
   },
   "kernels_config": {
    "python": {
     "delete_cmd_postfix": "",
     "delete_cmd_prefix": "del ",
     "library": "var_list.py",
     "varRefreshCmd": "print(var_dic_list())"
    },
    "r": {
     "delete_cmd_postfix": ") ",
     "delete_cmd_prefix": "rm(",
     "library": "var_list.r",
     "varRefreshCmd": "cat(var_dic_list()) "
    }
   },
   "types_to_exclude": [
    "module",
    "function",
    "builtin_function_or_method",
    "instance",
    "_Feature"
   ],
   "window_display": false
  }
 },
 "nbformat": 4,
 "nbformat_minor": 5
}
