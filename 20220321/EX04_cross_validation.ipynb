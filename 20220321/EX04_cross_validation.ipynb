{
 "cells": [
  {
   "cell_type": "markdown",
   "id": "d16c70d4",
   "metadata": {},
   "source": [
    "### 교차 검증 (Cross Validation)\n",
    "* 1) K fold "
   ]
  },
  {
   "cell_type": "code",
   "execution_count": null,
   "id": "49271a84",
   "metadata": {
    "ExecuteTime": {
     "end_time": "2022-03-21T07:40:59.098391Z",
     "start_time": "2022-03-21T07:40:58.472810Z"
    }
   },
   "outputs": [],
   "source": [
    "import numpy as np\n",
    "from sklearn.tree import DecisionTreeClassifier\n",
    "from sklearn.metrics import accuracy_score\n",
    "from sklearn.datasets import load_iris\n",
    "from sklearn.model_selection import train_test_split\n",
    "from sklearn.model_selection import KFold"
   ]
  },
  {
   "cell_type": "code",
   "execution_count": null,
   "id": "fd659a6f",
   "metadata": {
    "ExecuteTime": {
     "end_time": "2022-03-21T07:45:06.851556Z",
     "start_time": "2022-03-21T07:45:06.843571Z"
    }
   },
   "outputs": [],
   "source": [
    "iris     = load_iris()\n",
    "features = iris.data\n",
    "label    = iris.target\n",
    "dt_clf   = DecisionTreeClassifier(random_state = 156)"
   ]
  },
  {
   "cell_type": "code",
   "execution_count": null,
   "id": "d0fe4581",
   "metadata": {
    "ExecuteTime": {
     "end_time": "2022-03-21T07:45:08.203969Z",
     "start_time": "2022-03-21T07:45:08.195973Z"
    }
   },
   "outputs": [],
   "source": [
    "# 5 개의 fold set 으로 분리하는 KFold 객체 생성하기\n",
    "kfold = KFold(n_splits=5)\n",
    "\n",
    "# fold set 별 정확도를 담는 리스트 객체 생성하기\n",
    "cv_accuracy = []\n",
    "\n",
    "print(\"iris dataset 의 크기 :\",features.shape[0])"
   ]
  },
  {
   "cell_type": "code",
   "execution_count": null,
   "id": "428427aa",
   "metadata": {
    "ExecuteTime": {
     "end_time": "2022-03-21T08:09:19.835092Z",
     "start_time": "2022-03-21T08:09:19.818101Z"
    }
   },
   "outputs": [],
   "source": [
    "# KFold 객체의 split() 메소드를 호출해서\n",
    "#               ㄴ features 를 argument 로 넣어줌\n",
    "#               ㄴ 학습용데이터인덱스, 테스트용데이터인덱스 를 generator 로 반환함\n",
    "#               ㄴ 이 generator 에서 unpaking 해서 \n",
    "#               ㄴ 학습용데이터인덱스, 테스트용데이터인덱스 를 추출함\n",
    "# fold 별로 학습용, 테스트(검증)용 데이터의\n",
    "# row index 를 array로 반환하기\n",
    "#  ㄴ 학습용데이터인덱스, 테스트용데이터인덱스\n",
    "\n",
    "n_iter = 0\n",
    "\n",
    "for train_index, test_index in kfold.split(features):\n",
    "    n_iter += 1\n",
    "    \n",
    "    X_train, X_test = features[train_index], features[test_index]\n",
    "    y_train, y_test = label[train_index], label[test_index]\n",
    "    \n",
    "    # 학습 및 예측하기\n",
    "    dt_clf.fit(X_train, y_train)\n",
    "    pred = dt_clf.predict(X_test)\n",
    "    \n",
    "    # 정확도(accuracy) 측정하기\n",
    "    accuracy = np.round(accuracy_score(y_test, pred), 4)\n",
    "    train_size = X_train.shape[0]\n",
    "    test_size  = X_test.shape[0]\n",
    "    \n",
    "    print(f\"{n_iter} 번째 교차검증 정확도 : {accuracy}\\n\"\n",
    "          f\"학습데이터 크기 : {train_size}\\n\"\n",
    "          f\"검증데이터 크기 : {test_size}\\n\"\n",
    "          f\"{n_iter} 번째 학습데이터세트 인덱스 :\\n{train_index}\\n\"\n",
    "          f\"{n_iter} 번째 검증데이터세트 인덱스 :\\n{test_index}\")\n",
    "    \n",
    "    cv_accuracy.append(accuracy)\n",
    "    \n",
    "print()  \n",
    "print(f\"cv_accuracy :\\n{cv_accuracy}\")\n",
    "print()\n",
    "print(f\"최종 정확도 :\\n{np.mean(cv_accuracy)}\")"
   ]
  },
  {
   "cell_type": "markdown",
   "id": "07704543",
   "metadata": {},
   "source": [
    "* 2) Strarified K fold\n",
    "* 불균형한(imbalanced) 분포도를 가진 label(결정클래스) 데이터집합에 사용하는 방식\n",
    "* 학습데이터세트와 테스트데이터세트가 가지는 label 분포도가 유사하도록 \n",
    "* 테스트데이터를 추출함\n",
    "*  ㄴ 원본데이터와 유사한 label 값의 분포도를 학습데이터세트와 테스트데이터세트에서\n",
    "* 유지시키기 위한 방식\n",
    "* 분류(Classification) 에서 많이 사용하는 교차검증 방식\n",
    "* 회귀(Regression) 에서는 Stratified K fold 방식을 지원하지 않음"
   ]
  },
  {
   "cell_type": "code",
   "execution_count": null,
   "id": "a2d835f0",
   "metadata": {
    "ExecuteTime": {
     "end_time": "2022-03-21T08:19:34.393740Z",
     "start_time": "2022-03-21T08:19:34.043257Z"
    }
   },
   "outputs": [],
   "source": [
    "import pandas as pd\n",
    "\n",
    "iris = load_iris()\n",
    "\n",
    "iris_df = pd.DataFrame(data=iris.data, columns=iris.feature_names)\n",
    "iris_df[\"label\"] = iris.target\n",
    "iris_df.head()"
   ]
  },
  {
   "cell_type": "code",
   "execution_count": null,
   "id": "8e8bfeff",
   "metadata": {
    "ExecuteTime": {
     "end_time": "2022-03-21T08:20:12.857846Z",
     "start_time": "2022-03-21T08:20:12.841856Z"
    }
   },
   "outputs": [],
   "source": [
    "iris_df[\"label\"].value_counts()"
   ]
  },
  {
   "cell_type": "code",
   "execution_count": null,
   "id": "17aabb65",
   "metadata": {},
   "outputs": [],
   "source": []
  },
  {
   "cell_type": "code",
   "execution_count": null,
   "id": "86d9b48f",
   "metadata": {},
   "outputs": [],
   "source": []
  },
  {
   "cell_type": "code",
   "execution_count": null,
   "id": "c0edd504",
   "metadata": {},
   "outputs": [],
   "source": []
  }
 ],
 "metadata": {
  "hide_input": false,
  "kernelspec": {
   "display_name": "Python 3 (ipykernel)",
   "language": "python",
   "name": "python3"
  },
  "language_info": {
   "codemirror_mode": {
    "name": "ipython",
    "version": 3
   },
   "file_extension": ".py",
   "mimetype": "text/x-python",
   "name": "python",
   "nbconvert_exporter": "python",
   "pygments_lexer": "ipython3",
   "version": "3.9.7"
  },
  "toc": {
   "base_numbering": 1,
   "nav_menu": {},
   "number_sections": true,
   "sideBar": true,
   "skip_h1_title": false,
   "title_cell": "Table of Contents",
   "title_sidebar": "Contents",
   "toc_cell": false,
   "toc_position": {},
   "toc_section_display": true,
   "toc_window_display": false
  },
  "varInspector": {
   "cols": {
    "lenName": 16,
    "lenType": 16,
    "lenVar": 40
   },
   "kernels_config": {
    "python": {
     "delete_cmd_postfix": "",
     "delete_cmd_prefix": "del ",
     "library": "var_list.py",
     "varRefreshCmd": "print(var_dic_list())"
    },
    "r": {
     "delete_cmd_postfix": ") ",
     "delete_cmd_prefix": "rm(",
     "library": "var_list.r",
     "varRefreshCmd": "cat(var_dic_list()) "
    }
   },
   "types_to_exclude": [
    "module",
    "function",
    "builtin_function_or_method",
    "instance",
    "_Feature"
   ],
   "window_display": false
  }
 },
 "nbformat": 4,
 "nbformat_minor": 5
}
