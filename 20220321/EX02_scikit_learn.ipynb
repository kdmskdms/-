{
 "cells": [
  {
   "cell_type": "markdown",
   "id": "610cfe18",
   "metadata": {},
   "source": [
    "### sklearn으로 Iris data 품종 예측하기"
   ]
  },
  {
   "cell_type": "code",
   "execution_count": 14,
   "id": "7c5a0374",
   "metadata": {},
   "outputs": [
    {
     "data": {
      "text/plain": [
       "'0.24.2'"
      ]
     },
     "execution_count": 14,
     "metadata": {},
     "output_type": "execute_result"
    }
   ],
   "source": [
    "import sklearn\n",
    "sklearn.__version__"
   ]
  },
  {
   "cell_type": "code",
   "execution_count": 15,
   "id": "89c2c3e1",
   "metadata": {},
   "outputs": [
    {
     "ename": "SyntaxError",
     "evalue": "EOF while scanning triple-quoted string literal (Temp/ipykernel_27328/1263983156.py, line 16)",
     "output_type": "error",
     "traceback": [
      "\u001b[1;36m  File \u001b[1;32m\"C:\\Users\\KIMDON~1\\AppData\\Local\\Temp/ipykernel_27328/1263983156.py\"\u001b[1;36m, line \u001b[1;32m16\u001b[0m\n\u001b[1;33m    ML 모델 성능을 평가함\u001b[0m\n\u001b[1;37m                 \n^\u001b[0m\n\u001b[1;31mSyntaxError\u001b[0m\u001b[1;31m:\u001b[0m EOF while scanning triple-quoted string literal\n"
     ]
    }
   ],
   "source": [
    "'''\n",
    "붓꽃 데이터 분류 예측 프로세스\n",
    "\n",
    "1) 데이터 세트 분리\n",
    "    ㄴ 데이터를 학습 데이터와 테스트 데이터로 분리함\n",
    "    \n",
    "2) 모델 학습(학습수행 : fit())\n",
    "    ㄴ 학습 데이터를 기반으로 ML(Machine Learning) 알고리즘을 적용해서\n",
    "       모델을 학습 시킴\n",
    "       \n",
    "3) 예측 수행(predict())\n",
    "    ㄴ 학습된 ML 모델을 이용해서 테스트 데이터의 분류(: 붓꽃 종류)를 예측함\n",
    "    \n",
    "4) 평가\n",
    "    ㄴ 예측된 결괏값과 테스트 데이터의 실제 결괏값을 비교해서\n",
    "       ML 모델 성능을 평가함"
   ]
  },
  {
   "cell_type": "code",
   "execution_count": 27,
   "id": "3761e6e0",
   "metadata": {},
   "outputs": [],
   "source": [
    "'''\n",
    "loda_iris()\n",
    " ㄴ iris dataset을 로딩하는 함수\n",
    "DecisionTreeClassifier\n",
    "ㄴ 결정나무 알고리즘을 구현한\n",
    "   sklearn 에 있는 클래스\n",
    "train_test_split()\n",
    "ㄴ  학습데이터하고 테스트데이터를 분리하는 함수\n",
    "'''\n",
    "# 모듈 로딩하기\n",
    "from sklearn.datasets import load_iris\n",
    "from sklearn.tree import DecisionTreeClassifier\n",
    "from sklearn.model_selection import train_test_split"
   ]
  },
  {
   "cell_type": "code",
   "execution_count": 28,
   "id": "51c2a0e4",
   "metadata": {},
   "outputs": [
    {
     "data": {
      "text/plain": [
       "'\\nfeature = 속성 = 변수\\n붓꽃 데이터(세트) feature\\n ㄴ Sepal length, Sepal width, Petal length, Petal width\\n \\n feature( > 속성) : target 값을 제외한 나머지 속성들\\n target 값(결정값) : 지도학습시 데이터의 학습을 위해 주어지는 정답 데이터\\n                        ㄴ Supervies Learning : 정답이 있는 데이터를 활용해서 학습시키는 것\\n                           입력값(x data)이 주어지면 입력값에 대한 Label(y data)를 주어서 학습시키는 것\\n                           지도학습 : 분류(Classification), 회귀(Regression)\\n                           분류 - 데이터 세트를 정해진 Category(Label)에 따라 분류함\\n                           ㄴ feature을 Label이나 Class로 지칭함\\n                           회귀 - feature(예측 변수 - predictor variable)를 기준으로\\n                                  ㄴ데이터의 특징                  연속된 값을 예측함\\n'"
      ]
     },
     "execution_count": 28,
     "metadata": {},
     "output_type": "execute_result"
    }
   ],
   "source": [
    "'''\n",
    "feature = 속성 = 변수\n",
    "붓꽃 데이터(세트) feature\n",
    " ㄴ Sepal length, Sepal width, Petal length, Petal width\n",
    " \n",
    " feature( > 속성) : target 값을 제외한 나머지 속성들\n",
    " target 값(결정값) : 지도학습시 데이터의 학습을 위해 주어지는 정답 데이터\n",
    "                        ㄴ Supervies Learning : 정답이 있는 데이터를 활용해서 학습시키는 것\n",
    "                           입력값(x data)이 주어지면 입력값에 대한 Label(y data)를 주어서 학습시키는 것\n",
    "                           지도학습 : 분류(Classification), 회귀(Regression)\n",
    "                           분류 - 데이터 세트를 정해진 Category(Label)에 따라 분류함\n",
    "                           ㄴ feature을 Label이나 Class로 지칭함\n",
    "                           회귀 - feature(예측 변수 - predictor variable)를 기준으로\n",
    "                                  ㄴ데이터의 특징                  연속된 값을 예측함\n",
    "'''"
   ]
  },
  {
   "cell_type": "code",
   "execution_count": 39,
   "id": "84904e0e",
   "metadata": {},
   "outputs": [
    {
     "name": "stdout",
     "output_type": "stream",
     "text": [
      "iris target 값 :\n",
      " [0 0 0 0 0 0 0 0 0 0 0 0 0 0 0 0 0 0 0 0 0 0 0 0 0 0 0 0 0 0 0 0 0 0 0 0 0\n",
      " 0 0 0 0 0 0 0 0 0 0 0 0 0 1 1 1 1 1 1 1 1 1 1 1 1 1 1 1 1 1 1 1 1 1 1 1 1\n",
      " 1 1 1 1 1 1 1 1 1 1 1 1 1 1 1 1 1 1 1 1 1 1 1 1 1 1 2 2 2 2 2 2 2 2 2 2 2\n",
      " 2 2 2 2 2 2 2 2 2 2 2 2 2 2 2 2 2 2 2 2 2 2 2 2 2 2 2 2 2 2 2 2 2 2 2 2 2\n",
      " 2 2]\n",
      "iris target 명 :\n",
      " ['setosa' 'versicolor' 'virginica']\n"
     ]
    }
   ],
   "source": [
    "import pandas as pd\n",
    "\n",
    "# 붓꽃 데이터세트 로딩하기\n",
    "iris = load_iris()\n",
    "\n",
    "# iris.data <-- iris 데이터세트에서 feature 로만 된 data\n",
    "iris_data = iris.data\n",
    "\n",
    "# iris.target <-- iris 데이터세트에서 결정값(Label) 으로만 된 data\n",
    "iris_label = iris.target\n",
    "print(\"iris target 값 :\\n\",iris_label)\n",
    "\n",
    "# iris target 명 : iris 품종 - setosa, versicolor, virginica\n",
    "print(\"iris target 명 :\\n\",iris.target_names)"
   ]
  },
  {
   "cell_type": "code",
   "execution_count": 40,
   "id": "dd487a06",
   "metadata": {},
   "outputs": [
    {
     "data": {
      "text/html": [
       "<div>\n",
       "<style scoped>\n",
       "    .dataframe tbody tr th:only-of-type {\n",
       "        vertical-align: middle;\n",
       "    }\n",
       "\n",
       "    .dataframe tbody tr th {\n",
       "        vertical-align: top;\n",
       "    }\n",
       "\n",
       "    .dataframe thead th {\n",
       "        text-align: right;\n",
       "    }\n",
       "</style>\n",
       "<table border=\"1\" class=\"dataframe\">\n",
       "  <thead>\n",
       "    <tr style=\"text-align: right;\">\n",
       "      <th></th>\n",
       "      <th>sepal length (cm)</th>\n",
       "      <th>sepal width (cm)</th>\n",
       "      <th>petal length (cm)</th>\n",
       "      <th>petal width (cm)</th>\n",
       "    </tr>\n",
       "  </thead>\n",
       "  <tbody>\n",
       "    <tr>\n",
       "      <th>0</th>\n",
       "      <td>5.1</td>\n",
       "      <td>3.5</td>\n",
       "      <td>1.4</td>\n",
       "      <td>0.2</td>\n",
       "    </tr>\n",
       "    <tr>\n",
       "      <th>1</th>\n",
       "      <td>4.9</td>\n",
       "      <td>3.0</td>\n",
       "      <td>1.4</td>\n",
       "      <td>0.2</td>\n",
       "    </tr>\n",
       "    <tr>\n",
       "      <th>2</th>\n",
       "      <td>4.7</td>\n",
       "      <td>3.2</td>\n",
       "      <td>1.3</td>\n",
       "      <td>0.2</td>\n",
       "    </tr>\n",
       "    <tr>\n",
       "      <th>3</th>\n",
       "      <td>4.6</td>\n",
       "      <td>3.1</td>\n",
       "      <td>1.5</td>\n",
       "      <td>0.2</td>\n",
       "    </tr>\n",
       "    <tr>\n",
       "      <th>4</th>\n",
       "      <td>5.0</td>\n",
       "      <td>3.6</td>\n",
       "      <td>1.4</td>\n",
       "      <td>0.2</td>\n",
       "    </tr>\n",
       "  </tbody>\n",
       "</table>\n",
       "</div>"
      ],
      "text/plain": [
       "   sepal length (cm)  sepal width (cm)  petal length (cm)  petal width (cm)\n",
       "0                5.1               3.5                1.4               0.2\n",
       "1                4.9               3.0                1.4               0.2\n",
       "2                4.7               3.2                1.3               0.2\n",
       "3                4.6               3.1                1.5               0.2\n",
       "4                5.0               3.6                1.4               0.2"
      ]
     },
     "execution_count": 40,
     "metadata": {},
     "output_type": "execute_result"
    }
   ],
   "source": [
    "# iris dataset 를 DataFrame 으로 변환하기\n",
    "iris_df = pd.DataFrame(data=iris_data, columns=iris.feature_names)\n",
    "iris_df.head()"
   ]
  },
  {
   "cell_type": "code",
   "execution_count": 46,
   "id": "8751eb3f",
   "metadata": {},
   "outputs": [
    {
     "ename": "AttributeError",
     "evalue": "df",
     "output_type": "error",
     "traceback": [
      "\u001b[1;31m---------------------------------------------------------------------------\u001b[0m",
      "\u001b[1;31mKeyError\u001b[0m                                  Traceback (most recent call last)",
      "\u001b[1;32m~\\anaconda3\\lib\\site-packages\\sklearn\\utils\\__init__.py\u001b[0m in \u001b[0;36m__getattr__\u001b[1;34m(self, key)\u001b[0m\n\u001b[0;32m     93\u001b[0m         \u001b[1;32mtry\u001b[0m\u001b[1;33m:\u001b[0m\u001b[1;33m\u001b[0m\u001b[1;33m\u001b[0m\u001b[0m\n\u001b[1;32m---> 94\u001b[1;33m             \u001b[1;32mreturn\u001b[0m \u001b[0mself\u001b[0m\u001b[1;33m[\u001b[0m\u001b[0mkey\u001b[0m\u001b[1;33m]\u001b[0m\u001b[1;33m\u001b[0m\u001b[1;33m\u001b[0m\u001b[0m\n\u001b[0m\u001b[0;32m     95\u001b[0m         \u001b[1;32mexcept\u001b[0m \u001b[0mKeyError\u001b[0m\u001b[1;33m:\u001b[0m\u001b[1;33m\u001b[0m\u001b[1;33m\u001b[0m\u001b[0m\n",
      "\u001b[1;31mKeyError\u001b[0m: 'df'",
      "\nDuring handling of the above exception, another exception occurred:\n",
      "\u001b[1;31mAttributeError\u001b[0m                            Traceback (most recent call last)",
      "\u001b[1;32mC:\\Users\\KIMDON~1\\AppData\\Local\\Temp/ipykernel_27328/1441671012.py\u001b[0m in \u001b[0;36m<module>\u001b[1;34m\u001b[0m\n\u001b[0;32m      1\u001b[0m \u001b[1;31m#iris_df 데이터프레임에 label 컬럼 추가하기\u001b[0m\u001b[1;33m\u001b[0m\u001b[1;33m\u001b[0m\u001b[0m\n\u001b[0;32m      2\u001b[0m \u001b[1;31m# 값은 iris.target(iris_label)으로 함\u001b[0m\u001b[1;33m\u001b[0m\u001b[1;33m\u001b[0m\u001b[0m\n\u001b[1;32m----> 3\u001b[1;33m \u001b[0miris\u001b[0m\u001b[1;33m.\u001b[0m\u001b[0mdf\u001b[0m\u001b[1;33m[\u001b[0m\u001b[1;34m\"label\"\u001b[0m\u001b[1;33m]\u001b[0m \u001b[1;33m=\u001b[0m \u001b[0miris_label\u001b[0m\u001b[1;33m\u001b[0m\u001b[1;33m\u001b[0m\u001b[0m\n\u001b[0m\u001b[0;32m      4\u001b[0m \u001b[0miris_df\u001b[0m\u001b[1;33m.\u001b[0m\u001b[0mhead\u001b[0m\u001b[1;33m(\u001b[0m\u001b[1;33m)\u001b[0m\u001b[1;33m\u001b[0m\u001b[1;33m\u001b[0m\u001b[0m\n",
      "\u001b[1;32m~\\anaconda3\\lib\\site-packages\\sklearn\\utils\\__init__.py\u001b[0m in \u001b[0;36m__getattr__\u001b[1;34m(self, key)\u001b[0m\n\u001b[0;32m     94\u001b[0m             \u001b[1;32mreturn\u001b[0m \u001b[0mself\u001b[0m\u001b[1;33m[\u001b[0m\u001b[0mkey\u001b[0m\u001b[1;33m]\u001b[0m\u001b[1;33m\u001b[0m\u001b[1;33m\u001b[0m\u001b[0m\n\u001b[0;32m     95\u001b[0m         \u001b[1;32mexcept\u001b[0m \u001b[0mKeyError\u001b[0m\u001b[1;33m:\u001b[0m\u001b[1;33m\u001b[0m\u001b[1;33m\u001b[0m\u001b[0m\n\u001b[1;32m---> 96\u001b[1;33m             \u001b[1;32mraise\u001b[0m \u001b[0mAttributeError\u001b[0m\u001b[1;33m(\u001b[0m\u001b[0mkey\u001b[0m\u001b[1;33m)\u001b[0m\u001b[1;33m\u001b[0m\u001b[1;33m\u001b[0m\u001b[0m\n\u001b[0m\u001b[0;32m     97\u001b[0m \u001b[1;33m\u001b[0m\u001b[0m\n\u001b[0;32m     98\u001b[0m     \u001b[1;32mdef\u001b[0m \u001b[0m__setstate__\u001b[0m\u001b[1;33m(\u001b[0m\u001b[0mself\u001b[0m\u001b[1;33m,\u001b[0m \u001b[0mstate\u001b[0m\u001b[1;33m)\u001b[0m\u001b[1;33m:\u001b[0m\u001b[1;33m\u001b[0m\u001b[1;33m\u001b[0m\u001b[0m\n",
      "\u001b[1;31mAttributeError\u001b[0m: df"
     ]
    }
   ],
   "source": [
    "#iris_df 데이터프레임에 label 컬럼 추가하기\n",
    "# 값은 iris.target(iris_label)으로 함\n",
    "iris.df[\"label\"] = iris_label\n",
    "iris_df.head()"
   ]
  },
  {
   "cell_type": "markdown",
   "id": "0b135182",
   "metadata": {},
   "source": [
    "### 학습데이터와 테스트(검증) 데이터 분리하기"
   ]
  },
  {
   "cell_type": "code",
   "execution_count": 42,
   "id": "34afde2d",
   "metadata": {},
   "outputs": [],
   "source": [
    "'''\n",
    "test_size = 0.2 테스트데이터 20%, \n",
    "X_train : 학습용 feature set\n",
    "X_test : 테스트용 feature set\n",
    "y_train : 학습용 target set(결정값)\n",
    "y_test : 테스트용 target set(결정값)\n",
    "random_state : DecisionTree의 내부 알고리즘 구동시\n",
    "               random하게 feature들과 데이터 건수를\n",
    "               선택하기 위해 지정하는 값\n",
    "               ㄴ 고정값을 할당하면 데이터를 여러번 추출하더라도\n",
    "                  학습데이터와 테스트 데이터를 동일하게 추출하도록 함\n",
    "'''\n",
    "#train_test_split()\n",
    "X_train, X_test, y_train, y_test = \\\n",
    "train_test_split(iris_data, iris_label, test_size=0.2, random_state=11)"
   ]
  },
  {
   "cell_type": "markdown",
   "id": "88e535f0",
   "metadata": {},
   "source": [
    "### 학습용 dataset 으로 학습하기"
   ]
  },
  {
   "cell_type": "code",
   "execution_count": 43,
   "id": "e04f87fc",
   "metadata": {},
   "outputs": [
    {
     "data": {
      "text/plain": [
       "DecisionTreeClassifier(random_state=11)"
      ]
     },
     "execution_count": 43,
     "metadata": {},
     "output_type": "execute_result"
    }
   ],
   "source": [
    "# 분류\n",
    "# DecisionTreeClassifier 객체 생성하기\n",
    "dt_clf = DecisionTreeClassifier(random_state=11)\n",
    "# 학습 수행하기 - fit() 메소드를 호출함\n",
    "dt_clf.fit(X_train, y_train)"
   ]
  },
  {
   "cell_type": "markdown",
   "id": "4d608ef9",
   "metadata": {},
   "source": [
    "### 테스트데이터세트로 예측 수행하기"
   ]
  },
  {
   "cell_type": "code",
   "execution_count": 44,
   "id": "2571192a",
   "metadata": {},
   "outputs": [
    {
     "data": {
      "text/plain": [
       "array([2, 2, 1, 1, 2, 0, 1, 0, 0, 1, 1, 1, 1, 2, 2, 0, 2, 1, 2, 2, 1, 0,\n",
       "       0, 1, 0, 0, 2, 1, 0, 1])"
      ]
     },
     "execution_count": 44,
     "metadata": {},
     "output_type": "execute_result"
    }
   ],
   "source": [
    "# 학습이 완료된 DecisionTreeClassifier 객체에서\n",
    "# 테스트데이터세트로 예측을 수행함\n",
    "pred = dt_clf.predict(X_test)\n",
    "pred"
   ]
  },
  {
   "cell_type": "markdown",
   "id": "7ce1e1f3",
   "metadata": {},
   "source": [
    "### 예측 정확도 평가하기  - sklearn의 accuracy_score() 함수 호출"
   ]
  },
  {
   "cell_type": "code",
   "execution_count": 45,
   "id": "bac548ce",
   "metadata": {},
   "outputs": [
    {
     "name": "stdout",
     "output_type": "stream",
     "text": [
      "예측 정확도 :0.9333\n"
     ]
    }
   ],
   "source": [
    "from sklearn.metrics import accuracy_score\n",
    "print(f\"예측 정확도 :{accuracy_score(y_test, pred):.4f}\")"
   ]
  },
  {
   "cell_type": "code",
   "execution_count": null,
   "id": "4569a6c1",
   "metadata": {},
   "outputs": [],
   "source": []
  },
  {
   "cell_type": "code",
   "execution_count": null,
   "id": "e3e3bb41",
   "metadata": {},
   "outputs": [],
   "source": []
  },
  {
   "cell_type": "code",
   "execution_count": null,
   "id": "528ac447",
   "metadata": {},
   "outputs": [],
   "source": []
  },
  {
   "cell_type": "code",
   "execution_count": null,
   "id": "d891fef0",
   "metadata": {},
   "outputs": [],
   "source": []
  }
 ],
 "metadata": {
  "kernelspec": {
   "display_name": "Python 3 (ipykernel)",
   "language": "python",
   "name": "python3"
  },
  "language_info": {
   "codemirror_mode": {
    "name": "ipython",
    "version": 3
   },
   "file_extension": ".py",
   "mimetype": "text/x-python",
   "name": "python",
   "nbconvert_exporter": "python",
   "pygments_lexer": "ipython3",
   "version": "3.9.7"
  }
 },
 "nbformat": 4,
 "nbformat_minor": 5
}
