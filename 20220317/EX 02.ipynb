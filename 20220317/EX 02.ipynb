{
 "cells": [
  {
   "cell_type": "code",
   "execution_count": 5,
   "id": "49372ee1",
   "metadata": {},
   "outputs": [
    {
     "name": "stdout",
     "output_type": "stream",
     "text": [
      "첫 번째 숫자를 입력하세요 :2\n",
      "두 번째 숫자를 입력하세요 :0\n",
      "숫자는 0으로 나눌 수 없습니다\n",
      "프로그램 종료\n"
     ]
    }
   ],
   "source": [
    "'''\n",
    "예외처리 : Exception Handing\n",
    "            프로그램의 비정상적 종료를 방지해서 정상적으로 종료하도록 함\n",
    "\n",
    "에러\n",
    "1) 예외 : 소스를 수정해서 고칠 수 있는 비교적 가벼운 에러\n",
    "2) 에러 : 소스를 수정해서 고칠 수 없는 에러 - 하드웨어 문제\n",
    "\n",
    "예외처리 형식)\n",
    "    try:\n",
    "        예외가 발생할 가능성이 있는 code...\n",
    "    except [발생한 예외클래스[as 참조변수(발생한 예외클래스의 객체의 주소를 저장하는 변수)]]:\n",
    "        예외처리하는 부분...\n",
    "'''\n",
    "num1 = int(input(\"첫 번째 숫자를 입력하세요 :\"))\n",
    "num2 = int(input(\"두 번째 숫자를 입력하세요 :\"))\n",
    "\n",
    "try:\n",
    "    #ZeroDivisionError: division by zero\n",
    "    result = num1 / num2\n",
    "    print(\"result:\", result)\n",
    "except ZeroDivisionError as zde:\n",
    "    print(\"숫자는 0으로 나눌 수 없습니다\")\n",
    "    print(\"Error Message:\",zde)\n",
    "\n",
    "print(\"프로그램 종료\")"
   ]
  },
  {
   "cell_type": "code",
   "execution_count": 6,
   "id": "0d43108d",
   "metadata": {},
   "outputs": [
    {
     "name": "stdout",
     "output_type": "stream",
     "text": [
      "첫 번째 숫자를 입력하세요 :2\n",
      "두 번째 숫자를 입력하세요 :0\n",
      "숫자는 0으로 나눌 수 없습니다\n",
      "Error Message: division by zero\n",
      "프로그램 종료\n"
     ]
    }
   ],
   "source": [
    "num1 = int(input(\"첫 번째 숫자를 입력하세요 :\"))\n",
    "num2 = int(input(\"두 번째 숫자를 입력하세요 :\"))\n",
    "\n",
    "try:\n",
    "    #ZeroDivisionError: division by zero\n",
    "    result = num1 / num2\n",
    "    print(\"result:\", result)\n",
    "except Exception as e:\n",
    "    print(\"숫자는 0으로 나눌 수 없습니다\")\n",
    "    print(\"Error Message:\",e)\n",
    "\n",
    "print(\"프로그램 종료\")"
   ]
  },
  {
   "cell_type": "code",
   "execution_count": 7,
   "id": "c40a43b4",
   "metadata": {},
   "outputs": [
    {
     "data": {
      "text/plain": [
       "'\\nclass Child2(Parent):\\n    pass\\n'"
      ]
     },
     "execution_count": 7,
     "metadata": {},
     "output_type": "execute_result"
    }
   ],
   "source": [
    "class Parent:\n",
    "    pass\n",
    "class Child1(Parent):\n",
    "    pass\n",
    "'''\n",
    "class Child2(Parent):\n",
    "    pass\n",
    "'''"
   ]
  },
  {
   "cell_type": "code",
   "execution_count": 16,
   "id": "d423e076",
   "metadata": {},
   "outputs": [
    {
     "name": "stdout",
     "output_type": "stream",
     "text": [
      "issubclass(Child1, Parent): True\n",
      "--------------------------------------------------\n",
      "isinstance(p1, Parent) : True\n",
      "isinstance(c1, Child1) : True\n",
      "--------------------------------------------------\n",
      "isinstance(p1, Child1) : False\n",
      "isinstance(c1, Parent) : True\n",
      "--------------------------------------------------\n",
      "isinstance(p1, Parent) : True\n",
      "isinstance(c1, Child1) : True\n"
     ]
    }
   ],
   "source": [
    "p1 = Parent()\n",
    "c1 = Child1()\n",
    "\n",
    "print(\"issubclass(Child1, Parent):\",issubclass(Child1, Parent))\n",
    "print(\"-\"*50)\n",
    "print(\"isinstance(p1, Parent) :\",isinstance(p1, Parent))\n",
    "print(\"isinstance(c1, Child1) :\",isinstance(c1, Child1))\n",
    "print(\"-\"*50)\n",
    "print(\"isinstance(p1, Child1) :\",isinstance(p1, Child1))\n",
    "print(\"isinstance(c1, Parent) :\",isinstance(c1, Parent))\n",
    "print(\"-\"*50)\n",
    "\n",
    "p1 = c1\n",
    "print(\"isinstance(p1, Parent) :\",isinstance(p1, Parent))\n",
    "print(\"isinstance(c1, Child1) :\",isinstance(c1, Child1))"
   ]
  },
  {
   "cell_type": "code",
   "execution_count": 18,
   "id": "74de2ba1",
   "metadata": {},
   "outputs": [
    {
     "name": "stdout",
     "output_type": "stream",
     "text": [
      "list_nums: 5\n",
      "result: 5.0\n"
     ]
    }
   ],
   "source": [
    "list_nums = [1,2,3,4,5]\n",
    "print(\"list_nums:\",list_nums[4])\n",
    "result = 25 / 5\n",
    "print(\"result:\",result)"
   ]
  },
  {
   "cell_type": "code",
   "execution_count": 22,
   "id": "809b133e",
   "metadata": {},
   "outputs": [
    {
     "name": "stdout",
     "output_type": "stream",
     "text": [
      "예외가 발생했습니다: list index out of range\n",
      "프로그램 종료\n"
     ]
    }
   ],
   "source": [
    "'''\n",
    "예외가 발생하는 code - 발생한 예외가 여러 개인 경우 예외별로 처리하기\n",
    "'''\n",
    "try:\n",
    "    list_nums = [1,2,3,4,5]\n",
    "    print(\"list_nums[5]:\",list_nums[5])\n",
    "    result = 25 / 0\n",
    "    print(\"result:\",result)\n",
    "except ZeroDivisionError as e:\n",
    "    print(\"예외가 발생했습니다:\",e)\n",
    "except IndexError as e:\n",
    "    print(\"예외가 발생했습니다:\",e)\n",
    "    \n",
    "print(\"프로그램 종료\")"
   ]
  },
  {
   "cell_type": "code",
   "execution_count": 23,
   "id": "fa34abeb",
   "metadata": {},
   "outputs": [
    {
     "name": "stdout",
     "output_type": "stream",
     "text": [
      "예외가 발생했습니다: list index out of range\n",
      "프로그램 종료\n"
     ]
    }
   ],
   "source": [
    "'''\n",
    "예외가 발생하는 code - 발생한 예외가 여러 개인 경우 예외별로 처리하기\n",
    "'''\n",
    "try:\n",
    "    list_nums = [1,2,3,4,5]\n",
    "    print(\"list_nums[5]:\",list_nums[5])\n",
    "    result = 25 / 0\n",
    "    print(\"result:\",result)\n",
    "except (ZeroDivisionError, IndexError) as e:\n",
    "    print(\"예외가 발생했습니다:\",e)\n",
    "    \n",
    "print(\"프로그램 종료\")"
   ]
  },
  {
   "cell_type": "code",
   "execution_count": 24,
   "id": "8126a806",
   "metadata": {},
   "outputs": [
    {
     "name": "stdout",
     "output_type": "stream",
     "text": [
      "나이를 입력하세요:이십\n",
      "나이는 숫자로만 입력하세요\n",
      "프로그램 종료\n"
     ]
    }
   ],
   "source": [
    "'''\n",
    "숫자를 입력해야 하는데,\n",
    "문자열을 입력해서 예외가 발생하는 경우\n",
    "'''\n",
    "try:\n",
    "    age = int(input(\"나이를 입력하세요:\"))\n",
    "    print(f\"당신은 {age} 살입니다\")\n",
    "\n",
    "except ValueError as e:\n",
    "    print(\"나이는 숫자로만 입력하세요\")\n",
    "    \n",
    "print(\"프로그램 종료\")"
   ]
  },
  {
   "cell_type": "code",
   "execution_count": 28,
   "id": "3c8e2f78",
   "metadata": {},
   "outputs": [
    {
     "name": "stdout",
     "output_type": "stream",
     "text": [
      "나이를 입력하세요:11\n",
      "프로그램 종료\n"
     ]
    }
   ],
   "source": [
    "try:\n",
    "    age = int(input(\"나이를 입력하세요:\"))\n",
    "except ValueError as e:\n",
    "    print(\"나이는 숫자로만 입력하세요\")\n",
    "\n",
    "print(\"프로그램 종료\")"
   ]
  },
  {
   "cell_type": "code",
   "execution_count": 35,
   "id": "ff038c4b",
   "metadata": {},
   "outputs": [
    {
     "name": "stdout",
     "output_type": "stream",
     "text": [
      "인덱스번호와 숫자를 입력하세요 (공백으로 구분):일 십\n",
      "invalid literal for int() with base 10: '일'\n",
      "프로그램 종료\n"
     ]
    }
   ],
   "source": [
    "list_nums = [11, 22, 33]\n",
    "try:\n",
    "    idx, number = map(int, input(\"인덱스번호와 숫자를 입력하세요 (공백으로 구분):\").split())\n",
    "    result = list_nums[idx] / number\n",
    "    print(\"result:\", result)\n",
    "except ZeroDivisionError as e:\n",
    "    print(\"숫자는 0으로 나눌 수 없음 -\", e)\n",
    "except IndexError as e:\n",
    "    print(\"인덱스번호를 정확하게 입력하세요 -\",e)\n",
    "except ValueError as e:\n",
    "    print(e)\n",
    "\n",
    "print(\"프로그램 종료\")"
   ]
  },
  {
   "cell_type": "code",
   "execution_count": 36,
   "id": "d38e2d58",
   "metadata": {},
   "outputs": [
    {
     "name": "stdout",
     "output_type": "stream",
     "text": [
      "인덱스번호와 숫자를 입력하세요 (공백으로 구분):일 십\n",
      "invalid literal for int() with base 10: '일'\n",
      "프로그램 종료\n"
     ]
    }
   ],
   "source": [
    "list_nums = [11, 22, 33]\n",
    "try:\n",
    "    idx, number = map(int, input(\"인덱스번호와 숫자를 입력하세요 (공백으로 구분):\").split())\n",
    "    result = list_nums[idx] / number\n",
    "    print(\"result:\", result)\n",
    "    \n",
    "except ZeroDivisionError as e:\n",
    "    print(\"숫자는 0으로 나눌 수 없음 -\", e)\n",
    "except IndexError as e:\n",
    "    print(\"인덱스번호를 정확하게 입력하세요 -\",e)\n",
    "except Exception as e:\n",
    "    print(e)\n",
    "\n",
    "print(\"프로그램 종료\")"
   ]
  },
  {
   "cell_type": "code",
   "execution_count": 29,
   "id": "b5d4bc77",
   "metadata": {},
   "outputs": [
    {
     "name": "stdout",
     "output_type": "stream",
     "text": [
      "두 개의 정수를 입력하세요 (공백으로 구분):11 22\n",
      "result: 33\n"
     ]
    }
   ],
   "source": [
    "num1, num2 = map(int, input(\"두 개의 정수를 입력하세요 (공백으로 구분):\").split())\n",
    "'''\n",
    "num1 = int(num1)\n",
    "num2 = int(num2)\n",
    "'''\n",
    "result = num1 + num2\n",
    "print(\"result:\", result)"
   ]
  },
  {
   "cell_type": "code",
   "execution_count": 46,
   "id": "8bf6629e",
   "metadata": {},
   "outputs": [
    {
     "name": "stdout",
     "output_type": "stream",
     "text": [
      "정수 입력 :5\n",
      "원의 반지름  : 5\n",
      "원의 둘레    : 31.400000000000002\n",
      "원의 넓이    : 78.5\n",
      "프로그램 종료\n"
     ]
    }
   ],
   "source": [
    "'''\n",
    "277 page\n",
    "'''\n",
    "radius = input(\"정수 입력 :\")\n",
    "\n",
    "# isdigit() 숫자인지 확인하는 메소드\n",
    "if radius.isdigit():\n",
    "    radius = int(radius)\n",
    "    print(\"원의 반지름  :\", radius)\n",
    "    print(\"원의 둘레    :\", 2 * 3.14 * radius)\n",
    "    print(\"원의 넓이    :\", 3.14 * radius * radius)\n",
    "else:\n",
    "    print(\"반지름은 정수로 입력하세요\")\n",
    "print(\"프로그램 종료\")"
   ]
  },
  {
   "cell_type": "code",
   "execution_count": 47,
   "id": "2e1c455a",
   "metadata": {},
   "outputs": [
    {
     "name": "stdout",
     "output_type": "stream",
     "text": [
      "정수 입력 :dh\n",
      "반지름은 정수로 입력하세요\n",
      "프로그램 종료\n"
     ]
    }
   ],
   "source": [
    "'''\n",
    "279 page\n",
    "'''\n",
    "\n",
    "radius = input(\"정수 입력 :\")\n",
    "try:\n",
    "    radius = int(radius)\n",
    "    print(\"원의 반지름  :\", radius)\n",
    "    print(\"원의 둘레    :\", 2 * 3.14 * radius)\n",
    "    print(\"원의 넓이    :\", 3.14 * radius * radius)\n",
    "except:\n",
    "    print(\"반지름은 정수로 입력하세요\")\n",
    "print(\"프로그램 종료\")    "
   ]
  },
  {
   "cell_type": "code",
   "execution_count": 54,
   "id": "d5fd3fd5",
   "metadata": {},
   "outputs": [
    {
     "name": "stdout",
     "output_type": "stream",
     "text": [
      "list_input  : ['52', '273', '32', '삼백삼', '103']\n",
      "list_number : [52.0, 273.0, 32.0, 103.0]\n"
     ]
    }
   ],
   "source": [
    "'''\n",
    "280 page\n",
    "'''\n",
    "list_input = [\"52\", \"273\", \"32\", \"삼백삼\", \"103\"]\n",
    "\n",
    "list_number = []\n",
    "for item in list_input:\n",
    "    try:\n",
    "    #ValueError: could not convert string to float: '삼백삼'\n",
    "        list_number.append(float(item))\n",
    "    except:\n",
    "        print(\"숫자모양의 문자열만 실수로 변환 할 수 있습니다\")\n",
    "\n",
    "print(\"list_input  :\", list_input)\n",
    "print(\"list_number :\", list_number)\n"
   ]
  },
  {
   "cell_type": "code",
   "execution_count": 57,
   "id": "e9a4ceb5",
   "metadata": {},
   "outputs": [
    {
     "name": "stdout",
     "output_type": "stream",
     "text": [
      "정수 입력 :5\n",
      "원의 반지름  : 5\n",
      "원의 둘레    : 31.400000000000002\n",
      "원의 넓이    : 78.5\n",
      "예외가 발생하지 않았습니다\n",
      "예외가 발생하든 안 하든 실행되는 부분\n",
      "프로그램 종료\n"
     ]
    }
   ],
   "source": [
    "'''\n",
    "282 ~ 283 page\n",
    "'''\n",
    "\n",
    "try:\n",
    "    radius = input(\"정수 입력 :\")\n",
    "    radius = int(radius)\n",
    "    print(\"원의 반지름  :\", radius)\n",
    "    print(\"원의 둘레    :\", 2 * 3.14 * radius)\n",
    "    print(\"원의 넓이    :\", 3.14 * radius * radius)\n",
    "except:\n",
    "    print(\"정수를 입력하지 않았습니다\")\n",
    "    \n",
    "else:\n",
    "    print(\"예외가 발생하지 않았습니다\")\n",
    "finally:\n",
    "    print(\"예외가 발생하든 안 하든 실행되는 부분\")\n",
    "\n",
    "    \n",
    "print(\"프로그램 종료\")    "
   ]
  },
  {
   "cell_type": "code",
   "execution_count": 59,
   "id": "f964ecc2",
   "metadata": {},
   "outputs": [
    {
     "name": "stdout",
     "output_type": "stream",
     "text": [
      " ### 파일이 제대로 닫혔는지 확인하기 ###\n",
      "file1.closed: True\n"
     ]
    }
   ],
   "source": [
    "'''\n",
    "285page\n",
    "'''\n",
    "try:\n",
    "    file1 = open(\"info.txt\", \"w\", encoding=\"utf-8\")\n",
    "    #여러가지 처리를 수행함\n",
    "    #중간에 예외가 발생하면 바로 except 블럭으로 넘어가므로\n",
    "    # 이 경우에는 close() 메소드가 호출되지 않음\n",
    "    file1.close()\n",
    "except Exception as e:\n",
    "    print(e)\n",
    "finally:\n",
    "    #close() 메소드를 finally 블럭에 작성하면\n",
    "    #예외가 발생하든 안하든 관계없이 어느 경우에나 호출됨\n",
    "    file1.close\n",
    "    \n",
    "print(\" ### 파일이 제대로 닫혔는지 확인하기 ###\")\n",
    "print(\"file1.closed:\", file1.closed)"
   ]
  },
  {
   "cell_type": "code",
   "execution_count": 60,
   "id": "a03762f8",
   "metadata": {},
   "outputs": [
    {
     "name": "stdout",
     "output_type": "stream",
     "text": [
      "test_finally() 함수 호출됨\n",
      "try 구문 실행됨 - 1\n",
      "else 구문 실행됨\n"
     ]
    }
   ],
   "source": [
    "'''\n",
    "288 page\n",
    "'''\n",
    "def test_finally():\n",
    "    print(\"test_finally() 함수 호출됨\")\n",
    "    try:\n",
    "        print(\"try 구문 실행됨 - 1\")\n",
    "        return\n",
    "        print(\"try 구문 실행됨 - 2\")\n",
    "    except:\n",
    "        print(\"except 구문 실행됨\")\n",
    "    else:\n",
    "        print(\"else 구문 실행됨\")\n",
    "    finally:\n",
    "        print(\"else 구문 실행됨\")    \n",
    "    print(\"test_finally() 함수의 마지막 줄\")\n",
    "\n",
    "# test_finally() 함수 호출하기\n",
    "test_finally()"
   ]
  },
  {
   "cell_type": "code",
   "execution_count": 61,
   "id": "fbfe4b22",
   "metadata": {},
   "outputs": [
    {
     "name": "stdout",
     "output_type": "stream",
     "text": [
      "프로그램 시작\n",
      "try 구문 시작\n",
      "finally 구문 실행\n",
      "프로그램 종료\n"
     ]
    }
   ],
   "source": [
    "'''\n",
    "290 page\n",
    "'''\n",
    "print(\"프로그램 시작\")\n",
    "while True:\n",
    "    try:\n",
    "        print(\"try 구문 시작\")\n",
    "        break\n",
    "        print(\"\")\n",
    "    except:\n",
    "        print(\"except 구문 실행\")\n",
    "    finally:\n",
    "        print(\"finally 구문 실행\")\n",
    "    print(\"while문의 마지막 줄\")\n",
    "        \n",
    "print(\"프로그램 종료\")"
   ]
  },
  {
   "cell_type": "code",
   "execution_count": null,
   "id": "02151fb2",
   "metadata": {},
   "outputs": [],
   "source": []
  }
 ],
 "metadata": {
  "kernelspec": {
   "display_name": "Python 3 (ipykernel)",
   "language": "python",
   "name": "python3"
  },
  "language_info": {
   "codemirror_mode": {
    "name": "ipython",
    "version": 3
   },
   "file_extension": ".py",
   "mimetype": "text/x-python",
   "name": "python",
   "nbconvert_exporter": "python",
   "pygments_lexer": "ipython3",
   "version": "3.9.7"
  }
 },
 "nbformat": 4,
 "nbformat_minor": 5
}
