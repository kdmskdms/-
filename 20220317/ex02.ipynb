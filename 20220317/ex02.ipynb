{
 "cells": [
  {
   "cell_type": "code",
   "execution_count": null,
   "id": "17fc92ad",
   "metadata": {
    "ExecuteTime": {
     "end_time": "2022-03-17T06:45:48.045116Z",
     "start_time": "2022-03-17T06:45:43.258414Z"
    }
   },
   "outputs": [],
   "source": [
    "'''\n",
    "예외처리 : Exception Handling\n",
    "           프로그램의 비정상적인 종료를 방지해서 정상적으로 종료하도록 함\n",
    "           \n",
    "오류 \n",
    "1) 예외 : 소스를 수정해서 고칠 수 있는 비교적 가벼운 에러\n",
    "2) 에러 : 소스를 수정해서 고칠 수 없는 에러 - 하드웨어 문제인 경우가 많음\n",
    "\n",
    "예외처리 형식)\n",
    "\n",
    "  try:\n",
    "      예외가 발생할 가능성이 있는 code...\n",
    "  except [발생한 예외클래스 [as 변수(발생한 예외클래스의 객체의 주소를 저장하는 변수)]]:\n",
    "      예외처리하는 부분...\n",
    "\n",
    "'''\n",
    "\n",
    "num1 = int(input(\"첫 번째 숫자를 입력하세요 : \"))\n",
    "num2 = int(input(\"두 번째 숫자를 입력하세요 : \"))\n",
    "\n",
    "try:\n",
    "    # ZeroDivisionError: division by zero\n",
    "    result = num1 / num2\n",
    "    print(\"result :\",result)\n",
    "except ZeroDivisionError as zde:\n",
    "    print(\"숫자는 0으로 나눌 수 없습니다\")\n",
    "    print(\"Error Message :\",zde)\n",
    "    \n",
    "print(\"프로그램 종료\")    \n",
    "\n"
   ]
  },
  {
   "cell_type": "code",
   "execution_count": null,
   "id": "5cbb624d",
   "metadata": {
    "ExecuteTime": {
     "end_time": "2022-03-17T06:46:28.261453Z",
     "start_time": "2022-03-17T06:46:26.949389Z"
    }
   },
   "outputs": [],
   "source": [
    "num1 = int(input(\"첫 번째 숫자를 입력하세요 : \"))\n",
    "num2 = int(input(\"두 번째 숫자를 입력하세요 : \"))\n",
    "\n",
    "try:\n",
    "    # ZeroDivisionError: division by zero\n",
    "    result = num1 / num2\n",
    "    print(\"result :\",result)\n",
    "except:\n",
    "    print(\"숫자는 0으로 나눌 수 없습니다\") \n",
    "    \n",
    "print(\"프로그램 종료\") "
   ]
  },
  {
   "cell_type": "code",
   "execution_count": null,
   "id": "912a93c1",
   "metadata": {
    "ExecuteTime": {
     "end_time": "2022-03-17T06:48:17.777978Z",
     "start_time": "2022-03-17T06:48:16.629152Z"
    }
   },
   "outputs": [],
   "source": [
    "num1 = int(input(\"첫 번째 숫자를 입력하세요 : \"))\n",
    "num2 = int(input(\"두 번째 숫자를 입력하세요 : \"))\n",
    "\n",
    "try:\n",
    "    # ZeroDivisionError: division by zero\n",
    "    result = num1 / num2\n",
    "    print(\"result :\",result)\n",
    "except Exception as e:\n",
    "    print(\"숫자는 0으로 나눌 수 없습니다\") \n",
    "    print(\"Error Message :\",e)\n",
    "    \n",
    "print(\"프로그램 종료\") "
   ]
  },
  {
   "cell_type": "code",
   "execution_count": null,
   "id": "e807325a",
   "metadata": {
    "ExecuteTime": {
     "end_time": "2022-03-17T06:51:30.915156Z",
     "start_time": "2022-03-17T06:51:30.901547Z"
    }
   },
   "outputs": [],
   "source": [
    "class Parent:\n",
    "    pass\n",
    "class Child1(Parent):\n",
    "    pass\n",
    "'''\n",
    "class Child2(Parent):\n",
    "    pass\n",
    "'''    "
   ]
  },
  {
   "cell_type": "code",
   "execution_count": null,
   "id": "7cd604ca",
   "metadata": {
    "ExecuteTime": {
     "end_time": "2022-03-17T07:02:21.659839Z",
     "start_time": "2022-03-17T07:02:21.646846Z"
    }
   },
   "outputs": [],
   "source": [
    "p1 = Parent()\n",
    "c1 = Child1()\n",
    "\n",
    "print(\"issubclass(Child1, Parent) :\",issubclass(Child1, Parent))\n",
    "print(\"isinstance(p1, Parent) :\",isinstance(p1, Parent))\n",
    "print(\"isinstance(c1, Child1) :\",isinstance(c1, Child1))\n",
    "print(\"-\" * 40)\n",
    "\n",
    "print(\"-- p1 = c1 실행 전 -- \")\n",
    "print(\"isinstance(p1, Child1) :\",isinstance(p1, Child1))\n",
    "print(\"isinstance(c1, Parent) :\",isinstance(c1, Parent))\n",
    "print(\"-\" * 40)\n",
    "\n",
    "print(\"-- p1 = c1 실행 후 -- \")\n",
    "p1 = c1\n",
    "print(\"isinstance(p1, Child1) :\",isinstance(p1, Child1))\n",
    "print(\"isinstance(c1, Parent) :\",isinstance(c1, Parent))"
   ]
  },
  {
   "cell_type": "code",
   "execution_count": null,
   "id": "5bd07dbf",
   "metadata": {
    "ExecuteTime": {
     "end_time": "2022-03-17T07:10:21.021092Z",
     "start_time": "2022-03-17T07:10:21.004102Z"
    }
   },
   "outputs": [],
   "source": [
    "'''\n",
    "예외가 발생하지 않는 code\n",
    "'''\n",
    "list_nums = [1, 2, 3, 4, 5]\n",
    "print(\"list_nums[4] :\",list_nums[4])\n",
    "result = 25 / 5\n",
    "print(\"result :\",result)"
   ]
  },
  {
   "cell_type": "code",
   "execution_count": null,
   "id": "5239565a",
   "metadata": {
    "ExecuteTime": {
     "end_time": "2022-03-17T07:12:08.527656Z",
     "start_time": "2022-03-17T07:12:08.509666Z"
    }
   },
   "outputs": [],
   "source": [
    "'''\n",
    "예외가 발생하는 code\n",
    "'''\n",
    "try:\n",
    "    list_nums = [1, 2, 3, 4, 5]\n",
    "    print(\"list_nums[5] :\",list_nums[5])\n",
    "    result = 25 / 0\n",
    "    print(\"result :\",result)\n",
    "except:\n",
    "    print(\"예외가 발생했습니다\")\n",
    "    \n",
    "print(\"프로그램 종료\")    "
   ]
  },
  {
   "cell_type": "code",
   "execution_count": null,
   "id": "bc7424b6",
   "metadata": {
    "ExecuteTime": {
     "end_time": "2022-03-17T07:13:40.372461Z",
     "start_time": "2022-03-17T07:13:40.355470Z"
    }
   },
   "outputs": [],
   "source": [
    "'''\n",
    "예외가 발생하는 code - Exception 클래스로 예외를 처리함\n",
    "'''\n",
    "try:\n",
    "    list_nums = [1, 2, 3, 4, 5]\n",
    "    print(\"list_nums[5] :\",list_nums[5])\n",
    "    result = 25 / 0\n",
    "    print(\"result :\",result)\n",
    "except Exception as e:\n",
    "    print(\"예외가 발생했습니다 :\",e)\n",
    "    \n",
    "print(\"프로그램 종료\")  "
   ]
  },
  {
   "cell_type": "code",
   "execution_count": null,
   "id": "96ea03c6",
   "metadata": {
    "ExecuteTime": {
     "end_time": "2022-03-17T07:17:59.238385Z",
     "start_time": "2022-03-17T07:17:59.220396Z"
    }
   },
   "outputs": [],
   "source": [
    "\n",
    "'''\n",
    "예외가 발생하는 code - 발생한 예외가 여러 개인 경우 예외별로 처리하기\n",
    "'''\n",
    "try:\n",
    "    list_nums = [1, 2, 3, 4, 5]\n",
    "    print(\"list_nums[5] :\",list_nums[5])\n",
    "    result = 25 / 0\n",
    "    print(\"result :\",result)\n",
    "except IndexError as e:\n",
    "    print(\"예외가 발생했습니다 :\",e)\n",
    "except ZeroDivisionError as e:\n",
    "    print(\"예외가 발생했습니다 :\",e)    \n",
    "    \n",
    "print(\"프로그램 종료\")  "
   ]
  },
  {
   "cell_type": "code",
   "execution_count": null,
   "id": "1751951c",
   "metadata": {},
   "outputs": [],
   "source": [
    "https://docs.python.org/ko/3.9/library/exceptions.html"
   ]
  },
  {
   "cell_type": "code",
   "execution_count": null,
   "id": "29dedf1a",
   "metadata": {
    "ExecuteTime": {
     "end_time": "2022-03-17T07:20:44.559055Z",
     "start_time": "2022-03-17T07:20:44.548061Z"
    }
   },
   "outputs": [],
   "source": [
    "\n",
    "'''\n",
    "예외가 발생하는 code - 발생한 예외가 여러 개인 경우 예외별로 처리하기\n",
    "'''\n",
    "try:\n",
    "    list_nums = [1, 2, 3, 4, 5]\n",
    "    print(\"list_nums[4] :\",list_nums[4])\n",
    "    result = 25 / 0\n",
    "    print(\"result :\",result)\n",
    "except ZeroDivisionError as e:\n",
    "    print(\"예외가 발생했습니다 :\",e)      \n",
    "except IndexError as e:\n",
    "    print(\"예외가 발생했습니다 :\",e)  \n",
    "    \n",
    "print(\"프로그램 종료\")  "
   ]
  },
  {
   "cell_type": "code",
   "execution_count": null,
   "id": "d77b2aba",
   "metadata": {
    "ExecuteTime": {
     "end_time": "2022-03-17T07:21:53.114580Z",
     "start_time": "2022-03-17T07:21:53.106585Z"
    }
   },
   "outputs": [],
   "source": [
    "'''\n",
    "예외가 발생하는 code - 발생한 예외가 여러 개인 경우\n",
    "'''\n",
    "try:\n",
    "    list_nums = [1, 2, 3, 4, 5]\n",
    "    print(\"list_nums[5] :\",list_nums[5])\n",
    "    result = 25 / 0\n",
    "    print(\"result :\",result)\n",
    "except (ZeroDivisionError, IndexError) as e:\n",
    "    print(\"예외가 발생했습니다 :\",e)   \n",
    "    \n",
    "print(\"프로그램 종료\")  "
   ]
  },
  {
   "cell_type": "code",
   "execution_count": null,
   "id": "edb23600",
   "metadata": {
    "ExecuteTime": {
     "end_time": "2022-03-17T07:39:24.489867Z",
     "start_time": "2022-03-17T07:39:20.682482Z"
    }
   },
   "outputs": [],
   "source": [
    "'''\n",
    "숫자를 입력해야 하는데, \n",
    "문자열을 입력해서 예외가 발생하는 경우\n",
    "'''\n",
    "try:\n",
    "    age = int(input(\"나이를 입력하세요 : \"))\n",
    "    print(f\"당신은 {age} 살입니다\")\n",
    "except ValueError as e:\n",
    "    print(\"나이는 숫자로만 입력하세요 :\",e)\n",
    "    \n",
    "print(\"프로그램 종료\")    "
   ]
  },
  {
   "cell_type": "code",
   "execution_count": null,
   "id": "4c77005d",
   "metadata": {
    "ExecuteTime": {
     "end_time": "2022-03-17T07:40:24.869988Z",
     "start_time": "2022-03-17T07:40:23.569807Z"
    }
   },
   "outputs": [],
   "source": [
    "try:\n",
    "    age = int(input(\"나이를 입력하세요 : \"))\n",
    "    print(f\"당신은 {age} 살입니다\")\n",
    "except:\n",
    "    print(\"나이는 숫자로만 입력하세요\")\n",
    "    \n",
    "print(\"프로그램 종료\")  "
   ]
  },
  {
   "cell_type": "code",
   "execution_count": null,
   "id": "ccaee5b8",
   "metadata": {},
   "outputs": [],
   "source": [
    "num1, num2 = map(int, input(\"두 개의 정수를 입력하세요 (공백으로 구분): \").split())\n",
    "'''\n",
    "num1 = int(num1)\n",
    "num2 = int(num2)\n",
    "'''\n",
    "result = num1 + num2\n",
    "print(\"result :\",result)"
   ]
  },
  {
   "cell_type": "code",
   "execution_count": 41,
   "id": "bb822046",
   "metadata": {
    "ExecuteTime": {
     "end_time": "2022-03-17T07:50:11.522199Z",
     "start_time": "2022-03-17T07:50:06.738152Z"
    }
   },
   "outputs": [
    {
     "name": "stdout",
     "output_type": "stream",
     "text": [
      "인덱스번호와 숫자를 입력하세요 (공백으로 구분): 일 십\n",
      "invalid literal for int() with base 10: '일'\n",
      "프로그램 종료\n"
     ]
    }
   ],
   "source": [
    "list_nums = [11, 22, 33]\n",
    "try:\n",
    "    idx, number = map(int, input(\"인덱스번호와 숫자를 입력하세요 (공백으로 구분): \").split())\n",
    "    result = list_nums[idx] / number\n",
    "    print(\"result :\",result)\n",
    "except ZeroDivisionError as e:\n",
    "    print(\"숫자는 0으로 나눌 수 없음 -\",e)\n",
    "except IndexError as e:\n",
    "    print(\"인덱스번호를 정확하게 입력하세요 -\",e)\n",
    "except ValueError as e:\n",
    "    print(e)\n",
    "    \n",
    "print(\"프로그램 종료\")    "
   ]
  },
  {
   "cell_type": "code",
   "execution_count": 43,
   "id": "499dd155",
   "metadata": {
    "ExecuteTime": {
     "end_time": "2022-03-17T07:51:30.834014Z",
     "start_time": "2022-03-17T07:51:27.962062Z"
    }
   },
   "outputs": [
    {
     "name": "stdout",
     "output_type": "stream",
     "text": [
      "인덱스번호와 숫자를 입력하세요 (공백으로 구분): 십 일\n",
      "invalid literal for int() with base 10: '십'\n",
      "프로그램 종료\n"
     ]
    }
   ],
   "source": [
    "list_nums = [11, 22, 33]\n",
    "try:\n",
    "    idx, number = map(int, input(\"인덱스번호와 숫자를 입력하세요 (공백으로 구분): \").split())\n",
    "    result = list_nums[idx] / number\n",
    "    print(\"result :\",result)\n",
    "    \n",
    "except ZeroDivisionError as e:\n",
    "    print(\"숫자는 0으로 나눌 수 없음 -\",e)\n",
    "except IndexError as e:\n",
    "    print(\"인덱스번호를 정확하게 입력하세요 -\",e)\n",
    "except Exception as e:\n",
    "    print(e) \n",
    "    \n",
    "print(\"프로그램 종료\")    "
   ]
  },
  {
   "cell_type": "code",
   "execution_count": 52,
   "id": "3cd00318",
   "metadata": {
    "ExecuteTime": {
     "end_time": "2022-03-17T08:00:46.890008Z",
     "start_time": "2022-03-17T08:00:45.480508Z"
    }
   },
   "outputs": [
    {
     "name": "stdout",
     "output_type": "stream",
     "text": [
      "정수 입력 : 오\n",
      "반지름은 정수로 입력하세요\n",
      "프로그램 종료\n"
     ]
    }
   ],
   "source": [
    "'''\n",
    "277  page\n",
    "'''\n",
    "radius = input(\"정수 입력 : \")\n",
    "\n",
    "# isdigit() 숫자인지 확인하는 메소드\n",
    "if radius.isdigit():\n",
    "    radius = int(radius)\n",
    "    print(\"원의 반지름 :\",radius)\n",
    "    print(\"원의 둘레   :\",2 * 3.14 * radius)\n",
    "    print(\"원의 넓이   :\",3.14 * radius * radius)\n",
    "else:\n",
    "    print(\"반지름은 정수로 입력하세요\")  \n",
    "    \n",
    "print(\"프로그램 종료\")       "
   ]
  },
  {
   "cell_type": "code",
   "execution_count": 53,
   "id": "249218f4",
   "metadata": {
    "ExecuteTime": {
     "end_time": "2022-03-17T08:00:56.990436Z",
     "start_time": "2022-03-17T08:00:55.984348Z"
    }
   },
   "outputs": [
    {
     "name": "stdout",
     "output_type": "stream",
     "text": [
      "정수 입력 : 오\n",
      "반지름은 정수로 입력하세요\n",
      "프로그램 종료\n"
     ]
    }
   ],
   "source": [
    "'''\n",
    "279 page\n",
    "'''\n",
    "radius = input(\"정수 입력 : \")\n",
    "try:\n",
    "    radius = int(radius)\n",
    "    print(\"원의 반지름 :\",radius)\n",
    "    print(\"원의 둘레   :\",2 * 3.14 * radius)\n",
    "    print(\"원의 넓이   :\",3.14 * radius * radius)\n",
    "except:\n",
    "    print(\"반지름은 정수로 입력하세요\") \n",
    "print(\"프로그램 종료\")         "
   ]
  },
  {
   "cell_type": "code",
   "execution_count": 54,
   "id": "620c4eec",
   "metadata": {
    "ExecuteTime": {
     "end_time": "2022-03-17T08:01:20.218353Z",
     "start_time": "2022-03-17T08:01:15.424665Z"
    }
   },
   "outputs": [
    {
     "name": "stdout",
     "output_type": "stream",
     "text": [
      "정수 입력 : 오\n",
      "프로그램 종료\n"
     ]
    }
   ],
   "source": [
    "radius = input(\"정수 입력 : \")\n",
    "try:\n",
    "    radius = int(radius)\n",
    "    print(\"원의 반지름 :\",radius)\n",
    "    print(\"원의 둘레   :\",2 * 3.14 * radius)\n",
    "    print(\"원의 넓이   :\",3.14 * radius * radius)\n",
    "except:\n",
    "    pass\n",
    "print(\"프로그램 종료\")   "
   ]
  },
  {
   "cell_type": "code",
   "execution_count": 60,
   "id": "e1cab6fe",
   "metadata": {
    "ExecuteTime": {
     "end_time": "2022-03-17T08:06:18.870948Z",
     "start_time": "2022-03-17T08:06:18.858945Z"
    }
   },
   "outputs": [
    {
     "name": "stdout",
     "output_type": "stream",
     "text": [
      "숫자모양의 문자열만 실수로 변환할 수 있습니다\n",
      "list_input  : ['52', '273', '32', '삼백삼', '103']\n",
      "list_number : [52.0, 273.0, 32.0, 103.0]\n"
     ]
    }
   ],
   "source": [
    "'''\n",
    "280 page\n",
    "'''\n",
    "list_input = [\"52\", \"273\", \"32\", \"삼백삼\", \"103\"]\n",
    "list_number = []\n",
    "\n",
    "for item in list_input:  \n",
    "    try:\n",
    "    # ValueError: could not convert string to float: '삼백삼'\n",
    "        list_number.append(float(item))\n",
    "    except:\n",
    "        print(\"숫자모양의 문자열만 실수로 변환할 수 있습니다\")\n",
    "    \n",
    "print(\"list_input  :\",list_input)\n",
    "print(\"list_number :\",list_number)\n"
   ]
  },
  {
   "cell_type": "code",
   "execution_count": 62,
   "id": "2411ce52",
   "metadata": {
    "ExecuteTime": {
     "end_time": "2022-03-17T08:09:10.430844Z",
     "start_time": "2022-03-17T08:09:08.896011Z"
    }
   },
   "outputs": [
    {
     "name": "stdout",
     "output_type": "stream",
     "text": [
      "정수 입력 : 오\n",
      "정수를 입력하지 않았습니다\n",
      "프로그램 종료\n"
     ]
    }
   ],
   "source": [
    "'''\n",
    "281 page\n",
    "'''\n",
    "\n",
    "try:\n",
    "    radius = input(\"정수 입력 : \")\n",
    "    radius = int(radius)\n",
    "except:\n",
    "    print(\"정수를 입력하지 않았습니다\")    \n",
    "else:\n",
    "    print(\"원의 반지름 :\",radius)\n",
    "    print(\"원의 둘레   :\",2 * 3.14 * radius)\n",
    "    print(\"원의 넓이   :\",3.14 * radius * radius)\n",
    "    \n",
    "print(\"프로그램 종료\") "
   ]
  },
  {
   "cell_type": "code",
   "execution_count": 65,
   "id": "fab5521a",
   "metadata": {
    "ExecuteTime": {
     "end_time": "2022-03-17T08:12:07.916746Z",
     "start_time": "2022-03-17T08:12:06.232272Z"
    }
   },
   "outputs": [
    {
     "name": "stdout",
     "output_type": "stream",
     "text": [
      "정수 입력 : 5\n",
      "원의 반지름 : 5\n",
      "원의 둘레   : 31.400000000000002\n",
      "원의 넓이   : 78.5\n",
      "예외가 발생하지 않았습니다\n",
      "예외가 발생하든 안 하든 실행되는 부분\n",
      "프로그램 종료\n"
     ]
    }
   ],
   "source": [
    "'''\n",
    "282 - 283 page\n",
    "'''\n",
    "try:\n",
    "    radius = input(\"정수 입력 : \")\n",
    "    radius = int(radius)\n",
    "    print(\"원의 반지름 :\",radius)\n",
    "    print(\"원의 둘레   :\",2 * 3.14 * radius)\n",
    "    print(\"원의 넓이   :\",3.14 * radius * radius)    \n",
    "except:\n",
    "    print(\"정수를 입력하지 않았습니다\")    \n",
    "else:\n",
    "    print(\"예외가 발생하지 않았습니다\")\n",
    "finally:\n",
    "    print(\"예외가 발생하든 안 하든 실행되는 부분\")\n",
    "    \n",
    "print(\"프로그램 종료\") "
   ]
  },
  {
   "cell_type": "code",
   "execution_count": 66,
   "id": "d2ab2391",
   "metadata": {
    "ExecuteTime": {
     "end_time": "2022-03-17T08:17:34.920326Z",
     "start_time": "2022-03-17T08:17:34.904325Z"
    }
   },
   "outputs": [
    {
     "name": "stdout",
     "output_type": "stream",
     "text": [
      " ### 파일이 제대로 닫혔는지 확인하기 ### \n",
      "file1.closed : True\n"
     ]
    }
   ],
   "source": [
    "'''\n",
    "285 page\n",
    "'''\n",
    "try:\n",
    "    file1 = open(\"info.txt\", \"w\", encoding=\"utf-8\")\n",
    "    # 여러가지 처리를 수행함\n",
    "    # 중간에 예외가 발생하면 바로 except 블럭으로 넘어가므로\n",
    "    # 이 경우에는 close() 메소드가 호출되지 않음\n",
    "    # file1.close()\n",
    "except Exception as e:    \n",
    "    print(e)\n",
    "finally:\n",
    "    # close() 메소드를 finally 블럭에 작성하면\n",
    "    # 예외가 발생하든 안 하든 관계없이 어느 경우에나 호출됨\n",
    "    file1.close()\n",
    "\n",
    "print(\" ### 파일이 제대로 닫혔는지 확인하기 ### \")    \n",
    "print(\"file1.closed :\",file1.closed)"
   ]
  },
  {
   "cell_type": "code",
   "execution_count": 67,
   "id": "0e96c2d5",
   "metadata": {
    "ExecuteTime": {
     "end_time": "2022-03-17T08:25:33.148362Z",
     "start_time": "2022-03-17T08:25:33.130372Z"
    }
   },
   "outputs": [
    {
     "name": "stdout",
     "output_type": "stream",
     "text": [
      "test_finally() 함수 호출됨\n",
      "try 구문 실행됨 - 1\n",
      "finally 구문 실행됨\n"
     ]
    }
   ],
   "source": [
    "'''\n",
    "288 page\n",
    "'''\n",
    "def test_finally():\n",
    "    print(\"test_finally() 함수 호출됨\")\n",
    "    try:\n",
    "        print(\"try 구문 실행됨 - 1\")\n",
    "        return\n",
    "        print(\"try 구문 실행됨 - 2\")\n",
    "    except:\n",
    "        print(\"except 구문 실행됨\")\n",
    "    else:\n",
    "        print(\"else 구문 실행됨\")\n",
    "    finally:\n",
    "        print(\"finally 구문 실행됨\")\n",
    "    print(\"test_finally() 함수의 마지막 줄\")    \n",
    "    \n",
    "# test_finally() 함수 호출하기\n",
    "test_finally()\n",
    "        "
   ]
  },
  {
   "cell_type": "code",
   "execution_count": 68,
   "id": "31a653c8",
   "metadata": {
    "ExecuteTime": {
     "end_time": "2022-03-17T08:28:42.021340Z",
     "start_time": "2022-03-17T08:28:42.015344Z"
    }
   },
   "outputs": [
    {
     "name": "stdout",
     "output_type": "stream",
     "text": [
      "프로그램 시작\n",
      "try 구문 시작 - 1\n",
      "finally 구문 실행\n",
      "프로그램 종료\n"
     ]
    }
   ],
   "source": [
    "'''\n",
    "290 page\n",
    "'''\n",
    "print(\"프로그램 시작\")\n",
    "while True:\n",
    "    try:\n",
    "        print(\"try 구문 - 1\")\n",
    "        break\n",
    "        print(\"try 구문 - 2\")\n",
    "    except:\n",
    "        print(\"except 구문 실행\")\n",
    "    finally:\n",
    "        print(\"finally 구문 실행\")\n",
    "    print(\"while문의 마지막 줄\")\n",
    "    \n",
    "print(\"프로그램 종료\")"
   ]
  },
  {
   "cell_type": "code",
   "execution_count": null,
   "id": "c0b80966",
   "metadata": {},
   "outputs": [],
   "source": []
  },
  {
   "cell_type": "code",
   "execution_count": null,
   "id": "cb74f136",
   "metadata": {},
   "outputs": [],
   "source": []
  }
 ],
 "metadata": {
  "hide_input": false,
  "kernelspec": {
   "display_name": "Python 3 (ipykernel)",
   "language": "python",
   "name": "python3"
  },
  "language_info": {
   "codemirror_mode": {
    "name": "ipython",
    "version": 3
   },
   "file_extension": ".py",
   "mimetype": "text/x-python",
   "name": "python",
   "nbconvert_exporter": "python",
   "pygments_lexer": "ipython3",
   "version": "3.9.7"
  },
  "toc": {
   "base_numbering": 1,
   "nav_menu": {},
   "number_sections": true,
   "sideBar": true,
   "skip_h1_title": false,
   "title_cell": "Table of Contents",
   "title_sidebar": "Contents",
   "toc_cell": false,
   "toc_position": {},
   "toc_section_display": true,
   "toc_window_display": false
  },
  "varInspector": {
   "cols": {
    "lenName": 16,
    "lenType": 16,
    "lenVar": 40
   },
   "kernels_config": {
    "python": {
     "delete_cmd_postfix": "",
     "delete_cmd_prefix": "del ",
     "library": "var_list.py",
     "varRefreshCmd": "print(var_dic_list())"
    },
    "r": {
     "delete_cmd_postfix": ") ",
     "delete_cmd_prefix": "rm(",
     "library": "var_list.r",
     "varRefreshCmd": "cat(var_dic_list()) "
    }
   },
   "types_to_exclude": [
    "module",
    "function",
    "builtin_function_or_method",
    "instance",
    "_Feature"
   ],
   "window_display": false
  }
 },
 "nbformat": 4,
 "nbformat_minor": 5
}
