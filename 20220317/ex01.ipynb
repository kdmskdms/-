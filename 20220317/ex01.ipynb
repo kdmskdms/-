{
 "cells": [
  {
   "cell_type": "code",
   "execution_count": 1,
   "id": "afc84e20",
   "metadata": {
    "ExecuteTime": {
     "end_time": "2022-03-17T00:44:34.096017Z",
     "start_time": "2022-03-17T00:44:34.083025Z"
    },
    "scrolled": true
   },
   "outputs": [
    {
     "name": "stdout",
     "output_type": "stream",
     "text": [
      "isinstance(b, A) : True\n",
      "isinstance(c, B) : True\n",
      "isinstance(d, C) : True\n",
      "isinstance(e, D) : True\n",
      "--------------------------------------------------\n",
      "isinstance(c, A) : True\n",
      "isinstance(d, B) : True\n",
      "isinstance(e, C) : True\n",
      "--------------------------------------------------\n",
      "isinstance(a, A) : True\n",
      "isinstance(b, B) : True\n",
      "isinstance(c, C) : True\n",
      "isinstance(d, D) : True\n",
      "isinstance(e, E) : True\n",
      "--------------------------------------------------\n"
     ]
    }
   ],
   "source": [
    "class A:\n",
    "    pass\n",
    "class B(A):\n",
    "    pass\n",
    "class C(B):\n",
    "    pass\n",
    "class D(C):\n",
    "    pass\n",
    "class E(D):\n",
    "    pass\n",
    "\n",
    "a = A()\n",
    "b = B()\n",
    "c = C()\n",
    "d = D()\n",
    "e = E()\n",
    "\n",
    "\n",
    "print(\"isinstance(b, A) :\",isinstance(b, A))\n",
    "print(\"isinstance(c, B) :\",isinstance(c, B))\n",
    "print(\"isinstance(d, C) :\",isinstance(d, C))\n",
    "print(\"isinstance(e, D) :\",isinstance(e, D))\n",
    "print(\"-\" * 50)\n",
    "\n",
    "print(\"isinstance(c, A) :\",isinstance(c, A))\n",
    "print(\"isinstance(d, B) :\",isinstance(d, B))\n",
    "print(\"isinstance(e, C) :\",isinstance(e, C))\n",
    "print(\"-\" * 50)\n",
    "\n",
    "print(\"isinstance(a, A) :\",isinstance(a, A))\n",
    "print(\"isinstance(b, B) :\",isinstance(b, B))\n",
    "print(\"isinstance(c, C) :\",isinstance(c, C))\n",
    "print(\"isinstance(d, D) :\",isinstance(d, D))\n",
    "print(\"isinstance(e, E) :\",isinstance(e, E))\n",
    "print(\"-\" * 50)"
   ]
  },
  {
   "cell_type": "code",
   "execution_count": 2,
   "id": "67f6cf84",
   "metadata": {
    "ExecuteTime": {
     "end_time": "2022-03-17T00:48:20.718337Z",
     "start_time": "2022-03-17T00:48:20.702345Z"
    }
   },
   "outputs": [
    {
     "name": "stdout",
     "output_type": "stream",
     "text": [
      "issubclass(B, A) : True\n",
      "issubclass(C, B) : True\n",
      "issubclass(D, C) : True\n",
      "issubclass(E, D) : True\n",
      "--------------------------------------------------\n",
      "issubclass(A, A) : True\n",
      "issubclass(D, B) : True\n",
      "issubclass(E, C) : True\n",
      "--------------------------------------------------\n",
      "issubclass(A, A) : True\n",
      "issubclass(B, B) : True\n",
      "issubclass(C, C) : True\n",
      "issubclass(D, D) : True\n",
      "issubclass(E, E) : True\n",
      "--------------------------------------------------\n"
     ]
    }
   ],
   "source": [
    "print(\"issubclass(B, A) :\",issubclass(B, A))\n",
    "print(\"issubclass(C, B) :\",issubclass(C, B))\n",
    "print(\"issubclass(D, C) :\",issubclass(D, C))\n",
    "print(\"issubclass(E, D) :\",issubclass(E, D))\n",
    "print(\"-\" * 50)\n",
    "\n",
    "print(\"issubclass(A, A) :\",issubclass(A, A))\n",
    "print(\"issubclass(D, B) :\",issubclass(D, B))\n",
    "print(\"issubclass(E, C) :\",issubclass(E, C))\n",
    "print(\"-\" * 50)\n",
    "\n",
    "print(\"issubclass(A, A) :\",issubclass(A, A))\n",
    "print(\"issubclass(B, B) :\",issubclass(B, B))\n",
    "print(\"issubclass(C, C) :\",issubclass(C, C))\n",
    "print(\"issubclass(D, D) :\",issubclass(D, D))\n",
    "print(\"issubclass(E, E) :\",issubclass(E, E))\n",
    "print(\"-\" * 50)"
   ]
  },
  {
   "cell_type": "code",
   "execution_count": 4,
   "id": "0ed521e7",
   "metadata": {
    "ExecuteTime": {
     "end_time": "2022-03-17T01:02:24.991686Z",
     "start_time": "2022-03-17T01:02:24.971712Z"
    }
   },
   "outputs": [
    {
     "name": "stdout",
     "output_type": "stream",
     "text": [
      "elec : 전기차 사용연료 - electronic\n",
      "gas  : 가솔린차 사용연료 - gasoline\n"
     ]
    }
   ],
   "source": [
    "'''\n",
    "Car class 작성하기 (Parent)\n",
    "attribute(멤버변수) :  생성자에 self.name 선언\n",
    "method              :  def info(self)\n",
    "\n",
    "(Child1) <- Car 를 상속함\n",
    "ElectronicCar class\n",
    "attribute(멤버변수) :  생성자에 self.name 선언\n",
    "method              :  def info(self) Override\n",
    "                       이름, 사용연료(electronic) 출력\n",
    "(Child2) <- Car 를 상속함\n",
    "GasolineCar class\n",
    "attribute(멤버변수) :  생성자에 self.name 선언\n",
    "method              :  def info(self) Override\n",
    "                       이름, 사용연료(gasoline) 출력\n",
    "'''\n",
    "class Car:\n",
    "    def __init__(self, name):\n",
    "        self.name = name\n",
    "    def __str__(self):\n",
    "        return self.name\n",
    "    \n",
    "class ElectronicCar(Car):\n",
    "    def __str__(self):\n",
    "        return f\"{self.name} 사용연료 - electronic\"\n",
    "    \n",
    "class GasolineCar(Car):\n",
    "    def __str__(self):\n",
    "        return f\"{self.name} 사용연료 - gasoline\"\n",
    "    \n",
    "elec = ElectronicCar(\"전기차\")\n",
    "gas  = GasolineCar(\"가솔린차\")\n",
    "\n",
    "print(\"elec :\",elec)\n",
    "print(\"gas  :\",gas)\n",
    "        "
   ]
  },
  {
   "cell_type": "code",
   "execution_count": 9,
   "id": "88d4d396",
   "metadata": {
    "ExecuteTime": {
     "end_time": "2022-03-17T01:07:59.869734Z",
     "start_time": "2022-03-17T01:07:59.851744Z"
    }
   },
   "outputs": [
    {
     "name": "stdout",
     "output_type": "stream",
     "text": [
      "전기차 사용연료 - electronic\n",
      "가솔린차 사용연료 - gasoline\n"
     ]
    }
   ],
   "source": [
    "class Car2:\n",
    "    def __init__(self, name):\n",
    "        self.name = name\n",
    "    def display_info(self):\n",
    "        print(self.name)\n",
    "    \n",
    "class ElectronicCar2(Car2):\n",
    "    def __init__(self, name):\n",
    "        super().__init__(name)\n",
    "        # Car2.__init__(self, name)\n",
    "        # self.name = name\n",
    "    # display_info() 메소드 overriding\n",
    "    def display_info(self):\n",
    "        print(self.name,\"사용연료 - electronic\")\n",
    "    \n",
    "class GasolineCar2(Car2):\n",
    "    def __init__(self, name):\n",
    "        super().__init__(name)\n",
    "        # Car2.__init__(self, name)\n",
    "        # self.name = name\n",
    "    # display_info() 메소드 overriding\n",
    "    def display_info(self):\n",
    "        print(self.name,\"사용연료 - gasoline\")\n",
    "        \n",
    "elec = ElectronicCar2(\"전기차\")\n",
    "gas  = GasolineCar2(\"가솔린차\")   \n",
    "\n",
    "elec.display_info()\n",
    "gas.display_info()"
   ]
  },
  {
   "cell_type": "code",
   "execution_count": 11,
   "id": "f0369a3f",
   "metadata": {
    "ExecuteTime": {
     "end_time": "2022-03-17T01:12:40.121065Z",
     "start_time": "2022-03-17T01:12:40.107084Z"
    }
   },
   "outputs": [
    {
     "name": "stdout",
     "output_type": "stream",
     "text": [
      "전기차 사용연료 - electronic, 색상 - red\n",
      "가솔린차 사용연료 - gasoline, 기어 - mannual\n"
     ]
    }
   ],
   "source": [
    "'''\n",
    "자식클래스에서 멤버변수를 추가하는 경우,\n",
    "부모클래스에서 선언한 멤버변수는 부모클래스에서 초기화하도록\n",
    "자식클래스의 생성자에서 부모클래스의 생성자를 호출하고,\n",
    "자식클래스에서 추가한 멤버변수는 자식클래스에서 초기화함\n",
    "'''\n",
    "class Car2:\n",
    "    def __init__(self, name):\n",
    "        self.name = name\n",
    "    def display_info(self):\n",
    "        print(self.name)\n",
    "    \n",
    "class ElectronicCar2(Car2):\n",
    "    def __init__(self, name, color):\n",
    "        super().__init__(name)\n",
    "        # Car2.__init__(self, name)\n",
    "        self.color = color\n",
    "    # display_info() 메소드 overriding\n",
    "    def display_info(self):\n",
    "        print(self.name,\"사용연료 - electronic,\",\"색상 -\",self.color)\n",
    "    \n",
    "class GasolineCar2(Car2):\n",
    "    def __init__(self, name, gearType):\n",
    "        super().__init__(name)\n",
    "        # Car2.__init__(self, name)\n",
    "        self.gearType = gearType\n",
    "    # display_info() 메소드 overriding\n",
    "    def display_info(self):\n",
    "        print(self.name,\"사용연료 - gasoline,\",\"기어 -\",self.gearType)\n",
    "        \n",
    "elec = ElectronicCar2(\"전기차\", \"red\")\n",
    "gas  = GasolineCar2(\"가솔린차\", \"mannual\")   \n",
    "\n",
    "elec.display_info()\n",
    "gas.display_info()"
   ]
  },
  {
   "cell_type": "code",
   "execution_count": 14,
   "id": "8afec8c5",
   "metadata": {
    "ExecuteTime": {
     "end_time": "2022-03-17T01:40:35.142620Z",
     "start_time": "2022-03-17T01:40:35.121631Z"
    }
   },
   "outputs": [
    {
     "name": "stdout",
     "output_type": "stream",
     "text": [
      "size : 3, 4\n",
      "사각형의 넓이 : 30\n",
      "삼각형의 넓이 : 24.0\n"
     ]
    }
   ],
   "source": [
    "'''\n",
    "Shape class 작성하기 (Parent)\n",
    "attribute(멤버변수) :  생성자에 self.width, self.height 선언\n",
    "method              :  def display_info(self)\n",
    "                           ㄴ width, height 출력\n",
    "\n",
    "(Child1) <- Shape  를 상속함\n",
    "Rectangle class\n",
    "method              :  def display_info(self)\n",
    "                           ㄴ 사각형의 넓이 출력\n",
    "                           \n",
    "(Child2) <- Shape  를 상속함\n",
    "Triangle class\n",
    "method              :  def display_info(self)\n",
    "                           ㄴ 삼각형의 넓이 출력\n",
    "'''\n",
    "class Shape:\n",
    "    def __init__(self, width, height):\n",
    "        self.width = width\n",
    "        self.height = height\n",
    "    def display_info(self)    :\n",
    "        print(f\"size : {self.width}, {self.height}\")\n",
    "        \n",
    "class Rectangle(Shape):\n",
    "    # display_info() overriding\n",
    "    def display_info(self):\n",
    "        print(f\"사각형의 넓이 : {self.width * self.height}\")\n",
    "        \n",
    "class Triangle(Shape):\n",
    "    # display_info() overriding\n",
    "    def display_info(self):\n",
    "        print(f\"삼각형의 넓이 : {self.width * self.height * 0.5}\")\n",
    "\n",
    "s1 = Shape(3, 4)        \n",
    "s1.display_info()\n",
    "r1 = Rectangle(5, 6)        \n",
    "r1.display_info()\n",
    "t1 = Triangle(6, 8)\n",
    "t1.display_info()\n",
    "        "
   ]
  },
  {
   "cell_type": "code",
   "execution_count": null,
   "id": "a22125ab",
   "metadata": {},
   "outputs": [],
   "source": [
    "'''\n",
    "추상클래스 : abstract class\n",
    "  ㄴ 완성되지 않은 클래스\n",
    "       ㄴ 완성되지 않은 메소드(추상메소드)를 가지고 있음\n",
    "            ㄴ 선언부만 있고 body(몸통:구현부)가 없음\n",
    "                 ㄴ 추상메소드\n",
    "\n",
    "추상클래스 작성 방법\n",
    "1) abc 모듈을 import 함\n",
    "\n",
    "2) 추상클래스의 이름 옆에\n",
    "   (metaclass=ABCMeta) 를 명시함\n",
    "\n",
    "3) 추상메소드 작성\n",
    "    ㄴ 메소드 이름 위에\n",
    "       @abstractmethod 라는 데코레이터를 작성함\n",
    "\n",
    "from abc import *\n",
    "class AbstractTest(metaclass=ABCMeta):\n",
    "  @abstractmethod\n",
    "  def test(self):\n",
    "    pass\n",
    "\n",
    "추상클래스는 추상메소드를 가지고 있기 때문에\n",
    "              ㄴ 선언부만 있고 body(몸통:구현부)가 없음\n",
    "객체를 생성할 수 없음\n",
    "추상클래스에 작성되어있는 추상메소드를 사용하려면\n",
    "추상클래스를 상속받는 자식클래스에서\n",
    "조상인 추상클래스의 추상메소드를 Overriding 해서\n",
    "일반메소드를 만들어서 사용함\n",
    "\n",
    "-- 추상클래스 작성 목적 --\n",
    "\n",
    "추상클래스를 상속받은 자식클래스에서\n",
    "추상클래스에 있는 추상메소드를\n",
    "강제적으로 Overriding 하게 함\n",
    "\n",
    "추상클래스를 상속받은 자식클래스에서\n",
    "기본적으로 어떤 메소드를 작성해야 하는지\n",
    "안내해 주는 안내서 역할을 함\n",
    "'''"
   ]
  },
  {
   "cell_type": "code",
   "execution_count": 27,
   "id": "b017639a",
   "metadata": {
    "ExecuteTime": {
     "end_time": "2022-03-17T02:20:11.722986Z",
     "start_time": "2022-03-17T02:20:11.702987Z"
    }
   },
   "outputs": [
    {
     "name": "stdout",
     "output_type": "stream",
     "text": [
      "엘프가 공격함\n",
      "엘프가 이동함\n",
      "안녕하세요, 엘프입니다\n",
      "----------------------------------------\n",
      "사람이 공격함\n",
      "사람이 이동함\n",
      "안녕하세요, 사람입니다\n",
      "----------------------------------------\n"
     ]
    }
   ],
   "source": [
    "from abc import *\n",
    "class Character(metaclass=ABCMeta):\n",
    "    @abstractmethod\n",
    "    def attack(self):\n",
    "        pass\n",
    "    @abstractmethod\n",
    "    def move(self):\n",
    "        pass\n",
    "    def say_hello(self):\n",
    "        print(\"안녕하세요, 등장인물입니다\")\n",
    "        \n",
    "# 추상클래스인 Character 클래스를 상속받는\n",
    "# 일반클래스인 Elf 클래스\n",
    "#   ㄴ 추상메소드를 가질 수 없음\n",
    "class Elf(Character):\n",
    "    # overriding\n",
    "    def attack(self):\n",
    "        print(\"엘프가 공격함\")\n",
    "    # overriding\n",
    "    def move(self):\n",
    "        print(\"엘프가 이동함\")\n",
    "    # overriding : 추상메소드인 attack(), move() 는 \n",
    "    # 의무적으로 overriding 해야 하나\n",
    "    # 일반메소드인 say_hello() 는 선택적으로 하면 됨\n",
    "    def say_hello(self):\n",
    "        print(\"안녕하세요, 엘프입니다\")\n",
    "\n",
    "# 추상클래스인 Character 클래스를 상속받는\n",
    "# 일반클래스인 Human 클래스\n",
    "#   ㄴ 추상메소드를 가질 수 없음\n",
    "class Human(Character):\n",
    "    # overriding\n",
    "    def attack(self):\n",
    "        print(\"사람이 공격함\")\n",
    "    # overriding\n",
    "    def move(self):\n",
    "        print(\"사람이 이동함\")\n",
    "    # overriding : 추상메소드인 attack(), move() 는 \n",
    "    # 의무적으로 overriding 해야 하나\n",
    "    # 일반메소드인 say_hello() 는 선택적으로 하면 됨           \n",
    "    def say_hello(slef):\n",
    "        print(\"안녕하세요, 사람입니다\")  \n",
    "        \n",
    "elf = Elf()\n",
    "elf.attack()\n",
    "elf.move()\n",
    "elf.say_hello()\n",
    "print(\"-\" * 40)\n",
    "\n",
    "human = Human()\n",
    "human.attack()\n",
    "human.move()\n",
    "human.say_hello()\n",
    "print(\"-\" * 40)        \n",
    "\n",
    "# TypeError: Can't instantiate abstract class Character \n",
    "#            with abstract methods attack, move\n",
    "# c1 = Character()"
   ]
  },
  {
   "cell_type": "code",
   "execution_count": 29,
   "id": "a4d8de83",
   "metadata": {
    "ExecuteTime": {
     "end_time": "2022-03-17T02:39:52.243469Z",
     "start_time": "2022-03-17T02:39:52.230478Z"
    }
   },
   "outputs": [
    {
     "name": "stdout",
     "output_type": "stream",
     "text": [
      "학생이 밥을 먹습니다\n",
      "학생이 잠을 잡니다\n",
      "공부를 합니다\n",
      "학교를 갑니다\n",
      "----------------------------------------\n",
      "밥을 먹습니다\n",
      "잠을 잡니다\n",
      "일을 합니다\n",
      "출근합니다\n",
      "----------------------------------------\n"
     ]
    }
   ],
   "source": [
    "from abc import *\n",
    "\n",
    "class Person(metaclass=ABCMeta):\n",
    "    @abstractmethod\n",
    "    def eat(self):\n",
    "        pass\n",
    "    @abstractmethod\n",
    "    def sleep(self):\n",
    "        pass\n",
    "\n",
    "class Student(Person):\n",
    "    # Overriding\n",
    "    def eat(self):\n",
    "        print(\"학생이 밥을 먹습니다\")\n",
    "    #Overriding\n",
    "    def sleep(self):\n",
    "        print(\"학생이 잠을 잡니다\")\n",
    "    def study(self):\n",
    "        print(\"공부를 합니다\")\n",
    "    def go_to_school(self):\n",
    "        print(\"학교를 갑니다\")\n",
    "        \n",
    "class Worker(Person):\n",
    "    # Overriding\n",
    "    def eat(self):\n",
    "        print(\"밥을 먹습니다\")\n",
    "    #Overriding\n",
    "    def sleep(self):\n",
    "        print(\"잠을 잡니다\")\n",
    "    def work(self):\n",
    "        print(\"일을 합니다\")\n",
    "    def go_to_work(self):\n",
    "        print(\"출근합니다\")\n",
    "        \n",
    "s1 = Student()\n",
    "s1.eat()\n",
    "s1.sleep()\n",
    "s1.study()\n",
    "s1.go_to_school()\n",
    "print(\"-\" * 40)\n",
    "\n",
    "w1 = Worker()\n",
    "w1.eat()\n",
    "w1.sleep()\n",
    "w1.work()\n",
    "w1.go_to_work()\n",
    "print(\"-\" * 40)"
   ]
  },
  {
   "cell_type": "code",
   "execution_count": 30,
   "id": "0debfee8",
   "metadata": {
    "ExecuteTime": {
     "end_time": "2022-03-17T02:54:30.233443Z",
     "start_time": "2022-03-17T02:54:30.222449Z"
    }
   },
   "outputs": [
    {
     "name": "stdout",
     "output_type": "stream",
     "text": [
      "소방차가 불을 끄러 출동합니다\n",
      "소방차가 화재 현장에 도착했습니다\n",
      "엠뷸런스가 환자를 이송하러 출발합니다\n",
      "엠뷸런스가 병원에 도착했습니다\n",
      "순찰차가 순찰하러 출발합니다\n",
      "순찰차가 본부에 도착했습니다\n",
      "화물차가 화물을 운반하러 출발합니다\n",
      "화물차가 공장에 도착했습니다\n"
     ]
    }
   ],
   "source": [
    "from abc import *\n",
    "\n",
    "class Vehicle(metaclass=ABCMeta):\n",
    "    def __init__(self, name):\n",
    "        self.name = name\n",
    "    @abstractmethod\n",
    "    def start(self):\n",
    "        pass\n",
    "    @abstractmethod\n",
    "    def stop(self):\n",
    "        pass\n",
    "    \n",
    "class FireFight(Vehicle) :\n",
    "    def start(self):\n",
    "        print(f\"{self.name}가 불을 끄러 출동합니다\")\n",
    "    def stop(self):\n",
    "        print(f\"{self.name}가 화재 현장에 도착했습니다\")\n",
    "        \n",
    "class Ambulance(Vehicle):\n",
    "    def start(self):\n",
    "        print(f\"{self.name}가 환자를 이송하러 출발합니다\")\n",
    "    def stop(self):\n",
    "        print(f\"{self.name}가 병원에 도착했습니다\")\n",
    "\n",
    "class PatrolCar(Vehicle):\n",
    "    def start(self):\n",
    "        print(f\"{self.name}가 순찰하러 출발합니다\")\n",
    "    def stop(self):\n",
    "        print(f\"{self.name}가 본부에 도착했습니다\")\n",
    "        \n",
    "class FreightCar(Vehicle):      \n",
    "    def start(self):\n",
    "        print(f\"{self.name}가 화물을 운반하러 출발합니다\")\n",
    "    def stop(self):\n",
    "        print(f\"{self.name}가 공장에 도착했습니다\")\n",
    "        \n",
    "        \n",
    "# 다형성 구현하기\n",
    "\n",
    "list_vehicles = []\n",
    "\n",
    "list_vehicles .append(FireFight(\"소방차\"))\n",
    "list_vehicles.append(Ambulance(\"엠뷸런스\"))\n",
    "list_vehicles.append(PatrolCar(\"순찰차\"))\n",
    "list_vehicles.append(FreightCar(\"화물차\"))\n",
    "\n",
    "for car in list_vehicles:\n",
    "    car.start()\n",
    "    car.stop()   "
   ]
  },
  {
   "cell_type": "code",
   "execution_count": 31,
   "id": "5b7124e8",
   "metadata": {
    "ExecuteTime": {
     "end_time": "2022-03-17T03:03:06.693825Z",
     "start_time": "2022-03-17T03:03:06.684831Z"
    }
   },
   "outputs": [
    {
     "name": "stdout",
     "output_type": "stream",
     "text": [
      "안녕하세요 [부모클래스]\n",
      "아이가 뛰어 놉니다 [자식클래스]\n"
     ]
    }
   ],
   "source": [
    "'''\n",
    "상속관계\n",
    "'''\n",
    "class Parent:\n",
    "    def say_hello(self):\n",
    "        print(\"안녕하세요 [부모클래스]\")\n",
    "        \n",
    "class Child(Parent):\n",
    "    def play_ground(self):\n",
    "        print(\"아이가 뛰어 놉니다 [자식클래스]\")\n",
    "        \n",
    "c1 = Child()        \n",
    "c1.say_hello()\n",
    "c1.play_ground()"
   ]
  },
  {
   "cell_type": "code",
   "execution_count": 33,
   "id": "8c9c9e7f",
   "metadata": {
    "ExecuteTime": {
     "end_time": "2022-03-17T03:07:13.339834Z",
     "start_time": "2022-03-17T03:07:13.331828Z"
    }
   },
   "outputs": [
    {
     "name": "stdout",
     "output_type": "stream",
     "text": [
      "안녕하세요\n"
     ]
    }
   ],
   "source": [
    "'''\n",
    "포함관계 : Child 클래스에서 Parent 클래스의 객체의 주소를 저장하는 변수를\n",
    "           멤버변수로 선언하면 Child 클래스의 객체를 생성할 때\n",
    "           Parent 객체도 생성되어서 Parent 클래스의 멤버변수를\n",
    "           마치 Child 클래스의 멤버변수 처럼 사용할 수 있음\n",
    "           포함관계도 상속관계 처럼 code 의 재사용을 구현한 것\n",
    "           상속관계로 설정하지 않아도 다른 클래스의 멤버변수나 \n",
    "           멤버메소드를 사용할 수 있음\n",
    "'''\n",
    "class Parent:\n",
    "    def say_hello(self):\n",
    "        print(\"안녕하세요\")        \n",
    "class Child:\n",
    "    def __init__(self):\n",
    "        self.parent = Parent()\n",
    "    def play_ground(self):\n",
    "        print(\"아이가 뛰어 놉니다\")\n",
    "\n",
    "c1 = Child()        \n",
    "c1.parent.say_hello()"
   ]
  },
  {
   "cell_type": "code",
   "execution_count": 37,
   "id": "75fd6865",
   "metadata": {
    "ExecuteTime": {
     "end_time": "2022-03-17T03:20:32.946726Z",
     "start_time": "2022-03-17T03:20:32.931735Z"
    }
   },
   "outputs": [
    {
     "name": "stdout",
     "output_type": "stream",
     "text": [
      "덧셈 : 7\n",
      "뺄셈 : -1\n",
      "곱셈 : 12\n",
      "나눗셈 : 0.75\n",
      "제곱 : 0.75\n"
     ]
    }
   ],
   "source": [
    "class Calc4:\n",
    "    def __init__(self):\n",
    "        self.num1 = 3\n",
    "        self.num2 = 4\n",
    "    def add(self):\n",
    "        print(\"덧셈 :\",self.num1 + self.num2)\n",
    "    def sub(self):\n",
    "        print(\"뺄셈 :\",self.num1 - self.num2)\n",
    "    def multi(self):\n",
    "        print(\"곱셈 :\",self.num1 * self.num2)\n",
    "    def div(self):\n",
    "        print(\"나눗셈 :\",self.num1 / self.num2)\n",
    "        \n",
    "class Calc4Power:\n",
    "    def __init__(self):\n",
    "        self.num1 = 3\n",
    "        self.num2 = 4\n",
    "        self.calc4 = Calc4()\n",
    "    def power(self):\n",
    "        print(\"제곱 :\",self.num1 / self.num2)\n",
    "    \n",
    "cp1 = Calc4Power()\n",
    "cp1.calc4.add()\n",
    "cp1.calc4.sub()\n",
    "cp1.calc4.multi()\n",
    "cp1.calc4.div()\n",
    "cp1.power()\n",
    "        "
   ]
  },
  {
   "cell_type": "code",
   "execution_count": 38,
   "id": "590368fb",
   "metadata": {
    "ExecuteTime": {
     "end_time": "2022-03-17T04:50:39.988375Z",
     "start_time": "2022-03-17T04:50:39.966388Z"
    }
   },
   "outputs": [
    {
     "name": "stdout",
     "output_type": "stream",
     "text": [
      "calc2.add()      : 18\n",
      "calc2.sub()      : 2\n",
      "calc2.multiply() : 80\n"
     ]
    }
   ],
   "source": [
    "class Calc1:\n",
    "    def __init__(self, num1, num2):\n",
    "        self.num1 = num1\n",
    "        self.num2 = num2\n",
    "    def add(self):\n",
    "        return self.num1 + self.num2\n",
    "    def sub(self):\n",
    "        return self.num1 - self.num2\n",
    "    \n",
    "class Calc2:\n",
    "    def __init__(self, num1, num2):\n",
    "        self.num1 = num1\n",
    "        self.num2 = num2        \n",
    "        # 포함관계 - Calc2 클래스의 멤버변수로 \n",
    "        #            Calc1 type 의 변수를 선언함\n",
    "        self.calc1 = Calc1(self.num1, self.num2)\n",
    "    def multiply(self):\n",
    "        return self.num1 * self.num2\n",
    "    def add(self):\n",
    "        return self.calc1.add()\n",
    "    def sub(self):\n",
    "        return self.calc1.sub()\n",
    "\n",
    "calc2 = Calc2(10, 8)\n",
    "print(f\"calc2.add()      : {calc2.add()}\")\n",
    "print(f\"calc2.sub()      : {calc2.sub()}\")\n",
    "print(f\"calc2.multiply() : {calc2.multiply()}\")"
   ]
  },
  {
   "cell_type": "code",
   "execution_count": 40,
   "id": "485b51d0",
   "metadata": {
    "ExecuteTime": {
     "end_time": "2022-03-17T04:57:13.715618Z",
     "start_time": "2022-03-17T04:57:13.709611Z"
    }
   },
   "outputs": [
    {
     "name": "stdout",
     "output_type": "stream",
     "text": [
      "5! : 120\n"
     ]
    }
   ],
   "source": [
    "'''\n",
    "재귀함수 :  recursive  - 함수 내부에서 자기 자신을 호출하는 함수\n",
    " ㄴ self\n",
    "'''\n",
    "# Factorial : 5! <-- 5 X 4 X 3 X 2 X 1 - 120\n",
    "\n",
    "def factorial(number):\n",
    "    if number == 1:\n",
    "        return 1\n",
    "    return number * factorial(number - 1)\n",
    "\n",
    "print(\"5! :\",factorial(5))\n",
    "\n",
    "'''\n",
    "factorial(5)\n",
    "\n",
    "return 5 * factorial(5-1)\n",
    "           return (5-1) * factorial(5-1-1) \n",
    "                          return (5-1-1) * factorial(5-1-1-1)  \n",
    "                                           return (5-1-1-1) * factorial(5-1-1-1-1)  \n",
    "'''"
   ]
  },
  {
   "cell_type": "code",
   "execution_count": 41,
   "id": "ce660049",
   "metadata": {
    "ExecuteTime": {
     "end_time": "2022-03-17T05:08:29.222350Z",
     "start_time": "2022-03-17T05:08:29.206358Z"
    }
   },
   "outputs": [
    {
     "name": "stdout",
     "output_type": "stream",
     "text": [
      "32\n"
     ]
    }
   ],
   "source": [
    "'''\n",
    "재귀함수 사용해서 제곱 연산하기\n",
    "'''\n",
    "def power(n1, n2):\n",
    "    if n2 == 0:\n",
    "        return 1\n",
    "    else:\n",
    "        return (power(n1, n2 - 1) * n1)    \n",
    "print(power(2, 5))    \n"
   ]
  },
  {
   "cell_type": "code",
   "execution_count": 46,
   "id": "d2835754",
   "metadata": {
    "ExecuteTime": {
     "end_time": "2022-03-17T05:34:41.512141Z",
     "start_time": "2022-03-17T05:34:39.684125Z"
    }
   },
   "outputs": [
    {
     "name": "stdout",
     "output_type": "stream",
     "text": [
      "result : 32\n",
      "밑을 입력하세요 : 6\n",
      "지수를 입력하세요 : 3\n",
      "216\n"
     ]
    }
   ],
   "source": [
    "'''\n",
    "for문으로 2의 5 제곱 구하기\n",
    "'''\n",
    "base = 2\n",
    "exponent = 5\n",
    "result = 1\n",
    "for i in range(5):\n",
    "    result *= base\n",
    "print(\"result :\",result)\n",
    "\n",
    "def power2(base, exponent):\n",
    "    result = 1\n",
    "    for i in range(exponent):\n",
    "        result *= base\n",
    "    return result\n",
    "\n",
    "base = int(input(\"밑을 입력하세요 : \"))\n",
    "exponent = int(input(\"지수를 입력하세요 : \"))\n",
    "print(power2(base, exponent))"
   ]
  },
  {
   "cell_type": "code",
   "execution_count": 51,
   "id": "d2f5fe7e",
   "metadata": {
    "ExecuteTime": {
     "end_time": "2022-03-17T05:49:19.348158Z",
     "start_time": "2022-03-17T05:49:18.233170Z"
    }
   },
   "outputs": [
    {
     "name": "stdout",
     "output_type": "stream",
     "text": [
      "fibonacci(1) : 1\n",
      "fibonacci(2) : 1\n",
      "fibonacci(3) : 2\n",
      "fibonacci(4) : 3\n",
      "fibonacci(5) : 5\n",
      "----------------------------------------\n",
      "피보나치수열의 자릿수를 입력하세요 : 7\n",
      "fibonacci(number) : 13\n"
     ]
    }
   ],
   "source": [
    "'''\n",
    "재귀함수를 사용해서 피보나치수열 값 구하기\n",
    "                      ㄴ 1, 1, 2, 3, 5, 8, 13, 21, 34, 55, 89, ....\n",
    "232 page\n",
    "'''\n",
    "def fibonacci(n):\n",
    "    if n == 1:\n",
    "        return 1\n",
    "    if n == 2:\n",
    "        return 1\n",
    "    else:\n",
    "        return fibonacci(n-2) + fibonacci(n-1)\n",
    "    \n",
    "print(\"fibonacci(1) :\",fibonacci(1))\n",
    "print(\"fibonacci(2) :\",fibonacci(2))\n",
    "print(\"fibonacci(3) :\",fibonacci(3))\n",
    "print(\"fibonacci(4) :\",fibonacci(4))\n",
    "print(\"fibonacci(5) :\",fibonacci(5))\n",
    "print(\"-\" * 40)\n",
    "\n",
    "number = int(input(\"피보나치수열의 자릿수를 입력하세요 : \"))\n",
    "print(\"fibonacci(number) :\",fibonacci(number))"
   ]
  },
  {
   "cell_type": "code",
   "execution_count": 60,
   "id": "52d29fd2",
   "metadata": {
    "ExecuteTime": {
     "end_time": "2022-03-17T06:01:00.887281Z",
     "start_time": "2022-03-17T06:00:59.577920Z"
    }
   },
   "outputs": [
    {
     "name": "stdout",
     "output_type": "stream",
     "text": [
      "피보나치수열의 자릿수를 입력하세요 : 6\n",
      "----------------------------------------\n",
      "-- fibonacci 함수 내부 --\n",
      "fibonacci(6) 을 구합니다\n",
      "fibonacci(4) 을 구합니다\n",
      "fibonacci(2) 을 구합니다\n",
      "fibonacci(3) 을 구합니다\n",
      "fibonacci(1) 을 구합니다\n",
      "fibonacci(2) 을 구합니다\n",
      "fibonacci(5) 을 구합니다\n",
      "fibonacci(3) 을 구합니다\n",
      "fibonacci(1) 을 구합니다\n",
      "fibonacci(2) 을 구합니다\n",
      "fibonacci(4) 을 구합니다\n",
      "fibonacci(2) 을 구합니다\n",
      "fibonacci(3) 을 구합니다\n",
      "fibonacci(1) 을 구합니다\n",
      "fibonacci(2) 을 구합니다\n",
      "fibonacci2(6) : 8\n",
      "----------------------------------------\n",
      "fibonacci2(6) 계산에 활용된 덧셈 횟수는 15 번입니다\n"
     ]
    }
   ],
   "source": [
    "'''\n",
    "233 page\n",
    "'''\n",
    "counter = 0\n",
    "\n",
    "def fibonacci2(n):\n",
    "    print(f\"fibonacci({n}) 을 구합니다\")\n",
    "    global counter\n",
    "    counter += 1\n",
    "    if n == 1:\n",
    "        return 1\n",
    "    if n == 2:\n",
    "        return 1\n",
    "    else:\n",
    "        return fibonacci2(n-2) + fibonacci2(n-1)\n",
    "    \n",
    "number = int(input(\"피보나치수열의 자릿수를 입력하세요 : \"))\n",
    "print(\"-\" * 40)\n",
    "print(\"-- fibonacci 함수 내부 --\")\n",
    "\n",
    "print(f\"fibonacci2({number}) :\",fibonacci2(number))\n",
    "print(\"-\" * 40)\n",
    "\n",
    "print(f\"fibonacci2({number}) 계산에 활용된 덧셈 횟수는 {counter} 번입니다\")"
   ]
  },
  {
   "cell_type": "code",
   "execution_count": null,
   "id": "c4420ee6",
   "metadata": {},
   "outputs": [],
   "source": [
    "'''\n",
    "235 page\n",
    "'''\n",
    "counter = 0\n",
    "\n",
    "def fibonacci3(n):\n",
    "    # global counter 라고 선언하지 않으면\n",
    "    # 전역변수 counter 를 사용하지 못함\n",
    "    counter += 1\n",
    "    if n == 1:\n",
    "        return 1\n",
    "    if n == 2:\n",
    "        return 1\n",
    "    else:\n",
    "        return fibonacci3(n-2) + fibonacci3(n-1)\n",
    "    \n",
    "number = int(input(\"피보나치수열의 자릿수를 입력하세요 : \"))\n",
    "print(\"-\" * 40)\n",
    "print(\"-- fibonacci 함수 내부 --\")\n",
    "\n",
    "print(f\"fibonacci3({number}) :\",fibonacci3(number))\n",
    "print(\"-\" * 40)\n",
    "\n",
    "print(f\"fibonacci3({number}) 계산에 활용된 덧셈 횟수는 {counter} 번입니다\")"
   ]
  },
  {
   "cell_type": "code",
   "execution_count": 63,
   "id": "5c08e68f",
   "metadata": {
    "ExecuteTime": {
     "end_time": "2022-03-17T06:12:40.561429Z",
     "start_time": "2022-03-17T06:12:39.345567Z"
    }
   },
   "outputs": [
    {
     "name": "stdout",
     "output_type": "stream",
     "text": [
      "피보나치수열의 자릿수를 입력하세요 : 6\n",
      "----------------------------------------\n",
      "-- fibonacci 함수 내부 --\n",
      "fibonacci4(6) : 8\n",
      "----------------------------------------\n",
      "fibonacci4(6) 계산에 활용된 덧셈 횟수는 15 번입니다\n"
     ]
    }
   ],
   "source": [
    "'''\n",
    "236-237 page\n",
    "'''\n",
    "dict1 = {\n",
    "          1:1, \n",
    "          2:1\n",
    "        }\n",
    "\n",
    "def fibonacci4(n):\n",
    "    if n in dict1:\n",
    "        return dict1[n]\n",
    "    else:\n",
    "        output   =  fibonacci4(n-1) + fibonacci4(n-2)\n",
    "        dict1[n] = output\n",
    "        return output\n",
    "    \n",
    "number = int(input(\"피보나치수열의 자릿수를 입력하세요 : \"))\n",
    "print(\"-\" * 40)\n",
    "print(\"-- fibonacci 함수 내부 --\")\n",
    "\n",
    "print(f\"fibonacci4({number}) :\",fibonacci4(number))\n",
    "print(\"-\" * 40)\n",
    "\n",
    "print(f\"fibonacci4({number}) 계산에 활용된 덧셈 횟수는 {counter} 번입니다\")"
   ]
  },
  {
   "cell_type": "code",
   "execution_count": 64,
   "id": "b4a631ce",
   "metadata": {
    "ExecuteTime": {
     "end_time": "2022-03-17T06:14:44.879463Z",
     "start_time": "2022-03-17T06:14:43.560377Z"
    }
   },
   "outputs": [
    {
     "name": "stdout",
     "output_type": "stream",
     "text": [
      "피보나치수열의 자릿수를 입력하세요 : 6\n",
      "----------------------------------------\n",
      "-- fibonacci 함수 내부 --\n",
      "fibonacci5(6) : 8\n",
      "----------------------------------------\n",
      "fibonacci5(6) 계산에 활용된 덧셈 횟수는 15 번입니다\n"
     ]
    }
   ],
   "source": [
    "'''\n",
    "236-237 page\n",
    "'''\n",
    "dict1 = {\n",
    "          1:1, \n",
    "          2:1\n",
    "        }\n",
    "\n",
    "def fibonacci5(n):\n",
    "    if n in dict1:\n",
    "        return dict1[n]    \n",
    "    output   =  fibonacci5(n-1) + fibonacci5(n-2)\n",
    "    dict1[n] = output\n",
    "    return output\n",
    "    \n",
    "number = int(input(\"피보나치수열의 자릿수를 입력하세요 : \"))\n",
    "print(\"-\" * 40)\n",
    "print(\"-- fibonacci 함수 내부 --\")\n",
    "\n",
    "print(f\"fibonacci5({number}) :\",fibonacci5(number))\n",
    "print(\"-\" * 40)\n",
    "\n",
    "print(f\"fibonacci5({number}) 계산에 활용된 덧셈 횟수는 {counter} 번입니다\")"
   ]
  },
  {
   "cell_type": "code",
   "execution_count": null,
   "id": "2cd06c83",
   "metadata": {},
   "outputs": [],
   "source": []
  }
 ],
 "metadata": {
  "hide_input": false,
  "kernelspec": {
   "display_name": "Python 3 (ipykernel)",
   "language": "python",
   "name": "python3"
  },
  "language_info": {
   "codemirror_mode": {
    "name": "ipython",
    "version": 3
   },
   "file_extension": ".py",
   "mimetype": "text/x-python",
   "name": "python",
   "nbconvert_exporter": "python",
   "pygments_lexer": "ipython3",
   "version": "3.9.7"
  },
  "toc": {
   "base_numbering": 1,
   "nav_menu": {},
   "number_sections": true,
   "sideBar": true,
   "skip_h1_title": false,
   "title_cell": "Table of Contents",
   "title_sidebar": "Contents",
   "toc_cell": false,
   "toc_position": {},
   "toc_section_display": true,
   "toc_window_display": false
  },
  "varInspector": {
   "cols": {
    "lenName": 16,
    "lenType": 16,
    "lenVar": 40
   },
   "kernels_config": {
    "python": {
     "delete_cmd_postfix": "",
     "delete_cmd_prefix": "del ",
     "library": "var_list.py",
     "varRefreshCmd": "print(var_dic_list())"
    },
    "r": {
     "delete_cmd_postfix": ") ",
     "delete_cmd_prefix": "rm(",
     "library": "var_list.r",
     "varRefreshCmd": "cat(var_dic_list()) "
    }
   },
   "types_to_exclude": [
    "module",
    "function",
    "builtin_function_or_method",
    "instance",
    "_Feature"
   ],
   "window_display": false
  }
 },
 "nbformat": 4,
 "nbformat_minor": 5
}
