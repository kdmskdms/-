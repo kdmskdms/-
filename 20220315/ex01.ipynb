{
 "cells": [
  {
   "cell_type": "code",
   "execution_count": 3,
   "id": "e6abe674",
   "metadata": {
    "ExecuteTime": {
     "end_time": "2022-03-15T00:46:25.792112Z",
     "start_time": "2022-03-15T00:46:25.775123Z"
    }
   },
   "outputs": [
    {
     "name": "stdout",
     "output_type": "stream",
     "text": [
      "당신의 이름은 글로벌 입니다\n",
      "이름 : 글로벌, 나이 : 25, 키 : 187, 몸무게 : 70\n",
      "이름 : 글로벌, 나이 : 25, 키 : 187, 몸무게 : 70\n"
     ]
    }
   ],
   "source": [
    "class Person:\n",
    "    def __init__(self):\n",
    "        self.__name = \"\"\n",
    "        self.__age  = 0\n",
    "        self.__height = 0\n",
    "        self.__weight = 0\n",
    "        \n",
    "    # getter : @property\n",
    "    @property\n",
    "    def name(self):\n",
    "        return self.__name\n",
    "    @property\n",
    "    def age(self):\n",
    "        return self.__age\n",
    "    @property\n",
    "    def height(self):\n",
    "        return self.__height\n",
    "    @property\n",
    "    def weight(self):\n",
    "        return self.__weight\n",
    "    \n",
    "    # setter : @맴버변수이름.setter\n",
    "    @name.setter\n",
    "    def name(self, name):\n",
    "        print(f\"당신의 이름은 {name} 입니다\")\n",
    "        if len(name) < 2:\n",
    "            print(\"이름은 두 자 이상 입력해 주세요\")\n",
    "            return\n",
    "        self.__name = name\n",
    "    @age.setter\n",
    "    def age(self, age):\n",
    "        if age <= 0:\n",
    "            print(\"나이는 양수만 입력해 주세요\")\n",
    "            return\n",
    "        self.__age = age\n",
    "    @height.setter\n",
    "    def height(self, height):\n",
    "        if height < 100:\n",
    "            print(\"키는 100 이상만 입력해 주세요\")\n",
    "            return\n",
    "        self.__height = height\n",
    "    @weight.setter\n",
    "    def weight(self, weight):\n",
    "        if weight < 50:\n",
    "            print(\"몸무게는 50 이상만 입력해 주세요\")\n",
    "            return\n",
    "        self.__weight = weight\n",
    "        \n",
    "    def __str__(self):\n",
    "        # 같은 클래스 안에 있는 메소드(__str__)에서\n",
    "        # private 멤버변수들의 값을 가져옴\n",
    "        return f\"이름 : {p1.__name}, 나이 : {p1.__age}, 키 : {p1.__height}, 몸무게 : {p1.__weight}\"\n",
    "    \n",
    "p1 = Person()\n",
    "p1.name = \"글로벌\"\n",
    "p1.age  = 25\n",
    "p1.height = 187\n",
    "p1.weight = 70\n",
    "\n",
    "print(p1)\n",
    "\n",
    "# getter 을 호출해서 값을 가져옴\n",
    "print(f\"이름 : {p1.name}, 나이 : {p1.age}, 키 : {p1.height}, 몸무게 : {p1.weight}\") "
   ]
  },
  {
   "cell_type": "code",
   "execution_count": 12,
   "id": "076c5406",
   "metadata": {
    "ExecuteTime": {
     "end_time": "2022-03-15T00:50:24.382192Z",
     "start_time": "2022-03-15T00:50:24.366200Z"
    }
   },
   "outputs": [
    {
     "name": "stdout",
     "output_type": "stream",
     "text": [
      "당신의 이름은 김 입니다\n",
      "이름은 두 자 이상 입력해 주세요\n",
      "p2.name : \n",
      "--------------------------------------------------\n",
      "당신의 이름은 이훈 입니다\n",
      "p2.name : 이훈\n",
      "--------------------------------------------------\n",
      "나이는 양수만 입력해 주세요\n",
      "p2.age : 23\n",
      "--------------------------------------------------\n",
      "키는 100 이상만 입력해 주세요\n",
      "p2.height : 0\n",
      "p2.height : 182\n",
      "--------------------------------------------------\n",
      "몸무게는 50 이상만 입력해 주세요\n",
      "p2.weight : 0\n",
      "p2.weight : 69\n"
     ]
    }
   ],
   "source": [
    "p2 = Person()\n",
    "p2.name = \"김\"\n",
    "print(\"p2.name :\",p2.name)\n",
    "print(\"-\" * 50)\n",
    "p2.name = \"이훈\"\n",
    "print(\"p2.name :\",p2.name)\n",
    "print(\"-\" * 50)\n",
    "p2.age = -12\n",
    "p2.age = 23\n",
    "print(\"p2.age :\",p2.age)\n",
    "print(\"-\" * 50)\n",
    "p2.height = 99\n",
    "print(\"p2.height :\",p2.height)\n",
    "p2.height = 182\n",
    "print(\"p2.height :\",p2.height)\n",
    "print(\"-\" * 50)\n",
    "p2.weight = 34\n",
    "print(\"p2.weight :\",p2.weight)\n",
    "p2.weight = 69\n",
    "print(\"p2.weight :\",p2.weight)"
   ]
  },
  {
   "cell_type": "code",
   "execution_count": 15,
   "id": "ca6ad3b6",
   "metadata": {
    "ExecuteTime": {
     "end_time": "2022-03-15T00:59:13.152003Z",
     "start_time": "2022-03-15T00:59:13.133981Z"
    }
   },
   "outputs": [
    {
     "name": "stdout",
     "output_type": "stream",
     "text": [
      "파이썬 - 생성되었습니다\n"
     ]
    }
   ],
   "source": [
    "'''\n",
    "378 page\n",
    "소멸자\n",
    "'''\n",
    "class Test:\n",
    "    def __init__(self, name):\n",
    "        self.name = name\n",
    "        print(\"{} - 생성되었습니다\".format(self.name))\n",
    "    def __del__(self):\n",
    "        print(\"{} - 소멸되었습니다\".format(self.name))\n",
    "        \n",
    "t1 = Test(\"파이썬\")\n",
    "del t1"
   ]
  },
  {
   "cell_type": "code",
   "execution_count": 37,
   "id": "f4d7e537",
   "metadata": {
    "ExecuteTime": {
     "end_time": "2022-03-15T02:08:48.994354Z",
     "start_time": "2022-03-15T02:08:48.977353Z"
    }
   },
   "outputs": [
    {
     "name": "stdout",
     "output_type": "stream",
     "text": [
      "이름\t총점\t평균\n",
      "윤인성\t368\t92.0\n",
      "연하진\t384\t96.0\n",
      "구지연\t356\t89.0\n",
      "나선주\t378\t94.5\n",
      "윤아린\t389\t97.25\n",
      "윤명월\t336\t84.0\n"
     ]
    }
   ],
   "source": [
    "'''\n",
    "371 page\n",
    "'''\n",
    "students = [\n",
    "            {\"name\":\"윤인성\",\"korean\":87,\"math\":98,\"english\":88,\"science\":95},\n",
    "            {\"name\":\"연하진\",\"korean\":92,\"math\":98,\"english\":96,\"science\":98},\n",
    "            {\"name\":\"구지연\",\"korean\":76,\"math\":96,\"english\":94,\"science\":90},\n",
    "            {\"name\":\"나선주\",\"korean\":98,\"math\":92,\"english\":96,\"science\":92},\n",
    "            {\"name\":\"윤아린\",\"korean\":95,\"math\":98,\"english\":98,\"science\":98},\n",
    "            {\"name\":\"윤명월\",\"korean\":64,\"math\":88,\"english\":92,\"science\":92}\n",
    "           ]\n",
    "\n",
    "print(\"이름\", \"총점\", \"평균\", sep=\"\\t\")\n",
    "\n",
    "for student in students:\n",
    "    # 평균, 총점 구하기\n",
    "    score_sum = student[\"korean\"] + student[\"math\"]+ student[\"english\"]+ student[\"science\"]\n",
    "    score_average = score_sum / (len(students[0].values()) - 1)\n",
    "    print(student[\"name\"], score_sum, score_average, sep=\"\\t\")    "
   ]
  },
  {
   "cell_type": "code",
   "execution_count": 23,
   "id": "463713c3",
   "metadata": {
    "ExecuteTime": {
     "end_time": "2022-03-15T01:37:57.696400Z",
     "start_time": "2022-03-15T01:37:57.675412Z"
    }
   },
   "outputs": [
    {
     "name": "stdout",
     "output_type": "stream",
     "text": [
      "이름\t총점\t평균\n",
      "윤인성\t368\t92.0\n",
      "연하진\t384\t96.0\n",
      "구지연\t356\t89.0\n",
      "나선주\t378\t94.5\n",
      "윤아린\t389\t97.25\n",
      "윤명월\t336\t84.0\n"
     ]
    }
   ],
   "source": [
    "'''\n",
    "372 - 373 page\n",
    "'''\n",
    "def create_student(name, korean, math, english, science):\n",
    "    return {\"name\":name,\"korean\":korean,\"math\":math,\"english\":english,\"science\":science}\n",
    "\n",
    "students = [\n",
    "             create_student(\"윤인성\",87,98,88,95),\n",
    "             create_student(\"연하진\",92,98,96,98),\n",
    "             create_student(\"구지연\",76,96,94,90),\n",
    "             create_student(\"나선주\",98,92,96,92),\n",
    "             create_student(\"윤아린\",95,98,98,98),\n",
    "             create_student(\"윤명월\",64,88,92,92)\n",
    "           ]\n",
    "\n",
    "print(\"이름\", \"총점\", \"평균\", sep=\"\\t\")\n",
    "\n",
    "for student in students:\n",
    "    # 평균, 총점 구하기\n",
    "    score_sum = student[\"korean\"] + student[\"math\"]+ student[\"english\"]+ student[\"science\"]\n",
    "    score_average = score_sum / (len(students[0].values()) - 1)\n",
    "    print(student[\"name\"], score_sum, score_average, sep=\"\\t\")   "
   ]
  },
  {
   "cell_type": "code",
   "execution_count": 27,
   "id": "a923ec80",
   "metadata": {
    "ExecuteTime": {
     "end_time": "2022-03-15T01:52:30.251406Z",
     "start_time": "2022-03-15T01:52:30.235415Z"
    }
   },
   "outputs": [
    {
     "name": "stdout",
     "output_type": "stream",
     "text": [
      "이름\t총점\t평균\n",
      "윤인성\t368\t92.0\n",
      "연하진\t384\t96.0\n",
      "구지연\t356\t89.0\n",
      "나선주\t378\t94.5\n",
      "윤아린\t389\t97.25\n",
      "윤명월\t336\t84.0\n"
     ]
    }
   ],
   "source": [
    "'''\n",
    "374 - 375  page\n",
    "'''\n",
    "def create_student(name, korean, math, english, science):\n",
    "    return {\"name\":name,\"korean\":korean,\"math\":math,\"english\":english,\"science\":science}\n",
    "\n",
    "# 총점 구하기\n",
    "def student_get_sum(student):\n",
    "    return student[\"korean\"] + student[\"math\"]+ student[\"english\"]+ student[\"science\"]\n",
    "\n",
    "# 평균 구하기\n",
    "def student_get_average(student):\n",
    "    return student_get_sum(student) /  (len(student.values()) - 1)\n",
    "\n",
    "# 출력할 문자열 만들기\n",
    "def student_to_string(student):\n",
    "    return f'{student[\"name\"]}\\t{student_get_sum(student)}\\t{student_get_average(student)}'\n",
    "\n",
    "# 학생 리스트 선언하기\n",
    "students = [\n",
    "             create_student(\"윤인성\",87,98,88,95),\n",
    "             create_student(\"연하진\",92,98,96,98),\n",
    "             create_student(\"구지연\",76,96,94,90),\n",
    "             create_student(\"나선주\",98,92,96,92),\n",
    "             create_student(\"윤아린\",95,98,98,98),\n",
    "             create_student(\"윤명월\",64,88,92,92)\n",
    "           ]\n",
    "'''\n",
    "위의 code 를 실행하면 아래와 같은 list 가 생성됨\n",
    "students = [\n",
    "            {\"name\":\"윤인성\",\"korean\":87,\"math\":98,\"english\":88,\"science\":95},\n",
    "            {\"name\":\"연하진\",\"korean\":92,\"math\":98,\"english\":96,\"science\":98},\n",
    "            {\"name\":\"구지연\",\"korean\":76,\"math\":96,\"english\":94,\"science\":90},\n",
    "            {\"name\":\"나선주\",\"korean\":98,\"math\":92,\"english\":96,\"science\":92},\n",
    "            {\"name\":\"윤아린\",\"korean\":95,\"math\":98,\"english\":98,\"science\":98},\n",
    "            {\"name\":\"윤명월\",\"korean\":64,\"math\":88,\"english\":92,\"science\":92}\n",
    "           ]\n",
    "'''\n",
    "\n",
    "# 총점 평균 출력하기\n",
    "print(\"이름\", \"총점\", \"평균\", sep=\"\\t\")\n",
    "\n",
    "for student in students:\n",
    "    print(student_to_string(student))   "
   ]
  },
  {
   "cell_type": "code",
   "execution_count": 53,
   "id": "ab909266",
   "metadata": {
    "ExecuteTime": {
     "end_time": "2022-03-15T02:50:14.652360Z",
     "start_time": "2022-03-15T02:50:14.638356Z"
    }
   },
   "outputs": [
    {
     "name": "stdout",
     "output_type": "stream",
     "text": [
      "이름\t총점\t평균\n",
      "윤인성\t368\t92.0\n",
      "연하진\t384\t96.0\n",
      "구지연\t356\t89.0\n",
      "나선주\t378\t94.5\n",
      "윤아린\t389\t97.25\n",
      "윤아린\t389\t97.25\n"
     ]
    }
   ],
   "source": [
    "'''\n",
    "377 - 380 page\n",
    "'''\n",
    "class Student:\n",
    "    def __init__(self, name, korean, math, english, science):\n",
    "        self.name = name\n",
    "        self.korean = korean\n",
    "        self.math = math\n",
    "        self.english = english\n",
    "        self.science = science\n",
    "        \n",
    "    # 379 page\n",
    "    def get_sum(self):\n",
    "        return self.korean + self.math + self.english + self.science\n",
    "    \n",
    "    # 380 page\n",
    "    def get_average(self):\n",
    "        return self.get_sum() / 4\n",
    "    \n",
    "    # 출력할 문자열 만들기\n",
    "    '''\n",
    "    def to_string(self):\n",
    "        return f'{self.name}\\t{self.get_sum()}\\t{self.get_average()}'\n",
    "    '''\n",
    "    def __str__(self):\n",
    "        return f'{self.name}\\t{self.get_sum()}\\t{self.get_average()}'\n",
    "                \n",
    "        \n",
    "students = [\n",
    "             Student(\"윤인성\",87,98,88,95),\n",
    "             Student(\"연하진\",92,98,96,98),\n",
    "             Student(\"구지연\",76,96,94,90),\n",
    "             Student(\"나선주\",98,92,96,92),\n",
    "             Student(\"윤아린\",95,98,98,98),\n",
    "             Student(\"윤아린\",95,98,98,98),\n",
    "           ]        \n",
    "\n",
    "# 총점 평균 출력하기\n",
    "print(\"이름\", \"총점\", \"평균\", sep=\"\\t\")\n",
    "\n",
    "'''\n",
    "# to_string() 을 사용하는 경우  \n",
    "for student in students:\n",
    "    print(student.to_string())   \n",
    "'''    \n",
    "# __str__() 을 사용하는 경우\n",
    "for student in students:\n",
    "    print(student)"
   ]
  },
  {
   "cell_type": "code",
   "execution_count": 43,
   "id": "923f2fd7",
   "metadata": {
    "ExecuteTime": {
     "end_time": "2022-03-15T02:28:04.578718Z",
     "start_time": "2022-03-15T02:28:04.567740Z"
    }
   },
   "outputs": [
    {
     "name": "stdout",
     "output_type": "stream",
     "text": [
      "isinstance(s1, Student2) : True\n",
      "isinstance(s2, Student2) : True\n",
      "isinstance(s1, Teacher) : False\n",
      "isinstance(s2, Teacher) : False\n",
      "isinstance(t1, Student2) : False\n",
      "isinstance(t2, Student2) : False\n",
      "isinstance(t1, Teacher) : True\n",
      "isinstance(t2, Teacher) : True\n"
     ]
    }
   ],
   "source": [
    "'''\n",
    "385  page\n",
    "'''\n",
    "class Teacher:\n",
    "    def __init__(self, name):\n",
    "        self.name = name\n",
    "        \n",
    "class Student2:\n",
    "    def __init__(self, name):\n",
    "        self.name = name\n",
    "        \n",
    "s1 = Student2(\"글로벌\")\n",
    "s2 = Student2(\"아이티\")\n",
    "t1 = Teacher(\"인재\")\n",
    "t2 = Teacher(\"개발원\")\n",
    "\n",
    "'''\n",
    "isinstance(변수, 클래스이름)\n",
    "  ㄴ 변수에 저장된 주소지에 클래스이름의 클래스의 객체가 있는지 물어봄\n",
    "     있으면 True, 없으면 False 를 반환함\n",
    "'''\n",
    "print(\"isinstance(s1, Student2) :\",isinstance(s1, Student2))\n",
    "print(\"isinstance(s2, Student2) :\",isinstance(s2, Student2))\n",
    "print(\"isinstance(s1, Teacher) :\",isinstance(s1, Teacher))\n",
    "print(\"isinstance(s2, Teacher) :\",isinstance(s2, Teacher))\n",
    "print(\"isinstance(t1, Student2) :\",isinstance(t1, Student2))\n",
    "print(\"isinstance(t2, Student2) :\",isinstance(t2, Student2))\n",
    "print(\"isinstance(t1, Teacher) :\",isinstance(t1, Teacher))\n",
    "print(\"isinstance(t2, Teacher) :\",isinstance(t2, Teacher))"
   ]
  },
  {
   "cell_type": "code",
   "execution_count": 45,
   "id": "afdfe739",
   "metadata": {
    "ExecuteTime": {
     "end_time": "2022-03-15T02:44:31.957990Z",
     "start_time": "2022-03-15T02:44:31.943997Z"
    }
   },
   "outputs": [
    {
     "name": "stdout",
     "output_type": "stream",
     "text": [
      "공부를 합니다\n",
      "공부를 합니다\n",
      "학생을 가르칩니다\n",
      "공부를 합니다\n",
      "학생을 가르칩니다\n"
     ]
    }
   ],
   "source": [
    "'''\n",
    "386 - 387 page\n",
    "'''\n",
    "class Student3:\n",
    "    def study(self):\n",
    "        print(\"공부를 합니다\")\n",
    "\n",
    "class Teacher3:\n",
    "    def teach(self):\n",
    "        print(\"학생을 가르칩니다\")\n",
    "        \n",
    "classroom = [Student3(), Student3(), Teacher3(), Student3(), Teacher3()]        \n",
    "\n",
    "s1 = Student3()\n",
    "s2 = Student3()\n",
    "t1 = Teacher3()\n",
    "s3 = Student3()\n",
    "t2 = Teacher3()\n",
    "classroom = [s1, s2, t1, s3, t2]\n",
    "\n",
    "for person in classroom:\n",
    "    if isinstance(person, Student3):\n",
    "        person.study()\n",
    "    elif isinstance(person, Teacher3):\n",
    "        person.teach()"
   ]
  },
  {
   "cell_type": "code",
   "execution_count": 69,
   "id": "bffe4d38",
   "metadata": {
    "ExecuteTime": {
     "end_time": "2022-03-15T03:10:59.806241Z",
     "start_time": "2022-03-15T03:10:59.781243Z"
    }
   },
   "outputs": [
    {
     "name": "stdout",
     "output_type": "stream",
     "text": [
      "yoon == yeon : False\n",
      "yoon != yeon : True\n",
      "yoon > yeon : False\n",
      "yoon >= yeon : False\n",
      "yoon < yeon : True\n",
      "yoon <= yeon : True\n",
      "--------------------------------------------------\n",
      "yoon.__eq__(yeon) : False\n",
      "yoon.__ne__(yeon) : True\n",
      "yoon.__gt__(yeon) : False\n",
      "yoon.__ge__(yeon) : False\n",
      "yoon.__lt__(yeon) : True\n",
      "yoon.__le__(yeon) : True\n"
     ]
    }
   ],
   "source": [
    "'''\n",
    "390 - 391 page\n",
    "'''\n",
    "class Student4:\n",
    "    def __init__(self, name, korean, math, english, science):\n",
    "        self.name = name\n",
    "        self.korean = korean\n",
    "        self.math = math\n",
    "        self.english = english\n",
    "        self.science = science\n",
    "        \n",
    "    def get_sum(self):\n",
    "        return self.korean + self.math + self.english + self.science\n",
    "    \n",
    "    def get_average(self):\n",
    "        return self.get_sum() / 4\n",
    "    \n",
    "    # 출력할 문자열 만들기\n",
    "    '''\n",
    "    def to_string(self):\n",
    "        return f'{self.name}\\t{self.get_sum()}\\t{self.get_average()}'\n",
    "    '''\n",
    "    def __str__(self):\n",
    "        return f'{self.name}\\t{self.get_sum()}\\t{self.get_average()}'\n",
    "    \n",
    "    def __eq__(self, value):\n",
    "        return self.get_sum() == value.get_sum()\n",
    "    def __ne__(self, value):\n",
    "        return self.get_sum() != value.get_sum()\n",
    "    def __gt__(self, value):\n",
    "        return self.get_sum() > value.get_sum()\n",
    "    def __ge__(self, value):\n",
    "        return self.get_sum() >= value.get_sum()\n",
    "    def __lt__(self, value):\n",
    "        return self.get_sum() < value.get_sum()\n",
    "    def __le__(self, value):\n",
    "        return self.get_sum() <= value.get_sum()\n",
    "'''\n",
    "students = [\n",
    "             Student4(\"윤인성\",87,98,88,95),\n",
    "             Student4(\"연하진\",92,98,96,98),\n",
    "             Student4(\"구지연\",76,96,94,90),\n",
    "             Student4(\"나선주\",98,92,96,92),\n",
    "             Student4(\"윤아린\",95,98,98,98),\n",
    "             Student4(\"윤아린\",95,98,98,98),\n",
    "           ]        \n",
    "'''    \n",
    "# 학생 선언하기 : Student 클래스의 객체 생성하기\n",
    "yoon = Student4(\"윤인성\",87,98,88,95)\n",
    "yeon = Student4(\"연하진\",92,98,96,98)\n",
    "\n",
    "# 출력하기\n",
    "print(\"yoon == yeon :\",yoon == yeon)\n",
    "print(\"yoon != yeon :\",yoon != yeon)\n",
    "print(\"yoon > yeon :\",yoon > yeon)\n",
    "print(\"yoon >= yeon :\",yoon >= yeon)\n",
    "print(\"yoon < yeon :\",yoon < yeon)\n",
    "print(\"yoon <= yeon :\",yoon <= yeon)\n",
    "print(\"-\" * 50)\n",
    "\n",
    "'''\n",
    "              ┌ __eq__() 메소드가 실행할 때 사용하는 대상이 되는 객체(목적어)\n",
    "yoon.__eq__(yeon)\n",
    " ㄴ __eq__() 메소드를 실행하는 주체가 되는 객체(주어)\n",
    " \n",
    "'''\n",
    "print(\"yoon.__eq__(yeon) :\",yoon.__eq__(yeon))\n",
    "print(\"yoon.__ne__(yeon) :\",yoon.__ne__(yeon))\n",
    "print(\"yoon.__gt__(yeon) :\",yoon.__gt__(yeon))\n",
    "print(\"yoon.__ge__(yeon) :\",yoon.__ge__(yeon))\n",
    "print(\"yoon.__lt__(yeon) :\",yoon.__lt__(yeon))\n",
    "print(\"yoon.__le__(yeon) :\",yoon.__le__(yeon))\n"
   ]
  },
  {
   "cell_type": "code",
   "execution_count": null,
   "id": "63f8892a",
   "metadata": {},
   "outputs": [],
   "source": [
    "class Resource:\n",
    "    def __"
   ]
  },
  {
   "cell_type": "code",
   "execution_count": null,
   "id": "1d11aabd",
   "metadata": {},
   "outputs": [],
   "source": []
  },
  {
   "cell_type": "code",
   "execution_count": null,
   "id": "592f7ad3",
   "metadata": {},
   "outputs": [],
   "source": []
  }
 ],
 "metadata": {
  "hide_input": false,
  "kernelspec": {
   "display_name": "Python 3 (ipykernel)",
   "language": "python",
   "name": "python3"
  },
  "language_info": {
   "codemirror_mode": {
    "name": "ipython",
    "version": 3
   },
   "file_extension": ".py",
   "mimetype": "text/x-python",
   "name": "python",
   "nbconvert_exporter": "python",
   "pygments_lexer": "ipython3",
   "version": "3.9.7"
  },
  "toc": {
   "base_numbering": 1,
   "nav_menu": {},
   "number_sections": true,
   "sideBar": true,
   "skip_h1_title": false,
   "title_cell": "Table of Contents",
   "title_sidebar": "Contents",
   "toc_cell": false,
   "toc_position": {},
   "toc_section_display": true,
   "toc_window_display": false
  },
  "varInspector": {
   "cols": {
    "lenName": 16,
    "lenType": 16,
    "lenVar": 40
   },
   "kernels_config": {
    "python": {
     "delete_cmd_postfix": "",
     "delete_cmd_prefix": "del ",
     "library": "var_list.py",
     "varRefreshCmd": "print(var_dic_list())"
    },
    "r": {
     "delete_cmd_postfix": ") ",
     "delete_cmd_prefix": "rm(",
     "library": "var_list.r",
     "varRefreshCmd": "cat(var_dic_list()) "
    }
   },
   "types_to_exclude": [
    "module",
    "function",
    "builtin_function_or_method",
    "instance",
    "_Feature"
   ],
   "window_display": false
  }
 },
 "nbformat": 4,
 "nbformat_minor": 5
}
