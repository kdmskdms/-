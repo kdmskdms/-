{
 "cells": [
  {
   "cell_type": "code",
   "execution_count": 4,
   "id": "d1729d8c",
   "metadata": {},
   "outputs": [
    {
     "name": "stdout",
     "output_type": "stream",
     "text": [
      "당신의 이름은 글로벌입니다\n",
      "이름 : 글로벌, 나이 : 25, 키 : 187, 몸무게 : 70\n",
      "이름 : 글로벌, 나이 : 25, 키 : 187, 몸무게 : 70\n"
     ]
    }
   ],
   "source": [
    "class Person:\n",
    "    def __init__(self):\n",
    "        self.__name = \"\"\n",
    "        self.__age = 0\n",
    "        self.__height = 0\n",
    "        self.__weight = 0\n",
    "    \n",
    "    @property\n",
    "    def name(self):\n",
    "        return self.__name\n",
    "    @property\n",
    "    def age(self):\n",
    "        return self.__age\n",
    "    @property\n",
    "    def height(self):\n",
    "        return self.__height\n",
    "    @property\n",
    "    def weight(self):\n",
    "        return self.__weight\n",
    "    \n",
    "    @name.setter\n",
    "    def name(self, name):\n",
    "        print(f\"당신의 이름은 {name}입니다\")\n",
    "        if len(name) < 2:\n",
    "            print(\"이름은 두 자 이상 입력해 주세요\")\n",
    "            return\n",
    "        self.__name = name\n",
    "    @age.setter\n",
    "    def age(self, age):\n",
    "        if age <= 0:\n",
    "            print(\"나이는 양수만 입력해 주세요\")\n",
    "            return\n",
    "        self.__age = age\n",
    "    @height.setter\n",
    "    def height(self, height):\n",
    "        if height < 100:\n",
    "            print(\"키는 100 이상만 입력해 주세요\")\n",
    "            return\n",
    "        self.__height = height\n",
    "    @weight.setter\n",
    "    def weight(self, weight):\n",
    "        if weight < 50:\n",
    "            print(\"몸무게는 50 이상만 입력해 주세요\")\n",
    "            return\n",
    "        self.__weight = weight\n",
    "        \n",
    "    def __str__(self):\n",
    "        \n",
    "        return f\"이름 : {p1.__name}, 나이 : {p1.__age}, 키 : {p1.__height}, 몸무게 : {p1.__weight}\"\n",
    "\n",
    "p1 = Person()\n",
    "p1.name = \"글로벌\"\n",
    "p1.age  = 25\n",
    "p1.height = 187\n",
    "p1.weight = 70\n",
    "\n",
    "print(p1)\n",
    "print(f\"이름 : {p1.name}, 나이 : {p1.age}, 키 : {p1.height}, 몸무게 : {p1.weight}\") "
   ]
  },
  {
   "cell_type": "code",
   "execution_count": 7,
   "id": "a5e53c8b",
   "metadata": {},
   "outputs": [
    {
     "name": "stdout",
     "output_type": "stream",
     "text": [
      "당신의 이름은 김입니다\n",
      "이름은 두 자 이상 입력해 주세요\n",
      "p2.name : \n",
      "--------------------------------------------------\n",
      "당신의 이름은 이훈입니다\n",
      "p2.name : 이훈\n",
      "--------------------------------------------------\n",
      "나이는 양수만 입력해 주세요\n",
      "p2.age : 23\n",
      "--------------------------------------------------\n",
      "키는 100 이상만 입력해 주세요\n",
      "p2.height : 0\n",
      "p2.height : 182\n",
      "--------------------------------------------------\n",
      "몸무게는 50 이상만 입력해 주세요\n",
      "p2.weight : 0\n",
      "p2.weight : 69\n"
     ]
    }
   ],
   "source": [
    "p2 = Person()\n",
    "p2.name = \"김\"\n",
    "print(\"p2.name :\", p2.name)\n",
    "print(\"-\" * 50)\n",
    "p2.name = \"이훈\"\n",
    "print(\"p2.name :\", p2.name)\n",
    "print(\"-\" * 50)\n",
    "\n",
    "p2.age = -12\n",
    "p2.age = 23\n",
    "print(\"p2.age :\",p2.age)\n",
    "print(\"-\" * 50)\n",
    "\n",
    "p2.height = 99\n",
    "print(\"p2.height :\",p2.height)\n",
    "p2.height = 182\n",
    "print(\"p2.height :\",p2.height)\n",
    "print(\"-\" * 50)\n",
    "\n",
    "p2.weight = 34\n",
    "print(\"p2.weight :\",p2.weight)\n",
    "p2.weight = 69\n",
    "print(\"p2.weight :\",p2.weight)"
   ]
  },
  {
   "cell_type": "code",
   "execution_count": 9,
   "id": "9dd9bed5",
   "metadata": {},
   "outputs": [
    {
     "name": "stdout",
     "output_type": "stream",
     "text": [
      "파이썬 - 생성되었습니다\n",
      "파이썬 - 소멸되었습니다\n"
     ]
    }
   ],
   "source": [
    "class Test:\n",
    "    def __init__(self, name):\n",
    "        self.name = name\n",
    "        print(\"{} - 생성되었습니다\".format(self.name))\n",
    "    def __del__(self):\n",
    "        print(\"{} - 소멸되었습니다\".format(self.name))\n",
    "        \n",
    "t1 = Test(\"파이썬\")\n",
    "del t1"
   ]
  },
  {
   "cell_type": "code",
   "execution_count": 10,
   "id": "a0758d18",
   "metadata": {},
   "outputs": [
    {
     "name": "stdout",
     "output_type": "stream",
     "text": [
      "이름\t총점\t평균\n",
      "윤인성\t368\t92.0\n",
      "연하진\t384\t96.0\n",
      "구지연\t356\t89.0\n",
      "나선주\t378\t94.5\n",
      "윤아린\t389\t97.25\n",
      "윤명월\t336\t84.0\n"
     ]
    }
   ],
   "source": [
    "students = [\n",
    "            {\"name\":\"윤인성\",\"korean\":87,\"math\":98,\"english\":88,\"science\":95},\n",
    "            {\"name\":\"연하진\",\"korean\":92,\"math\":98,\"english\":96,\"science\":98},\n",
    "            {\"name\":\"구지연\",\"korean\":76,\"math\":96,\"english\":94,\"science\":90},\n",
    "            {\"name\":\"나선주\",\"korean\":98,\"math\":92,\"english\":96,\"science\":92},\n",
    "            {\"name\":\"윤아린\",\"korean\":95,\"math\":98,\"english\":98,\"science\":98},\n",
    "            {\"name\":\"윤명월\",\"korean\":64,\"math\":88,\"english\":92,\"science\":92}\n",
    "           ]\n",
    "\n",
    "print(\"이름\", \"총점\", \"평균\", sep=\"\\t\")\n",
    "\n",
    "for student in students:\n",
    "    score_sum = student[\"korean\"] + student[\"math\"] + student[\"english\"] + student[\"science\"]\n",
    "    score_average = score_sum / (len(students[0].values())-1)\n",
    "    print(student[\"name\"], score_sum, score_average, sep=\"\\t\")\n"
   ]
  },
  {
   "cell_type": "code",
   "execution_count": 11,
   "id": "57ddd57a",
   "metadata": {},
   "outputs": [
    {
     "name": "stdout",
     "output_type": "stream",
     "text": [
      "이름\t총점\t평균\n",
      "윤인성\t368\t92.0\n",
      "연하진\t384\t96.0\n",
      "구지연\t356\t89.0\n",
      "나선주\t378\t94.5\n",
      "윤아린\t389\t97.25\n",
      "윤명월\t336\t84.0\n"
     ]
    }
   ],
   "source": [
    "def create_student(name, korean, math, english, science):\n",
    "    return{\"name\":name, \"korean\": korean, \"math\":math, \"english\":english, \"science\":science}\n",
    "students = [\n",
    "             create_student(\"윤인성\",87,98,88,95),\n",
    "             create_student(\"연하진\",92,98,96,98),\n",
    "             create_student(\"구지연\",76,96,94,90),\n",
    "             create_student(\"나선주\",98,92,96,92),\n",
    "             create_student(\"윤아린\",95,98,98,98),\n",
    "             create_student(\"윤명월\",64,88,92,92)\n",
    "            ]\n",
    "\n",
    "print(\"이름\", \"총점\", \"평균\", sep=\"\\t\")\n",
    "\n",
    "for student in students:\n",
    "    score_sum = student[\"korean\"] + student[\"math\"] + student[\"english\"] + student[\"science\"]\n",
    "    score_average = score_sum / (len(students[0].values())-1)\n",
    "    print(student[\"name\"], score_sum, score_average, sep=\"\\t\")"
   ]
  },
  {
   "cell_type": "code",
   "execution_count": 14,
   "id": "9477cf12",
   "metadata": {},
   "outputs": [
    {
     "name": "stdout",
     "output_type": "stream",
     "text": [
      "이름\t총점\t평균\n",
      "윤인성\t368\t92.0\n",
      "연하진\t384\t96.0\n",
      "구지연\t356\t89.0\n",
      "나선주\t378\t94.5\n",
      "윤아린\t389\t97.25\n",
      "윤명월\t336\t84.0\n"
     ]
    }
   ],
   "source": [
    "def create_student(name, korean, math, english, science):\n",
    "    return {\"name\":name, \"korean\":korean, \"math\":math, \"english\":english, \"science\":science}\n",
    "\n",
    "def student_get_sum(student):\n",
    "    return student[\"korean\"] + student[\"math\"] + student[\"english\"] + student[\"science\"]\n",
    "\n",
    "def student_get_average(student):\n",
    "    return student_get_sum(student) / (len(student.values())-1)\n",
    "\n",
    "def student_to_string(student):\n",
    "    return f'{student[\"name\"]}\\t{student_get_sum(student)}\\t{student_get_average(student)}'\n",
    "\n",
    "students = [\n",
    "             create_student(\"윤인성\",87,98,88,95),\n",
    "             create_student(\"연하진\",92,98,96,98),\n",
    "             create_student(\"구지연\",76,96,94,90),\n",
    "             create_student(\"나선주\",98,92,96,92),\n",
    "             create_student(\"윤아린\",95,98,98,98),\n",
    "             create_student(\"윤명월\",64,88,92,92)\n",
    "           ]\n",
    "\n",
    "print(\"이름\", \"총점\", \"평균\", sep= \"\\t\")\n",
    "\n",
    "for student in students:\n",
    "    print(student_to_string(student))"
   ]
  },
  {
   "cell_type": "code",
   "execution_count": 15,
   "id": "eba0e092",
   "metadata": {},
   "outputs": [
    {
     "name": "stdout",
     "output_type": "stream",
     "text": [
      "이름\t총점\t평균\n",
      "윤인성\t368\t92.0\n",
      "연하진\t384\t96.0\n",
      "구지연\t356\t89.0\n",
      "나선주\t378\t94.5\n",
      "윤아린\t389\t97.25\n",
      "윤아린\t389\t97.25\n"
     ]
    }
   ],
   "source": [
    "class Student:\n",
    "    def __init__(self, name, korean, math, english, science):\n",
    "        self.name = name\n",
    "        self.korean = korean\n",
    "        self.math = math\n",
    "        self.english = english\n",
    "        self.science = science\n",
    "    \n",
    "    def get_sum(self):\n",
    "        return self.korean + self.math + self.english + self.science\n",
    "    def get_average(self):\n",
    "        return self.get_sum() / 4\n",
    "    \n",
    "    def __str__(self):\n",
    "        return f'{self.name}\\t{self.get_sum()}\\t{self.get_average()}'\n",
    "    \n",
    "students = [\n",
    "             Student(\"윤인성\",87,98,88,95),\n",
    "             Student(\"연하진\",92,98,96,98),\n",
    "             Student(\"구지연\",76,96,94,90),\n",
    "             Student(\"나선주\",98,92,96,92),\n",
    "             Student(\"윤아린\",95,98,98,98),\n",
    "             Student(\"윤아린\",95,98,98,98),\n",
    "           ]        \n",
    "\n",
    "print(\"이름\", \"총점\", \"평균\", sep=\"\\t\")\n",
    "\n",
    "for student in students:\n",
    "    print(student)"
   ]
  },
  {
   "cell_type": "code",
   "execution_count": 18,
   "id": "4ab08f6e",
   "metadata": {},
   "outputs": [
    {
     "name": "stdout",
     "output_type": "stream",
     "text": [
      "isinstance(s1, Student2) : True\n",
      "isinstance(s2, Student2) : True\n",
      "isinstance(s1, Teacher) : False\n",
      "isinstance(s2, Teacher) : False\n",
      "isinstance(t1, Student2) : False\n",
      "isinstance(t2, Student2) : False\n",
      "isinstance(t1, Teacher) : True\n",
      "isinstance(t2, Teacher) : True\n"
     ]
    }
   ],
   "source": [
    "class Teacher:\n",
    "    def __init__(self, name):\n",
    "        self.name = name\n",
    "class Student2:\n",
    "    def __init__(self, name):\n",
    "        self.name = name\n",
    "\n",
    "s1 = Student2(\"글로벌\")\n",
    "s2 = Student2(\"아이티\")\n",
    "t1 = Teacher(\"인재\")\n",
    "t2 = Teacher(\"개발원\")\n",
    "\n",
    "print(\"isinstance(s1, Student2) :\",isinstance(s1, Student2))\n",
    "print(\"isinstance(s2, Student2) :\",isinstance(s2, Student2))\n",
    "print(\"isinstance(s1, Teacher) :\",isinstance(s1, Teacher))\n",
    "print(\"isinstance(s2, Teacher) :\",isinstance(s2, Teacher))\n",
    "print(\"isinstance(t1, Student2) :\",isinstance(t1, Student2))\n",
    "print(\"isinstance(t2, Student2) :\",isinstance(t2, Student2))\n",
    "print(\"isinstance(t1, Teacher) :\",isinstance(t1, Teacher))\n",
    "print(\"isinstance(t2, Teacher) :\",isinstance(t2, Teacher))"
   ]
  },
  {
   "cell_type": "code",
   "execution_count": 20,
   "id": "36fa5630",
   "metadata": {},
   "outputs": [
    {
     "name": "stdout",
     "output_type": "stream",
     "text": [
      "공부를 합니다\n",
      "공부를 합니다\n",
      "학생을 가르칩니다\n",
      "공부를 합니다\n",
      "학생을 가르칩니다\n"
     ]
    }
   ],
   "source": [
    "class Student3:\n",
    "    def study(self):\n",
    "        print(\"공부를 합니다\")\n",
    "\n",
    "class Teacher3:\n",
    "    def teach(self):\n",
    "        print(\"학생을 가르칩니다\")\n",
    "        \n",
    "classroom = [Student3(), Student3(), Teacher3(), Student3(), Teacher3()]        \n",
    "\n",
    "s1 = Student3()\n",
    "s2 = Student3()\n",
    "t1 = Teacher3()\n",
    "s3 = Student3()\n",
    "t2 = Teacher3()\n",
    "classroom = [s1, s2, t1, s3, t2]\n",
    "\n",
    "for person in classroom:\n",
    "    if isinstance(person, Student3):\n",
    "        person.study()\n",
    "    elif isinstance(person, Teacher3):\n",
    "        person.teach()"
   ]
  },
  {
   "cell_type": "code",
   "execution_count": 25,
   "id": "ffd7a876",
   "metadata": {},
   "outputs": [
    {
     "name": "stdout",
     "output_type": "stream",
     "text": [
      "yoon == yeon : False\n",
      "yoon != yeon : True\n",
      "yoon > yeon : False\n",
      "yoon >= yeon : False\n",
      "yoon < yeon : False\n",
      "yoon <= yeon : True\n",
      "--------------------------------------------------\n",
      "yoon.__eq__(yeon) : False\n",
      "yoon.__ne__(yeon) : True\n",
      "yoon.__gt__(yeon) : False\n",
      "yoon.__ge__(yeon) : NotImplemented\n",
      "yoon.__lt__(yeon) : False\n",
      "yoon.__le__(yeon) : True\n"
     ]
    }
   ],
   "source": [
    "class Student4:\n",
    "    def __init__(self, name, korean, math, english, science):\n",
    "        self.name = name\n",
    "        self.korean = korean\n",
    "        self.math = math\n",
    "        self.english = english\n",
    "        self.science = science\n",
    "        \n",
    "    def get_sum(self):\n",
    "        return self.korean + self.math + self.english + self.science\n",
    "    \n",
    "    def get_average(self):\n",
    "        return self.get_sum()/4\n",
    "    \n",
    "    def __str__(self):\n",
    "        return f'{self.name}\\t{self.get_sum()}\\t{self.get_average()}'\n",
    "    \n",
    "    def __eq__(self, value):\n",
    "        return self.get_sum() == value.get_sum()\n",
    "    def __ne__(self, value):\n",
    "        return self.get_sum() != value.get_sum()\n",
    "    def __gt__(self, value):\n",
    "        return self.get_sum() > value.get_sum()\n",
    "    def __lt__ (self, value):\n",
    "        return self.get_sum() > value.get_sum()\n",
    "    def __le__(self, value):\n",
    "        return self.get_sum() <= value.get_sum()\n",
    "    \n",
    "yoon = Student4(\"윤인성\",87,98,88,95)\n",
    "yeon = Student4(\"연하진\",92,98,96,98)\n",
    "\n",
    "print(\"yoon == yeon :\", yoon == yeon)\n",
    "print(\"yoon != yeon :\", yoon != yeon)\n",
    "print(\"yoon > yeon :\", yoon > yeon)\n",
    "print(\"yoon >= yeon :\", yoon >= yeon)\n",
    "print(\"yoon < yeon :\", yoon < yeon)\n",
    "print(\"yoon <= yeon :\", yoon <= yeon)\n",
    "print(\"-\" * 50)\n",
    "print(\"yoon.__eq__(yeon) :\",yoon.__eq__(yeon))\n",
    "print(\"yoon.__ne__(yeon) :\",yoon.__ne__(yeon))\n",
    "print(\"yoon.__gt__(yeon) :\",yoon.__gt__(yeon))\n",
    "print(\"yoon.__ge__(yeon) :\",yoon.__ge__(yeon))\n",
    "print(\"yoon.__lt__(yeon) :\",yoon.__lt__(yeon))\n",
    "print(\"yoon.__le__(yeon) :\",yoon.__le__(yeon))"
   ]
  },
  {
   "cell_type": "code",
   "execution_count": null,
   "id": "fa003752",
   "metadata": {},
   "outputs": [],
   "source": []
  }
 ],
 "metadata": {
  "kernelspec": {
   "display_name": "Python 3 (ipykernel)",
   "language": "python",
   "name": "python3"
  },
  "language_info": {
   "codemirror_mode": {
    "name": "ipython",
    "version": 3
   },
   "file_extension": ".py",
   "mimetype": "text/x-python",
   "name": "python",
   "nbconvert_exporter": "python",
   "pygments_lexer": "ipython3",
   "version": "3.9.12"
  }
 },
 "nbformat": 4,
 "nbformat_minor": 5
}
