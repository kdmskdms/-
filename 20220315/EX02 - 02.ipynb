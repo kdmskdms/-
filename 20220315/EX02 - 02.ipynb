{
 "cells": [
  {
   "cell_type": "code",
   "execution_count": 1,
   "id": "8f0c0d04",
   "metadata": {},
   "outputs": [
    {
     "name": "stdout",
     "output_type": "stream",
     "text": [
      "card1 : 너비 : 0, 높이 : 125, 모양: 스페이드, 번호 :5\n",
      "card2: 너비 : 0, 높이 : 125, 모양: 하트, 번호 :7\n"
     ]
    }
   ],
   "source": [
    "class Card:\n",
    "    width = 0\n",
    "    height = 125\n",
    "    def __init__(self, shape, number):\n",
    "        self.shape = shape\n",
    "        self.number = number\n",
    "    \n",
    "    def __str__(self):\n",
    "        return f\"너비 : {Card.width}, 높이 : {Card.height}, 모양: {self.shape}, 번호 :{self.number}\"\n",
    "card1 = Card(\"스페이드\", 5)\n",
    "print(\"card1 :\", card1)\n",
    "\n",
    "card2 = Card(\"하트\", 7)\n",
    "print(\"card2:\", card2)\n"
   ]
  },
  {
   "cell_type": "code",
   "execution_count": 2,
   "id": "60be6381",
   "metadata": {},
   "outputs": [
    {
     "name": "stdout",
     "output_type": "stream",
     "text": [
      "card1: 너비 : 100, 높이 : 250, 모양 : 스페이드, 번호 : 5\n",
      "card2: 너비 : 100, 높이 : 250, 모양 : 하트, 번호 : 7\n",
      "card2 : 너비 : 100, 높이 : 250, 모양 : 다이아몬드, 번호 : 2\n",
      "card2 : 너비 : 100, 높이 : 250, 모양 : 클로바, 번호 : 6\n"
     ]
    }
   ],
   "source": [
    "class Card:\n",
    "\n",
    "    width = 100\n",
    "    height = 250\n",
    "    \n",
    "    def __init__(self, width, height, shape, number):\n",
    "        self.width = width\n",
    "        self.height = height\n",
    "        self.shape = shape\n",
    "        self.number = number\n",
    "    \n",
    "    def __str__(self):\n",
    "        return f\"너비 : {self.width}, 높이 : {self.height}, 모양 : {self.shape}, 번호 : {self.number}\"\n",
    "    \n",
    "card1 = Card(100, 250, \"스페이드\", 5)\n",
    "print(\"card1:\", card1)\n",
    "\n",
    "card2 = Card(100, 250, \"하트\",7)\n",
    "print(\"card2:\", card2)\n",
    "\n",
    "card3 = Card(100, 250, \"다이아몬드\", 2)\n",
    "print(\"card2 :\", card3)\n",
    "\n",
    "card4 = Card(100, 250, \"클로바\", 6)\n",
    "print(\"card2 :\", card4)"
   ]
  },
  {
   "cell_type": "code",
   "execution_count": 5,
   "id": "41da071c",
   "metadata": {},
   "outputs": [
    {
     "name": "stdout",
     "output_type": "stream",
     "text": [
      "너비 : 100, 높이 : 250\n",
      "card1 : 너비 : 100, 높이 : 250, 모양 : 스페이드, 번호 : 5\n",
      "card2 : 너비 : 100, 높이 : 250, 모양 : 하트, 번호 : 7\n",
      "card2 : 너비 : 100, 높이 : 250, 모양 : 다이아몬드, 번호 : 2\n",
      "card2 : 너비 : 100, 높이 : 250, 모양 : 클로바, 번호 : 6\n"
     ]
    }
   ],
   "source": [
    "class Card2:\n",
    "    width= 100\n",
    "    height = 250\n",
    "\n",
    "    def __init__(self, shape, number):\n",
    "        self.shape = shape\n",
    "        self.number = number\n",
    "    \n",
    "    def __str__(self):\n",
    "        return f\"너비 : {Card2.width}, 높이 : {Card2.height}, 모양 : {self.shape}, 번호 : {self.number}\"\n",
    "\n",
    "# Card2 객체 생성 전    \n",
    "print(f\"너비 : {Card2.width}, 높이 : {Card2.height}\")\n",
    "    \n",
    "card1 = Card2(\"스페이드\", 5)\n",
    "print(\"card1 :\", card1)\n",
    "\n",
    "card2 = Card2(\"하트\", 7)\n",
    "print(\"card2 :\", card2)\n",
    "\n",
    "card3 = Card2(\"다이아몬드\", 2)\n",
    "print(\"card2 :\", card3)\n",
    "\n",
    "card4 = Card2(\"클로바\", 6)\n",
    "print(\"card2 :\", card4)"
   ]
  },
  {
   "cell_type": "code",
   "execution_count": 8,
   "id": "bcb4d769",
   "metadata": {},
   "outputs": [
    {
     "name": "stdout",
     "output_type": "stream",
     "text": [
      "클래스 맴버변수 사용: 1번째 학생이 생성되었습니다.\n",
      "인스턴스 맴버변수 사용: 1번째 학생이 생성되었습니다.\n",
      "================================================================================\n",
      "클래스 맴버변수 사용: 2번째 학생이 생성되었습니다.\n",
      "인스턴스 맴버변수 사용: 2번째 학생이 생성되었습니다.\n",
      "================================================================================\n",
      "클래스 맴버변수 사용: 3번째 학생이 생성되었습니다.\n",
      "인스턴스 맴버변수 사용: 3번째 학생이 생성되었습니다.\n",
      "================================================================================\n",
      "클래스 맴버변수 사용: 4번째 학생이 생성되었습니다.\n",
      "인스턴스 맴버변수 사용: 4번째 학생이 생성되었습니다.\n",
      "================================================================================\n",
      "클래스 맴버변수 사용: 5번째 학생이 생성되었습니다.\n",
      "인스턴스 맴버변수 사용: 5번째 학생이 생성되었습니다.\n",
      "================================================================================\n",
      "인스턴스 맴버변수 사용: 현재 생성된 총 학생 수는 5명 입니다\n",
      "인스턴스 맴버변수 사용: s1.number: 1\n",
      "인스턴스 맴버변수 사용: s2.number: 2\n",
      "인스턴스 맴버변수 사용: s3.number: 3\n",
      "인스턴스 맴버변수 사용: s4.number: 4\n",
      "인스턴스 맴버변수 사용: s5.number: 5\n"
     ]
    }
   ],
   "source": [
    "class Student:\n",
    "    count = 0\n",
    "    \n",
    "    def __init__(self, name, korean, math, english, science):\n",
    "        self.number = 0\n",
    "        self.name = name\n",
    "        self.korean = korean\n",
    "        self.math = math\n",
    "        self.english = english\n",
    "        self.science = science\n",
    "        \n",
    "\n",
    "        #클래스 변수 설정\n",
    "        Student.count += 1\n",
    "        #아래의 두 code 비교하기\n",
    "        #self.number = Student.count\n",
    "        self.number = Student.count\n",
    "        print(\"클래스 맴버변수 사용: {}번째 학생이 생성되었습니다.\".format(Student.count))\n",
    "        print(\"인스턴스 맴버변수 사용: {}번째 학생이 생성되었습니다.\".format(self.number))\n",
    "        print(\"=\" * 80)\n",
    "\n",
    "        \n",
    "s1 = Student(\"윤인성\",87,98,88,95)\n",
    "s2 = Student(\"연하진\",92,98,96,98)\n",
    "s3 = Student(\"구지연\",76,96,94,90)\n",
    "s4 = Student(\"나선주\",98,92,96,92)\n",
    "s5 = Student(\"윤아린\",95,98,98,98)\n",
    "\n",
    "print(\"인스턴스 맴버변수 사용: 현재 생성된 총 학생 수는 {}명 입니다\".format(Student.count))\n",
    "print(\"인스턴스 맴버변수 사용: s1.number:\", s1.number)\n",
    "print(\"인스턴스 맴버변수 사용: s2.number:\", s2.number)\n",
    "print(\"인스턴스 맴버변수 사용: s3.number:\", s3.number)\n",
    "print(\"인스턴스 맴버변수 사용: s4.number:\", s4.number)\n",
    "print(\"인스턴스 맴버변수 사용: s5.number:\", s5.number)      "
   ]
  },
  {
   "cell_type": "code",
   "execution_count": 4,
   "id": "3fda1bc2",
   "metadata": {},
   "outputs": [
    {
     "name": "stdout",
     "output_type": "stream",
     "text": [
      "Person.number : 10\n",
      "p1.number : 10\n",
      "Person.number : 10\n",
      "p1.number: 20\n",
      "p2.number : 10\n"
     ]
    }
   ],
   "source": [
    "class Person:\n",
    "    number = 10\n",
    "    def __init(self):\n",
    "        self.name = \"글로벌\"\n",
    "        \n",
    "print(\"Person.number :\", Person.number)\n",
    "p1 = Person()\n",
    "print(\"p1.number :\", p1.number)\n",
    "\n",
    "p1.number = 20\n",
    "\n",
    "print(\"Person.number :\", Person.number)\n",
    "\n",
    "print(\"p1.number:\", p1.number)\n",
    "p2 = Person()\n",
    "print(\"p2.number :\", p2.number)"
   ]
  },
  {
   "cell_type": "code",
   "execution_count": 1,
   "id": "62907b05",
   "metadata": {},
   "outputs": [
    {
     "name": "stdout",
     "output_type": "stream",
     "text": [
      "식당이름 : 글로벌\n",
      "식당종류 : 한식\n",
      "식당주소 : 서울대입구역\n",
      "--------------------------------------------------\n",
      "식당 종류를 변경함\n",
      "식당이름 : 글로벌\n",
      "식당종류 : 양식\n",
      "식당주소 : 서울대입구역\n",
      "--------------------------------------------------\n",
      "한식, 양식, 중식 중 하나를 선택하세요\n",
      "식당이름 : 글로벌\n",
      "식당종류 : 양식\n",
      "식당주소 : 서울대입구역\n",
      "--------------------------------------------------\n",
      "식당이름 : 아이티\n",
      "식당종류 : 양식\n",
      "식당주소 : 사당역\n",
      "--------------------------------------------------\n",
      "식당 종류를 변경함\n",
      "식당이름 : 아이티\n",
      "식당종류 : 한식\n",
      "식당주소 : 사당역\n",
      "--------------------------------------------------\n"
     ]
    }
   ],
   "source": [
    "class Restaurant:\n",
    "    list_type = [\"한식\", \"양식\", \"중식\"]\n",
    "    \n",
    "    def __init__(self, name, restaurant_type, address):\n",
    "        self.name = name\n",
    "        self.__restaurant_type = restaurant_type\n",
    "        self.address = address\n",
    "    \n",
    "    @property\n",
    "    def restaurant_type(self):\n",
    "        return self.__restaurant_type\n",
    "    \n",
    "    @restaurant_type.setter\n",
    "    def restaurant_type(self, restaurant_type):\n",
    "        if restaurant_type in Restaurant.list_type:\n",
    "            self.__restaurant_type = restaurant_type\n",
    "            print(\"식당 종류를 변경함\")\n",
    "        else:\n",
    "            print(\"{} 중 하나를 선택하세요\".format(\", \".join(Restaurant.list_type)))\n",
    "    def display_info(self):\n",
    "        return(f\"식당이름 : {self.name}\\n\"\n",
    "               f\"식당종류 : {self.__restaurant_type}\\n\"\n",
    "               f\"식당주소 : {self.address}\")\n",
    "    \n",
    "rest1 = Restaurant(\"글로벌\", \"한식\", \"서울대입구역\")\n",
    "print(rest1.display_info())\n",
    "print(\"-\" * 50)\n",
    "\n",
    "rest1.restaurant_type = \"양식\"\n",
    "print(rest1.display_info())\n",
    "print(\"-\" * 50)\n",
    "\n",
    "rest1.restaurant_type = \"분식\"\n",
    "print(rest1.display_info())\n",
    "print(\"-\" * 50)\n",
    "\n",
    "# 식당 객체 생성하기\n",
    "rest2 = Restaurant(\"아이티\", \"양식\", \"사당역\")\n",
    "print(rest2.display_info())\n",
    "print(\"-\" * 50)\n",
    "\n",
    "rest2.restaurant_type = \"한식\"\n",
    "print(rest2.display_info())\n",
    "print(\"-\" * 50)\n"
   ]
  },
  {
   "cell_type": "code",
   "execution_count": 5,
   "id": "a1ab2d9b",
   "metadata": {},
   "outputs": [
    {
     "name": "stdout",
     "output_type": "stream",
     "text": [
      "[클래스 변수] DateProc.content : 날짜 처리 클래스\n",
      "2022-3-15\n",
      "2022 - 3 - 15\n",
      "2022년 03월 15일\n",
      "--------------------------------------------------\n"
     ]
    }
   ],
   "source": [
    "class DateProc:\n",
    "    content = \"날짜 처리 클래스\"\n",
    "    def __init__(self, year, month, day):\n",
    "        self.year = year\n",
    "        self.month = month\n",
    "        self.day = day \n",
    "    def display_date(self):\n",
    "        print(f\"{self.year} - {self.month} - {self.day}\")\n",
    "        \n",
    "    @classmethod\n",
    "    def date_string(cls, dateStr):\n",
    "        y = dateStr[:4]\n",
    "        m = dateStr[4:6]\n",
    "        d = dateStr[6:]\n",
    "        print(f\"{y}년 {m}월 {d}일\")\n",
    "\n",
    "print(\"[클래스 변수] DateProc.content :\",DateProc.content)      \n",
    "\n",
    "dp1 = DateProc(2022, 3, 15)\n",
    "print(f\"{dp1.year}-{dp1.month}-{dp1.day}\")\n",
    "dp1.display_date()\n",
    "DateProc.date_string(\"20220315\")\n",
    "print(\"-\" * 50)    "
   ]
  },
  {
   "cell_type": "code",
   "execution_count": 6,
   "id": "5f48a0a3",
   "metadata": {},
   "outputs": [
    {
     "name": "stdout",
     "output_type": "stream",
     "text": [
      "[클래스 변수] DateProc.content : 날짜 처리 클래스\n",
      "2022-3-15\n",
      "2022-3 - 15\n",
      "--------------------------------------------------\n",
      "2022 년 03 월 15 일\n",
      "--------------------------------------------------\n",
      "2022\n",
      "03\n",
      "15\n",
      "--------------------------------------------------\n",
      "2022-2-10\n"
     ]
    }
   ],
   "source": [
    "class DateProc:\n",
    "    content = \"날짜 처리 클래스\"\n",
    "    \n",
    "    def __init__(self, year, month, day):\n",
    "        self.year = year\n",
    "        self.month = month\n",
    "        self.day = day\n",
    "    def display_date(self):\n",
    "        print(f\"{self.year}-{self.month} - {self.day}\")\n",
    "        \n",
    "    @classmethod\n",
    "    def date_string(cls, dateStr):\n",
    "        cls.year = dateStr[:4]\n",
    "        cls.month = dateStr[4:6]\n",
    "        cls.day = dateStr[6:]\n",
    "        print(f\"{cls.year} 년 {cls.month} 월 {cls.day} 일\")\n",
    "\n",
    "print(\"[클래스 변수] DateProc.content :\",DateProc.content)      \n",
    "        \n",
    "dp1 = DateProc(2022, 3, 15)\n",
    "print(f\"{dp1.year}-{dp1.month}-{dp1.day}\")\n",
    "dp1.display_date()\n",
    "print(\"-\" * 50)\n",
    "\n",
    "DateProc.date_string(\"20220315\")\n",
    "print(\"-\" * 50)\n",
    "\n",
    "print(DateProc.year)\n",
    "print(DateProc.month)\n",
    "print(DateProc.day)\n",
    "print(\"-\" * 50)\n",
    "\n",
    "dp1 = DateProc(2022, 2, 10)\n",
    "print(f\"{dp1.year}-{dp1.month}-{dp1.day}\")"
   ]
  },
  {
   "cell_type": "code",
   "execution_count": 8,
   "id": "9f5a3e37",
   "metadata": {},
   "outputs": [
    {
     "name": "stdout",
     "output_type": "stream",
     "text": [
      "robot 가 0 대 제작되었습니다 : in class method\n",
      "--------------------------------------------------\n",
      "robot 가 1 대 제작되었습니다 : in class method\n",
      "robot 제작 번호 : 1 번 : in instance method\n",
      "robot 가 2 대 제작되었습니다 : in class method\n",
      "robot 제작 번호 : 2 번 : in instance method\n",
      "robot 가 3 대 제작되었습니다 : in class method\n",
      "robot 제작 번호 : 3 번 : in instance method\n"
     ]
    }
   ],
   "source": [
    "class Robot:\n",
    "    count_robot = 0\n",
    "    \n",
    "    def __init__(self):\n",
    "        Robot.count_robot += 1\n",
    "        self.robot_no = Robot.count_robot\n",
    "        \n",
    "    @classmethod\n",
    "    def display_count_robot_class(cls):\n",
    "        print(f\"robot 가 {cls.count_robot} 대 제작되었습니다 : in class method\")\n",
    "    \n",
    "    def display_count_robot_instance(self):\n",
    "        print(f\"robot 제작 번호 : {self.robot_no} 번 : in instance method\")\n",
    "        \n",
    "Robot.display_count_robot_class()\n",
    "print(\"-\" * 50)\n",
    "\n",
    "r1 = Robot()\n",
    "Robot.display_count_robot_class()\n",
    "r1.display_count_robot_instance()        \n",
    "\n",
    "r2 = Robot()\n",
    "Robot.display_count_robot_class()\n",
    "r2.display_count_robot_instance()   \n",
    "\n",
    "r3 = Robot()\n",
    "Robot.display_count_robot_class()\n",
    "r3.display_count_robot_instance()   "
   ]
  },
  {
   "cell_type": "code",
   "execution_count": 10,
   "id": "45fa35fa",
   "metadata": {},
   "outputs": [
    {
     "name": "stdout",
     "output_type": "stream",
     "text": [
      "--------- 학생 목록 ---------\n",
      "번호\t이름\t총점\t평균\n",
      "------------------------------\n",
      "1\t윤인성\t368\t92.0\n",
      "2\t연하진\t384\t96.0\n",
      "3\t구지연\t356\t89.0\n",
      "4\t나선주\t378\t94.5\n",
      "5\t윤아린\t389\t97.25\n",
      "------------------------------\n"
     ]
    }
   ],
   "source": [
    "class Student:\n",
    "    \n",
    "    count = 0\n",
    "    students = []\n",
    "    \n",
    "    @classmethod\n",
    "    def print_score(cls):\n",
    "        print(\"--------- 학생 목록 ---------\")\n",
    "        print(\"번호\\t이름\\t총점\\t평균\")\n",
    "        print(\"-\" * 30)\n",
    "        for student in cls.students:\n",
    "            print(student)\n",
    "        print(\"-\" * 30)    \n",
    "    \n",
    "    def __init__(self, name, korean, math, english, science):\n",
    "        self.number = 0\n",
    "        self.name = name\n",
    "        self.korean = korean\n",
    "        self.math = math\n",
    "        self.english = english\n",
    "        self.science = science\n",
    "        \n",
    "        Student.count += 1\n",
    "        self.number = Student.count\n",
    "        Student.students.append(self)\n",
    "        \n",
    "    def get_sum(self):\n",
    "        return self.korean + self.math + self.english + self.science\n",
    "    \n",
    "    def get_average(self):\n",
    "        return self.get_sum() / 4\n",
    "    def __str__(self):\n",
    "        return f\"{self.number}\\t{self.name}\\t{self.get_sum()}\\t{self.get_average()}\"\n",
    "    \n",
    "s1 = Student(\"윤인성\",87,98,88,95)\n",
    "s2 = Student(\"연하진\",92,98,96,98)\n",
    "s3 = Student(\"구지연\",76,96,94,90)\n",
    "s4 = Student(\"나선주\",98,92,96,92)\n",
    "s5 = Student(\"윤아린\",95,98,98,98)\n",
    "\n",
    "Student.print_score()"
   ]
  },
  {
   "cell_type": "code",
   "execution_count": null,
   "id": "3fcb71dc",
   "metadata": {},
   "outputs": [],
   "source": []
  }
 ],
 "metadata": {
  "kernelspec": {
   "display_name": "Python 3 (ipykernel)",
   "language": "python",
   "name": "python3"
  },
  "language_info": {
   "codemirror_mode": {
    "name": "ipython",
    "version": 3
   },
   "file_extension": ".py",
   "mimetype": "text/x-python",
   "name": "python",
   "nbconvert_exporter": "python",
   "pygments_lexer": "ipython3",
   "version": "3.9.7"
  }
 },
 "nbformat": 4,
 "nbformat_minor": 5
}
